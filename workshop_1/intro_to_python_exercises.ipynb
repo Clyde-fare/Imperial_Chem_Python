{
 "metadata": {
  "name": ""
 },
 "nbformat": 3,
 "nbformat_minor": 0,
 "worksheets": [
  {
   "cells": [
    {
     "cell_type": "heading",
     "level": 1,
     "metadata": {},
     "source": [
      "Workshop 1 exercises"
     ]
    },
    {
     "cell_type": "markdown",
     "metadata": {},
     "source": [
      "In these exercises you will write functions that perform a particular task. People often document their code by including strings inside functions that describe what the function does and what the arguments are. This string is included directly below the function signature, it has no effect on the processing the function performs.\n",
      "\n",
      "For the exercises we are using this string to specify how we want the function to behave. It shows examples of the function being used along with what output we expect to be produced. \n",
      "\n",
      "That sounds more complicated that it is so here's an example to get the idea."
     ]
    },
    {
     "cell_type": "code",
     "collapsed": false,
     "input": [
      "def identity(var):\n",
      "    '''\n",
      "    >>> identity('a')\n",
      "    'a'\n",
      "    >>>identity(123)\n",
      "    123\n",
      "    >>>identity([1, 2, 3])\n",
      "    [1, 2, 3]\n",
      "    '''"
     ],
     "language": "python",
     "metadata": {},
     "outputs": []
    },
    {
     "cell_type": "markdown",
     "metadata": {},
     "source": [
      "Your job would be to add content to the identity function (below the string) such that calling this function with 'a' as an argument would mean the function returns 'a', likewise calling the function with 123 as an argument would return 123. \n",
      "\n",
      "The solution is to return the variable we are passing in:"
     ]
    },
    {
     "cell_type": "code",
     "collapsed": false,
     "input": [
      "def identity(var):\n",
      "    '''\n",
      "    >>> identity('a')\n",
      "    'a'\n",
      "    >>>identity(123)\n",
      "    123\n",
      "    >>>identity( [1, 2, 3] )\n",
      "    [1, 2, 3]\n",
      "    '''\n",
      "    return var"
     ],
     "language": "python",
     "metadata": {},
     "outputs": []
    },
    {
     "cell_type": "markdown",
     "metadata": {},
     "source": [
      "Lets check it works the way we expect it to:\n",
      "\n",
      "    identity('a')"
     ]
    },
    {
     "cell_type": "code",
     "collapsed": false,
     "input": [],
     "language": "python",
     "metadata": {},
     "outputs": []
    },
    {
     "cell_type": "markdown",
     "metadata": {},
     "source": [
      "    identity(123)"
     ]
    },
    {
     "cell_type": "code",
     "collapsed": false,
     "input": [],
     "language": "python",
     "metadata": {},
     "outputs": []
    },
    {
     "cell_type": "markdown",
     "metadata": {},
     "source": [
      "    identity([1, 2, 3])"
     ]
    },
    {
     "cell_type": "code",
     "collapsed": false,
     "input": [],
     "language": "python",
     "metadata": {},
     "outputs": []
    },
    {
     "cell_type": "markdown",
     "metadata": {},
     "source": [
      "*Remember: if you want to create another code cell to try out some code you can always press one of the create new cell buttons: <img src=files/notebook_create_code_cell.jpg></img>*"
     ]
    },
    {
     "cell_type": "heading",
     "level": 1,
     "metadata": {},
     "source": [
      "Exercise 1"
     ]
    },
    {
     "cell_type": "markdown",
     "metadata": {},
     "source": [
      "\n",
      "\n",
      "1.1: hello(name)\n",
      "----------------\n",
      "\n",
      "Given a string *name*, return a string of the form \"Hello &lt;name>! How are you?\".\n",
      "\n",
      "If you need them, we have <span style=\"text-decoration:underline\" title=\"\n",
      "- You can join strings together (called `concatenation`) using '+'.\n",
      "- Use the return keyword to return your new string.\n",
      "- Don't forget the exclamation point! :)\n",
      "\">Hints</span> (hover over with your mouse to see them) "
     ]
    },
    {
     "cell_type": "code",
     "collapsed": false,
     "input": [
      "def hello(name):\n",
      "    '''\n",
      "    >>> hello('Joao')\n",
      "    'Hello Joao! How are you?'\n",
      "    >>> hello('Bryan')\n",
      "    'Hello Bryan! How are you?'\n",
      "    >>> hello('Will')\n",
      "    'Hello Will! How are you?'\n",
      "    '''"
     ],
     "language": "python",
     "metadata": {},
     "outputs": [],
     "prompt_number": 32
    },
    {
     "cell_type": "markdown",
     "metadata": {},
     "source": [
      "1.2: cube(i)\n",
      "-------\n",
      "\n",
      "given a number, return the cube of that number. \n",
      "\n",
      "<span style=\"text-decoration:underline\" title=\"- You can use '*' for multiplication. You can also use the exponent operator '**'.\n",
      "- Don't forget to return your answer.\">Hints</span>"
     ]
    },
    {
     "cell_type": "code",
     "collapsed": false,
     "input": [
      "def cube(i):\n",
      "    '''\n",
      "    >>> cube(1)\n",
      "    1\n",
      "    >>> cube(2)\n",
      "    8\n",
      "    >>> cube(3)\n",
      "    27\n",
      "    '''"
     ],
     "language": "python",
     "metadata": {},
     "outputs": []
    },
    {
     "cell_type": "markdown",
     "metadata": {},
     "source": [
      "1.3: too_long_for_twitter(my_string)\n",
      "---------------------------\n",
      "\n",
      "Twitter messages can't be more than 140 characters. Given a string my_string, return True if the string is longer that 140 characters, and return False if the string is less than or equal to 140 characters. \n",
      "\n",
      "<span style=\"text-decoration:underline\" title=\"- Check your notes on the len() function\n",
      "- Check your notes on <, >, <=, >=\">Hints</span>"
     ]
    },
    {
     "cell_type": "code",
     "collapsed": false,
     "input": [
      "def too_long_for_twitter(my_string):\n",
      "    '''\n",
      "    >>> too_long_for_twitter('The Analytical Engine weaves algebraic patterns, just as the Jacquard loom weaves flowers and leaves.' +\n",
      "    ... '-- Ada Lovelace, the first programmer')\n",
      "    False\n",
      "    >>> too_long_for_twitter('Four score and seven years ago our fathers brought forth on this continent a new nation, ' +\n",
      "    ... 'conceived in liberty, and dedicated to the proposition that all men are created equal.')\n",
      "    True\n",
      "    >>> too_long_for_twitter('They told me computers could only do arithmetic. -- Computer pioneer Grace Hopper')\n",
      "    False\n",
      "    '''"
     ],
     "language": "python",
     "metadata": {},
     "outputs": []
    },
    {
     "cell_type": "markdown",
     "metadata": {},
     "source": [
      "1.4: multiply_string(my_string, num_repetitions))\n",
      "-----------------------------------------\n",
      "\n",
      "Given a string my_string and a number num_repetitions, return my_string multiplied num_repetitions times. \n",
      "\n",
      "\n",
      "<span style=\"text-decoration:underline\" title=\"Try this at a Python prompt: \n",
      "print('z'*5)\">Hints</span>"
     ]
    },
    {
     "cell_type": "code",
     "collapsed": false,
     "input": [
      "def multiply_string(my_string, num_repetitions):\n",
      "    '''\n",
      "    >>> multiply_string('a', 4)\n",
      "    'aaaa'\n",
      "    >>> multiply_string('Hello', 2)\n",
      "    'HelloHello'\n",
      "    >>> multiply_string('Python', 3)\n",
      "    'PythonPythonPython'\n",
      "    '''\n"
     ],
     "language": "python",
     "metadata": {},
     "outputs": []
    },
    {
     "cell_type": "markdown",
     "metadata": {},
     "source": [
      "Exercise 2\n",
      "=============================="
     ]
    },
    {
     "cell_type": "markdown",
     "metadata": {},
     "source": [
      "2.1: greatest(x, y, z)\n",
      "-----------------\n",
      "\n",
      "Given numbers x, y, and z, return the greatest of these three numbers. \n",
      "\n",
      "<span style=\"text-decoration:underline\" title=\"- You can use the 'and' keyword to check multiple conditions in an 'if' statement\n",
      "- You might end up using multiple 'if' statements\">Hints</span>"
     ]
    },
    {
     "cell_type": "code",
     "collapsed": false,
     "input": [
      "def greatest(x, y, z):\n",
      "    '''\n",
      "    >>> greatest(3, 9, 6)\n",
      "    9\n",
      "    >>> greatest(0.5, 0.25, 0)\n",
      "    0.5\n",
      "    >>> greatest(4, 5, 5)\n",
      "    5\n",
      "    '''"
     ],
     "language": "python",
     "metadata": {},
     "outputs": []
    },
    {
     "cell_type": "markdown",
     "metadata": {},
     "source": [
      "2.2: calculate(num)\n",
      "--------------\n",
      "\n",
      "Given a number *num*, return a number equal to:\n",
      "Adding 3 to *num*, multiplying the result by 2, subtracting 4, subtracting twice *num* and adding 3.\n",
      "\n",
      "<span style=\"text-decoration:underline\" title=\"\n",
      "- Use temporary variables to split the calculation up into several pieces. \n",
      "\">Hints</span>"
     ]
    },
    {
     "cell_type": "code",
     "collapsed": false,
     "input": [
      "def calculate(num):\n",
      "    '''\n",
      "    >>> calculate(2)\n",
      "    5\n",
      "    >>> calculate(5)\n",
      "    5\n",
      "    >>> calculate(289.5)\n",
      "    5.0\n",
      "    '''"
     ],
     "language": "python",
     "metadata": {},
     "outputs": [],
     "prompt_number": 41
    },
    {
     "cell_type": "markdown",
     "metadata": {},
     "source": [
      "2.3: menu_specials(vegetable, entree)\n",
      "-------------------------------\n",
      "\n",
      "Given a string vegetable and a string entree, return the string \"Today our specials are: &lt;vegetable&gt; and &lt;entree&gt;\". \n",
      "\n",
      "<span style=\"text-decoration:underline\" title=\"- Review use of single and double quote marks together in strings.\n",
      "- Remember to return instead of printing. What's the difference between returning and printing?\">Hints</span>"
     ]
    },
    {
     "cell_type": "code",
     "collapsed": false,
     "input": [
      "def menu_specials(vegetable, entree):\n",
      "    '''\n",
      "    >>> menu_specials('asparagus', 'pasta primavera')\n",
      "    'Today our specials are: asparagus and pasta primavera'\n",
      "    >>> menu_specials('artichoke', 'steak frites')\n",
      "    'Today our specials are: artichoke and steak frites'\n",
      "    >>> menu_specials('kale', 'fondue')\n",
      "    'Today our specials are: kale and fondue'\n",
      "    '''\n",
      "    "
     ],
     "language": "python",
     "metadata": {},
     "outputs": []
    },
    {
     "cell_type": "markdown",
     "metadata": {},
     "source": [
      "2.4: make_HTML(tag, word)\n",
      "-------------------\n",
      "\n",
      "Web pages use \"HTML markup\" to style their text. For example, \"&lt;i&gt;Test&lt;/i&gt;\" causes the string \"Test\" to be displayed in italics. In this example, the \"i\" tag surrounds the string \"Test\" starting with &lt;i&gt; and ending with &lt;/i&gt;. Given a string tag and a string word, return the word with HTML tags around it, for example \"&lt;i&gt;Test&lt;/i&gt;\". \n",
      "\n",
      "<span style=\"text-decoration:underline\" title=\"- Use '+' to join strings together (called 'concatenation')\n",
      "- Try writing this function at a Python prompt and printing the string you are forming to make sure it looks right.\">Hints</span>"
     ]
    },
    {
     "cell_type": "code",
     "collapsed": false,
     "input": [
      "def make_HTML(tag, word):\n",
      "    '''\n",
      "    >>> make_HTML('i', 'Test')\n",
      "    '<i>Test</i>'\n",
      "    >>> make_HTML('b', 'Important!')\n",
      "    '<b>Important!</b>'\n",
      "    >>> make_HTML('code', 'variable')\n",
      "    '<code>variable</code>'\n",
      "    '''"
     ],
     "language": "python",
     "metadata": {},
     "outputs": []
    },
    {
     "cell_type": "heading",
     "level": 1,
     "metadata": {},
     "source": [
      "Exercise 3"
     ]
    },
    {
     "cell_type": "markdown",
     "metadata": {},
     "source": [
      "3.1: return_first_item(my_list)\n",
      "-----------------------\n",
      "\n",
      "Given a list, my_list, return the very first (what programmers might call \"zero-th\"), item in that list \n",
      "\n",
      "<span style=\"text-decoration:underline\" title=\"How do you access elements of a list?\">Hints</span>"
     ]
    },
    {
     "cell_type": "code",
     "collapsed": false,
     "input": [
      "def return_first_item(my_list):\n",
      "    '''\n",
      "    >>>\n",
      "    >>> return_first_item(['a', 'b', 'c'])\n",
      "    'a'\n",
      "    >>> return_first_item([4.5, 72, -1, 6])\n",
      "    4.5\n",
      "    >>> return_first_item(['Hermione', 'Ron', 'Harry'])\n",
      "    'Hermione'\n",
      "    '''"
     ],
     "language": "python",
     "metadata": {},
     "outputs": []
    },
    {
     "cell_type": "markdown",
     "metadata": {},
     "source": [
      "3.2: add_exclamation(my_list)\n",
      "----------------------\n",
      "\n",
      "Given a list my_list, add a string \"!\" to the end of the list and return the list \n",
      "\n",
      "<span style=\"text-decoration:underline\" title=\"How do you access elements of a list.\">Hints</span>"
     ]
    },
    {
     "cell_type": "code",
     "collapsed": false,
     "input": [
      "def add_exclamation(my_list):\n",
      "    '''\n",
      "    >>> add_exclamation(['alpha', 'beta'])\n",
      "    ['alpha', 'beta', '!']\n",
      "    >>> add_exclamation(['Jessica', 'likes', 'ice cream'])\n",
      "    ['Jessica', 'likes', 'ice cream', '!']\n",
      "    >>> add_exclamation(['?', '#', '$'])\n",
      "    ['?', '#', '$', '!']\n",
      "    '''"
     ],
     "language": "python",
     "metadata": {},
     "outputs": []
    },
    {
     "cell_type": "markdown",
     "metadata": {},
     "source": [
      "3.3: find_student(name, studentList)\n",
      "------------------------------\n",
      "\n",
      "Given a student's name, name, and a list of student names, studentList, return the boolean True if the student name is in the list, and False otherwise.\n",
      "\n",
      "<span style=\"text-decoration:underline\" title=\"- You don't need a 'for' loop. How can you check if something is in a list?\n",
      "- Think about the 'in' keyword.\">Hints</span>"
     ]
    },
    {
     "cell_type": "code",
     "collapsed": false,
     "input": [
      "def find_student(name, studentList):\n",
      "    '''\n",
      "    >>> find_student('Wanda', ['Henry', 'Beatrice', 'Wanda', 'Evan'])\n",
      "    True\n",
      "    >>> find_student('Adam', ['Tanya', 'Alice', 'Sean'])\n",
      "    False\n",
      "    >>> find_student('Jen', ['Jessica', 'Jessie', 'Jerry', 'Jen'])\n",
      "    True\n",
      "    '''\n"
     ],
     "language": "python",
     "metadata": {},
     "outputs": []
    },
    {
     "cell_type": "markdown",
     "metadata": {},
     "source": [
      "3.4: hello_many(list_names)\n",
      "----------------\n",
      "\n",
      "Given a list of strings *list_names*, return a string of the form \"Hello name1 and name2 and name3 and... nameN! How are you?\".\n",
      "\n",
      "<span style=\"text-decoration:underline\" title=\"\n",
      "- The returned string has three parts an initial 'Hello' with the first name, a middle part build out of 'and' and the names, and a final '!, How are you?'. \n",
      "- You will need to build up the middle part with a loop and then add it together with the initial and final part.\n",
      "\">Hints</span>"
     ]
    },
    {
     "cell_type": "code",
     "collapsed": false,
     "input": [
      "def hello_many(list_names):\n",
      "    '''\n",
      "    >>> hello_many(['Joao', 'Bryan'])\n",
      "    'Hello Joao and Bryan! How are you?'\n",
      "    >>> hello_many(['Joao', 'Bryan', 'Will'])\n",
      "    'Hello Joao and Bryan and Will! How are you?'\n",
      "    >>> hello_many(['Will'])\n",
      "    'Hello Will! How are you?'\n",
      "    '''"
     ],
     "language": "python",
     "metadata": {},
     "outputs": [],
     "prompt_number": 35
    },
    {
     "cell_type": "markdown",
     "metadata": {},
     "source": [
      "Exercise 4\n",
      "============================ "
     ]
    },
    {
     "cell_type": "markdown",
     "metadata": {},
     "source": [
      "4.1: count_fs(phrase)\n",
      "---------------\n",
      "\n",
      "Given a string phrase, return the total number of \"f\"s and \"F\"s in the phrase.\n",
      "\n",
      "<span style=\"text-decoration:underline\" title=\"- You can loop over the letters in a string with a for loop just like you can with lists.\n",
      "- Review your understanding of the 'or' and 'and' keywords used to test more than one condition in an 'if' statement.\n",
      "- Use a counter to keep track of how many 'f's you've found. Set it to 0 before you start your for loop.\">Hints</span>"
     ]
    },
    {
     "cell_type": "code",
     "collapsed": false,
     "input": [
      "def count_fs(phrase):\n",
      "    '''\n",
      "    >>> count_fs('Finished files are the result of years of scientific study combined with the experience of years.')\n",
      "    6\n",
      "    >>> count_fs('Four score and seven years ago')\n",
      "    1\n",
      "    >>> count_fs('A man, a plan, a canal - Panama!')\n",
      "    0\n",
      "    '''"
     ],
     "language": "python",
     "metadata": {},
     "outputs": []
    },
    {
     "cell_type": "markdown",
     "metadata": {},
     "source": [
      "4.2: starts_or_ends_with_z(my_string)\n",
      "---------------------------\n",
      "\n",
      "Given a string my_string, return the boolean True if my_string starts or ends with 'z' or 'Z', and False if it doesn't.\n",
      "\n",
      "<span style=\"text-decoration:underline\" title=\"- How do you get the first element of a string or list? How do you get the last element?\n",
      "- You can use keywords 'and' and 'or' in an 'if' statement to test multiple conditions.\n",
      "- Make sure you are returning a boolean (True or False) and not a string ('True' or 'False') \">Hints</span>"
     ]
    },
    {
     "cell_type": "code",
     "collapsed": false,
     "input": [
      "def starts_or_ends_with_z(my_string):\n",
      "    '''\n",
      "    >>> starts_or_ends_with_z('pizzazz')\n",
      "    True\n",
      "    >>> starts_or_ends_with_z('python')\n",
      "    False\n",
      "    >>> starts_or_ends_with_z('zap')\n",
      "    True\n",
      "    '''\n"
     ],
     "language": "python",
     "metadata": {},
     "outputs": []
    },
    {
     "cell_type": "markdown",
     "metadata": {},
     "source": [
      "4.3: sum_of_all_strings(string_list)\n",
      "---------------------------\n",
      "\n",
      "Given a list string_list that contains several strings, return the total of the lengths of all of the strings.\n",
      "\n",
      "<span style=\"text-decoration:underline\" title=\"- Use a variable to track the total length. Set it equal to 0 and add to it every time you loop through string_list.\n",
      "- Use the 'len()' function to get the length of a string.\">Hints</span>"
     ]
    },
    {
     "cell_type": "code",
     "collapsed": false,
     "input": [
      "def sum_of_all_strings(string_list):\n",
      "    '''\n",
      "    >>> sum_of_all_strings(['Eleanor', 'Rigby'])\n",
      "    12\n",
      "    >>> sum_of_all_strings(['Eight', 'Days', 'a', 'Week'])\n",
      "    14\n",
      "    >>> sum_of_all_strings(['Strawberry', 'Fields', 'Forever'])\n",
      "    23\n",
      "    '''"
     ],
     "language": "python",
     "metadata": {},
     "outputs": []
    },
    {
     "cell_type": "markdown",
     "metadata": {},
     "source": [
      "4.4: stretch_string(my_string, stretch_number)\n",
      "---------------------------------------\n",
      "\n",
      "Given a string my_string and an integer stretch_number, return a string in which each character of the original string is repeated stretch_number times.\n",
      " \n",
      "<span style=\"text-decoration:underline\" title=\"- You can loop over the letters in a string with a for loop just like you can with lists.\n",
      "- Start with an empty string. Add to the end of the string with '+' as you loop through the letters in my_string.\n",
      "- Try this at a Python prompt: print('p'*4)\">Hints</span>"
     ]
    },
    {
     "cell_type": "code",
     "collapsed": false,
     "input": [
      "def stretch_string(my_string, stretch_number):\n",
      "    '''\n",
      "    >>> stretch_string('banana', 2)\n",
      "    'bbaannaannaa'\n",
      "    >>> stretch_string('apple', 3)\n",
      "    'aaappppppllleee'\n",
      "    >>> stretch_string('fig', 4)\n",
      "    'ffffiiiigggg'\n",
      "    '''"
     ],
     "language": "python",
     "metadata": {},
     "outputs": []
    },
    {
     "cell_type": "markdown",
     "metadata": {},
     "source": [
      "Exercise 5\n",
      "================"
     ]
    },
    {
     "cell_type": "markdown",
     "metadata": {},
     "source": [
      "5.1: squares_list(number_list)\n",
      "-----------------------\n",
      "\n",
      "Given a list of numbers number_list, return a list containing the squares of each of the numbers in number_list in the order in which they appeared in number_list.\n",
      " \n",
      "<span style=\"text-decoration:underline\" title=\"Start with an empty list. For every number in number_list, use the 'append()' function to add a new element to the end of the new list\">Hints</span>"
     ]
    },
    {
     "cell_type": "code",
     "collapsed": false,
     "input": [
      "def squares_list(number_list):\n",
      "    '''\n",
      "    >>> squares_list([1, 2, 3])\n",
      "    [1, 4, 9]\n",
      "    >>> squares_list([4, 0])\n",
      "    [16, 0]\n",
      "    >>> squares_list([12, 9, 6, 3])\n",
      "    [144, 81, 36, 9]\n",
      "    '''"
     ],
     "language": "python",
     "metadata": {},
     "outputs": []
    },
    {
     "cell_type": "markdown",
     "metadata": {},
     "source": [
      "5.2: remove_vowels(my_string)\n",
      "----------------------\n",
      "\n",
      "Given a lower-case string my_string, return that string with all of the vowels removed.\n",
      "\n",
      " \n",
      "<span style=\"text-decoration:underline\" title=\"- Start with an empty string. Add the letters from my_string to this new string only if they aren't vowels.\n",
      "- You can loop over a string just like you can loop over a list.\">Hints</span>"
     ]
    },
    {
     "cell_type": "code",
     "collapsed": false,
     "input": [
      "def remove_vowels(my_string):\n",
      "    '''\n",
      "    >>> remove_vowels('bookkeeper')\n",
      "    'bkkpr'\n",
      "    >>> remove_vowels('almanac')\n",
      "    'lmnc'\n",
      "    >>> remove_vowels('syzygy')\n",
      "    'syzygy'\n",
      "    '''"
     ],
     "language": "python",
     "metadata": {},
     "outputs": []
    },
    {
     "cell_type": "markdown",
     "metadata": {},
     "source": [
      "5.3: remove__words_with_vowels(string_list)\n",
      "---------------------------------\n",
      "\n",
      "Given a list of lower-case strings wordList, return that list with all the words that contain vowels removed.\n",
      "\n",
      "<span style=\"text-decoration:underline\" title=\"- Start with an empty list. Add the words from wordList to this new list only if they don't contain vowels\n",
      "- Try writing a second function called containsVowels whose job is to check if a word has any vowels. Use this function in a for loop in remove__words_with_vowels. Here's the start of containsVowels...\n",
      "    def containsVowels(word):\n",
      "        for letter in word:\n",
      "            &lt;add your code here&gt;           \n",
      "- Use the <code>append()</code> function to add elements to the end of a list.\">Hints</span>"
     ]
    },
    {
     "cell_type": "code",
     "collapsed": false,
     "input": [
      "def remove__words_with_vowels(string_list):\n",
      "    '''\n",
      "    >>> remove__words_with_vowels(['hymn', 'myth', 'myrrh', 'nymph'])\n",
      "    ['hymn', 'myth', 'myrrh', 'nymph']\n",
      "    >>> remove__words_with_vowels(['who', 'what', 'when', 'where', 'why'])\n",
      "    ['why']\n",
      "    >>> remove__words_with_vowels(['coy', 'sly', 'shy', 'bashful'])\n",
      "    ['sly', 'shy']\n",
      "    '''"
     ],
     "language": "python",
     "metadata": {},
     "outputs": []
    },
    {
     "cell_type": "markdown",
     "metadata": {},
     "source": [
      "5.4: spelling_bee(correct, guess)\n",
      "---------------------------\n",
      "\n",
      "Given the correct spelling of a word, correct, and the contestant's guessed spelling, guess, return the string \"correct\" if the guess is spelled exactly correctly, \"almost\" if there are at most two mistakes in the spelling, and \"wrong\" if three or more letters are different. You can assume that all guesses are the correct length.\n",
      "\n",
      "\n",
      "<span style=\"text-decoration:underline\" title=\"Use a counter to keep track of the number of spelling errors.\n",
      "- We need to compare correct and guess letter by letter. Use the '[0]' syntax to index into a string - for example:\n",
      "    if correct[0] != guess[0]\n",
      "- Review your notes on the len() function, which returns the length of a string.\n",
      "- Review your notes on the range() function, which returns a list of indices that you can loop over. Experiment with what happens when you try this at a Python prompt:\n",
      "    for letter in range(len('hello')):\n",
      "        print letter\">Hints</span>"
     ]
    },
    {
     "cell_type": "code",
     "collapsed": false,
     "input": [
      "def spelling_bee(correct, guess):\n",
      "    '''\n",
      "    >>> spelling_bee('hello', 'hello')\n",
      "    'correct'\n",
      "    >>> spelling_bee('python', 'pithon')\n",
      "    'almost'\n",
      "    >>> spelling_bee('echolocation', 'eckolocashun')\n",
      "    'wrong'\n",
      "    '''"
     ],
     "language": "python",
     "metadata": {},
     "outputs": []
    },
    {
     "cell_type": "markdown",
     "metadata": {},
     "source": [
      "*That's all!*  If you've made it this far, you're doing brilliantly!  (Even if you finished up after the workshop.)  "
     ]
    }
   ],
   "metadata": {}
  }
 ]
}