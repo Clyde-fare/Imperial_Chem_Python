{
 "metadata": {
  "name": ""
 },
 "nbformat": 3,
 "nbformat_minor": 0,
 "worksheets": [
  {
   "cells": [
    {
     "cell_type": "markdown",
     "metadata": {},
     "source": [
      "# A Crash Course in Python Workshop 1\n",
      "[Clyde Fare](c.fare12@imperial.ac.uk) and [William Vigor](w.vigor11@imperial.ac.uk), Imperial College London\n",
      "\n",
      "\n",
      "Notebook is adapted from material by Catherine Devlin, Rick Muller, Adrian Price-Whelan and licensed under a [Creative Commons Attribution-ShareAlike 3.0 Unported License](http://creativecommons.org/licenses/by-sa/3.0/deed.en_US)."
     ]
    },
    {
     "cell_type": "markdown",
     "metadata": {},
     "source": [
      "\n",
      "During this workshop we will cover several core programming concepts, there are exercises at the middle and end to help review the material.\n",
      "\n",
      "This is an interactive tutorial! As you go through it any time you see something that looks like this:\n",
      "\n",
      "    a = \"Hello\"\n",
      "   \n",
      "that's followed by an empty *code cell* (a light grey rectagle with a label like *\"In[ ]\"*), you should \n",
      "type the expression in the code cell, hit Shift+Return to *execute* it, and note the output.\n",
      "\n",
      "No copying and pasting! You'll learn the concepts better if you type them out yourself.\n",
      "\n",
      "Warning please periodically save your work.\n"
     ]
    },
    {
     "cell_type": "heading",
     "level": 1,
     "metadata": {},
     "source": [
      "Maths"
     ]
    },
    {
     "cell_type": "markdown",
     "metadata": {},
     "source": [
      "Maths in Python looks a lot like maths you type into a calculator. A Python prompt makes a great calculator if you need to crunch some numbers and don't have a good calculator handy."
     ]
    },
    {
     "cell_type": "heading",
     "level": 2,
     "metadata": {},
     "source": [
      "Addition"
     ]
    },
    {
     "cell_type": "markdown",
     "metadata": {},
     "source": [
      "    2 + 2"
     ]
    },
    {
     "cell_type": "code",
     "collapsed": false,
     "input": [],
     "language": "python",
     "metadata": {},
     "outputs": []
    },
    {
     "cell_type": "markdown",
     "metadata": {},
     "source": [
      "    1.5 + 2.25"
     ]
    },
    {
     "cell_type": "code",
     "collapsed": false,
     "input": [],
     "language": "python",
     "metadata": {},
     "outputs": []
    },
    {
     "cell_type": "heading",
     "level": 2,
     "metadata": {},
     "source": [
      "Subtraction"
     ]
    },
    {
     "cell_type": "markdown",
     "metadata": {},
     "source": [
      "    4 - 2"
     ]
    },
    {
     "cell_type": "code",
     "collapsed": false,
     "input": [],
     "language": "python",
     "metadata": {},
     "outputs": []
    },
    {
     "cell_type": "markdown",
     "metadata": {},
     "source": [
      "    "
     ]
    },
    {
     "cell_type": "markdown",
     "metadata": {},
     "source": [
      "    100 - .5"
     ]
    },
    {
     "cell_type": "code",
     "collapsed": false,
     "input": [],
     "language": "python",
     "metadata": {},
     "outputs": []
    },
    {
     "cell_type": "markdown",
     "metadata": {},
     "source": [
      "    0 - 2"
     ]
    },
    {
     "cell_type": "code",
     "collapsed": false,
     "input": [],
     "language": "python",
     "metadata": {},
     "outputs": []
    },
    {
     "cell_type": "heading",
     "level": 2,
     "metadata": {},
     "source": [
      "Multiplication"
     ]
    },
    {
     "cell_type": "markdown",
     "metadata": {},
     "source": [
      "    2 * 3    "
     ]
    },
    {
     "cell_type": "code",
     "collapsed": false,
     "input": [],
     "language": "python",
     "metadata": {},
     "outputs": []
    },
    {
     "cell_type": "heading",
     "level": 2,
     "metadata": {},
     "source": [
      "Division"
     ]
    },
    {
     "cell_type": "markdown",
     "metadata": {},
     "source": [
      "    4 / 2"
     ]
    },
    {
     "cell_type": "code",
     "collapsed": false,
     "input": [],
     "language": "python",
     "metadata": {},
     "outputs": []
    },
    {
     "cell_type": "markdown",
     "metadata": {},
     "source": [
      "    1 / 2"
     ]
    },
    {
     "cell_type": "code",
     "collapsed": false,
     "input": [],
     "language": "python",
     "metadata": {},
     "outputs": []
    },
    {
     "cell_type": "markdown",
     "metadata": {},
     "source": [
      "That last result is probably not what you expected. What's going on here is that integer divison produces an integer. You need a number that knows about the decimal point to get a decimal out of division:\n",
      "\n",
      "    1.0 / 2"
     ]
    },
    {
     "cell_type": "code",
     "collapsed": false,
     "input": [],
     "language": "python",
     "metadata": {},
     "outputs": []
    },
    {
     "cell_type": "markdown",
     "metadata": {},
     "source": [
      "This means you have to be careful when manipulating fractions. If you were doing some baking and needed to add 3/4 of a cup of flour and 1/4 of a cup of flour, we know in our heads that 3/4 + 1/4 = 1 cup. But try that at the Python prompt:\n",
      "\n",
      "    3/4 + 1/4"
     ]
    },
    {
     "cell_type": "code",
     "collapsed": false,
     "input": [
      "    "
     ],
     "language": "python",
     "metadata": {},
     "outputs": []
    },
    {
     "cell_type": "markdown",
     "metadata": {},
     "source": [
      "What do you need to do to get the right answer? Use data types that understand decimals for each of the divisions:\n",
      "\n",
      "    3.0/4 + 1.0/4"
     ]
    },
    {
     "cell_type": "code",
     "collapsed": false,
     "input": [],
     "language": "python",
     "metadata": {},
     "outputs": []
    },
    {
     "cell_type": "markdown",
     "metadata": {},
     "source": [
      "    3.0/4.0 + 1.0/4.0"
     ]
    },
    {
     "cell_type": "code",
     "collapsed": false,
     "input": [],
     "language": "python",
     "metadata": {},
     "outputs": []
    },
    {
     "cell_type": "markdown",
     "metadata": {},
     "source": [
      "The two previous expressions produce the same result. You only need to make one of the numbers in each fraction have a decimal. When the Python interpreter goes to do the division, it notices that one of the numbers in the fraction cares about decimals and says \"that means I have to make the other number care about decimals too\"."
     ]
    },
    {
     "cell_type": "heading",
     "level": 1,
     "metadata": {},
     "source": [
      "Types"
     ]
    },
    {
     "cell_type": "markdown",
     "metadata": {},
     "source": [
      "There's a helpful function (more on what a function is in a second) called type that tells you what kind of thing -- what data type -- Python thinks something is. We can check for ourselves that Python considers '1' and '1.0' to be different data types:\n",
      "\n",
      "    type(1)"
     ]
    },
    {
     "cell_type": "code",
     "collapsed": false,
     "input": [],
     "language": "python",
     "metadata": {},
     "outputs": []
    },
    {
     "cell_type": "markdown",
     "metadata": {},
     "source": [
      "    type(1.0)"
     ]
    },
    {
     "cell_type": "code",
     "collapsed": false,
     "input": [],
     "language": "python",
     "metadata": {},
     "outputs": []
    },
    {
     "cell_type": "markdown",
     "metadata": {},
     "source": [
      "So now we've seen two data types: integers and floats.\n",
      "\n",
      "I used the term 'function' without explaining what it is -- we'll talk about functions more in a bit, and write our own, but for now know these things:\n",
      "\n",
      "- Functions encapsulate some useful bit of work. We save that useful bit of work inside the function so we don't have to type it over and over again every time we want to use it. So, for example, some nice person decided that being able to determine the type of an object was useful, so he or she put the Python code that figures out an object's type into the function type, and now we all get to use it, instead of having to write it ourselves.\n",
      "- Functions are sort of like functions in maths class. You provide input to a function and it produces output. The type function takes data as an input, and produces what type of data the data is (e.g. an integer or a float) as output.\n",
      "\n",
      "To use a function, write the name of the function followed by an open parenthesis, what the function takes as input (we call that input the arguments to the function), and then a close parenthesis.\n",
      "\n",
      "So in this case 'type' is the name of the function, and it takes one argument; in the example we first give type an argument of 1 and then give it an argument of 1.0."
     ]
    },
    {
     "cell_type": "heading",
     "level": 1,
     "metadata": {},
     "source": [
      "Variables"
     ]
    },
    {
     "cell_type": "markdown",
     "metadata": {},
     "source": [
      "A lot of work gets done in Python using variables. Variables are a lot like the variables in maths class, except that in Python variables can be of any data type, not just numbers.\n",
      "\n",
      "    type(4)"
     ]
    },
    {
     "cell_type": "code",
     "collapsed": false,
     "input": [],
     "language": "python",
     "metadata": {},
     "outputs": []
    },
    {
     "cell_type": "markdown",
     "metadata": {},
     "source": [
      "    x = 4"
     ]
    },
    {
     "cell_type": "code",
     "collapsed": false,
     "input": [],
     "language": "python",
     "metadata": {},
     "outputs": []
    },
    {
     "cell_type": "markdown",
     "metadata": {},
     "source": [
      "    x"
     ]
    },
    {
     "cell_type": "code",
     "collapsed": false,
     "input": [],
     "language": "python",
     "metadata": {},
     "outputs": []
    },
    {
     "cell_type": "markdown",
     "metadata": {},
     "source": [
      "    type(x)"
     ]
    },
    {
     "cell_type": "code",
     "collapsed": false,
     "input": [],
     "language": "python",
     "metadata": {},
     "outputs": []
    },
    {
     "cell_type": "markdown",
     "metadata": {},
     "source": [
      "    2 * x"
     ]
    },
    {
     "cell_type": "code",
     "collapsed": false,
     "input": [],
     "language": "python",
     "metadata": {},
     "outputs": []
    },
    {
     "cell_type": "markdown",
     "metadata": {},
     "source": [
      "Giving a name to something, so that you can refer to it by that name, is called *assignment*. Above, we assigned the name \"`x`\" to 4, and after that we can use `x` wherever we want to use the number 4.\n",
      "\n",
      "Variables can't have spaces or other special characters, and they need to start with a letter. Here are some valid variable names:\n",
      "\n",
      "    magic_number = 1500\n",
      "    amountOfFlour = .75\n",
      "    my_name = \"Jessica\"\n",
      "\n",
      "Projects develop naming conventions: maybe multi-word variable names use underscores (like magic_number), or \"camel case\" (like amountOfFlour). The most important thing is to be consistent within a project, because it makes the code more readable."
     ]
    },
    {
     "cell_type": "heading",
     "level": 1,
     "metadata": {},
     "source": [
      "Output"
     ]
    },
    {
     "cell_type": "markdown",
     "metadata": {},
     "source": [
      "Notice how if you type a 4 and hit enter, the Python interpreter spits a 4 back out:\n",
      "\n",
      "    4"
     ]
    },
    {
     "cell_type": "code",
     "collapsed": false,
     "input": [],
     "language": "python",
     "metadata": {},
     "outputs": []
    },
    {
     "cell_type": "markdown",
     "metadata": {},
     "source": [
      "But if you assign 4 to a variable, nothing is printed:\n",
      "\n",
      "    x = 4"
     ]
    },
    {
     "cell_type": "code",
     "collapsed": false,
     "input": [],
     "language": "python",
     "metadata": {},
     "outputs": []
    },
    {
     "cell_type": "markdown",
     "metadata": {},
     "source": [
      "You can think of it as that something needs to get the output. Without an assignment, the winner is the screen. With assignment, the output goes to the variable.\n",
      "\n",
      "You can reassign variables if you want:\n",
      "\n",
      "    x = 4"
     ]
    },
    {
     "cell_type": "code",
     "collapsed": false,
     "input": [],
     "language": "python",
     "metadata": {},
     "outputs": []
    },
    {
     "cell_type": "markdown",
     "metadata": {},
     "source": [
      "    x"
     ]
    },
    {
     "cell_type": "code",
     "collapsed": false,
     "input": [],
     "language": "python",
     "metadata": {},
     "outputs": []
    },
    {
     "cell_type": "markdown",
     "metadata": {},
     "source": [
      "    x = 5"
     ]
    },
    {
     "cell_type": "code",
     "collapsed": false,
     "input": [],
     "language": "python",
     "metadata": {},
     "outputs": []
    },
    {
     "cell_type": "markdown",
     "metadata": {},
     "source": [
      "    x"
     ]
    },
    {
     "cell_type": "code",
     "collapsed": false,
     "input": [],
     "language": "python",
     "metadata": {},
     "outputs": []
    },
    {
     "cell_type": "markdown",
     "metadata": {},
     "source": [
      "Sometimes reassigning a variable is an accident and causes bugs in programs.\n",
      "\n",
      "    x = 3"
     ]
    },
    {
     "cell_type": "code",
     "collapsed": false,
     "input": [],
     "language": "python",
     "metadata": {},
     "outputs": []
    },
    {
     "cell_type": "markdown",
     "metadata": {},
     "source": [
      "    y = 4"
     ]
    },
    {
     "cell_type": "code",
     "collapsed": false,
     "input": [],
     "language": "python",
     "metadata": {},
     "outputs": []
    },
    {
     "cell_type": "markdown",
     "metadata": {},
     "source": [
      "    x * y"
     ]
    },
    {
     "cell_type": "code",
     "collapsed": false,
     "input": [],
     "language": "python",
     "metadata": {},
     "outputs": []
    },
    {
     "cell_type": "markdown",
     "metadata": {},
     "source": [
      "    x * x"
     ]
    },
    {
     "cell_type": "code",
     "collapsed": false,
     "input": [],
     "language": "python",
     "metadata": {},
     "outputs": []
    },
    {
     "cell_type": "markdown",
     "metadata": {},
     "source": [
      "    2 * x - 1 * y"
     ]
    },
    {
     "cell_type": "code",
     "collapsed": false,
     "input": [],
     "language": "python",
     "metadata": {},
     "outputs": []
    },
    {
     "cell_type": "markdown",
     "metadata": {},
     "source": [
      "Order of operations works pretty much like how you learned in school. If you're unsure of an ordering, you can add parentheses like on a calculator:\n",
      "\n",
      "    (2 * x) - (1 * y)"
     ]
    },
    {
     "cell_type": "code",
     "collapsed": false,
     "input": [],
     "language": "python",
     "metadata": {},
     "outputs": []
    },
    {
     "cell_type": "markdown",
     "metadata": {},
     "source": [
      "Note that the spacing doesn't matter:\n",
      "\n",
      "    x = 4"
     ]
    },
    {
     "cell_type": "code",
     "collapsed": false,
     "input": [],
     "language": "python",
     "metadata": {},
     "outputs": []
    },
    {
     "cell_type": "markdown",
     "metadata": {},
     "source": [
      "and\n",
      "\n",
      "    x=4"
     ]
    },
    {
     "cell_type": "code",
     "collapsed": false,
     "input": [],
     "language": "python",
     "metadata": {},
     "outputs": []
    },
    {
     "cell_type": "markdown",
     "metadata": {},
     "source": [
      "are both valid Python and mean the same thing.\n",
      "\n",
      "    (2 * x) - (1 * y)"
     ]
    },
    {
     "cell_type": "code",
     "collapsed": false,
     "input": [],
     "language": "python",
     "metadata": {},
     "outputs": []
    },
    {
     "cell_type": "markdown",
     "metadata": {},
     "source": [
      "and"
     ]
    },
    {
     "cell_type": "code",
     "collapsed": false,
     "input": [],
     "language": "python",
     "metadata": {},
     "outputs": []
    },
    {
     "cell_type": "markdown",
     "metadata": {},
     "source": [
      "    (2*x)-(1*y)"
     ]
    },
    {
     "cell_type": "code",
     "collapsed": false,
     "input": [],
     "language": "python",
     "metadata": {},
     "outputs": []
    },
    {
     "cell_type": "markdown",
     "metadata": {},
     "source": [
      "are also both valid and mean the same thing. You should strive to be consistent with whatever spacing you like or a job requires, since it makes reading the code easier.\n",
      "\n",
      "You aren't cheating and skipping typing these exercises out, are you? Good! :)"
     ]
    },
    {
     "cell_type": "heading",
     "level": 1,
     "metadata": {},
     "source": [
      "Strings"
     ]
    },
    {
     "cell_type": "markdown",
     "metadata": {},
     "source": [
      "So far we've seen two data types: integers and floats. Another useful data type is a string, which is just what Python calls a bunch of characters (like numbers, letters, whitespace, and punctuation) put together. Strings are indicated by being surrounded by quotes:\n",
      "\n",
      "    \"Hello\"\n"
     ]
    },
    {
     "cell_type": "code",
     "collapsed": false,
     "input": [],
     "language": "python",
     "metadata": {},
     "outputs": []
    },
    {
     "cell_type": "markdown",
     "metadata": {},
     "source": [
      "    \"Python, I'm your #1 fan!\"\n"
     ]
    },
    {
     "cell_type": "code",
     "collapsed": false,
     "input": [],
     "language": "python",
     "metadata": {},
     "outputs": []
    },
    {
     "cell_type": "markdown",
     "metadata": {},
     "source": [
      "Like with the maths data types above, we can use the type function to check the type of strings:\n",
      "\n",
      "    type(\"Hello\")\n"
     ]
    },
    {
     "cell_type": "code",
     "collapsed": false,
     "input": [],
     "language": "python",
     "metadata": {},
     "outputs": []
    },
    {
     "cell_type": "markdown",
     "metadata": {},
     "source": [
      "    type(1)"
     ]
    },
    {
     "cell_type": "code",
     "collapsed": false,
     "input": [],
     "language": "python",
     "metadata": {},
     "outputs": []
    },
    {
     "cell_type": "markdown",
     "metadata": {},
     "source": [
      "    type(\"1\")"
     ]
    },
    {
     "cell_type": "code",
     "collapsed": false,
     "input": [],
     "language": "python",
     "metadata": {},
     "outputs": []
    },
    {
     "cell_type": "heading",
     "level": 2,
     "metadata": {},
     "source": [
      "String Concatenation"
     ]
    },
    {
     "cell_type": "markdown",
     "metadata": {},
     "source": [
      "You can combine strings (called \"concatenation\") using the '+' sign:\n",
      "\n",
      "     name = \"Mike\"\n",
      "    \"Hello\" + \" World \" + name\n",
      "   \n",
      "    "
     ]
    },
    {
     "cell_type": "code",
     "collapsed": false,
     "input": [],
     "language": "python",
     "metadata": {},
     "outputs": []
    },
    {
     "cell_type": "heading",
     "level": 2,
     "metadata": {},
     "source": [
      "Printing"
     ]
    },
    {
     "cell_type": "markdown",
     "metadata": {},
     "source": [
      "You can print strings using print:\n",
      "\n",
      "    h = \"Hello\"\n"
     ]
    },
    {
     "cell_type": "code",
     "collapsed": false,
     "input": [],
     "language": "python",
     "metadata": {},
     "outputs": []
    },
    {
     "cell_type": "markdown",
     "metadata": {},
     "source": [
      "    w = \"World\"\n"
     ]
    },
    {
     "cell_type": "code",
     "collapsed": false,
     "input": [],
     "language": "python",
     "metadata": {},
     "outputs": []
    },
    {
     "cell_type": "markdown",
     "metadata": {},
     "source": [
      "    print(h + w)\n"
     ]
    },
    {
     "cell_type": "code",
     "collapsed": false,
     "input": [],
     "language": "python",
     "metadata": {},
     "outputs": []
    },
    {
     "cell_type": "markdown",
     "metadata": {},
     "source": [
      "    my_string = h + \" Weird \" + w\n"
     ]
    },
    {
     "cell_type": "code",
     "collapsed": false,
     "input": [],
     "language": "python",
     "metadata": {},
     "outputs": []
    },
    {
     "cell_type": "markdown",
     "metadata": {},
     "source": [
      "    print(my_string)\n"
     ]
    },
    {
     "cell_type": "code",
     "collapsed": false,
     "input": [],
     "language": "python",
     "metadata": {},
     "outputs": []
    },
    {
     "cell_type": "markdown",
     "metadata": {},
     "source": [
      "How about printing different data types together?\n",
      "\n",
      "    print(\"Hello\" + 1)"
     ]
    },
    {
     "cell_type": "code",
     "collapsed": false,
     "input": [],
     "language": "python",
     "metadata": {},
     "outputs": []
    },
    {
     "cell_type": "markdown",
     "metadata": {},
     "source": [
      "The output from the previous example was really different and interesting; let's break down exactly what happened:\n",
      "\n",
      "    >>> print(\"Hello\" + 1)   \n",
      "    Traceback (most recent call last):\n",
      "    File \"<stdin>\", line 1, in <module>\n",
      "    TypeError: cannot concatenate 'str' and 'int' objects\n",
      "\n",
      "Python is giving us a *traceback*. A traceback gives details on what was happening when Python encountered an Exception or Error -- something it doesn't know how to handle.\n",
      "\n",
      "There are many kinds of Python errors, with descriptive names to help us understand what went wrong. In this case we are getting a TypeError: we tried to do some operation on a data type that isn't supported for that data type.\n",
      "\n",
      "Python gives us a helpful error message as part of the TypeError:\n",
      "\n",
      "    \"cannot concatenate 'str' and 'int' objects\"\n",
      "\n",
      "We saw above the we can concatenate strings:\n",
      "\n",
      "    print(\"Hello\" + \"World\")\n",
      "\n",
      "works just fine.\n",
      "\n",
      "However,\n",
      "\n",
      "    print(\"Hello\" + 1)\n",
      "\n",
      "produces a TypeError. We are telling Python to concatenate a string and an integer, and that's not something Python understands how to do.\n",
      "\n",
      "We can convert an integer into a string ourselves, using the `str` function:\n",
      "\n",
      "    print(\"Hello\" + str(1))"
     ]
    },
    {
     "cell_type": "code",
     "collapsed": false,
     "input": [],
     "language": "python",
     "metadata": {},
     "outputs": []
    },
    {
     "cell_type": "markdown",
     "metadata": {},
     "source": [
      "Like the type function from before, the str function takes 1 argument. In the above example it took the integer 1. str takes a Python object as input and produces a string version of that input as output."
     ]
    },
    {
     "cell_type": "heading",
     "level": 2,
     "metadata": {},
     "source": [
      "String Length"
     ]
    },
    {
     "cell_type": "markdown",
     "metadata": {},
     "source": [
      "There's another useful function that works on strings called len. len returns the length of a string as an integer:\n",
      "\n",
      "    print( len(\"Hello\") )"
     ]
    },
    {
     "cell_type": "code",
     "collapsed": false,
     "input": [],
     "language": "python",
     "metadata": {},
     "outputs": []
    },
    {
     "cell_type": "markdown",
     "metadata": {},
     "source": [
      "    print( len(\"\") )\n"
     ]
    },
    {
     "cell_type": "code",
     "collapsed": false,
     "input": [],
     "language": "python",
     "metadata": {},
     "outputs": []
    },
    {
     "cell_type": "markdown",
     "metadata": {},
     "source": [
      "    fish = \"humuhumunukunukuapua\u02bba\"\n"
     ]
    },
    {
     "cell_type": "code",
     "collapsed": false,
     "input": [],
     "language": "python",
     "metadata": {},
     "outputs": []
    },
    {
     "cell_type": "markdown",
     "metadata": {},
     "source": [
      "    length = str( len(fish) )\n"
     ]
    },
    {
     "cell_type": "code",
     "collapsed": false,
     "input": [],
     "language": "python",
     "metadata": {},
     "outputs": []
    },
    {
     "cell_type": "markdown",
     "metadata": {},
     "source": [
      "    print( fish + \" is a Hawaiian fish whose name is \" + length + \" characters long.\" )\n"
     ]
    },
    {
     "cell_type": "code",
     "collapsed": false,
     "input": [],
     "language": "python",
     "metadata": {},
     "outputs": []
    },
    {
     "cell_type": "heading",
     "level": 2,
     "metadata": {},
     "source": [
      "Quotes"
     ]
    },
    {
     "cell_type": "markdown",
     "metadata": {},
     "source": [
      "We've been using double quotes around our strings, but you can use either double or single quotes:\n",
      "\n",
      "    print('Hello')\n"
     ]
    },
    {
     "cell_type": "code",
     "collapsed": false,
     "input": [],
     "language": "python",
     "metadata": {},
     "outputs": []
    },
    {
     "cell_type": "markdown",
     "metadata": {},
     "source": [
      "    print(\"Hello\")\n"
     ]
    },
    {
     "cell_type": "code",
     "collapsed": false,
     "input": [],
     "language": "python",
     "metadata": {},
     "outputs": []
    },
    {
     "cell_type": "markdown",
     "metadata": {},
     "source": [
      "Like with spacing above, use whichever quotes make the most sense for you, but be consistent.\n",
      "You do have to be careful about using quotes inside of strings:\n",
      "\n",
      "    print('I'm a happy camper')\n"
     ]
    },
    {
     "cell_type": "code",
     "collapsed": false,
     "input": [],
     "language": "python",
     "metadata": {},
     "outputs": []
    },
    {
     "cell_type": "markdown",
     "metadata": {},
     "source": [
      "This gives us another traceback, for a new kind of error, a **SyntaxError**. When Python looks at that expression, it sees the string *'I'* and then\n",
      "*m a happy camper'*\n",
      "which it doesn't understand -- it's not 'valid' Python. Those letters aren't variables (we haven't assigned them to anything), and that trailing quote isn't balanced. So it raises a SyntaxError.\n",
      "\n",
      "We can use double quotes to avoid this problem:\n",
      "\n",
      "    print(\"I'm a happy camper\")\n"
     ]
    },
    {
     "cell_type": "code",
     "collapsed": false,
     "input": [],
     "language": "python",
     "metadata": {},
     "outputs": []
    },
    {
     "cell_type": "markdown",
     "metadata": {},
     "source": [
      "or we can *escape* the quote with a backslash:\n",
      "\n",
      "    print('I\\'m a happy camper')\n"
     ]
    },
    {
     "cell_type": "code",
     "collapsed": false,
     "input": [],
     "language": "python",
     "metadata": {},
     "outputs": []
    },
    {
     "cell_type": "markdown",
     "metadata": {},
     "source": [
      "    print('Ada Lovelace is often called the world\\'s first programmer.')\n"
     ]
    },
    {
     "cell_type": "code",
     "collapsed": false,
     "input": [],
     "language": "python",
     "metadata": {},
     "outputs": []
    },
    {
     "cell_type": "markdown",
     "metadata": {},
     "source": [
      "    print(\"Computer scientist Grace Hopper popularized the term \\\"debugging\\\".\")\n"
     ]
    },
    {
     "cell_type": "code",
     "collapsed": false,
     "input": [],
     "language": "python",
     "metadata": {},
     "outputs": []
    },
    {
     "cell_type": "markdown",
     "metadata": {},
     "source": [
      "Another way of capturing symbols that might cause problems is to use triple quotation marks, this is also a way to capture multiple separate lines in a single string:\n",
      "    \n",
      "    my_multi_str = '''This is a multiline string.\n",
      "    With some horrible characters that would normally need to be escaped: '{}\"/\n",
      "    As you can see, it extends over more than one line'''\n",
      "    print(my_multi_str)"
     ]
    },
    {
     "cell_type": "code",
     "collapsed": false,
     "input": [],
     "language": "python",
     "metadata": {},
     "outputs": []
    },
    {
     "cell_type": "markdown",
     "metadata": {},
     "source": [
      "One fun thing about strings in Python is that you can multiply them:\n"
     ]
    },
    {
     "cell_type": "markdown",
     "metadata": {},
     "source": [
      "    print(\"A\" * 40)\n"
     ]
    },
    {
     "cell_type": "code",
     "collapsed": false,
     "input": [],
     "language": "python",
     "metadata": {},
     "outputs": []
    },
    {
     "cell_type": "markdown",
     "metadata": {},
     "source": [
      "    print(\"ABC\" * 12)\n"
     ]
    },
    {
     "cell_type": "code",
     "collapsed": false,
     "input": [],
     "language": "python",
     "metadata": {},
     "outputs": []
    },
    {
     "cell_type": "markdown",
     "metadata": {},
     "source": [
      "    h = \"Happy\"\n"
     ]
    },
    {
     "cell_type": "code",
     "collapsed": false,
     "input": [],
     "language": "python",
     "metadata": {},
     "outputs": []
    },
    {
     "cell_type": "markdown",
     "metadata": {},
     "source": [
      "    b = \"Birthday\"\n"
     ]
    },
    {
     "cell_type": "code",
     "collapsed": false,
     "input": [],
     "language": "python",
     "metadata": {},
     "outputs": []
    },
    {
     "cell_type": "markdown",
     "metadata": {},
     "source": [
      "    print( (h + b) * 10 )\n"
     ]
    },
    {
     "cell_type": "code",
     "collapsed": false,
     "input": [],
     "language": "python",
     "metadata": {},
     "outputs": []
    },
    {
     "cell_type": "heading",
     "level": 1,
     "metadata": {},
     "source": [
      "Part 1 Practice"
     ]
    },
    {
     "cell_type": "markdown",
     "metadata": {},
     "source": [
      "We won't make you type these next cells - but before you execute them, see if you can predict what the output will be.  Then execute the cells and check your guess."
     ]
    },
    {
     "cell_type": "code",
     "collapsed": false,
     "input": [
      "total = 1.5 - 1/2 + ((-2.0/2) - (1.0/2))\n",
      "print(total)"
     ],
     "language": "python",
     "metadata": {},
     "outputs": [],
     "prompt_number": 13
    },
    {
     "cell_type": "code",
     "collapsed": false,
     "input": [
      "type(total)"
     ],
     "language": "python",
     "metadata": {},
     "outputs": [],
     "prompt_number": 13
    },
    {
     "cell_type": "code",
     "collapsed": false,
     "input": [
      "a = \"quick\"\n",
      "b = \"brown\"\n",
      "c = \"fox jumps over the lazy dog\"\n",
      "print(\"The \" +  a * 3 + \" \" +  b * 3 + \" \" + c)"
     ],
     "language": "python",
     "metadata": {},
     "outputs": [],
     "prompt_number": 13
    },
    {
     "cell_type": "code",
     "collapsed": false,
     "input": [
      "print(2.0 * 123 + str(2.0) * 123)"
     ],
     "language": "python",
     "metadata": {},
     "outputs": [],
     "prompt_number": 13
    },
    {
     "cell_type": "code",
     "collapsed": false,
     "input": [
      "a = \"| (_|   -()-  -()-   -()-   -()- | -()-  -()-  -()-   -()-   ||\\n\"\n",
      "b = \"|_\\_|_/___|__|__|__|___|__|___|__|___________________________||\\n\"\n",
      "c = \"|________________________________|__|__()_|__()_|__()__|_____||\\n\"\n",
      "d = \" ___|)_______________________________________________________\\n\"\n",
      "e = \"|_/(|,\\____/_|___/_|____/_|______|___________________________||\\n\"\n",
      "f = \"|___/____________________________|___________________________||\\n\"\n",
      "g = \"|   |     | ()  | ()   | ()   |  |                           ||\\n\"\n",
      "h = \"|__\\___|.________________________|___\\_|___\\_|___\\_|___|_____||\\n\"\n",
      "i = \"|__/|_______/|____/|_____/|______|___________________________||\\n\"\n",
      "j = \"|_____/__________________________|____\\|____\\|____\\|_________||\\n\"\n",
      "k = \"|____/___________________________|___________________________||\\n\"\n",
      "l = \"|__/___\\_._______________________|__|__|__|__|__|__|___|_____||\\n\""
     ],
     "language": "python",
     "metadata": {},
     "outputs": []
    },
    {
     "cell_type": "code",
     "collapsed": false,
     "input": [
      "print( d + f + i + e + b + g + a + c + l + h + j + k )"
     ],
     "language": "python",
     "metadata": {},
     "outputs": []
    },
    {
     "cell_type": "markdown",
     "metadata": {},
     "source": [
      "\n",
      "End of Part 1\n",
      "-------------\n",
      "\n",
      "\n",
      "Congratulations! You've learned about and practiced maths, strings, variables, data types, exceptions, tracebacks, and executing Python from the Python prompt.\n",
      "Take a break, stretch, chat to your neighbours, and ask the demonstrators if you have any questions about the material."
     ]
    },
    {
     "cell_type": "markdown",
     "metadata": {},
     "source": [
      "Part 2\n",
      "======"
     ]
    },
    {
     "cell_type": "heading",
     "level": 1,
     "metadata": {},
     "source": [
      "Booleans"
     ]
    },
    {
     "cell_type": "markdown",
     "metadata": {},
     "source": [
      "So far, the code we've written has been unconditional: no choice is getting made, and the code is always run. Python has another data type called a boolean that is helpful for writing code that makes decisions. There are two booleans: True and False.\n",
      "\n",
      "    True\n"
     ]
    },
    {
     "cell_type": "code",
     "collapsed": false,
     "input": [],
     "language": "python",
     "metadata": {},
     "outputs": []
    },
    {
     "cell_type": "markdown",
     "metadata": {},
     "source": [
      "    type(True)\n"
     ]
    },
    {
     "cell_type": "code",
     "collapsed": false,
     "input": [],
     "language": "python",
     "metadata": {},
     "outputs": []
    },
    {
     "cell_type": "markdown",
     "metadata": {},
     "source": [
      "    False\n"
     ]
    },
    {
     "cell_type": "code",
     "collapsed": false,
     "input": [],
     "language": "python",
     "metadata": {},
     "outputs": []
    },
    {
     "cell_type": "markdown",
     "metadata": {},
     "source": [
      "    type(False)\n"
     ]
    },
    {
     "cell_type": "code",
     "collapsed": false,
     "input": [],
     "language": "python",
     "metadata": {},
     "outputs": []
    },
    {
     "cell_type": "markdown",
     "metadata": {},
     "source": [
      "\n",
      "You can test if Python objects are equal or unequal. The result is a boolean:\n",
      "\n",
      "    0 == 0\n"
     ]
    },
    {
     "cell_type": "code",
     "collapsed": false,
     "input": [],
     "language": "python",
     "metadata": {},
     "outputs": []
    },
    {
     "cell_type": "markdown",
     "metadata": {},
     "source": [
      "    0 == 1\n"
     ]
    },
    {
     "cell_type": "code",
     "collapsed": false,
     "input": [],
     "language": "python",
     "metadata": {},
     "outputs": []
    },
    {
     "cell_type": "markdown",
     "metadata": {},
     "source": [
      "Use == to test for equality. Recall that = is used for assignment.\n",
      "This is an important idea and can be a source of bugs until you get used to it: = is assignment, == is comparison.\n",
      "Use != to test for inequality (not equals):\n",
      "\n",
      "    \"a\" != \"a\"\n"
     ]
    },
    {
     "cell_type": "code",
     "collapsed": false,
     "input": [],
     "language": "python",
     "metadata": {},
     "outputs": []
    },
    {
     "cell_type": "markdown",
     "metadata": {},
     "source": [
      "    \"a\" != \"A\"\n"
     ]
    },
    {
     "cell_type": "code",
     "collapsed": false,
     "input": [],
     "language": "python",
     "metadata": {},
     "outputs": []
    },
    {
     "cell_type": "markdown",
     "metadata": {},
     "source": [
      "<, <=, >, and >= have the same meaning as in maths class. The result of these tests is a boolean:\n",
      "\n",
      "    1 > 0\n"
     ]
    },
    {
     "cell_type": "code",
     "collapsed": false,
     "input": [],
     "language": "python",
     "metadata": {},
     "outputs": []
    },
    {
     "cell_type": "markdown",
     "metadata": {},
     "source": [
      "    2 >= 3\n"
     ]
    },
    {
     "cell_type": "code",
     "collapsed": false,
     "input": [],
     "language": "python",
     "metadata": {},
     "outputs": []
    },
    {
     "cell_type": "markdown",
     "metadata": {},
     "source": [
      "    -1 < 0\n"
     ]
    },
    {
     "cell_type": "code",
     "collapsed": false,
     "input": [],
     "language": "python",
     "metadata": {},
     "outputs": []
    },
    {
     "cell_type": "markdown",
     "metadata": {},
     "source": [
      "    .5 <= 1\n"
     ]
    },
    {
     "cell_type": "code",
     "collapsed": false,
     "input": [],
     "language": "python",
     "metadata": {},
     "outputs": []
    },
    {
     "cell_type": "markdown",
     "metadata": {},
     "source": [
      "You can check for containment with the in keyword, which also results in a boolean:\n",
      "    \n",
      "    \"H\" in \"Hello\"\n"
     ]
    },
    {
     "cell_type": "code",
     "collapsed": false,
     "input": [],
     "language": "python",
     "metadata": {},
     "outputs": []
    },
    {
     "cell_type": "markdown",
     "metadata": {},
     "source": [
      "    \"X\" in \"Hello\"\n"
     ]
    },
    {
     "cell_type": "code",
     "collapsed": false,
     "input": [],
     "language": "python",
     "metadata": {},
     "outputs": []
    },
    {
     "cell_type": "markdown",
     "metadata": {},
     "source": [
      "Or check for a lack of containment with not in:\n",
      "\n",
      "    \"a\" not in \"abcde\"\n"
     ]
    },
    {
     "cell_type": "code",
     "collapsed": false,
     "input": [],
     "language": "python",
     "metadata": {},
     "outputs": []
    },
    {
     "cell_type": "markdown",
     "metadata": {},
     "source": [
      "    \"Perl\" not in \"Imperial Python Workshop\""
     ]
    },
    {
     "cell_type": "code",
     "collapsed": false,
     "input": [],
     "language": "python",
     "metadata": {},
     "outputs": []
    },
    {
     "cell_type": "markdown",
     "metadata": {},
     "source": [
      "Flow Control\n",
      "============\n",
      "\n",
      "\n",
      "if statements\n",
      "-------------\n",
      "\n",
      "We can use these expressions that evaluate to booleans to make decisions and conditionally execute code:\n",
      "\n",
      "    if 6 > 5:\n",
      "        print(\"Six is greater than five!\")\n"
     ]
    },
    {
     "cell_type": "code",
     "collapsed": false,
     "input": [],
     "language": "python",
     "metadata": {},
     "outputs": []
    },
    {
     "cell_type": "markdown",
     "metadata": {},
     "source": [
      "That was our first multi-line piece of code, and we need to pay attention to the indentation on the second line (the notebook trys to take care of this for you).\n",
      "Make sure to hit space four times before typing the second line; Python needs them to understand what we want it\n",
      "to do.  \n",
      "\n",
      "Try typing this same code at a regular command prompt (outside this notebook), too; you'll see that \n",
      "it works differently:\n",
      "\n",
      "- First, type the if 6 > 5: part, and hit enter. The next line will have **...** as a prompt, \n",
      "instead of the usual **>>>**. This is Python telling us that we are in the middle of a code block, \n",
      "and so long as we indent our code it should be a part of this code block.\n",
      "\n",
      "- Type 4 spaces, and then type print \"Six is greater than five!\". \n",
      "\n",
      "- Hit enter to end the line, and hit enter again to tell Python you are done with this code block. \n",
      "\n",
      "All together, in the command-prompt window, it will look like this:\n",
      "\n",
      "    >>> if 6 > 5:\n",
      "    ...      print(\"Six is greater than five!\")\n",
      "    ... \n",
      "    \n",
      "Six is greater than five!\n",
      "\n",
      "So what is going on here? When Python encounters the if keyword, it evaluates the expression following the keyword and before the colon. \n",
      "\n",
      "If that expression is True, Python executes the code in the indented code block under the if line. \n",
      "\n",
      "If that expression is False, Python skips over the code block.\n",
      "\n",
      "In this case, because 6 really is greater than 5, Python executes the code block under the if statement, \n",
      "and we see \"Six is greater than five!\" printed to the screen. Guess what will happen with these other expressions, \n",
      "then type them out and see if your guess was correct:\n",
      "\n",
      "    if 0 > 2:\n",
      "        print(\"Zero is greater than two!\")\n",
      "    if \"banana\" in \"bananarama\":\n",
      "        print(\"I miss the 80s.\")"
     ]
    },
    {
     "cell_type": "code",
     "collapsed": false,
     "input": [],
     "language": "python",
     "metadata": {},
     "outputs": []
    },
    {
     "cell_type": "markdown",
     "metadata": {},
     "source": [
      "more choices: if and else\n",
      "-------------------------\n",
      "\n",
      "You can use the else keyword to execute code only when the if expression isn't True:\n",
      "\n",
      "    sister_age = 15\n",
      "    brother_age = 12\n",
      "    if sister_age > brother_age:\n",
      "        print(\"sister is older\")\n",
      "    else:\n",
      "        print(\"brother is older\")\n",
      "\n"
     ]
    },
    {
     "cell_type": "code",
     "collapsed": false,
     "input": [],
     "language": "python",
     "metadata": {},
     "outputs": []
    },
    {
     "cell_type": "markdown",
     "metadata": {},
     "source": [
      "Like with if, the code block under the else statement must be indented so Python knows that it is a part of the else block.\n",
      "\n",
      "compound conditionals: and and or\n",
      "---------------------------------\n",
      "\n",
      "You can check multiple expressions together using the and and or keywords. \n",
      "\n",
      "If two expressions are joined by an and, they both have to be True for the overall expression to be True. \n",
      "\n",
      "If two expressions are joined by an or, as long as at least one is True, the overall expression is True.\n",
      "\n",
      "Try typing these out and see what you get:\n",
      "\n",
      "    1 > 0 and 1 < 2\n"
     ]
    },
    {
     "cell_type": "code",
     "collapsed": false,
     "input": [],
     "language": "python",
     "metadata": {},
     "outputs": []
    },
    {
     "cell_type": "markdown",
     "metadata": {},
     "source": [
      "    1 < 2 and \"x\" in \"abc\"\n"
     ]
    },
    {
     "cell_type": "code",
     "collapsed": false,
     "input": [],
     "language": "python",
     "metadata": {},
     "outputs": []
    },
    {
     "cell_type": "markdown",
     "metadata": {},
     "source": [
      "    \"a\" in \"hello\" or \"e\" in \"hello\"\n"
     ]
    },
    {
     "cell_type": "code",
     "collapsed": false,
     "input": [],
     "language": "python",
     "metadata": {},
     "outputs": []
    },
    {
     "cell_type": "markdown",
     "metadata": {},
     "source": [
      "    1 <= 0 or \"a\" not in \"abc\"\n"
     ]
    },
    {
     "cell_type": "code",
     "collapsed": false,
     "input": [],
     "language": "python",
     "metadata": {},
     "outputs": []
    },
    {
     "cell_type": "markdown",
     "metadata": {},
     "source": [
      "Guess what will happen when you enter these next two examples, and then type them out and see if you are correct. If you have trouble with the indenting, call over a demonstrator and practice together. It is important to be comfortable with indenting for tomorrow.\n",
      "\n",
      "    temperature = 32\n",
      "    if temperature > 60 and temperature < 75:\n",
      "        print(\"It's nice and cozy in here!\")\n",
      "    else:\n",
      "        print(\"Too extreme for me.\")\n"
     ]
    },
    {
     "cell_type": "code",
     "collapsed": false,
     "input": [],
     "language": "python",
     "metadata": {},
     "outputs": []
    },
    {
     "cell_type": "markdown",
     "metadata": {},
     "source": [
      "    hour = 11\n",
      "    if hour < 7 or hour > 23:\n",
      "        print(\"Go away!\")\n",
      "        print(\"I'm sleeping!\")\n",
      "    else:\n",
      "        print(\"Welcome to the cheese shop!\")\n",
      "        print(\"Can I interest you in some choice gouda?\")\n"
     ]
    },
    {
     "cell_type": "code",
     "collapsed": false,
     "input": [],
     "language": "python",
     "metadata": {},
     "outputs": []
    },
    {
     "cell_type": "markdown",
     "metadata": {},
     "source": [
      "You can have as many lines of code as you want in if and else blocks; just make sure to indent them so Python knows they are a part of the block.\n",
      "\n",
      "even more choices: elif\n",
      "-----------------------\n",
      "\n",
      "If you have more than two cases, you can use the elif keyword to check more cases. You can have as many elif cases as you want; Python will go down the code checking each elif until it finds a True condition or reaches the default else block.\n",
      "\n",
      "    sister_age = 15\n",
      "    brother_age = 12\n",
      "    if sister_age > brother_age:\n",
      "        print(\"sister is older\")\n",
      "    elif sister_age == brother_age:\n",
      "        print(\"sister and brother are the same age\")\n",
      "    else:\n",
      "        print(\"brother is older\")\n"
     ]
    },
    {
     "cell_type": "code",
     "collapsed": false,
     "input": [],
     "language": "python",
     "metadata": {},
     "outputs": []
    },
    {
     "cell_type": "markdown",
     "metadata": {},
     "source": [
      "You don't have to have an else block, if you don't need it. That just means there isn't default code to execute when none of the if or elif conditions are True:\n",
      "\n",
      "    colour = \"orange\"\n",
      "    if colour == \"green\" or colour == \"red\":\n",
      "        print(\"Christmas colour!\")\n",
      "    elif colour == \"black\" or colour == \"orange\":\n",
      "        print(\"Halloween colour!\")\n",
      "    elif colour == \"pink\":\n",
      "        print(\"Valentine's Day colour!\")\n"
     ]
    },
    {
     "cell_type": "code",
     "collapsed": false,
     "input": [],
     "language": "python",
     "metadata": {},
     "outputs": []
    },
    {
     "cell_type": "markdown",
     "metadata": {},
     "source": [
      "\n",
      "Now go back to the cell above and change the first line to read\n",
      "\n",
      "    colour = 'purple'\n",
      "    \n",
      "Execute the cell again.  Notice that, this time, nothing is printed.\n",
      "\n",
      "Remember that '`=`' is for assignment (**make** this equal that) and '`==`' is for comparison (**does** this equal that**?**).\n"
     ]
    },
    {
     "cell_type": "heading",
     "level": 1,
     "metadata": {},
     "source": [
      "Writing Functions"
     ]
    },
    {
     "cell_type": "markdown",
     "metadata": {},
     "source": [
      "We talked a bit about functions when we introduced the type() function. Let's talk some more about about functions:\n",
      "\n",
      "- They do some useful bit of work.\n",
      "- They let us re-use code without having to type it out each time.\n",
      "- They take input and possibly produce output (we say they return a value). You can assign a variable to this output.\n",
      "\n",
      "You call a function by using its name followed by its arguments in parenthesis.\n",
      "\n",
      "For example:\n",
      "\n",
      "    length = len(\"Mississippi\")\n",
      "\n"
     ]
    },
    {
     "cell_type": "code",
     "collapsed": false,
     "input": [],
     "language": "python",
     "metadata": {},
     "outputs": []
    },
    {
     "cell_type": "markdown",
     "metadata": {},
     "source": [
      "Executing this code assigns the length of the string \"Mississippi\" to the variable length.  See what it did:\n",
      "\n",
      "    length\n"
     ]
    },
    {
     "cell_type": "code",
     "collapsed": false,
     "input": [],
     "language": "python",
     "metadata": {},
     "outputs": []
    },
    {
     "cell_type": "markdown",
     "metadata": {},
     "source": [
      "\n",
      "We can write our own functions to encapsulate bits of useful work so we can reuse them. Here's how you do it:\n"
     ]
    },
    {
     "cell_type": "heading",
     "level": 2,
     "metadata": {},
     "source": [
      "Step 1: write a function *signature*"
     ]
    },
    {
     "cell_type": "markdown",
     "metadata": {},
     "source": [
      "A function *signature* tells you how the function will be called. It starts with the keyword *def*, which tells Python that you are *defining* a function. Then comes a space, the name of your function, an open parenthesis, the comma-separated input parameters for your function, a close parenthesis, and a colon. Here's what a function signature looks like for a function that takes no arguments:\n",
      "\n",
      "    def my_function():\n",
      "\n",
      "Here's what a function signature looks like for a function that takes one argument called string:\n",
      "\n",
      "    def my_function(my_string):\n",
      "\n",
      "And one for a function that takes two arguments:\n",
      "\n",
      "    def my_function(my_list, my_integer):\n",
      "\n",
      "Parameters should have names that usefully describe what they are used for in the function.\n",
      "\n",
      "We've used the words \"parameters\" and \"arguments\" seemingly interchangeably to reference the input to functions. The distinction isn't really important right now, but if you're curious: in function signatures the input is called parameters, and when you are calling the function the input is called arguments."
     ]
    },
    {
     "cell_type": "heading",
     "level": 2,
     "metadata": {},
     "source": [
      "Step 2: do useful work inside the function"
     ]
    },
    {
     "cell_type": "markdown",
     "metadata": {},
     "source": [
      "Underneath the function signature you do your useful work. Everything inside the function is indented, just like with if/else blocks, so Python knows that it is a part of the function.\n",
      "\n",
      "You can use the variables passed into the function as parameters, just like you can use variables once you define them outside of functions.\n",
      "\n",
      "    def add(x, y):\n",
      "        result = x + y"
     ]
    },
    {
     "cell_type": "heading",
     "level": 2,
     "metadata": {},
     "source": [
      "Step 3: return something"
     ]
    },
    {
     "cell_type": "markdown",
     "metadata": {},
     "source": [
      "If you want to be able to assign a variable to the output of a function, the function has to return that output using the return keyword.\n",
      "\n",
      "    def add(x, y):\n",
      "        result = x + y\n",
      "        return result\n",
      "\n",
      "or, even shorter:\n",
      "\n",
      "    def add(x, y):\n",
      "        return x + y\n",
      "\n",
      "You can return any Python object: numbers, strings, booleans ... even other functions!\n",
      "\n",
      "Once you execute a return, you are done with the function -- you don't get to do any more work. That means if you have a function like this:\n",
      "\n",
      "    def absolute_value(number):\n",
      "        if number < 0:\n",
      "            return number * -1\n",
      "        return number\n",
      "\n",
      "if number is less than 0, you return number * -1 and never even get to the last line of the function. However, if number is greater than or equal to 0, the if expression evaluates to False, so we skip the code in the if block and return number.\n",
      "\n",
      "We could have written the above function like this if we wanted. It's the same logic, just more typing:\n",
      "\n",
      "    def absolute_value(number):\n",
      "        if number < 0:\n",
      "            return number * -1\n",
      "        else:\n",
      "            return number"
     ]
    },
    {
     "cell_type": "heading",
     "level": 2,
     "metadata": {},
     "source": [
      "Step 4: use the function"
     ]
    },
    {
     "cell_type": "markdown",
     "metadata": {},
     "source": [
      "Once you define a function you can use it as many times as you want.  Go ahead and type this function definition in and execute it.\n",
      "\n",
      "    def add(x, y):\n",
      "        return x + y\n"
     ]
    },
    {
     "cell_type": "code",
     "collapsed": false,
     "input": [],
     "language": "python",
     "metadata": {},
     "outputs": []
    },
    {
     "cell_type": "markdown",
     "metadata": {},
     "source": [
      "Now you can use it as many times as you want, passing in whatever arguments you want."
     ]
    },
    {
     "cell_type": "markdown",
     "metadata": {},
     "source": [
      "\n",
      "    result = add(1234, 5678)\n",
      "    print(result)\n"
     ]
    },
    {
     "cell_type": "code",
     "collapsed": false,
     "input": [],
     "language": "python",
     "metadata": {},
     "outputs": []
    },
    {
     "cell_type": "markdown",
     "metadata": {},
     "source": [
      "\n",
      "    result = add(-1.5, .5)\n",
      "    print(result)\n"
     ]
    },
    {
     "cell_type": "code",
     "collapsed": false,
     "input": [],
     "language": "python",
     "metadata": {},
     "outputs": []
    },
    {
     "cell_type": "markdown",
     "metadata": {},
     "source": [
      "\n",
      "Functions don't have to return anything, if you don't want them to. They usually return something because we usually want to be able to assign variables to their output."
     ]
    },
    {
     "cell_type": "markdown",
     "metadata": {},
     "source": [
      "## Lists\n",
      "Very often in a programming language, we want to keep a group of similar items together. Python does this using a data type called a **list**.\n",
      "\n",
      "    days_of_the_week = [\"Monday\", \"Tuesday\", \"Wednesday\", \"Thursday\", \"Friday\", \"Saturday\"]"
     ]
    },
    {
     "cell_type": "code",
     "collapsed": false,
     "input": [],
     "language": "python",
     "metadata": {},
     "outputs": []
    },
    {
     "cell_type": "markdown",
     "metadata": {},
     "source": [
      "    type(days_of_the_week)"
     ]
    },
    {
     "cell_type": "code",
     "collapsed": false,
     "input": [],
     "language": "python",
     "metadata": {},
     "outputs": []
    },
    {
     "cell_type": "markdown",
     "metadata": {},
     "source": [
      "You can access the members of a list using the **index** of that item:\n",
      "\n",
      "    days_of_the_week[2]"
     ]
    },
    {
     "cell_type": "code",
     "collapsed": false,
     "input": [],
     "language": "python",
     "metadata": {},
     "outputs": []
    },
    {
     "cell_type": "markdown",
     "metadata": {},
     "source": [
      "The index is an integer which specifies the element we want. A little confusingly Python uses 0 as the index of the first element of a list. Thus, in this example, the 0 element is \"Sunday\", 1 is \"Monday\", and so on. \n",
      "\n",
      "If you want to count back from the last element of a list you use a negative index. An index of -1 corresponds to the last element of the list, whilst an index of -2 corresponds to the second to last element, -3 the third last, etc. etc..\n",
      "\n",
      "    days_of_the_week[-1]"
     ]
    },
    {
     "cell_type": "code",
     "collapsed": false,
     "input": [],
     "language": "python",
     "metadata": {},
     "outputs": []
    },
    {
     "cell_type": "markdown",
     "metadata": {},
     "source": [
      "If you try and provide an index that goes beyond the last element of a list Python will throw an IndexError.\n",
      "\n",
      "    days_of_the_week[8]"
     ]
    },
    {
     "cell_type": "code",
     "collapsed": false,
     "input": [],
     "language": "python",
     "metadata": {},
     "outputs": []
    },
    {
     "cell_type": "markdown",
     "metadata": {},
     "source": [
      "The same is true if you count backwards and go beyond the first element of a list:\n",
      "    \n",
      "    days_of_the_week[-8]"
     ]
    },
    {
     "cell_type": "code",
     "collapsed": false,
     "input": [],
     "language": "python",
     "metadata": {},
     "outputs": []
    },
    {
     "cell_type": "markdown",
     "metadata": {},
     "source": [
      "Lists are very general and do not have to hold the same data type. For example:\n",
      "\n",
      "    [\"Today\", 7, 99.3, \"\"]"
     ]
    },
    {
     "cell_type": "code",
     "collapsed": false,
     "input": [],
     "language": "python",
     "metadata": {},
     "outputs": []
    },
    {
     "cell_type": "markdown",
     "metadata": {},
     "source": [
      "They can even contain other lists:\n",
      "    \n",
      "    outer_list = [ [1, 2, 3], [4, 5, 6], [7, 8, 9] ]"
     ]
    },
    {
     "cell_type": "code",
     "collapsed": false,
     "input": [],
     "language": "python",
     "metadata": {},
     "outputs": []
    },
    {
     "cell_type": "markdown",
     "metadata": {},
     "source": [
      "Just as we can access the members of a list with an index:\n",
      "\n",
      "    outer_list[2]"
     ]
    },
    {
     "cell_type": "code",
     "collapsed": false,
     "input": [],
     "language": "python",
     "metadata": {},
     "outputs": []
    },
    {
     "cell_type": "markdown",
     "metadata": {},
     "source": [
      "    "
     ]
    },
    {
     "cell_type": "markdown",
     "metadata": {},
     "source": [
      "So too we can access the members of an inner list by an extra index\n",
      "\n",
      "    outer_list[2][0]"
     ]
    },
    {
     "cell_type": "code",
     "collapsed": false,
     "input": [],
     "language": "python",
     "metadata": {},
     "outputs": []
    },
    {
     "cell_type": "markdown",
     "metadata": {},
     "source": [
      "If the above looks a bit confusing here's an alternative way of getting the same answer that shows what's happening when this double index is being used:\n",
      "\n",
      "    inner_list = outer_list[2]\n",
      "    inner_element = inner_list[0]\n",
      "    print(inner_element)"
     ]
    },
    {
     "cell_type": "code",
     "collapsed": false,
     "input": [],
     "language": "python",
     "metadata": {},
     "outputs": []
    },
    {
     "cell_type": "markdown",
     "metadata": {},
     "source": [
      "Like strings we can concatenate lists together\n",
      "\n",
      "    [1, 2, 3] + [4, 5, 6]"
     ]
    },
    {
     "cell_type": "code",
     "collapsed": false,
     "input": [],
     "language": "python",
     "metadata": {},
     "outputs": []
    },
    {
     "cell_type": "markdown",
     "metadata": {},
     "source": [
      "As expected the combination is another list:\n",
      "    \n",
      "    first_list = [1, 2, 3]\n",
      "    second_list = [4, 5, 6]\n",
      "    concat_list = a + b\n",
      "    type(concat_list)"
     ]
    },
    {
     "cell_type": "code",
     "collapsed": false,
     "input": [],
     "language": "python",
     "metadata": {},
     "outputs": []
    },
    {
     "cell_type": "markdown",
     "metadata": {},
     "source": [
      "And like strings we can use the **len()** function to find out how long they are:\n",
      "    \n",
      "    len(outer_list)"
     ]
    },
    {
     "cell_type": "code",
     "collapsed": false,
     "input": [],
     "language": "python",
     "metadata": {},
     "outputs": []
    },
    {
     "cell_type": "markdown",
     "metadata": {},
     "source": [
      "We can also check whether a particular object is inside a list\n",
      "    \n",
      "    1 in [1,2,3]\n",
      "    "
     ]
    },
    {
     "cell_type": "code",
     "collapsed": false,
     "input": [],
     "language": "python",
     "metadata": {},
     "outputs": []
    },
    {
     "cell_type": "markdown",
     "metadata": {},
     "source": [
      "\n",
      "    'a' in ['b','c','d','e']\n",
      "    "
     ]
    },
    {
     "cell_type": "code",
     "collapsed": false,
     "input": [],
     "language": "python",
     "metadata": {},
     "outputs": []
    },
    {
     "cell_type": "markdown",
     "metadata": {},
     "source": [
      "Above we used the '+' operator to add more elements to a list, there is alternative to this - the special 'append' method, this is a special function that adds a new element to the list. You use like this:\n",
      "\n",
      "    languages = [\"Fortran\", \"C\", \"C++\"]\n",
      "    languages.append(\"Python\")\n",
      "    print(languages)"
     ]
    },
    {
     "cell_type": "code",
     "collapsed": false,
     "input": [],
     "language": "python",
     "metadata": {},
     "outputs": []
    },
    {
     "cell_type": "markdown",
     "metadata": {},
     "source": [
      "*All the datatypes have special functions called **methods** associated with them, if you are inside an IPython notebook or an IPython console you can see what methods a particular variable has associated with it by typing out the name of the variable followed by '.' and then hitting the tab button.* Try it with one of the variables we defined above:"
     ]
    },
    {
     "cell_type": "code",
     "collapsed": false,
     "input": [],
     "language": "python",
     "metadata": {},
     "outputs": []
    },
    {
     "cell_type": "heading",
     "level": 1,
     "metadata": {},
     "source": [
      "Loops"
     ]
    },
    {
     "cell_type": "markdown",
     "metadata": {},
     "source": [
      "Hand in hand with lists of objects is a way to perform actions on each of the members of the list in turn. These are called loops.\n",
      "Suppose we have a list of numbers:\n",
      "    \n",
      "    my_new_list = [0, 1, 2, 3, 4, 5]"
     ]
    },
    {
     "cell_type": "code",
     "collapsed": false,
     "input": [],
     "language": "python",
     "metadata": {},
     "outputs": []
    },
    {
     "cell_type": "markdown",
     "metadata": {},
     "source": [
      "And we want to print out the elements of the list line by line. We could do that with:\n",
      "    \n",
      "    print(my_new_list[0])\n",
      "    print(my_new_list[1])\n",
      "    print(my_new_list[2])\n",
      "    print(my_new_list[3])\n",
      "    print(my_new_list[4])"
     ]
    },
    {
     "cell_type": "code",
     "collapsed": false,
     "input": [],
     "language": "python",
     "metadata": {},
     "outputs": []
    },
    {
     "cell_type": "markdown",
     "metadata": {},
     "source": [
      "But that's a lot of work, loops offer a more concise way of doing this. Try executing the following:\n",
      "\n",
      "    for current_int in my_new_list:\n",
      "        print(current_int)"
     ]
    },
    {
     "cell_type": "code",
     "collapsed": false,
     "input": [],
     "language": "python",
     "metadata": {},
     "outputs": []
    },
    {
     "cell_type": "markdown",
     "metadata": {},
     "source": [
      "As you can see it produces identical results to the more verbose version we tried initially.\n",
      "\n",
      "Loops work by assigning a temporary name (in this case *item*) to the first element of the list, executing some code (which is indented under the first line), then setting the temporary name to the second element re-executing the code, then setting the temporary name to the third element, re-executing the code, etc. etc."
     ]
    },
    {
     "cell_type": "markdown",
     "metadata": {},
     "source": [
      "It doesn't make a difference what temporary name we choose but we should try and pick something that makes sense to us. The following produces the same output but would be very confusing to someone trying to read our code:\n",
      "\n",
      "    for my_new_string in my_new_list:\n",
      "        print(my_new_string)"
     ]
    },
    {
     "cell_type": "code",
     "collapsed": false,
     "input": [],
     "language": "python",
     "metadata": {},
     "outputs": []
    },
    {
     "cell_type": "markdown",
     "metadata": {},
     "source": [
      "Just as with if statements loops are not limited to a single line:\n",
      "    \n",
      "    for i in my_new_list:\n",
      "        temp_var1 = i+2\n",
      "        temp_var2 = temp_var1 * 10\n",
      "        print(temp_var2)"
     ]
    },
    {
     "cell_type": "code",
     "collapsed": false,
     "input": [],
     "language": "python",
     "metadata": {},
     "outputs": []
    },
    {
     "cell_type": "markdown",
     "metadata": {},
     "source": [
      "Lists of integers are so useful python has a built in function *range* that creates them for us.\n",
      "\n",
      "    range(9)"
     ]
    },
    {
     "cell_type": "code",
     "collapsed": false,
     "input": [],
     "language": "python",
     "metadata": {},
     "outputs": []
    },
    {
     "cell_type": "markdown",
     "metadata": {},
     "source": [
      "The simplest way to use range is to pass it an integer N, if you do so it returns a list of integers starting at 0 and containing all integers up to N-1. You can optionally specify a starting integer if you want to the list to start later than 0.\n",
      "    \n",
      "    range(2, 9)"
     ]
    },
    {
     "cell_type": "code",
     "collapsed": false,
     "input": [],
     "language": "python",
     "metadata": {},
     "outputs": []
    },
    {
     "cell_type": "markdown",
     "metadata": {},
     "source": [
      "And finally you can specify an interval:\n",
      "   \n",
      "    range(2, 9, 2)"
     ]
    },
    {
     "cell_type": "code",
     "collapsed": false,
     "input": [],
     "language": "python",
     "metadata": {},
     "outputs": []
    },
    {
     "cell_type": "markdown",
     "metadata": {},
     "source": [
      "*These inbuilt python functions might seem like voodoo but there are only a handfull of them and they are listed in the [official documentation](http://docs.python.org/2/library/functions.html)*\n",
      "    "
     ]
    },
    {
     "cell_type": "heading",
     "level": 1,
     "metadata": {},
     "source": [
      "Part 2 Practice"
     ]
    },
    {
     "cell_type": "markdown",
     "metadata": {},
     "source": [
      "Like the practice session before we won't make you type the following code out - you can just execute the cells directly. As before try and look at the examples first and see if you can work out what the output from the cells will be. They are little tricky so if you have any problems grab one of the demonstrators and they'll explain what's going on. "
     ]
    },
    {
     "cell_type": "code",
     "collapsed": false,
     "input": [
      "def sum_my_list(my_list):\n",
      "    sum = 0\n",
      "    \n",
      "    for ele in my_list:\n",
      "        sum = sum + ele\n",
      "    return sum\n",
      "\n",
      "sum_my_list([1,2,3])"
     ],
     "language": "python",
     "metadata": {},
     "outputs": []
    },
    {
     "cell_type": "code",
     "collapsed": false,
     "input": [
      "first_list = range(5)\n",
      "second_list = range(3,8)\n",
      "\n",
      "for ele in first_list:\n",
      "    if ele in second_list:\n",
      "        print(ele)"
     ],
     "language": "python",
     "metadata": {},
     "outputs": []
    },
    {
     "cell_type": "code",
     "collapsed": false,
     "input": [
      "orig_list = ['a','b','c','d']\n",
      "copy_list = []\n",
      "\n",
      "for ele in orig_list:\n",
      "    copy_list.append(ele)\n",
      "    \n",
      "print(orig_list)\n",
      "print(copy_list)"
     ],
     "language": "python",
     "metadata": {},
     "outputs": []
    },
    {
     "cell_type": "code",
     "collapsed": false,
     "input": [
      "data = range(10)\n",
      "processed_data = []\n",
      "\n",
      "for datum in data:\n",
      "    if datum < 5:\n",
      "        processed_data.append(datum * 2)\n",
      "\n",
      "for proc_datum in processed_data:\n",
      "    print(proc_datum)"
     ],
     "language": "python",
     "metadata": {},
     "outputs": []
    },
    {
     "cell_type": "heading",
     "level": 1,
     "metadata": {},
     "source": [
      "End of Part 2"
     ]
    },
    {
     "cell_type": "markdown",
     "metadata": {},
     "source": [
      "Congratulations! You've learned about and practiced executing Python scripts, booleans, conditionals, and if/else blocks, you've written your own Python functions and you've learned how to use lists and loops! This is a huge accomplishment!\n",
      "\n",
      "Be sure to ask the demonstrators if you have any questions about the material.\n",
      "\n",
      "There is a notebook of exercises associated with what we've covered in this workshop called Intro_to_Python_exercises, you can find it from the IPython dashboard.\n",
      "\n",
      "Next time we'll be looking at using the commands we've learned to model processes, analyse and plot data and construct time saving scripts."
     ]
    }
   ],
   "metadata": {}
  }
 ]
}