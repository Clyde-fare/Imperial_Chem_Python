{
 "metadata": {
  "name": ""
 },
 "nbformat": 3,
 "nbformat_minor": 0,
 "worksheets": [
  {
   "cells": [
    {
     "cell_type": "heading",
     "level": 1,
     "metadata": {},
     "source": [
      "Initial Workshop"
     ]
    },
    {
     "cell_type": "markdown",
     "metadata": {},
     "source": [
      "This workshop covers several core programming concepts, there are exercises at the middle and end to help review the material.\n",
      "\n",
      "This is an interactive tutorial! As you go through it any time you see something that looks like this:\n",
      "\n",
      "    a = \"Hello\"\n",
      "   \n",
      "that's followed by an empty *code cell* (a light grey rectagle with a label like *\"In[ ]\"*), you should \n",
      "type the expression in the code cell, hit Shift+Return to *execute* it, and note the output.\n",
      "\n",
      "No copying and pasting! You'll learn the concepts better if you type them out yourself."
     ]
    },
    {
     "cell_type": "heading",
     "level": 1,
     "metadata": {},
     "source": [
      "Maths"
     ]
    },
    {
     "cell_type": "markdown",
     "metadata": {},
     "source": [
      "![Calculator](files/images/100px-Calculator.png)\n",
      "\n",
      "Maths in Python looks a lot like math you type into a calculator. A Python prompt makes a great calculator if you need to crunch some numbers and don't have a good calculator handy."
     ]
    },
    {
     "cell_type": "heading",
     "level": 2,
     "metadata": {},
     "source": [
      "Addition"
     ]
    },
    {
     "cell_type": "markdown",
     "metadata": {},
     "source": [
      "    2 + 2"
     ]
    },
    {
     "cell_type": "code",
     "collapsed": false,
     "input": [
      "2+2"
     ],
     "language": "python",
     "metadata": {},
     "outputs": [
      {
       "metadata": {},
       "output_type": "pyout",
       "prompt_number": 1,
       "text": [
        "4"
       ]
      }
     ],
     "prompt_number": 1
    },
    {
     "cell_type": "markdown",
     "metadata": {},
     "source": [
      "    1.5 + 2.25"
     ]
    },
    {
     "cell_type": "code",
     "collapsed": false,
     "input": [
      "1.5+2.25"
     ],
     "language": "python",
     "metadata": {},
     "outputs": [
      {
       "metadata": {},
       "output_type": "pyout",
       "prompt_number": 2,
       "text": [
        "3.75"
       ]
      }
     ],
     "prompt_number": 2
    },
    {
     "cell_type": "heading",
     "level": 2,
     "metadata": {},
     "source": [
      "Subtraction"
     ]
    },
    {
     "cell_type": "markdown",
     "metadata": {},
     "source": [
      "    4 - 2"
     ]
    },
    {
     "cell_type": "code",
     "collapsed": false,
     "input": [
      "4-2"
     ],
     "language": "python",
     "metadata": {},
     "outputs": [
      {
       "metadata": {},
       "output_type": "pyout",
       "prompt_number": 3,
       "text": [
        "2"
       ]
      }
     ],
     "prompt_number": 3
    },
    {
     "cell_type": "markdown",
     "metadata": {},
     "source": [
      "    "
     ]
    },
    {
     "cell_type": "markdown",
     "metadata": {},
     "source": [
      "    100 - .5"
     ]
    },
    {
     "cell_type": "code",
     "collapsed": false,
     "input": [],
     "language": "python",
     "metadata": {},
     "outputs": []
    },
    {
     "cell_type": "markdown",
     "metadata": {},
     "source": [
      "    0 - 2"
     ]
    },
    {
     "cell_type": "code",
     "collapsed": false,
     "input": [],
     "language": "python",
     "metadata": {},
     "outputs": []
    },
    {
     "cell_type": "heading",
     "level": 2,
     "metadata": {},
     "source": [
      "Multiplication"
     ]
    },
    {
     "cell_type": "markdown",
     "metadata": {},
     "source": [
      "    2 * 3    "
     ]
    },
    {
     "cell_type": "code",
     "collapsed": false,
     "input": [],
     "language": "python",
     "metadata": {},
     "outputs": []
    },
    {
     "cell_type": "heading",
     "level": 2,
     "metadata": {},
     "source": [
      "Division"
     ]
    },
    {
     "cell_type": "markdown",
     "metadata": {},
     "source": [
      "    4 / 2"
     ]
    },
    {
     "cell_type": "code",
     "collapsed": false,
     "input": [],
     "language": "python",
     "metadata": {},
     "outputs": []
    },
    {
     "cell_type": "markdown",
     "metadata": {},
     "source": [
      "    1 / 2"
     ]
    },
    {
     "cell_type": "code",
     "collapsed": false,
     "input": [],
     "language": "python",
     "metadata": {},
     "outputs": []
    },
    {
     "cell_type": "markdown",
     "metadata": {},
     "source": [
      "That last result is probably not what you expected. What's going on here is that integer divison produces an integer. You need a number that knows about the decimal point to get a decimal out of division:\n",
      "\n",
      "    1.0 / 2"
     ]
    },
    {
     "cell_type": "code",
     "collapsed": false,
     "input": [],
     "language": "python",
     "metadata": {},
     "outputs": []
    },
    {
     "cell_type": "markdown",
     "metadata": {},
     "source": [
      "This means you have to be careful when manipulating fractions. If you were doing some baking and needed to add 3/4 of a cup of flour and 1/4 of a cup of flour, we know in our heads that 3/4 + 1/4 = 1 cup. But try that at the Python prompt:\n",
      "\n",
      "    3/4 + 1/4"
     ]
    },
    {
     "cell_type": "code",
     "collapsed": false,
     "input": [],
     "language": "python",
     "metadata": {},
     "outputs": []
    },
    {
     "cell_type": "markdown",
     "metadata": {},
     "source": [
      "What do you need to do to get the right answer? Use data types that understand decimals for each of the divisions:\n",
      "\n",
      "    3.0/4 + 1.0/4"
     ]
    },
    {
     "cell_type": "code",
     "collapsed": false,
     "input": [],
     "language": "python",
     "metadata": {},
     "outputs": []
    },
    {
     "cell_type": "markdown",
     "metadata": {},
     "source": [
      "    3.0/4.0 + 1.0/4.0"
     ]
    },
    {
     "cell_type": "code",
     "collapsed": false,
     "input": [],
     "language": "python",
     "metadata": {},
     "outputs": []
    },
    {
     "cell_type": "markdown",
     "metadata": {},
     "source": [
      "The two previous expressions produce the same result. You only need to make one of the numbers in each fraction have a decimal. When the Python interpreter goes to do the division, it notices that one of the numbers in the fraction cares about decimals and says \"that means I have to make the other number care about decimals too\"."
     ]
    },
    {
     "cell_type": "heading",
     "level": 1,
     "metadata": {},
     "source": [
      "Types"
     ]
    },
    {
     "cell_type": "markdown",
     "metadata": {},
     "source": [
      "![Image of shapes](files/images/150px-Geometry.png)\n",
      "\n",
      "There's a helpful function (more on what a function is in a second) called type that tells you what kind of thing -- what data type -- Python thinks something is. We can check for ourselves that Python considers '1' and '1.0' to be different data types:\n",
      "\n",
      "    type(1)"
     ]
    },
    {
     "cell_type": "code",
     "collapsed": false,
     "input": [
      "type(1)"
     ],
     "language": "python",
     "metadata": {},
     "outputs": [
      {
       "metadata": {},
       "output_type": "pyout",
       "prompt_number": 4,
       "text": [
        "int"
       ]
      }
     ],
     "prompt_number": 4
    },
    {
     "cell_type": "markdown",
     "metadata": {},
     "source": [
      "    type(1.0)"
     ]
    },
    {
     "cell_type": "code",
     "collapsed": false,
     "input": [
      "type(1.0)"
     ],
     "language": "python",
     "metadata": {},
     "outputs": [
      {
       "metadata": {},
       "output_type": "pyout",
       "prompt_number": 5,
       "text": [
        "float"
       ]
      }
     ],
     "prompt_number": 5
    },
    {
     "cell_type": "markdown",
     "metadata": {},
     "source": [
      "So now we've seen two data types: integers and floats.\n",
      "\n",
      "I used the term 'function' without explaining what it is -- we'll talk about functions more in a bit, and write our own, but for now know these things:\n",
      "\n",
      "- Functions encapsulate some useful bit of work. We save that useful bit of work inside the function so we don't have to type it over and over again every time we want to use it. So, for example, some nice person decided that being able to determine the type of an object was useful, so he or she put the Python code that figures out an object's type into the function type, and now we all get to use it, instead of having to write it ourselves.\n",
      "- Functions are sort of like functions in math class. You provide input to a function and it produces output. The type function takes data as an input, and produces what type of data the data is (e.g. an integer or a float) as output.\n",
      "\n",
      "To use a function, write the name of the function followed by an open parenthesis, what the function takes as input (we call that input the arguments to the function), and then a close parenthesis.\n",
      "\n",
      "So in this case 'type' is the name of the function, and it takes one argument; in the example we first give type an argument of 1 and then give it an argument of 1.0."
     ]
    },
    {
     "cell_type": "heading",
     "level": 1,
     "metadata": {},
     "source": [
      "Variables"
     ]
    },
    {
     "cell_type": "markdown",
     "metadata": {},
     "source": [
      "A lot of work gets done in Python using variables. Variables are a lot like the variables in math class, except that in Python variables can be of any data type, not just numbers.\n",
      "\n",
      "    type(4)"
     ]
    },
    {
     "cell_type": "code",
     "collapsed": false,
     "input": [
      "type(4)"
     ],
     "language": "python",
     "metadata": {},
     "outputs": [
      {
       "metadata": {},
       "output_type": "pyout",
       "prompt_number": 6,
       "text": [
        "int"
       ]
      }
     ],
     "prompt_number": 6
    },
    {
     "cell_type": "markdown",
     "metadata": {},
     "source": [
      "    x = 4"
     ]
    },
    {
     "cell_type": "code",
     "collapsed": false,
     "input": [
      "x=4"
     ],
     "language": "python",
     "metadata": {},
     "outputs": [],
     "prompt_number": 7
    },
    {
     "cell_type": "markdown",
     "metadata": {},
     "source": [
      "    x"
     ]
    },
    {
     "cell_type": "code",
     "collapsed": false,
     "input": [
      "x"
     ],
     "language": "python",
     "metadata": {},
     "outputs": [
      {
       "metadata": {},
       "output_type": "pyout",
       "prompt_number": 8,
       "text": [
        "4"
       ]
      }
     ],
     "prompt_number": 8
    },
    {
     "cell_type": "markdown",
     "metadata": {},
     "source": [
      "    type(x)"
     ]
    },
    {
     "cell_type": "code",
     "collapsed": false,
     "input": [
      "type(x)"
     ],
     "language": "python",
     "metadata": {},
     "outputs": [
      {
       "metadata": {},
       "output_type": "pyout",
       "prompt_number": 9,
       "text": [
        "int"
       ]
      }
     ],
     "prompt_number": 9
    },
    {
     "cell_type": "markdown",
     "metadata": {},
     "source": [
      "    2 * x"
     ]
    },
    {
     "cell_type": "code",
     "collapsed": false,
     "input": [
      "2*x"
     ],
     "language": "python",
     "metadata": {},
     "outputs": [
      {
       "metadata": {},
       "output_type": "pyout",
       "prompt_number": 10,
       "text": [
        "8"
       ]
      }
     ],
     "prompt_number": 10
    },
    {
     "cell_type": "markdown",
     "metadata": {},
     "source": [
      "Giving a name to something, so that you can refer to it by that name, is called *assignment*. Above, we assigned the name \"`x`\" to 4, and after that we can use `x` wherever we want to use the number 4.\n",
      "\n",
      "Variables can't have spaces or other special characters, and they need to start with a letter. Here are some valid variable names:\n",
      "\n",
      "    magic_number = 1500\n",
      "    amountOfFlour = .75\n",
      "    my_name = \"Jessica\"\n",
      "\n",
      "Projects develop naming conventions: maybe multi-word variable names use underscores (like magic_number), or \"camel case\" (like amountOfFlour). The most important thing is to be consistent within a project, because it makes the code more readable."
     ]
    },
    {
     "cell_type": "heading",
     "level": 1,
     "metadata": {},
     "source": [
      "Output"
     ]
    },
    {
     "cell_type": "markdown",
     "metadata": {},
     "source": [
      "Notice how if you type a 4 and hit enter, the Python interpreter spits a 4 back out:\n",
      "\n",
      "    4"
     ]
    },
    {
     "cell_type": "code",
     "collapsed": false,
     "input": [
      "4"
     ],
     "language": "python",
     "metadata": {},
     "outputs": [
      {
       "metadata": {},
       "output_type": "pyout",
       "prompt_number": 11,
       "text": [
        "4"
       ]
      }
     ],
     "prompt_number": 11
    },
    {
     "cell_type": "markdown",
     "metadata": {},
     "source": [
      "But if you assign 4 to a variable, nothing is printed:\n",
      "\n",
      "    x = 4"
     ]
    },
    {
     "cell_type": "code",
     "collapsed": false,
     "input": [
      "x=4"
     ],
     "language": "python",
     "metadata": {},
     "outputs": [],
     "prompt_number": 12
    },
    {
     "cell_type": "markdown",
     "metadata": {},
     "source": [
      "You can think of it as that something needs to get the output. Without an assignment, the winner is the screen. With assignment, the output goes to the variable.\n",
      "\n",
      "You can reassign variables if you want:\n",
      "\n",
      "    x = 4"
     ]
    },
    {
     "cell_type": "code",
     "collapsed": false,
     "input": [
      "x=4"
     ],
     "language": "python",
     "metadata": {},
     "outputs": [],
     "prompt_number": 13
    },
    {
     "cell_type": "markdown",
     "metadata": {},
     "source": [
      "    x"
     ]
    },
    {
     "cell_type": "code",
     "collapsed": false,
     "input": [
      "x"
     ],
     "language": "python",
     "metadata": {},
     "outputs": [
      {
       "metadata": {},
       "output_type": "pyout",
       "prompt_number": 14,
       "text": [
        "4"
       ]
      }
     ],
     "prompt_number": 14
    },
    {
     "cell_type": "markdown",
     "metadata": {},
     "source": [
      "    x = 5"
     ]
    },
    {
     "cell_type": "code",
     "collapsed": false,
     "input": [
      "x=5"
     ],
     "language": "python",
     "metadata": {},
     "outputs": [],
     "prompt_number": 15
    },
    {
     "cell_type": "markdown",
     "metadata": {},
     "source": [
      "    x"
     ]
    },
    {
     "cell_type": "code",
     "collapsed": false,
     "input": [
      "x"
     ],
     "language": "python",
     "metadata": {},
     "outputs": [
      {
       "metadata": {},
       "output_type": "pyout",
       "prompt_number": 16,
       "text": [
        "5"
       ]
      }
     ],
     "prompt_number": 16
    },
    {
     "cell_type": "markdown",
     "metadata": {},
     "source": [
      "Sometimes reassigning a variable is an accident and causes bugs in programs.\n",
      "\n",
      "    x = 3"
     ]
    },
    {
     "cell_type": "code",
     "collapsed": false,
     "input": [
      "x=3"
     ],
     "language": "python",
     "metadata": {},
     "outputs": [],
     "prompt_number": 17
    },
    {
     "cell_type": "markdown",
     "metadata": {},
     "source": [
      "    y = 4"
     ]
    },
    {
     "cell_type": "code",
     "collapsed": false,
     "input": [
      "y=4"
     ],
     "language": "python",
     "metadata": {},
     "outputs": [],
     "prompt_number": 18
    },
    {
     "cell_type": "markdown",
     "metadata": {},
     "source": [
      "    x * y"
     ]
    },
    {
     "cell_type": "code",
     "collapsed": false,
     "input": [
      "x*y"
     ],
     "language": "python",
     "metadata": {},
     "outputs": [
      {
       "metadata": {},
       "output_type": "pyout",
       "prompt_number": 19,
       "text": [
        "12"
       ]
      }
     ],
     "prompt_number": 19
    },
    {
     "cell_type": "markdown",
     "metadata": {},
     "source": [
      "    x * x"
     ]
    },
    {
     "cell_type": "code",
     "collapsed": false,
     "input": [
      "x*x"
     ],
     "language": "python",
     "metadata": {},
     "outputs": [
      {
       "metadata": {},
       "output_type": "pyout",
       "prompt_number": 20,
       "text": [
        "9"
       ]
      }
     ],
     "prompt_number": 20
    },
    {
     "cell_type": "markdown",
     "metadata": {},
     "source": [
      "    2 * x - 1 * y"
     ]
    },
    {
     "cell_type": "code",
     "collapsed": false,
     "input": [],
     "language": "python",
     "metadata": {},
     "outputs": []
    },
    {
     "cell_type": "markdown",
     "metadata": {},
     "source": [
      "Order of operations works pretty much like how you learned in school. If you're unsure of an ordering, you can add parentheses like on a calculator:\n",
      "\n",
      "    (2 * x) - (1 * y)"
     ]
    },
    {
     "cell_type": "code",
     "collapsed": false,
     "input": [],
     "language": "python",
     "metadata": {},
     "outputs": []
    },
    {
     "cell_type": "markdown",
     "metadata": {},
     "source": [
      "Note that the spacing doesn't matter:\n",
      "\n",
      "    x = 4"
     ]
    },
    {
     "cell_type": "code",
     "collapsed": false,
     "input": [],
     "language": "python",
     "metadata": {},
     "outputs": []
    },
    {
     "cell_type": "markdown",
     "metadata": {},
     "source": [
      "and\n",
      "\n",
      "    x=4"
     ]
    },
    {
     "cell_type": "code",
     "collapsed": false,
     "input": [],
     "language": "python",
     "metadata": {},
     "outputs": []
    },
    {
     "cell_type": "markdown",
     "metadata": {},
     "source": [
      "are both valid Python and mean the same thing.\n",
      "\n",
      "    (2 * x) - (1 * y)"
     ]
    },
    {
     "cell_type": "code",
     "collapsed": false,
     "input": [],
     "language": "python",
     "metadata": {},
     "outputs": []
    },
    {
     "cell_type": "markdown",
     "metadata": {},
     "source": [
      "and"
     ]
    },
    {
     "cell_type": "code",
     "collapsed": false,
     "input": [],
     "language": "python",
     "metadata": {},
     "outputs": []
    },
    {
     "cell_type": "markdown",
     "metadata": {},
     "source": [
      "    (2*x)-(1*y)"
     ]
    },
    {
     "cell_type": "code",
     "collapsed": false,
     "input": [],
     "language": "python",
     "metadata": {},
     "outputs": []
    },
    {
     "cell_type": "markdown",
     "metadata": {},
     "source": [
      "are also both valid and mean the same thing. You should strive to be consistent with whatever spacing you like or a job requires, since it makes reading the code easier.\n",
      "\n",
      "You aren't cheating and skipping typing these exercises out, are you? Good! :)"
     ]
    },
    {
     "cell_type": "heading",
     "level": 1,
     "metadata": {},
     "source": [
      "Strings"
     ]
    },
    {
     "cell_type": "markdown",
     "metadata": {},
     "source": [
      "So far we've seen two data types: integers and floats. Another useful data type is a string, which is just what Python calls a bunch of characters (like numbers, letters, whitespace, and punctuation) put together. Strings are indicated by being surrounded by quotes:\n",
      "\n",
      "    \"Hello\"\n"
     ]
    },
    {
     "cell_type": "code",
     "collapsed": false,
     "input": [],
     "language": "python",
     "metadata": {},
     "outputs": []
    },
    {
     "cell_type": "markdown",
     "metadata": {},
     "source": [
      "    \"Python, I'm your #1 fan!\"\n"
     ]
    },
    {
     "cell_type": "code",
     "collapsed": false,
     "input": [],
     "language": "python",
     "metadata": {},
     "outputs": [],
     "prompt_number": 20
    },
    {
     "cell_type": "markdown",
     "metadata": {},
     "source": [
      "Like with the math data types above, we can use the type function to check the type of strings:\n",
      "\n",
      "    type(\"Hello\")\n"
     ]
    },
    {
     "cell_type": "code",
     "collapsed": false,
     "input": [
      "type(\"Hello\")"
     ],
     "language": "python",
     "metadata": {},
     "outputs": [
      {
       "metadata": {},
       "output_type": "pyout",
       "prompt_number": 21,
       "text": [
        "str"
       ]
      }
     ],
     "prompt_number": 21
    },
    {
     "cell_type": "markdown",
     "metadata": {},
     "source": [
      "    type(1)"
     ]
    },
    {
     "cell_type": "code",
     "collapsed": false,
     "input": [],
     "language": "python",
     "metadata": {},
     "outputs": []
    },
    {
     "cell_type": "markdown",
     "metadata": {},
     "source": [
      "    type(\"1\")"
     ]
    },
    {
     "cell_type": "code",
     "collapsed": false,
     "input": [],
     "language": "python",
     "metadata": {},
     "outputs": []
    },
    {
     "cell_type": "heading",
     "level": 2,
     "metadata": {},
     "source": [
      "String Concatenation"
     ]
    },
    {
     "cell_type": "markdown",
     "metadata": {},
     "source": [
      "You can combine strings (called \"concatenation\") using the '+' sign:\n",
      "\n",
      "    \"Hello\" + \"World\"\n",
      "    name = \"Mike\"\n",
      "    print(\"Hello \" + name)"
     ]
    },
    {
     "cell_type": "code",
     "collapsed": false,
     "input": [],
     "language": "python",
     "metadata": {},
     "outputs": []
    },
    {
     "cell_type": "heading",
     "level": 2,
     "metadata": {},
     "source": [
      "Printing"
     ]
    },
    {
     "cell_type": "markdown",
     "metadata": {},
     "source": [
      "You can print strings using print:\n",
      "\n",
      "    h = \"Hello\"\n"
     ]
    },
    {
     "cell_type": "code",
     "collapsed": false,
     "input": [],
     "language": "python",
     "metadata": {},
     "outputs": []
    },
    {
     "cell_type": "markdown",
     "metadata": {},
     "source": [
      "    w = \"World\"\n"
     ]
    },
    {
     "cell_type": "code",
     "collapsed": false,
     "input": [],
     "language": "python",
     "metadata": {},
     "outputs": []
    },
    {
     "cell_type": "markdown",
     "metadata": {},
     "source": [
      "    print(h + w)\n"
     ]
    },
    {
     "cell_type": "code",
     "collapsed": false,
     "input": [],
     "language": "python",
     "metadata": {},
     "outputs": []
    },
    {
     "cell_type": "markdown",
     "metadata": {},
     "source": [
      "    my_string = h + \" Weird \" + w\n"
     ]
    },
    {
     "cell_type": "code",
     "collapsed": false,
     "input": [],
     "language": "python",
     "metadata": {},
     "outputs": []
    },
    {
     "cell_type": "markdown",
     "metadata": {},
     "source": [
      "    print(my_string)\n"
     ]
    },
    {
     "cell_type": "code",
     "collapsed": false,
     "input": [],
     "language": "python",
     "metadata": {},
     "outputs": []
    },
    {
     "cell_type": "markdown",
     "metadata": {},
     "source": [
      "How about printing different data types together?\n",
      "\n",
      "    print(\"Hello\" + 1)"
     ]
    },
    {
     "cell_type": "code",
     "collapsed": false,
     "input": [
      "print(\"Hello\" + 1)"
     ],
     "language": "python",
     "metadata": {},
     "outputs": [
      {
       "ename": "TypeError",
       "evalue": "cannot concatenate 'str' and 'int' objects",
       "output_type": "pyerr",
       "traceback": [
        "\u001b[1;31m---------------------------------------------------------------------------\u001b[0m\n\u001b[1;31mTypeError\u001b[0m                                 Traceback (most recent call last)",
        "\u001b[1;32m<ipython-input-29-57bf9ff28863>\u001b[0m in \u001b[0;36m<module>\u001b[1;34m()\u001b[0m\n\u001b[1;32m----> 1\u001b[1;33m \u001b[1;32mprint\u001b[0m\u001b[1;33m(\u001b[0m\u001b[1;34m\"Hello\"\u001b[0m \u001b[1;33m+\u001b[0m \u001b[1;36m1\u001b[0m\u001b[1;33m)\u001b[0m\u001b[1;33m\u001b[0m\u001b[0m\n\u001b[0m",
        "\u001b[1;31mTypeError\u001b[0m: cannot concatenate 'str' and 'int' objects"
       ]
      }
     ],
     "prompt_number": 29
    },
    {
     "cell_type": "markdown",
     "metadata": {},
     "source": [
      "The output from the previous example was really different and interesting; let's break down exactly what happened:\n",
      "\n",
      "    >>> print(\"Hello\" + 1)   \n",
      "    Traceback (most recent call last):\n",
      "    File \"<stdin>\", line 1, in <module>\n",
      "    TypeError: cannot concatenate 'str' and 'int' objects\n",
      "\n",
      "Python is giving us a *traceback*. A traceback gives details on what was happening when Python encountered an Exception or Error -- something it doesn't know how to handle.\n",
      "\n",
      "There are many kinds of Python errors, with descriptive names to help us understand what went wrong. In this case we are getting a TypeError: we tried to do some operation on a data type that isn't supported for that data type.\n",
      "\n",
      "Python gives us a helpful error message as part of the TypeError:\n",
      "\n",
      "    \"cannot concatenate 'str' and 'int' objects\"\n",
      "\n",
      "We saw above the we can concatenate strings:\n",
      "\n",
      "    print(\"Hello\" + \"World\")\n",
      "\n",
      "works just fine.\n",
      "\n",
      "However,\n",
      "\n",
      "    print(\"Hello\" + 1)\n",
      "\n",
      "produces a TypeError. We are telling Python to concatenate a string and an integer, and that's not something Python understands how to do.\n",
      "\n",
      "We can convert an integer into a string ourselves, using the `str` function:\n",
      "\n",
      "    print(\"Hello\" + str(1))"
     ]
    },
    {
     "cell_type": "code",
     "collapsed": false,
     "input": [],
     "language": "python",
     "metadata": {},
     "outputs": []
    },
    {
     "cell_type": "markdown",
     "metadata": {},
     "source": [
      "Like the type function from before, the str function takes 1 argument. In the above example it took the integer 1. str takes a Python object as input and produces a string version of that input as output."
     ]
    },
    {
     "cell_type": "heading",
     "level": 2,
     "metadata": {},
     "source": [
      "String Length"
     ]
    },
    {
     "cell_type": "markdown",
     "metadata": {},
     "source": [
      "There's another useful function that works on strings called len. len returns the length of a string as an integer:\n",
      "\n",
      "    print( len(\"Hello\") )"
     ]
    },
    {
     "cell_type": "code",
     "collapsed": false,
     "input": [],
     "language": "python",
     "metadata": {},
     "outputs": []
    },
    {
     "cell_type": "markdown",
     "metadata": {},
     "source": [
      "    print( len(\"\") )\n"
     ]
    },
    {
     "cell_type": "code",
     "collapsed": false,
     "input": [],
     "language": "python",
     "metadata": {},
     "outputs": []
    },
    {
     "cell_type": "markdown",
     "metadata": {},
     "source": [
      "    fish = \"humuhumunukunukuapua\u02bba\"\n"
     ]
    },
    {
     "cell_type": "code",
     "collapsed": false,
     "input": [],
     "language": "python",
     "metadata": {},
     "outputs": []
    },
    {
     "cell_type": "markdown",
     "metadata": {},
     "source": [
      "    length = str(len(fish))\n"
     ]
    },
    {
     "cell_type": "code",
     "collapsed": false,
     "input": [],
     "language": "python",
     "metadata": {},
     "outputs": [],
     "prompt_number": 29
    },
    {
     "cell_type": "markdown",
     "metadata": {},
     "source": [
      "    print( fish + \" is a Hawaiian fish whose name is \" + length + \" characters long.\" )\n"
     ]
    },
    {
     "cell_type": "code",
     "collapsed": false,
     "input": [],
     "language": "python",
     "metadata": {},
     "outputs": []
    },
    {
     "cell_type": "heading",
     "level": 2,
     "metadata": {},
     "source": [
      "Quotes"
     ]
    },
    {
     "cell_type": "markdown",
     "metadata": {},
     "source": [
      "We've been using double quotes around our strings, but you can use either double or single quotes:\n",
      "\n",
      "    print('Hello')\n"
     ]
    },
    {
     "cell_type": "code",
     "collapsed": false,
     "input": [],
     "language": "python",
     "metadata": {},
     "outputs": []
    },
    {
     "cell_type": "markdown",
     "metadata": {},
     "source": [
      "    print(\"Hello\")\n"
     ]
    },
    {
     "cell_type": "code",
     "collapsed": false,
     "input": [],
     "language": "python",
     "metadata": {},
     "outputs": []
    },
    {
     "cell_type": "markdown",
     "metadata": {},
     "source": [
      "Like with spacing above, use whichever quotes make the most sense for you, but be consistent.\n",
      "You do have to be careful about using quotes inside of strings:\n",
      "\n",
      "    print('I'm a happy camper')\n"
     ]
    },
    {
     "cell_type": "code",
     "collapsed": false,
     "input": [
      "print('I'm a happy camper')"
     ],
     "language": "python",
     "metadata": {},
     "outputs": [
      {
       "ename": "SyntaxError",
       "evalue": "invalid syntax (<ipython-input-22-2a8fd14a6267>, line 1)",
       "output_type": "pyerr",
       "traceback": [
        "\u001b[1;36m  File \u001b[1;32m\"<ipython-input-22-2a8fd14a6267>\"\u001b[1;36m, line \u001b[1;32m1\u001b[0m\n\u001b[1;33m    print('I'm a happy camper')\u001b[0m\n\u001b[1;37m             ^\u001b[0m\n\u001b[1;31mSyntaxError\u001b[0m\u001b[1;31m:\u001b[0m invalid syntax\n"
       ]
      }
     ],
     "prompt_number": 22
    },
    {
     "cell_type": "markdown",
     "metadata": {},
     "source": [
      "This gives us another traceback, for a new kind of error, a **SyntaxError**. When Python looks at that expression, it sees the string *'I'* and then\n",
      "*m a happy camper'*\n",
      "which it doesn't understand -- it's not 'valid' Python. Those letters aren't variables (we haven't assigned them to anything), and that trailing quote isn't balanced. So it raises a SyntaxError.\n",
      "\n",
      "We can use double quotes to avoid this problem:\n",
      "\n",
      "    print(\"I'm a happy camper\")\n"
     ]
    },
    {
     "cell_type": "code",
     "collapsed": false,
     "input": [],
     "language": "python",
     "metadata": {},
     "outputs": []
    },
    {
     "cell_type": "markdown",
     "metadata": {},
     "source": [
      "or we can *escape* the quote with a backslash:\n",
      "\n",
      "    print('I\\'m a happy camper')\n"
     ]
    },
    {
     "cell_type": "code",
     "collapsed": false,
     "input": [],
     "language": "python",
     "metadata": {},
     "outputs": []
    },
    {
     "cell_type": "markdown",
     "metadata": {},
     "source": [
      "    print('Ada Lovelace is often called the world\\'s first programmer.')\n"
     ]
    },
    {
     "cell_type": "code",
     "collapsed": false,
     "input": [],
     "language": "python",
     "metadata": {},
     "outputs": []
    },
    {
     "cell_type": "markdown",
     "metadata": {},
     "source": [
      "    print(\"Computer scientist Grace Hopper popularized the term \\\"debugging\\\".\")\n"
     ]
    },
    {
     "cell_type": "code",
     "collapsed": false,
     "input": [],
     "language": "python",
     "metadata": {},
     "outputs": []
    },
    {
     "cell_type": "markdown",
     "metadata": {},
     "source": [
      "One fun thing about strings in Python is that you can multiply them:\n"
     ]
    },
    {
     "cell_type": "markdown",
     "metadata": {},
     "source": [
      "    print(\"A\" * 40)\n"
     ]
    },
    {
     "cell_type": "code",
     "collapsed": false,
     "input": [],
     "language": "python",
     "metadata": {},
     "outputs": []
    },
    {
     "cell_type": "markdown",
     "metadata": {},
     "source": [
      "    print(\"ABC\" * 12)\n"
     ]
    },
    {
     "cell_type": "code",
     "collapsed": false,
     "input": [],
     "language": "python",
     "metadata": {},
     "outputs": []
    },
    {
     "cell_type": "markdown",
     "metadata": {},
     "source": [
      "    h = \"Happy\"\n"
     ]
    },
    {
     "cell_type": "code",
     "collapsed": false,
     "input": [],
     "language": "python",
     "metadata": {},
     "outputs": []
    },
    {
     "cell_type": "markdown",
     "metadata": {},
     "source": [
      "    b = \"Birthday\"\n"
     ]
    },
    {
     "cell_type": "code",
     "collapsed": false,
     "input": [],
     "language": "python",
     "metadata": {},
     "outputs": []
    },
    {
     "cell_type": "markdown",
     "metadata": {},
     "source": [
      "    print( (h + b) * 10 )\n"
     ]
    },
    {
     "cell_type": "code",
     "collapsed": false,
     "input": [],
     "language": "python",
     "metadata": {},
     "outputs": []
    },
    {
     "cell_type": "heading",
     "level": 1,
     "metadata": {},
     "source": [
      "Part 1 Practice"
     ]
    },
    {
     "cell_type": "markdown",
     "metadata": {},
     "source": [
      "We won't make you type these next cells - but before you execute them, see if you can predict what the output will be.  Then execute the cells and check your guess."
     ]
    },
    {
     "cell_type": "code",
     "collapsed": false,
     "input": [
      "total = 1.5 - 1/2 + ((-2.0/2) - (1.0/2))\n",
      "print(total)"
     ],
     "language": "python",
     "metadata": {},
     "outputs": [
      {
       "output_type": "stream",
       "stream": "stdout",
       "text": [
        "0.0\n"
       ]
      }
     ],
     "prompt_number": 23
    },
    {
     "cell_type": "code",
     "collapsed": false,
     "input": [
      "type(total)"
     ],
     "language": "python",
     "metadata": {},
     "outputs": [
      {
       "metadata": {},
       "output_type": "pyout",
       "prompt_number": 24,
       "text": [
        "float"
       ]
      }
     ],
     "prompt_number": 24
    },
    {
     "cell_type": "code",
     "collapsed": false,
     "input": [
      "a = \"quick\"\n",
      "b = \"brown\"\n",
      "c = \"fox jumps over the lazy dog\"\n",
      "print \"The \" +  a * 3 + \" \" +  b * 3 + \" \" + c"
     ],
     "language": "python",
     "metadata": {},
     "outputs": [
      {
       "output_type": "stream",
       "stream": "stdout",
       "text": [
        "The quickquickquick brownbrownbrown fox jumps over the lazy dog\n"
       ]
      }
     ],
     "prompt_number": 25
    },
    {
     "cell_type": "code",
     "collapsed": false,
     "input": [
      "print(2.0 * 123 + str(2.0) * 123)"
     ],
     "language": "python",
     "metadata": {},
     "outputs": [
      {
       "ename": "TypeError",
       "evalue": "unsupported operand type(s) for +: 'float' and 'str'",
       "output_type": "pyerr",
       "traceback": [
        "\u001b[1;31m---------------------------------------------------------------------------\u001b[0m\n\u001b[1;31mTypeError\u001b[0m                                 Traceback (most recent call last)",
        "\u001b[1;32m<ipython-input-26-2cb66d318b4c>\u001b[0m in \u001b[0;36m<module>\u001b[1;34m()\u001b[0m\n\u001b[1;32m----> 1\u001b[1;33m \u001b[1;32mprint\u001b[0m \u001b[1;36m2.0\u001b[0m \u001b[1;33m*\u001b[0m \u001b[1;36m123\u001b[0m \u001b[1;33m+\u001b[0m \u001b[0mstr\u001b[0m\u001b[1;33m(\u001b[0m\u001b[1;36m2.0\u001b[0m\u001b[1;33m)\u001b[0m \u001b[1;33m*\u001b[0m \u001b[1;36m123\u001b[0m\u001b[1;33m\u001b[0m\u001b[0m\n\u001b[0m",
        "\u001b[1;31mTypeError\u001b[0m: unsupported operand type(s) for +: 'float' and 'str'"
       ]
      }
     ],
     "prompt_number": 26
    },
    {
     "cell_type": "code",
     "collapsed": false,
     "input": [
      "a = \"| (_|   -()-  -()-   -()-   -()- | -()-  -()-  -()-   -()-   ||\\n\"\n",
      "b = \"|_\\_|_/___|__|__|__|___|__|___|__|___________________________||\\n\"\n",
      "c = \"|________________________________|__|__()_|__()_|__()__|_____||\\n\"\n",
      "d = \" ___|)_______________________________________________________\\n\"\n",
      "e = \"|_/(|,\\____/_|___/_|____/_|______|___________________________||\\n\"\n",
      "f = \"|___/____________________________|___________________________||\\n\"\n",
      "g = \"|   |     | ()  | ()   | ()   |  |                           ||\\n\"\n",
      "h = \"|__\\___|.________________________|___\\_|___\\_|___\\_|___|_____||\\n\"\n",
      "i = \"|__/|_______/|____/|_____/|______|___________________________||\\n\"\n",
      "j = \"|_____/__________________________|____\\|____\\|____\\|_________||\\n\"\n",
      "k = \"|____/___________________________|___________________________||\\n\"\n",
      "l = \"|__/___\\_._______________________|__|__|__|__|__|__|___|_____||\\n\""
     ],
     "language": "python",
     "metadata": {},
     "outputs": [],
     "prompt_number": 27
    },
    {
     "cell_type": "code",
     "collapsed": false,
     "input": [
      "print( d + f + i + e + b + g + a + c + l + h + j + k )"
     ],
     "language": "python",
     "metadata": {},
     "outputs": [
      {
       "output_type": "stream",
       "stream": "stdout",
       "text": [
        " ___|)_______________________________________________________\n",
        "|___/____________________________|___________________________||\n",
        "|__/|_______/|____/|_____/|______|___________________________||\n",
        "|_/(|,\\____/_|___/_|____/_|______|___________________________||\n",
        "|_\\_|_/___|__|__|__|___|__|___|__|___________________________||\n",
        "|   |     | ()  | ()   | ()   |  |                           ||\n",
        "| (_|   -()-  -()-   -()-   -()- | -()-  -()-  -()-   -()-   ||\n",
        "|________________________________|__|__()_|__()_|__()__|_____||\n",
        "|__/___\\_._______________________|__|__|__|__|__|__|___|_____||\n",
        "|__\\___|.________________________|___\\_|___\\_|___\\_|___|_____||\n",
        "|_____/__________________________|____\\|____\\|____\\|_________||\n",
        "|____/___________________________|___________________________||\n",
        "\n"
       ]
      }
     ],
     "prompt_number": 28
    },
    {
     "cell_type": "markdown",
     "metadata": {},
     "source": [
      "\n",
      "End of Part 1\n",
      "=============\n",
      "\n",
      "\n",
      "Congratulations! You've learned about and practiced math, strings, variables, data types, exceptions, tracebacks, and executing Python from the Python prompt.\n",
      "Take a break, stretch, meet some neighbors, and ask the staff if you have any questions about this material.\n",
      "\n",
      "\n"
     ]
    },
    {
     "cell_type": "heading",
     "level": 1,
     "metadata": {},
     "source": [
      "Booleans"
     ]
    },
    {
     "cell_type": "markdown",
     "metadata": {},
     "source": [
      "So far, the code we've written has been unconditional: no choice is getting made, and the code is always run. Python has another data type called a boolean that is helpful for writing code that makes decisions. There are two booleans: True and False.\n",
      "\n",
      "    True\n"
     ]
    },
    {
     "cell_type": "code",
     "collapsed": false,
     "input": [],
     "language": "python",
     "metadata": {},
     "outputs": []
    },
    {
     "cell_type": "markdown",
     "metadata": {},
     "source": [
      "    type(True)\n"
     ]
    },
    {
     "cell_type": "code",
     "collapsed": false,
     "input": [],
     "language": "python",
     "metadata": {},
     "outputs": []
    },
    {
     "cell_type": "markdown",
     "metadata": {},
     "source": [
      "    False\n"
     ]
    },
    {
     "cell_type": "code",
     "collapsed": false,
     "input": [],
     "language": "python",
     "metadata": {},
     "outputs": []
    },
    {
     "cell_type": "markdown",
     "metadata": {},
     "source": [
      "    type(False)\n"
     ]
    },
    {
     "cell_type": "code",
     "collapsed": false,
     "input": [],
     "language": "python",
     "metadata": {},
     "outputs": []
    },
    {
     "cell_type": "markdown",
     "metadata": {},
     "source": [
      "\n",
      "You can test if Python objects are equal or unequal. The result is a boolean:\n",
      "\n",
      "    0 == 0\n"
     ]
    },
    {
     "cell_type": "code",
     "collapsed": false,
     "input": [],
     "language": "python",
     "metadata": {},
     "outputs": []
    },
    {
     "cell_type": "markdown",
     "metadata": {},
     "source": [
      "    0 == 1\n"
     ]
    },
    {
     "cell_type": "code",
     "collapsed": false,
     "input": [],
     "language": "python",
     "metadata": {},
     "outputs": []
    },
    {
     "cell_type": "markdown",
     "metadata": {},
     "source": [
      "Use == to test for equality. Recall that = is used for assignment.\n",
      "This is an important idea and can be a source of bugs until you get used to it: = is assignment, == is comparison.\n",
      "Use != to test for inequality:\n",
      "    \"a\" != \"a\"\n"
     ]
    },
    {
     "cell_type": "code",
     "collapsed": false,
     "input": [],
     "language": "python",
     "metadata": {},
     "outputs": []
    },
    {
     "cell_type": "markdown",
     "metadata": {},
     "source": [
      "    \"a\" != \"A\"\n"
     ]
    },
    {
     "cell_type": "code",
     "collapsed": false,
     "input": [],
     "language": "python",
     "metadata": {},
     "outputs": []
    },
    {
     "cell_type": "markdown",
     "metadata": {},
     "source": [
      "<, <=, >, and >= have the same meaning as in math class. The result of these tests is a boolean:\n",
      "    1 > 0\n"
     ]
    },
    {
     "cell_type": "code",
     "collapsed": false,
     "input": [],
     "language": "python",
     "metadata": {},
     "outputs": []
    },
    {
     "cell_type": "markdown",
     "metadata": {},
     "source": [
      "    2 >= 3\n"
     ]
    },
    {
     "cell_type": "code",
     "collapsed": false,
     "input": [],
     "language": "python",
     "metadata": {},
     "outputs": []
    },
    {
     "cell_type": "markdown",
     "metadata": {},
     "source": [
      "    -1 < 0\n"
     ]
    },
    {
     "cell_type": "code",
     "collapsed": false,
     "input": [],
     "language": "python",
     "metadata": {},
     "outputs": []
    },
    {
     "cell_type": "markdown",
     "metadata": {},
     "source": [
      "    .5 <= 1\n"
     ]
    },
    {
     "cell_type": "code",
     "collapsed": false,
     "input": [],
     "language": "python",
     "metadata": {},
     "outputs": []
    },
    {
     "cell_type": "markdown",
     "metadata": {},
     "source": [
      "You can check for containment with the in keyword, which also results in a boolean:\n",
      "    \n",
      "    \"H\" in \"Hello\"\n"
     ]
    },
    {
     "cell_type": "code",
     "collapsed": false,
     "input": [],
     "language": "python",
     "metadata": {},
     "outputs": []
    },
    {
     "cell_type": "markdown",
     "metadata": {},
     "source": [
      "    \"X\" in \"Hello\"\n"
     ]
    },
    {
     "cell_type": "code",
     "collapsed": false,
     "input": [],
     "language": "python",
     "metadata": {},
     "outputs": []
    },
    {
     "cell_type": "markdown",
     "metadata": {},
     "source": [
      "Or check for a lack of containment with not in:\n",
      "\n",
      "    \"a\" not in \"abcde\"\n"
     ]
    },
    {
     "cell_type": "code",
     "collapsed": false,
     "input": [],
     "language": "python",
     "metadata": {},
     "outputs": []
    },
    {
     "cell_type": "markdown",
     "metadata": {},
     "source": [
      "    \"Perl\" not in \"Boston Python Workshop\""
     ]
    },
    {
     "cell_type": "markdown",
     "metadata": {},
     "source": [
      "Flow Control\n",
      "============\n",
      "\n",
      "\n",
      "if statements\n",
      "-------------\n",
      "\n",
      "We can use these expressions that evaluate to booleans to make decisions and conditionally execute code:\n",
      "\n",
      "    if 6 > 5:\n",
      "        print(\"Six is greater than five!\")\n"
     ]
    },
    {
     "cell_type": "code",
     "collapsed": false,
     "input": [],
     "language": "python",
     "metadata": {},
     "outputs": []
    },
    {
     "cell_type": "markdown",
     "metadata": {},
     "source": [
      "That was our first multi-line piece of code, and we need to pay attention to the indentation on the second line.\n",
      "Make sure to hit space four times before typing the second line; Python needs them to understand what we want it\n",
      "to do.  \n",
      "\n",
      "Try typing this same code at a regular command prompt (outside this notebook), too; you'll see that \n",
      "it works differently:\n",
      "\n",
      "- First, type the if 6 > 5: part, and hit enter. The next line will have **...** as a prompt, \n",
      "instead of the usual **>>>**. This is Python telling us that we are in the middle of a code block, \n",
      "and so long as we indent our code it should be a part of this code block.\n",
      "\n",
      "- Type 4 spaces, and then type print \"Six is greater than five!\". \n",
      "\n",
      "- Hit enter to end the line, and hit enter again to tell Python you are done with this code block. \n",
      "\n",
      "All together, in the command-prompt window, it will look like this:\n",
      "\n",
      "    >>> if 6 > 5:\n",
      "    ...      print(\"Six is greater than five!\")\n",
      "    ... \n",
      "    \n",
      "Six is greater than five!\n",
      "\n",
      "So what is going on here? When Python encounters the if keyword, it evaluates the expression following the keyword and before the colon. \n",
      "\n",
      "If that expression is True, Python executes the code in the indented code block under the if line. \n",
      "\n",
      "If that expression is False, Python skips over the code block.\n",
      "\n",
      "In this case, because 6 really is greater than 5, Python executes the code block under the if statement, \n",
      "and we see \"Six is greater than five!\" printed to the screen. Guess what will happen with these other expressions, \n",
      "then type them out and see if your guess was correct:\n",
      "\n",
      "    if 0 > 2:\n",
      "        print(\"Zero is greater than two!\")\n",
      "    if \"banana\" in \"bananarama\":\n",
      "        print(\"I miss the 80s.\")\n"
     ]
    },
    {
     "cell_type": "code",
     "collapsed": false,
     "input": [],
     "language": "python",
     "metadata": {},
     "outputs": []
    },
    {
     "cell_type": "markdown",
     "metadata": {},
     "source": [
      "more choices: if and else\n",
      "-------------------------\n",
      "\n",
      "You can use the else keyword to execute code only when the if expression isn't True:\n",
      "\n",
      "    sister_age = 15\n",
      "    brother_age = 12\n",
      "    if sister_age > brother_age:\n",
      "        print(\"sister is older\")\n",
      "    else:\n",
      "        print(\"brother is older\")\n",
      "\n"
     ]
    },
    {
     "cell_type": "code",
     "collapsed": false,
     "input": [],
     "language": "python",
     "metadata": {},
     "outputs": []
    },
    {
     "cell_type": "markdown",
     "metadata": {},
     "source": [
      "Like with if, the code block under the else statement must be indented so Python knows that it is a part of the else block.\n",
      "\n",
      "compound conditionals: and and or\n",
      "---------------------------------\n",
      "\n",
      "You can check multiple expressions together using the and and or keywords. \n",
      "\n",
      "If two expressions are joined by an and, they both have to be True for the overall expression to be True. \n",
      "\n",
      "If two expressions are joined by an or, as long as at least one is True, the overall expression is True.\n",
      "\n",
      "Try typing these out and see what you get:\n",
      "\n",
      "    1 > 0 and 1 < 2\n"
     ]
    },
    {
     "cell_type": "code",
     "collapsed": false,
     "input": [],
     "language": "python",
     "metadata": {},
     "outputs": []
    },
    {
     "cell_type": "markdown",
     "metadata": {},
     "source": [
      "    1 < 2 and \"x\" in \"abc\"\n"
     ]
    },
    {
     "cell_type": "code",
     "collapsed": false,
     "input": [],
     "language": "python",
     "metadata": {},
     "outputs": []
    },
    {
     "cell_type": "markdown",
     "metadata": {},
     "source": [
      "    \"a\" in \"hello\" or \"e\" in \"hello\"\n"
     ]
    },
    {
     "cell_type": "code",
     "collapsed": false,
     "input": [],
     "language": "python",
     "metadata": {},
     "outputs": []
    },
    {
     "cell_type": "markdown",
     "metadata": {},
     "source": [
      "    1 <= 0 or \"a\" not in \"abc\"\n"
     ]
    },
    {
     "cell_type": "code",
     "collapsed": false,
     "input": [],
     "language": "python",
     "metadata": {},
     "outputs": []
    },
    {
     "cell_type": "markdown",
     "metadata": {},
     "source": [
      "Guess what will happen when you enter these next two examples, and then type them out and see if you are correct. If you have trouble with the indenting, call over a staff member and practice together. It is important to be comfortable with indenting for tomorrow.\n",
      "\n",
      "    temperature = 32\n",
      "    if temperature > 60 and temperature < 75:\n",
      "        print(\"It's nice and cozy in here!\")\n",
      "    else:\n",
      "        print(\"Too extreme for me.\")\n"
     ]
    },
    {
     "cell_type": "code",
     "collapsed": false,
     "input": [],
     "language": "python",
     "metadata": {},
     "outputs": []
    },
    {
     "cell_type": "markdown",
     "metadata": {},
     "source": [
      "    hour = 11\n",
      "    if hour < 7 or hour > 23:\n",
      "        print(\"Go away!\")\n",
      "        print(\"I'm sleeping!\")\n",
      "    else:\n",
      "        print(\"Welcome to the cheese shop!\")\n",
      "        print(\"Can I interest you in some choice gouda?\")\n"
     ]
    },
    {
     "cell_type": "code",
     "collapsed": false,
     "input": [],
     "language": "python",
     "metadata": {},
     "outputs": []
    },
    {
     "cell_type": "markdown",
     "metadata": {},
     "source": [
      "You can have as many lines of code as you want in if and else blocks; just make sure to indent them so Python knows they are a part of the block.\n",
      "\n",
      "even more choices: elif\n",
      "-----------------------\n",
      "\n",
      "If you have more than two cases, you can use the elif keyword to check more cases. You can have as many elif cases as you want; Python will go down the code checking each elif until it finds a True condition or reaches the default else block.\n",
      "\n",
      "    sister_age = 15\n",
      "    brother_age = 12\n",
      "    if sister_age > brother_age:\n",
      "        print(\"sister is older\")\n",
      "    elif sister_age == brother_age:\n",
      "        print(\"sister and brother are the same age\")\n",
      "    else:\n",
      "        print(\"brother is older\")\n"
     ]
    },
    {
     "cell_type": "code",
     "collapsed": false,
     "input": [],
     "language": "python",
     "metadata": {},
     "outputs": []
    },
    {
     "cell_type": "markdown",
     "metadata": {},
     "source": [
      "You don't have to have an else block, if you don't need it. That just means there isn't default code to execute when none of the if or elif conditions are True:\n",
      "\n",
      "    color = \"orange'\n",
      "    if color == \"green\" or color == \"red\":\n",
      "        print(\"Christmas color!\")\n",
      "    elif color == \"black\" or color == \"orange\":\n",
      "        print(\"Halloween color!\")\n",
      "    elif color == \"pink\":\n",
      "        print(\"Valentine's Day color!\")\n"
     ]
    },
    {
     "cell_type": "code",
     "collapsed": false,
     "input": [],
     "language": "python",
     "metadata": {},
     "outputs": []
    },
    {
     "cell_type": "markdown",
     "metadata": {},
     "source": [
      "\n",
      "Now go back to the cell above and change the first line to read\n",
      "\n",
      "    color = 'purple'\n",
      "    \n",
      "Execute the cell again.  Notice that, this time, nothing is printed.\n",
      "\n",
      "Remember that '`=`' is for assignment (**make** this equal that) and '`==`' is for comparison (**does** this equal that**?**).\n"
     ]
    },
    {
     "cell_type": "heading",
     "level": 1,
     "metadata": {},
     "source": [
      "Writing Functions"
     ]
    },
    {
     "cell_type": "markdown",
     "metadata": {},
     "source": [
      "We talked a bit about functions when we introduced the type() function. Let's talk some more about about functions:\n",
      "\n",
      "- They do some useful bit of work.\n",
      "- They let us re-use code without having to type it out each time.\n",
      "- They take input and possibly produce output (we say they return a value). You can assign a variable to this output.\n",
      "\n",
      "You call a function by using its name followed by its arguments in parenthesis.\n",
      "\n",
      "For example:\n",
      "\n",
      "    length = len(\"Mississippi\")\n",
      "\n"
     ]
    },
    {
     "cell_type": "code",
     "collapsed": false,
     "input": [],
     "language": "python",
     "metadata": {},
     "outputs": []
    },
    {
     "cell_type": "markdown",
     "metadata": {},
     "source": [
      "Executing this code assigns the length of the string \"Mississippi\" to the variable length.  See what it did:\n",
      "\n",
      "    length\n"
     ]
    },
    {
     "cell_type": "code",
     "collapsed": false,
     "input": [],
     "language": "python",
     "metadata": {},
     "outputs": []
    },
    {
     "cell_type": "markdown",
     "metadata": {},
     "source": [
      "\n",
      "We can write our own functions to encapsulate bits of useful work so we can reuse them. Here's how you do it:\n"
     ]
    },
    {
     "cell_type": "heading",
     "level": 2,
     "metadata": {},
     "source": [
      "Step 1: write a function *signature*"
     ]
    },
    {
     "cell_type": "markdown",
     "metadata": {},
     "source": [
      "A function *signature* tells you how the function will be called. It starts with the keyword `def`, which tells Python that you are *defining* a function. Then comes a space, the name of your function, an open parenthesis, the comma-separated input parameters for your function, a close parenthesis, and a colon. Here's what a function signature looks like for a function that takes no arguments:\n",
      "\n",
      "    def myFunction():\n",
      "\n",
      "Here's what a function signature looks like for a function that takes one argument called string:\n",
      "\n",
      "    def myFunction(myString):\n",
      "\n",
      "And one for a function that takes two arguments:\n",
      "\n",
      "    def myFunction(myList, myInteger):\n",
      "\n",
      "Parameters should have names that usefully describe what they are used for in the function.\n",
      "\n",
      "We've used the words \"parameters\" and \"arguments\" seemingly interchangeably to reference the input to functions. The distinction isn't really important right now, but if you're curious: in function signatures the input is called parameters, and when you are calling the function the input is called arguments."
     ]
    },
    {
     "cell_type": "heading",
     "level": 2,
     "metadata": {},
     "source": [
      "Step 2: do useful work inside the function"
     ]
    },
    {
     "cell_type": "markdown",
     "metadata": {},
     "source": [
      "Underneath the function signature you do your useful work. Everything inside the function is indented, just like with if/else blocks, so Python knows that it is a part of the function.\n",
      "\n",
      "You can use the variables passed into the function as parameters, just like you can use variables once you define them outside of functions.\n",
      "\n",
      "    def add(x, y):\n",
      "        result = x + y"
     ]
    },
    {
     "cell_type": "heading",
     "level": 2,
     "metadata": {},
     "source": [
      "Step 3: return something"
     ]
    },
    {
     "cell_type": "markdown",
     "metadata": {},
     "source": [
      "If you want to be able to assign a variable to the output of a function, the function has to return that output using the return keyword.\n",
      "\n",
      "    def add(x, y):\n",
      "        result = x + y\n",
      "        return result\n",
      "\n",
      "or, even shorter:\n",
      "\n",
      "    def add(x, y):\n",
      "        return x + y\n",
      "\n",
      "You can return any Python object: numbers, strings, booleans ... even other functions!\n",
      "\n",
      "Once you execute a return, you are done with the function -- you don't get to do any more work. That means if you have a function like this:\n",
      "\n",
      "    def absoluteValue(number):\n",
      "        if number < 0:\n",
      "            return number * -1\n",
      "        return number\n",
      "\n",
      "if number is less than 0, you return number * -1 and never even get to the last line of the function. However, if number is greater than or equal to 0, the if expression evaluates to False, so we skip the code in the if block and return number.\n",
      "\n",
      "We could have written the above function like this if we wanted. It's the same logic, just more typing:\n",
      "\n",
      "    def absoluteValue(number):\n",
      "        if number < 0:\n",
      "            return number * -1\n",
      "        else:\n",
      "            return number"
     ]
    },
    {
     "cell_type": "heading",
     "level": 2,
     "metadata": {},
     "source": [
      "Step 4: use the function"
     ]
    },
    {
     "cell_type": "markdown",
     "metadata": {},
     "source": [
      "Once you define a function you can use it as many times as you want.  Go ahead and type this function definition in and execute it.\n",
      "\n",
      "    def add(x, y):\n",
      "        return x + y\n"
     ]
    },
    {
     "cell_type": "code",
     "collapsed": false,
     "input": [],
     "language": "python",
     "metadata": {},
     "outputs": []
    },
    {
     "cell_type": "markdown",
     "metadata": {},
     "source": [
      "Now you can use it as many times as you want, passing in whatever arguments you want."
     ]
    },
    {
     "cell_type": "markdown",
     "metadata": {},
     "source": [
      "\n",
      "    result = add(1234, 5678)\n",
      "    print(result)\n"
     ]
    },
    {
     "cell_type": "code",
     "collapsed": false,
     "input": [],
     "language": "python",
     "metadata": {},
     "outputs": []
    },
    {
     "cell_type": "markdown",
     "metadata": {},
     "source": [
      "\n",
      "    result = add(-1.5, .5)\n",
      "    print(result)\n"
     ]
    },
    {
     "cell_type": "code",
     "collapsed": false,
     "input": [],
     "language": "python",
     "metadata": {},
     "outputs": []
    },
    {
     "cell_type": "markdown",
     "metadata": {},
     "source": [
      "\n",
      "Functions don't have to return anything, if you don't want them to. They usually return something because we usually want to be able to assign variables to their output."
     ]
    },
    {
     "cell_type": "heading",
     "level": 1,
     "metadata": {},
     "source": [
      "End of Part 2"
     ]
    },
    {
     "cell_type": "markdown",
     "metadata": {},
     "source": [
      "Congratulations! You've learned about and practiced executing Python scripts, booleans, conditionals, and if/else blocks, and you've written your own Python functions. This is a huge, huge accomplishment!\n",
      "\n",
      "Take a break, stretch, meet some neighbours, and ask the staff if you have any questions about this material.\n",
      "\n",
      "\n",
      "\n"
     ]
    },
    {
     "cell_type": "markdown",
     "metadata": {},
     "source": [
      "## Lists\n",
      "Very often in a programming language, we want to keep a group of similar items together. Python does this using a data type called a **list**.\n",
      "\n",
      "    daysOfTheWeek = [\"Monday\",\"Tuesday\",\"Wednesday\",\"Thursday\",\"Friday\",\"Saturday\"]"
     ]
    },
    {
     "cell_type": "code",
     "collapsed": false,
     "input": [],
     "language": "python",
     "metadata": {},
     "outputs": [],
     "prompt_number": 21
    },
    {
     "cell_type": "markdown",
     "metadata": {},
     "source": [
      "    type(daysOfTheWeek)"
     ]
    },
    {
     "cell_type": "code",
     "collapsed": false,
     "input": [],
     "language": "python",
     "metadata": {},
     "outputs": []
    },
    {
     "cell_type": "markdown",
     "metadata": {},
     "source": [
      "You can access the members of a list using the **index** of that item:\n",
      "\n",
      "    daysOfTheWeek[2]"
     ]
    },
    {
     "cell_type": "code",
     "collapsed": false,
     "input": [],
     "language": "python",
     "metadata": {},
     "outputs": [
      {
       "output_type": "pyout",
       "prompt_number": 23,
       "text": [
        "'Tuesday'"
       ]
      }
     ],
     "prompt_number": 23
    },
    {
     "cell_type": "markdown",
     "metadata": {},
     "source": [
      "The index is an integer which specifies the element we want. A little confusingly Python uses 0 as the index of the first element of a list. Thus, in this example, the 0 element is \"Sunday\", 1 is \"Monday\", and so on. \n",
      "\n",
      "If you want to count back from the last element of a list you use a negative index. An index of -1 corresponds to the last element of the list, whilst an index of -2 corresponds to the second to last element, -3 the third last, etc. etc..\n",
      "\n",
      "    daysOfTheWeek[-1]"
     ]
    },
    {
     "cell_type": "code",
     "collapsed": false,
     "input": [],
     "language": "python",
     "metadata": {},
     "outputs": [
      {
       "output_type": "pyout",
       "prompt_number": 24,
       "text": [
        "'Saturday'"
       ]
      }
     ],
     "prompt_number": 24
    },
    {
     "cell_type": "markdown",
     "metadata": {},
     "source": [
      "If you try and provide an index that goes beyond the last element of a list Python will throw an IndexError.\n",
      "\n",
      "    daysOfTheWeek[8]"
     ]
    },
    {
     "cell_type": "code",
     "collapsed": false,
     "input": [],
     "language": "python",
     "metadata": {},
     "outputs": []
    },
    {
     "cell_type": "markdown",
     "metadata": {},
     "source": [
      "The same is true if you count backwards and go beyond the first element of a list:\n",
      "    \n",
      "    daysOfTheWeek[-8]"
     ]
    },
    {
     "cell_type": "code",
     "collapsed": false,
     "input": [],
     "language": "python",
     "metadata": {},
     "outputs": [],
     "prompt_number": 23
    },
    {
     "cell_type": "markdown",
     "metadata": {},
     "source": [
      "Lists are very general and do not have to hold the same data type. For example:\n",
      "\n",
      "    [\"Today\",7,99.3,\"\"]"
     ]
    },
    {
     "cell_type": "code",
     "collapsed": false,
     "input": [],
     "language": "python",
     "metadata": {},
     "outputs": [
      {
       "output_type": "pyout",
       "prompt_number": 30,
       "text": [
        "['Today', 7, 99.3, '']"
       ]
      }
     ],
     "prompt_number": 30
    },
    {
     "cell_type": "markdown",
     "metadata": {},
     "source": [
      "They can even contain other lists:\n",
      "    \n",
      "    outerList = [ [1,2,3], [4,5,6], [7,8,9] ]"
     ]
    },
    {
     "cell_type": "code",
     "collapsed": false,
     "input": [],
     "language": "python",
     "metadata": {},
     "outputs": [],
     "prompt_number": 6
    },
    {
     "cell_type": "markdown",
     "metadata": {},
     "source": [
      "Just as we can access the members of a list with an index:\n",
      "\n",
      "    outerList[3]"
     ]
    },
    {
     "cell_type": "code",
     "collapsed": false,
     "input": [],
     "language": "python",
     "metadata": {},
     "outputs": []
    },
    {
     "cell_type": "markdown",
     "metadata": {},
     "source": [
      "    "
     ]
    },
    {
     "cell_type": "markdown",
     "metadata": {},
     "source": [
      "So too we can access the members of an inner list by an extra index\n",
      "\n",
      "    outerList[3][0]"
     ]
    },
    {
     "cell_type": "code",
     "collapsed": false,
     "input": [],
     "language": "python",
     "metadata": {},
     "outputs": []
    },
    {
     "cell_type": "markdown",
     "metadata": {},
     "source": [
      "If the above looks a bit confusing here's an alternative way of getting the same answer that shows what's happening when this double index is being used:\n",
      "\n",
      "    innerList = outerList[3]\n",
      "    innerElement = innerList[0]\n",
      "    print(innerElement)"
     ]
    },
    {
     "cell_type": "code",
     "collapsed": false,
     "input": [],
     "language": "python",
     "metadata": {},
     "outputs": []
    },
    {
     "cell_type": "markdown",
     "metadata": {},
     "source": [
      "Like strings we can concatenate lists together\n",
      "\n",
      "    [1,2,3] + [4,5,6]"
     ]
    },
    {
     "cell_type": "code",
     "collapsed": false,
     "input": [],
     "language": "python",
     "metadata": {},
     "outputs": []
    },
    {
     "cell_type": "markdown",
     "metadata": {},
     "source": [
      "As expected the combination is another list:\n",
      "    \n",
      "    firstList = [1,2,3]\n",
      "    secondList = [4,5,6]\n",
      "    concatList = a + b\n",
      "    type(concatList)"
     ]
    },
    {
     "cell_type": "code",
     "collapsed": false,
     "input": [],
     "language": "python",
     "metadata": {},
     "outputs": []
    },
    {
     "cell_type": "markdown",
     "metadata": {},
     "source": [
      "And like strings we can use the **len()** function to find out how long they are:\n",
      "    \n",
      "    len(outer_list)"
     ]
    },
    {
     "cell_type": "code",
     "collapsed": false,
     "input": [],
     "language": "python",
     "metadata": {},
     "outputs": []
    },
    {
     "cell_type": "markdown",
     "metadata": {},
     "source": [
      "Above we used the '+' operator to add more elements to a list, there is alternative to this - the special 'append' method, this is a special function that adds a new element to the list. You use like this:\n",
      "\n",
      "    languages = [\"Fortran\",\"C\",\"C++\"]\n",
      "    languages.append(\"Python\")\n",
      "    print(languages)"
     ]
    },
    {
     "cell_type": "code",
     "collapsed": false,
     "input": [],
     "language": "python",
     "metadata": {},
     "outputs": [
      {
       "output_type": "stream",
       "stream": "stdout",
       "text": [
        "['Fortran', 'C', 'C++', 'Python']\n"
       ]
      }
     ],
     "prompt_number": 10
    },
    {
     "cell_type": "markdown",
     "metadata": {},
     "source": [
      "*All the datatypes have special functions called **methods** associated with them, if you are inside an IPython notebook or an IPython console you can see what methods a particular variable has associated with it by typing out the name of the variable followed by '.' and then hitting the tab button.* Try it with one of the variables we defined above:"
     ]
    },
    {
     "cell_type": "code",
     "collapsed": false,
     "input": [],
     "language": "python",
     "metadata": {},
     "outputs": []
    },
    {
     "cell_type": "heading",
     "level": 1,
     "metadata": {},
     "source": [
      "Loops"
     ]
    },
    {
     "cell_type": "markdown",
     "metadata": {},
     "source": [
      "Hand in hand with lists of objects is a way to perform actions on each of the members of the list in turn. These are called loops.\n",
      "\n",
      "If we define a list of numbers:\n",
      "    \n",
      "    myNewList = [0,1,2,3,4,5]"
     ]
    },
    {
     "cell_type": "code",
     "collapsed": false,
     "input": [],
     "language": "python",
     "metadata": {},
     "outputs": []
    },
    {
     "cell_type": "markdown",
     "metadata": {},
     "source": [
      "And we wanted wish to print out element in turn we could write out:\n",
      "    \n",
      "    print(myNewList[0])\n",
      "    print(myNewList[1])\n",
      "    print(myNewList[2])\n",
      "    print(myNewList[3])\n",
      "    print(myNewList[4])"
     ]
    },
    {
     "cell_type": "code",
     "collapsed": false,
     "input": [],
     "language": "python",
     "metadata": {},
     "outputs": []
    },
    {
     "cell_type": "markdown",
     "metadata": {},
     "source": [
      "But that's a lot of work and it will only get worse if our list grows. Loops offer a smarter way of doing this. Try executing the following:\n",
      "\n",
      "    for item in myNewList:\n",
      "        print(item)"
     ]
    },
    {
     "cell_type": "code",
     "collapsed": false,
     "input": [],
     "language": "python",
     "metadata": {},
     "outputs": []
    },
    {
     "cell_type": "code",
     "collapsed": false,
     "input": [
      "As you can see it produces identical results to the much more verbose version we tried initially."
     ],
     "language": "python",
     "metadata": {},
     "outputs": []
    }
   ],
   "metadata": {}
  }
 ]
}