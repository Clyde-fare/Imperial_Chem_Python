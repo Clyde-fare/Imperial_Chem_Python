{
 "metadata": {
  "name": "",
  "signature": "sha256:cf503dcecbc899881e232829b8b7f7c7509a6d07f64a3d28d2e069f1daf9e81e"
 },
 "nbformat": 3,
 "nbformat_minor": 0,
 "worksheets": [
  {
   "cells": [
    {
     "cell_type": "heading",
     "level": 1,
     "metadata": {},
     "source": [
      "Things to retain!"
     ]
    },
    {
     "cell_type": "code",
     "collapsed": false,
     "input": [
      "%pylab inline"
     ],
     "language": "python",
     "metadata": {},
     "outputs": []
    },
    {
     "cell_type": "heading",
     "level": 2,
     "metadata": {},
     "source": [
      "Arrays (Workshop 1)"
     ]
    },
    {
     "cell_type": "code",
     "collapsed": false,
     "input": [
      "array([2,3,4,5])\n",
      "array([[1,2],[3,4]])"
     ],
     "language": "python",
     "metadata": {},
     "outputs": []
    },
    {
     "cell_type": "markdown",
     "metadata": {},
     "source": [
      "All data are arrays!!\n",
      "\n",
      "*arange* and *linspace* create arrays"
     ]
    },
    {
     "cell_type": "heading",
     "level": 2,
     "metadata": {},
     "source": [
      "Array indexing (Workshop 1, recap in workshop 2)"
     ]
    },
    {
     "cell_type": "markdown",
     "metadata": {},
     "source": [
      "**<span style='color:green'>array_name</span> [ <span style='color:blue'>row_indices</span> <span style='color:red;font-weight:bold'>,</span> <span style='color:blue'>column_indices</span> ]**"
     ]
    },
    {
     "cell_type": "code",
     "collapsed": false,
     "input": [
      "data=array([[0,1,2],\n",
      "            [3,4,5],\n",
      "            [6,7,8]])"
     ],
     "language": "python",
     "metadata": {},
     "outputs": []
    },
    {
     "cell_type": "code",
     "collapsed": false,
     "input": [
      "data[0,1]"
     ],
     "language": "python",
     "metadata": {},
     "outputs": []
    },
    {
     "cell_type": "heading",
     "level": 2,
     "metadata": {},
     "source": [
      "Plots (Workshop 1)"
     ]
    },
    {
     "cell_type": "markdown",
     "metadata": {},
     "source": [
      "All plots are made with points!"
     ]
    },
    {
     "cell_type": "code",
     "collapsed": false,
     "input": [
      "x = array([1,2,3,4])\n",
      "y = log(x)"
     ],
     "language": "python",
     "metadata": {},
     "outputs": []
    },
    {
     "cell_type": "code",
     "collapsed": false,
     "input": [
      "plot(x,y)\n",
      "show()"
     ],
     "language": "python",
     "metadata": {},
     "outputs": []
    },
    {
     "cell_type": "heading",
     "level": 2,
     "metadata": {},
     "source": [
      "Fitting (Workshop 2 and 3)"
     ]
    },
    {
     "cell_type": "markdown",
     "metadata": {},
     "source": [
      "\"Extracting\" parameters defining a mathematical equation from the data."
     ]
    },
    {
     "cell_type": "markdown",
     "metadata": {},
     "source": [
      "<img src='files/plot_fit.svg' />"
     ]
    },
    {
     "cell_type": "code",
     "collapsed": false,
     "input": [
      "from IPython.html.widgets import interact\n",
      "X = linspace(0,20,20)\n",
      "Y = 3*X+10 + 5*randn(20)\n",
      "@interact(m=[-10,10,0.5],c=[-20,40,0.5])\n",
      "def line(m,c):\n",
      "    plot(X,Y,'o')\n",
      "    plot(X,m*X+c)\n",
      "    ylim(-10,80)"
     ],
     "language": "python",
     "metadata": {},
     "outputs": []
    },
    {
     "cell_type": "heading",
     "level": 2,
     "metadata": {},
     "source": [
      "Reuse your notebooks. Keep them. Go back to them. They have valuable information."
     ]
    }
   ],
   "metadata": {}
  }
 ]
}