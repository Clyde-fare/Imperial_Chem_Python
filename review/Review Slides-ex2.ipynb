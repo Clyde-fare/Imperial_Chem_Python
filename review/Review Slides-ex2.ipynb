{
 "metadata": {
  "name": "",
  "signature": "sha256:fff39dba5211213f042829adbb7faaded471d2ebf04215da8ff2b6a7451b068b"
 },
 "nbformat": 3,
 "nbformat_minor": 0,
 "worksheets": [
  {
   "cells": [
    {
     "cell_type": "heading",
     "level": 1,
     "metadata": {},
     "source": [
      "Review"
     ]
    },
    {
     "cell_type": "code",
     "collapsed": false,
     "input": [
      "%pylab inline"
     ],
     "language": "python",
     "metadata": {},
     "outputs": []
    },
    {
     "cell_type": "heading",
     "level": 2,
     "metadata": {},
     "source": [
      "Arrays (Workshop 1)"
     ]
    },
    {
     "cell_type": "code",
     "collapsed": false,
     "input": [
      "array([2,3,4,5])\n",
      "array([[1,2],[3,4]])"
     ],
     "language": "python",
     "metadata": {},
     "outputs": []
    },
    {
     "cell_type": "markdown",
     "metadata": {},
     "source": [
      "All data are arrays!!\n",
      "\n",
      "*arange* and *linspace* create arrays"
     ]
    },
    {
     "cell_type": "heading",
     "level": 2,
     "metadata": {},
     "source": [
      "Array indexing (Workshop 1, recap in workshop 2)"
     ]
    },
    {
     "cell_type": "markdown",
     "metadata": {},
     "source": [
      "**<span style='color:green'>array_name</span> [ <span style='color:blue'>row_indices</span> <span style='color:red;font-weight:bold'>,</span> <span style='color:blue'>column_indices</span> ]**"
     ]
    },
    {
     "cell_type": "code",
     "collapsed": false,
     "input": [
      "data=array([[0,1,2],\n",
      "            [3,4,5],\n",
      "            [6,7,8]])"
     ],
     "language": "python",
     "metadata": {},
     "outputs": []
    },
    {
     "cell_type": "code",
     "collapsed": false,
     "input": [
      "data[0,1]"
     ],
     "language": "python",
     "metadata": {},
     "outputs": []
    },
    {
     "cell_type": "heading",
     "level": 2,
     "metadata": {},
     "source": [
      "Plots (Workshop 1)"
     ]
    },
    {
     "cell_type": "markdown",
     "metadata": {},
     "source": [
      "All plots are made with points!"
     ]
    },
    {
     "cell_type": "code",
     "collapsed": false,
     "input": [
      "x = array([1,2,3,4])\n",
      "y = log(x)"
     ],
     "language": "python",
     "metadata": {},
     "outputs": []
    },
    {
     "cell_type": "code",
     "collapsed": false,
     "input": [],
     "language": "python",
     "metadata": {},
     "outputs": []
    },
    {
     "cell_type": "code",
     "collapsed": false,
     "input": [
      "plot(x,y)\n",
      "show()"
     ],
     "language": "python",
     "metadata": {},
     "outputs": []
    },
    {
     "cell_type": "heading",
     "level": 2,
     "metadata": {},
     "source": [
      "Fitting (Workshop 2 and 3)"
     ]
    },
    {
     "cell_type": "markdown",
     "metadata": {},
     "source": [
      "\"Extracting\" parameters of a mathematical expression from the data."
     ]
    },
    {
     "cell_type": "markdown",
     "metadata": {},
     "source": [
      "Defining a function\n",
      "\n",
      "$$conc(t)=C_0 e^{-k t}$$"
     ]
    },
    {
     "cell_type": "code",
     "collapsed": false,
     "input": [
      "def conc(t,k,c0):\n",
      "    return c0*e**(-k*t)"
     ],
     "language": "python",
     "metadata": {},
     "outputs": []
    },
    {
     "cell_type": "code",
     "collapsed": false,
     "input": [
      "conc(4,1,0.01)"
     ],
     "language": "python",
     "metadata": {},
     "outputs": []
    },
    {
     "cell_type": "code",
     "collapsed": false,
     "input": [
      "data=loadtxt('N2O5vst_65C.dat')"
     ],
     "language": "python",
     "metadata": {},
     "outputs": []
    },
    {
     "cell_type": "code",
     "collapsed": false,
     "input": [
      "from IPython.html.widgets import interact\n",
      "@interact(k=[0,1.5e-2,1e-4],initC=[-0.2,0.2,0.01])\n",
      "def plot_decay(k,initC=0.02):\n",
      "    plot(data[:,0],data[:,1],linestyle='',marker='o')\n",
      "    t=linspace(0,500,100)\n",
      "    plot(t,conc(t,k,initC))\n",
      "    xlabel('t/s')\n",
      "    ylabel('conc/M')\n",
      "    show()"
     ],
     "language": "python",
     "metadata": {},
     "outputs": []
    },
    {
     "cell_type": "markdown",
     "metadata": {},
     "source": [
      "**<span style='color:green'>curve_fit</span> ( <span style='color:blue'>function_name</span> , <span style='color:brown'>x_data</span> ,  <span style='color:brown'>y_data</span> , p0=[parameter_guesses] , sigma=uncertainties_array )**"
     ]
    },
    {
     "cell_type": "code",
     "collapsed": false,
     "input": [
      "def conc(t,k,initC):\n",
      "    \"Exponential decay\"\n",
      "    return initC*e**(-k*t)"
     ],
     "language": "python",
     "metadata": {},
     "outputs": []
    },
    {
     "cell_type": "code",
     "collapsed": false,
     "input": [
      "from scipy.optimize import curve_fit\n",
      "\n",
      "t_data=data[:,0]\n",
      "C_data=data[:,1]\n",
      "\n",
      "fit=curve_fit(conc,t_data,C_data)\n",
      "fit"
     ],
     "language": "python",
     "metadata": {},
     "outputs": []
    },
    {
     "cell_type": "heading",
     "level": 3,
     "metadata": {},
     "source": [
      "Plot the fitted function"
     ]
    },
    {
     "cell_type": "markdown",
     "metadata": {},
     "source": [
      "All plots are made with points!"
     ]
    },
    {
     "cell_type": "code",
     "collapsed": false,
     "input": [
      "params=fit[0]\n",
      "k_fit=params[0]\n",
      "initC_fit=params[1]"
     ],
     "language": "python",
     "metadata": {},
     "outputs": []
    },
    {
     "cell_type": "code",
     "collapsed": false,
     "input": [],
     "language": "python",
     "metadata": {},
     "outputs": []
    },
    {
     "cell_type": "code",
     "collapsed": false,
     "input": [
      "t_for_function = linspace(0,500,100)\n",
      "C_predicted = conc(t_for_function,k_fit,initC_fit)\n",
      "\n",
      "plot(t_for_function,C_predicted,label='fit')\n",
      "\n",
      "plot(t_data,C_data,linestyle='',marker='o',label='data')\n",
      "legend()\n",
      "show()"
     ],
     "language": "python",
     "metadata": {},
     "outputs": []
    },
    {
     "cell_type": "heading",
     "level": 2,
     "metadata": {},
     "source": [
      "Reuse your notebooks. Keep them. Go back to them. They have valuable information."
     ]
    },
    {
     "cell_type": "markdown",
     "metadata": {},
     "source": [
      "Fashion news ! \n",
      "\n",
      "http://www.nature.com/news/interactive-notebooks-sharing-the-code-1.16261"
     ]
    },
    {
     "cell_type": "code",
     "collapsed": false,
     "input": [],
     "language": "python",
     "metadata": {},
     "outputs": []
    }
   ],
   "metadata": {}
  }
 ]
}