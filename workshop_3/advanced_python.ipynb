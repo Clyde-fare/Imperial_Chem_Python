{
 "metadata": {
  "name": ""
 },
 "nbformat": 3,
 "nbformat_minor": 0,
 "worksheets": [
  {
   "cells": [
    {
     "cell_type": "markdown",
     "metadata": {},
     "source": [
      "# A Crash Course in Python Workshop 3\n",
      "[Clyde Fare](c.fare12@imperial.ac.uk) and [William Vigor](w.vigor11@imperial.ac.uk), Imperial College London\n",
      "\n",
      "\n",
      "Notebook is adapted from material by Catherine Devlin, Rick Muller, Adrian Price-Whelan and licensed under a [Creative Commons Attribution-ShareAlike 3.0 Unported License](http://creativecommons.org/licenses/by-sa/3.0/deed.en_US)."
     ]
    },
    {
     "cell_type": "markdown",
     "metadata": {},
     "source": [
      "During this workshop we will briefly introduce some mathematical functions before trying to put together what we have learned so far to solve a progamming related task to extract and fit some data from quantum chemical calculations of Neon dimers.\n",
      "\n",
      "Like last time this is an interactive tutorial. As you go through it any time you see something that looks like this:\n",
      "\n",
      "    a = np.array([1,2,3])\n",
      "   \n",
      "that's followed by an empty *code cell* (a light grey rectangle with a label like *\"In[ ]\"*), you should \n",
      "type the expression in the code cell, hit Shift+Return to *execute* it, and note the output.\n",
      "\n",
      "No copying and pasting! You'll learn the concepts better if you type them out yourself.\n",
      "\n",
      "Warning please periodically save your work."
     ]
    },
    {
     "cell_type": "markdown",
     "metadata": {},
     "source": [
      "To speed things up we will also include some filled code cells for you to execute **(You should still read what's in the code cells and make sure you understand them!!)**: "
     ]
    },
    {
     "cell_type": "markdown",
     "metadata": {},
     "source": [
      "## Example: Finite Differences\n",
      "Now that we have these tools in our toolbox, we can start to do some cool stuff with it. Many of the equations we want to solve in physics and chemistry involve differential equations. We want to be able to compute the derivative of functions:\n",
      "\n",
      "$$ y' = \\frac{y(x+h)-y(x)}{h} $$\n",
      "\n",
      "by *discretizing* the function $y(x)$ on an evenly spaced set of points $x_0, x_1, \\dots, x_n$, yielding $y_0, y_1, \\dots, y_n$. Using the discretization, we can approximate the derivative by\n",
      "\n",
      "$$ y_i' \\approx \\frac{y_{i+1}-y_{i-1}}{x_{i+1}-x_{i-1}} $$\n",
      "\n",
      "We can write a derivative function in Python via"
     ]
    },
    {
     "cell_type": "code",
     "collapsed": false,
     "input": [
      "def nderiv(y, x):\n",
      "    \"Finite difference derivative of the function f\"\n",
      "    n = len(y)\n",
      "    d = np.zeros(n, 'd') # assume double\n",
      "    \n",
      "    # Use centered differences for the interior points, one-sided differences for the ends\n",
      "    for i in range(1,n-1):\n",
      "        d[i] = (y[i+1]-y[i])/(x[i+1]-x[i])\n",
      "        \n",
      "    d[0] = (y[1]-y[0])/(x[1]-x[0])\n",
      "    d[n-1] = (y[n-1]-y[n-2])/(x[n-1]-x[n-2])\n",
      "    return d"
     ],
     "language": "python",
     "metadata": {},
     "outputs": []
    },
    {
     "cell_type": "markdown",
     "metadata": {},
     "source": [
      "Let's see whether this works for our sin example from above:"
     ]
    },
    {
     "cell_type": "markdown",
     "metadata": {},
     "source": [
      "    x = np.linspace(0,2*np.pi)\n",
      "    dsin = nderiv(np.sin(x), x)\n",
      "    plot(x, dsin, label='numerical')\n",
      "    plot(x, cos(x), label='analytical')\n",
      "    title(\"Comparison of numerical and analytical derivatives of sin(x)\")\n",
      "    legend()"
     ]
    },
    {
     "cell_type": "code",
     "collapsed": false,
     "input": [],
     "language": "python",
     "metadata": {},
     "outputs": []
    },
    {
     "cell_type": "markdown",
     "metadata": {},
     "source": [
      "Pretty close!"
     ]
    },
    {
     "cell_type": "markdown",
     "metadata": {},
     "source": [
      "## Least squares fitting\n",
      "Very often we deal with some data that we want to fit to some sort of expected behaviour. Say we have the following:"
     ]
    },
    {
     "cell_type": "code",
     "collapsed": false,
     "input": [
      "raw_data = \"\"\"\\\n",
      "3.1905781584582433,0.028208609537968457\n",
      "4.346895074946466,0.007160804747670053\n",
      "5.374732334047101,0.0046962988461934805\n",
      "8.201284796573875,0.0004614473299618756\n",
      "10.899357601713055,0.00005038370219939726\n",
      "16.295503211991434,4.377451812785309e-7\n",
      "21.82012847965739,3.0799922117601088e-9\n",
      "32.48394004282656,1.524776208284536e-13\n",
      "43.53319057815846,5.5012073588707224e-18\"\"\""
     ],
     "language": "python",
     "metadata": {},
     "outputs": [],
     "prompt_number": 5
    },
    {
     "cell_type": "markdown",
     "metadata": {},
     "source": [
      "There's a section below on parsing CSV data. We'll steal the parser from that. For an explanation, skip ahead to that section. Otherwise, just assume that this is a way to parse that text into a numpy array that we can plot and do other analyses with."
     ]
    },
    {
     "cell_type": "code",
     "collapsed": false,
     "input": [
      "data = []\n",
      "for line in raw_data.splitlines():\n",
      "    words = line.split(',')\n",
      "    data.append([float(word) for word in words])\n",
      "data = np.array(data)"
     ],
     "language": "python",
     "metadata": {},
     "outputs": [],
     "prompt_number": 6
    },
    {
     "cell_type": "markdown",
     "metadata": {},
     "source": [
      "    title(\"Raw Data\")\n",
      "    xlabel(\"Distance\")\n",
      "    plot(data[:,0], data[:,1], 'bo')"
     ]
    },
    {
     "cell_type": "code",
     "collapsed": false,
     "input": [],
     "language": "python",
     "metadata": {},
     "outputs": []
    },
    {
     "cell_type": "markdown",
     "metadata": {},
     "source": [
      "Since we expect the data to have an exponential decay, we can plot it using a semi-log plot."
     ]
    },
    {
     "cell_type": "markdown",
     "metadata": {},
     "source": [
      "    title(\"Raw Data\")\n",
      "    xlabel(\"Distance\")\n",
      "    semilogy(data[:,0], data[:,1], 'bo')"
     ]
    },
    {
     "cell_type": "code",
     "collapsed": false,
     "input": [],
     "language": "python",
     "metadata": {},
     "outputs": []
    },
    {
     "cell_type": "markdown",
     "metadata": {},
     "source": [
      "For a pure exponential decay like this, we can fit the log of the data to a straight line. The above plot suggests this is a good approximation. Given a function:\n",
      "\n",
      "$$ y = Ae^{-ax} $$\n",
      "\n",
      "$$ \\log(y) = \\log(A) - ax$$\n",
      "\n",
      "Thus, if we fit the log of the data versus x, we should get a straight line with slope $a$, and an intercept that gives the constant $A$.\n",
      "\n",
      "There's a numpy function called **polyfit** that will fit data to a polynomial form. We'll use this to fit to a straight line (a polynomial of order 1)"
     ]
    },
    {
     "cell_type": "code",
     "collapsed": false,
     "input": [
      "params = polyfit(data[:,0], log(data[:,1]), 1)\n",
      "a = params[0]\n",
      "A = exp(params[1])"
     ],
     "language": "python",
     "metadata": {},
     "outputs": []
    },
    {
     "cell_type": "markdown",
     "metadata": {},
     "source": [
      "Let's see whether this curve fits the data.\n",
      "\n",
      "    x = np.linspace(1, 45)\n",
      "    title(\"Raw Data\")\n",
      "    xlabel(\"Distance\")\n",
      "    semilogy(data[:,0], data[:,1], 'bo')\n",
      "    semilogy(x, A*exp(a*x), 'b-')"
     ]
    },
    {
     "cell_type": "code",
     "collapsed": false,
     "input": [],
     "language": "python",
     "metadata": {},
     "outputs": []
    },
    {
     "cell_type": "markdown",
     "metadata": {},
     "source": [
      "If we have more complicated functions, we may not be able to get away with fitting to a simple polynomial. Consider the following data:"
     ]
    },
    {
     "cell_type": "code",
     "collapsed": false,
     "input": [
      "gauss_data = \"\"\"\\\n",
      "-0.9902286902286903,1.4065274110372852e-19\n",
      "-0.7566104566104566,2.2504438576596563e-18\n",
      "-0.5117810117810118,1.9459459459459454\n",
      "-0.31887271887271884,10.621621621621626\n",
      "-0.250997150997151,15.891891891891893\n",
      "-0.1463309463309464,23.756756756756754\n",
      "-0.07267267267267263,28.135135135135133\n",
      "-0.04426734426734419,29.02702702702703\n",
      "-0.0015939015939017698,29.675675675675677\n",
      "0.04689304689304685,29.10810810810811\n",
      "0.0840994840994842,27.324324324324326\n",
      "0.1700546700546699,22.216216216216214\n",
      "0.370878570878571,7.540540540540545\n",
      "0.5338338338338338,1.621621621621618\n",
      "0.722014322014322,0.08108108108108068\n",
      "0.9926849926849926,-0.08108108108108646\"\"\""
     ],
     "language": "python",
     "metadata": {},
     "outputs": []
    },
    {
     "cell_type": "markdown",
     "metadata": {},
     "source": [
      "Which we will parse it into an array:"
     ]
    },
    {
     "cell_type": "code",
     "collapsed": false,
     "input": [
      "data = []\n",
      "for line in gauss_data.splitlines():\n",
      "    words = line.split(',')\n",
      "    \n",
      "    data.append(list(map(float, words)))\n",
      "data = np.array(data)"
     ],
     "language": "python",
     "metadata": {},
     "outputs": []
    },
    {
     "cell_type": "markdown",
     "metadata": {},
     "source": [
      "and plot:\n",
      "\n",
      "    plot(data[:,0], data[:,1], 'bo')"
     ]
    },
    {
     "cell_type": "code",
     "collapsed": false,
     "input": [],
     "language": "python",
     "metadata": {},
     "outputs": []
    },
    {
     "cell_type": "markdown",
     "metadata": {},
     "source": [
      "This data looks more Gaussian than exponential. If we wanted to, we could use **polyfit** for this as well, but let's use the **curve_fit** function from Scipy, which can fit to arbitrary functions. You can learn more using help(curve_fit).\n",
      "\n",
      "First define a general Gaussian function to fit to.\n",
      "\n",
      "    def gauss(x, A, a): \n",
      "        return A*exp(a*x**2)"
     ]
    },
    {
     "cell_type": "code",
     "collapsed": false,
     "input": [],
     "language": "python",
     "metadata": {},
     "outputs": []
    },
    {
     "cell_type": "markdown",
     "metadata": {},
     "source": [
      "Now fit to it using **curve_fit**:"
     ]
    },
    {
     "cell_type": "markdown",
     "metadata": {},
     "source": [
      "    from scipy.optimize import curve_fit\n",
      "    \n",
      "    params,conv = curve_fit(gauss,data[:,0],data[:,1])\n",
      "    x = np.linspace(-1, 1)\n",
      "    plot(data[:,0],data[:,1],'bo')\n",
      "    A,a = params\n",
      "    plot(x, gauss(x, A, a), 'b-')"
     ]
    },
    {
     "cell_type": "code",
     "collapsed": false,
     "input": [],
     "language": "python",
     "metadata": {},
     "outputs": []
    },
    {
     "cell_type": "markdown",
     "metadata": {},
     "source": [
      "The **curve_fit** routine we just used is built on top of a very good general **minimization** capability in Scipy. You can learn more [at the scipy documentation pages](http://docs.scipy.org/doc/scipy/reference/generated/scipy.optimize.minimize.html)."
     ]
    },
    {
     "cell_type": "markdown",
     "metadata": {},
     "source": [
      "Ne$_2$ dissociation\n",
      "==================================\n",
      "\n",
      "Often we come across the situation where we have a text file generated by one program and wish to extract some of the information and to do something else e.g. run another calculation or generate a graph.\n",
      "\n",
      "The file Ne.out contains an electronic structure calculation of the energy of a single Ne atom.\n",
      "\n",
      "Remembering workshop II we can read a file and print its contents using:"
     ]
    },
    {
     "cell_type": "code",
     "collapsed": false,
     "input": [
      "#get the raw file data\n",
      "f = open('test.out' ,'r')\n",
      "file_contents = f.read()\n",
      "lines=file_contents.splitlines()\n",
      "f.close()\n",
      "\n",
      "for line in lines:\n",
      "    print line"
     ],
     "language": "python",
     "metadata": {},
     "outputs": []
    },
    {
     "cell_type": "markdown",
     "metadata": {},
     "source": [
      "So if we wanted to extract the colour of the leaves from the file we would use **split** to split up the string into a list of words:"
     ]
    },
    {
     "cell_type": "code",
     "collapsed": false,
     "input": [
      "#get the raw file data\n",
      "f = open('test.out' ,'r')\n",
      "file_contents = f.read()\n",
      "lines = file_contents.splitlines()\n",
      "f.close()\n",
      "\n",
      "for line in lines:\n",
      "    if 'leaves' in line:\n",
      "       leaf_colour = line.split()[4]\n",
      "        \n",
      "#let's get rid of the comma at the end of the line\n",
      "leaf_colour = leaf_colour[:-1]\n",
      "print(leaf_colour)"
     ],
     "language": "python",
     "metadata": {},
     "outputs": []
    },
    {
     "cell_type": "markdown",
     "metadata": {},
     "source": [
      "Copy and paste the code from the cell above into the cell bellow and modify it so that it prints out the colour of the sky instead of the colour of the leaves."
     ]
    },
    {
     "cell_type": "code",
     "collapsed": false,
     "input": [],
     "language": "python",
     "metadata": {},
     "outputs": []
    },
    {
     "cell_type": "markdown",
     "metadata": {},
     "source": [
      "OK, now let's do something more useful: The file Ne.out contains an electronic structure calculation of the energy of a single Neon atom. We wish to extract the total energy. This is on a line that looks like:\n",
      "\n",
      "\n",
      "      * CCSD(T) total energy          = -128.680692864592714\n",
      "\n",
      "In the cell below remove 'pass' and in its place write some code that will set a variable named 'energy_str' to the string '-128.680692864592714' contained in the file. (You aren't allowed to cheat and use the fact you already know it will be exactly 128.680692864592714!)"
     ]
    },
    {
     "cell_type": "code",
     "collapsed": false,
     "input": [
      "f = open('Ne.out', 'r')\n",
      "file_contents = f.read()\n",
      "lines = file_contents.splitlines()\n",
      "f.close()\n",
      "\n",
      "for line in lines:\n",
      "        pass"
     ],
     "language": "python",
     "metadata": {},
     "outputs": [],
     "prompt_number": 32
    },
    {
     "cell_type": "markdown",
     "metadata": {},
     "source": [
      "Now we have extracted the energy as a string modify the code to generate a new variable named 'ne_energy' which contains the energy as a floating point number."
     ]
    },
    {
     "cell_type": "code",
     "collapsed": false,
     "input": [
      "f = open('Ne.out', 'r')\n",
      "lines = f.readlines()\n",
      "f.close()\n",
      "\n",
      "for line in lines:\n",
      "    pass"
     ],
     "language": "python",
     "metadata": {},
     "outputs": []
    },
    {
     "cell_type": "raw",
     "metadata": {},
     "source": [
      "The file Ne2.out contains energies for many different geometries of a Neon Dimer. We are going to extract these energies and geometries and plot the dissociation curve. \n",
      "\n",
      "The file has the following format:\n",
      ".\n",
      ".\n",
      ".       Some irrelevant stuff\n",
      ".\n",
      ".\n",
      "\n",
      "   Center              X                  Y                   Z\n",
      "------------   -----------------  -----------------  -----------------\n",
      "      NE          0.000000000000     0.000000000000    -0.250000000000\n",
      "      NE          0.000000000000     0.000000000000     0.250000000000\n",
      "\n",
      ".\n",
      ".\n",
      ".       Some more irrelevant stuff\n",
      ".\n",
      ".\n",
      "      * CCSD(T) total energy          = -128.680692864592714\n",
      ".\n",
      ".\n",
      ".       Some more irrelevant stuff\n",
      ".\n",
      ".\n",
      "\n",
      "This format is then repeated giving data for several different coordinates of Neon atom pairs (if this is confusing take a look at the file Ne2.out). Your task is to extract this information. As this is complex task we have broken it down into a number of simpler steps."
     ]
    },
    {
     "cell_type": "markdown",
     "metadata": {},
     "source": [
      "The coordinates of the two Ne atoms are specified in $\\overset{\\circ}{A}$:\n",
      "\n",
      "       Center              X                  Y                   Z\n",
      "    ------------   -----------------  -----------------  -----------------\n",
      "          NE          0.000000000000     0.000000000000    -0.250000000000\n",
      "          NE          0.000000000000     0.000000000000     0.250000000000\n",
      "\n",
      "Unfortunately the two lines have the same format so it is not quite as easy as before to extract the data, but we do know that whenever we find a 'Ne' symbol on the line we want to extract the next two lines.\n",
      "\n",
      "Study the following cell. In it the code goes through the file line by line, and prints out the Neon coordinates specifying which Neon atom the coordinates refer to:"
     ]
    },
    {
     "cell_type": "code",
     "collapsed": false,
     "input": [
      "#open and read the file\n",
      "f = open('Ne2.out', 'r')\n",
      "file_contents = f.read()\n",
      "lines = file_contents.splitlines()\n",
      "f.close()\n",
      "\n",
      "#we use a flag to indicate whether the next line with an 'Ne' in it will be the first or the second Neon atom\n",
      "first_Ne = True\n",
      "\n",
      "for line in lines:\n",
      "    #if we are on the line with the first Ne\n",
      "    if 'NE' in line.split() and first_Ne:\n",
      "        print('1: ' + line)\n",
      "        \n",
      "        #set the flag to false because the next line with Ne on will be the second Ne\n",
      "        first_Ne=False\n",
      "        \n",
      "    #we are on the line with second Ne\n",
      "    elif 'NE' in line.split() and not first_Ne:\n",
      "        print('2: ' + line)\n",
      "\n",
      "        #set the flag to true because the next line will Ne on with be the first Ne\n",
      "        first_Ne=True"
     ],
     "language": "python",
     "metadata": {},
     "outputs": []
    },
    {
     "cell_type": "markdown",
     "metadata": {},
     "source": [
      "Modify the cell below so that instead of printing the whole line out every time we find Neon coordinates, instead we just print out the x,y and z coordinates."
     ]
    },
    {
     "cell_type": "code",
     "collapsed": false,
     "input": [
      "f = open('Ne2.out', 'r')\n",
      "lines = f.readlines()\n",
      "f.close()\n",
      "\n",
      "first_Ne= True\n",
      "for line in lines:\n",
      "    #we are on the line with the first Ne\n",
      "    if 'NE' in line.split() and first_Ne:\n",
      "\n",
      "        #set the flag to false because the next line with Ne on will be the second Ne\n",
      "        first_Ne=False\n",
      "    #we are on the line with second Ne\n",
      "    elif 'NE' in line.split() and not first_Ne:\n",
      "\n",
      "        #set the flag to true because the next line with Ne on will be the first Ne\n",
      "        first_Ne=True"
     ],
     "language": "python",
     "metadata": {},
     "outputs": [],
     "prompt_number": 9
    },
    {
     "cell_type": "markdown",
     "metadata": {},
     "source": [
      "OK the task now is to generate a list of distances between the Neon atoms in the dimers. Above you have found a method for distinguishing between the first and second atoms in each dimer and have used it to print out the coordinates of each atom. Below is a function to calculate the distance between two atoms given the coordinates of each in Cartesian coordinates (x1, y1, z1) and (x2, y2, z2). (Make sure you understand how it works):"
     ]
    },
    {
     "cell_type": "code",
     "collapsed": false,
     "input": [
      "def vect_dist(x1, y1, z1, x2, y2, z2):\n",
      "    distance = sqrt( (x1-x2)**2 + (y1-y2)**2 + (z1-z2)**2 )\n",
      "    return(distance)"
     ],
     "language": "python",
     "metadata": {},
     "outputs": []
    },
    {
     "cell_type": "markdown",
     "metadata": {},
     "source": [
      "Can you see how to use the ***vect_dist** function in combination with your previous solution and some functions you've already used to generate the required list of distances?\n",
      "\n",
      "Copy and paste your solution from the cell two above into the cell below. Modify it to call the vect_dist function every time we find the second Neon atom and append the answer to the list 'dist'."
     ]
    },
    {
     "cell_type": "code",
     "collapsed": false,
     "input": [
      "dist=[]\n",
      "\n",
      "#enter your code here"
     ],
     "language": "python",
     "metadata": {},
     "outputs": []
    },
    {
     "cell_type": "markdown",
     "metadata": {},
     "source": [
      "Here is a good point to check you answer run the cell bellow and check the output is the same:"
     ]
    },
    {
     "cell_type": "code",
     "collapsed": false,
     "input": [
      "if(dist == [2.2999999999999998, 2.3500000000000001, 2.3999999999999999, 2.4500000000000002, 2.5, 2.5499999999999998, 2.6000000000000001, 2.6499999999999999, 2.7000000000000002, 2.75, 2.7999999999999998, 2.9500000000000002, 3.0, 3.0499999999999998, 3.1000000000000001, 3.1499999999999999, 3.2000000000000002, 3.25, 3.2999999999999998, 3.3500000000000001]):\n",
      "    print('Success')\n",
      "else:\n",
      "    print(\"The lists don't match, check your above solutions.\")"
     ],
     "language": "python",
     "metadata": {},
     "outputs": []
    },
    {
     "cell_type": "markdown",
     "metadata": {},
     "source": [
      "Copy and paste your solution which extracts the distances above and add in code to extract the energy associated with each Neon pair. Recall the format of the file specified at the beginning of this exercise (you should be able to adapt your earlier solution to extract the energy from the Ne.out file). Place this in a list called energies."
     ]
    },
    {
     "cell_type": "code",
     "collapsed": false,
     "input": [
      "dist=[]\n",
      "energies=[]\n",
      "\n",
      "#enter your code here"
     ],
     "language": "python",
     "metadata": {},
     "outputs": []
    },
    {
     "cell_type": "markdown",
     "metadata": {},
     "source": [
      "Again here is a good point to check you answer run the cell bellow and check the output is the same:"
     ]
    },
    {
     "cell_type": "code",
     "collapsed": false,
     "input": [
      "if(energies == [-257.35961064714644, -257.3602203016917, -257.3606695111796, -257.3609925808868, -257.36121774835453, -257.3613681862958, -257.36146276795836, -257.3615166804277, -257.3615419463744, -257.3615478902172, -257.36154156629686, -257.36149354664656, -257.36147640080674, -257.361460788562, -257.361447142686, -257.3614355791732, -257.3614260155646, -257.36141825755266, -257.36141205999513, -257.3614071664569]):\n",
      "    print('Success')\n",
      "else:\n",
      "    print(\"The lists don't match, check your above solutions.\")\n",
      "if(dist == [2.2999999999999998, 2.3500000000000001, 2.3999999999999999, 2.4500000000000002, 2.5, 2.5499999999999998, 2.6000000000000001, 2.6499999999999999, 2.7000000000000002, 2.75, 2.7999999999999998, 2.9500000000000002, 3.0, 3.0499999999999998, 3.1000000000000001, 3.1499999999999999, 3.2000000000000002, 3.25, 3.2999999999999998, 3.3500000000000001]):\n",
      "    print('Success')\n",
      "else:\n",
      "    print(\"The lists don't match, check your above solutions.\")"
     ],
     "language": "python",
     "metadata": {},
     "outputs": []
    },
    {
     "cell_type": "markdown",
     "metadata": {},
     "source": [
      "Congratulations if you have got this far you have successfully extracted the energies for Ne$_2$ dissociation.\n",
      "----------------------------------------------------------------------------------------------------------------------\n",
      "\n",
      "Now we are going to use this data to do some interesting things. First remember that we can plot data using matplotlib, so lets have a look at the data we have extracted by running the cell below:"
     ]
    },
    {
     "cell_type": "code",
     "collapsed": false,
     "input": [
      "xlabel('Ne - Ne Bond Distance ($\\AA$)')\n",
      "ylabel('Energy (Hartree)')\n",
      "plot(dist, energies, '+')"
     ],
     "language": "python",
     "metadata": {},
     "outputs": []
    },
    {
     "cell_type": "markdown",
     "metadata": {},
     "source": [
      "Often in chemistry we care about relative energies. Lets subtract twice the energy of a free Ne atom (which you've set previously to the *ne_energy* variable) to find out how interaction energy varies with distance. We convert here to numpy arrays to make the following section easier."
     ]
    },
    {
     "cell_type": "code",
     "collapsed": false,
     "input": [
      "energies = np.array(energies)\n",
      "dist = np.array(dist)"
     ],
     "language": "python",
     "metadata": {},
     "outputs": [],
     "prompt_number": 111
    },
    {
     "cell_type": "markdown",
     "metadata": {},
     "source": [
      "Now a choice of curves often used to model dissociation is the Lennard-Jones 6-12 Potential:\n",
      "\n",
      "\\begin{equation}V(r) = 4 \\epsilon(( -(\\frac{\\sigma}{r})^6 + (\\frac{\\sigma}{r})^{12})\\end{equation}\n",
      "\n",
      "We will now attempt to fit the Lennard-Jones potential to our data."
     ]
    },
    {
     "cell_type": "code",
     "collapsed": false,
     "input": [
      "def lennard_jones(r, epsilon, sigma):\n",
      "    v =  4*epsilon*(-(sigma/r)**6 + (sigma/r)**12)\n",
      "    return(v)"
     ],
     "language": "python",
     "metadata": {},
     "outputs": [],
     "prompt_number": 46
    },
    {
     "cell_type": "markdown",
     "metadata": {},
     "source": [
      "This function looks like:"
     ]
    },
    {
     "cell_type": "code",
     "collapsed": false,
     "input": [
      "points = linspace(2.44, 6.0, 100)\n",
      "potential = lennard_jones(points, 1.3, 2.5)\n",
      "plot(points, potential)\n",
      "xlabel('Bond Distance')\n",
      "ylabel('Energy')"
     ],
     "language": "python",
     "metadata": {},
     "outputs": []
    },
    {
     "cell_type": "markdown",
     "metadata": {},
     "source": [
      "We will now attempt to fit the Lennard-Jones potential to our data."
     ]
    },
    {
     "cell_type": "code",
     "collapsed": false,
     "input": [
      "from scipy.optimize import curve_fit\n",
      "\n",
      "params, conv = curve_fit(lennard_jones, dist, energies, p0=(0.00018, 2.6))\n",
      "epsilon_opt = params[0]\n",
      "sigma_opt = params[1]\n",
      "\n",
      "dist_lj = linspace(max(dist), min(dist), 100)\n",
      "energies_lj = lennard_jones(dist_lj , epsilon_opt, sigma_opt)\n",
      "\n",
      "plot(dist, energies, '+')\n",
      "plot(dist_lj, energies_lj)\n",
      "xlabel('Ne - Ne Bond Distance ($\\AA$)')\n",
      "ylabel('Energy (Hartree)')"
     ],
     "language": "python",
     "metadata": {},
     "outputs": []
    },
    {
     "cell_type": "markdown",
     "metadata": {},
     "source": [
      "An alternative function used to fit dissociation curves is the Morse potential:\n",
      "\n",
      "\\begin{equation}\n",
      "V(r) = d ((1 - e^{-a(r - r_e)})^2 - 1)\n",
      "\\end{equation}\n",
      "\n",
      "Write a function to compute the Morse potential with r, r_e, d and a as arguments to the function. Making sure the arguments are in the order r, r_e, d and call the function Morse."
     ]
    },
    {
     "cell_type": "code",
     "collapsed": false,
     "input": [],
     "language": "python",
     "metadata": {},
     "outputs": []
    },
    {
     "cell_type": "markdown",
     "metadata": {},
     "source": [
      "Again here is a good point to check you answer run the cell bellow to check your work."
     ]
    },
    {
     "cell_type": "code",
     "collapsed": false,
     "input": [
      "if morse(2.0, 1.0, 3.2, 5.2) == -0.035208628347242053:\n",
      "    print('Well Done your Morse function works.')\n",
      "else:\n",
      "    print('Your Morse function is wrong!')"
     ],
     "language": "python",
     "metadata": {},
     "outputs": []
    },
    {
     "cell_type": "raw",
     "metadata": {},
     "source": [
      "The Morse Potential Looks like:"
     ]
    },
    {
     "cell_type": "code",
     "collapsed": false,
     "input": [
      "points = linspace(1.95, 8.0, 100)\n",
      "potential = morse(points, 2.92, 1.3, 0.9)\n",
      "plot(points, potential)\n",
      "xlabel('Bond Distance')\n",
      "ylabel('Energy')"
     ],
     "language": "python",
     "metadata": {},
     "outputs": []
    },
    {
     "cell_type": "markdown",
     "metadata": {},
     "source": [
      "Repeat the curve fit for the Morse potential and plot both results in the cell bellow:"
     ]
    },
    {
     "cell_type": "code",
     "collapsed": false,
     "input": [],
     "language": "python",
     "metadata": {},
     "outputs": []
    },
    {
     "cell_type": "code",
     "collapsed": false,
     "input": [
      "if d_opt ==2.29433482842 and d_opt == -0.00177961196379 and a_opt == 14.9232811053:\n",
      "    print('Well Done you have finished the mini project in the final workshop!')\n",
      "else:\n",
      "    print('Check the curve fit calculation for the Morse potential')"
     ],
     "language": "python",
     "metadata": {},
     "outputs": []
    },
    {
     "cell_type": "markdown",
     "metadata": {},
     "source": [
      "## One-Dimensional Harmonic Oscillator using Finite Difference (Optional Advanced material!)\n",
      "Now that we've convinced ourselves that finite differences aren't a terrible approximation, let's see if we can use this to solve the one-dimensional harmonic oscillator.\n",
      "\n",
      "We want to solve the time-independent Schrodinger equation\n",
      "\n",
      "$$ -\\frac{\\hbar^2}{2m}\\frac{\\partial^2\\psi(x)}{\\partial x^2} + V(x)\\psi(x) = E\\psi(x)$$\n",
      "\n",
      "for $\\psi(x)$ when $V(x)=\\frac{1}{2}m\\omega^2x^2$ is the harmonic oscillator potential. We're going to use the standard trick to transform the differential equation into a matrix equation by multiplying both sides by $\\psi^*(x)$ and integrating over $x$. This yields\n",
      "\n",
      "$$ -\\frac{\\hbar}{2m}\\int\\psi(x)\\frac{\\partial^2}{\\partial x^2}\\psi(x)dx + \\int\\psi(x)V(x)\\psi(x)dx = E$$\n",
      "\n",
      "We will again use the finite difference approximation. The finite difference formula for the second derivative is\n",
      "\n",
      "$$ y'' = \\frac{y_{i+1}-2y_i+y_{i-1}}{x_{i+1}-x_{i-1}} $$\n",
      "\n",
      "We can think of the first term in the Schrodinger equation as the overlap of the wave function $\\psi(x)$ with the second derivative of the wave function $\\frac{\\partial^2}{\\partial x^2}\\psi(x)$. Given the above expression for the second derivative, we can see if we take the overlap of the states $y_1,\\dots,y_n$ with the second derivative, we will only have three points where the overlap is non-zero, at $y_{i-1}$, $y_i$, and $y_{i+1}$. In matrix form, this leads to the tridiagonal Laplacian matrix, which has -2's along the diagonals, and 1's along the diagonals above and below the main diagonal.\n",
      "\n",
      "The second term turns leads to a diagonal matrix with $V(x_i)$ on the diagonal elements. Putting all of these pieces together, we get:"
     ]
    },
    {
     "cell_type": "code",
     "collapsed": false,
     "input": [
      "def Laplacian(x):\n",
      "    h = x[1]-x[0] # assume uniformly spaced points\n",
      "    n = len(x)\n",
      "    M = -2 * np.identity(n,'d')\n",
      "    \n",
      "    for i in range(1, n):\n",
      "        M[i,i-1] = M[i-1,i] = 1\n",
      "        \n",
      "    return M/h**2"
     ],
     "language": "python",
     "metadata": {},
     "outputs": []
    },
    {
     "cell_type": "markdown",
     "metadata": {},
     "source": [
      "Set up the parameters:\n",
      "    \n",
      "    x = np.linspace(-3, 3)\n",
      "    m = 1.0\n",
      "    ohm = 1.0\n",
      "    T = (-0.5/m)*Laplacian(x)\n",
      "    V = 0.5*(ohm**2)*(x**2)\n",
      "    H =  T + np.diag(V)\n",
      "    E,U = np.linalg.eigh(H)\n",
      "    h = x[1]-x[0]"
     ]
    },
    {
     "cell_type": "code",
     "collapsed": false,
     "input": [],
     "language": "python",
     "metadata": {},
     "outputs": []
    },
    {
     "cell_type": "code",
     "collapsed": false,
     "input": [
      "# Plot the Harmonic potential\n",
      "plot(x,V,color='k')\n",
      "\n",
      "for i in range(4):\n",
      "    # For each of the first few solutions, plot the energy level:\n",
      "    axhline(y=E[i], color='k', ls=\":\")\n",
      "    # as well as the eigenfunction, displaced by the energy level so they don't\n",
      "    # all pile up on each other:\n",
      "    plot(x,-U[:,i]/sqrt(h)+E[i])\n",
      "title(\"Eigenfunctions of the Quantum Harmonic Oscillator\")\n",
      "xlabel(\"Displacement (bohr)\")\n",
      "ylabel(\"Energy (hartree)\")"
     ],
     "language": "python",
     "metadata": {},
     "outputs": []
    },
    {
     "cell_type": "markdown",
     "metadata": {},
     "source": [
      "We've made a couple of hacks here to get the orbitals the way we want them. First, I inserted a -1 factor before the wave functions, to fix the phase of the lowest state. The phase (sign) of a quantum wave function doesn't hold any information, only the square of the wave function does, so this doesn't really change anything. \n",
      "\n",
      "But the eigenfunctions as we generate them aren't properly normalized. The reason is that finite difference isn't a real basis in the quantum mechanical sense. It's a basis of Dirac \u03b4 functions at each point; we interpret the space betwen the points as being \"filled\" by the wave function, but the finite difference basis only has the solution being at the points themselves. We can fix this by dividing the eigenfunctions of our finite difference Hamiltonian by the square root of the spacing, and this gives properly normalized functions."
     ]
    },
    {
     "cell_type": "markdown",
     "metadata": {},
     "source": [
      "## Special Functions\n",
      "The solutions to the Harmonic Oscillator are supposed to be Hermite polynomials. The Wikipedia page has the HO states given by\n",
      "\n",
      "$$\\psi_n(x) = \\frac{1}{\\sqrt{2^n n!}}\n",
      "\\left(\\frac{m\\omega}{\\pi\\hbar}\\right)^{1/4}\n",
      "\\exp\\left(-\\frac{m\\omega x^2}{2\\hbar}\\right)\n",
      "H_n\\left(\\sqrt{\\frac{m\\omega}{\\hbar}}x\\right)$$\n",
      "\n",
      "Let's see whether they look like those. There are some special functions in the Numpy library, and some more in Scipy. Hermite Polynomials are in Numpy:"
     ]
    },
    {
     "cell_type": "code",
     "collapsed": false,
     "input": [
      "from numpy.polynomial.hermite import Hermite\n",
      "def ho_evec(x, n, m, ohm):\n",
      "    vec = [0]*9\n",
      "    vec[n] = 1\n",
      "    Hn = Hermite(vec)\n",
      "    return (1/sqrt(2**n*factorial(n)))*pow(m*ohm/pi, 0.25)*exp(-0.5*m*ohm*x**2)*Hn(x*sqrt(m*ohm))"
     ],
     "language": "python",
     "metadata": {},
     "outputs": []
    },
    {
     "cell_type": "markdown",
     "metadata": {},
     "source": [
      "Let's compare the first function to our solution."
     ]
    },
    {
     "cell_type": "code",
     "collapsed": false,
     "input": [
      "plot(x, ho_evec(x,0,1,1), label=\"Analytic\")\n",
      "plot(x, -U[:,0]/sqrt(h), label=\"Numeric\")\n",
      "xlabel('x (bohr)')\n",
      "ylabel(r'$\\psi(x)$')\n",
      "title(\"Comparison of numeric and analytic solutions to the Harmonic Oscillator\")\n",
      "legend()"
     ],
     "language": "python",
     "metadata": {},
     "outputs": []
    },
    {
     "cell_type": "markdown",
     "metadata": {},
     "source": [
      "The agreement is almost exact."
     ]
    },
    {
     "cell_type": "markdown",
     "metadata": {},
     "source": [
      "We can use the **subplot** command to put multiple comparisons in different panes on a single plot:"
     ]
    },
    {
     "cell_type": "code",
     "collapsed": false,
     "input": [
      "phase_correction = [-1,1,1,-1,-1,1]\n",
      "for i in range(6):\n",
      "    subplot(2, 3, i+1)\n",
      "    plot(x, ho_evec(x, i, 1, 1), label=\"Analytic\")\n",
      "    plot(x, phase_correction[i]*U[:,i]/sqrt(h), label=\"Numeric\")"
     ],
     "language": "python",
     "metadata": {},
     "outputs": []
    },
    {
     "cell_type": "markdown",
     "metadata": {},
     "source": [
      "Other than phase errors (which I've corrected with a little hack: can you find it?), the agreement is pretty good, although it gets worse the higher in energy we get, in part because we used only 50 points.\n",
      "\n",
      "The Scipy module has many more special functions:"
     ]
    },
    {
     "cell_type": "code",
     "collapsed": false,
     "input": [
      "from scipy.special import airy,jn,eval_chebyt,eval_legendre\n",
      "subplot(2, 2, 1)\n",
      "x = linspace(-1, 1)\n",
      "Ai,Aip,Bi,Bip = airy(x)\n",
      "plot(x, Ai)\n",
      "plot(x, Aip)\n",
      "plot(x, Bi)\n",
      "plot(x, Bip)\n",
      "title(\"Airy functions\")\n",
      "\n",
      "subplot(2, 2, 2)\n",
      "x = linspace(0, 10)\n",
      "for i in range(4):\n",
      "    plot(x, jn(i, x))\n",
      "title(\"Bessel functions\")\n",
      "\n",
      "subplot(2, 2, 3)\n",
      "x = linspace(-1,1)\n",
      "for i in range(6):\n",
      "    plot(x, eval_chebyt(i, x))\n",
      "title(\"Chebyshev polynomials of the first kind\")\n",
      "\n",
      "subplot(2, 2, 4)\n",
      "x = linspace(-1, 1)\n",
      "for i in range(6):\n",
      "    plot(x, eval_legendre(i, x))\n",
      "title(\"Legendre polynomials\")"
     ],
     "language": "python",
     "metadata": {},
     "outputs": []
    },
    {
     "cell_type": "markdown",
     "metadata": {},
     "source": [
      "As well as Jacobi, Laguerre, Hermite polynomials, Hypergeometric functions, and many others. There's a full listing at the [Scipy Special Functions Page](http://docs.scipy.org/doc/scipy/reference/special.html)."
     ]
    },
    {
     "cell_type": "markdown",
     "metadata": {},
     "source": [
      "## Monte Carlo, random numbers, and computing $\\pi$ (Optional advanced material!)\n",
      "Many methods in scientific computing rely on Monte Carlo integration, where a sequence of (pseudo) random numbers are used to approximate the integral of a function. Python has good random number generators in the standard library. The **random()** function gives pseudorandom numbers uniformly distributed between 0 and 1:"
     ]
    },
    {
     "cell_type": "markdown",
     "metadata": {},
     "source": [
      "    from random import random\n",
      "    rands = []\n",
      "    for i in range(100):\n",
      "        rands.append(random())\n",
      "    plot(rands)"
     ]
    },
    {
     "cell_type": "code",
     "collapsed": false,
     "input": [],
     "language": "python",
     "metadata": {},
     "outputs": []
    },
    {
     "cell_type": "markdown",
     "metadata": {},
     "source": [
      "**random()** uses the [Mersenne Twister](http://www.math.sci.hiroshima-u.ac.jp/~m-mat/MT/emt.html) algorithm, which is a highly regarded pseudorandom number generator. There are also functions to generate random integers, to randomly shuffle a list, and functions to pick random numbers from a particular distribution, like the normal distribution:"
     ]
    },
    {
     "cell_type": "markdown",
     "metadata": {},
     "source": [
      "    from random import gauss\n",
      "    grands = []\n",
      "    for i in range(100):\n",
      "        grands.append(gauss(0, 1))\n",
      "    plot(grands)"
     ]
    },
    {
     "cell_type": "code",
     "collapsed": false,
     "input": [],
     "language": "python",
     "metadata": {},
     "outputs": []
    },
    {
     "cell_type": "markdown",
     "metadata": {},
     "source": [
      "It is generally more efficient to generate a list of random numbers all at once, particularly if you're drawing from a non-uniform distribution. Numpy has functions to generate vectors and matrices of particular types of random distributions."
     ]
    },
    {
     "cell_type": "markdown",
     "metadata": {},
     "source": [
      "    plot(rand(100))"
     ]
    },
    {
     "cell_type": "code",
     "collapsed": false,
     "input": [],
     "language": "python",
     "metadata": {},
     "outputs": []
    },
    {
     "cell_type": "markdown",
     "metadata": {},
     "source": [
      "Here is a program to compute $\\pi$ by taking random numbers as x and y coordinates, and counting how many of them were in the unit circle:"
     ]
    },
    {
     "cell_type": "markdown",
     "metadata": {},
     "source": [
      "    npts = 5000\n",
      "    xs = 2*rand(npts)-1\n",
      "    ys = 2*rand(npts)-1\n",
      "    r = xs**2+ys**2\n",
      "    ninside = (r<1).sum()\n",
      "    figsize(6, 6) # make the figure square\n",
      "    title(\"Approximation to pi = %f\" % (4*ninside/float(npts)))\n",
      "    plot(xs[r<1], ys[r<1],'b.')\n",
      "    plot(xs[r>1], ys[r>1],'r.')\n",
      "    figsize(8, 6) # change the figsize back to 4x3 for the rest of the notebook"
     ]
    },
    {
     "cell_type": "code",
     "collapsed": false,
     "input": [],
     "language": "python",
     "metadata": {},
     "outputs": []
    },
    {
     "cell_type": "markdown",
     "metadata": {},
     "source": [
      "The idea behind the program is that the ratio of the area of the unit circle to the square that inscribes it is $\\pi/4$, so by counting the fraction of the random points in the square that are inside the circle, we get increasingly good estimates to $\\pi$. \n",
      "\n",
      "The above code uses some higher level Numpy tricks to compute the radius of each point in a single line, to count how many radii are below one in a single line, and to filter the x,y points based on their radii. These tricks are great if you can remember them but a simpler way would be to use a list comprehension (see below) to filter the points we want.\n",
      "\n",
      "As methods of computing $\\pi$ go, this is among the worst. A much better method is to use Leibniz's expansion of arctan(1):\n",
      "\n",
      "$$\\frac{\\pi}{4} = \\sum_k \\frac{(-1)^k}{2*k+1}$$\n",
      "\n",
      "Code:\n",
      "\n",
      "    n = 100\n",
      "    total = 0\n",
      "    for k in range(n):\n",
      "        total += pow(-1, k)/(2*k+1.0)\n",
      "    print(4*total)"
     ]
    },
    {
     "cell_type": "code",
     "collapsed": false,
     "input": [],
     "language": "python",
     "metadata": {},
     "outputs": []
    },
    {
     "cell_type": "markdown",
     "metadata": {},
     "source": [
      "If you're interested a great method, check out [Ramanujan's method](http://en.wikipedia.org/wiki/Approximations_of_%CF%80). This converges so fast you really need arbitrary precision math to display enough decimal places. You can do this with the Python **decimal** module, if you're interested."
     ]
    },
    {
     "cell_type": "markdown",
     "metadata": {},
     "source": [
      "## Numerical Integration\n",
      "Integration can be hard, and sometimes it's easier to work out a definite integral using an approximation. For example, suppose we wanted to figure out the integral:\n",
      "\n",
      "$$\\int_0^\\infty\\exp(-x)dx=1$$"
     ]
    },
    {
     "cell_type": "markdown",
     "metadata": {},
     "source": [
      "    from numpy import sqrt\n",
      "    \n",
      "    def f(x): \n",
      "        return exp(-x)\n",
      "    \n",
      "    x = np.linspace(0,10)\n",
      "    plot(x, exp(-x))"
     ]
    },
    {
     "cell_type": "code",
     "collapsed": false,
     "input": [],
     "language": "python",
     "metadata": {},
     "outputs": []
    },
    {
     "cell_type": "markdown",
     "metadata": {},
     "source": [
      "Scipy has a numerical integration routine **quad** (since sometimes numerical integration is called *quadrature*), that we can use for this:\n",
      "\n",
      "    from scipy.integrate import quad\n",
      "    quad(f, 0, inf)"
     ]
    },
    {
     "cell_type": "code",
     "collapsed": false,
     "input": [],
     "language": "python",
     "metadata": {},
     "outputs": []
    },
    {
     "cell_type": "markdown",
     "metadata": {},
     "source": [
      "There are also 2d and 3d numerical integrators in Scipy. [See the docs](http://docs.scipy.org/doc/scipy/reference/integrate.html) for more information."
     ]
    },
    {
     "cell_type": "markdown",
     "metadata": {},
     "source": [
      "Well Done you have finished the final workshop\n",
      "----------------------------------------------"
     ]
    }
   ],
   "metadata": {}
  }
 ]
}