{
 "metadata": {
  "name": ""
 },
 "nbformat": 3,
 "nbformat_minor": 0,
 "worksheets": [
  {
   "cells": [
    {
     "cell_type": "markdown",
     "metadata": {},
     "source": [
      "Final Project\n",
      "===================\n",
      "\n",
      "In this project you will use the skills you have developed so far. The task is a slight variation on what we covered in workshop 3. Previously you extracted energies of Neon dimers at different bond distances and fit them to a Lennard-Jones potential. \n",
      "\n",
      "For this project you will do the same thing but with 4 Noble gas dimers: Helium, Argon, Neon and Krypton that have been calculated using a slightly different method.\n",
      "\n",
      "Once you have the Lennard-Jones potential you will use it to determine the equilibrium bond length and dissociation energies for the dimers and finally produce two plots of dissociation energy vs. period (Helium is period 1, Argon is period 2, etc.) and bond length vs. period.\n",
      "\n",
      "For each of the following dimers:\n",
      "$Ne_2$\n",
      "$He_2$\n",
      "$Kr_2$\n",
      "$Ar_2$\n",
      "\n",
      "1. Plot a dissociation curve for each.\n",
      "2. Fit a Lennard-Jones potential to each curve.\n",
      "3. Plot the Lennard-Jones potential along with the original dissociation curve.\n",
      "4. Plot the dissociation energies ($V(r_m)$) versus the period of the dimer (1 for Helium, 2 for Argon, 3 for Helium, etc.)\n",
      "5. Plot the equilbrium bond length ($r_m$) versus the period of the dimer.\n",
      "\n",
      "Additional information\n",
      "------\n",
      "As the potential we're using assigns zero to the energy of two atoms infinitely separated the dissociation energy is equal to the value of the potential at its minimum (i.e. at the equilbrium bond length of the dimer). \n",
      "\n",
      "The value of the equilibrium bond length can be determined to be $r_m = 2^\\frac{1}{6} \\sigma$ via:\n",
      "\n",
      "$V(r) = 4 \\epsilon(( -(\\frac{\\sigma}{r})^6 + (\\frac{\\sigma}{r})^{12})$, at the minimia $0 =  \\frac{\\partial V(r)} {\\partial r} =  4 \\epsilon(( 6(\\frac{\\sigma}{r_m})^7 - 12(\\frac{\\sigma}{r_m})^{13})$, therefore  $r_m = 2^\\frac{1}{6} \\sigma$\n",
      "\n",
      "Similarly the value of the dissociation energy can be determined to be $V(r_m) = -\\epsilon$\n",
      "\n",
      "Thus if you know the parameters that define the Lennard Jones potential (sigma and epsilon) you can calculate the equilibrium bond length and dissociation energy.\n",
      "\n",
      "1. Use the curve fitting example from workshop 3\n",
      "2. Try and write comments to make your code clearer (either in the code itself using # or by adding Raw text cells)\n",
      "3. When we fit the data we need to supply an initial guess for epsilon and sigma if you like you can play around with this but a reasonable guess is to pick is pick the data point that is closes to the minimum and use that energy to give you the guess for epsilon and the dimer distance at that point to give you the guess for sigma. (Via the formula given above connecting the two)\n",
      "4. The data the dimers are in final_project_data/He2.out, final_project_data/Ne2.out, etc. The data for the lone atoms are in final_project_data/He.out, final_project_data/He.out, etc.\n",
      "5. In our earlier example the energy was printed inside the Ne2.out on lines with:"
     ]
    },
    {
     "cell_type": "code",
     "collapsed": false,
     "input": [
      "'CCSD(T) total energy          ='"
     ],
     "language": "python",
     "metadata": {},
     "outputs": []
    },
    {
     "cell_type": "markdown",
     "metadata": {},
     "source": [
      "Whilst in this project the energy is printed in the data files on lines with:"
     ]
    },
    {
     "cell_type": "code",
     "collapsed": false,
     "input": [
      "'Total Energy              ='"
     ],
     "language": "python",
     "metadata": {},
     "outputs": []
    },
    {
     "cell_type": "markdown",
     "metadata": {},
     "source": [
      "\n",
      "So you will have to adjust the code that extract the energies to reflect this change."
     ]
    },
    {
     "cell_type": "markdown",
     "metadata": {},
     "source": [
      "You will probably want to add more code cells (you can use the arrow within a circle icon on the toolbar above) to try things out in but here are a few empty ones put aside for the final plots:"
     ]
    },
    {
     "cell_type": "code",
     "collapsed": false,
     "input": [
      "#He Dissociation curve:"
     ],
     "language": "python",
     "metadata": {},
     "outputs": []
    },
    {
     "cell_type": "code",
     "collapsed": false,
     "input": [
      "#Ar Dissociation curve:"
     ],
     "language": "python",
     "metadata": {},
     "outputs": []
    },
    {
     "cell_type": "code",
     "collapsed": false,
     "input": [
      "#Ne Dissociation curve:"
     ],
     "language": "python",
     "metadata": {},
     "outputs": []
    },
    {
     "cell_type": "code",
     "collapsed": false,
     "input": [
      "#Kr Dissociation curve:"
     ],
     "language": "python",
     "metadata": {},
     "outputs": []
    },
    {
     "cell_type": "code",
     "collapsed": false,
     "input": [
      "#Bond lengths vs. Period"
     ],
     "language": "python",
     "metadata": {},
     "outputs": []
    },
    {
     "cell_type": "code",
     "collapsed": false,
     "input": [
      "#Dissociation energies vs. Period"
     ],
     "language": "python",
     "metadata": {},
     "outputs": []
    },
    {
     "cell_type": "markdown",
     "metadata": {},
     "source": [
      "If you've managed to extract a list of energies and a list of equilibrium bond lengths and are wondering how to plot a bar chart head to [Matplotlib gallery](http://matplotlib.org/gallery.html) and select the 'Lines, bars, and markers' option checking out the example code there should give you some ideas."
     ]
    },
    {
     "cell_type": "markdown",
     "metadata": {},
     "source": [
      "Hints\n",
      "-------------"
     ]
    },
    {
     "cell_type": "code",
     "collapsed": false,
     "input": [
      "def lennard_jones(r, epsilon, sigma):\n",
      "    v =  4*epsilon*(-(sigma/r)**6 + (sigma/r)**12)\n",
      "    return(v)"
     ],
     "language": "python",
     "metadata": {},
     "outputs": [],
     "prompt_number": 67
    },
    {
     "cell_type": "markdown",
     "metadata": {},
     "source": [
      "If you get stuck here are some function outlines you might want to try and complete to help you on your way:"
     ]
    },
    {
     "cell_type": "code",
     "collapsed": false,
     "input": [
      "#extract the energy from a file containing a single atom's energy\n",
      "def extract_energy(data_file):  \n",
      "    '''\n",
      "    >>> extract_energy('final_project_data/He.out'')\n",
      "    -2.88098497073702\n",
      "    '''"
     ],
     "language": "python",
     "metadata": {},
     "outputs": []
    },
    {
     "cell_type": "code",
     "collapsed": false,
     "input": [
      "#extract the energies from a file containing multiple dimer energies\n",
      "def extract_energies(data_file):  \n",
      "    '''\n",
      "    >>> extract_energy('final_project_data/He2.out')\n",
      "    [-5.76184784023732, -5.761916417982681, -5.761951314270527, -5.761967620501213, -5.761974162146721, -5.761975944492495, -5.761975676552606, -5.761974723999278, -5.761973702586694, -5.7619728384737465, -5.761972176212938, -5.7619716899322935, -5.76197133640903, -5.761971076455339, -5.761970880735439, -5.761970729233256, -5.761970608884886, -5.7619705112520805, -5.761970430791741, -5.761970363727911, -5.7619703073695705, -5.761970259713693, -5.761970219215967, -5.761970184655164, -5.761970155048887, -5.761970129597786, -5.761970107646291, -5.761970088653571, -5.761970072171287, -5.761970057826256, -5.76197004530662, -5.761970034350857]\n",
      "    '''"
     ],
     "language": "python",
     "metadata": {},
     "outputs": []
    },
    {
     "cell_type": "code",
     "collapsed": false,
     "input": [
      "#extract the distances from a file containing multiple dimers\n",
      "def extract_distances(data_file, atom_symbol):\n",
      "    '''\n",
      "    >>> extract_distances('final_project_data/He2.out', 'HE')\n",
      "    [2.5, 2.6129032258059999, 2.7258064516120002, 2.8387096774199998, 2.9516129032260001, 3.064516129032, 3.1774193548379999, 3.2903225806459999, 3.4032258064519998, 3.5161290322580001, 3.629032258064, 3.7419354838699999, 3.8548387096779999, 3.9677419354839998, 4.0806451612899997, 4.1935483870960004, 4.3064516129039996, 4.4193548387100003, 4.5322580645160002, 4.6451612903220001, 4.7580645161300001, 4.870967741936, 4.9838709677419999, 5.0967741935479998, 5.2096774193539996, 5.3225806451619997, 5.4354838709679996, 5.5483870967740003, 5.6612903225800002, 5.7741935483880003, 5.8870967741940001, 6.0]\n",
      "    '''"
     ],
     "language": "python",
     "metadata": {},
     "outputs": []
    },
    {
     "cell_type": "code",
     "collapsed": false,
     "input": [
      "from scipy.optimize import curve_fit\n",
      "def fit_lennard(energies, distances):\n",
      "    '''\n",
      "    >>> fit_lennard(extract_energies('final_project_data/He2.out'), extract_distances('final_project_data/He2.out', 'HE')\n",
      "    '''"
     ],
     "language": "python",
     "metadata": {},
     "outputs": [],
     "prompt_number": 74
    },
    {
     "cell_type": "code",
     "collapsed": false,
     "input": [
      "def disc_energy(epsilon):\n",
      "    '''\n",
      "    >>> disc_energy(1)\n",
      "    -1\n",
      "    '''"
     ],
     "language": "python",
     "metadata": {},
     "outputs": []
    },
    {
     "cell_type": "code",
     "collapsed": false,
     "input": [
      "def eq_bond_length(sigma):\n",
      "    '''\n",
      "    >>> eq_bond_length(1)\n",
      "    1.122462048309373\n",
      "    '''"
     ],
     "language": "python",
     "metadata": {},
     "outputs": []
    }
   ],
   "metadata": {}
  }
 ]
}