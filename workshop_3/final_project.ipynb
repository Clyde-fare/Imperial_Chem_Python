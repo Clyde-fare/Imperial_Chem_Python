{
 "metadata": {
  "name": ""
 },
 "nbformat": 3,
 "nbformat_minor": 0,
 "worksheets": [
  {
   "cells": [
    {
     "cell_type": "markdown",
     "metadata": {},
     "source": [
      "Final Project\n",
      "===================\n",
      "\n",
      "In this project you will use the skills you have developed so far. The task is a slight variation on what we covered in workshop 3. Previously you extracted energies of Neon dimers at different bond distances and fit them to a Lennard-Jones potential. \n",
      "\n",
      "For this project you will do the same thing but with 4 Noble gas dimers: Helium, Argon, Neon and Krypton that have been calculated using a slightly different method.\n",
      "\n",
      "Once you have the Lennard-Jones potential you will use it to determine the equilibrium bond length and dissociation energies for the dimers and finally produce two plots of dissociation energy vs. period (Helium is period 1, Argon is period 2, etc.) and bond length vs. period.\n",
      "\n",
      "For each of the following dimers:\n",
      "$Ne_2$\n",
      "$He_2$\n",
      "$Kr_2$\n",
      "$Ar_2$\n",
      "\n",
      "1. Plot a dissociation curve for each.\n",
      "2. Fit a Lennard-Jones potential to each curve.\n",
      "3. Plot the Lennard-Jones potential along with the data used for fitting for each graph.\n",
      "4. Plot the dissociation energies ($V(r_m)$) versus the period of the dimer\n",
      "5. Plot the equilbrium bond length ($r_m$) versus the period of the dimer.\n",
      "6. For bonus points see if you can figure out how to make a bar chart (which would be suitable here) rather than a linear plot by looking at the matplotlib online documentation.\n",
      "\n",
      "Additional information\n",
      "------\n",
      "As the potential we're using assigns zero to the energy of two atoms infinitely separated the dissociation energy is equal to the value of the potential at its minimum (i.e. at the equilbrium bond length of the dimer). \n",
      "\n",
      "The value of the equilibrium bond length can be determined to be $r_m = 2^\\frac{1}{6} \\sigma$ via:\n",
      "\n",
      "$V(r) = 4 \\epsilon(( -(\\frac{\\sigma}{r})^6 + (\\frac{\\sigma}{r})^{12})$, at the minimia $0 =  \\frac{\\partial V(r)} {\\partial r} =  4 \\epsilon(( 6(\\frac{\\sigma}{r_m})^7 - 12(\\frac{\\sigma}{r_m})^{13})$, therefore  $r_m = 2^\\frac{1}{6} \\sigma$\n",
      "\n",
      "So if you know the parameters that define the Lennard Jones potential you can immediately calculate the equilibirum bond length and then plug that in to the potential to compute the dissociation energy.\n",
      "\n",
      "1. No marks will be given for any explanation of the chemistry (so you don't need to worry about this).\n",
      "2. Use the curve fitting example from workshop 3 - note the data files have a slightly different format to those in workshop 3:\n",
      "3. Exclude points you feel are irrelavent (the Lennard-Jones potentail sometimes fails to desacribe short range behavior accuratly)\n",
      "4. Try and write comments to make your code clearer (either in the code itself using # or by adding Raw text cells)"
     ]
    },
    {
     "cell_type": "markdown",
     "metadata": {},
     "source": [
      "You will probably want to add more code cells (you can use the arrow within a circle icon on the toolbar above) to try things out in but here are a few empty ones put aside for the final plots:"
     ]
    },
    {
     "cell_type": "code",
     "collapsed": false,
     "input": [
      "#He Dissociation curve:\n"
     ],
     "language": "python",
     "metadata": {},
     "outputs": []
    },
    {
     "cell_type": "code",
     "collapsed": false,
     "input": [
      "#Ar Dissociation curve:"
     ],
     "language": "python",
     "metadata": {},
     "outputs": []
    },
    {
     "cell_type": "code",
     "collapsed": false,
     "input": [
      "#Ne Dissociation curve:"
     ],
     "language": "python",
     "metadata": {},
     "outputs": []
    },
    {
     "cell_type": "code",
     "collapsed": false,
     "input": [
      "#Kr Dissociation curve:"
     ],
     "language": "python",
     "metadata": {},
     "outputs": []
    },
    {
     "cell_type": "code",
     "collapsed": false,
     "input": [
      "#Bond lengths vs. Period"
     ],
     "language": "python",
     "metadata": {},
     "outputs": []
    },
    {
     "cell_type": "code",
     "collapsed": false,
     "input": [
      "#Dissociation energies vs. Period"
     ],
     "language": "python",
     "metadata": {},
     "outputs": []
    },
    {
     "cell_type": "markdown",
     "metadata": {},
     "source": [
      "If you've managed to extract a list of energies and a list of equilibrium bond lengths and are wondering how to plot a bar chart head to [Matplotlib gallery](http://matplotlib.org/gallery.html) and select the 'Lines, bars, and markers' option checking out the source code there should give you some ideas."
     ]
    },
    {
     "cell_type": "markdown",
     "metadata": {},
     "source": [
      "Hints\n",
      "-------------"
     ]
    },
    {
     "cell_type": "code",
     "collapsed": false,
     "input": [
      "def lennard_jones(r, epsilon, sigma):\n",
      "    v =  4*epsilon*(-(sigma/r)**6 + (sigma/r)**12)\n",
      "    return(v)"
     ],
     "language": "python",
     "metadata": {},
     "outputs": []
    },
    {
     "cell_type": "markdown",
     "metadata": {},
     "source": [
      "If you get stuck here are some function outlines you might want to try and complete to help you on your way:"
     ]
    },
    {
     "cell_type": "code",
     "collapsed": false,
     "input": [
      "def extract_energies(data_file):  \n",
      "    '''\n",
      "    >>> extract_energy('He2.out')\n",
      "    [-257.35961064714644, -257.3602203016917, -257.3606695111796, -257.3609925808868, -257.36121774835453, -257.3613681862958, -257.36146276795836, -257.3615166804277, -257.3615419463744, -257.3615478902172, -257.36154156629686, -257.36149354664656, -257.36147640080674, -257.361460788562, -257.361447142686, -257.3614355791732, -257.3614260155646, -257.36141825755266, -257.36141205999513, -257.3614071664569]\n",
      "    >>> extract_energy('He2.out')\n",
      "    [-257.35961064714644, -257.3602203016917, -257.3606695111796, -257.3609925808868, -257.36121774835453, -257.3613681862958, -257.36146276795836, -257.3615166804277, -257.3615419463744, -257.3615478902172, -257.36154156629686, -257.36149354664656, -257.36147640080674, -257.361460788562, -257.361447142686, -257.3614355791732, -257.3614260155646, -257.36141825755266, -257.36141205999513, -257.3614071664569]\n",
      "    >>> extract_energy('He2.out')\n",
      "    [-257.35961064714644, -257.3602203016917, -257.3606695111796, -257.3609925808868, -257.36121774835453, -257.3613681862958, -257.36146276795836, -257.3615166804277, -257.3615419463744, -257.3615478902172, -257.36154156629686, -257.36149354664656, -257.36147640080674, -257.361460788562, -257.361447142686, -257.3614355791732, -257.3614260155646, -257.36141825755266, -257.36141205999513, -257.3614071664569]\n",
      "    '''"
     ],
     "language": "python",
     "metadata": {},
     "outputs": []
    },
    {
     "cell_type": "code",
     "collapsed": false,
     "input": [
      "def extract_distances(data_file):\n",
      "    '''\n",
      "    >>> extract_distances('He2.out')\n",
      "    [-257.35961064714644, -257.3602203016917, -257.3606695111796, -257.3609925808868, -257.36121774835453, -257.3613681862958, -257.36146276795836, -257.3615166804277, -257.3615419463744, -257.3615478902172, -257.36154156629686, -257.36149354664656, -257.36147640080674, -257.361460788562, -257.361447142686, -257.3614355791732, -257.3614260155646, -257.36141825755266, -257.36141205999513, -257.3614071664569]\n",
      "    >>> extract_distances('He2.out')\n",
      "    [-257.35961064714644, -257.3602203016917, -257.3606695111796, -257.3609925808868, -257.36121774835453, -257.3613681862958, -257.36146276795836, -257.3615166804277, -257.3615419463744, -257.3615478902172, -257.36154156629686, -257.36149354664656, -257.36147640080674, -257.361460788562, -257.361447142686, -257.3614355791732, -257.3614260155646, -257.36141825755266, -257.36141205999513, -257.3614071664569]\n",
      "    >>> extract_distances('He2.out')\n",
      "    [-257.35961064714644, -257.3602203016917, -257.3606695111796, -257.3609925808868, -257.36121774835453, -257.3613681862958, -257.36146276795836, -257.3615166804277, -257.3615419463744, -257.3615478902172, -257.36154156629686, -257.36149354664656, -257.36147640080674, -257.361460788562, -257.361447142686, -257.3614355791732, -257.3614260155646, -257.36141825755266, -257.36141205999513, -257.3614071664569]\n",
      "    '''"
     ],
     "language": "python",
     "metadata": {},
     "outputs": []
    },
    {
     "cell_type": "code",
     "collapsed": false,
     "input": [
      "def fit_lennard(energies, distances):\n",
      "    '''\n",
      "    >>> fit_lennard()\n",
      "    \n",
      "    '''"
     ],
     "language": "python",
     "metadata": {},
     "outputs": []
    },
    {
     "cell_type": "code",
     "collapsed": false,
     "input": [
      "def eq_bond_length(sigma):\n",
      "    '''\n",
      "    >>> dis_energy(0.123)\n",
      "    12312\n",
      "    '''"
     ],
     "language": "python",
     "metadata": {},
     "outputs": []
    }
   ],
   "metadata": {}
  }
 ]
}