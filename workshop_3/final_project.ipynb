{
 "metadata": {
  "name": ""
 },
 "nbformat": 3,
 "nbformat_minor": 0,
 "worksheets": [
  {
   "cells": [
    {
     "cell_type": "markdown",
     "metadata": {},
     "source": [
      "Final Project\n",
      "===================\n",
      "\n",
      "In this project you will use the skills you have developed so far. The task is a slight variation on what we covered in workshop 3. Previously you extracted energies of Neon dimers at different bond distances and fit them to a Lennard-Jones potential. \n",
      "\n",
      "For this project you will do the same thing but with 4 Noble gas dimers: Helium, Argon, Neon and Krypton that have been calculated using a slightly different method.\n",
      "\n",
      "Once you have the Lennard-Jones potential you will use it to determine the equilibrium bond length and dissociation energies for the dimers and finally produce two plots of dissociation energy vs. period (Helium is period 1, Argon is period 2, etc.) and bond length vs. period.\n",
      "\n",
      "For each of the following dimers:\n",
      "$Ne_2$\n",
      "$He_2$\n",
      "$Kr_2$\n",
      "$Ar_2$\n",
      "\n",
      "1. Plot a dissociation curve for each.\n",
      "2. Fit a Lennard-Jones potential to each curve.\n",
      "3. Plot the Lennard-Jones potential along with the data used for fitting for each graph.\n",
      "4. Plot the dissociation energies ($V(r_m)$) versus the period of the dimer\n",
      "5. Plot the equilbrium bond length ($r_m$) versus the period of the dimer.\n",
      "6. For bonus points see if you can figure out how to make a bar chart (which would be suitable here) rather than a linear plot by looking at the matplotlib online documentation.\n",
      "\n",
      "Additional information\n",
      "------\n",
      "As the potential we're using assigns zero to the energy of two atoms infinitely separated the dissociation energy is equal to the value of the potential at its minimum (i.e. at the equilbrium bond length of the dimer). \n",
      "\n",
      "The value of the equilibrium bond length can be determined to be $r_m = 2^\\frac{1}{6} \\sigma$ via:\n",
      "\n",
      "$V(r) = 4 \\epsilon(( -(\\frac{\\sigma}{r})^6 + (\\frac{\\sigma}{r})^{12})$, at the minimia $0 =  \\frac{\\partial V(r)} {\\partial r} =  4 \\epsilon(( 6(\\frac{\\sigma}{r_m})^7 - 12(\\frac{\\sigma}{r_m})^{13})$, therefore  $r_m = 2^\\frac{1}{6} \\sigma$\n",
      "\n",
      "So if you know the parameters that define the Lennard Jones potential you can immediately calculate the equilibirum bond length and then plug that in to the potential to compute the dissociation energy.\n",
      "\n",
      "1. No marks will be given for any explanation of the chemistry (so you don't need to worry about this).\n",
      "2. Use the curve fitting example from workshop 3 - note the data files have a slightly different format to those in workshop 3:\n",
      "3. Exclude points you feel are irrelavent (the Lennard-Jones potentail sometimes fails to desacribe short range behavior accuratly)\n",
      "4. Try and write comments to make your code clearer (either in the code itself using # or by adding Raw text cells)\n",
      "5. Use the lowest energy point for each curve as a guess for the minima, to find a guess for epsilion and sigma for the fitting function.\n",
      "6. The data for each dimer is in a file like final_project_data/Ne2.out, final_project_data/He2.out ... and the data for each single point is in a file like final_project_data/Ne.out, final_project_data/He.out\n",
      "7. The energy is given in a line like (for each point):"
     ]
    },
    {
     "cell_type": "raw",
     "metadata": {},
     "source": [
      "Total Energy              =    -257.3508759806243802 [H]"
     ]
    },
    {
     "cell_type": "markdown",
     "metadata": {},
     "source": [
      "You will probably want to add more code cells (you can use the arrow within a circle icon on the toolbar above) to try things out in but here are a few empty ones put aside for the final plots:"
     ]
    },
    {
     "cell_type": "code",
     "collapsed": false,
     "input": [
      "#He Dissociation curve:"
     ],
     "language": "python",
     "metadata": {},
     "outputs": []
    },
    {
     "cell_type": "code",
     "collapsed": false,
     "input": [
      "#Ar Dissociation curve:"
     ],
     "language": "python",
     "metadata": {},
     "outputs": []
    },
    {
     "cell_type": "code",
     "collapsed": false,
     "input": [
      "#Ne Dissociation curve:"
     ],
     "language": "python",
     "metadata": {},
     "outputs": []
    },
    {
     "cell_type": "code",
     "collapsed": false,
     "input": [
      "#Kr Dissociation curve:"
     ],
     "language": "python",
     "metadata": {},
     "outputs": []
    },
    {
     "cell_type": "code",
     "collapsed": false,
     "input": [
      "#Bond lengths vs. Period"
     ],
     "language": "python",
     "metadata": {},
     "outputs": []
    },
    {
     "cell_type": "code",
     "collapsed": false,
     "input": [
      "#Dissociation energies vs. Period"
     ],
     "language": "python",
     "metadata": {},
     "outputs": []
    },
    {
     "cell_type": "markdown",
     "metadata": {},
     "source": [
      "If you've managed to extract a list of energies and a list of equilibrium bond lengths and are wondering how to plot a bar chart head to [Matplotlib gallery](http://matplotlib.org/gallery.html) and select the 'Lines, bars, and markers' option checking out the source code there should give you some ideas."
     ]
    },
    {
     "cell_type": "markdown",
     "metadata": {},
     "source": [
      "Hints\n",
      "-------------"
     ]
    },
    {
     "cell_type": "code",
     "collapsed": false,
     "input": [
      "def lennard_jones(r, epsilon, sigma):\n",
      "    v =  4*epsilon*(-(sigma/r)**6 + (sigma/r)**12)\n",
      "    return(v)"
     ],
     "language": "python",
     "metadata": {},
     "outputs": []
    },
    {
     "cell_type": "markdown",
     "metadata": {},
     "source": [
      "If you get stuck here are some function outlines you might want to try and complete to help you on your way:"
     ]
    },
    {
     "cell_type": "code",
     "collapsed": false,
     "input": [
      "#extract the energy from a file containing a single atom's energy\n",
      "def extract_energy(data_file):  \n",
      "    '''\n",
      "    >>> extract_energy('final_project_data/He.out'')\n",
      "    -2.88098497073702\n",
      "    '''"
     ],
     "language": "python",
     "metadata": {},
     "outputs": []
    },
    {
     "cell_type": "code",
     "collapsed": false,
     "input": [
      "#extract the energies from a file containing multiple dimer energies\n",
      "def extract_energies(data_file, atom_symbol):  \n",
      "    '''\n",
      "    >>> extract_energy('final_project_data/He2.out')\n",
      "    [-5.76184784023732, -5.761916417982681, -5.761951314270527, -5.761967620501213, -5.761974162146721, -5.761975944492495, -5.761975676552606, -5.761974723999278, -5.761973702586694, -5.7619728384737465, -5.761972176212938, -5.7619716899322935, -5.76197133640903, -5.761971076455339, -5.761970880735439, -5.761970729233256, -5.761970608884886, -5.7619705112520805, -5.761970430791741, -5.761970363727911, -5.7619703073695705, -5.761970259713693, -5.761970219215967, -5.761970184655164, -5.761970155048887, -5.761970129597786, -5.761970107646291, -5.761970088653571, -5.761970072171287, -5.761970057826256, -5.76197004530662, -5.761970034350857]\n",
      "    '''"
     ],
     "language": "python",
     "metadata": {},
     "outputs": []
    },
    {
     "cell_type": "code",
     "collapsed": false,
     "input": [
      "#extract the distances from a file containing multiple dimers\n",
      "def extract_distances(data_file, atom_symbol):\n",
      "    '''\n",
      "    >>> extract_distances('final_project_data/He2.out', 'HE')\n",
      "    [2.5, 2.6129032258059999, 2.7258064516120002, 2.8387096774199998, 2.9516129032260001, 3.064516129032, 3.1774193548379999, 3.2903225806459999, 3.4032258064519998, 3.5161290322580001, 3.629032258064, 3.7419354838699999, 3.8548387096779999, 3.9677419354839998, 4.0806451612899997, 4.1935483870960004, 4.3064516129039996, 4.4193548387100003, 4.5322580645160002, 4.6451612903220001, 4.7580645161300001, 4.870967741936, 4.9838709677419999, 5.0967741935479998, 5.2096774193539996, 5.3225806451619997, 5.4354838709679996, 5.5483870967740003, 5.6612903225800002, 5.7741935483880003, 5.8870967741940001, 6.0]\n",
      "    '''"
     ],
     "language": "python",
     "metadata": {},
     "outputs": []
    },
    {
     "cell_type": "code",
     "collapsed": false,
     "input": [
      "def fit_lennard(energies, distances):\n",
      "    '''\n",
      "    >>> fit_lennard()\n",
      "    '''\n",
      "    guess = \n",
      "    params, conv = curve_fit(lennard_jones, distances, energies, p0=(0.00018, 2.6))"
     ],
     "language": "python",
     "metadata": {},
     "outputs": []
    },
    {
     "cell_type": "code",
     "collapsed": false,
     "input": [
      "def eq_bond_length(sigma):\n",
      "    '''\n",
      "    >>> eq_bond_length(0.123)\n",
      "    12312\n",
      "    '''"
     ],
     "language": "python",
     "metadata": {},
     "outputs": []
    }
   ],
   "metadata": {}
  }
 ]
}