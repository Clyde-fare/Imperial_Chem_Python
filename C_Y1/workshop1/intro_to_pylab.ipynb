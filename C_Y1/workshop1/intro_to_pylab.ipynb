{
 "metadata": {
  "kernelspec": {
   "codemirror_mode": {
    "name": "ipython",
    "version": 2
   },
   "display_name": "IPython (Python 2)",
   "language": "python",
   "name": "python2"
  },
  "name": "",
  "signature": "sha256:fc565642cbbac6770de6596901e540fad71513f33e138cd31859a604980d1273"
 },
 "nbformat": 3,
 "nbformat_minor": 0,
 "worksheets": [
  {
   "cells": [
    {
     "cell_type": "markdown",
     "metadata": {},
     "source": [
      "# An Introduction to plotting in Python Workshop 1\n",
      "[Clyde Fare](mailto:c.fare12@imperial.ac.uk) and [Jo\u00e3o Pedro Malhado](mailto:malhado@imperial.ac.uk), Imperial College London\n",
      "\n",
      "\n",
      "Notebook is adapted from material by Catherine Devlin, Nicolas P. Rougier, and the sci-py lectures and is licensed under a [Creative Commons Attribution 3.0 (CC-by) license](http://creativecommons.org/licenses/by/3.0/us)"
     ]
    },
    {
     "cell_type": "markdown",
     "metadata": {},
     "source": [
      "During this workshop we will briefly introduce some of the basics of Python and use of the IPython Notebook before moving on to manipulating data and plotting.\n",
      "\n",
      "The means by which we select and manipulate data and construct plots will seem rather strange at first but this approach is extraordinarily powerful and will allow you to analyse and visualise data in a myriad of ways not possible with more limited tools like Excel. \n",
      "\n",
      "The notebook is set out to help you come to grips with plotting, it is not assessed, however in future lab work you will be expected to analyse and plot data in this manner, so it's in your best interest to take it seriously! If at any point you don't understand the material please ask a demonstrator for help that's what they are there for.\n",
      "\n",
      "This is an interactive tutorial - as you go through it any time you see something that looks like this:\n",
      "\n",
      "    a = \"Hello\"\n",
      "   \n",
      "that's followed by an empty *code cell* (a light grey rectangle with a label like *\"In[ ]\"*), you should \n",
      "type the expression in the code cell, hit Shift+Return to *execute* it, and note the output.\n",
      "\n",
      "No copying and pasting! You'll learn the concepts better if you type them out yourself.\n",
      "\n",
      "Warning: periodically save your work by pressing the save icon above (We'll cover the other icons later but if you want to know what they are now hover your cursor over them)"
     ]
    },
    {
     "cell_type": "heading",
     "level": 1,
     "metadata": {},
     "source": [
      "Preliminaries"
     ]
    },
    {
     "cell_type": "markdown",
     "metadata": {},
     "source": [
      "Maths in IPython notebook looks a lot like maths you type into a calculator. An IPython notebook makes a great calculator if you need to crunch some numbers and have a record of the calculations you've done.\n",
      "    \n",
      "    4*5 + 5   "
     ]
    },
    {
     "cell_type": "code",
     "collapsed": false,
     "input": [],
     "language": "python",
     "metadata": {},
     "outputs": [],
     "prompt_number": 156
    },
    {
     "cell_type": "markdown",
     "metadata": {},
     "source": [
      "Note that the white space between operators has no effect on the result\n",
      "    \n",
      "    4 * 5+5"
     ]
    },
    {
     "cell_type": "code",
     "collapsed": false,
     "input": [],
     "language": "python",
     "metadata": {},
     "outputs": [],
     "prompt_number": 156
    },
    {
     "cell_type": "markdown",
     "metadata": {},
     "source": [
      "The order of operations is as usual (multiply/divide is evaluated before add/subtract) but can be controlled explicitly using round parenthesise\n",
      "    \n",
      "    4 * (5+5)"
     ]
    },
    {
     "cell_type": "code",
     "collapsed": false,
     "input": [],
     "language": "python",
     "metadata": {},
     "outputs": [],
     "prompt_number": 156
    },
    {
     "cell_type": "markdown",
     "metadata": {},
     "source": [
      "Raising a quantity to the power of another quantity is performed using \\*\\*\n",
      "\n",
      "    2.5 **1.5"
     ]
    },
    {
     "cell_type": "code",
     "collapsed": false,
     "input": [],
     "language": "python",
     "metadata": {},
     "outputs": [],
     "prompt_number": 156
    },
    {
     "cell_type": "heading",
     "level": 2,
     "metadata": {},
     "source": [
      "Variables"
     ]
    },
    {
     "cell_type": "markdown",
     "metadata": {},
     "source": [
      "A lot of work gets done in Python using variables, these are much like the variables in maths.\n",
      "    \n",
      "    x = 4"
     ]
    },
    {
     "cell_type": "code",
     "collapsed": false,
     "input": [],
     "language": "python",
     "metadata": {},
     "outputs": [],
     "prompt_number": 156
    },
    {
     "cell_type": "markdown",
     "metadata": {},
     "source": [
      "    x"
     ]
    },
    {
     "cell_type": "code",
     "collapsed": false,
     "input": [],
     "language": "python",
     "metadata": {},
     "outputs": [],
     "prompt_number": 156
    },
    {
     "cell_type": "markdown",
     "metadata": {},
     "source": [
      "Giving a name to something, so that you can refer to it by that name, is called *assignment*. Above, we assigned the name \"`x`\" to 4, and after that we can use `x` wherever we want to use the number 4.\n",
      "\n",
      "Variables can't have spaces or other special characters, and they need to start with a letter. Here are some valid variable names:\n",
      "\n",
      "    magic_number = 1500\n",
      "    amountOfFlour = 0.75\n",
      "    my_name = \"Genghis\""
     ]
    },
    {
     "cell_type": "code",
     "collapsed": false,
     "input": [],
     "language": "python",
     "metadata": {},
     "outputs": [],
     "prompt_number": 156
    },
    {
     "cell_type": "heading",
     "level": 2,
     "metadata": {},
     "source": [
      "Output"
     ]
    },
    {
     "cell_type": "markdown",
     "metadata": {},
     "source": [
      "Notice how if you type 4 and hit Shift+return, the Python interpreter spits a 4 back out:\n",
      "\n",
      "    4"
     ]
    },
    {
     "cell_type": "code",
     "collapsed": false,
     "input": [],
     "language": "python",
     "metadata": {},
     "outputs": [],
     "prompt_number": 156
    },
    {
     "cell_type": "markdown",
     "metadata": {},
     "source": [
      "But if you assign 4 to a variable, nothing is printed:\n",
      "\n",
      "    x = 4"
     ]
    },
    {
     "cell_type": "code",
     "collapsed": false,
     "input": [],
     "language": "python",
     "metadata": {},
     "outputs": [],
     "prompt_number": 156
    },
    {
     "cell_type": "markdown",
     "metadata": {},
     "source": [
      "You can think of it as the result of the cell's final line needing to be output somewhere. Without an assignment, the winner is the screen. With assignment, the output goes to the variable.\n",
      "\n",
      "You can reassign variables if you want:\n",
      "\n",
      "    x "
     ]
    },
    {
     "cell_type": "code",
     "collapsed": false,
     "input": [],
     "language": "python",
     "metadata": {},
     "outputs": [],
     "prompt_number": 156
    },
    {
     "cell_type": "markdown",
     "metadata": {},
     "source": [
      "    x = 5"
     ]
    },
    {
     "cell_type": "code",
     "collapsed": false,
     "input": [],
     "language": "python",
     "metadata": {},
     "outputs": [],
     "prompt_number": 156
    },
    {
     "cell_type": "markdown",
     "metadata": {},
     "source": [
      "    x"
     ]
    },
    {
     "cell_type": "code",
     "collapsed": false,
     "input": [],
     "language": "python",
     "metadata": {},
     "outputs": [],
     "prompt_number": 156
    },
    {
     "cell_type": "markdown",
     "metadata": {},
     "source": [
      "    y = 5"
     ]
    },
    {
     "cell_type": "code",
     "collapsed": false,
     "input": [],
     "language": "python",
     "metadata": {},
     "outputs": [],
     "prompt_number": 156
    },
    {
     "cell_type": "markdown",
     "metadata": {},
     "source": [
      "    x * y"
     ]
    },
    {
     "cell_type": "code",
     "collapsed": false,
     "input": [],
     "language": "python",
     "metadata": {},
     "outputs": [],
     "prompt_number": 156
    },
    {
     "cell_type": "markdown",
     "metadata": {},
     "source": [
      "    x * x"
     ]
    },
    {
     "cell_type": "code",
     "collapsed": false,
     "input": [],
     "language": "python",
     "metadata": {},
     "outputs": [],
     "prompt_number": 156
    },
    {
     "cell_type": "markdown",
     "metadata": {},
     "source": [
      "You can also assign a variable name to the output of an expression:\n",
      "\n",
      "    z = x**2"
     ]
    },
    {
     "cell_type": "code",
     "collapsed": false,
     "input": [],
     "language": "python",
     "metadata": {},
     "outputs": [],
     "prompt_number": 156
    },
    {
     "cell_type": "markdown",
     "metadata": {},
     "source": [
      "    z"
     ]
    },
    {
     "cell_type": "code",
     "collapsed": false,
     "input": [],
     "language": "python",
     "metadata": {},
     "outputs": [],
     "prompt_number": 156
    },
    {
     "cell_type": "heading",
     "level": 2,
     "metadata": {},
     "source": [
      "Strings"
     ]
    },
    {
     "cell_type": "markdown",
     "metadata": {},
     "source": [
      "So far we've looked at numbers, another data type is a string, which is just what Python calls a bunch of characters (like numbers, letters, whitespace, and punctuation) put together. Strings are indicated by being surrounded by quotes:\n",
      "\n",
      "    my_text = \"Hello\""
     ]
    },
    {
     "cell_type": "code",
     "collapsed": false,
     "input": [],
     "language": "python",
     "metadata": {},
     "outputs": [],
     "prompt_number": 156
    },
    {
     "cell_type": "markdown",
     "metadata": {},
     "source": [
      "    my_text"
     ]
    },
    {
     "cell_type": "code",
     "collapsed": false,
     "input": [],
     "language": "python",
     "metadata": {},
     "outputs": [],
     "prompt_number": 156
    },
    {
     "cell_type": "markdown",
     "metadata": {},
     "source": [
      "You can do quite a lot with strings but they aren't the focus here so swiftly moving on..."
     ]
    },
    {
     "cell_type": "heading",
     "level": 2,
     "metadata": {},
     "source": [
      "The IPython Notebook"
     ]
    },
    {
     "cell_type": "markdown",
     "metadata": {},
     "source": [
      "Now that you've been using the notebook a bit we can talk about some of its features. \n",
      "\n",
      "Notebooks are composed of *cells*, the two main cell types are code cells and [markdown](http://en.wikipedia.org/wiki/Markdown) cells\n",
      "    \n",
      "*    *Code cells* for executing python commands like the maths and variable assignment above and the plotting we will do below.\n",
      "\n",
      "*    *Markdown cells* for non executable text, links, video clips images and other non code related material. (This text is in a markdown cell - double click it to see its contents).\n",
      "\n",
      "New cells can be created by clicking the \"Insert Cell below\" icon from the list icons at the top of the page. This will create a new cell immediately below the cell that is currently highlighted.\n",
      "\n",
      "By default new cells are code cells but you can change them by using the drop down menu to the immediate right of the icon list.\n",
      "\n",
      "You can move cells around using the up and down arrow icons. \n",
      "\n",
      "You can delete them by cutting them with the scissors icon - note at the moment you can't undo cutting a cell, so be careful! (What you can do is use the file menu and select \"Revert to checkpoint\" this will revert you to the previous saved state.)\n",
      "\n",
      "During these workshops you are encouraged to make new cells and try things out, if you want to know what a particular command will do make a new cell, try it out and see.\n",
      "\n",
      "One of the nice things about markdown cells is that it can also display mathematics using a special syntax called [LaTeX](http://en.wikipedia.org/wiki/LaTeX). This allows us to produce nicely rendered equations, e.g. the Schr\u00f6dinger equation:\n",
      "\n",
      "$$i\\hbar\\frac{\\partial}{\\partial t} \\Psi(r,t) = \\left [ -\\frac{\\hbar^2}{2\\mu}\\nabla^2 + V(r,t)\\right ] \\Psi(r,t)$$\n",
      "\n",
      "To include maths in a markdown cell we need to place it in between either single \\$ signs for equations in line with other text or double \\$\\$ signs for equations on their own line. \n",
      "\n",
      "Generate a new cell immediately below this text, change it to a markdown cell on the drop down menu and then put the following in it and hit shift-return to render.\n",
      "\n",
      "\n",
      "    Here's an equation: $$\\sin(\\frac{2\\pi}{3})=\\frac{\\sqrt{3}}{2}$$"
     ]
    },
    {
     "cell_type": "heading",
     "level": 1,
     "metadata": {},
     "source": [
      "Post Preliminaries"
     ]
    },
    {
     "cell_type": "markdown",
     "metadata": {},
     "source": [
      "First step is to load the plotting and more advanced mathematics machinary:"
     ]
    },
    {
     "cell_type": "markdown",
     "metadata": {},
     "source": [
      "    %pylab inline"
     ]
    },
    {
     "cell_type": "code",
     "collapsed": false,
     "input": [
      "%pylab inline"
     ],
     "language": "python",
     "metadata": {},
     "outputs": [
      {
       "output_type": "stream",
       "stream": "stdout",
       "text": [
        "Populating the interactive namespace from numpy and matplotlib\n"
       ]
      }
     ],
     "prompt_number": 1
    },
    {
     "cell_type": "markdown",
     "metadata": {},
     "source": [
      "<p style=\"color:red\">In your own work when using plots you'll want to include this command somewhere (usually at the top) of your notebook.</p>\n",
      "\n",
      "After loading pylab we have access to many functions and variables relevant to plotting and manipulating data. First we'll go through a few we're going to use namely **pi**, **sin**, **cos**, **array**, **linspace** and **arange**. Then we'll use them to produce some plots.\n",
      "\n",
      "**pi** is the simplest it's just gives us the numerical value of $\\pi$ (to 16 significant figures) simply by typing:\n",
      "\n",
      "    pi"
     ]
    },
    {
     "cell_type": "code",
     "collapsed": false,
     "input": [],
     "language": "python",
     "metadata": {},
     "outputs": []
    },
    {
     "cell_type": "markdown",
     "metadata": {},
     "source": [
      "We also can access trigonmetric functions which behave the same way as a calculator set to use radians:\n",
      "    \n",
      "    cos(pi)"
     ]
    },
    {
     "cell_type": "code",
     "collapsed": false,
     "input": [],
     "language": "python",
     "metadata": {},
     "outputs": []
    },
    {
     "cell_type": "markdown",
     "metadata": {},
     "source": [
      "*Try cos of pi/2, you might find the result strange but notice that the numbers are very small, thus very close to zero.*"
     ]
    },
    {
     "cell_type": "markdown",
     "metadata": {},
     "source": [
      "**Arrays of numbers are very useful creatures and generally if we have a dataset that is the form it will take**. We can construct an array manually by typing the **array** command like so. \n",
      "\n",
      "    array([1,2,3,4])"
     ]
    },
    {
     "cell_type": "code",
     "collapsed": false,
     "input": [],
     "language": "python",
     "metadata": {},
     "outputs": [],
     "prompt_number": 159
    },
    {
     "cell_type": "markdown",
     "metadata": {},
     "source": [
      "Don't worry too much about the requirement to have both round and square brackets, all functions require you to use round brackets and in this case we're really converting a more basic object called a list which we would construct using square brackets i.e. list_x = [1,2,3,4], array_x = array(list_x), but we can do it one step if we just put array_x = array([1,2,3,4]).\n",
      "\n",
      "And we can assign it to a variable as before via:\n",
      "    \n",
      "    some_numbers = array([1,2,3,4])"
     ]
    },
    {
     "cell_type": "code",
     "collapsed": false,
     "input": [],
     "language": "python",
     "metadata": {},
     "outputs": [],
     "prompt_number": 159
    },
    {
     "cell_type": "markdown",
     "metadata": {},
     "source": [
      "We can perform the usual mathematical operations on arrays:"
     ]
    },
    {
     "cell_type": "markdown",
     "metadata": {},
     "source": [
      "    array([1, 2, 3, 4]) + array([1, 2, 3, 4])"
     ]
    },
    {
     "cell_type": "code",
     "collapsed": false,
     "input": [],
     "language": "python",
     "metadata": {},
     "outputs": []
    },
    {
     "cell_type": "markdown",
     "metadata": {},
     "source": [
      "    array([1, 2, 3, 4]) - array([1, 2, 3, 4])"
     ]
    },
    {
     "cell_type": "code",
     "collapsed": false,
     "input": [],
     "language": "python",
     "metadata": {},
     "outputs": [],
     "prompt_number": 159
    },
    {
     "cell_type": "markdown",
     "metadata": {},
     "source": [
      "    array([1, 2, 3, 4]) * array([1, 2, 3, 4])"
     ]
    },
    {
     "cell_type": "code",
     "collapsed": false,
     "input": [],
     "language": "python",
     "metadata": {},
     "outputs": [],
     "prompt_number": 159
    },
    {
     "cell_type": "markdown",
     "metadata": {},
     "source": [
      "    array([1, 2, 3, 4]) / array([1, 2, 3, 4])"
     ]
    },
    {
     "cell_type": "code",
     "collapsed": false,
     "input": [],
     "language": "python",
     "metadata": {},
     "outputs": [],
     "prompt_number": 159
    },
    {
     "cell_type": "markdown",
     "metadata": {},
     "source": [
      "We can also perform the same operations between arrays and single numbers:"
     ]
    },
    {
     "cell_type": "markdown",
     "metadata": {},
     "source": [
      "    array([1, 2, 3, 4]) + 1"
     ]
    },
    {
     "cell_type": "code",
     "collapsed": false,
     "input": [],
     "language": "python",
     "metadata": {},
     "outputs": [],
     "prompt_number": 159
    },
    {
     "cell_type": "markdown",
     "metadata": {},
     "source": [
      "    array([1, 2, 3, 4]) - 1"
     ]
    },
    {
     "cell_type": "code",
     "collapsed": false,
     "input": [],
     "language": "python",
     "metadata": {},
     "outputs": [],
     "prompt_number": 159
    },
    {
     "cell_type": "markdown",
     "metadata": {},
     "source": [
      "    array([1, 2, 3, 4]) * 2"
     ]
    },
    {
     "cell_type": "code",
     "collapsed": false,
     "input": [],
     "language": "python",
     "metadata": {},
     "outputs": [],
     "prompt_number": 159
    },
    {
     "cell_type": "markdown",
     "metadata": {},
     "source": [
      "    array([1, 2, 3, 4]) / 2"
     ]
    },
    {
     "cell_type": "code",
     "collapsed": false,
     "input": [],
     "language": "python",
     "metadata": {},
     "outputs": []
    },
    {
     "cell_type": "markdown",
     "metadata": {},
     "source": [
      "    array([1, 2, 3, 4]) ** 3"
     ]
    },
    {
     "cell_type": "code",
     "collapsed": false,
     "input": [],
     "language": "python",
     "metadata": {},
     "outputs": [],
     "prompt_number": 159
    },
    {
     "cell_type": "markdown",
     "metadata": {},
     "source": [
      "Further just as we can use our cosine and sine functions on single numbers so too we can use them (and other functions that manipulate single numbers) on arrays too\n",
      "\n",
      "    cos(array([pi, 0, -pi]))"
     ]
    },
    {
     "cell_type": "code",
     "collapsed": false,
     "input": [],
     "language": "python",
     "metadata": {},
     "outputs": [],
     "prompt_number": 159
    },
    {
     "cell_type": "markdown",
     "metadata": {},
     "source": [
      "Lets define a variable some_numbers that we can use to illustrate indexing:"
     ]
    },
    {
     "cell_type": "markdown",
     "metadata": {},
     "source": [
      "    some_numbers = array([2, 3, 4, 5, 6])"
     ]
    },
    {
     "cell_type": "code",
     "collapsed": false,
     "input": [],
     "language": "python",
     "metadata": {},
     "outputs": [],
     "prompt_number": 159
    },
    {
     "cell_type": "markdown",
     "metadata": {},
     "source": [
      "You can access an individual member of an array using the **index** of that item:\n",
      "    \n",
      "    some_numbers[0]"
     ]
    },
    {
     "cell_type": "code",
     "collapsed": false,
     "input": [],
     "language": "python",
     "metadata": {},
     "outputs": [],
     "prompt_number": 159
    },
    {
     "cell_type": "markdown",
     "metadata": {},
     "source": [
      "Note that the index starts at zero and runs to the number of elements minus 1. So the last element of some_numbers is\n",
      "\n",
      "    some_numbers[4]"
     ]
    },
    {
     "cell_type": "code",
     "collapsed": false,
     "input": [],
     "language": "python",
     "metadata": {},
     "outputs": [],
     "prompt_number": 159
    },
    {
     "cell_type": "markdown",
     "metadata": {},
     "source": [
      "If you try and provide an index that goes beyond the last element of the array Python will throw an IndexError.\n",
      "    \n",
      "    some_numbers[6]"
     ]
    },
    {
     "cell_type": "code",
     "collapsed": false,
     "input": [],
     "language": "python",
     "metadata": {},
     "outputs": [],
     "prompt_number": 159
    },
    {
     "cell_type": "markdown",
     "metadata": {},
     "source": [
      "*Variations of that scary looking message is what happens whenever we do something that the python interpreter doesn't like. I.e. it means we've made a mistake somewhere.*"
     ]
    },
    {
     "cell_type": "markdown",
     "metadata": {},
     "source": [
      "We can access a subsection of an array by specifing the index of the first item we want to include, the index of the last item we want to include plus one, and how big a step size we want\n",
      " \n",
      "    some_numbers[1:5:2]"
     ]
    },
    {
     "cell_type": "code",
     "collapsed": false,
     "input": [],
     "language": "python",
     "metadata": {},
     "outputs": [],
     "prompt_number": 159
    },
    {
     "cell_type": "markdown",
     "metadata": {},
     "source": [
      "The final step size can be removed if we just want a step size of 1.\n",
      "\n",
      "    some_numbers[1:5]"
     ]
    },
    {
     "cell_type": "code",
     "collapsed": false,
     "input": [],
     "language": "python",
     "metadata": {},
     "outputs": [],
     "prompt_number": 159
    },
    {
     "cell_type": "markdown",
     "metadata": {},
     "source": [
      "If we omit the first index, is equivalent to starting at the first element of the array. Like wise ommiting the last element is equivalent to ending at the last element of the array:\n",
      "    \n",
      "    some_numbers[::]"
     ]
    },
    {
     "cell_type": "code",
     "collapsed": false,
     "input": [],
     "language": "python",
     "metadata": {},
     "outputs": [],
     "prompt_number": 159
    },
    {
     "cell_type": "markdown",
     "metadata": {},
     "source": [
      "In addition to one dimension arrays, we can have two dimensional arrays (note the extra square brackets!):\n",
      "\n",
      "    a = array([[ 0,  1,  2,  3,  4,  5],\n",
      "               [10, 11, 12, 13, 14, 15],\n",
      "               [20, 21, 22, 23, 24, 25],\n",
      "               [30, 31, 32, 33, 34, 35],\n",
      "               [40, 41, 42, 43, 44, 45],\n",
      "               [50, 51, 52, 53, 54, 55]])"
     ]
    },
    {
     "cell_type": "code",
     "collapsed": false,
     "input": [],
     "language": "python",
     "metadata": {},
     "outputs": [],
     "prompt_number": 159
    },
    {
     "cell_type": "markdown",
     "metadata": {},
     "source": [
      "    a"
     ]
    },
    {
     "cell_type": "code",
     "collapsed": false,
     "input": [],
     "language": "python",
     "metadata": {},
     "outputs": [],
     "prompt_number": 159
    },
    {
     "cell_type": "markdown",
     "metadata": {},
     "source": [
      "In 2D the indexing works the same way. The first dimension corresponds to rows, the second to columns and we use a comma in the indexing to delimit the two dimensions."
     ]
    },
    {
     "cell_type": "markdown",
     "metadata": {},
     "source": [
      "<img src=\"files/numpy_indexing.png\" />\n",
      "\n"
     ]
    },
    {
     "cell_type": "markdown",
     "metadata": {},
     "source": [
      "    a[0,3:5]"
     ]
    },
    {
     "cell_type": "code",
     "collapsed": false,
     "input": [],
     "language": "python",
     "metadata": {},
     "outputs": []
    },
    {
     "cell_type": "markdown",
     "metadata": {},
     "source": [
      "    a[4:,4:]"
     ]
    },
    {
     "cell_type": "code",
     "collapsed": false,
     "input": [],
     "language": "python",
     "metadata": {},
     "outputs": []
    },
    {
     "cell_type": "markdown",
     "metadata": {},
     "source": [
      "Ok time to generate some data. We'll use another pylab function called **linspace**. To get a feel for what linspace is doing execute the following line and take a look at the output:\n",
      "     \n",
      "    linspace(-pi, pi, 10)"
     ]
    },
    {
     "cell_type": "code",
     "collapsed": false,
     "input": [],
     "language": "python",
     "metadata": {},
     "outputs": [],
     "prompt_number": 159
    },
    {
     "cell_type": "markdown",
     "metadata": {},
     "source": [
      "The command generates an array of 10  equally space numbers starting at -pi and ending pi, we could have typed it out by hand but who wants to do that?"
     ]
    },
    {
     "cell_type": "markdown",
     "metadata": {},
     "source": [
      "Another command similar to linspace is **arange**.\n",
      "\n",
      "    arange(1,10,2)"
     ]
    },
    {
     "cell_type": "code",
     "collapsed": false,
     "input": [],
     "language": "python",
     "metadata": {},
     "outputs": [],
     "prompt_number": 159
    },
    {
     "cell_type": "markdown",
     "metadata": {},
     "source": [
      "This generates an array starting with 1, including all steps upto but not including 10 where the step size is set to two."
     ]
    },
    {
     "cell_type": "heading",
     "level": 2,
     "metadata": {},
     "source": [
      "Plotting"
     ]
    },
    {
     "cell_type": "markdown",
     "metadata": {},
     "source": [
      "With the basic components out of the way we can introduce the plotting functions. **plot** is the most important function which we'll be using throughout. **show** is an auxiliar function used to display the plot, **xlabel**, **ylabel** and **title** label the axes and title, **xlim**, **ylim**, **xticks**, **yticks** and **legend** set some of the properties of plot and **gca** and **annotate** are used for some more advanced functionality.   "
     ]
    },
    {
     "cell_type": "markdown",
     "metadata": {},
     "source": [
      "First we'll plot points along a $y=x^2$ curve. We generate the x values using *arange* and the y values by squaring the x values:\n",
      "\n",
      "    x = arange(0,20)\n",
      "    y = x ** 2"
     ]
    },
    {
     "cell_type": "code",
     "collapsed": false,
     "input": [
      "x = arange(0,20)\n",
      "y = x ** 2"
     ],
     "language": "python",
     "metadata": {},
     "outputs": [],
     "prompt_number": 2
    },
    {
     "cell_type": "markdown",
     "metadata": {},
     "source": [
      "Now we can just use *plot* to create a plot of point's we've created, and *show* to display the plot.\n",
      "\n",
      "    plot(x, y)\n",
      "    show()"
     ]
    },
    {
     "cell_type": "code",
     "collapsed": false,
     "input": [],
     "language": "python",
     "metadata": {},
     "outputs": []
    },
    {
     "cell_type": "markdown",
     "metadata": {},
     "source": [
      "NB It's important to understand that this is exactly equivalent to putting the arrays directly into the scatter function. I.E."
     ]
    },
    {
     "cell_type": "code",
     "collapsed": false,
     "input": [
      "plot(array([0,1,2,3,4,5,6,7,8,9,10,11,12,13,14,15,16,17,18,19]), \n",
      "        array([0,1,4,9,16,25,36,49,64,81,100,121,144,169,196,225,256,289,324,361]))\n",
      "show()"
     ],
     "language": "python",
     "metadata": {},
     "outputs": [],
     "prompt_number": 187
    },
    {
     "cell_type": "markdown",
     "metadata": {},
     "source": [
      "If you don't understand why these two plots are identical now is a good time to grab a demonstrator and ask!"
     ]
    },
    {
     "cell_type": "markdown",
     "metadata": {},
     "source": [
      "By default *plot* draws a line between the points without highlighting them. We can add markers at the data points position with the option *marker*\n",
      "\n",
      "    plot(x, y,marker='o')\n",
      "    show()"
     ]
    },
    {
     "cell_type": "code",
     "collapsed": false,
     "input": [],
     "language": "python",
     "metadata": {},
     "outputs": [],
     "prompt_number": 187
    },
    {
     "cell_type": "markdown",
     "metadata": {},
     "source": [
      "If we want to add labels axes and a title we can do so using *xlabel*, *ylabel* and *title*\n",
      "\n",
      "    xlabel('x')\n",
      "    ylabel('y')\n",
      "    title('Connecting dots')\n",
      "    plot(x,y,marker='o')\n",
      "    show()"
     ]
    },
    {
     "cell_type": "code",
     "collapsed": false,
     "input": [],
     "language": "python",
     "metadata": {},
     "outputs": []
    },
    {
     "cell_type": "markdown",
     "metadata": {},
     "source": [
      "In most of the cases when plotting experimental data, one is interested in the experimental measurements themselves and not an \"artificial\" line connecting them, as this line is often a deceiving guide to the eye. In order to get away with the line the option *linestyle='None'* can be used.\n",
      "\n",
      "    xlabel('x')\n",
      "    ylabel('y')\n",
      "    title('Neet simple plot')\n",
      "    plot(x,y,marker='o',linestyle='None')\n",
      "    show()"
     ]
    },
    {
     "cell_type": "code",
     "collapsed": false,
     "input": [],
     "language": "python",
     "metadata": {},
     "outputs": []
    },
    {
     "cell_type": "markdown",
     "metadata": {},
     "source": [
      "When further dealing with experimental data, there is often a known error associated with each data point. In plots this is often displayed in terms of an errorbar. There is an *errorbar* function which works in the same way as *plot* but lets us include these bars with our plots.\n",
      "\n",
      "First we'll define some fake errors for the purposes of illustrating the errorbars. (There is one value per point)\n",
      "\n",
      "    y_err=x**(3/2)"
     ]
    },
    {
     "cell_type": "code",
     "collapsed": false,
     "input": [],
     "language": "python",
     "metadata": {},
     "outputs": [],
     "prompt_number": 7
    },
    {
     "cell_type": "markdown",
     "metadata": {},
     "source": [
      "Now we will include them in our plot:\n",
      "    \n",
      "    xlabel('x')\n",
      "    ylabel('y')\n",
      "    title('Experimental data')\n",
      "    errorbar(x,y, y_err,linestyle='None')\n",
      "    show()"
     ]
    },
    {
     "cell_type": "code",
     "collapsed": false,
     "input": [],
     "language": "python",
     "metadata": {},
     "outputs": []
    },
    {
     "cell_type": "markdown",
     "metadata": {},
     "source": [
      "Do you understand given what the commands are doing? If not grab a demonstrator and pester them!"
     ]
    },
    {
     "cell_type": "heading",
     "level": 3,
     "metadata": {},
     "source": [
      "Using defaults"
     ]
    },
    {
     "cell_type": "markdown",
     "metadata": {},
     "source": [
      "In this section, we'll draw cosine and sine functions on the same plot. Starting from the default settings, we'll enrich the figure step by step to make it nicer.\n",
      "\n",
      "Matplotlib is the module used in the notebook to plot. It comes with a set of default settings that allow customising all kinds of properties. You can control the defaults of almost every property in matplotlib: figure size, line width, markers, color and style, axes, axis and grid properties, text and font properties and so on. While matplotlib defaults are rather good in most cases, you may want to modify some properties for specific cases.\n",
      "\n",
      "    X = linspace(-pi, pi, 128,endpoint=True)\n",
      "    C = cos(X)\n",
      "    S = sin(X)\n",
      "\n",
      "    plot(X,C)\n",
      "    plot(X,S)\n",
      "\n",
      "    show()"
     ]
    },
    {
     "cell_type": "code",
     "collapsed": false,
     "input": [],
     "language": "python",
     "metadata": {},
     "outputs": []
    },
    {
     "cell_type": "markdown",
     "metadata": {},
     "source": [
      "The first three lines should be understandable from the prelimary material we covered above. \n",
      "\n",
      "X is now an array with 128 values ranging from $-\\pi$ to $+\\pi$ (included). C is the cosine of X (128 values) and S is the sine of X(128 values).\n",
      "\n",
      "The **plot** function takes two arrays of the same size, one for the x values and the other for the y values and generates a plot. Note that we used the *plot* function twice, one for each funtion to be plotted. The **show** function superimposed the two plots and makes them visible."
     ]
    },
    {
     "cell_type": "heading",
     "level": 3,
     "metadata": {},
     "source": [
      "Default plotting options"
     ]
    },
    {
     "cell_type": "markdown",
     "metadata": {},
     "source": [
      "In the cell below, we've initialised all the figure settings that influence the appearance of the plot. Lines starting with *#* are comments and they are not executed. It is good practice, especially for longer sets of commands, to introduce explanatory comments (it is surprising how dificult it can be to read code that at the time of writing seemed evident). The settings have been explicitly set to their default values. We will proceed to change these values in order to change the appearance of the plot. At the bottom of this notebook you will find <a href=\"#reference\">reference tables</a> with some of the values these options can take."
     ]
    },
    {
     "cell_type": "code",
     "collapsed": false,
     "input": [
      "# Create a new figure of size 6x4 points\n",
      "figure(figsize=(6,4))\n",
      "\n",
      "# Technically these are already defined as we constructed them above, but we'll define them again for the sake of clarity\n",
      "X = linspace(-pi, pi, 128)\n",
      "C = cos(X)\n",
      "S = sin(X)\n",
      "\n",
      "# Plot cosine using blue color with a continuous line of width 1 (pixels)\n",
      "plot(X, C, color=\"blue\", linewidth=1.0, linestyle=\"-\",marker=\"\")\n",
      "\n",
      "# Plot sine using green color with a continuous line of width 1 (pixels)\n",
      "plot(X, S, color=\"green\", linewidth=1.0, linestyle=\"-\",marker=\"\")\n",
      "\n",
      "# Set x limits\n",
      "xlim(-4.0,4.0)\n",
      "\n",
      "# Set x ticks\n",
      "xticks(linspace(-4,4,9))\n",
      "\n",
      "# Set y limits\n",
      "ylim(-1.0,1.0)\n",
      "\n",
      "# Set y ticks\n",
      "yticks(linspace(-1,1,5))\n",
      "\n",
      "# Show result on screen\n",
      "show()"
     ],
     "language": "python",
     "metadata": {},
     "outputs": []
    },
    {
     "cell_type": "heading",
     "level": 3,
     "metadata": {},
     "source": [
      "Changing colors and line widths"
     ]
    },
    {
     "cell_type": "markdown",
     "metadata": {},
     "source": [
      "We want to have the cosine in blue, slightly thicker line, and the sine plotted as red circular markers. We'll also slightly alter the figure size to make it a little larger and more horizontal.\n",
      "\n",
      "    figure(figsize=(10,6))\n",
      "    plot(X, C, color=\"blue\", linewidth=2.5, linestyle=\"-\")\n",
      "    plot(X, S, color=\"red\", linestyle=\"None\", marker='o')\n",
      "    show()"
     ]
    },
    {
     "cell_type": "code",
     "collapsed": false,
     "input": [],
     "language": "python",
     "metadata": {},
     "outputs": []
    },
    {
     "cell_type": "heading",
     "level": 3,
     "metadata": {},
     "source": [
      "Setting limits"
     ]
    },
    {
     "cell_type": "markdown",
     "metadata": {},
     "source": [
      "Current limits of the figure are a bit too tight and we want to make some space in order to clearly see all data points. We can use function **xlim** and **ylim** for that purpose.\n",
      "\n",
      "\n",
      "    figure(figsize=(10,6))\n",
      "    plot(X, C, color=\"blue\", linewidth=2.5, linestyle=\"-\")\n",
      "    plot(X, S, color=\"red\", linestyle=\"None\", marker='o')\n",
      "\n",
      "    xlim(-pi*1.1, pi*1.1)\n",
      "    ylim(-1.1, 1.1)\n",
      "\n",
      "    show()"
     ]
    },
    {
     "cell_type": "code",
     "collapsed": false,
     "input": [],
     "language": "python",
     "metadata": {},
     "outputs": [],
     "prompt_number": 187
    },
    {
     "cell_type": "heading",
     "level": 3,
     "metadata": {},
     "source": [
      "Setting ticks"
     ]
    },
    {
     "cell_type": "markdown",
     "metadata": {},
     "source": [
      "Current ticks are not ideal because they do not show the interesting values (+/-\u03c0,+/-\u03c0/2) for sine and cosine. We'll change them using **xticks** and **yticks** such that they show only these values.\n",
      "\n",
      "    figure(figsize=(10,6))\n",
      "    plot(X, C, color=\"blue\", linewidth=2.5, linestyle=\"-\")\n",
      "    plot(X, S, color=\"red\", linestyle=\"None\", marker='o')\n",
      "\n",
      "    xlim(-pi*1.1, pi*1.1)\n",
      "    ylim(-1.1, 1.1)\n",
      "\n",
      "    xticks([-pi, -pi/2, 0, pi/2, pi])\n",
      "    yticks([-1, 0, +1])\n",
      "\n",
      "    show()"
     ]
    },
    {
     "cell_type": "code",
     "collapsed": false,
     "input": [],
     "language": "python",
     "metadata": {},
     "outputs": []
    },
    {
     "cell_type": "heading",
     "level": 3,
     "metadata": {},
     "source": [
      "Setting tick labels"
     ]
    },
    {
     "cell_type": "markdown",
     "metadata": {},
     "source": [
      "Ticks are now properly placed but their label is not very explicit. We could guess that 3.142 is \u03c0 but it would be better to make it explicit. When we set tick values, we can also provide a corresponding label in the second argument list. \n",
      "\n",
      "The plottling library accepts the same math syntax equation expressions in text (including titles and axis labels) that the markdown cells do. For example to use $\\pi$ we can write the expression surrounded by dollar signs: '\\$\\pi\\$'. For consistency we'll use math rendering for the numbers too.\n",
      "\n",
      "    figure(figsize=(10,6))\n",
      "    plot(X, C, color=\"blue\", linewidth=2.5, linestyle=\"-\")\n",
      "    plot(X, S, color=\"red\", linestyle=\"None\", marker='o')\n",
      "\n",
      "    xlim(-pi*1.1, pi*1.1)\n",
      "    ylim(-1.1, 1.1)\n",
      "\n",
      "    xticks([-pi, -pi/2, 0, pi/2, pi], \n",
      "           ['$-\\pi$', '$-\\pi/2$', '$0$', '$+\\pi/2$', '$+\\pi$'])\n",
      "\n",
      "    yticks([-1, 0, +1],\n",
      "           ['$-1$', '$0$', '$+1$'])\n",
      "\n",
      "    show()"
     ]
    },
    {
     "cell_type": "code",
     "collapsed": false,
     "input": [],
     "language": "python",
     "metadata": {},
     "outputs": []
    },
    {
     "cell_type": "heading",
     "level": 3,
     "metadata": {},
     "source": [
      "Adding a legend"
     ]
    },
    {
     "cell_type": "markdown",
     "metadata": {},
     "source": [
      "Let's add a legend in the upper left corner using the **legend** functions. This also requires adding the argument label to the plot commands.\n",
      "\n",
      "\n",
      "    figure(figsize=(10,6))\n",
      "\n",
      "    xlim(-pi*1.1, pi*1.1)\n",
      "    ylim(-1.1, 1.1)\n",
      "\n",
      "    xticks([-pi, -pi/2, 0, pi/2, pi], \n",
      "           ['$-\\pi$', '$-\\pi/2$', '$0$', '$+\\pi/2$', '$+\\pi$'])\n",
      "\n",
      "    yticks([-1, 0, +1],\n",
      "           ['$-1$', '$0$', '$+1$'])\n",
      "\n",
      "    plot(X, C, color=\"blue\", linewidth=2.5, linestyle=\"-\", label=\"cosine\")\n",
      "    plot(X, S, color=\"red\", linestyle=\"None\", marker=\"o\", label=\"sine\")\n",
      "\n",
      "    legend(loc='upper left')\n",
      "\n",
      "    show()\n"
     ]
    },
    {
     "cell_type": "code",
     "collapsed": false,
     "input": [],
     "language": "python",
     "metadata": {},
     "outputs": []
    },
    {
     "cell_type": "markdown",
     "metadata": {},
     "source": [
      "**The next three changes become progressively more involved. Have a look at the change (you don't need to type them out this time) and execute the cells to see the results. We've included them here as a reference in case you want to do something like this at a later date.**"
     ]
    },
    {
     "cell_type": "heading",
     "level": 3,
     "metadata": {},
     "source": [
      "Moving spines"
     ]
    },
    {
     "cell_type": "markdown",
     "metadata": {},
     "source": [
      "Spines are the lines connecting the axis tick marks and noting the boundaries of the data area. They can be placed at arbitrary positions and until now, they were on the border of the axis. We'll change that since we want to have them in the middle. Since there are four of them (top/bottom/left/right), we'll discard the top and right by setting their color to none and we'll move the bottom and left ones to coordinate 0 in data space coordinates."
     ]
    },
    {
     "cell_type": "code",
     "collapsed": false,
     "input": [
      "figure(figsize=(10,6))\n",
      "\n",
      "#get the axis object\n",
      "ax = gca()\n",
      "#make the right spine invisible\n",
      "ax.spines['right'].set_color('none')\n",
      "#make the top spine invisible\n",
      "ax.spines['top'].set_color('none')\n",
      "#move the bottom spine to the centre\n",
      "ax.spines['bottom'].set_position('zero')\n",
      "#move the left spine to the centre\n",
      "ax.spines['left'].set_position('zero')\n",
      "\n",
      "#set the positions of the ticks\n",
      "ax.xaxis.set_ticks_position('bottom')\n",
      "ax.yaxis.set_ticks_position('left')\n",
      "\n",
      "xlim(-pi*1.1, pi*1.1)\n",
      "ylim(-1.1, 1.1)\n",
      "\n",
      "xticks([-pi, -pi/2, 0, pi/2, pi], \n",
      "       ['$-\\pi$', '$-\\pi/2$', '$0$', '$+\\pi/2$', '$+\\pi$'])\n",
      "\n",
      "yticks([-1, 0, +1],\n",
      "       ['$-1$', '$0$', '$+1$'])\n",
      "\n",
      "plot(X, C, color=\"blue\", linewidth=2.5, linestyle=\"-\", label=\"cosine\")\n",
      "plot(X, S, color=\"red\", linestyle=\"None\", marker=\"o\", label=\"sine\")\n",
      "\n",
      "legend(loc='upper left')\n",
      "\n",
      "show()"
     ],
     "language": "python",
     "metadata": {},
     "outputs": []
    },
    {
     "cell_type": "heading",
     "level": 3,
     "metadata": {},
     "source": [
      "Annotate some points"
     ]
    },
    {
     "cell_type": "markdown",
     "metadata": {},
     "source": [
      "Let's annotate some interesting points using the text command. We chose the 2\u03c0/3 value and we want to annotate both the sine and the cosine. We'll first draw a marker on the curve as well as a straight dotted line. Then, we'll use the text and arrow commands to display some text with an arrow."
     ]
    },
    {
     "cell_type": "code",
     "collapsed": false,
     "input": [
      "figure(figsize=(10,6))\n",
      "\n",
      "ax = gca()\n",
      "ax.spines['right'].set_color('none')\n",
      "ax.spines['top'].set_color('none')\n",
      "ax.xaxis.set_ticks_position('bottom')\n",
      "ax.spines['bottom'].set_position(('data',0))\n",
      "ax.yaxis.set_ticks_position('left')\n",
      "ax.spines['left'].set_position(('data',0))\n",
      "\n",
      "xlim(-pi*1.1, pi*1.1)\n",
      "ylim(-1.1, 1.1)\n",
      "\n",
      "xticks([-pi, -pi/2, 0, pi/2, pi], \n",
      "       ['$-\\pi$', '$-\\pi/2$', '$0$', '$+\\pi/2$', '$+\\pi$'])\n",
      "\n",
      "yticks([-1, 0, +1],\n",
      "       ['$-1$', '$0$', '$+1$'])\n",
      "\n",
      "plot(X, C, color=\"blue\", linewidth=2.5, linestyle=\"-\", label=\"cosine\")\n",
      "plot(X, S, color=\"red\", linestyle=\"None\", marker=\"o\", label=\"sine\")\n",
      "\n",
      "legend(loc='upper left')\n",
      "\n",
      "#the x value we're going to consider\n",
      "t = 2*pi/3\n",
      "#plot the blue diamond \n",
      "plot(array([t,t]),array([0,np.cos(t)]), color ='blue', linewidth=2.5, linestyle=\":\")\n",
      "plot(array([t]),array([np.cos(t)]), color ='blue', marker='D', markersize=10)\n",
      "#plot label and arrow\n",
      "text(2.3, 1.05, r'$\\sin(\\frac{2\\pi}{3})=\\frac{\\sqrt{3}}{2}$', fontsize=16)\n",
      "arrow(2.4, 1.0, -0.15, -0.07, head_width=0.05, head_length=0.05)\n",
      "\n",
      "#plot the red diamond\n",
      "plot(array([t,t]),array([0,np.sin(t)]), color ='red', linewidth=2.5, linestyle=\":\")\n",
      "plot(array([t]),array([np.sin(t)]), color ='red', marker='D', markersize=10)\n",
      "#plot alabel and arrow\n",
      "text(0.75, -0.75, r'$\\cos(\\frac{2\\pi}{3})=-\\frac{1}{2}$', fontsize=16)\n",
      "arrow(1.85, -0.65, 0.12, 0.08, head_width=0.05, head_length=0.05)\n",
      "\n",
      "show()"
     ],
     "language": "python",
     "metadata": {},
     "outputs": []
    },
    {
     "cell_type": "heading",
     "level": 3,
     "metadata": {},
     "source": [
      "Devil is in the details"
     ]
    },
    {
     "cell_type": "markdown",
     "metadata": {},
     "source": [
      "The tick labels are now hardly visible because of the blue and red lines. We can make them bigger and we can also adjust their properties such that they'll be rendered on a semi-transparent white background. This will allow us to see both the data and the labels."
     ]
    },
    {
     "cell_type": "code",
     "collapsed": false,
     "input": [
      "figure(figsize=(10,6))\n",
      "\n",
      "ax = gca()\n",
      "ax.spines['right'].set_color('none')\n",
      "ax.spines['top'].set_color('none')\n",
      "ax.spines['bottom'].set_position(['data',0])\n",
      "ax.spines['left'].set_position(['data',0])\n",
      "\n",
      "ax.xaxis.set_ticks_position('bottom')\n",
      "ax.yaxis.set_ticks_position('left')\n",
      "\n",
      "xlim(-pi*1.1, pi*1.1)\n",
      "ylim(-1.1, 1.1)\n",
      "\n",
      "xticks([-pi, -pi/2, 0, pi/2, pi], \n",
      "       ['$-\\pi$', '$-\\pi/2$', '$0$', '$+\\pi/2$', '$+\\pi$'])\n",
      "\n",
      "yticks([-1, 0, +1],\n",
      "       ['$-1$', '$0$', '$+1$'])\n",
      "\n",
      "###extra lines###\n",
      "for label in ax.get_xticklabels() + ax.get_yticklabels():\n",
      "    label.set_fontsize(16)\n",
      "    label.set_bbox(dict(facecolor='white', edgecolor='None', alpha=0.65 ))\n",
      "\n",
      "plot(X, C, color=\"blue\", linewidth=2.5, linestyle=\"-\", label=\"cosine\")\n",
      "plot(X, S, color=\"red\", linestyle=\"None\", marker=\"o\", label=\"sine\")\n",
      "legend(loc='upper left')\n",
      "\n",
      "t = 2*np.pi/3\n",
      "plot(array([t,t]),array([0,np.cos(t)]), color ='blue', linewidth=2.5, linestyle=\":\")\n",
      "plot(array([t]),array([np.cos(t)]), color ='blue', marker='D', markersize=10)\n",
      "plot(array([t,t]),array([0,np.sin(t)]), color ='red', linewidth=2.5, linestyle=\":\")\n",
      "plot(array([t]),array([np.sin(t)]), color ='red', marker='D', markersize=10)\n",
      "\n",
      "text(2.3, 1.05, r'$\\sin(\\frac{2\\pi}{3})=\\frac{\\sqrt{3}}{2}$', fontsize=16)\n",
      "arrow(2.4, 1.0, -0.15, -0.07, head_width=0.05, head_length=0.05)\n",
      "text(0.75, -0.75, r'$\\cos(\\frac{2\\pi}{3})=-\\frac{1}{2}$', fontsize=16)\n",
      "arrow(1.85, -0.65, 0.12, 0.08, head_width=0.05, head_length=0.05)\n",
      "\n",
      "show()"
     ],
     "language": "python",
     "metadata": {},
     "outputs": []
    },
    {
     "cell_type": "heading",
     "level": 2,
     "metadata": {},
     "source": [
      "More plots!"
     ]
    },
    {
     "cell_type": "heading",
     "level": 3,
     "metadata": {},
     "source": [
      "Bar graphs"
     ]
    },
    {
     "cell_type": "markdown",
     "metadata": {},
     "source": [
      "Matplotlib includes many other kinds of charts, we'll go through a couple more here but to see the full list you can visit the matplotlib [gallery](http://matplotlib.org/gallery.html)."
     ]
    },
    {
     "cell_type": "markdown",
     "metadata": {},
     "source": [
      "lets define some more data:\n",
      "    \n",
      "    x = array([0, 1, 2, 3, 4, 5, 6, 7])\n",
      "    y = array([ 4, 11, 6, 5, -4, 3.5, 7, 9.1])"
     ]
    },
    {
     "cell_type": "code",
     "collapsed": false,
     "input": [],
     "language": "python",
     "metadata": {},
     "outputs": [],
     "prompt_number": 187
    },
    {
     "cell_type": "markdown",
     "metadata": {},
     "source": [
      "Then we'll create a basic bar chart\n",
      "\n",
      "    width = 1/1.5\n",
      "    bar(x, y, width)\n",
      "    show()"
     ]
    },
    {
     "cell_type": "code",
     "collapsed": false,
     "input": [],
     "language": "python",
     "metadata": {},
     "outputs": [],
     "prompt_number": 187
    },
    {
     "cell_type": "markdown",
     "metadata": {},
     "source": [
      "As with other plots there are many parameters that can be fine tuned:\n",
      "\n",
      "\n",
      "    labels = ['data1','data2','data3','data4','data5','data6','data7','data8']\n",
      "    width = 1\n",
      "\n",
      "    xticks(x + width/2.0, labels )\n",
      "    ylabel('Intensity')\n",
      "\n",
      "    bar(x, y, width, color=\"cyan\")\n",
      "    show()"
     ]
    },
    {
     "cell_type": "code",
     "collapsed": false,
     "input": [],
     "language": "python",
     "metadata": {},
     "outputs": [],
     "prompt_number": 187
    },
    {
     "cell_type": "heading",
     "level": 3,
     "metadata": {},
     "source": [
      "Histograms"
     ]
    },
    {
     "cell_type": "markdown",
     "metadata": {},
     "source": [
      "Histograms are a particular kind of plot, used frequently in the statistical analysis of experiemtal data, which plots the number/frequency of occurence of a given element (or range of elements) in a given set.\n",
      "We could create histograms by a creating the relevant binned data and then using a bar chart, however there is a specialised histogram plotting function **hist**:\n",
      "\n",
      "    data = array([1, 1, 1, 3, 2, 5, 1, 10, 10, 8])\n",
      "\n",
      "    hist(data, bins=12, color=\"magenta\")\n",
      "    xlabel('bins')\n",
      "    ylabel('count')\n",
      "\n",
      "    xlim(0,12)\n",
      "    show()"
     ]
    },
    {
     "cell_type": "code",
     "collapsed": false,
     "input": [],
     "language": "python",
     "metadata": {},
     "outputs": []
    },
    {
     "cell_type": "markdown",
     "metadata": {},
     "source": [
      "We'll encounter histograms again in the next workshop."
     ]
    },
    {
     "cell_type": "heading",
     "level": 2,
     "metadata": {},
     "source": [
      "Saving plots"
     ]
    },
    {
     "cell_type": "markdown",
     "metadata": {},
     "source": [
      "Although it is extremelly convenient to have your plots collected in a notebook like this one, together with the code and data that originated them, it is often useful to export them as figures, either for publishing or for manipulation with other programs. This can be done easily using the function **savefig**:"
     ]
    },
    {
     "cell_type": "code",
     "collapsed": false,
     "input": [
      "x=linspace(0,50,128)\n",
      "y=e**(-x/10)*cos(x)\n",
      "\n",
      "plot(x,y)"
     ],
     "language": "python",
     "metadata": {},
     "outputs": [
      {
       "metadata": {},
       "output_type": "pyout",
       "prompt_number": 56,
       "text": [
        "[<matplotlib.lines.Line2D at 0x6e1d6d0>]"
       ]
      },
      {
       "metadata": {},
       "output_type": "display_data",
       "png": "[encoded data removed]",
       "text": [
        "<matplotlib.figure.Figure at 0x4c33b10>"
       ]
      }
     ],
     "prompt_number": 56
    },
    {
     "cell_type": "heading",
     "level": 2,
     "metadata": {},
     "source": [
      "Exercises"
     ]
    },
    {
     "cell_type": "heading",
     "level": 3,
     "metadata": {},
     "source": [
      "Exercise 1"
     ]
    },
    {
     "cell_type": "markdown",
     "metadata": {},
     "source": [
      "Here we present some solutions of a basic quantum mechanical model called [particle in a box](http://en.wikipedia.org/wiki/Particle_in_a_box) that you will learn about later in the year.\n",
      "\n",
      "Currently the solutions are superimposed. People often produce plots where they are seperated by shifting each function up along the y-axis by a different amount. Modify the code given below to reproduce the following image:\n",
      "\n",
      "<img src=\"files/particle_in_box.png\" />"
     ]
    },
    {
     "cell_type": "code",
     "collapsed": false,
     "input": [
      "L=10\n",
      "\n",
      "X = linspace(0,L*pi,1000)\n",
      "\n",
      "ylim([-1.1,1.1])\n",
      "\n",
      "plot(sin(1*X/L), label='n=1')\n",
      "plot(sin(2*X/L), label='n=2')\n",
      "plot(sin(3*X/L), label='n=3')\n",
      "plot(sin(4*X/L), label='n=4')\n",
      "\n",
      "legend(loc='lower left')\n",
      "show()"
     ],
     "language": "python",
     "metadata": {},
     "outputs": []
    },
    {
     "cell_type": "code",
     "collapsed": false,
     "input": [
      "#soln (will not provided in the final version)\n",
      "L=10\n",
      "\n",
      "X = linspace(0,L,1000)\n",
      "\n",
      "plot(sin(1*pi*X/L), label='n=1')\n",
      "plot(sin(2*pi*X/L) +2, label='n=2')\n",
      "plot(sin(3*pi*X/L) +4, label='n=3')\n",
      "plot(sin(4*pi*X/L) +7, label='n=4')\n",
      "\n",
      "xlim([0,1000])\n",
      "ylim([0,12])\n",
      "legend(loc='upper right')\n",
      "show()"
     ],
     "language": "python",
     "metadata": {},
     "outputs": [],
     "prompt_number": 8
    },
    {
     "cell_type": "heading",
     "level": 3,
     "metadata": {},
     "source": [
      "Exercise 2"
     ]
    },
    {
     "cell_type": "markdown",
     "metadata": {},
     "source": [
      "We start with a plot of the [Morse potential](http://en.wikipedia.org/wiki/Morse_potential). This is a model of how the potential energy of a diatomic molecule varies as we change the internuclear separation r. \n",
      "\n",
      "$$V(r) = D_e ( 1-e^{-a(r-r_e)} )^2$$\n",
      "\n",
      "The force between the two particles is equal to minus the derivative of the potential: - $\\frac{dV(r)}{dr}$. In this exercise we would like to add a line corresponding to the force superimposed on scatter plot of the potential energy. You'll also need to add, a title, label the x axis, create a legend and if you can, move the spines.\n",
      "\n",
      "\n",
      "<img src=\"files/morse_exercise.png\">"
     ]
    },
    {
     "cell_type": "code",
     "collapsed": false,
     "input": [
      "D=1\n",
      "a=1\n",
      "re=1\n",
      "\n",
      "X = linspace(0.2,3,100)\n",
      "morse = D*(1-e**(-a*(X-re)))**2\n",
      "\n",
      "scatter(X, morse)\n",
      "show()"
     ],
     "language": "python",
     "metadata": {},
     "outputs": [],
     "prompt_number": 21
    },
    {
     "cell_type": "code",
     "collapsed": false,
     "input": [
      "#soln\n",
      "\n",
      "D, a, re = 1,1,1\n",
      "figure(figsize=(6,6), dpi=160)\n",
      "\n",
      "\n",
      "X = linspace(0.2,4,100)\n",
      "morse = D*(1-e**(-a*(X-re)))**2\n",
      "d_morse = 2*D*a*(-e**(-a*(X-re)) + e**(-2*a*(X-re)))\n",
      "\n",
      "#ylim([-0.2,1.6])\n",
      "\n",
      "\n",
      "#plot([0,4],[0,0])\n",
      "\n",
      "ax = gca()\n",
      "ax.spines['right'].set_color('none')\n",
      "ax.spines['top'].set_color('none')\n",
      "ax.spines['bottom'].set_position(['data',0])\n",
      "ax.spines['left'].set_position(['data',0])\n",
      "\n",
      "ax.xaxis.set_ticks_position('bottom')\n",
      "ax.yaxis.set_ticks_position('left')\n",
      "\n",
      "xlim([0,4])\n",
      "ylim([-.5,2])\n",
      "xlabel('r')\n",
      "title('Morse potential plot')\n",
      "scatter(X, morse, color='blue', alpha=0.5, label='V(r)')\n",
      "plot(X,d_morse, color='green', label='F(r)')\n",
      "legend()\n",
      "show()"
     ],
     "language": "python",
     "metadata": {},
     "outputs": [],
     "prompt_number": 31
    },
    {
     "cell_type": "heading",
     "level": 3,
     "metadata": {},
     "source": [
      "Exercise 3"
     ]
    },
    {
     "cell_type": "markdown",
     "metadata": {},
     "source": [
      "In this exercise you will modify the cell below such that the resulting scatter plot gains this appearance:\n",
      "    \n",
      "<img src='files/scatter_exercise.png'>\n",
      "\n",
      "If we consider each point as a vector beginning at the origin and ending at the point then we can associate with each point the angle defined between its vector and the x-axis. Given the x and y coordinates of the point we can compute this angle via $\\tan^{-1} (\\frac{y}{x})$. The function to do this in a code cell is *arctan2(x,y)* \n",
      "\n",
      "e.g. arctan2(1,1) = 0.78539816339744828 \n",
      "\n",
      "To reproduce the above plot you will need to colour each point by this angle.\n",
      "\n",
      "Hint: Remember functions work on entire arrays as well as just single numbers!\n",
      "\n",
      "Technical hint: All examples covered so far use the *color* argument of function **scatter**. In this exercise you should use the argument *c* instead of *color* and rather than setting it to a string specifying the name of a colour you should set it to an array of numbers i.e. \"c=W\" where *W* is an array of numbers. These numbers will be used to specify the colour of each scatter point. (After you execute the cell below make another cell and look at what variable *W* is to make sure you understand what's going on)"
     ]
    },
    {
     "cell_type": "code",
     "collapsed": false,
     "input": [
      "figure(figsize=(6,6))\n",
      "\n",
      "data = loadtxt('scatter_ex_data.txt')\n",
      "D1 = data[0]\n",
      "D2 = data[1]\n",
      "\n",
      "W = zeros(412)\n",
      "\n",
      "xticks([])\n",
      "yticks([])\n",
      "\n",
      "scatter(D1,D2,c=W)\n",
      "show()"
     ],
     "language": "python",
     "metadata": {},
     "outputs": [],
     "prompt_number": 29
    },
    {
     "cell_type": "code",
     "collapsed": false,
     "input": [
      "#Soln\n",
      "\n",
      "figure(figsize=(6,6))\n",
      "\n",
      "data = loadtxt('scatter_ex_data.txt')\n",
      "D1,D2 = data\n",
      "\n",
      "T = arctan2(D2,D1)\n",
      "\n",
      "#scatter(D1,D2, s=75, c=T, alpha=.5)\n",
      "scatter(D1,D2,c=T)\n",
      "plot()\n",
      "xlim(-1,1)\n",
      "ylim(-1,1)\n",
      "\n",
      "#colorbar()\n",
      "show()"
     ],
     "language": "python",
     "metadata": {},
     "outputs": [],
     "prompt_number": 35
    },
    {
     "cell_type": "heading",
     "level": 2,
     "metadata": {},
     "source": [
      "Summary and outlook"
     ]
    },
    {
     "cell_type": "markdown",
     "metadata": {},
     "source": [
      "In this tutorial we introduced the IPython notebook environment which should be a useful tool to analyse and visualise data throughout your degree. In this first workshop we covered the basic functioning of the notebook, important data structures such as arrays, and how to plot data and mathematical functions.\n",
      "\n",
      "In the next workshop we'll be building on the material covered here and looking in more detail into data manipulation and statistical analysis."
     ]
    },
    {
     "cell_type": "heading",
     "level": 2,
     "metadata": {},
     "source": [
      "<a id=\"reference\"></a>Reference"
     ]
    },
    {
     "cell_type": "heading",
     "level": 3,
     "metadata": {},
     "source": [
      "Line properties"
     ]
    },
    {
     "cell_type": "markdown",
     "metadata": {},
     "source": [
      "These are keywords given to the plot command see the documentation [here](http://matplotlib.org/api/lines_api.html)"
     ]
    },
    {
     "cell_type": "markdown",
     "metadata": {},
     "source": [
      "<table border=\"1\" class=\"docutils\">\n",
      "<colgroup>\n",
      "<col width=\"20%\">\n",
      "<col width=\"30%\">\n",
      "<col width=\"50%\">\n",
      "</colgroup>\n",
      "<thead valign=\"bottom\">\n",
      "<tr><th class=\"head\">Keyword</th>\n",
      "<th class=\"head\">Description</th>\n",
      "<th class=\"head\">Appearance</th>\n",
      "</tr>\n",
      "</thead>\n",
      "<tbody valign=\"top\">\n",
      "<tr><td>alpha (or a)</td>\n",
      "<td>number [0-1] - transparency</td>\n",
      "<td><img class=\"first last\" src=\"files/figures/alpha.png\" />\n",
      "</td>\n",
      "</tr>\n",
      "<tr><td>antialiased</td>\n",
      "<td>True|False - antialised rendering</td>\n",
      "<td><img class=\"first\" src=\"files/figures/aliased.png\" />\n",
      "<img class=\"last\" src=\"files/figures/antialiased.png\" />\n",
      "</td>\n",
      "</tr>\n",
      "<tr><td>color (or c)</td>\n",
      "<td>[color](http://matplotlib.org/api/colors_api.html#module-matplotlib.colors) argument - master colour</td>\n",
      "<td><img class=\"first last\" src=\"files/figures/color.png\" />\n",
      "</td>\n",
      "</tr>\n",
      "<tr><td>linestyle (or ls)</td>\n",
      "<td>string - see <a class=\"reference internal\" href=\"#line_styles\">line styles</a> below</td>\n",
      "<td>&nbsp;</td>\n",
      "</tr>\n",
      "<tr><td>linewidth (or lw)</td>\n",
      "<td>number - the line width in points</td>\n",
      "<td><img class=\"first last\" src=\"files/figures/linewidth.png\" >\n",
      "</td>\n",
      "</tr>\n",
      "<tr><td>solid_capstyle</td>\n",
      "<td>\u2018butt\u2019|\u2018round\u2019|\u2018projecting\u2019 - sets cap style</td>\n",
      "<td><img class=\"first last\" src=\"files/figures/solid_capstyle.png\" />\n",
      "</td>\n",
      "</tr>\n",
      "<tr><td>solid_joinstyle</td>\n",
      "<td>\u2018miter\u2019|\u2018round\u2019|\u2018bevel\u2019 - join style for solid lines</td>\n",
      "<td><img class=\"first last\" src=\"files/figures/solid_joinstyle.png\" />\n",
      "</td>\n",
      "</tr>\n",
      "<tr><td>dash_capstyle</td>\n",
      "<td>\u2018butt\u2019|\u2018round\u2019|\u2018projecting\u2019 - cap style for dashes</td>\n",
      "<td><img class=\"first last\" src=\"files/figures/dash_capstyle.png\" />\n",
      "</td>\n",
      "</tr>\n",
      "<tr><td>dash_joinstyle</td>\n",
      "<td>\u2018miter\u2019|\u2018round\u2019|\u2018bevel\u2019 - join style for dashes</td>\n",
      "<td><img class=\"first last\" src=\"files/figures/dash_joinstyle.png\" />\n",
      "</td>\n",
      "</tr>\n",
      "<tr><td>marker</td>\n",
      "<td>number/string - see <a class=\"reference internal\" href=\"#marker_styles\">markers</a> below</td>\n",
      "<td>&nbsp;</td>\n",
      "</tr>\n",
      "<tr><td>markeredgewidth (mew)</td>\n",
      "<td>number - line width around the marker symbol</td>\n",
      "<td><img class=\"first last\" src=\"files/figures/mew.png\" />\n",
      "</td>\n",
      "</tr>\n",
      "<tr><td>markeredgecolor (mec)</td>\n",
      "<td>[color](http://matplotlib.org/api/colors_api.html#module-matplotlib.colors) - edge color if a marker is used</td>\n",
      "<td><img class=\"first last\" src=\"files/figures/mec.png\" />\n",
      "</td>\n",
      "</tr>\n",
      "<tr><td>markerfacecolor (mfc)</td>\n",
      "<td>[color](http://matplotlib.org/api/colors_api.html#module-matplotlib.colors) - face color if a marker is used</td>\n",
      "<td><img class=\"first last\" src=\"files/figures/mfc.png\" />\n",
      "</td>\n",
      "</tr>\n",
      "<tr><td>markersize (ms)</td>\n",
      "<td>number - size of the marker in points</td>\n",
      "<td><img class=\"first last\" src=\"files/figures/ms.png\" />\n",
      "</td>\n",
      "</tr>\n",
      "</tbody>\n",
      "</table>"
     ]
    },
    {
     "cell_type": "heading",
     "level": 2,
     "metadata": {},
     "source": [
      "<a id=\"line_styles\"></a>Line Styles"
     ]
    },
    {
     "cell_type": "markdown",
     "metadata": {},
     "source": [
      "These are different options for the linestyle keyword, e.g. the function call for  a plot using the dash-dot line would be:  \n",
      "\n",
      "    plot(X,Y,linestyle='-.')"
     ]
    },
    {
     "cell_type": "markdown",
     "metadata": {},
     "source": [
      "<table border=\"1\" class=\"docutils\">\n",
      "<colgroup>\n",
      "<col width=\"16%\">\n",
      "<col width=\"32%\">\n",
      "<col width=\"53%\">\n",
      "</colgroup>\n",
      "<thead valign=\"bottom\">\n",
      "<tr><th class=\"head\">Symbol</th>\n",
      "<th class=\"head\">Description</th>\n",
      "<th class=\"head\">Appearance</th>\n",
      "</tr>\n",
      "</thead>\n",
      "<tbody valign=\"top\">\n",
      "<tr><td><tt class=\"docutils literal\">'-'</tt></td>\n",
      "<td>solid line</td>\n",
      "<td><img class=\"first last\" src=\"files/figures/linestyle--.png\" />\n",
      "</td>\n",
      "</tr>\n",
      "<tr><td><tt class=\"docutils literal\"><span class=\"pre\">'--'</span></tt></td>\n",
      "<td>dashed line</td>\n",
      "<td><img class=\"first last\" src=\"files/figures/linestyle---.png\" />\n",
      "</td>\n",
      "</tr>\n",
      "<tr><td><tt class=\"docutils literal\"><span class=\"pre\">'-.'</span></tt></td>\n",
      "<td>dash-dot line</td>\n",
      "<td><img class=\"first last\" src=\"files/figures/linestyle--dot.png\" />\n",
      "</td>\n",
      "</tr>\n",
      "<tr><td><tt class=\"docutils literal\">':'</tt></td>\n",
      "<td>dotted line</td>\n",
      "<td><img class=\"first last\" src=\"files/figures/linestyle-:.png\" />\n",
      "</td>\n",
      "</tr>\n",
      "</tbody>\n",
      "</table>"
     ]
    },
    {
     "cell_type": "heading",
     "level": 2,
     "metadata": {},
     "source": [
      "<a id=\"marker_styles\"></a>Marker styles"
     ]
    },
    {
     "cell_type": "markdown",
     "metadata": {},
     "source": [
      "These are different options for the marker keyword, e.g. the function call for a scatter plot using the triangle up markers would be:  \n",
      "\n",
      "    plot(X, Y, marker='^')"
     ]
    },
    {
     "cell_type": "markdown",
     "metadata": {},
     "source": [
      "<table border=\"1\" class=\"docutils\">\n",
      "<colgroup>\n",
      "<col width=\"16%\">\n",
      "<col width=\"32%\">\n",
      "<col width=\"53%\">\n",
      "</colgroup>\n",
      "<thead valign=\"bottom\">\n",
      "<tr><th class=\"head\">Symbol</th>\n",
      "<th class=\"head\">Description</th>\n",
      "<th class=\"head\">Appearance</th>\n",
      "</tr>\n",
      "</thead>\n",
      "<tbody valign=\"top\">\n",
      "<tr><td>0</td>\n",
      "<td>tick left</td>\n",
      "<td><img class=\"first last\" src=\"files/figures/marker-i0.png\" />\n",
      "</td>\n",
      "</tr>\n",
      "<tr><td>1</td>\n",
      "<td>tick right</td>\n",
      "<td><img class=\"first last\" src=\"files/figures/marker-i1.png\" />\n",
      "</td>\n",
      "</tr>\n",
      "<tr><td>2</td>\n",
      "<td>tick up</td>\n",
      "<td><img class=\"first last\" src=\"files/figures/marker-i2.png\" />\n",
      "</td>\n",
      "</tr>\n",
      "<tr><td>3</td>\n",
      "<td>tick down</td>\n",
      "<td><img class=\"first last\" src=\"files/figures/marker-i3.png\" />\n",
      "</td>\n",
      "</tr>\n",
      "<tr><td>4</td>\n",
      "<td>caret left</td>\n",
      "<td><img class=\"first last\" src=\"files/figures/marker-i4.png\" />\n",
      "</td>\n",
      "</tr>\n",
      "<tr><td>5</td>\n",
      "<td>caret right</td>\n",
      "<td><img class=\"first last\" src=\"files/figures/marker-i5.png\" />\n",
      "</td>\n",
      "</tr>\n",
      "<tr><td>6</td>\n",
      "<td>caret up</td>\n",
      "<td><img class=\"first last\" src=\"files/figures/marker-i6.png\" />\n",
      "</td>\n",
      "</tr>\n",
      "<tr><td>7</td>\n",
      "<td>caret down</td>\n",
      "<td><img class=\"first last\" src=\"files/figures/marker-i7.png\" />\n",
      "</td>\n",
      "</tr>\n",
      "<tr><td><tt class=\"docutils literal\">'o'</tt></td>\n",
      "<td>circle</td>\n",
      "<td><img class=\"first last\" src=\"files/figures/marker-o.png\" />\n",
      "</td>\n",
      "</tr>\n",
      "<tr><td><tt class=\"docutils literal\">'D'</tt></td>\n",
      "<td>diamond</td>\n",
      "<td><img class=\"first last\" src=\"files/figures/marker-dd.png\" />\n",
      "</td>\n",
      "</tr>\n",
      "<tr><td><tt class=\"docutils literal\">'h'</tt></td>\n",
      "<td>hexagon 1</td>\n",
      "<td><img class=\"first last\" src=\"files/figures/marker-h.png\" />\n",
      "</td>\n",
      "</tr>\n",
      "<tr><td><tt class=\"docutils literal\">'H'</tt></td>\n",
      "<td>hexagon 2</td>\n",
      "<td><img class=\"first last\" src=\"files/figures/marker-hh.png\" />\n",
      "</td>\n",
      "</tr>\n",
      "<tr><td><tt class=\"docutils literal\">'\\_'</tt></td>\n",
      "<td>horizontal line</td>\n",
      "<td><img class=\"first last\" src=\"files/figures/marker-_.png\" />\n",
      "</td>\n",
      "</tr>\n",
      "<tr><td><tt class=\"docutils literal\">'1'</tt></td>\n",
      "<td>tripod down</td>\n",
      "<td><img class=\"first last\" src=\"files/figures/marker-1.png\" />\n",
      "</td>\n",
      "</tr>\n",
      "<tr><td><tt class=\"docutils literal\">'2'</tt></td>\n",
      "<td>tripod up</td>\n",
      "<td><img class=\"first last\" src=\"files/figures/marker-2.png\" />\n",
      "</td>\n",
      "</tr>\n",
      "<tr><td><tt class=\"docutils literal\">'3'</tt></td>\n",
      "<td>tripod left</td>\n",
      "<td><img class=\"first last\" src=\"files/figures/marker-3.png\" />\n",
      "</td>\n",
      "</tr>\n",
      "<tr><td><tt class=\"docutils literal\">'4'</tt></td>\n",
      "<td>tripod right</td>\n",
      "<td><img class=\"first last\" src=\"files/figures/marker-4.png\" />\n",
      "</td>\n",
      "</tr>\n",
      "<tr><td><tt class=\"docutils literal\">'8'</tt></td>\n",
      "<td>octagon</td>\n",
      "<td><img class=\"first last\" src=\"files/figures/marker-8.png\" />\n",
      "</td>\n",
      "</tr>\n",
      "<tr><td><tt class=\"docutils literal\">'p'</tt></td>\n",
      "<td>pentagon</td>\n",
      "<td><img class=\"first last\" src=\"files/figures/marker-p.png\" />\n",
      "</td>\n",
      "</tr>\n",
      "<tr><td><tt class=\"docutils literal\">'^'</tt></td>\n",
      "<td>triangle up</td>\n",
      "<td><img class=\"first last\" src=\"files/figures/marker-^.png\" />\n",
      "</td>\n",
      "</tr>\n",
      "<tr><td><tt class=\"docutils literal\">'v'</tt></td>\n",
      "<td>triangle down</td>\n",
      "<td><img class=\"first last\" src=\"files/figures/marker-v.png\" />\n",
      "</td>\n",
      "</tr>\n",
      "<tr><td><tt class=\"docutils literal\">'&lt;'</tt></td>\n",
      "<td>triangle left</td>\n",
      "<td><img class=\"first last\" src=\"files/figures/marker-&lt;.png\" />\n",
      "</td>\n",
      "</tr>\n",
      "<tr><td><tt class=\"docutils literal\">'&gt;'</tt></td>\n",
      "<td>triangle right</td>\n",
      "<td><img class=\"first last\" src=\"files/figures/marker-&gt;.png\" />\n",
      "</td>\n",
      "</tr>\n",
      "<tr><td><tt class=\"docutils literal\">'d'</tt></td>\n",
      "<td>thin diamond</td>\n",
      "<td><img class=\"first last\" src=\"files/figures/marker-d.png\" />\n",
      "</td>\n",
      "</tr>\n",
      "<tr><td><tt class=\"docutils literal\">','</tt></td>\n",
      "<td>pixel</td>\n",
      "<td><img class=\"first last\" src=\"files/figures/marker-,.png\" />\n",
      "</td>\n",
      "</tr>\n",
      "<tr><td><tt class=\"docutils literal\">'+'</tt></td>\n",
      "<td>plus</td>\n",
      "<td><img class=\"first last\" src=\"files/figures/marker-+.png\" />\n",
      "</td>\n",
      "</tr>\n",
      "<tr><td><tt class=\"docutils literal\">'.'</tt></td>\n",
      "<td>point</td>\n",
      "<td><img class=\"first last\" src=\"files/figures/marker-dot.png\" />\n",
      "</td>\n",
      "</tr>\n",
      "<tr><td><tt class=\"docutils literal\">'s'</tt></td>\n",
      "<td>square</td>\n",
      "<td><img class=\"first last\" src=\"files/figures/marker-s.png\" />\n",
      "</td>\n",
      "</tr>\n",
      "<tr><td><tt class=\"docutils literal\">'\\*'</tt></td>\n",
      "<td>star</td>\n",
      "<td><img class=\"first last\" src=\"files/figures/marker-*.png\" />\n",
      "</td>\n",
      "</tr>\n",
      "<tr><td><tt class=\"docutils literal\">'|'</tt></td>\n",
      "<td>vertical line</td>\n",
      "<td><img class=\"first last\" src=\"files/figures/marker-|.png\" />\n",
      "</td>\n",
      "</tr>\n",
      "<tr><td><tt class=\"docutils literal\">'x'</tt></td>\n",
      "<td>cross</td>\n",
      "<td><img class=\"first last\" src=\"files/figures/marker-x.png\" />\n",
      "</td>\n",
      "</tr>\n",
      "<tr><td><tt class=\"docutils literal\"><span class=\"pre\">r'\\$\\sqrt{2}\\$'</span></tt></td>\n",
      "<td>any latex expression</td>\n",
      "<td><img class=\"first last\" src=\"files/figures/marker-latex.png\" />\n",
      "</td>\n",
      "</tr>\n",
      "</tbody>\n",
      "</table>"
     ]
    },
    {
     "cell_type": "heading",
     "level": 2,
     "metadata": {},
     "source": [
      "Further resources"
     ]
    },
    {
     "cell_type": "markdown",
     "metadata": {},
     "source": [
      "There are a lot of Python related learning resources available on the net (google is your friend!) Here are a few of the relevant links. \n",
      "\n",
      "If you take a look at the matplotlib galleries you will see there are more options than we have covered. The plotting code they use looks at bit different to the style we have used here but the gist is the same and you will be able to execute any example code you find on the web inside a notebook cell.\n",
      "\n",
      "Library documentation\n",
      "\n",
      "* [Matplotlib](http://matplotlib.org)\n",
      "    - [Matplotlib Gallery of Examples](http://matplotlib.org/gallery)\n",
      "    \n",
      "Tutorials we made use of\n",
      "\n",
      "* [Scipy lectures](http://scipy-lectures.github.io/intro/matplotlib/matplotlib.html)\n",
      "* [Euroscipy 2012 matplotlib tutorial](http://www.loria.fr/~rougier/teaching/matplotlib/)\n",
      "\n",
      "General Python resources:\n",
      "\n",
      "* [Official Python Documentation](http://docs.python.org/3.4), including\n",
      "    - [Python Tutorial](http://docs.python.org/3.4/tutorial)\n",
      "    - [Python Language Reference](http://docs.python.org/3.4/reference)\n",
      "* [IPython tutorial](http://ipython.org/ipython-doc/dev/interactive/tutorial.html)\n",
      "* [Learn Python The Hard Way](http://learnpythonthehardway.org/book/)\n",
      "* [Dive Into Python](http://www.diveintopython.net/)"
     ]
    }
   ],
   "metadata": {}
  }
 ]
}