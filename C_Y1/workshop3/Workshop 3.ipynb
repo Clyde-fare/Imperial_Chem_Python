{
 "metadata": {
  "kernelspec": {
   "codemirror_mode": {
    "name": "ipython",
    "version": 3
   },
   "display_name": "IPython (Python 3)",
   "language": "python",
   "name": "python3"
  },
  "name": "",
  "signature": "sha256:dff1b5b3999e9c5af66128ba6bc2aa0b06f0c9d956d5bddfee1f216c96193626"
 },
 "nbformat": 3,
 "nbformat_minor": 0,
 "worksheets": [
  {
   "cells": [
    {
     "cell_type": "markdown",
     "metadata": {},
     "source": [
      "# An Introduction to Plotting and Data Analysis in Python Workshop 3\n",
      "[Clyde Fare](mailto://c.fare12@imperial.ac.uk) and [Jo\u00e3o Pedro Malhado](mailto://malhado@imperial.ac.uk), Imperial College London. \n",
      "\n",
      "The notebook is based on Dr. Johansson's scientific Python lectures and licensed under a [Creative Commons Attribution 3.0 (CC-by) license](http://creativecommons.org/licenses/by/3.0/us)"
     ]
    },
    {
     "cell_type": "markdown",
     "metadata": {},
     "source": [
      "Overview\n",
      "--------\n",
      "During this workshop we will recap what we covered in workshop 2 then build on it covering creation of our own mathematical functions, fitting to non linear functions and 3d plotting.\n",
      "\n",
      "This is an interactive tutorial - as you go through it any time you see something that looks like this:\n",
      "\n",
      "    a = \"Hello\"\n",
      "   \n",
      "that's followed by an empty *code cell* (a light grey rectangle with a label like *\"In[ ]\"*), you should \n",
      "type the expression in the code cell, hit Shift+Return to *execute* it, and note the output.\n",
      "\n",
      "Limit copying and pasting to cells requiring more than 5 lines! You'll learn the concepts better if you type them out yourself.\n",
      "\n",
      "Warning periodically save your work by pressing the save icon above (We'll cover the other icons later but if you want to know what they are now hover your cursor over them)"
     ]
    },
    {
     "cell_type": "markdown",
     "metadata": {},
     "source": [
      "As usual let's import pylab so that we have access to the plotting and statistical functions it contains\n",
      "\n",
      "    %pylab inline"
     ]
    },
    {
     "cell_type": "code",
     "collapsed": false,
     "input": [],
     "language": "python",
     "metadata": {},
     "outputs": []
    },
    {
     "cell_type": "heading",
     "level": 1,
     "metadata": {},
     "source": [
      "Recap from workshop 2"
     ]
    },
    {
     "cell_type": "heading",
     "level": 2,
     "metadata": {},
     "source": [
      "Reading and writing data files"
     ]
    },
    {
     "cell_type": "markdown",
     "metadata": {},
     "source": [
      "We learned to load and record arrays using the **loadtxt** and **savetxt** functions\n",
      "\n",
      "    test_data = loadtxt('ideal_gas_data.txt')\n",
      "    test_data"
     ]
    },
    {
     "cell_type": "code",
     "collapsed": false,
     "input": [],
     "language": "python",
     "metadata": {},
     "outputs": []
    },
    {
     "cell_type": "heading",
     "level": 2,
     "metadata": {},
     "source": [
      "Basic statistics"
     ]
    },
    {
     "cell_type": "markdown",
     "metadata": {},
     "source": [
      "We used basic statistical functions like the mean, standard deviation and standard error as well constructing histograms of our data.\n",
      "\n",
      "    mean(test_data, axis=0)"
     ]
    },
    {
     "cell_type": "code",
     "collapsed": false,
     "input": [],
     "language": "python",
     "metadata": {},
     "outputs": []
    },
    {
     "cell_type": "heading",
     "level": 2,
     "metadata": {},
     "source": [
      "Filtering"
     ]
    },
    {
     "cell_type": "markdown",
     "metadata": {},
     "source": [
      "We filtered data based on value\n",
      "\n",
      "    temp = test_data[:,0]\n",
      "    test_data[temp<=360]"
     ]
    },
    {
     "cell_type": "code",
     "collapsed": false,
     "input": [],
     "language": "python",
     "metadata": {},
     "outputs": []
    },
    {
     "cell_type": "heading",
     "level": 2,
     "metadata": {},
     "source": [
      "Linear Fitting"
     ]
    },
    {
     "cell_type": "markdown",
     "metadata": {},
     "source": [
      "And learned to use polyfit to extract coefficients defining a straight line:\n",
      "\n",
      "    filtered_temp=test_data[:,0]\n",
      "    filtered_pressure=test_data[:,1]\n",
      "    \n",
      "    polyfit(filtered_temp, filtered_pressure, 1, cov=True)"
     ]
    },
    {
     "cell_type": "code",
     "collapsed": false,
     "input": [],
     "language": "python",
     "metadata": {},
     "outputs": []
    },
    {
     "cell_type": "markdown",
     "metadata": {},
     "source": [
      "And to plot the resulting straight line alongside the original data\n",
      "\n",
      "    poly_out = polyfit(filtered_temp,filtered_pressure,1,cov=True)\n",
      "    params=poly_out[0]\n",
      "    m=params[0]\n",
      "    c=params[1]\n",
      "    plot(filtered_temp,filtered_pressure,marker='o', linestyle='')\n",
      "    plot(filtered_temp, m*filtered_temp + c, linestyle='--')\n",
      "    show()"
     ]
    },
    {
     "cell_type": "code",
     "collapsed": false,
     "input": [],
     "language": "python",
     "metadata": {},
     "outputs": []
    },
    {
     "cell_type": "heading",
     "level": 1,
     "metadata": {},
     "source": [
      "Going further"
     ]
    },
    {
     "cell_type": "markdown",
     "metadata": {},
     "source": [
      "What we would like to do is to go beyond fitting simple straight lines and fit some more complicated functions. We will be doing that presently, but first will introduce some features of the python language we'll be using."
     ]
    },
    {
     "cell_type": "heading",
     "level": 2,
     "metadata": {},
     "source": [
      "Modules"
     ]
    },
    {
     "cell_type": "markdown",
     "metadata": {},
     "source": [
      "It would be a great pain if everytime we wanted some new functionality we had to build it ourselves luckily there is a way to import pre-existing code in the form as modules.\n",
      "\n",
      "Inside your notebook directory you have a file called \"workshop_3_functions.py\" which contains two functions 'fibonacci' and 'factorial' which we want to use in our current notebook. There are several ways we can import and use them.\n",
      "\n",
      "We can import the whole module and call your functions from it via a dot and the name of the function we want:\n",
      "\n",
      "    import workshop_3_functions\n",
      "\n",
      "    workshop_3_functions.factorial(10)\n",
      "   "
     ]
    },
    {
     "cell_type": "code",
     "collapsed": false,
     "input": [],
     "language": "python",
     "metadata": {},
     "outputs": []
    },
    {
     "cell_type": "markdown",
     "metadata": {},
     "source": [
      "You can do the same thing but choosing to refer to your module by a different (usually shorter) name:    \n",
      "    \n",
      "    import workshop_3_functions as wrk3_f\n",
      "\n",
      "    wrk3_f.factorial(10)"
     ]
    },
    {
     "cell_type": "code",
     "collapsed": false,
     "input": [],
     "language": "python",
     "metadata": {},
     "outputs": []
    },
    {
     "cell_type": "markdown",
     "metadata": {},
     "source": [
      "We can choose to extract one (or more) of the functions directly, in which case we no longer need to make the module explicit when calling it\n",
      "\n",
      "    from workshop_3_functions import fibonacci\n",
      "\n",
      "    fibonacci(10)"
     ]
    },
    {
     "cell_type": "code",
     "collapsed": false,
     "input": [],
     "language": "python",
     "metadata": {},
     "outputs": []
    },
    {
     "cell_type": "markdown",
     "metadata": {},
     "source": [
      "We can extract all functions contained in the module\n",
      "\n",
      "    from workshop_3_functions import *\n",
      "\n",
      "    factorial(10)"
     ]
    },
    {
     "cell_type": "code",
     "collapsed": false,
     "input": [],
     "language": "python",
     "metadata": {},
     "outputs": []
    },
    {
     "cell_type": "markdown",
     "metadata": {},
     "source": [
      "The downside of options 3 and particularly 4 is that you might accidentally import a function that has the same name as another variable or function being used. Option 2 is generally considered best practice.\n",
      "\n",
      "The scientific python distribution has a lot of useful modules [built in](http://docs.continuum.io/anaconda/pkgs.html) these can be imported (regardless of directory) in the same way:\n",
      "\n",
      "    import numpy as np\n",
      "    np.tanh(0.5)"
     ]
    },
    {
     "cell_type": "code",
     "collapsed": false,
     "input": [],
     "language": "python",
     "metadata": {},
     "outputs": []
    },
    {
     "cell_type": "markdown",
     "metadata": {},
     "source": [
      "Once a function is imported once in a notebook it is accessible from all the cells.\n",
      "\n",
      "    np.tanh(1.5)"
     ]
    },
    {
     "cell_type": "code",
     "collapsed": false,
     "input": [],
     "language": "python",
     "metadata": {},
     "outputs": []
    },
    {
     "cell_type": "markdown",
     "metadata": {},
     "source": [
      "**When writing scripts we almost always put the import statements at the beginning of the file that way it's immediately clear what the code we are using depends upon.**\n",
      "\n",
      "One thing to note is that we've actually been using modules all the way through. The %pylab command is really just a cheat for loading several different libraries:\n",
      "\n",
      "%pylab really does all of this!:\n",
      "\n",
      "    import numpy\n",
      "    import matplotlib\n",
      "    from matplotlib import pylab, mlab, pyplot\n",
      "    np = numpy\n",
      "    plt = pyplot\n",
      "\n",
      "    from IPython.core.pylabtools import figsize, getfigs\n",
      "\n",
      "    from pylab import *\n",
      "    from numpy import *\n",
      "    \n",
      "(no need to enter this as it's already loaded)"
     ]
    },
    {
     "cell_type": "heading",
     "level": 2,
     "metadata": {},
     "source": [
      "Functions"
     ]
    },
    {
     "cell_type": "markdown",
     "metadata": {},
     "source": [
      "You are familiar with the concept of a mathematical function. A mathematical function is as operation that receives an argument or variable and performs a transformation on it. When we write the mathematical expression\n",
      "\n",
      "$$f(x)=\\frac{x^3}{3} ,$$\n",
      "\n",
      "we are defining an operation $f$, which given an argument $x$ will return the result $\\frac{x^3}{3}$.\n",
      "\n",
      "In programming the concept of a *function* is largely extended and plays a central role in it. Functions will not only transform numbers into other number upon a mathematical opperation, but they can transform a mouse click into a window opening event for example. However the simple idea still remains: an operation that receives an argument and returns some result based on the argument it has received.\n",
      "\n",
      "We will leave more complicating functions for another time and will go back to our mathematical function $f$, which is a perfectly valid function we can define and use in python. In mathematics functions are given one letter names, we can be a bit more verbose and will call our function *one_third_of_cube*:\n",
      "\n",
      "    def one_third_of_cube(x):\n",
      "        \"Function returning one third of the cube of the argument.\"\n",
      "        return x**3/3"
     ]
    },
    {
     "cell_type": "code",
     "collapsed": false,
     "input": [],
     "language": "python",
     "metadata": {},
     "outputs": []
    },
    {
     "cell_type": "markdown",
     "metadata": {},
     "source": [
      "We will see how defining a function works in a moment, but let's make use of it first:\n",
      "\n",
      "    one_third_of_cube(2)"
     ]
    },
    {
     "cell_type": "code",
     "collapsed": false,
     "input": [],
     "language": "python",
     "metadata": {},
     "outputs": []
    },
    {
     "cell_type": "markdown",
     "metadata": {},
     "source": [
      "The advantage of having defined a function is that we can then repeat the opperation for any other value of the argument\n",
      "\n",
      "    one_third_of_cube(3)"
     ]
    },
    {
     "cell_type": "code",
     "collapsed": false,
     "input": [],
     "language": "python",
     "metadata": {},
     "outputs": []
    },
    {
     "cell_type": "markdown",
     "metadata": {},
     "source": [
      "    one_third_of_cube(3/2)"
     ]
    },
    {
     "cell_type": "code",
     "collapsed": false,
     "input": [],
     "language": "python",
     "metadata": {},
     "outputs": []
    },
    {
     "cell_type": "markdown",
     "metadata": {},
     "source": [
      "The format for defining our own functions is as follows:\n",
      "\n",
      "Step 1: write a function *signature*\n",
      "----\n",
      "\n",
      "A function *signature* tells you how the function will be called. It starts with the keyword *def*, which tells Python that you are *defining* a function. Then comes a space, the name of your function, an open parenthesis, the comma-separated input arguments for your function, a close parenthesis, and a colon. Here's what a function signature looks like for a function that takes no arguments:\n",
      "\n",
      "    def my_function():\n",
      "\n",
      "Here's what a function signature looks like for a function that takes one argument called $x1$:\n",
      "\n",
      "    def my_function(x1):\n",
      "\n",
      "And one for a function that takes two arguments:\n",
      "\n",
      "    def my_function(x1,x2):\n",
      "\n",
      "An important point to note is that *x1* and *x2* in the line above are not variables we may have defined outside the function. They will be names used solely inside the function, just as the $x$ in $f(x)=x^2$ is just a label that could be called $w$ as in $f(w)=w^2$."
     ]
    },
    {
     "cell_type": "markdown",
     "metadata": {},
     "source": [
      "Step 1.5: document string\n",
      "---\n",
      "\n",
      "After our signature lines we can add a piece of text enclosed in quotes explaining to the human reader what the function is doing.\n",
      "\n",
      "    def my_function(x1):\n",
      "        \"Explanation of what the my_function does.\"\n",
      "        \n",
      "Again, this is a matter of best practice. When function get very complicated and many lines long, it is very useful to have a short explanation text."
     ]
    },
    {
     "cell_type": "markdown",
     "metadata": {},
     "source": [
      "Step 2: do useful work inside the function\n",
      "----\n",
      "\n",
      "Underneath the function signature you do your useful work. **Everything inside the function is indented**, so Python knows that it is a part of the function.\n",
      "\n",
      "We can use the function's argument labels just like we can use variables defined outside of functions.\n",
      "\n",
      "    def add(x, y):\n",
      "        \"Adds two numbers.\"\n",
      "        result = x + y"
     ]
    },
    {
     "cell_type": "markdown",
     "metadata": {},
     "source": [
      "Step 3: return something\n",
      "----\n",
      "\n",
      "If you want to be able to assign a variable to the output of a function, the function has to return that output using the return keyword.\n",
      "\n",
      "    def add(x, y):\n",
      "        \"Adds two numbers.\"\n",
      "        result = x + y\n",
      "        return result\n",
      "\n",
      "or, even shorter:\n",
      "\n",
      "    def add(x, y):\n",
      "        \"Adds two numbers.\"\n",
      "        return x + y\n",
      "\n",
      "Once you execute a return, you are done with the function -- you don't get to do any more work. That means if you have a function like this:\n",
      "\n",
      "    def add(x, y):\n",
      "        \"Adds two numbers.\"\n",
      "        return x + y\n",
      "        z = x**2 + y**2\n",
      "        \n",
      "The line z = x\\**2 + y\\**2 will never execute"
     ]
    },
    {
     "cell_type": "heading",
     "level": 2,
     "metadata": {},
     "source": [
      "Non Linear fitting"
     ]
    },
    {
     "cell_type": "markdown",
     "metadata": {},
     "source": [
      "We will now focus on fitting more complex functions to data. For this purpose we will be using function *curve_fit* which we have to load from a module:\n",
      "\n",
      "    from scipy.optimize import curve_fit"
     ]
    },
    {
     "cell_type": "code",
     "collapsed": false,
     "input": [],
     "language": "python",
     "metadata": {},
     "outputs": []
    },
    {
     "cell_type": "markdown",
     "metadata": {},
     "source": [
      "Our working example is going to be the spectrum of a so called [black body](http://en.wikipedia.org/wiki/Black_body) (essentially an object in perfect thermal equilbrium). First we'll load the data:\n",
      "    \n",
      "    spec_data = loadtxt('black_body.txt')\n",
      "    wavelengths=spec_data[:,0]\n",
      "    intensities=spec_data[:,1]\n",
      "    intensity_err=spec_data[:,2]"
     ]
    },
    {
     "cell_type": "code",
     "collapsed": false,
     "input": [],
     "language": "python",
     "metadata": {},
     "outputs": []
    },
    {
     "cell_type": "markdown",
     "metadata": {},
     "source": [
      "Let's take a look at it, using a smaller marker size to actually see the small error bars\n",
      "    \n",
      "    figure(figsize=[18,12])\n",
      "    errorbar(wavelengths, intensities, yerr=intensity_err, linestyle='',marker='o',markersize=2)\n",
      "    show()"
     ]
    },
    {
     "cell_type": "code",
     "collapsed": false,
     "input": [],
     "language": "python",
     "metadata": {},
     "outputs": []
    },
    {
     "cell_type": "markdown",
     "metadata": {},
     "source": [
      "Ok now we're good to go. The law that describes this emission is [Planck's law](http://en.wikipedia.org/wiki/Planck%27s_law):\n",
      "\n",
      "$$I_T(\\lambda) =\\frac{2 hc^2}{\\lambda^5} \\frac{1}{e^{h c/(\\lambda k_\\mathrm{B}T)} - 1}$$\n",
      "\n",
      "Don't worry too much about the equation, you will learn a little bit about how finding this equation lead to revolutions in our understanding of matter during your introduction to quantum mechanics. For now we'll just take for granted that it tells us how much light is emitted at a particular wavelength and how this varies with temperature. \n",
      "\n",
      "Really when we talk about fitting we mean we're varying the parameters an equation depends upon (in this case the temperature) until what the function predicts is as close as possible to the data we have. We might do this because we want to make new predictions or in many cases we are interested in the parameters themselves. We can use the above equation to turn a spectrometer into a thermometer for black-bodies. \n",
      "\n",
      "We'll do that here to figure out how hot the object was that emitted the radiation our experiment captured.\n",
      "\n",
      "Planck's law involves some constants, namely Plank's constant *h*, the speed of light *c* and Boltzmann's constant *k*, so we'll import those from a python module and then use them in our function:\n",
      "\n",
      "    from scipy.constants import h,c,k"
     ]
    },
    {
     "cell_type": "code",
     "collapsed": false,
     "input": [],
     "language": "python",
     "metadata": {},
     "outputs": []
    },
    {
     "cell_type": "markdown",
     "metadata": {},
     "source": [
      "Now we need to translate Planck's law into a form the computer understands using our newly learned *function* syntax. For the purposes of fitting, the order in which we write the arguments of our function is important. The fitting parameters, in this case temperature, must be the last arguments in our function signature\n",
      "\n",
      "    def intensity_f(wavelength, temperature):\n",
      "        \"Blackbody radiation intensity\"\n",
      "        return 2*h*c**2/wavelength**5 * 1/(e**(h*c/(wavelength*k*temperature))-1)"
     ]
    },
    {
     "cell_type": "code",
     "collapsed": false,
     "input": [],
     "language": "python",
     "metadata": {},
     "outputs": []
    },
    {
     "cell_type": "markdown",
     "metadata": {},
     "source": [
      "Let's make sure our function is working by plotting the variation of intensity with wavelength for a temperature of 5800 Kelvin (about the temperature of the sun):\n",
      "\n",
      "    test_wavelengths = linspace(1e-10,2e-6,200)\n",
      "    test_intensities = intensity_f(test_wavelengths, 5800)\n",
      "    plot(test_wavelengths, test_intensities)\n",
      "    show()"
     ]
    },
    {
     "cell_type": "code",
     "collapsed": false,
     "input": [],
     "language": "python",
     "metadata": {},
     "outputs": []
    },
    {
     "cell_type": "markdown",
     "metadata": {},
     "source": [
      "(This is actually not such an awful model of the spectral output of the sun, the region of greatest intensity is the visible spectrum spanning 400-700 nm)"
     ]
    },
    {
     "cell_type": "markdown",
     "metadata": {},
     "source": [
      "Moving on to fit our data points. *curve_fit* works in a similar way to the polyfit function we used before except that it takes as its first argument the function we are trying to fit:\n",
      "\n",
      "    curve_fit(intensity_f, wavelengths, intensities)"
     ]
    },
    {
     "cell_type": "code",
     "collapsed": false,
     "input": [],
     "language": "python",
     "metadata": {},
     "outputs": []
    },
    {
     "cell_type": "markdown",
     "metadata": {},
     "source": [
      "It gives us back the coefficients we are interested in and like polyfit gives us a matrix of numbers whose the square root of the diagonal elements give us the uncertainties assoiated with the coefficients. In this case we only have one coefficient, the temperature, so the covariance matrix is only a single number. In this case though we have a problem: we're getting back a coefficient with the value of one and an uncertainty of infinity! If we use this coefficient and take a look at what intensities our function predicts for the wavelengths in our data set we see:\n",
      "\n",
      "    intensity_f(wavelengths, 1)"
     ]
    },
    {
     "cell_type": "code",
     "collapsed": false,
     "input": [],
     "language": "python",
     "metadata": {},
     "outputs": []
    },
    {
     "cell_type": "markdown",
     "metadata": {},
     "source": [
      "These values are insanely small - hundred of orders of magnitude too small! What's gone wrong?\n",
      "In general, a non-linear fit procedure needs an initial guess value for the fitting parameter, which will then be adjusted to best fit the data. In the case above we didn't specify a guess for what our inital parameter should be and that meant curve_fit used it's default guess value, which happens to be 1. That turned out to be a bad guess, and the algorithm was not able to converge to a sensible value.\n",
      "\n",
      "The down side of doing a non linear fit is that we need to start off with vaguely sensible parameter values otherwise our fitting process can go badly (or not so badly) wrong. Usually you want to try and use some kind of physical knowledge to guide your guess, though sometimes you have to just use trial and error. In our case the default guess means our starting point is a prediction for 1 degree Kelvin which is too low a temperature. We will use the *p0* keyword to specify a guess of 150 Kelvin (which is still a low temperature from the perspective of synthetic chemistry but is not verging on absolute zero)\n",
      "\n",
      "    curve_fit(intensity_f, wavelengths, intensities, p0=[150])"
     ]
    },
    {
     "cell_type": "code",
     "collapsed": false,
     "input": [],
     "language": "python",
     "metadata": {},
     "outputs": []
    },
    {
     "cell_type": "markdown",
     "metadata": {},
     "source": [
      "Ah much better now, we have a predicted coefficient of ~298 Kelvin i.e. room temperature and the curve_fit is reporting an uncertainty of just 0.16. However, we have implicitly assumed that all data points have the same uncertainty, which is not the case. Just as polyfit can take into account different uncertainties in our data so that more weight is associated with data points that are more certain, curve_fit can do the same.\n",
      "\n",
      "    curve_fit(intensity_f, wavelengths, intensities, p0=[150], sigma=intensity_err)"
     ]
    },
    {
     "cell_type": "code",
     "collapsed": false,
     "input": [],
     "language": "python",
     "metadata": {},
     "outputs": []
    },
    {
     "cell_type": "markdown",
     "metadata": {},
     "source": [
      "When we used polyfit we passed in the weights associated with each points, where the weight was $\\frac{1}{\\sigma^2}$, curve_fit is doing exacty the same thing but we give it the sigma values and it works out the weighting for us. Thus we pass the sigma values directly to the function. \n",
      "\n",
      "Doing so means our uncertainty drops to just 0.073.\n",
      "\n",
      "    curve_out = curve_fit(intensity_f, wavelengths, intensities, p0=[150], sigma=intensity_err)\n",
      "    curve_params = curve_out[0]\n",
      "    curve_cov = curve_out[1]\n",
      "    curve_cov **0.5"
     ]
    },
    {
     "cell_type": "code",
     "collapsed": false,
     "input": [],
     "language": "python",
     "metadata": {},
     "outputs": []
    },
    {
     "cell_type": "markdown",
     "metadata": {},
     "source": [
      "Let's use our fitted function to generate the fitted spectrum and plot out predicted_intensities alongside our original data\n",
      "\n",
      "    predicted_temp = curve_params[0]\n",
      "    test_wavelengths = linspace(1e-9,5e-5,100)\n",
      "    predicted_intensities = intensity_f(test_wavelengths, predicted_temp)\n",
      "   \n",
      "    figure(figsize=[18,12])\n",
      "    errorbar(wavelengths, intensities, yerr=intensity_err, linestyle='',marker='o', markersize=2 )\n",
      "    plot(test_wavelengths, predicted_intensities, linestyle='--')\n",
      "    show()"
     ]
    },
    {
     "cell_type": "code",
     "collapsed": false,
     "input": [],
     "language": "python",
     "metadata": {},
     "outputs": []
    },
    {
     "cell_type": "markdown",
     "metadata": {},
     "source": [
      "For completeness we'll add the units these things are measured in as labels, and scale the units so that our figure has nicer values along the axes.\n",
      "\n",
      "    wavelengths_new_units = wavelengths/1e-6\n",
      "    intensities_new_units = intensities/1e7\n",
      "    intensity_err_new_units = intensity_err/1e7\n",
      "\n",
      "    figure(figsize=[18,12])\n",
      "    errorbar(wavelengths_new_units, intensities_new_units, yerr=intensity_err_new_units, linestyle='',marker='o', markersize=2, label='Data')\n",
      "    plot(test_wavelengths/1e-6, predicted_intensities/1e7, linestyle='--', label='Theoretical Blackbody')\n",
      "    title('Intensity vs. Wavelength @298K', fontsize=18)\n",
      "    xlabel('Wavelength / $\\mu m$', fontsize=18)\n",
      "    ylabel(r'Intensities / $1 \\times 10^7 W.sr^{-1}$', fontsize=18)\n",
      "    xlim(0,50.5)\n",
      "    legend()\n",
      "    show()"
     ]
    },
    {
     "cell_type": "code",
     "collapsed": false,
     "input": [],
     "language": "python",
     "metadata": {},
     "outputs": []
    },
    {
     "cell_type": "markdown",
     "metadata": {},
     "source": [
      "As we expected from the very low uncertainty associated with our predicted temperature the fit is excellent. We conclude that the body emitting the spectrum our data set captured was at ~298 Kelvin - room temperature."
     ]
    },
    {
     "cell_type": "heading",
     "level": 2,
     "metadata": {},
     "source": [
      "3D Plotting"
     ]
    },
    {
     "cell_type": "markdown",
     "metadata": {},
     "source": [
      "In addition to creating two dimensional plots we can make use of matplotlib's functionality to make three dimensional plots though there is a bit of extra overhead to do so.\n",
      "\n",
      "We'll need to use the Axes3D object so lets import that now\n",
      "\n",
      "    from mpl_toolkits.mplot3d.axes3d import Axes3D"
     ]
    },
    {
     "cell_type": "code",
     "collapsed": false,
     "input": [],
     "language": "python",
     "metadata": {},
     "outputs": []
    },
    {
     "cell_type": "markdown",
     "metadata": {},
     "source": [
      "This type of 3D plots is particularly useful to study functions of more than one variable. For example a function that takes an x and y coordinate and returns the sine of the distance between the point they define and the origin:\n",
      "\n",
      "$$f(x,y)=\\sin\\left(\\sqrt{x^2+y^2}\\right)$$"
     ]
    },
    {
     "cell_type": "markdown",
     "metadata": {},
     "source": [
      "We will write this as a python function as\n",
      "\n",
      "    def z_f(x, y):\n",
      "        \"Sine of the distance to the origin.\"\n",
      "        r = (x**2 + y**2)**0.5\n",
      "        return sin(r)"
     ]
    },
    {
     "cell_type": "code",
     "collapsed": false,
     "input": [],
     "language": "python",
     "metadata": {},
     "outputs": []
    },
    {
     "cell_type": "markdown",
     "metadata": {},
     "source": [
      "To plot three dimensional data most of the time we need the data to be in to the form of grids. \n",
      "\n",
      "The way we do this is to specify the region of x and y that we are interested in (using arrays as before), then use the **meshgrid** function to transform this into the grid form that we need. Here we choose both our x and our y values to run from -4 to 4 in 100 steps.\n",
      "\n",
      "    x_data = linspace(-4,4,100)\n",
      "    y_data = linspace(-4,4,100)\n",
      "\n",
      "    mesh_data = meshgrid(x_data, y_data)\n",
      "\n",
      "    X_data = mesh_data[0]\n",
      "    Y_data = mesh_data[1]"
     ]
    },
    {
     "cell_type": "code",
     "collapsed": false,
     "input": [],
     "language": "python",
     "metadata": {},
     "outputs": []
    },
    {
     "cell_type": "markdown",
     "metadata": {},
     "source": [
      "Once we have our transformed variables we can use our function to generate the Z_values (i.e. our function values)\n",
      "\n",
      "    Z_data = z_f(X_data, Y_data)"
     ]
    },
    {
     "cell_type": "code",
     "collapsed": false,
     "input": [],
     "language": "python",
     "metadata": {},
     "outputs": []
    },
    {
     "cell_type": "markdown",
     "metadata": {},
     "source": [
      "We are now in a position to plot the data. The plotting commands are similar to those we used before, though we have to assign more variables than we did when creating two dimensional figures.\n",
      "\n",
      "    figure(figsize=(10,7.5))\n",
      "    ax = gca(projection='3d')\n",
      "    ax.plot_wireframe(X_data, Y_data, Z_data)\n",
      "    show()"
     ]
    },
    {
     "cell_type": "code",
     "collapsed": false,
     "input": [],
     "language": "python",
     "metadata": {},
     "outputs": []
    },
    {
     "cell_type": "markdown",
     "metadata": {},
     "source": [
      "We can control how fine our wireframe mesh is using the *rstride* and *cstride* keywords, these define how many of the wires that make up the mesh to skip out, so a higher a number makes for a sparser plot.\n",
      "\n",
      "    figure(figsize=(10,7.5))\n",
      "    ax = gca(projection='3d')\n",
      "    ax.plot_wireframe(X_data, Y_data, Z_data, rstride=3, cstride=3)\n",
      "    show()"
     ]
    },
    {
     "cell_type": "code",
     "collapsed": false,
     "input": [],
     "language": "python",
     "metadata": {},
     "outputs": []
    },
    {
     "cell_type": "markdown",
     "metadata": {},
     "source": [
      "We can also create a surface plot where the holes are filled in by using the *plot_surface* function\n",
      "\n",
      "    figure(figsize=(10,7.5))\n",
      "    ax = gca(projection='3d')\n",
      "    ax.plot_surface(X_data, Y_data, Z_data, rstride=3, cstride=3)\n",
      "    show()"
     ]
    },
    {
     "cell_type": "code",
     "collapsed": false,
     "input": [],
     "language": "python",
     "metadata": {},
     "outputs": []
    },
    {
     "cell_type": "markdown",
     "metadata": {},
     "source": [
      "We can use the z-value to colour the plot using the *cmap* keyword (there are multiple ways to assign colors to z values many such *colormaps* are defined inside pylab's [cm](http://www.scipy.org/Cookbook/Matplotlib/Show_colormaps) object):\n",
      "\n",
      "    figure(figsize=(10,7.5))\n",
      "    ax = gca(projection='3d')\n",
      "    ax.plot_surface(X_data, Y_data, Z_data, rstride=3, cstride=3, cmap=cm.hot)\n",
      "    show()"
     ]
    },
    {
     "cell_type": "code",
     "collapsed": false,
     "input": [],
     "language": "python",
     "metadata": {},
     "outputs": []
    },
    {
     "cell_type": "markdown",
     "metadata": {},
     "source": [
      "If we capture the plot to a variable we can add a colour bar (we'll use a different colormap this time)\n",
      "\n",
      "    figure(figsize=(10,7.5))\n",
      "    ax = gca(projection='3d')\n",
      "    p=ax.plot_surface(X_data, Y_data, Z_data, rstride=3, cstride=3, cmap=cm.hot)\n",
      "    colorbar(p, shrink=0.5)\n",
      "    show()"
     ]
    },
    {
     "cell_type": "code",
     "collapsed": false,
     "input": [],
     "language": "python",
     "metadata": {},
     "outputs": []
    },
    {
     "cell_type": "markdown",
     "metadata": {},
     "source": [
      "Notice we set the shrink keyword see why by creating the same figure as above below except omitting this keyword"
     ]
    },
    {
     "cell_type": "markdown",
     "metadata": {},
     "source": [
      "We can control the width of the linest defining the mesh using the *linewidth* keyword\n",
      "\n",
      "    figure(figsize=(10,7.5))\n",
      "    ax = gca(projection='3d')\n",
      "    p=ax.plot_surface(X_data, Y_data, Z_data, rstride=2, cstride=2, linewidth=.25, cmap=cm.coolwarm)\n",
      "    colorbar(p, shrink=0.5)\n",
      "    show()"
     ]
    },
    {
     "cell_type": "code",
     "collapsed": false,
     "input": [],
     "language": "python",
     "metadata": {},
     "outputs": []
    },
    {
     "cell_type": "markdown",
     "metadata": {},
     "source": [
      "The perspective of our plot can be controled the *view_init* function. The first argument corresponds to and angle in degrees measered from the $xy$ plane to the position of the \"viewer\" (elevation with respect to the base plane), while the second argument controls the angle in degrees with respect to the $xz$ plane. Try a couple of values yourself.\n",
      "\n",
      "    figure(figsize=(10,7.5))\n",
      "    ax = gca(projection='3d')\n",
      "    p=ax.plot_surface(X_data, Y_data, Z_data, rstride=2, cstride=2, linewidth=.25, cmap=cm.coolwarm)\n",
      "    colorbar(p, shrink=0.5)\n",
      "    ax.view_init(60,20)\n",
      "    show()"
     ]
    },
    {
     "cell_type": "code",
     "collapsed": false,
     "input": [],
     "language": "python",
     "metadata": {},
     "outputs": []
    },
    {
     "cell_type": "heading",
     "level": 3,
     "metadata": {},
     "source": [
      "Projections"
     ]
    },
    {
     "cell_type": "markdown",
     "metadata": {},
     "source": [
      "While the surfaces we have neen generating are very neet, offten less information is better, and some projection of the surface on to a plane is more clear. Two types of plots do this well, a top down view and a contour plot.\n",
      "\n",
      "We can produce a top down view of the data using the *pcolor* function:\n",
      "\n",
      "    figure(figsize=(8,6))\n",
      "    ax = gca()\n",
      "    p = ax.pcolor(X_data, Y_data, Z_data, cmap=cm.coolwarm)\n",
      "    colorbar(p, ax=ax)\n",
      "    show()"
     ]
    },
    {
     "cell_type": "code",
     "collapsed": false,
     "input": [],
     "language": "python",
     "metadata": {},
     "outputs": []
    },
    {
     "cell_type": "markdown",
     "metadata": {},
     "source": [
      "A countour plot is simpler\n",
      "\n",
      "    figure(figsize=(6,6))\n",
      "    contour(X_data,Y_data,Z_data)\n",
      "    show()"
     ]
    },
    {
     "cell_type": "code",
     "collapsed": false,
     "input": [],
     "language": "python",
     "metadata": {},
     "outputs": []
    },
    {
     "cell_type": "markdown",
     "metadata": {},
     "source": [
      "We can combine both contour plots and surfaces in the same plot:\n",
      "\n",
      "    figure(figsize=(10,7.5))\n",
      "    ax = gca(projection='3d')\n",
      "    ax.plot_surface(X_data, Y_data, Z_data, rstride=2, cstride=2, alpha=0.25, cmap=cm.hot)\n",
      "    ax.contour(X_data, Y_data, Z_data, zdir='z', offset=-2, cmap=cm.hot)\n",
      "    ax.set_zlim(-2,2)\n",
      "    show()"
     ]
    },
    {
     "cell_type": "code",
     "collapsed": false,
     "input": [],
     "language": "python",
     "metadata": {},
     "outputs": []
    },
    {
     "cell_type": "markdown",
     "metadata": {},
     "source": [
      "Or with a filled contour plot:\n",
      "    \n",
      "    figure(figsize=(10,7.5))\n",
      "    ax = gca(projection='3d')\n",
      "    p=ax.plot_surface(X_data, Y_data, Z_data, rstride=2, cstride=2, alpha=0.25, cmap=cm.hot)\n",
      "    ax.contourf(X_data, Y_data, Z_data, zdir='z', offset=-2, cmap=cm.hot)\n",
      "    ax.set_zlim(-2,2)\n",
      "    colorbar(p, ax=ax, shrink=0.5)\n",
      "    show()"
     ]
    },
    {
     "cell_type": "code",
     "collapsed": false,
     "input": [],
     "language": "python",
     "metadata": {},
     "outputs": []
    },
    {
     "cell_type": "heading",
     "level": 2,
     "metadata": {},
     "source": [
      "Bonus Material!"
     ]
    },
    {
     "cell_type": "markdown",
     "metadata": {},
     "source": [
      "The core content of the these workshops ends here. Below we will look at a couple of more advanced features, that can be very useful and are kind of fun too."
     ]
    },
    {
     "cell_type": "heading",
     "level": 3,
     "metadata": {},
     "source": [
      "Print"
     ]
    },
    {
     "cell_type": "markdown",
     "metadata": {},
     "source": [
      "A utility function that we don't really use but is very common in python is **print**, this lets you output multiple  variables at once with a clean output style.\n",
      "\n",
      "    a=1\n",
      "    b=2\n",
      "    print(\"Here is 'a':\", a, \"And here is 'b':\", b)"
     ]
    },
    {
     "cell_type": "code",
     "collapsed": false,
     "input": [],
     "language": "python",
     "metadata": {},
     "outputs": []
    },
    {
     "cell_type": "heading",
     "level": 3,
     "metadata": {},
     "source": [
      "Interact"
     ]
    },
    {
     "cell_type": "markdown",
     "metadata": {},
     "source": [
      "Armed with our ability to build functions we can do something a bit snazzy with our plotting. We can make them interactive! Suppose we have a simple $y=x^2 +c_{0}x$ function that we want plot, let's plot 50 points it for x between 0 and 10, with $c_0$ set to 1: \n",
      "\n",
      "    c0 = 1\n",
      "    x = linspace(0,10,50)\n",
      "    y = x**2  + c0*x\n",
      "    plot(x,y, linestyle='', marker='o')\n",
      "    show()"
     ]
    },
    {
     "cell_type": "code",
     "collapsed": false,
     "input": [],
     "language": "python",
     "metadata": {},
     "outputs": []
    },
    {
     "cell_type": "markdown",
     "metadata": {},
     "source": [
      "Now let's suppose we want to see how the function changes as the coefficient infront of x changes. \n",
      "\n",
      "We could make several different plots picking different values for this coefficient at looking at them. That's a reasonable thing to do but we could also make the figure dynamically change as we vary our coefficients.\n",
      "\n",
      "    from IPython.html.widgets import interact\n",
      "\n",
      "    @interact(c1=[-10,10,0.01])\n",
      "    def interact_poly(c1):\n",
      "        x = linspace(0, 10, 50)\n",
      "        y = x**2 + c1*x\n",
      "        plot(x, y, linestyle='', marker='o')\n",
      "        show()"
     ]
    },
    {
     "cell_type": "code",
     "collapsed": false,
     "input": [],
     "language": "python",
     "metadata": {},
     "outputs": []
    },
    {
     "cell_type": "markdown",
     "metadata": {},
     "source": [
      "What we've done is to bundle all the plotting commands inside a function that we've called \"interact_poly\". The coefficient we're interested in examining interactively (c0) has been made an argument of this function.\n",
      "\n",
      "We then use the special function 'interact' (which we've had to import). The way this special function works and an explanation of the '@' syntax it uses are beyond the scope of this course but we can use it as we do in the above code cell. We place an '@interact' on the line above the \"interact_poly\" function signature. Inside the @interact function we put the parameter we want to vary which is c0 in our case and we tell interact we want to look at c0 between -10 and 10 in steps that are 0.01 large. The machinary does the rest for us giving us a slider bar that sets the value of c0. "
     ]
    },
    {
     "cell_type": "markdown",
     "metadata": {},
     "source": [
      "We can also do this with more than one coefficient\n",
      "\n",
      "    @interact(c1=[-10,10,0.01], c2=[-5,5,1])\n",
      "    def interact_poly(c1,c2):\n",
      "        x = linspace(0, 10, 50)\n",
      "        y = c2*x**2 + c1*x \n",
      "        plot(x, y, linestyle='', marker='o')\n",
      "        ylim(-500,500)\n",
      "        show()"
     ]
    },
    {
     "cell_type": "code",
     "collapsed": false,
     "input": [],
     "language": "python",
     "metadata": {},
     "outputs": []
    },
    {
     "cell_type": "markdown",
     "metadata": {},
     "source": [
      "In fact this machinary is extremely flexible.\n",
      "\n",
      "We will visualise a modified form of the same function we plotted above where an extra term has been added.\n",
      "\n",
      "    def mod_z_f(x, y, shift):\n",
      "        r = (x**2 + y**2)**0.5\n",
      "        return sin(r+shift)"
     ]
    },
    {
     "cell_type": "code",
     "collapsed": false,
     "input": [],
     "language": "python",
     "metadata": {},
     "outputs": []
    },
    {
     "cell_type": "markdown",
     "metadata": {},
     "source": [
      "As before we define range of x values and y values we want to visualize and convert the arrays to grid form for the 3d plot.\n",
      "\n",
      "    anim_x_data = linspace(-8,8,40)\n",
      "    anim_y_data = linspace(-8,8,40)\n",
      "\n",
      "    anim_mesh_data = meshgrid(anim_x_data, anim_y_data)\n",
      "\n",
      "    anim_X_data = anim_mesh_data[0]\n",
      "    anim_Y_data = anim_mesh_data[1]"
     ]
    },
    {
     "cell_type": "code",
     "collapsed": false,
     "input": [],
     "language": "python",
     "metadata": {},
     "outputs": []
    },
    {
     "cell_type": "markdown",
     "metadata": {},
     "source": [
      "Now we will use interact to plot the function allowing us to dynamically specify the value for our additional *shift* parameter\n",
      "\n",
      "    @interact(shift=[-4*pi,4*pi,pi/6])\n",
      "    def flying_volcanoe(shift):\n",
      "        anim_Z_data = mod_z_f(anim_X_data, anim_Y_data,shift)\n",
      "        ax = gca(projection='3d')\n",
      "        ax.plot_surface(anim_X_data, anim_Y_data, anim_Z_data, cstride=2, rstride=1, linewidth=.25, cmap=cm.hot)\n",
      "        show()"
     ]
    },
    {
     "cell_type": "code",
     "collapsed": false,
     "input": [],
     "language": "python",
     "metadata": {},
     "outputs": []
    },
    {
     "cell_type": "markdown",
     "metadata": {},
     "source": [
      "Feel free to experiment!"
     ]
    },
    {
     "cell_type": "heading",
     "level": 2,
     "metadata": {},
     "source": [
      "Summary"
     ]
    },
    {
     "cell_type": "markdown",
     "metadata": {},
     "source": [
      "In this workshop we moved from fitting simple linear relation to more complex non-linear fits. Although non-linear fits are more flexible, they are in general less robust then linear fits, and they need an adequate choice of initial parameter guess.\n",
      "\n",
      "We also explorer several ways in which complex data can be visualized."
     ]
    },
    {
     "cell_type": "heading",
     "level": 2,
     "metadata": {},
     "source": [
      "Exercises"
     ]
    },
    {
     "cell_type": "heading",
     "level": 3,
     "metadata": {},
     "source": [
      "Exercise 1"
     ]
    },
    {
     "cell_type": "markdown",
     "metadata": {},
     "source": [
      "In the same directory as this notebook is a file called leps.py. It defines a function of two variables called \"get_energy\", which gives the potential energy surface of a simple chemical reaction. Import this function and use it to compute the energy for x=1 and y=1 "
     ]
    },
    {
     "cell_type": "code",
     "collapsed": false,
     "input": [],
     "language": "python",
     "metadata": {},
     "outputs": []
    },
    {
     "cell_type": "markdown",
     "metadata": {},
     "source": [
      "Create a figure with the surface defined by this function. Define your grid using x and y values that range from 0.2 to 4. Use ax.set_zlim() to set z-axis viewing window, ax.view_init to set the camera angle, as well as setting the rstride, cstride, and cmap keywords such that you get the following figure: \n",
      "    \n",
      "<img src=\"files/leps.png\" />"
     ]
    },
    {
     "cell_type": "code",
     "collapsed": false,
     "input": [],
     "language": "python",
     "metadata": {},
     "outputs": []
    },
    {
     "cell_type": "markdown",
     "metadata": {},
     "source": [
      "Bonus: use interact to create an interactive 3d plot where slider bars are used to control the camera angles"
     ]
    },
    {
     "cell_type": "code",
     "collapsed": false,
     "input": [],
     "language": "python",
     "metadata": {},
     "outputs": []
    },
    {
     "cell_type": "heading",
     "level": 2,
     "metadata": {},
     "source": [
      "Resources"
     ]
    },
    {
     "cell_type": "markdown",
     "metadata": {},
     "source": [
      "* http://www.matpmlotlib.org - The project web page for matplotlib.\n",
      "* https://github.com/matplotlib/matplotlib - The source code for matplotlib.\n",
      "* http://matplotlib.org/gallery.html - A large gallery showcaseing various types of plots matplotlib can create. Highly recommended!\n",
      "* http://www.loria.fr/~rougier/teaching/matplotlib - A good matplotlib tutorial.\n",
      "* http://scipy-lectures.github.io/matplotlib/matplotlib.html - Another good matplotlib reference."
     ]
    }
   ],
   "metadata": {}
  }
 ]
}