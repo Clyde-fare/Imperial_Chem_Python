{
 "metadata": {
  "name": "",
  "signature": "sha256:8ab28fd04252c4a19757ffe33c84db943b1dbd1b045a92976f4909695323aa90"
 },
 "nbformat": 3,
 "nbformat_minor": 0,
 "worksheets": [
  {
   "cells": [
    {
     "cell_type": "markdown",
     "metadata": {},
     "source": [
      "# An Introduction to Plotting and Data Analysis in Python Workshop 2\n",
      "[Clyde Fare](mailto://c.fare12@imperial.ac.uk) and [Jo\u00e3o Pedro Malhado](mailto://malhado@imperial.ac.uk), Imperial College London. \n",
      "\n",
      "Notebook is adapted from material by <font size=6>insert refs here</font> and is licensed under a [Creative Commons Attribution 3.0 (CC-by) license](http://creativecommons.org/licenses/by/3.0/us)"
     ]
    },
    {
     "cell_type": "markdown",
     "metadata": {},
     "source": [
      "Overview\n",
      "--------\n",
      "During this workshop we will recap what we covered in workshop then build on it covering construction of your own mathematical functions, the importing of modules to extend the functionality we have access to and reading and writing of data and plots. We will then learn to fit data and use basic statistics to characterise how good our fit is.\n",
      "\n",
      "This is an interactive tutorial - as you go through it any time you see something that looks like this:\n",
      "\n",
      "    a = \"Hello\"\n",
      "   \n",
      "that's followed by an empty *code cell* (a light grey rectangle with a label like *\"In[ ]\"*), you should \n",
      "type the expression in the code cell, hit Shift+Return to *execute* it, and note the output.\n",
      "\n",
      "No copying and pasting! You'll learn the concepts better if you type them out yourself.\n",
      "\n",
      "Warning periodically save your work by pressing the save icon above (We'll cover the other icons later but if you want to know what they are now hover your cursor over them)"
     ]
    },
    {
     "cell_type": "heading",
     "level": 1,
     "metadata": {},
     "source": [
      "Recap from workshop 1"
     ]
    },
    {
     "cell_type": "heading",
     "level": 2,
     "metadata": {},
     "source": [
      "Notebook"
     ]
    },
    {
     "cell_type": "markdown",
     "metadata": {},
     "source": [
      "We are working inside an interactive Python Notebook. It is composed of code cells where Python code can be executed and non code cells, where descriptive material can be placed.\n",
      "\n",
      "The icons at the top of the page allow us to save the page, add new cells, cut, copy and paste cells, move cells up or down, execute the highlighted cell, halt and reset the current python kernel.\n",
      "\n",
      "We can convert a highlighted cell to a different type of cell using the dropdown menu to the immediate right of the icons.\n",
      "\n",
      "We can execute a code cell/render a markdown cell with Shift+Return.\n",
      "\n",
      "If we want to have direct access to the plotting and numerical functions and include our plots directly in the notebook we need to execute\n",
      "\n",
      "    %pylab inline"
     ]
    },
    {
     "cell_type": "code",
     "collapsed": false,
     "input": [
      "%pylab inline\n",
      "set_printoptions(linewidth=120)"
     ],
     "language": "python",
     "metadata": {},
     "outputs": [
      {
       "output_type": "stream",
       "stream": "stdout",
       "text": [
        "Populating the interactive namespace from numpy and matplotlib\n"
       ]
      }
     ],
     "prompt_number": 2
    },
    {
     "cell_type": "heading",
     "level": 2,
     "metadata": {},
     "source": [
      "Variables"
     ]
    },
    {
     "cell_type": "markdown",
     "metadata": {},
     "source": [
      "Variables, allow us to refer to data objects with names:\n",
      "    \n",
      "    x=3\n",
      "    y=array([1,2,3])\n",
      "    z=x*y"
     ]
    },
    {
     "cell_type": "code",
     "collapsed": false,
     "input": [],
     "language": "python",
     "metadata": {},
     "outputs": []
    },
    {
     "cell_type": "heading",
     "level": 2,
     "metadata": {},
     "source": [
      "Arrays"
     ]
    },
    {
     "cell_type": "markdown",
     "metadata": {},
     "source": [
      "Arrays are collections of numbers, that we can operate on collectively and are the containers for our data. There are special commands **linspace** and **arange** for creating arrays.\n",
      "\n",
      "**linspace** creates arrays of equally spaced numbers where we specify the initial value, the final value and how many numbers we want inbetween\n",
      "\n",
      "    linspace(-pi, pi, 10)"
     ]
    },
    {
     "cell_type": "markdown",
     "metadata": {},
     "source": [
      "linspace(-pi, pi, 10)"
     ]
    },
    {
     "cell_type": "markdown",
     "metadata": {},
     "source": [
      "**arange** creates arrays of equally spaced numbers where we specify the initial value, a stop value (that will not be included), and the interval size:\n",
      "    \n",
      "    arange(0, 10, 3)"
     ]
    },
    {
     "cell_type": "code",
     "collapsed": false,
     "input": [
      "arange(0, 10, 3)"
     ],
     "language": "python",
     "metadata": {},
     "outputs": [
      {
       "metadata": {},
       "output_type": "pyout",
       "prompt_number": 16,
       "text": [
        "array([0, 3, 6, 9])"
       ]
      }
     ],
     "prompt_number": 16
    },
    {
     "cell_type": "markdown",
     "metadata": {},
     "source": [
      "And we can refer to elements of the data in an array by using square brackets and the index of the element we want. Remembering the the first element corresponds to index zero.\n",
      "\n",
      "    arange(0,10,1)[0]"
     ]
    },
    {
     "cell_type": "code",
     "collapsed": false,
     "input": [
      "arange(0,10,1)[0]"
     ],
     "language": "python",
     "metadata": {},
     "outputs": [
      {
       "metadata": {},
       "output_type": "pyout",
       "prompt_number": 17,
       "text": [
        "0"
       ]
      }
     ],
     "prompt_number": 17
    },
    {
     "cell_type": "markdown",
     "metadata": {},
     "source": [
      "    arange(0,10,1)[5]"
     ]
    },
    {
     "cell_type": "code",
     "collapsed": false,
     "input": [
      "arange(0,10,1)[5]"
     ],
     "language": "python",
     "metadata": {},
     "outputs": [
      {
       "metadata": {},
       "output_type": "pyout",
       "prompt_number": 18,
       "text": [
        "5"
       ]
      }
     ],
     "prompt_number": 18
    },
    {
     "cell_type": "markdown",
     "metadata": {},
     "source": [
      "We can also refer to slices of the data using a syntax similar to arange where a colon is used in place of the comma.\n",
      "\n",
      "    my_array = arange(0,10,1)\n",
      "    my_array[0:10:3]"
     ]
    },
    {
     "cell_type": "code",
     "collapsed": false,
     "input": [
      "my_array = arange(0,10,1)\n",
      "my_array[0:10:3]"
     ],
     "language": "python",
     "metadata": {},
     "outputs": [
      {
       "metadata": {},
       "output_type": "pyout",
       "prompt_number": 19,
       "text": [
        "array([0, 3, 6, 9])"
       ]
      }
     ],
     "prompt_number": 19
    },
    {
     "cell_type": "markdown",
     "metadata": {},
     "source": [
      "Thus the above alice takes the zeroth (first) element of my_array and then every 3rd element up to but not including 10.\n",
      "\n",
      "If the first index is omitted, it we start at the zeroth index.\n",
      "If the second index is omitted we move up to but not including the N+1th element\n",
      "If the third index is omitted the step size is 1 i.e we include all elements between the first index and the second index - 1\n",
      "\n",
      "Thus\n",
      "    my_array[::]"
     ]
    },
    {
     "cell_type": "code",
     "collapsed": false,
     "input": [
      "my_array[::]"
     ],
     "language": "python",
     "metadata": {},
     "outputs": [
      {
       "metadata": {},
       "output_type": "pyout",
       "prompt_number": 20,
       "text": [
        "array([0, 1, 2, 3, 4, 5, 6, 7, 8, 9])"
       ]
      }
     ],
     "prompt_number": 20
    },
    {
     "cell_type": "markdown",
     "metadata": {},
     "source": [
      "Arrays can be multidimensional\n",
      "\n",
      "    my_2d_array = array([[0, 3, 6, 9], [1, 4, 7, 10], [2, 5, 8, 11], [3, 6, 9, 12]])\n",
      "    my_2d_array"
     ]
    },
    {
     "cell_type": "code",
     "collapsed": false,
     "input": [
      "my_2d_array = array([[0, 3, 6, 9], [1, 4, 7, 10], [2, 5, 8, 11], [3, 6, 9, 12]])\n",
      "my_2d_array"
     ],
     "language": "python",
     "metadata": {},
     "outputs": [
      {
       "metadata": {},
       "output_type": "pyout",
       "prompt_number": 21,
       "text": [
        "array([[ 0,  3,  6,  9],\n",
        "       [ 1,  4,  7, 10],\n",
        "       [ 2,  5,  8, 11],\n",
        "       [ 3,  6,  9, 12]])"
       ]
      }
     ],
     "prompt_number": 21
    },
    {
     "cell_type": "markdown",
     "metadata": {},
     "source": [
      "Where indices now refer to the indidual rows:\n",
      "    \n",
      "    my_2d_array[1]"
     ]
    },
    {
     "cell_type": "code",
     "collapsed": false,
     "input": [
      "my_2d_array[1]"
     ],
     "language": "python",
     "metadata": {},
     "outputs": [
      {
       "metadata": {},
       "output_type": "pyout",
       "prompt_number": 22,
       "text": [
        "array([ 1,  4,  7, 10])"
       ]
      }
     ],
     "prompt_number": 22
    },
    {
     "cell_type": "markdown",
     "metadata": {},
     "source": [
      "We can apply the same indexing mechanism as we did for 1d array except we use a comma to seperate the indexing that refers to the rows and the indexing that refers to the columns:\n",
      "    my_2d_array[1:4:2,0:3:2]"
     ]
    },
    {
     "cell_type": "code",
     "collapsed": false,
     "input": [
      "my_2d_array[1:4:2,0:3:2]"
     ],
     "language": "python",
     "metadata": {},
     "outputs": [
      {
       "metadata": {},
       "output_type": "pyout",
       "prompt_number": 23,
       "text": [
        "array([[1, 7],\n",
        "       [3, 9]])"
       ]
      }
     ],
     "prompt_number": 23
    },
    {
     "cell_type": "markdown",
     "metadata": {},
     "source": [
      "Which is summarised by the following diagram:\n",
      "\n",
      "<img src=numpy_indexing.png></img>"
     ]
    },
    {
     "cell_type": "markdown",
     "metadata": {},
     "source": [
      "We can perform mathematical operations on arrays, which performs the operation on all elements of the array\n",
      "\n",
      "    sin(my_array)"
     ]
    },
    {
     "cell_type": "code",
     "collapsed": false,
     "input": [
      "sin(my_array)"
     ],
     "language": "python",
     "metadata": {},
     "outputs": [
      {
       "metadata": {},
       "output_type": "pyout",
       "prompt_number": 24,
       "text": [
        "array([ 0.        ,  0.84147098,  0.90929743,  0.14112001, -0.7568025 , -0.95892427, -0.2794155 ,  0.6569866 ,\n",
        "        0.98935825,  0.41211849])"
       ]
      }
     ],
     "prompt_number": 24
    },
    {
     "cell_type": "heading",
     "level": 2,
     "metadata": {},
     "source": [
      "Plots"
     ]
    },
    {
     "cell_type": "markdown",
     "metadata": {},
     "source": [
      "We can plot using the **plot** and **scatter** commands and display using the **show** commands\n",
      "\n",
      "    plot(arange(10), arange(10)**2, label='$x^2$')\n",
      "    scatter(arange(10), arange(10)**3, label='$x^3$' )\n",
      "    title('My reminder plot')\n",
      "    xlabel('x')\n",
      "    ylabel('y')\n",
      "    legend()\n",
      "    show()"
     ]
    },
    {
     "cell_type": "code",
     "collapsed": false,
     "input": [
      "plot(arange(10), arange(10)**2, label='$x^2$')\n",
      "scatter(arange(10), arange(10)**3, label='$x^3$' )\n",
      "title('My reminder plot')\n",
      "xlabel('x')\n",
      "ylabel('y')\n",
      "legend()\n",
      "show()"
     ],
     "language": "python",
     "metadata": {},
     "outputs": [
      {
       "metadata": {},
       "output_type": "display_data",
       "png": "[encoded data removed]",
       "text": [
        "<matplotlib.figure.Figure at 0x7f9ec5d79f10>"
       ]
      }
     ],
     "prompt_number": 6
    },
    {
     "cell_type": "markdown",
     "metadata": {},
     "source": [
      "There are many options\n",
      "\n",
      "    age= arange(10)\n",
      "    p_human = age**2\n",
      "    p_badger = age**3\n",
      "\n",
      "    plot(age, p_human, linewidth=2.5, linestyle=\"--\", label='Humans')\n",
      "    scatter(age, p_badger, marker='^', color='red', label='Badgers' )\n",
      "    title('My reminder plot')\n",
      "    xlabel('Age')\n",
      "    ylabel('Power')\n",
      "    legend()\n",
      "    show()"
     ]
    },
    {
     "cell_type": "code",
     "collapsed": false,
     "input": [
      "age= arange(10)\n",
      "p_human = age**2\n",
      "p_badger = age**3\n",
      "\n",
      "plot(age, p_human, linewidth=2.5, linestyle=\"--\", label='Humans')\n",
      "scatter(age, p_badger, marker='^', color='red', label='Badgers' )\n",
      "title('My reminder plot')\n",
      "xlabel('Age')\n",
      "ylabel('Power')\n",
      "legend()\n",
      "show()"
     ],
     "language": "python",
     "metadata": {},
     "outputs": [
      {
       "metadata": {},
       "output_type": "display_data",
       "png": "[encoded data removed]",
       "text": [
        "<matplotlib.figure.Figure at 0x7f9eabb62250>"
       ]
      }
     ],
     "prompt_number": 7
    },
    {
     "cell_type": "heading",
     "level": 1,
     "metadata": {},
     "source": [
      "Going further"
     ]
    },
    {
     "cell_type": "code",
     "collapsed": false,
     "input": [],
     "language": "python",
     "metadata": {},
     "outputs": [],
     "prompt_number": 101
    },
    {
     "cell_type": "markdown",
     "metadata": {},
     "source": [
      "There are many occasions where we want to plot data on a logarthimic scale. Here's an example of titrating an acid against a base. We want to plot the volume of base added against the total pH. We know that $pH=-log_{10}([H^{+}])$ So we could transform the hydrogen ion concentration to PH our selves and plot the results.:\n",
      "\n",
      "    ph_data = loadtxt('ph_data.txt')\n",
      "    plot(ph_data[:,0], ph_data[:,1])"
     ]
    },
    {
     "cell_type": "code",
     "collapsed": false,
     "input": [],
     "language": "python",
     "metadata": {},
     "outputs": [
      {
       "metadata": {},
       "output_type": "pyout",
       "prompt_number": 112,
       "text": [
        "[<matplotlib.lines.Line2D at 0x7f9eab4b4350>]"
       ]
      },
      {
       "metadata": {},
       "output_type": "display_data",
       "png": "[encoded data removed]",
       "text": [
        "<matplotlib.figure.Figure at 0x7f9eab5ad390>"
       ]
      }
     ],
     "prompt_number": 112
    },
    {
     "cell_type": "markdown",
     "metadata": {},
     "source": [
      "An alternative is to make use of the **xscale** and **yscale** functions. Which will automatically plot a log of the data for us and change the axis labels appropriately.\n",
      "\n",
      "    ph_data = loadtxt('ph_data.txt')\n",
      "    yscale('log')\n",
      "    plot(ph_data[:,0], -ph_data[:,1])"
     ]
    },
    {
     "cell_type": "code",
     "collapsed": false,
     "input": [
      "ph_data = loadtxt('ph_data.txt')\n",
      "yscale('log')\n",
      "plot(ph_data[:,0], ph_data[:,4])"
     ],
     "language": "python",
     "metadata": {},
     "outputs": [
      {
       "metadata": {},
       "output_type": "pyout",
       "prompt_number": 116,
       "text": [
        "[<matplotlib.lines.Line2D at 0x7f9eab457e10>]"
       ]
      },
      {
       "metadata": {},
       "output_type": "display_data",
       "png": "[encoded data removed]",
       "text": [
        "<matplotlib.figure.Figure at 0x7f9eab214a90>"
       ]
      }
     ],
     "prompt_number": 116
    },
    {
     "cell_type": "heading",
     "level": 3,
     "metadata": {},
     "source": [
      "Semilog plots"
     ]
    },
    {
     "cell_type": "code",
     "collapsed": false,
     "input": [],
     "language": "python",
     "metadata": {},
     "outputs": []
    },
    {
     "cell_type": "markdown",
     "metadata": {},
     "source": [
      "There are many occasions where we want to plot data on a logarthimic scale to. Doing so simply requires adding the **xscale** or **yscale** keywords.\n",
      "\n",
      "    h_size = age**2- age\n",
      "    b_size = age**3- age**2 + 10\n",
      "    plot(age, h_size, linewidth=2.5, linestyle=\"--\", label='Humans')\n",
      "    scatter(age, b_size, marker='^', color='red', label='Badgers' )\n",
      "    yscale('log')\n",
      "    title('My reminder plot')\n",
      "    xlabel('Age')\n",
      "    ylabel('Log Power')\n",
      "    legend()\n",
      "    show()"
     ]
    },
    {
     "cell_type": "code",
     "collapsed": false,
     "input": [
      "\n",
      "\n",
      "h_size = age**2- age\n",
      "b_size = -age**3 + age**2 + 10\n",
      "plot(age, h_size, linewidth=2.5, linestyle=\"--\", label='Humans')\n",
      "scatter(age, b_size, marker='^', color='red', label='Badgers' )\n",
      "yscale('log')\n",
      "title('My reminder plot')\n",
      "xlabel('Age')\n",
      "ylabel('Log Size')\n",
      "legend()\n",
      "show()"
     ],
     "language": "python",
     "metadata": {},
     "outputs": [
      {
       "metadata": {},
       "output_type": "display_data",
       "png": "[encoded data removed]",
       "text": [
        "<matplotlib.figure.Figure at 0x7f9eabbe7250>"
       ]
      }
     ],
     "prompt_number": 12
    },
    {
     "cell_type": "markdown",
     "metadata": {},
     "source": [
      "This changes the axis to reflect the logarithmic scale."
     ]
    },
    {
     "cell_type": "markdown",
     "metadata": {},
     "source": [
      "The above is equivalent to:\n",
      "    \n",
      "    h_size = age**2- age\n",
      "    b_size = -age**3 + age**2 + 10\n",
      "    plot(age, log(h_size), linewidth=2.5, linestyle=\"--\", label='Humans')\n",
      "    scatter(age, log(b_size), marker='^', color='red', label='Badgers' )\n",
      "    title('My reminder plot')\n",
      "    xlabel('Age')\n",
      "    ylabel('Log Size')\n",
      "    legend()\n",
      "    show()"
     ]
    },
    {
     "cell_type": "code",
     "collapsed": false,
     "input": [],
     "language": "python",
     "metadata": {},
     "outputs": [
      {
       "output_type": "stream",
       "stream": "stderr",
       "text": [
        "-c:3: RuntimeWarning: divide by zero encountered in log\n",
        "-c:4: RuntimeWarning: invalid value encountered in log\n"
       ]
      },
      {
       "metadata": {},
       "output_type": "display_data",
       "png": "[encoded data removed]",
       "text": [
        "<matplotlib.figure.Figure at 0x7f9ed0975f10>"
       ]
      }
     ],
     "prompt_number": 10
    },
    {
     "cell_type": "markdown",
     "metadata": {},
     "source": [
      "Notice we get a warning if we do it this way. This is because the data we are trying to take the logarithm of contains negative values, and the logarithm of a negative number is not real. This warning does not occur if we use the **yscale** function but the same problem is present. By default the negative values are replaced by extremely small values who logarithm is essentially zero. An alternative behaviour is simply to omit those values. The **xscale** and **yscale** take keywords to do this\n",
      "\n",
      "    h_size = age**2- age\n",
      "    b_size = -age**3 + age**2 + 10\n",
      "    plot(age, h_size, linewidth=2.5, linestyle=\"--\", label='Humans')\n",
      "    scatter(age, b_size, marker='^', color='red', label='Badgers' )\n",
      "    yscale('log', nonypos='scale')\n",
      "    title('My reminder plot')\n",
      "    xlabel('Age')\n",
      "    ylabel('Log Size')\n",
      "    legend()\n",
      "    show()"
     ]
    },
    {
     "cell_type": "code",
     "collapsed": false,
     "input": [
      "h_size = age**2- age\n",
      "b_size = -age**3 + age**2 + 10\n",
      "plot(age, h_size, linewidth=2.5, linestyle=\"--\", label='Humans')\n",
      "scatter(age, b_size, marker='^', color='red', label='Badgers' )\n",
      "yscale('log', nonypos='')\n",
      "title('My reminder plot')\n",
      "xlabel('Age')\n",
      "ylabel('Log Size')\n",
      "legend()\n",
      "show()"
     ],
     "language": "python",
     "metadata": {},
     "outputs": [
      {
       "metadata": {},
       "output_type": "display_data",
       "png": "[encoded data removed]",
       "text": [
        "<matplotlib.figure.Figure at 0x7f9eab96d950>"
       ]
      }
     ],
     "prompt_number": 100
    },
    {
     "cell_type": "heading",
     "level": 3,
     "metadata": {},
     "source": [
      "Loglog plots"
     ]
    },
    {
     "cell_type": "code",
     "collapsed": false,
     "input": [
      "We can do the same thing to both axis to create a loglog plot. "
     ],
     "language": "python",
     "metadata": {},
     "outputs": []
    },
    {
     "cell_type": "code",
     "collapsed": false,
     "input": [
      "h_size = age**2- age\n",
      "b_size = -age**3 + age**2 + 10\n",
      "plot(age, h_size, linewidth=2.5, linestyle=\"--\", label='Humans')\n",
      "scatter(age, b_size, marker='^', color='red', label='Badgers' )\n",
      "xscale('log')\n",
      "yscale('log')\n",
      "title('My reminder plot')\n",
      "xlabel('Log Age')\n",
      "ylabel('Log Size')\n",
      "legend()\n",
      "show()"
     ],
     "language": "python",
     "metadata": {},
     "outputs": [
      {
       "ename": "NameError",
       "evalue": "name 'age' is not defined",
       "output_type": "pyerr",
       "traceback": [
        "\u001b[1;31m---------------------------------------------------------------------------\u001b[0m\n\u001b[1;31mNameError\u001b[0m                                 Traceback (most recent call last)",
        "\u001b[1;32m<ipython-input-1-b74d6fd7b219>\u001b[0m in \u001b[0;36m<module>\u001b[1;34m()\u001b[0m\n\u001b[1;32m----> 1\u001b[1;33m \u001b[0mh_size\u001b[0m \u001b[1;33m=\u001b[0m \u001b[0mage\u001b[0m\u001b[1;33m**\u001b[0m\u001b[1;36m2\u001b[0m\u001b[1;33m-\u001b[0m \u001b[0mage\u001b[0m\u001b[1;33m\u001b[0m\u001b[0m\n\u001b[0m\u001b[0;32m      2\u001b[0m \u001b[0mb_size\u001b[0m \u001b[1;33m=\u001b[0m \u001b[1;33m-\u001b[0m\u001b[0mage\u001b[0m\u001b[1;33m**\u001b[0m\u001b[1;36m3\u001b[0m \u001b[1;33m+\u001b[0m \u001b[0mage\u001b[0m\u001b[1;33m**\u001b[0m\u001b[1;36m2\u001b[0m \u001b[1;33m+\u001b[0m \u001b[1;36m10\u001b[0m\u001b[1;33m\u001b[0m\u001b[0m\n\u001b[0;32m      3\u001b[0m \u001b[0mplot\u001b[0m\u001b[1;33m(\u001b[0m\u001b[0mage\u001b[0m\u001b[1;33m,\u001b[0m \u001b[0mh_size\u001b[0m\u001b[1;33m,\u001b[0m \u001b[0mlinewidth\u001b[0m\u001b[1;33m=\u001b[0m\u001b[1;36m2.5\u001b[0m\u001b[1;33m,\u001b[0m \u001b[0mlinestyle\u001b[0m\u001b[1;33m=\u001b[0m\u001b[1;34m\"--\"\u001b[0m\u001b[1;33m,\u001b[0m \u001b[0mlabel\u001b[0m\u001b[1;33m=\u001b[0m\u001b[1;34m'Humans'\u001b[0m\u001b[1;33m)\u001b[0m\u001b[1;33m\u001b[0m\u001b[0m\n\u001b[0;32m      4\u001b[0m \u001b[0mscatter\u001b[0m\u001b[1;33m(\u001b[0m\u001b[0mage\u001b[0m\u001b[1;33m,\u001b[0m \u001b[0mb_size\u001b[0m\u001b[1;33m,\u001b[0m \u001b[0mmarker\u001b[0m\u001b[1;33m=\u001b[0m\u001b[1;34m'^'\u001b[0m\u001b[1;33m,\u001b[0m \u001b[0mcolor\u001b[0m\u001b[1;33m=\u001b[0m\u001b[1;34m'red'\u001b[0m\u001b[1;33m,\u001b[0m \u001b[0mlabel\u001b[0m\u001b[1;33m=\u001b[0m\u001b[1;34m'Badgers'\u001b[0m \u001b[1;33m)\u001b[0m\u001b[1;33m\u001b[0m\u001b[0m\n\u001b[0;32m      5\u001b[0m \u001b[0mxscale\u001b[0m\u001b[1;33m(\u001b[0m\u001b[1;34m'log'\u001b[0m\u001b[1;33m)\u001b[0m\u001b[1;33m\u001b[0m\u001b[0m\n",
        "\u001b[1;31mNameError\u001b[0m: name 'age' is not defined"
       ]
      }
     ],
     "prompt_number": 1
    },
    {
     "cell_type": "code",
     "collapsed": false,
     "input": [],
     "language": "python",
     "metadata": {},
     "outputs": []
    },
    {
     "cell_type": "heading",
     "level": 2,
     "metadata": {},
     "source": [
      "Functions"
     ]
    },
    {
     "cell_type": "markdown",
     "metadata": {},
     "source": [
      "Thus far we've used a couple of basic mathematical functions, namely **cos** and **sin**, unsurprisingly there are [many more](http://docs.scipy.org/doc/numpy/reference/routines.math.html). What's more you can construct your own.\n",
      "\n",
      "We'll construct an $x^2$ function:\n",
      "\n",
      "    def our_x2_function(x):\n",
      "        return x**2"
     ]
    },
    {
     "cell_type": "code",
     "collapsed": false,
     "input": [
      "def our_x2_function(x):\n",
      "    return x**2"
     ],
     "language": "python",
     "metadata": {},
     "outputs": []
    },
    {
     "cell_type": "markdown",
     "metadata": {},
     "source": [
      "Let's see if it works:\n",
      "\n",
      "    our_x2_function(10)"
     ]
    },
    {
     "cell_type": "code",
     "collapsed": false,
     "input": [],
     "language": "python",
     "metadata": {},
     "outputs": []
    },
    {
     "cell_type": "markdown",
     "metadata": {},
     "source": [
      "The format for defining our own functions is as follows:\n",
      "\n",
      "Step 1: write a function *signature*\n",
      "----\n",
      "\n",
      "A function *signature* tells you how the function will be called. It starts with the keyword *def*, which tells Python that you are *defining* a function. Then comes a space, the name of your function, an open parenthesis, the comma-separated input parameters for your function, a close parenthesis, and a colon. Here's what a function signature looks like for a function that takes no arguments:\n",
      "\n",
      "    def my_function():\n",
      "\n",
      "Here's what a function signature looks like for a function that takes one argument called string:\n",
      "\n",
      "    def my_function(my_string):\n",
      "\n",
      "And one for a function that takes two arguments:\n",
      "\n",
      "    def my_function(my_array, my_integer):\n",
      "\n",
      "Parameters should have names that usefully describe what they are used for in the function.\n",
      "\n",
      "We've used the words \"parameters\" and \"arguments\" seemingly interchangeably to reference the input to functions. The distinction isn't really important right now, but if you're curious: in function signatures the input is called parameters, and when you are calling the function the input is called arguments.\n"
     ]
    },
    {
     "cell_type": "markdown",
     "metadata": {},
     "source": [
      "Step 2: do useful work inside the function\n",
      "----\n",
      "\n",
      "Underneath the function signature you do your useful work. Everything inside the function is indented, so Python knows that it is a part of the function.\n",
      "\n",
      "We can use the variables passed into the function as parameters, just like we can use variables once we define them outside of functions.\n",
      "\n",
      "    def add(x, y):\n",
      "        result = x + y"
     ]
    },
    {
     "cell_type": "markdown",
     "metadata": {},
     "source": [
      "Step 3: return something\n",
      "----\n",
      "\n",
      "If you want to be able to assign a variable to the output of a function, the function has to return that output using the return keyword.\n",
      "\n",
      "    def add(x, y):\n",
      "        result = x + y\n",
      "        return result\n",
      "\n",
      "or, even shorter:\n",
      "\n",
      "    def add(x, y):\n",
      "        return x + y\n",
      "\n",
      "Once you execute a return, you are done with the function -- you don't get to do any more work. That means if you have a function like this:\n",
      "\n",
      "    def add(x, y):\n",
      "        return x + y\n",
      "        z = x**2 + y**2\n",
      "        \n",
      "The line z = x\\**2 + y\\**2 will never execute"
     ]
    },
    {
     "cell_type": "markdown",
     "metadata": {},
     "source": [
      "Step 4: use the function\n",
      "---\n",
      "\n",
      "Once a function is defined we can use it as many times as we want.\n",
      "\n",
      "    def add(x, y):\n",
      "        return x + y"
     ]
    },
    {
     "cell_type": "code",
     "collapsed": false,
     "input": [],
     "language": "python",
     "metadata": {},
     "outputs": []
    },
    {
     "cell_type": "markdown",
     "metadata": {},
     "source": [
      "    add(1,2)"
     ]
    },
    {
     "cell_type": "code",
     "collapsed": false,
     "input": [],
     "language": "python",
     "metadata": {},
     "outputs": []
    },
    {
     "cell_type": "markdown",
     "metadata": {},
     "source": [
      "    add(2,3)"
     ]
    },
    {
     "cell_type": "code",
     "collapsed": false,
     "input": [],
     "language": "python",
     "metadata": {},
     "outputs": []
    },
    {
     "cell_type": "markdown",
     "metadata": {},
     "source": [
      "    a=1\n",
      "    b=2\n",
      "    c=add(a,b)\n",
      "    c"
     ]
    },
    {
     "cell_type": "code",
     "collapsed": false,
     "input": [],
     "language": "python",
     "metadata": {},
     "outputs": []
    },
    {
     "cell_type": "heading",
     "level": 2,
     "metadata": {},
     "source": [
      "Modules"
     ]
    },
    {
     "cell_type": "markdown",
     "metadata": {},
     "source": [
      "It quickly becomes cumbersome if every time we want to use a function that is not part of Python we have to explicitly write it out in our notebook or .py file. Luckily there is a way to import pre-existing code in the form as modules.\n",
      "Inside your notebook directory you have a file called \"workshop_2_functions.py\" which contains two functions 'fibonacci' and 'factorial' which we want to use in our current notebook. (Take a look at 'workshop_2_functions.py' in an editor and see if you can understand it). There are several ways you can import and use them.\n",
      "You can import the whole module and call your functions from it via a dot and the name of the function you want:\n",
      "import workshop_2_functions\n",
      "\n",
      "    workshop_2_functions.fibonacci(10)\n",
      "    workshop_2_functions.factorial(10)"
     ]
    },
    {
     "cell_type": "code",
     "collapsed": false,
     "input": [],
     "language": "python",
     "metadata": {},
     "outputs": []
    },
    {
     "cell_type": "markdown",
     "metadata": {},
     "source": [
      "You can do the same thing but choosing to refer to your module by a different (usually shorter) name:    \n",
      "    \n",
      "    import workshop_2_functions as wrk2_f\n",
      "\n",
      "    wrk2_f.fibonacci(10)\n",
      "    wrk2_f.factorial(10)"
     ]
    },
    {
     "cell_type": "code",
     "collapsed": false,
     "input": [],
     "language": "python",
     "metadata": {},
     "outputs": []
    },
    {
     "cell_type": "markdown",
     "metadata": {},
     "source": [
      "You can choose to extract one (or more) of the functions directly\n",
      "\n",
      "    from workshop_2_functions import fibonacci\n",
      "\n",
      "    fibonacci(10)\n"
     ]
    },
    {
     "cell_type": "code",
     "collapsed": false,
     "input": [],
     "language": "python",
     "metadata": {},
     "outputs": []
    },
    {
     "cell_type": "markdown",
     "metadata": {},
     "source": [
      "You can extract all functions contained in the module\n",
      "\n",
      "    from workshop_2_functions import *\n",
      "    \n",
      "    fibonacci(10)\n",
      "    factorial(1)"
     ]
    },
    {
     "cell_type": "code",
     "collapsed": false,
     "input": [],
     "language": "python",
     "metadata": {},
     "outputs": []
    },
    {
     "cell_type": "markdown",
     "metadata": {},
     "source": [
      "The downside of options 3 and particularly 4 is that you might accidentally import a function that has the same name as another variable or function being used. Option 2 is generally considered best practice.\n",
      "\n",
      "The anaconda distribution has a lot of standard scientific modules [built in](http://docs.continuum.io/anaconda/pkgs.html) these can be imported (regardless of directory) in the same way:\n",
      "\n",
      "    import numpy as np\n",
      "    np.e"
     ]
    },
    {
     "cell_type": "code",
     "collapsed": false,
     "input": [],
     "language": "python",
     "metadata": {},
     "outputs": []
    },
    {
     "cell_type": "markdown",
     "metadata": {},
     "source": [
      "A final point to mention is that modules like numpy that are very large often further divide into sub-modules. An example is numpy's linear algebra module which is contained inside the main numpy module. We can often (but not always) use submodules from their parent module like this:\n",
      "\n",
      "    import numpy as np\n",
      "    np.linalg.norm([1, 0, 0])"
     ]
    },
    {
     "cell_type": "code",
     "collapsed": false,
     "input": [],
     "language": "python",
     "metadata": {},
     "outputs": []
    },
    {
     "cell_type": "markdown",
     "metadata": {},
     "source": [
      "We can always import and then use the submodule directly: \n",
      "\n",
      "    import numpy.linalg as la\n",
      "    la.norm([1, 0, 0])"
     ]
    },
    {
     "cell_type": "code",
     "collapsed": false,
     "input": [],
     "language": "python",
     "metadata": {},
     "outputs": []
    },
    {
     "cell_type": "markdown",
     "metadata": {},
     "source": [
      "or import functions from within the submodule via:\n",
      "    \n",
      "    from numpy.linalg import norm\n",
      "    norm([1, 0, 0])"
     ]
    },
    {
     "cell_type": "code",
     "collapsed": false,
     "input": [],
     "language": "python",
     "metadata": {},
     "outputs": []
    },
    {
     "cell_type": "markdown",
     "metadata": {},
     "source": [
      "Once a function is imported once in a notebook it is accessible from all the cells.\n",
      "\n",
      "    norm([1, 0, 0])"
     ]
    },
    {
     "cell_type": "code",
     "collapsed": false,
     "input": [],
     "language": "python",
     "metadata": {},
     "outputs": []
    },
    {
     "cell_type": "markdown",
     "metadata": {},
     "source": [
      "When writing scripts we almost always put the import statements at the beginning of the file that way it's immediately clear what the code we are using depends upon."
     ]
    },
    {
     "cell_type": "heading",
     "level": 2,
     "metadata": {},
     "source": [
      "Reading and Writing"
     ]
    },
    {
     "cell_type": "markdown",
     "metadata": {},
     "source": [
      "The most common use case you will have when plotting data is plotting data that has been generated else where. That means you need a way to load data from somewhere into a notebook.\n",
      "\n",
      "There are severeal ways of doing this, the simplest is **loadtxt**\n",
      "\n",
      "This loads data from a text files, provided the data layed out in a regular format. If you take a look at the file [data.txt](./data.txt) which is in the same directory as this notebook. You will see each lines contains numbers separated by spaces.\n",
      "\n",
      "loadtxt will load this data into an array for us via:\n",
      "\n",
      "    our_data = loadtxt(\"data.txt\")"
     ]
    },
    {
     "cell_type": "code",
     "collapsed": false,
     "input": [
      "our_data = loadtxt(\"data.txt\")"
     ],
     "language": "python",
     "metadata": {},
     "outputs": []
    },
    {
     "cell_type": "markdown",
     "metadata": {},
     "source": [
      "    our_data"
     ]
    },
    {
     "cell_type": "code",
     "collapsed": false,
     "input": [
      "our_data"
     ],
     "language": "python",
     "metadata": {},
     "outputs": []
    },
    {
     "cell_type": "markdown",
     "metadata": {},
     "source": [
      "We could load a text file seperated by commas like [data2.txt](./data2.csv) via:\n",
      "    \n",
      "    loadtxt(\"data2.txt\", delimiter=',')"
     ]
    },
    {
     "cell_type": "code",
     "collapsed": false,
     "input": [
      "loadtxt(\"data2.txt\", delimiter=',')"
     ],
     "language": "python",
     "metadata": {},
     "outputs": []
    },
    {
     "cell_type": "markdown",
     "metadata": {},
     "source": [
      "In addition to loading data from files, if we have arrays of data that we want to save to file. We can use the opposite command **savetxt**. This works analagously to loadtxt thus\n",
      "    \n",
      "    savetxt('my_data_file.txt', our_data)"
     ]
    },
    {
     "cell_type": "code",
     "collapsed": false,
     "input": [
      " savetxt('my_data_file.txt', our_data)"
     ],
     "language": "python",
     "metadata": {},
     "outputs": []
    },
    {
     "cell_type": "markdown",
     "metadata": {},
     "source": [
      "Creates the file my_data_file.txt, with the data values separated by spaces.\n",
      "\n",
      "If we wanted data separated by commas we would use:\n",
      "    \n",
      "    savetxt('my_data_file2.txt', our_data, delimiter=',')"
     ]
    },
    {
     "cell_type": "code",
     "collapsed": false,
     "input": [
      "savetxt('my_data_file2.txt', our_data, delimiter=',')"
     ],
     "language": "python",
     "metadata": {},
     "outputs": []
    },
    {
     "cell_type": "markdown",
     "metadata": {},
     "source": [
      "Take a look at the two files you've produced: [my_data_file.txt](./my_data_file.txt) and [my_data_file2.txt](./my_data_file2.txt)"
     ]
    },
    {
     "cell_type": "heading",
     "level": 2,
     "metadata": {},
     "source": [
      "Basic statistics"
     ]
    },
    {
     "cell_type": "markdown",
     "metadata": {},
     "source": [
      "Lets load up a data set and plot a histogram of the data\n",
      "\n",
      "    d=loadtxt('d1.txt')\n",
      "    hist(d)\n",
      "    show()"
     ]
    },
    {
     "cell_type": "code",
     "collapsed": false,
     "input": [
      "d=loadtxt('d1.txt')\n",
      "hist(d)\n",
      "show()"
     ],
     "language": "python",
     "metadata": {},
     "outputs": [
      {
       "metadata": {},
       "output_type": "display_data",
       "png": "[encoded data removed]",
       "text": [
        "<matplotlib.figure.Figure at 0x7f9eab82c790>"
       ]
      }
     ],
     "prompt_number": 32
    },
    {
     "cell_type": "code",
     "collapsed": false,
     "input": [
      "d.min() + 9*(d.max() - d.min())/10"
     ],
     "language": "python",
     "metadata": {},
     "outputs": [
      {
       "metadata": {},
       "output_type": "pyout",
       "prompt_number": 33,
       "text": [
        "3.0840946077055986"
       ]
      }
     ],
     "prompt_number": 33
    },
    {
     "cell_type": "code",
     "collapsed": false,
     "input": [
      "d.max()"
     ],
     "language": "python",
     "metadata": {},
     "outputs": [
      {
       "metadata": {},
       "output_type": "pyout",
       "prompt_number": 34,
       "text": [
        "3.8335002680871493"
       ]
      }
     ],
     "prompt_number": 34
    },
    {
     "cell_type": "markdown",
     "metadata": {},
     "source": [
      "Histograms tell us how many many data points there are in a particular range of the data. By default the hist command creates 10 bins, equally spaced between the lowest value in the data set and the highest value in the dataset."
     ]
    },
    {
     "cell_type": "markdown",
     "metadata": {},
     "source": [
      "We can use the functions **min** and **max** to find the largest and smallest values in an array.\n",
      "\n",
      "    min(d)"
     ]
    },
    {
     "cell_type": "code",
     "collapsed": false,
     "input": [],
     "language": "python",
     "metadata": {},
     "outputs": []
    },
    {
     "cell_type": "markdown",
     "metadata": {},
     "source": [
      "    max(d)"
     ]
    },
    {
     "cell_type": "code",
     "collapsed": false,
     "input": [],
     "language": "python",
     "metadata": {},
     "outputs": [],
     "prompt_number": 36
    },
    {
     "cell_type": "markdown",
     "metadata": {},
     "source": [
      "Armed with these values we can check our histogram makes sense. We said beofre there were 10 bins by default, now that we know the maximum and minimum values we can see that the bin size must be:\n",
      "    \n",
      "    ( max(d) - min(d) )/10"
     ]
    },
    {
     "cell_type": "markdown",
     "metadata": {},
     "source": [
      "Note we had to use brackets because we want the subtraction to occur before the division"
     ]
    },
    {
     "cell_type": "code",
     "collapsed": false,
     "input": [
      "min(d)"
     ],
     "language": "python",
     "metadata": {},
     "outputs": [
      {
       "metadata": {},
       "output_type": "pyout",
       "prompt_number": 37,
       "text": [
        "-3.6605563357283502"
       ]
      }
     ],
     "prompt_number": 37
    },
    {
     "cell_type": "markdown",
     "metadata": {},
     "source": [
      "The width of each bin is about 0.75 and we start at about -3.66 and end at about 3.8. Look at the about histogram and make sure that this makes sense - where do you expect the third bin from left to start?"
     ]
    },
    {
     "cell_type": "markdown",
     "metadata": {},
     "source": [
      "We can change the number of bins using the the bin keyword:\n",
      "    \n",
      "    hist(d, bins=20)\n",
      "    show()"
     ]
    },
    {
     "cell_type": "code",
     "collapsed": false,
     "input": [
      "hist(d, bins=20)\n",
      "show()"
     ],
     "language": "python",
     "metadata": {},
     "outputs": [
      {
       "metadata": {},
       "output_type": "display_data",
       "png": "[encoded data removed]",
       "text": [
        "<matplotlib.figure.Figure at 0x7f9eabbd9650>"
       ]
      }
     ],
     "prompt_number": 38
    },
    {
     "cell_type": "markdown",
     "metadata": {},
     "source": [
      "There are many options to customise histograms, we won't go through them all. But this is a good point to demonstrate a way to use the built in help system. We can automatically get more information on a particular function by typing the function followed by a question mark:\n",
      "    \n",
      "    hist?"
     ]
    },
    {
     "cell_type": "code",
     "collapsed": false,
     "input": [
      "hist?"
     ],
     "language": "python",
     "metadata": {},
     "outputs": []
    },
    {
     "cell_type": "markdown",
     "metadata": {},
     "source": [
      "This pops up a footer window that has lots of information. It defines all the keywords and explains what form they take and what their effect is. You won't yet be able to understand everything that the helper utility tells you but it can still be a very useful resource. \n",
      "\n",
      "Another way to get the same information, is to type the function follow by the initial opening parenthesis and then simply pause a moment:\n",
      "\n",
      "    hist("
     ]
    },
    {
     "cell_type": "code",
     "collapsed": false,
     "input": [],
     "language": "python",
     "metadata": {},
     "outputs": [],
     "prompt_number": 40
    },
    {
     "cell_type": "markdown",
     "metadata": {},
     "source": [
      "This will create a floating pop up with the same information, you can press the plus icon in the top right of the popup to expand. If you want to reopen the pop up you can simply delete the first opening parenthesis and put it back. Try it on the line above."
     ]
    },
    {
     "cell_type": "markdown",
     "metadata": {},
     "source": [
      "Loading pylab gives us access to basic statistical functions like the mean:\n",
      "\n",
      "    mean(d)"
     ]
    },
    {
     "cell_type": "code",
     "collapsed": false,
     "input": [],
     "language": "python",
     "metadata": {},
     "outputs": [],
     "prompt_number": 40
    },
    {
     "cell_type": "markdown",
     "metadata": {},
     "source": [
      "The median:\n",
      "   \n",
      "   median(d)"
     ]
    },
    {
     "cell_type": "code",
     "collapsed": false,
     "input": [
      "median(d)"
     ],
     "language": "python",
     "metadata": {},
     "outputs": [
      {
       "metadata": {},
       "output_type": "pyout",
       "prompt_number": 41,
       "text": [
        "-0.00093007149785138315"
       ]
      }
     ],
     "prompt_number": 41
    },
    {
     "cell_type": "markdown",
     "metadata": {},
     "source": [
      "The standard deviation:\n",
      "    \n",
      "    std(d)"
     ]
    },
    {
     "cell_type": "code",
     "collapsed": false,
     "input": [
      "std(d)"
     ],
     "language": "python",
     "metadata": {},
     "outputs": [
      {
       "metadata": {},
       "output_type": "pyout",
       "prompt_number": 42,
       "text": [
        "1.0000458122818057"
       ]
      }
     ],
     "prompt_number": 42
    },
    {
     "cell_type": "markdown",
     "metadata": {},
     "source": [
      "The percentile:\n",
      "    \n",
      "    first_q = percentile(d,25)\n",
      "    third_q = percentile(d,75)"
     ]
    },
    {
     "cell_type": "code",
     "collapsed": false,
     "input": [
      "first_q = percentile(d,25)\n",
      "third_q = percentile(d,75)"
     ],
     "language": "python",
     "metadata": {},
     "outputs": [],
     "prompt_number": 43
    },
    {
     "cell_type": "markdown",
     "metadata": {},
     "source": [
      "That can be used to compute the interquartile range:\n",
      "    \n",
      "    third_q - first_q"
     ]
    },
    {
     "cell_type": "code",
     "collapsed": false,
     "input": [
      "third_q - first_q"
     ],
     "language": "python",
     "metadata": {},
     "outputs": [
      {
       "metadata": {},
       "output_type": "pyout",
       "prompt_number": 44,
       "text": [
        "1.3291547334177034"
       ]
      }
     ],
     "prompt_number": 44
    },
    {
     "cell_type": "markdown",
     "metadata": {},
     "source": [
      "The standard error of the mean is a very important quantity which we will cover in further depth during the exercises. It expresses how uncertain we are in the mean value we have computed. \n",
      "\n",
      "We can compute it from the standard deviation and the square root of the number of elements.\n",
      "\n",
      "To compute the number of elements we need another built-in function **len**\n",
      "\n",
      "    no_elements = len(d)\n",
      "    std_e = std(d)/no_elements**0.5"
     ]
    },
    {
     "cell_type": "code",
     "collapsed": false,
     "input": [
      "no_elements = len(d)\n",
      "std(d)/no_elements**0.5"
     ],
     "language": "python",
     "metadata": {},
     "outputs": [
      {
       "metadata": {},
       "output_type": "pyout",
       "prompt_number": 48,
       "text": [
        "0.010000458122818056"
       ]
      }
     ],
     "prompt_number": 48
    },
    {
     "cell_type": "markdown",
     "metadata": {},
     "source": [
      "In addition to acting on 1d arrays, we can perform these statistical measures on 2d arrays (I.E. matrices), we'll make a 2d array using a function **randn**. This generates arrays of random numbers, to make a 5x5 array of random numbers we would use\n",
      "\n",
      "    m=randn(5,5)\n",
      "    m"
     ]
    },
    {
     "cell_type": "code",
     "collapsed": false,
     "input": [
      "m=randn(5,5)\n",
      "m"
     ],
     "language": "python",
     "metadata": {},
     "outputs": [
      {
       "metadata": {},
       "output_type": "pyout",
       "prompt_number": 49,
       "text": [
        "array([[ 0.9857587 , -0.11208879,  0.89154177,  0.04865758, -2.62358753],\n",
        "       [-1.34472058, -0.26698608, -1.2006091 ,  0.39448815, -0.47836659],\n",
        "       [-1.08244508,  2.29165464, -0.87929252, -0.69622549,  0.32725132],\n",
        "       [ 2.52131355, -1.92186266,  0.09844447,  0.91937353, -1.1210656 ],\n",
        "       [-1.40302415, -0.91046708,  2.00070566, -0.70711036,  0.40426988]])"
       ]
      }
     ],
     "prompt_number": 49
    },
    {
     "cell_type": "markdown",
     "metadata": {},
     "source": [
      "If we take the mean directly we get the mean of all the numbers in the matrix, in much the same way that we would for a 1d array:\n",
      "    \n",
      "    mean(m)"
     ]
    },
    {
     "cell_type": "code",
     "collapsed": false,
     "input": [
      "mean(m)"
     ],
     "language": "python",
     "metadata": {},
     "outputs": [
      {
       "metadata": {},
       "output_type": "pyout",
       "prompt_number": 50,
       "text": [
        "-0.15457569473368143"
       ]
      }
     ],
     "prompt_number": 50
    },
    {
     "cell_type": "markdown",
     "metadata": {},
     "source": [
      "However with a matrix we have the possibility to compute the means of all the columns, or all the rows individually. We do this with the axis keyword. To compute the means of the columns we would use:\n",
      "    \n",
      "    mean(m, axis=0)"
     ]
    },
    {
     "cell_type": "code",
     "collapsed": false,
     "input": [
      "mean(m, axis=0)"
     ],
     "language": "python",
     "metadata": {},
     "outputs": [
      {
       "metadata": {},
       "output_type": "pyout",
       "prompt_number": 51,
       "text": [
        "array([-0.06462351, -0.18394999,  0.18215806, -0.00816332, -0.6982997 ])"
       ]
      }
     ],
     "prompt_number": 51
    },
    {
     "cell_type": "markdown",
     "metadata": {},
     "source": [
      "This gives us an array where the first element is the mean of the first column of the 2d array, the second element is the mean of the second column of the 2d array etc."
     ]
    },
    {
     "cell_type": "markdown",
     "metadata": {},
     "source": [
      "Likewise to compute the means of the rows we would use:\n",
      "    \n",
      "    mean(m, axis=1)"
     ]
    },
    {
     "cell_type": "code",
     "collapsed": false,
     "input": [
      "mean(m, axis=1)"
     ],
     "language": "python",
     "metadata": {},
     "outputs": [
      {
       "metadata": {},
       "output_type": "pyout",
       "prompt_number": 74,
       "text": [
        "array([-0.16194365, -0.57923884, -0.00781143,  0.09924066, -0.12312521])"
       ]
      }
     ],
     "prompt_number": 74
    },
    {
     "cell_type": "markdown",
     "metadata": {},
     "source": [
      "The same is true of the other statistical functions.\n",
      "\n",
      "    percentile(m, 25, axis=1)"
     ]
    },
    {
     "cell_type": "code",
     "collapsed": false,
     "input": [
      "percentile(m, 25, axis=1)"
     ],
     "language": "python",
     "metadata": {},
     "outputs": [
      {
       "metadata": {},
       "output_type": "pyout",
       "prompt_number": 75,
       "text": [
        "array([-0.11208879, -1.2006091 , -0.87929252, -1.1210656 , -0.91046708])"
       ]
      }
     ],
     "prompt_number": 75
    },
    {
     "cell_type": "heading",
     "level": 2,
     "metadata": {},
     "source": [
      "Filtering data"
     ]
    },
    {
     "cell_type": "markdown",
     "metadata": {},
     "source": [
      "In addition to the many ways to access the elements of an array that we covered yesterday there a final method that is very useful. Here we access elements of the data not by their indices within the array but instead by their values. Thus we can select all elements of an array that greater than a certain value. This is very useful to filter data to remove spurious values and outliers. Recalling that d is the dataset we loaded above. To select all values larger than 3 we use:\n",
      "    \n",
      "    d[d>3]"
     ]
    },
    {
     "cell_type": "code",
     "collapsed": false,
     "input": [
      "d[d>3]"
     ],
     "language": "python",
     "metadata": {},
     "outputs": [
      {
       "metadata": {},
       "output_type": "pyout",
       "prompt_number": 67,
       "text": [
        "array([ 3.01837236,  3.19344964,  3.19707273,  3.49930068,  3.3513463 ,  3.07832102,  3.13433592,  3.0334986 ,\n",
        "        3.83350027,  3.05235314,  3.1013366 ,  3.08489535,  3.34593209,  3.73545676,  3.09657408,  3.0010193 ])"
       ]
      }
     ],
     "prompt_number": 67
    },
    {
     "cell_type": "markdown",
     "metadata": {},
     "source": [
      "This can be combined with the statistical functions, thus to select data above the mean we would use:\n",
      "    \n",
      "    large_d = d[d>mean(d)]\n",
      "    hist(large_d)"
     ]
    },
    {
     "cell_type": "code",
     "collapsed": false,
     "input": [
      "large_d = d[d>mean(d)]\n",
      "hist(large_d)\n",
      "show()"
     ],
     "language": "python",
     "metadata": {},
     "outputs": [
      {
       "metadata": {},
       "output_type": "display_data",
       "png": "[encoded data removed]",
       "text": [
        "<matplotlib.figure.Figure at 0x7f9eab7d6190>"
       ]
      }
     ],
     "prompt_number": 82
    },
    {
     "cell_type": "markdown",
     "metadata": {},
     "source": [
      "We can chain the filtering process. Thus to select the data inside the interquartile range we first select the data that is above the 25th percentile:\n",
      "    \n",
      "    q1 = percentile(d,25)\n",
      "    last_75_d = d[d>q1]\n",
      "    hist(last_75_d)\n",
      "    show()"
     ]
    },
    {
     "cell_type": "code",
     "collapsed": false,
     "input": [
      "q1 = percentile(d,25)\n",
      "last_75_d = d[d>q1]\n",
      "hist(last_75_d)\n",
      "show()"
     ],
     "language": "python",
     "metadata": {},
     "outputs": [
      {
       "metadata": {},
       "output_type": "display_data",
       "png": "[encoded data removed]",
       "text": [
        "<matplotlib.figure.Figure at 0x7f9eaba6ff90>"
       ]
      }
     ],
     "prompt_number": 89
    },
    {
     "cell_type": "markdown",
     "metadata": {},
     "source": [
      "And then of that we select the data that is below the 75th percentile:\n",
      "    \n",
      "    q3 = percentile(d,75)\n",
      "    mid_d = last_75_d[last_75_d<q3]\n",
      "    hist(mid_d)\n",
      "    show()"
     ]
    },
    {
     "cell_type": "code",
     "collapsed": false,
     "input": [
      "q3 = percentile(d,75)\n",
      "mid_d = last_75_d[last_75_d<q3]\n",
      "hist(mid_d)\n",
      "show()"
     ],
     "language": "python",
     "metadata": {},
     "outputs": [
      {
       "metadata": {},
       "output_type": "display_data",
       "png": "[encoded data removed]",
       "text": [
        "<matplotlib.figure.Figure at 0x7f9eaba27550>"
       ]
      }
     ],
     "prompt_number": 90
    },
    {
     "cell_type": "heading",
     "level": 2,
     "metadata": {},
     "source": [
      "Fitting"
     ]
    },
    {
     "cell_type": "markdown",
     "metadata": {},
     "source": [
      "When we plot functions we do so by generating data corresponding to the function e.g. $f(x) = 3x+5$\n",
      "    \n",
      "    X = linspace(0,20)\n",
      "    f_X = 3*X+5\n",
      "    plot(X,f_X)\n",
      "    show()"
     ]
    },
    {
     "cell_type": "code",
     "collapsed": false,
     "input": [
      "X = linspace(0,20)\n",
      "f_X = 3*X+5\n",
      "plot(X,f_X)\n",
      "show()"
     ],
     "language": "python",
     "metadata": {},
     "outputs": []
    },
    {
     "cell_type": "markdown",
     "metadata": {},
     "source": [
      "In this case we started with a known function and generated some data using it. \n",
      "\n",
      "We often wish to do the reverse, that is start with some set of data and try and find the best function that describes it this process is called fitting. In this rest of this workshop we will focus on fitting data to straight line functions $f(x) = mx + c$. This is called *linear fitting*.\n",
      "\n",
      "To illustrate this process we will define some linear data and use **nrand** to add some random noise to simulate some experimental data:\n",
      "\n",
      "    X = linspace(0,20,50)\n",
      "    Y = 8*X+50\n",
      "    noisey_Y = Y + 10 * randn(50)\n",
      "    plot(X,Y)\n",
      "    plot(X, noisey_Y, linestyle='', marker='^')\n",
      "    show()"
     ]
    },
    {
     "cell_type": "code",
     "collapsed": false,
     "input": [
      "X = linspace(0,20,100)\n",
      "Y = 3*X+5\n",
      "noisey_Y = Y + 10 * randn(100)\n",
      "plot(X,Y)\n",
      "plot(X, noisey_Y, linestyle='', marker='^')\n",
      "show()"
     ],
     "language": "python",
     "metadata": {},
     "outputs": [
      {
       "metadata": {},
       "output_type": "display_data",
       "png": "[encoded data removed]",
       "text": [
        "<matplotlib.figure.Figure at 0x7ff56e2ddad0>"
       ]
      }
     ],
     "prompt_number": 49
    },
    {
     "cell_type": "markdown",
     "metadata": {},
     "source": [
      "Now we will try and fit the data. To do this we need to import the scipy modules as it contains the fitting command we need. \n",
      "\n",
      "    import scipy"
     ]
    },
    {
     "cell_type": "code",
     "collapsed": false,
     "input": [
      "import scipy.stats"
     ],
     "language": "python",
     "metadata": {},
     "outputs": [],
     "prompt_number": 52
    },
    {
     "cell_type": "markdown",
     "metadata": {},
     "source": [
      "We will use the **linregress** command from within the stats submodule to extract the slope and the intercept from the noisey data we've created.\n",
      "\n",
      "    scipy.stats.linregress(X, noisey_Y)"
     ]
    },
    {
     "cell_type": "code",
     "collapsed": false,
     "input": [
      "scipy.stats.linregress(X, noisey_Y)"
     ],
     "language": "python",
     "metadata": {},
     "outputs": [
      {
       "metadata": {},
       "output_type": "pyout",
       "prompt_number": 53,
       "text": [
        "(2.9564680499221758,\n",
        " 5.9480175513908726,\n",
        " 0.85014007137701197,\n",
        " 4.7390831606502918e-29,\n",
        " 0.18497572170416798)"
       ]
      }
     ],
     "prompt_number": 53
    },
    {
     "cell_type": "markdown",
     "metadata": {},
     "source": [
      "This command spits out 5 numbers: estimates for the slope and the intercept and 3 more numbers characterising how well a line defined by the estimated slope and intercept fits the data. [$R^2$](http://en.wikipedia.org/wiki/Coefficient_of_determination), the [p-value](http://en.wikipedia.org/wiki/P-value) associated with the null hypothesis that the gradient is zero and the standard error of the regression.\n",
      "\n",
      "\n",
      "    fitted_params = scipy.stats.linregress(X,noisey_Y)\n",
      "    m = fitted_params[0]\n",
      "    c = fitted_params[1]\n",
      "    fitted_Y = m*X + c\n",
      "\n",
      "    plot(X,Y)\n",
      "    plot(X, noisey_Y, linestyle='', marker='^')\n",
      "    plot(X, fitted_Y, linestyle='--')\n",
      "    show()"
     ]
    },
    {
     "cell_type": "code",
     "collapsed": false,
     "input": [
      "fitted_params = scipy.stats.linregress(X,noisey_Y)\n",
      "m = fitted_params[0]\n",
      "c = fitted_params[1]\n",
      "fitted_Y = m*X + c\n",
      "\n",
      "plot(X,Y)\n",
      "plot(X, noisey_Y, linestyle='', marker='^')\n",
      "plot(X, fitted_Y, linestyle='--')\n",
      "show()\n",
      "\n",
      "print('Gradient = ',m)\n",
      "print('Intercept = ',c)"
     ],
     "language": "python",
     "metadata": {},
     "outputs": [
      {
       "metadata": {},
       "output_type": "display_data",
       "png": "[encoded data removed]",
       "text": [
        "<matplotlib.figure.Figure at 0x7ff56e20a690>"
       ]
      },
      {
       "output_type": "stream",
       "stream": "stdout",
       "text": [
        "('Gradient = ', 2.9564680499221758)\n",
        "('Intercept = ', 5.9480175513908726)\n"
       ]
      }
     ],
     "prompt_number": 57
    },
    {
     "cell_type": "markdown",
     "metadata": {},
     "source": [
      "The fit is pretty good, though it does not perfectly regenerate the linear function we used to generate the data."
     ]
    },
    {
     "cell_type": "markdown",
     "metadata": {},
     "source": [
      "We can get an idea of how well our fit matches the data by computing the residuals. These are the differences between our fit and the measured data.\n",
      "\n",
      "    residuals = fitted_Y - noisey_Y"
     ]
    },
    {
     "cell_type": "code",
     "collapsed": false,
     "input": [
      "residuals = fitted_Y - noisey_Y"
     ],
     "language": "python",
     "metadata": {},
     "outputs": [],
     "prompt_number": 59
    },
    {
     "cell_type": "markdown",
     "metadata": {},
     "source": [
      "We can plot the residuals directly:\n",
      "\n",
      "    plot(X, residuals)\n",
      "    show()"
     ]
    },
    {
     "cell_type": "code",
     "collapsed": false,
     "input": [
      "plot(X, residuals, marker='^', linestyle='')\n",
      "show()"
     ],
     "language": "python",
     "metadata": {},
     "outputs": [
      {
       "metadata": {},
       "output_type": "display_data",
       "png": "[encoded data removed]",
       "text": [
        "<matplotlib.figure.Figure at 0x7ff56718c410>"
       ]
      }
     ],
     "prompt_number": 60
    },
    {
     "cell_type": "markdown",
     "metadata": {},
     "source": [
      "And use a histogram to look at their distribution.\n",
      "\n",
      "    hist(residuals)\n",
      "    show()"
     ]
    },
    {
     "cell_type": "code",
     "collapsed": false,
     "input": [
      "hist(residuals)\n",
      "show()"
     ],
     "language": "python",
     "metadata": {},
     "outputs": [
      {
       "metadata": {},
       "output_type": "display_data",
       "png": "[encoded data removed]",
       "text": [
        "<matplotlib.figure.Figure at 0x7ff566a23790>"
       ]
      }
     ],
     "prompt_number": 69
    },
    {
     "cell_type": "code",
     "collapsed": false,
     "input": [
      "data = loadtxt(\"data.txt\")\n",
      "\n",
      "X = data[:,0]\n",
      "Y = data[:,1]\n",
      "Y = 1-Y +Y.max()\n",
      "\n",
      "plot(X, Y, marker='^')\n",
      "xlabel('Time')\n",
      "ylabel('Concentration')\n",
      "show()"
     ],
     "language": "python",
     "metadata": {},
     "outputs": []
    },
    {
     "cell_type": "markdown",
     "metadata": {},
     "source": [
      "Suppose we want to fit a straight line to the initial part of some data.\n",
      "\n",
      "I.e. we want the gradient and intercept of this line:"
     ]
    },
    {
     "cell_type": "code",
     "collapsed": false,
     "input": [
      "x= arange(1.0,100)\n",
      "y=x/37 +randn(99)/100\n",
      "\n",
      "y[y>1] * 1-(y-1)\n",
      "plot(x,y)"
     ],
     "language": "python",
     "metadata": {},
     "outputs": [
      {
       "metadata": {},
       "output_type": "pyout",
       "prompt_number": 128,
       "text": [
        "[<matplotlib.lines.Line2D at 0x7f9eab3226d0>]"
       ]
      },
      {
       "metadata": {},
       "output_type": "display_data",
       "png": "[encoded data removed]",
       "text": [
        "<matplotlib.figure.Figure at 0x7f9eaad477d0>"
       ]
      }
     ],
     "prompt_number": 128
    },
    {
     "cell_type": "code",
     "collapsed": false,
     "input": [
      "p,pcov = curve_fit(lambda x,m,c:m*x+c, X[:4], Y[:4], [1,1])\n",
      "\n",
      "plot(X,Y,marker='^')\n",
      "plot(X, X*p[0]+p[1])\n",
      "#xlim(0, 0.00005)\n",
      "ylim(0,100)"
     ],
     "language": "python",
     "metadata": {},
     "outputs": [
      {
       "ename": "NameError",
       "evalue": "name 'curve_fit' is not defined",
       "output_type": "pyerr",
       "traceback": [
        "\u001b[1;31m---------------------------------------------------------------------------\u001b[0m\n\u001b[1;31mNameError\u001b[0m                                 Traceback (most recent call last)",
        "\u001b[1;32m<ipython-input-93-c86efd7cb9fa>\u001b[0m in \u001b[0;36m<module>\u001b[1;34m()\u001b[0m\n\u001b[1;32m----> 1\u001b[1;33m \u001b[0mp\u001b[0m\u001b[1;33m,\u001b[0m\u001b[0mpcov\u001b[0m \u001b[1;33m=\u001b[0m \u001b[0mcurve_fit\u001b[0m\u001b[1;33m(\u001b[0m\u001b[1;32mlambda\u001b[0m \u001b[0mx\u001b[0m\u001b[1;33m,\u001b[0m\u001b[0mm\u001b[0m\u001b[1;33m,\u001b[0m\u001b[0mc\u001b[0m\u001b[1;33m:\u001b[0m\u001b[0mm\u001b[0m\u001b[1;33m*\u001b[0m\u001b[0mx\u001b[0m\u001b[1;33m+\u001b[0m\u001b[0mc\u001b[0m\u001b[1;33m,\u001b[0m \u001b[0mX\u001b[0m\u001b[1;33m[\u001b[0m\u001b[1;33m:\u001b[0m\u001b[1;36m4\u001b[0m\u001b[1;33m]\u001b[0m\u001b[1;33m,\u001b[0m \u001b[0mY\u001b[0m\u001b[1;33m[\u001b[0m\u001b[1;33m:\u001b[0m\u001b[1;36m4\u001b[0m\u001b[1;33m]\u001b[0m\u001b[1;33m,\u001b[0m \u001b[1;33m[\u001b[0m\u001b[1;36m1\u001b[0m\u001b[1;33m,\u001b[0m\u001b[1;36m1\u001b[0m\u001b[1;33m]\u001b[0m\u001b[1;33m)\u001b[0m\u001b[1;33m\u001b[0m\u001b[0m\n\u001b[0m\u001b[0;32m      2\u001b[0m \u001b[1;33m\u001b[0m\u001b[0m\n\u001b[0;32m      3\u001b[0m \u001b[0mplot\u001b[0m\u001b[1;33m(\u001b[0m\u001b[0mX\u001b[0m\u001b[1;33m,\u001b[0m\u001b[0mY\u001b[0m\u001b[1;33m,\u001b[0m\u001b[0mmarker\u001b[0m\u001b[1;33m=\u001b[0m\u001b[1;34m'^'\u001b[0m\u001b[1;33m)\u001b[0m\u001b[1;33m\u001b[0m\u001b[0m\n\u001b[0;32m      4\u001b[0m \u001b[0mplot\u001b[0m\u001b[1;33m(\u001b[0m\u001b[0mX\u001b[0m\u001b[1;33m,\u001b[0m \u001b[0mX\u001b[0m\u001b[1;33m*\u001b[0m\u001b[0mp\u001b[0m\u001b[1;33m[\u001b[0m\u001b[1;36m0\u001b[0m\u001b[1;33m]\u001b[0m\u001b[1;33m+\u001b[0m\u001b[0mp\u001b[0m\u001b[1;33m[\u001b[0m\u001b[1;36m1\u001b[0m\u001b[1;33m]\u001b[0m\u001b[1;33m)\u001b[0m\u001b[1;33m\u001b[0m\u001b[0m\n\u001b[0;32m      5\u001b[0m \u001b[1;31m#xlim(0, 0.00005)\u001b[0m\u001b[1;33m\u001b[0m\u001b[1;33m\u001b[0m\u001b[0m\n",
        "\u001b[1;31mNameError\u001b[0m: name 'curve_fit' is not defined"
       ]
      }
     ],
     "prompt_number": 93
    },
    {
     "cell_type": "markdown",
     "metadata": {},
     "source": [
      "**Skip? Exercise?**\n",
      "\n",
      "Adjusting for systematic error"
     ]
    },
    {
     "cell_type": "heading",
     "level": 2,
     "metadata": {},
     "source": [
      "Error bars again"
     ]
    },
    {
     "cell_type": "heading",
     "level": 2,
     "metadata": {},
     "source": [
      "Next Time"
     ]
    },
    {
     "cell_type": "heading",
     "level": 1,
     "metadata": {},
     "source": [
      "Exercises"
     ]
    },
    {
     "cell_type": "code",
     "collapsed": false,
     "input": [
      "10**-7"
     ],
     "language": "python",
     "metadata": {},
     "outputs": []
    },
    {
     "cell_type": "code",
     "collapsed": false,
     "input": [
      "#from http://onlinelibrary.wiley.com/doi/10.1002/14356007.a17_485/full\n",
      "\n",
      "r=\"\"\"1e-07\t0.2280\t0.549\t9.95\t34.35\t48.9\t68.60\t94\n",
      "1e-06\t0.2757\t0.643\t10.95\t37.66\t53.3\t74.74\t101\n",
      "1e-05\t0.344\t0.771\t12.17\t41.67\t58.74\t82.10\t110\n",
      "1e-04\t0.451\t0.953\t13.68\t46.61\t65.37\t91.11\t121\n",
      "1e-03\t0.631\t1.226\t15.51\t52.77\t73.70\t102.39\t134\n",
      "1e-02\t0.966\t1.666\t18.13\t60.70\t83.70\t116.96\t152\n",
      "1e-01\t1.657\t2.483\t21.60\t71.41\t99.61\t137.54\t176\n",
      "0.25\t2.123\t3.020\t23.36\t76.96\t107.02\t146.46\t188\"\"\"\n",
      "\n",
      "r_data = []\n",
      "for l in r.split('\\n'):\n",
      "    line_data = map(float, l.split('\\t'))\n",
      "    r_data.append(line_data)\n",
      "    \n",
      "data=array(r_data)\n",
      "#plot(log10(data), marker='o')\n",
      "#plot(log10(data[:,0]), data[:,-1], marker='^')\n",
      "#xlabel('Pressure')\n",
      "#ylabel('Temperature')\n",
      "#legend()\n",
      "#show()"
     ],
     "language": "python",
     "metadata": {},
     "outputs": []
    },
    {
     "cell_type": "code",
     "collapsed": false,
     "input": [
      "import numpy as np\n",
      "e= np.random.randn(10)\n",
      "x= np.random.randn(10,3)\n",
      "sorted(zip(x,e), key=lambda e:e[1])"
     ],
     "language": "python",
     "metadata": {},
     "outputs": [
      {
       "metadata": {},
       "output_type": "pyout",
       "prompt_number": 148,
       "text": [
        "[(array([-0.57348946,  2.27092884,  0.69512968]), -2.2808161630631631),\n",
        " (array([-0.55624764,  0.6318519 , -0.22076061]), -1.6225429243608513),\n",
        " (array([-0.54375772, -0.26415442,  0.32842848]), -0.6198661608709326),\n",
        " (array([-0.33030909,  1.42519477,  0.66440364]), -0.30944053258021509),\n",
        " (array([-1.56237555, -0.23965139, -1.09292391]), 0.11287459732413278),\n",
        " (array([ 0.06933873, -0.37072639, -0.40887216]), 0.25612157313857387),\n",
        " (array([ 0.14896401,  0.22779741,  0.5000398 ]), 0.29388605199204704),\n",
        " (array([-0.86523211, -1.09390114,  0.37592945]), 0.35440949589579757),\n",
        " (array([ 0.62739192, -0.25020385, -1.14573783]), 0.54213971510287284),\n",
        " (array([-0.56885953,  0.40233491,  0.42365238]), 2.6024739705025941)]"
       ]
      }
     ],
     "prompt_number": 148
    },
    {
     "cell_type": "code",
     "collapsed": false,
     "input": [],
     "language": "python",
     "metadata": {},
     "outputs": [
      {
       "metadata": {},
       "output_type": "pyout",
       "prompt_number": 144,
       "text": [
        "[(array([ 1.08346058,  0.48595921,  1.5371506 ]), -1.6843135148664148),\n",
        " (array([ 0.20185533, -0.33671964, -1.41488115]), -1.3600156720842795),\n",
        " (array([-1.09002034, -0.50358577,  0.4860696 ]), -1.1253676959492791),\n",
        " (array([-0.77661559, -0.60619282, -0.11958554]), -1.0949719817871033),\n",
        " (array([ 0.02888816, -0.78294001,  1.35835598]), -0.8598083689173337),\n",
        " (array([ 1.42707427,  0.48247516, -0.20295724]), -0.70146427677071632),\n",
        " (array([ 1.76971013, -1.54868564,  1.52396033]), -0.61937581965434074),\n",
        " (array([ 0.96057724, -0.37517931,  1.2785673 ]), -0.27868618832268238),\n",
        " (array([ 0.00426037,  1.33448874,  0.82888763]), -0.20868452561543449),\n",
        " (array([-1.67672385, -0.30193337,  1.13423482]), 0.1547442655222068)]"
       ]
      }
     ],
     "prompt_number": 144
    },
    {
     "cell_type": "heading",
     "level": 1,
     "metadata": {},
     "source": [
      "Reading data"
     ]
    },
    {
     "cell_type": "code",
     "collapsed": false,
     "input": [
      "v0=86.6\n",
      "error_v0 = 0.05\n",
      "data_set=loadtxt('data.txt')"
     ],
     "language": "python",
     "metadata": {},
     "outputs": []
    },
    {
     "cell_type": "code",
     "collapsed": false,
     "input": [
      "conc = data_set[:,0]\n",
      "readings = data_set[:,1:]\n",
      "\n",
      "absorbance_ind = -log10(readings/v0)\n",
      "absorbance_mean = -log10(readings.mean(axis=1)/v0)\n",
      "\n",
      "xlim(conc.min(), conc.max()*1.1)\n",
      "\n",
      "scatter(conc, absorbance_ind.mean(axis=1))\n",
      "scatter(conc, absorbance_mean,color='green')\n",
      "show()"
     ],
     "language": "python",
     "metadata": {},
     "outputs": []
    },
    {
     "cell_type": "code",
     "collapsed": false,
     "input": [
      "absorbance_ind.mean(axis=1)"
     ],
     "language": "python",
     "metadata": {},
     "outputs": []
    },
    {
     "cell_type": "code",
     "collapsed": false,
     "input": [
      "absorbance_mean"
     ],
     "language": "python",
     "metadata": {},
     "outputs": []
    },
    {
     "cell_type": "code",
     "collapsed": false,
     "input": [
      "from scipy.optimize import curve_fit\n",
      "\n",
      "def linear_model(x,c0,c1):\n",
      "    return c0*x+c1\n",
      "\n",
      "fit_params, fit_error = curve_fit(linear_model, conc[:5], absorbance_mean[:5], [1000,0])\n",
      "\n",
      "fit"
     ],
     "language": "python",
     "metadata": {},
     "outputs": []
    },
    {
     "cell_type": "code",
     "collapsed": false,
     "input": [
      "fit_error"
     ],
     "language": "python",
     "metadata": {},
     "outputs": []
    },
    {
     "cell_type": "code",
     "collapsed": false,
     "input": [
      "model_data = conc * fit_params[0] + fit_params[1]\n",
      "\n",
      "scatter(conc, absorbance_ind.mean(axis=1))\n",
      "errorbar(conc, absorbance_ind.mean(axis=1), yerr=absorbance_ind.std(axis=1), linestyle='')\n",
      "plot(conc,model_data)\n",
      "\n",
      "xlim([0,0.0002])\n",
      "show()"
     ],
     "language": "python",
     "metadata": {},
     "outputs": []
    },
    {
     "cell_type": "code",
     "collapsed": false,
     "input": [
      "scatter(conc[:5],absorbance_ind.mean(axis=1)[:5]-model_data[:5])\n",
      "plot([0,0.00004],[0,0])\n",
      "xlim([0,0.00004])\n",
      "show()"
     ],
     "language": "python",
     "metadata": {},
     "outputs": []
    },
    {
     "cell_type": "code",
     "collapsed": false,
     "input": [
      "scatter?"
     ],
     "language": "python",
     "metadata": {},
     "outputs": []
    },
    {
     "cell_type": "code",
     "collapsed": false,
     "input": [],
     "language": "python",
     "metadata": {},
     "outputs": []
    }
   ],
   "metadata": {}
  }
 ]
}