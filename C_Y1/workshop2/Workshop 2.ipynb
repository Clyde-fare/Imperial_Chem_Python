{
 "metadata": {
  "name": "",
  "signature": "sha256:f39475c15395d8b6779c63857c05a12ee24e5424647df550bf3a69ea6475dfcf"
 },
 "nbformat": 3,
 "nbformat_minor": 0,
 "worksheets": [
  {
   "cells": [
    {
     "cell_type": "markdown",
     "metadata": {},
     "source": [
      "# An Introduction to Plotting and Data Analysis in Python Workshop 2\n",
      "[Clyde Fare](mailto://c.fare12@imperial.ac.uk) and [Jo\u00e3o Pedro Malhado](mailto://malhado@imperial.ac.uk), Imperial College London. \n",
      "\n",
      "Notebook is adapted from material by <font size=6>insert refs here</font> and is licensed under a [Creative Commons Attribution 3.0 (CC-by) license](http://creativecommons.org/licenses/by/3.0/us)"
     ]
    },
    {
     "cell_type": "markdown",
     "metadata": {},
     "source": [
      "Overview\n",
      "--------\n",
      "During this workshop we will recap what we covered in workshop then build on it covering construction of your own mathematical functions, the importing of modules to extend the functionality we have access to and reading and writing of data and plots. We will then learn to fit data and use basic statistics to characterise how good our fit is.\n",
      "\n",
      "This is an interactive tutorial - as you go through it any time you see something that looks like this:\n",
      "\n",
      "    a = \"Hello\"\n",
      "   \n",
      "that's followed by an empty *code cell* (a light grey rectangle with a label like *\"In[ ]\"*), you should \n",
      "type the expression in the code cell, hit Shift+Return to *execute* it, and note the output.\n",
      "\n",
      "No copying and pasting! You'll learn the concepts better if you type them out yourself.\n",
      "\n",
      "Warning periodically save your work by pressing the save icon above (We'll cover the other icons later but if you want to know what they are now hover your cursor over them)"
     ]
    },
    {
     "cell_type": "heading",
     "level": 1,
     "metadata": {},
     "source": [
      "Recap from workshop 1"
     ]
    },
    {
     "cell_type": "heading",
     "level": 2,
     "metadata": {},
     "source": [
      "Notebook"
     ]
    },
    {
     "cell_type": "markdown",
     "metadata": {},
     "source": [
      "We are working inside an interactive Python Notebook. It is composed of code cells where Python code can be executed and non code cells, where descriptive material can be placed.\n",
      "\n",
      "The icons at the top of the page allow us to save the page, add new cells, cut, copy and paste cells, move cells up or down, execute the highlighted cell, halt and reset the current python kernel.\n",
      "\n",
      "We can convert a highlighted cell to a different type of cell using the dropdown menu to the immediate right of the icons.\n",
      "\n",
      "We can execute a code cell/render a markdown cell with Shift+Return.\n",
      "\n",
      "If we want to have direct access to the plotting and numerical functions and include our plots directly in the notebook we need to execute\n",
      "\n",
      "    %pylab inline"
     ]
    },
    {
     "cell_type": "code",
     "collapsed": false,
     "input": [
      "%pylab inline"
     ],
     "language": "python",
     "metadata": {},
     "outputs": [
      {
       "output_type": "stream",
       "stream": "stdout",
       "text": [
        "Populating the interactive namespace from numpy and matplotlib\n"
       ]
      }
     ],
     "prompt_number": 6
    },
    {
     "cell_type": "heading",
     "level": 2,
     "metadata": {},
     "source": [
      "Variables"
     ]
    },
    {
     "cell_type": "markdown",
     "metadata": {},
     "source": [
      "Variables, allow us to refer to data objects with names:\n",
      "    \n",
      "    x=3\n",
      "    y=pi\n",
      "    z=x*y\n",
      "    cos(z)"
     ]
    },
    {
     "cell_type": "code",
     "collapsed": false,
     "input": [],
     "language": "python",
     "metadata": {},
     "outputs": []
    },
    {
     "cell_type": "heading",
     "level": 2,
     "metadata": {},
     "source": [
      "Arrays"
     ]
    },
    {
     "cell_type": "markdown",
     "metadata": {},
     "source": [
      "Arrays are collections of numbers, that we can operate on collectively and are the containers for our data. There are special commands **linspace** and **arange** for creating arrays.\n",
      "\n",
      "**linspace** creates arrays of equally spaced numbers where we specify the initial value, the final value and how many numbers we want inbetween\n",
      "\n",
      "    linspace(-pi, pi, 10)"
     ]
    },
    {
     "cell_type": "markdown",
     "metadata": {},
     "source": [
      "linspace(-pi, pi, 10)"
     ]
    },
    {
     "cell_type": "markdown",
     "metadata": {},
     "source": [
      "**arange** creates arrays of equally spaced numbers where we specify the initial value, a stop value (that will not be included), and the interval size:\n",
      "    \n",
      "    arange(0, 10, 3)"
     ]
    },
    {
     "cell_type": "code",
     "collapsed": false,
     "input": [
      "arange(0, 10, 3)"
     ],
     "language": "python",
     "metadata": {},
     "outputs": [
      {
       "metadata": {},
       "output_type": "pyout",
       "prompt_number": 37,
       "text": [
        "array([0, 3, 6, 9])"
       ]
      }
     ],
     "prompt_number": 37
    },
    {
     "cell_type": "markdown",
     "metadata": {},
     "source": [
      "And we can refer to elements of the data in an array by using square brackets and the index of the element we want. Remembering the the first element corresponds to index zero.\n",
      "\n",
      "    arange(0,10,1)[0]"
     ]
    },
    {
     "cell_type": "code",
     "collapsed": false,
     "input": [
      "arange(0,10,1)[0]"
     ],
     "language": "python",
     "metadata": {},
     "outputs": []
    },
    {
     "cell_type": "markdown",
     "metadata": {},
     "source": [
      "    arange(0,10,1)[5]"
     ]
    },
    {
     "cell_type": "code",
     "collapsed": false,
     "input": [
      "arange(0,10,1)[5]"
     ],
     "language": "python",
     "metadata": {},
     "outputs": [
      {
       "metadata": {},
       "output_type": "pyout",
       "prompt_number": 34,
       "text": [
        "5"
       ]
      }
     ],
     "prompt_number": 34
    },
    {
     "cell_type": "markdown",
     "metadata": {},
     "source": [
      "We can also refer to slices of the data using a syntax similar to arange where a colon is used in place of the comma.\n",
      "\n",
      "    my_array = arange(0,10,1)\n",
      "    my_array[0:10:3]"
     ]
    },
    {
     "cell_type": "code",
     "collapsed": false,
     "input": [
      "my_array = arange(0,10,1)\n",
      "my_array[0:10:3]"
     ],
     "language": "python",
     "metadata": {},
     "outputs": [
      {
       "metadata": {},
       "output_type": "pyout",
       "prompt_number": 52,
       "text": [
        "array([0, 3, 6, 9])"
       ]
      }
     ],
     "prompt_number": 52
    },
    {
     "cell_type": "markdown",
     "metadata": {},
     "source": [
      "Thus the above alice takes the zeroth (first) element of my_array and then every 3rd element up to but not including 10.\n",
      "\n",
      "If the first index is omitted, it we start at the zeroth index.\n",
      "If the second index is omitted we move up to but not including the N+1th element\n",
      "If the third index is omitted the step size is 1 i.e we include all elements between the first index and the second index - 1\n",
      "\n",
      "Thus\n",
      "    my_array[::]"
     ]
    },
    {
     "cell_type": "code",
     "collapsed": false,
     "input": [
      "my_array[::]"
     ],
     "language": "python",
     "metadata": {},
     "outputs": [
      {
       "metadata": {},
       "output_type": "pyout",
       "prompt_number": 54,
       "text": [
        "array([0, 1, 2, 3, 4, 5, 6, 7, 8, 9])"
       ]
      }
     ],
     "prompt_number": 54
    },
    {
     "cell_type": "markdown",
     "metadata": {},
     "source": [
      "Arrays can be multidimensional\n",
      "\n",
      "    my_2d_array = array([[0, 3, 6, 9], [1, 4, 7, 10], [2, 5, 8, 11], [3, 6, 9, 12]])\n",
      "    my_2d_array"
     ]
    },
    {
     "cell_type": "code",
     "collapsed": false,
     "input": [
      "my_2d_array = array([[0, 3, 6, 9], [1, 4, 7, 10], [2, 5, 8, 11], [3, 6, 9, 12]])\n",
      "my_2d_array"
     ],
     "language": "python",
     "metadata": {},
     "outputs": [
      {
       "metadata": {},
       "output_type": "pyout",
       "prompt_number": 56,
       "text": [
        "array([[ 0,  3,  6,  9],\n",
        "       [ 1,  4,  7, 10],\n",
        "       [ 2,  5,  8, 11],\n",
        "       [ 3,  6,  9, 12]])"
       ]
      }
     ],
     "prompt_number": 56
    },
    {
     "cell_type": "markdown",
     "metadata": {},
     "source": [
      "Where indices now refer to the indidual rows:\n",
      "    \n",
      "    my_2d_array[1]"
     ]
    },
    {
     "cell_type": "code",
     "collapsed": false,
     "input": [
      "my_2d_array[1]"
     ],
     "language": "python",
     "metadata": {},
     "outputs": [
      {
       "metadata": {},
       "output_type": "pyout",
       "prompt_number": 57,
       "text": [
        "array([ 1,  4,  7, 10])"
       ]
      }
     ],
     "prompt_number": 57
    },
    {
     "cell_type": "markdown",
     "metadata": {},
     "source": [
      "We can apply the same indexing mechanism as we did for 1d array except we use a comma to seperate the indexing that refers to the rows and the indexing that refers to the columns:\n",
      "    my_2d_array[1:4:2,0:3:2]"
     ]
    },
    {
     "cell_type": "code",
     "collapsed": false,
     "input": [
      "my_2d_array[1:4:2,0:3:2]"
     ],
     "language": "python",
     "metadata": {},
     "outputs": [
      {
       "metadata": {},
       "output_type": "pyout",
       "prompt_number": 50,
       "text": [
        "array([[1, 7],\n",
        "       [3, 9]])"
       ]
      }
     ],
     "prompt_number": 50
    },
    {
     "cell_type": "markdown",
     "metadata": {},
     "source": [
      "Which is summarised by the following diagram:\n",
      "\n",
      "<img src=numpy_indexing.png></img>"
     ]
    },
    {
     "cell_type": "markdown",
     "metadata": {},
     "source": [
      "We can perform mathematical operations on arrays, which performs the operation on all elements of the array\n",
      "\n",
      "    sin(my_array)"
     ]
    },
    {
     "cell_type": "code",
     "collapsed": false,
     "input": [
      "sin(my_array)"
     ],
     "language": "python",
     "metadata": {},
     "outputs": [
      {
       "metadata": {},
       "output_type": "pyout",
       "prompt_number": 61,
       "text": [
        "array([ 0.        ,  0.84147098,  0.90929743,  0.14112001, -0.7568025 ,\n",
        "       -0.95892427, -0.2794155 ,  0.6569866 ,  0.98935825,  0.41211849])"
       ]
      }
     ],
     "prompt_number": 61
    },
    {
     "cell_type": "heading",
     "level": 2,
     "metadata": {},
     "source": [
      "Plots"
     ]
    },
    {
     "cell_type": "markdown",
     "metadata": {},
     "source": [
      "We can plot using the **plot** and **scatter** commands and display using the **show** commands\n",
      "\n",
      "    plot(arange(10), arange(10)**2, label='$x^2$')\n",
      "    scatter(arange(10), arange(10)**3, label='$x^3$' )\n",
      "    title('My reminder plot')\n",
      "    xlabel('x')\n",
      "    ylabel('y')\n",
      "    legend()\n",
      "    show()"
     ]
    },
    {
     "cell_type": "code",
     "collapsed": false,
     "input": [
      "plot(arange(10), arange(10)**2, label='$x^2$')\n",
      "scatter(arange(10), arange(10)**3, label='$x^3$' )\n",
      "title('My reminder plot')\n",
      "xlabel('x')\n",
      "ylabel('y')\n",
      "legend()\n",
      "show()"
     ],
     "language": "python",
     "metadata": {},
     "outputs": [
      {
       "metadata": {},
       "output_type": "display_data",
       "png": "[encoded data removed]",
       "text": [
        "<matplotlib.figure.Figure at 0x7f5a16b83950>"
       ]
      }
     ],
     "prompt_number": 69
    },
    {
     "cell_type": "markdown",
     "metadata": {},
     "source": [
      "There are many options\n",
      "\n",
      "plot(arange(10), arange(10)**2, linewidth=2.5, linestyle=\"--\", label='$x^2$')\n",
      "scatter(arange(10), arange(10)**3, label='$x^3$' )\n",
      "title('My reminder plot')\n",
      "xlabel('x')\n",
      "ylabel('y')\n",
      "legend()\n",
      "\n",
      "\n",
      "show()\n"
     ]
    },
    {
     "cell_type": "code",
     "collapsed": false,
     "input": [
      "plot(arange(10), arange(10)**2, linewidth=2.5, linestyle=\"--\", label='Humans')\n",
      "scatter(arange(10), arange(10)**3, marker='^', color='red', label='Badgers' )\n",
      "title('My reminder plot')\n",
      "xlabel('Number of organisms')\n",
      "ylabel('Collective intelligence')\n",
      "legend()\n",
      "show()"
     ],
     "language": "python",
     "metadata": {},
     "outputs": [
      {
       "metadata": {},
       "output_type": "display_data",
       "png": "[encoded data removed]",
       "text": [
        "<matplotlib.figure.Figure at 0x7f5a16cd2510>"
       ]
      }
     ],
     "prompt_number": 82
    },
    {
     "cell_type": "heading",
     "level": 1,
     "metadata": {},
     "source": [
      "Going further"
     ]
    },
    {
     "cell_type": "heading",
     "level": 2,
     "metadata": {},
     "source": [
      "Functions"
     ]
    },
    {
     "cell_type": "markdown",
     "metadata": {},
     "source": [
      "Thus far we've used a couple of basic mathematical functions, namely **cos** and **sin**, unsurprisingly there are [many more](http://docs.scipy.org/doc/numpy/reference/routines.math.html). What's more you can construct your own.\n",
      "\n",
      "We'll construct an $x^2$ function:\n",
      "\n",
      "    def our_x2_function(x):\n",
      "        return x**2"
     ]
    },
    {
     "cell_type": "code",
     "collapsed": false,
     "input": [
      "def our_x2_function(my_var_name):\n",
      "    return my_var_name**2"
     ],
     "language": "python",
     "metadata": {},
     "outputs": [],
     "prompt_number": 83
    },
    {
     "cell_type": "markdown",
     "metadata": {},
     "source": [
      "Let's see if it works:\n",
      "\n",
      "    our_x2_function(10)"
     ]
    },
    {
     "cell_type": "code",
     "collapsed": false,
     "input": [],
     "language": "python",
     "metadata": {},
     "outputs": []
    },
    {
     "cell_type": "markdown",
     "metadata": {},
     "source": [
      "The format for defining your own functions is as follows:\n",
      "\n",
      "Use the keyword *def* to indicate you are creating a function.\n",
      "\n",
      "Type the name you want to call the function.\n",
      "\n",
      "Immediately following the name, enclosed in round brackets, type the name you will use to refer to the function's variables followed by a colon.\n",
      "\n",
      "After the "
     ]
    },
    {
     "cell_type": "heading",
     "level": 2,
     "metadata": {},
     "source": [
      "Modules"
     ]
    },
    {
     "cell_type": "heading",
     "level": 2,
     "metadata": {},
     "source": [
      "Reading and Writing"
     ]
    },
    {
     "cell_type": "heading",
     "level": 1,
     "metadata": {},
     "source": [
      "Data Analysis"
     ]
    },
    {
     "cell_type": "heading",
     "level": 2,
     "metadata": {},
     "source": [
      "Fitting"
     ]
    },
    {
     "cell_type": "heading",
     "level": 2,
     "metadata": {},
     "source": [
      "Fitting with noise"
     ]
    },
    {
     "cell_type": "heading",
     "level": 2,
     "metadata": {},
     "source": [
      "Adjusting for systematic error"
     ]
    },
    {
     "cell_type": "heading",
     "level": 2,
     "metadata": {},
     "source": [
      "Characterising the noise - stats"
     ]
    },
    {
     "cell_type": "heading",
     "level": 2,
     "metadata": {},
     "source": [
      "Error bars again"
     ]
    },
    {
     "cell_type": "heading",
     "level": 2,
     "metadata": {},
     "source": [
      "Next Time"
     ]
    },
    {
     "cell_type": "heading",
     "level": 1,
     "metadata": {},
     "source": [
      "Exercises"
     ]
    },
    {
     "cell_type": "code",
     "collapsed": false,
     "input": [],
     "language": "python",
     "metadata": {},
     "outputs": []
    },
    {
     "cell_type": "code",
     "collapsed": false,
     "input": [],
     "language": "python",
     "metadata": {},
     "outputs": []
    },
    {
     "cell_type": "heading",
     "level": 1,
     "metadata": {},
     "source": [
      "Reading data"
     ]
    },
    {
     "cell_type": "code",
     "collapsed": false,
     "input": [
      "v0=86.6\n",
      "error_v0 = 0.05\n",
      "data_set=loadtxt('data.txt')"
     ],
     "language": "python",
     "metadata": {},
     "outputs": [],
     "prompt_number": 2
    },
    {
     "cell_type": "code",
     "collapsed": false,
     "input": [
      "conc = data_set[:,0]\n",
      "readings = data_set[:,1:]\n",
      "\n",
      "absorbance_ind = -log10(readings/v0)\n",
      "absorbance_mean = -log10(readings.mean(axis=1)/v0)\n",
      "\n",
      "xlim(conc.min(), conc.max()*1.1)\n",
      "\n",
      "scatter(conc, absorbance_ind.mean(axis=1))\n",
      "scatter(conc, absorbance_mean,color='green')\n",
      "show()"
     ],
     "language": "python",
     "metadata": {},
     "outputs": [
      {
       "metadata": {},
       "output_type": "display_data",
       "png": "[encoded data removed]"
      }
     ],
     "prompt_number": 41
    },
    {
     "cell_type": "code",
     "collapsed": false,
     "input": [
      "absorbance_ind.mean(axis=1)"
     ],
     "language": "python",
     "metadata": {},
     "outputs": [
      {
       "metadata": {},
       "output_type": "pyout",
       "prompt_number": 17,
       "text": [
        "array([ 0.01238232,  0.05160791,  0.30069914,  0.57453941,  0.69947663,\n",
        "        1.15948867,  1.27482849,  1.37724898,  1.45121467,  1.4960081 ,\n",
        "        1.55139706,  1.59509521])"
       ]
      }
     ],
     "prompt_number": 17
    },
    {
     "cell_type": "code",
     "collapsed": false,
     "input": [
      "absorbance_mean"
     ],
     "language": "python",
     "metadata": {},
     "outputs": [
      {
       "metadata": {},
       "output_type": "pyout",
       "prompt_number": 15,
       "text": [
        "array([ 0.01237776,  0.05159155,  0.30069579,  0.57453305,  0.69947179,\n",
        "        1.15936664,  1.27476006,  1.37721265,  1.45085132,  1.49556105,\n",
        "        1.55131629,  1.59509521])"
       ]
      }
     ],
     "prompt_number": 15
    },
    {
     "cell_type": "code",
     "collapsed": false,
     "input": [
      "from scipy.optimize import curve_fit\n",
      "\n",
      "def linear_model(x,c0,c1):\n",
      "    return c0*x+c1\n",
      "\n",
      "fit_params, fit_error = curve_fit(linear_model, conc[:5], absorbance_mean[:5], [1000,0])\n",
      "\n",
      "fit"
     ],
     "language": "python",
     "metadata": {},
     "outputs": [],
     "prompt_number": 22
    },
    {
     "cell_type": "code",
     "collapsed": false,
     "input": [
      "fit_error"
     ],
     "language": "python",
     "metadata": {},
     "outputs": [
      {
       "metadata": {},
       "output_type": "pyout",
       "prompt_number": 26,
       "text": [
        "array([[  1.70719065e+06,  -2.73833379e+01],\n",
        "       [ -2.73833379e+01,   6.90319605e-04]])"
       ]
      }
     ],
     "prompt_number": 26
    },
    {
     "cell_type": "code",
     "collapsed": false,
     "input": [
      "model_data = conc * fit_params[0] + fit_params[1]\n",
      "\n",
      "scatter(conc, absorbance_ind.mean(axis=1))\n",
      "errorbar(conc, absorbance_ind.mean(axis=1), yerr=absorbance_ind.std(axis=1), linestyle='')\n",
      "plot(conc,model_data)\n",
      "\n",
      "xlim([0,0.0002])\n",
      "show()"
     ],
     "language": "python",
     "metadata": {},
     "outputs": [
      {
       "metadata": {},
       "output_type": "display_data",
       "png": "[encoded data removed]"
      }
     ],
     "prompt_number": 33
    },
    {
     "cell_type": "code",
     "collapsed": false,
     "input": [
      "scatter(conc[:5],absorbance_ind.mean(axis=1)[:5]-model_data[:5])\n",
      "plot([0,0.00004],[0,0])\n",
      "xlim([0,0.00004])\n",
      "show()"
     ],
     "language": "python",
     "metadata": {},
     "outputs": [
      {
       "metadata": {},
       "output_type": "display_data",
       "png": "[encoded data removed]"
      }
     ],
     "prompt_number": 40
    },
    {
     "cell_type": "code",
     "collapsed": false,
     "input": [
      "scatter?"
     ],
     "language": "python",
     "metadata": {},
     "outputs": [],
     "prompt_number": 2
    },
    {
     "cell_type": "code",
     "collapsed": false,
     "input": [],
     "language": "python",
     "metadata": {},
     "outputs": []
    }
   ],
   "metadata": {}
  }
 ]
}