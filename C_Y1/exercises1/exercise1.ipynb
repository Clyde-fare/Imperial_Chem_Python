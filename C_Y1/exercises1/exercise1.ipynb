{
 "metadata": {
  "name": ""
 },
 "nbformat": 3,
 "nbformat_minor": 0,
 "worksheets": [
  {
   "cells": [
    {
     "cell_type": "heading",
     "level": 1,
     "metadata": {},
     "source": [
      "Problem set 1"
     ]
    },
    {
     "cell_type": "markdown",
     "metadata": {},
     "source": [
      "[Clyde Fare](mailto:c.fare12@imperial.ac.uk) and [Jo\u00e3o Pedro Malhado](mailto:malhado@imperial.ac.uk), Imperial College London\n",
      "\n",
      "Notebook is adapted from material gathered by Andrew McKinley and Oliver Robotham and is licensed under a [Creative Commons Attribution 3.0 (CC-by) license](http://creativecommons.org/licenses/by/3.0/us)"
     ]
    },
    {
     "cell_type": "markdown",
     "metadata": {},
     "source": [
      "Let's load the pylab machinery and get that out of the way."
     ]
    },
    {
     "cell_type": "code",
     "collapsed": false,
     "input": [
      "%pylab inline"
     ],
     "language": "python",
     "metadata": {},
     "outputs": []
    },
    {
     "cell_type": "heading",
     "level": 2,
     "metadata": {},
     "source": [
      "Exercise 1"
     ]
    },
    {
     "cell_type": "markdown",
     "metadata": {},
     "source": [
      "In this exercise we'll be dealing with larger datasets, such as those you could have obtained from a measuring instrument, and looking at some properties of the statistical description of sets of measurements.\n",
      "\n",
      "The file [measurements.csv](files/measurements.csv) containes 5 sets of measurements of different systems and/or in different conditions. For each set the meaurement was repeated 100000 times. (Good thing we don't have to analyse this data by hand!)\n",
      "\n",
      "* Have a peek at the file and load its data into a variable. Output the value of the variable to see how the imported data looks like."
     ]
    },
    {
     "cell_type": "code",
     "collapsed": false,
     "input": [
      "data=loadtxt('measurements.csv',delimiter=',')"
     ],
     "language": "python",
     "metadata": {},
     "outputs": []
    },
    {
     "cell_type": "code",
     "collapsed": false,
     "input": [
      "data"
     ],
     "language": "python",
     "metadata": {},
     "outputs": []
    },
    {
     "cell_type": "markdown",
     "metadata": {},
     "source": [
      "A quick and informative way of acquiring an overall view of the data distribution is to plot histograms.\n",
      "\n",
      "* On the same figure, plot the histograms of all datasets conveniently labelling each of them. A better comparison is obtained setting an equal histogram range for each data set, and setting the transparency alpha value to see through superimposed data."
     ]
    },
    {
     "cell_type": "code",
     "collapsed": false,
     "input": [
      "figsize(20,15)\n",
      "\n",
      "hist(data[:,0],200,range=(-4,10),alpha=0.5,label='data1')\n",
      "hist(data[:,1],200,range=(-4,10),alpha=0.5,label='data2')\n",
      "hist(data[:,2],200,range=(-4,10),alpha=0.5,label='data3')\n",
      "hist(data[:,3],200,range=(-4,10),alpha=0.5,label='data4')\n",
      "hist(data[:,4],200,range=(-4,10),alpha=0.5,label='data5')\n",
      "\n",
      "legend()\n",
      "show()"
     ],
     "language": "python",
     "metadata": {},
     "outputs": []
    },
    {
     "cell_type": "markdown",
     "metadata": {},
     "source": [
      "Any measurement is affected by error and two consecutive measurements of the same system are unlikelly to give the same result. The *mean* $\\bar{x}$ of a set of independent measures the property $x$ is the best estimate of the real value of that property of the system. As we will see bellow, the quality of this estimate is improved by increasing the number of measurements. The sample's *standard deviation* $s_x$ quantifies the dispersion of the experimental measurements with respect to the mean. (Note that the standard deviation does not correspond to the error of the measurement.)\n",
      "\n",
      "* For each data set (column) of 100000 measurements, calculate the mean and the standard deviation. Overlap the histograms plotted above with a vertical line with $x$ at the mean value of each measurement set. How do the $\\bar{x}$ and $s_x$ values relate the shape of the distributions in the histograms?"
     ]
    },
    {
     "cell_type": "code",
     "collapsed": false,
     "input": [
      "mean(data[:,:],axis=0)"
     ],
     "language": "python",
     "metadata": {},
     "outputs": []
    },
    {
     "cell_type": "code",
     "collapsed": false,
     "input": [
      "std(data[:,:],axis=0)"
     ],
     "language": "python",
     "metadata": {},
     "outputs": []
    },
    {
     "cell_type": "code",
     "collapsed": false,
     "input": [
      "figsize(20,15)\n",
      "\n",
      "hist(data[:,0],200,range=(-4,10),alpha=0.5,label='data1')\n",
      "plot(array([mean(data[:,0]),mean(data[:,0])]),array([0,30000]),linestyle='--',color='black')\n",
      "hist(data[:,1],200,range=(-4,10),alpha=0.5,label='data2')\n",
      "plot(array([mean(data[:,1]),mean(data[:,1])]),array([0,30000]),linestyle='--',color='black')\n",
      "hist(data[:,2],200,range=(-4,10),alpha=0.5,label='data3')\n",
      "plot(array([mean(data[:,2]),mean(data[:,2])]),array([0,30000]),linestyle='--',color='black')\n",
      "hist(data[:,3],200,range=(-4,10),alpha=0.5,label='data4')\n",
      "plot(array([mean(data[:,3]),mean(data[:,3])]),array([0,30000]),linestyle='--',color='black')\n",
      "hist(data[:,4],200,range=(-4,10),alpha=0.5,label='data5')\n",
      "plot(array([mean(data[:,4]),mean(data[:,4])]),array([0,30000]),linestyle='--',color='black')\n",
      "\n",
      "legend()\n",
      "show()"
     ],
     "language": "python",
     "metadata": {},
     "outputs": []
    },
    {
     "cell_type": "markdown",
     "metadata": {},
     "source": [
      "We will now study how the statistical properties vary with the sample size.\n",
      "\n",
      "* For the first data set (column), overlap the histograms of the full sample (N=100000), selecting only the first 10000 and 1000 measurements. (For this comparison you likelly want to plot the histogram normalized by sample size. Choose the appropriate option of function *hist* to achieve this.) By observing the histograms what can you infer about the variation of the mean value and standard deviation with sample size (for sufficiently big samples)?"
     ]
    },
    {
     "cell_type": "code",
     "collapsed": false,
     "input": [
      "hist(data[:,0],100,normed=True,range=(0,5),alpha=0.5,label='N=100000')\n",
      "hist(data[:10000,0],100,normed=True,range=(0,5),alpha=0.5,label='N=10000')\n",
      "hist(data[:1000,0],100,normed=True,range=(0,5),alpha=0.5,label='N=1000')\n",
      "\n",
      "legend()\n",
      "show()"
     ],
     "language": "python",
     "metadata": {},
     "outputs": []
    },
    {
     "cell_type": "code",
     "collapsed": false,
     "input": [
      "array([std(data[:1000,0]),std(data[:25000,0]),std(data[:50000,0]),std(data[:75000,0]),std(data[:,0])])"
     ],
     "language": "python",
     "metadata": {},
     "outputs": []
    },
    {
     "cell_type": "markdown",
     "metadata": {},
     "source": [
      "The statiscal uncertainty associated with the mean value is given by the *standard error of the mean* $\\sigma_{\\bar{x}}$ which is calculated by the expression:\n",
      "\n",
      "$$\\sigma_{\\bar{x}}=\\frac{s_x}{\\sqrt{N}}=\\sqrt{\\frac{1}{N (N-1)}\\sum_i^N (x_i-\\bar{x})^2} .$$\n",
      "\n",
      "This is the value that should be given as the statistical error of your measurements!\n",
      "\n",
      "Let us investigate how this quantity vary with sample size. We will be considering data sets 1 and 4, which have similar mean value as per histograms above. We will consider that both sets measure the same quantity in the same system but in different conditions (eg. a different instrument is used).\n",
      "\n",
      "* For both data sets 1 and 4, plot the standard deviation and the standard error as a function of the sample size. (Choose for example sample sizes N=array([1000,25000,50000,75000,100000]})). You may want to use a logarithmic scale in this plot. There is no standard error function available in pylab (although you can find it in other modules) so you will have to calculate it. What does this plot tell you about the usefulness of repeating the same measurement?"
     ]
    },
    {
     "cell_type": "code",
     "collapsed": false,
     "input": [
      "N=array([1000,25000,50000,75000,100000])\n",
      "plot(N,array([std(data[:1000,0]),std(data[:25000,0]),std(data[:50000,0]),std(data[:75000,0]),std(data[:,0])]),color='blue',linestyle='--',label=r'$s_x(data1)$')\n",
      "plot(N,array([std(data[:1000,0])/sqrt(1000),std(data[:25000,0])/sqrt(25000),std(data[:50000,0])/sqrt(50000),std(data[:75000,0])/sqrt(75000),std(data[:,0])/sqrt(100000)]),color='blue',label=r'$\\sigma_{\\bar{x}}(data1)$')\n",
      "plot(N,array([std(data[:1000,3]),std(data[:25000,3]),std(data[:50000,3]),std(data[:75000,3]),std(data[:,3])]),color='cyan',linestyle='--',label=r'$s_x(data4)$')\n",
      "plot(N,array([std(data[:1000,3])/sqrt(1000),std(data[:25000,3])/sqrt(25000),std(data[:50000,3])/sqrt(50000),std(data[:75000,3])/sqrt(75000),std(data[:,3])/sqrt(100000)]),color='cyan',label=r'$\\sigma_{\\bar{x}}(data4)$')\n",
      "yscale('log')\n",
      "legend()\n",
      "show()"
     ],
     "language": "python",
     "metadata": {},
     "outputs": []
    },
    {
     "cell_type": "markdown",
     "metadata": {},
     "source": [
      "* From the histograms above we note that the dispersion of data set 4 is greater than that of data set 1, and consequently the standard error of the mean is greater in the former case for equal sample size. By drawing an horizontal line in the plot above, do a rough estimate of what sample size would be sufficient to achieve the same precision in the conditions of data set 1 as the one obtained for data set 4 with 100000 measurements."
     ]
    },
    {
     "cell_type": "code",
     "collapsed": false,
     "input": [
      "N=array([1000,25000,50000,75000,100000])\n",
      "plot(N,array([std(data[:1000,0]),std(data[:25000,0]),std(data[:50000,0]),std(data[:75000,0]),std(data[:,0])]),color='blue',linestyle='--',label=r'$s_x(data1)$')\n",
      "plot(N,array([std(data[:1000,0])/sqrt(1000),std(data[:25000,0])/sqrt(25000),std(data[:50000,0])/sqrt(50000),std(data[:75000,0])/sqrt(75000),std(data[:,0])/sqrt(100000)]),color='blue',label=r'$\\sigma_{\\bar{x}}(data1)$')\n",
      "plot(N,array([std(data[:1000,3]),std(data[:25000,3]),std(data[:50000,3]),std(data[:75000,3]),std(data[:,3])]),color='cyan',linestyle='--',label=r'$s_x(data4)$')\n",
      "plot(N,array([std(data[:1000,3])/sqrt(1000),std(data[:25000,3])/sqrt(25000),std(data[:50000,3])/sqrt(50000),std(data[:75000,3])/sqrt(75000),std(data[:,3])/sqrt(100000)]),color='cyan',label=r'$\\sigma_{\\bar{x}}(data4)$')\n",
      "\n",
      "plot(array([0,100000]),array([std(data[:,3])/sqrt(100000),std(data[:,3])/sqrt(100000)]),color='red',linestyle=':')\n",
      "\n",
      "yscale('log')\n",
      "legend()\n",
      "show()"
     ],
     "language": "python",
     "metadata": {},
     "outputs": []
    },
    {
     "cell_type": "markdown",
     "metadata": {},
     "source": [
      "As a final note, from the definition of standard error and the study we just carried out, what is the limit of the standard error value as the sample size goes to infinity? Although the statistical error vanishes for infinite sample sizes, this does not mean you can achieve in a limit an absolute confidence in your measurements (imagine you do infinite many length measurements of an object a few milimiter long with a bent ruler!). The standard error does not take into account sistematic errors due to your instrument or faulty operation. Sistematic errors need to be estimated based on the knowledge measurement process and intruments used."
     ]
    },
    {
     "cell_type": "heading",
     "level": 2,
     "metadata": {},
     "source": [
      "Exercise 2"
     ]
    },
    {
     "cell_type": "code",
     "collapsed": false,
     "input": [],
     "language": "python",
     "metadata": {},
     "outputs": []
    }
   ],
   "metadata": {}
  }
 ]
}