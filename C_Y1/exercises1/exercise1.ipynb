{
 "metadata": {
  "name": ""
 },
 "nbformat": 3,
 "nbformat_minor": 0,
 "worksheets": [
  {
   "cells": [
    {
     "cell_type": "heading",
     "level": 1,
     "metadata": {},
     "source": [
      "Problem set 2"
     ]
    },
    {
     "cell_type": "markdown",
     "metadata": {},
     "source": [
      "[Clyde Fare](mailto:c.fare12@imperial.ac.uk) and [Jo\u00e3o Pedro Malhado](mailto:malhado@imperial.ac.uk), Imperial College London\n",
      "\n",
      "Notebook is adapted from material gathered by Andrew McKinley and Oliver Robotham and is licensed under a [Creative Commons Attribution 3.0 (CC-by) license](http://creativecommons.org/licenses/by/3.0/us)"
     ]
    },
    {
     "cell_type": "markdown",
     "metadata": {},
     "source": [
      "Let's load the pylab machinery and get that out of the way."
     ]
    },
    {
     "cell_type": "code",
     "collapsed": false,
     "input": [
      "%pylab inline"
     ],
     "language": "python",
     "metadata": {},
     "outputs": []
    },
    {
     "cell_type": "heading",
     "level": 2,
     "metadata": {},
     "source": [
      "Exercise 1"
     ]
    },
    {
     "cell_type": "markdown",
     "metadata": {},
     "source": [
      "In this exercise we'll be dealing with large datasets, such as those you could have obtained from a measuring instrument, and looking at some properties of the statistical description of sets of measurements."
     ]
    },
    {
     "cell_type": "code",
     "collapsed": false,
     "input": [
      "data=loadtxt('measurements.csv',delimiter=',')"
     ],
     "language": "python",
     "metadata": {},
     "outputs": []
    },
    {
     "cell_type": "code",
     "collapsed": false,
     "input": [
      "data"
     ],
     "language": "python",
     "metadata": {},
     "outputs": []
    },
    {
     "cell_type": "code",
     "collapsed": false,
     "input": [
      "figsize(20,15)\n",
      "\n",
      "hist(data[:,0],200,range=(-4,10),alpha=0.5,label='data1')\n",
      "hist(data[:,1],200,range=(-4,10),alpha=0.5,label='data2')\n",
      "hist(data[:,2],200,range=(-4,10),alpha=0.5,label='data3')\n",
      "hist(data[:,3],200,range=(-4,10),alpha=0.5,label='data4')\n",
      "hist(data[:,4],200,range=(-4,10),alpha=0.5,label='data5')\n",
      "\n",
      "legend()\n",
      "show()"
     ],
     "language": "python",
     "metadata": {},
     "outputs": []
    },
    {
     "cell_type": "code",
     "collapsed": false,
     "input": [
      "mean(data[:,1:],axis=0)"
     ],
     "language": "python",
     "metadata": {},
     "outputs": []
    },
    {
     "cell_type": "code",
     "collapsed": false,
     "input": [
      "std(data[:,1:],axis=0)"
     ],
     "language": "python",
     "metadata": {},
     "outputs": []
    },
    {
     "cell_type": "code",
     "collapsed": false,
     "input": [
      "figsize(20,15)\n",
      "\n",
      "hist(data[:,0],200,range=(-4,10),alpha=0.5,label='data1')\n",
      "plot(array([mean(data[:,0]),mean(data[:,0])]),array([0,30000]),linestyle='--',color='black')\n",
      "hist(data[:,1],200,range=(-4,10),alpha=0.5,label='data2')\n",
      "plot(array([mean(data[:,1]),mean(data[:,1])]),array([0,30000]),linestyle='--',color='black')\n",
      "hist(data[:,2],200,range=(-4,10),alpha=0.5,label='data3')\n",
      "plot(array([mean(data[:,2]),mean(data[:,2])]),array([0,30000]),linestyle='--',color='black')\n",
      "hist(data[:,3],200,range=(-4,10),alpha=0.5,label='data4')\n",
      "plot(array([mean(data[:,3]),mean(data[:,3])]),array([0,30000]),linestyle='--',color='black')\n",
      "hist(data[:,4],200,range=(-4,10),alpha=0.5,label='data5')\n",
      "plot(array([mean(data[:,4]),mean(data[:,4])]),array([0,30000]),linestyle='--',color='black')\n",
      "\n",
      "legend()\n",
      "show()"
     ],
     "language": "python",
     "metadata": {},
     "outputs": []
    },
    {
     "cell_type": "code",
     "collapsed": false,
     "input": [
      "hist(data[:,0],100,normed=True,range=(0,5),alpha=0.5)\n",
      "hist(data[:10000,0],100,normed=True,range=(0,5),alpha=0.5)\n",
      "hist(data[:1000,0],100,normed=True,range=(0,5),alpha=0.5)\n",
      "\n",
      "show()"
     ],
     "language": "python",
     "metadata": {},
     "outputs": []
    },
    {
     "cell_type": "code",
     "collapsed": false,
     "input": [
      "N=array([1000,25000,50000,75000,100000])\n",
      "plot(N,array([std(data[:1000,0]),std(data[:25000,0]),std(data[:50000,0]),std(data[:75000,0]),std(data[:,0])]),color='blue',linestyle='--',label=r'$\\sigma_x(data1)$')\n",
      "plot(N,array([std(data[:1000,0])/sqrt(1000),std(data[:25000,0])/sqrt(25000),std(data[:50000,0])/sqrt(50000),std(data[:75000,0])/sqrt(75000),std(data[:,0])/sqrt(100000)]),color='blue',label=r'$\\sigma_{\\bar{x}}(data1)$')\n",
      "plot(N,array([std(data[:1000,3]),std(data[:25000,3]),std(data[:50000,3]),std(data[:75000,3]),std(data[:,3])]),color='cyan',linestyle='--',label=r'$\\sigma_x(data4)$')\n",
      "plot(N,array([std(data[:1000,3])/sqrt(1000),std(data[:25000,3])/sqrt(25000),std(data[:50000,3])/sqrt(50000),std(data[:75000,3])/sqrt(75000),std(data[:,3])/sqrt(100000)]),color='cyan',label=r'$\\sigma_{\\bar{x}}(data4)$')\n",
      "yscale('log')\n",
      "legend()\n",
      "show()"
     ],
     "language": "python",
     "metadata": {},
     "outputs": []
    },
    {
     "cell_type": "code",
     "collapsed": false,
     "input": [
      "N=array([1000,25000,50000,75000,100000])\n",
      "plot(N,array([std(data[:1000,0]),std(data[:25000,0]),std(data[:50000,0]),std(data[:75000,0]),std(data[:,0])]),color='blue',linestyle='--',label=r'$\\sigma_x(data1)$')\n",
      "plot(N,array([std(data[:1000,0])/sqrt(1000),std(data[:25000,0])/sqrt(25000),std(data[:50000,0])/sqrt(50000),std(data[:75000,0])/sqrt(75000),std(data[:,0])/sqrt(100000)]),color='blue',label=r'$\\sigma_{\\bar{x}}(data1)$')\n",
      "plot(N,array([std(data[:1000,3]),std(data[:25000,3]),std(data[:50000,3]),std(data[:75000,3]),std(data[:,3])]),color='cyan',linestyle='--',label=r'$\\sigma_x(data4)$')\n",
      "plot(N,array([std(data[:1000,3])/sqrt(1000),std(data[:25000,3])/sqrt(25000),std(data[:50000,3])/sqrt(50000),std(data[:75000,3])/sqrt(75000),std(data[:,3])/sqrt(100000)]),color='cyan',label=r'$\\sigma_{\\bar{x}}(data4)$')\n",
      "\n",
      "legend()\n",
      "show()"
     ],
     "language": "python",
     "metadata": {},
     "outputs": []
    },
    {
     "cell_type": "code",
     "collapsed": false,
     "input": [
      "array([std(data[:1000,0]),std(data[:25000,0]),std(data[:50000,0]),std(data[:75000,0]),std(data[:,0])])"
     ],
     "language": "python",
     "metadata": {},
     "outputs": []
    },
    {
     "cell_type": "code",
     "collapsed": false,
     "input": [
      "N=array([1000,25000,50000,75000,100000])\n",
      "plot(N,array([std(data[:1000,0]),std(data[:25000,0]),std(data[:50000,0]),std(data[:75000,0]),std(data[:,0])]),color='blue',linestyle='--',label=r'$\\sigma_x(data1)$')\n",
      "plot(N,array([std(data[:1000,0])/sqrt(1000),std(data[:25000,0])/sqrt(25000),std(data[:50000,0])/sqrt(50000),std(data[:75000,0])/sqrt(75000),std(data[:,0])/sqrt(100000)]),color='blue',label=r'$\\sigma_{\\bar{x}}(data1)$')\n",
      "plot(N,array([std(data[:1000,3]),std(data[:25000,3]),std(data[:50000,3]),std(data[:75000,3]),std(data[:,3])]),color='cyan',linestyle='--',label=r'$\\sigma_x(data4)$')\n",
      "plot(N,array([std(data[:1000,3])/sqrt(1000),std(data[:25000,3])/sqrt(25000),std(data[:50000,3])/sqrt(50000),std(data[:75000,3])/sqrt(75000),std(data[:,3])/sqrt(100000)]),color='cyan',label=r'$\\sigma_{\\bar{x}}(data4)$')\n",
      "\n",
      "plot(array([0,100000]),array([std(data[:,3])/sqrt(100000),std(data[:,3])/sqrt(100000)]),color='red',linestyle=':')\n",
      "\n",
      "yscale('log')\n",
      "legend()\n",
      "show()"
     ],
     "language": "python",
     "metadata": {},
     "outputs": []
    },
    {
     "cell_type": "code",
     "collapsed": false,
     "input": [],
     "language": "python",
     "metadata": {},
     "outputs": []
    }
   ],
   "metadata": {}
  }
 ]
}