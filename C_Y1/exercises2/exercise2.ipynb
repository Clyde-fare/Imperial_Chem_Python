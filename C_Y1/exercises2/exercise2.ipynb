{
 "metadata": {
  "name": ""
 },
 "nbformat": 3,
 "nbformat_minor": 0,
 "worksheets": [
  {
   "cells": [
    {
     "cell_type": "heading",
     "level": 1,
     "metadata": {},
     "source": [
      "Problem set other"
     ]
    },
    {
     "cell_type": "markdown",
     "metadata": {},
     "source": [
      "[Clyde Fare](mailto:c.fare12@imperial.ac.uk) and [Jo\u00e3o Pedro Malhado](mailto:malhado@imperial.ac.uk), Imperial College London\n",
      "\n",
      "Licensed under a [Creative Commons Attribution 3.0 (CC-by) license](http://creativecommons.org/licenses/by/3.0/us)"
     ]
    },
    {
     "cell_type": "markdown",
     "metadata": {},
     "source": [
      "For this problem set, instead of solving the exercises on this notebook, create a new separate notebook for your answers (you can do this from the *dashboard*, likelly the browser window you launched this notebook from). Choose appropriate headings, and give your answers by providing the code cells and outputs, as well as commenting on markdown cells.\n",
      "\n",
      "Don't forget to load *pylab* and import *scipy* modules needed."
     ]
    },
    {
     "cell_type": "code",
     "collapsed": false,
     "input": [
      "%pylab inline\n",
      "import scipy.optimize"
     ],
     "language": "python",
     "metadata": {},
     "outputs": []
    },
    {
     "cell_type": "heading",
     "level": 2,
     "metadata": {},
     "source": [
      "Exercise 1"
     ]
    },
    {
     "cell_type": "markdown",
     "metadata": {},
     "source": [
      "File [chromatogram_ion126.dat](files/chromatogram_ion126.dat) contains data of a gas chromatography experiment with a mass spectometer detector, set up to determine the amount of the amino acid glycine on an ice sample. The first column corresponds to the retention time in minutes, and the second column the intensity of the signal in counts of detector hits per minute.\n",
      "\n",
      "* Plot the full chromatogram, and an inset of the largest peak which corresponds to glycine."
     ]
    },
    {
     "cell_type": "code",
     "collapsed": false,
     "input": [
      "chrom_ion126=loadtxt('chromatogram_ion126.dat')"
     ],
     "language": "python",
     "metadata": {},
     "outputs": []
    },
    {
     "cell_type": "code",
     "collapsed": false,
     "input": [
      "figsize(15,10)\n",
      "plot(chrom_ion126[:,0],chrom_ion126[:,1])\n",
      "xlabel('t/min')\n",
      "ylabel('I/counts min-1')\n",
      "show()"
     ],
     "language": "python",
     "metadata": {},
     "outputs": []
    },
    {
     "cell_type": "code",
     "collapsed": false,
     "input": [
      "figsize(15,10)\n",
      "plot(chrom_ion126[:,0],chrom_ion126[:,1],marker='o')\n",
      "xlabel('t/min')\n",
      "ylabel('I/counts min-1')\n",
      "xlim([42,46])\n",
      "show()"
     ],
     "language": "python",
     "metadata": {},
     "outputs": []
    },
    {
     "cell_type": "markdown",
     "metadata": {},
     "source": [
      "The objective of the experiment is to determine the concentration of glycine on the original ice sample. A previous calibration yielded the following relation between the number of moles of glycine injected $n_{\\text{gly}}$ and the area under the peak on the chromatogram:\n",
      "\n",
      "$$\\frac{A_{\\text{gly}}}{A_{\\text{std}}}= 8.33 \\times 10^4 \\times n_{\\text{gly}} - 7 \\times 10^{-4} ,$$\n",
      "\n",
      "where $A_{\\text{gly}}$ is the area under the peak corresponding to glycine in the chromatogram, $A_{\\text{std}}$ is the area of the peak of the internal standard used which in this case has the value $A_{\\text{std}}=9.538 \\times 10^6 \\text{counts}$. ([Internal standard](http://en.wikipedia.org/wiki/Internal_standard) usage is a common technique in analytical chemistry you will hear about later in your degree.)\n",
      "\n",
      "The area under the peak of the chromatogram can be calculated by fitting a mathematical function to the data, and determining the area under that mathematical function. By inspecting the peak you will notice that it is assymetric, with a fast rise and a comparativelly slower decay.\n",
      "Such behavious can be mimicked with the following function\n",
      "\n",
      "$$f(t)=a (t-t_0) e^{-\\frac{t-t_0}{b}} ,$$\n",
      "\n",
      "where $t_0$ corresponds to the start of the peak, $a$ is a parameter controling the rise and hight of the peak, and be controling the decay. The area under the line defined by such a function is:\n",
      "\n",
      "$$A_f=a b^2 .$$\n",
      "\n",
      "* Fit the function to the chromatogram data such as to determine the area under the peak. Don't forget to plot the experimental data and the fitted curve on the same plot to check your fit. (For convenience the fitting function *mb* is given bellow.)"
     ]
    },
    {
     "cell_type": "code",
     "collapsed": false,
     "input": [
      "def mb(t,a,b,t0):\n",
      "    \"Fitting function allowig a fast rise and a slow exponential tail\"\n",
      "    x=(abs(t-t0)+(t-t0))/2. # This is a trick used so that the function returns 0 when t<t0. Can you understand what is being done?\n",
      "    return a*x*e**(-x/b)"
     ],
     "language": "python",
     "metadata": {},
     "outputs": []
    },
    {
     "cell_type": "code",
     "collapsed": false,
     "input": [
      "gly_fit=scipy.optimize.curve_fit(mb,chrom_ion126[:,0],chrom_ion126[:,1],p0=[1,1,43])"
     ],
     "language": "python",
     "metadata": {},
     "outputs": []
    },
    {
     "cell_type": "code",
     "collapsed": false,
     "input": [
      "gly_fit"
     ],
     "language": "python",
     "metadata": {},
     "outputs": []
    },
    {
     "cell_type": "code",
     "collapsed": false,
     "input": [
      "figsize(15,10)\n",
      "plot(chrom_ion126[:,0],chrom_ion126[:,1])\n",
      "plot(chrom_ion126[:,0],mb(chrom_ion126[:,0],gly_fit[0][0],gly_fit[0][1],gly_fit[0][2]),linestyle='--',linewidth=5)\n",
      "xlabel('t/min')\n",
      "ylabel('I/counts min-1')\n",
      "xlim([42,46])\n",
      "show()"
     ],
     "language": "python",
     "metadata": {},
     "outputs": []
    },
    {
     "cell_type": "markdown",
     "metadata": {},
     "source": [
      "* Plot and comment on the residuals of your fitted curve. Do you have any ideas for an improved fitting function you would like to try?"
     ]
    },
    {
     "cell_type": "code",
     "collapsed": false,
     "input": [
      "figsize(15,10)\n",
      "plot(chrom_ion126[:,0],chrom_ion126[:,1]-mb(chrom_ion126[:,0],gly_fit[0][0],gly_fit[0][1],gly_fit[0][2]))\n",
      "xlabel('t/min')\n",
      "ylabel('Delta I/counts min-1')\n",
      "xlim([42,46])\n",
      "show()"
     ],
     "language": "python",
     "metadata": {},
     "outputs": []
    },
    {
     "cell_type": "markdown",
     "metadata": {},
     "source": [
      "* What is the concentration of glycine on the original sample knowing $1 \\mu l$ was injected in the chromatograph?"
     ]
    },
    {
     "cell_type": "heading",
     "level": 2,
     "metadata": {},
     "source": [
      "Exercise 2"
     ]
    },
    {
     "cell_type": "markdown",
     "metadata": {},
     "source": [
      "The following function *g* is a sum of two gaussian curves the behaviour of which we will study graphically.\n",
      "\n",
      "$$g(x)=a \\left(e^{-\\frac{(x+d/2)^2}{2 s^2}}+e^{-\\frac{(x-d/2)^2}{2 s^2}}\\right)$$\n",
      "\n",
      "* Define a python function which gives the value of the above mathematical function for each value of its parameters. Plot it as a function of *x* for different values of the parameters to identify how each changes the curve.\n",
      "\n",
      "* Plot *g* as a function of *x* and *d* simultaneously."
     ]
    },
    {
     "cell_type": "code",
     "collapsed": false,
     "input": [
      "from mpl_toolkits.mplot3d import Axes3D"
     ],
     "language": "python",
     "metadata": {},
     "outputs": []
    },
    {
     "cell_type": "code",
     "collapsed": false,
     "input": [
      "def dgauss(x,d,a,s):\n",
      "    \"2 gaussian curves separated by distance d\"\n",
      "    return a*(e**(-(x+d/2)**2/(2*s**2))+e**(-(x-d/2)**2/(2*s**2)))"
     ],
     "language": "python",
     "metadata": {},
     "outputs": []
    },
    {
     "cell_type": "code",
     "collapsed": false,
     "input": [
      "mesh = meshgrid(linspace(-10,10,80),linspace(0,10,40))\n",
      "xm=mesh[0]\n",
      "dm=mesh[1]\n",
      "z=dgauss(xm,dm,1,1)\n",
      "\n",
      "imshow(z)\n",
      "xlabel('x')\n",
      "ylabel('d')\n",
      "show()"
     ],
     "language": "python",
     "metadata": {},
     "outputs": []
    },
    {
     "cell_type": "code",
     "collapsed": false,
     "input": [
      "mesh = meshgrid(linspace(-10,10,80),linspace(0,10,40))\n",
      "xm=mesh[0]\n",
      "dm=mesh[1]\n",
      "z=dgauss(xm,dm,1,1)\n",
      "\n",
      "fancy=gca(projection='3d')\n",
      "fancy.plot_surface(xm,dm,z,rstride=1,cstride=1,cmap=cm.RdBu)\n",
      "fancy.view_init(20,90)\n",
      "xlabel('x')\n",
      "ylabel('d')\n",
      "show()"
     ],
     "language": "python",
     "metadata": {},
     "outputs": []
    },
    {
     "cell_type": "heading",
     "level": 2,
     "metadata": {},
     "source": [
      "Exercise 3"
     ]
    },
    {
     "cell_type": "markdown",
     "metadata": {},
     "source": [
      "A molecule can be promoted to an electronic excited state by absorbing light. Molecules in such an excited state may emit light back in a process called fluorescence. The wavelength/energy of the emited depends closelly on the properties of the molecule, and much information can be recovered from the molecule's emission spectrum.\n",
      "\n",
      "File [anthracene_fluo.dat](files/anthracene_fluo.dat) contains data of the emission spectrum of a solution of anthracene in ciclohexane. First column corresponds to the radiation wavelength in nanometers and the second column is radiation intensity in arbitrary units.\n",
      "\n",
      "* Load the data and plot the full spectrum."
     ]
    },
    {
     "cell_type": "code",
     "collapsed": false,
     "input": [
      "spectrum=loadtxt('anthracene_fluo.dat')"
     ],
     "language": "python",
     "metadata": {},
     "outputs": []
    },
    {
     "cell_type": "code",
     "collapsed": false,
     "input": [
      "plot(spectrum[:,0],spectrum[:,1])\n",
      "xlabel(r'$\\lambda/mn$')\n",
      "ylabel(r'$I_r/au$') #arbitrary units is not very pedagogical!\n",
      "show()"
     ],
     "language": "python",
     "metadata": {},
     "outputs": []
    },
    {
     "cell_type": "markdown",
     "metadata": {},
     "source": [
      "We will now fit the spectrum to a mathematical function in orther to be able to extrat quantitative information from it. In spectroscopy it is common practice to fit individual bands in the spectrum by a *gaussian* curves.\n",
      "\n",
      "* Construct a fitting function which is able to fit all the bands in the spectrum, produce the fit and, as usual, overlap the experimental and fitted curves.\n",
      "\n",
      "* From your fitted function you should be able to distinguish the functional forms of the individual bands that compose the spectrum. Superimpose each of these individual bands to the spectrum you plotted before."
     ]
    },
    {
     "cell_type": "code",
     "collapsed": false,
     "input": [
      "def gauss(x,x0,a,s):\n",
      "    \"Gaussian curve\"\n",
      "    return a*e**(-(x-x0)**2/(2*s**2))"
     ],
     "language": "python",
     "metadata": {},
     "outputs": []
    },
    {
     "cell_type": "code",
     "collapsed": false,
     "input": [
      "def spectralfit(x,x1,a1,s1,x2,a2,s2,x3,a3,s3,x4,a4,s4,x5,a5,s5,x6,a6,s6):\n",
      "    \"Fitting function as a sum of gaussians\"\n",
      "    return gauss(x,x1,a1,s1)+gauss(x,x2,a2,s2)+gauss(x,x3,a3,s3)+gauss(x,x4,a4,s4)+gauss(x,x5,a5,s5)+gauss(x,x6,a6,s6)"
     ],
     "language": "python",
     "metadata": {},
     "outputs": []
    },
    {
     "cell_type": "code",
     "collapsed": false,
     "input": [
      "spec_fit=scipy.optimize.curve_fit(spectralfit,spectrum[:,0],spectrum[:,1],p0=[340,5e5,1,380,5e5,1,400,5e5,1,425,5e5,1,450,2e5,1,475,1e5,1])"
     ],
     "language": "python",
     "metadata": {},
     "outputs": []
    },
    {
     "cell_type": "code",
     "collapsed": false,
     "input": [
      "spec_fit[0]"
     ],
     "language": "python",
     "metadata": {},
     "outputs": []
    },
    {
     "cell_type": "code",
     "collapsed": false,
     "input": [
      "x=spectrum[:,0]\n",
      "plot(x,spectrum[:,1])\n",
      "plot(x,spectralfit(x,*spec_fit[0]),linestyle='--') #special feature to avoid typing too much\n",
      "plot(x,gauss(x,spec_fit[0][0],spec_fit[0][1],spec_fit[0][2]),linestyle=':')\n",
      "plot(x,gauss(x,spec_fit[0][3],spec_fit[0][4],spec_fit[0][5]),linestyle=':')\n",
      "plot(x,gauss(x,spec_fit[0][6],spec_fit[0][7],spec_fit[0][8]),linestyle=':')\n",
      "plot(x,gauss(x,spec_fit[0][9],spec_fit[0][10],spec_fit[0][11]),linestyle=':')\n",
      "plot(x,gauss(x,spec_fit[0][12],spec_fit[0][13],spec_fit[0][14]),linestyle=':')\n",
      "plot(x,gauss(x,spec_fit[0][15],spec_fit[0][16],spec_fit[0][17]),linestyle=':')\n",
      "\n",
      "xlabel(r'$\\lambda/mn$')\n",
      "ylabel(r'$I_r/au$')\n",
      "show()"
     ],
     "language": "python",
     "metadata": {},
     "outputs": []
    },
    {
     "cell_type": "markdown",
     "metadata": {},
     "source": [
      "With the exception of the band centered at around 340 nm and the broad less intense band centred around 475 nm (which are due to different phenomena occuring during the experiment), all other bands form what is called a vibronic progression of the anthracene molecule.\n",
      "\n",
      "* Plot the wavelength (or the energy) of the centre of each of the bands of the anthracene vibronic progression as a function of a simple integer index and comment on your result.\n",
      "\n",
      "The results you just obtained is rather reveiling of the vibrations of the molecule. You will learn much more about it later on during the degree."
     ]
    },
    {
     "cell_type": "code",
     "collapsed": false,
     "input": [
      "plot(spec_fit[0][3:15:3],linestyle='None',marker='o')\n",
      "show()"
     ],
     "language": "python",
     "metadata": {},
     "outputs": []
    },
    {
     "cell_type": "heading",
     "level": 3,
     "metadata": {},
     "source": [
      "If you have time and are feeling adventurous"
     ]
    },
    {
     "cell_type": "markdown",
     "metadata": {},
     "source": [
      "Depending on the number of gaussians you used to fit the spectrum you should have obtained a rather good fit. However, you can do better! If you add a second gaussian function for each of the bands you will obtain a noticiable better fit. This is because there is not a single vibronic progression in the spectrum but two closelly overlapping ones. You can also plot the wavelength of the centre of all bands of each projection as a function of an integer index. What do you obtain?"
     ]
    }
   ],
   "metadata": {}
  }
 ]
}