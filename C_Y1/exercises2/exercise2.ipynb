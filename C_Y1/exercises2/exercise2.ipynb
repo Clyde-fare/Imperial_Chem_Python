{
 "metadata": {
  "name": ""
 },
 "nbformat": 3,
 "nbformat_minor": 0,
 "worksheets": [
  {
   "cells": [
    {
     "cell_type": "heading",
     "level": 1,
     "metadata": {},
     "source": [
      "Problem set other"
     ]
    },
    {
     "cell_type": "markdown",
     "metadata": {},
     "source": [
      "[Clyde Fare](mailto:c.fare12@imperial.ac.uk) and [Jo\u00e3o Pedro Malhado](mailto:malhado@imperial.ac.uk), Imperial College London\n",
      "\n",
      "Licensed under a [Creative Commons Attribution 3.0 (CC-by) license](http://creativecommons.org/licenses/by/3.0/us)"
     ]
    },
    {
     "cell_type": "markdown",
     "metadata": {},
     "source": [
      "For this problem set, instead of solving the exercises on this notebook, create a new separate notebook for your answers (you can do this from the *dashboard*, likelly the browser window you launched this notebook from). Choose appropriate headings, and give your answers by providing the code cells and outputs, as well as commenting on markdown cells.\n",
      "\n",
      "Don't forget to load *pylab* and import *scipy* modules needed."
     ]
    },
    {
     "cell_type": "code",
     "collapsed": false,
     "input": [
      "%pylab inline"
     ],
     "language": "python",
     "metadata": {},
     "outputs": []
    },
    {
     "cell_type": "code",
     "collapsed": false,
     "input": [
      "import scipy.optimize"
     ],
     "language": "python",
     "metadata": {},
     "outputs": []
    },
    {
     "cell_type": "heading",
     "level": 2,
     "metadata": {},
     "source": [
      "Exercise 1"
     ]
    },
    {
     "cell_type": "markdown",
     "metadata": {},
     "source": [
      "File 'chromatogram_ion126.dat' contains data of a chromatography experiment set up to determine the amount of the amino acid glycene on an ice sample."
     ]
    },
    {
     "cell_type": "code",
     "collapsed": false,
     "input": [
      "chrom_ion126=loadtxt('chromatogram_ion126.dat')"
     ],
     "language": "python",
     "metadata": {},
     "outputs": []
    },
    {
     "cell_type": "code",
     "collapsed": false,
     "input": [
      "figsize(15,10)\n",
      "plot(chrom_ion126[:,0],chrom_ion126[:,1])\n",
      "xlabel('t/min')\n",
      "show()"
     ],
     "language": "python",
     "metadata": {},
     "outputs": []
    },
    {
     "cell_type": "code",
     "collapsed": false,
     "input": [
      "def mb(t,a,b,t0):\n",
      "    \"Fitting function allowig a fast rise and a slow exponential tail\"\n",
      "    x=(abs(t-t0)+(t-t0))/2. # This is a trick used so that the function returns 0 when x<x0. Can you understand what is being done?\n",
      "    return a*x*e**(-x/b)"
     ],
     "language": "python",
     "metadata": {},
     "outputs": []
    },
    {
     "cell_type": "markdown",
     "metadata": {},
     "source": [
      "$$f(x)=a x e^{-\\frac{x}{b}}$$\n",
      "\n",
      "The area under the line defined by such a function is:\n",
      "\n",
      "$$\\text{area}=a b^2$$"
     ]
    },
    {
     "cell_type": "code",
     "collapsed": false,
     "input": [
      "gli_fit=scipy.optimize.curve_fit(mb,chrom_ion126[:,0],chrom_ion126[:,1],p0=[1,1,43])"
     ],
     "language": "python",
     "metadata": {},
     "outputs": []
    },
    {
     "cell_type": "code",
     "collapsed": false,
     "input": [
      "gli_fit[0]"
     ],
     "language": "python",
     "metadata": {},
     "outputs": []
    },
    {
     "cell_type": "code",
     "collapsed": false,
     "input": [
      "figsize(15,10)\n",
      "plot(chrom_ion126[:,0],chrom_ion126[:,1])\n",
      "plot(chrom_ion126[:,0],mb(chrom_ion126[:,0],gli_fit[0][0],gli_fit[0][1],gli_fit[0][2]),linestyle='--',linewidth=5)\n",
      "xlim([42,46])\n",
      "show()"
     ],
     "language": "python",
     "metadata": {},
     "outputs": []
    },
    {
     "cell_type": "code",
     "collapsed": false,
     "input": [
      "figsize(15,10)\n",
      "plot(chrom_ion126[:,0],chrom_ion126[:,1])\n",
      "plot(chrom_ion126[:,0],mb(chrom_ion126[:,0],gli_fit[0][0],gli_fit[0][1],gli_fit[0][2]),linestyle='--',linewidth=5)\n",
      "show()"
     ],
     "language": "python",
     "metadata": {},
     "outputs": []
    },
    {
     "cell_type": "heading",
     "level": 2,
     "metadata": {},
     "source": [
      "Exercise 2"
     ]
    },
    {
     "cell_type": "code",
     "collapsed": false,
     "input": [
      "spectrum=loadtxt('anthracene_fluo.dat')"
     ],
     "language": "python",
     "metadata": {},
     "outputs": []
    },
    {
     "cell_type": "code",
     "collapsed": false,
     "input": [
      "plot(spectrum[:,0],spectrum[:,1])\n",
      "xlabel(r'$\\lambda/mn$')\n",
      "ylabel(r'$I_r/au$') #arbitrary units is not very pedagogical!\n",
      "show()"
     ],
     "language": "python",
     "metadata": {},
     "outputs": []
    },
    {
     "cell_type": "code",
     "collapsed": false,
     "input": [],
     "language": "python",
     "metadata": {},
     "outputs": []
    }
   ],
   "metadata": {}
  }
 ]
}