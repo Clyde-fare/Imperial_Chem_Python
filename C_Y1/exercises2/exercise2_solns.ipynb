{
 "metadata": {
  "name": "",
  "signature": "sha256:4893809769254bd910d4a1e5591dc18ad404c5e2c099dac99f6a25c736cc6f57"
 },
 "nbformat": 3,
 "nbformat_minor": 0,
 "worksheets": [
  {
   "cells": [
    {
     "cell_type": "heading",
     "level": 1,
     "metadata": {},
     "source": [
      "Problem set 2"
     ]
    },
    {
     "cell_type": "markdown",
     "metadata": {},
     "source": [
      "[Clyde Fare](mailto:c.fare12@imperial.ac.uk) and [Jo\u00e3o Pedro Malhado](mailto:malhado@imperial.ac.uk), Imperial College London\n",
      "\n",
      "Licensed under a [Creative Commons Attribution 3.0 (CC-by) license](http://creativecommons.org/licenses/by/3.0/us)"
     ]
    },
    {
     "cell_type": "markdown",
     "metadata": {},
     "source": [
      "For this problem set, instead of solving the exercises on this notebook, create a new separate notebook for your answers (you can do this from the *dashboard* - the browser window you launched this notebook from). Choose appropriate headings, and give your answers by providing the code cells and outputs, as well as commenting on markdown cells.\n",
      "\n",
      "Don't forget to load *pylab* and import the *scipy* modules needed."
     ]
    },
    {
     "cell_type": "code",
     "collapsed": false,
     "input": [
      "%pylab inline\n",
      "import scipy.optimize"
     ],
     "language": "python",
     "metadata": {},
     "outputs": []
    },
    {
     "cell_type": "heading",
     "level": 2,
     "metadata": {},
     "source": [
      "Exercise 1"
     ]
    },
    {
     "cell_type": "markdown",
     "metadata": {},
     "source": [
      "The file [chromatogram_ion126.dat](files/chromatogram_ion126.dat) contains data from an experiment combining gas chromatography with a mass spectrometer. The experiment aims to determine the amount of the glycine present in a sample of ice. The first column of the data corresponds to the time after the sample is injected into the column (units are minutes), the second column corresponds to the intensity measured by the  mass spectrometer (units are counts of detector hits per minute).\n",
      "\n",
      "* In one figure plot the full chromatogram\n",
      "* In a second figure create a plot zoomed in on the largest peak (this peak marks the point when glycine reached the mass spectrometer)."
     ]
    },
    {
     "cell_type": "code",
     "collapsed": false,
     "input": [
      "chrom_ion126=loadtxt('chromatogram_ion126.dat')\n",
      "time = chrom_ion126[:,0]\n",
      "intensity = chrom_ion126[:,1]\n",
      "figsize(15,10)\n",
      "plot(time, intensity)\n",
      "xlabel('Time /min')\n",
      "ylabel('Intensity /counts min-1')\n",
      "show()"
     ],
     "language": "python",
     "metadata": {},
     "outputs": []
    },
    {
     "cell_type": "code",
     "collapsed": false,
     "input": [
      "figsize(15,10)\n",
      "plot(time, intensity,marker='o')\n",
      "xlabel('Time /min')\n",
      "ylabel('Intensity /counts min-1')\n",
      "xlim([42,46])\n",
      "show()"
     ],
     "language": "python",
     "metadata": {},
     "outputs": []
    },
    {
     "cell_type": "markdown",
     "metadata": {},
     "source": [
      "The objective of the experiment is to determine the concentration of glycine in the sample. When the instrument was calibrated the  following relationship between the number of moles of glycine in a sample and the area under the subsequent chromatogram peak was determined as:\n",
      "\n",
      "$$\\frac{A_{\\text{gly}}}{A_{\\text{std}}}= 8.33 \\times 10^4 \\times n_{\\text{gly}} - 7 \\times 10^{-4} ,$$\n",
      "\n",
      "where:\n",
      "$A_{\\text{gly}}$ is the area under the glycine peak, \n",
      "$n_{\\text{gly}}$ is the number of moles of glycine\n",
      "$A_{\\text{std}}$ is a calibration constant equal to $9.538 \\times 10^6 \\text{counts}$.\n",
      "\n",
      "The area under the glycine peak can be calculated in a variery of ways, here we will do so by fitting a function to the peak then determining the area under the function. If you inspect the peak above you will notice that it is asymmetric, with a very fast rise from about zero up to it's maximum value and a comparativelly slower decay back down to zero.\n",
      "\n",
      "This behaviour can be captured with the following function\n",
      "\n",
      "$$f(t)=a (t-t_0) e^{-\\frac{t-t_0}{b}} ,$$\n",
      "\n",
      "where\n",
      "$t_0$ corresponds to the time the peak starts, $a$ is a parameter controlling the rise and hight of the peak and $b$ is a parameter  controling the decay of the peak. \n",
      "\n",
      "The area under such a function is:\n",
      "\n",
      "$$Area=a b^2 .$$\n",
      "\n",
      "* Fit the function to your data \\*\n",
      "* Plot the experimental data and the fitted curve on the same figure to check the fit is sensible.\n",
      "* Determine the area under the peak\n",
      "\n",
      "\\*For convenience the fitting function *gly_intensity* is given below."
     ]
    },
    {
     "cell_type": "code",
     "collapsed": false,
     "input": [
      "def gly_intensity(t,a,b,t0):\n",
      "    \"Fitting function allowing a fast rise and a slow exponential tail\"\n",
      "    x=(abs(t-t0)+(t-t0))/2. # This is a trick used so that the function returns 0 when t<t0. Can you understand what is being done?\n",
      "    return a*x*e**(-x/b)"
     ],
     "language": "python",
     "metadata": {},
     "outputs": []
    },
    {
     "cell_type": "code",
     "collapsed": false,
     "input": [
      "gly_params, gly_mcov=scipy.optimize.curve_fit(gly_intensity, time, intensity, p0=[1,1,43])\n",
      "predicted_intensity = gly_intensity(time, *gly_params)\n",
      "\n",
      "figsize(15,10)\n",
      "plot(time, intensity)\n",
      "plot(time ,predicted_intensity, linestyle='--', linewidth=5)\n",
      "xlabel('Time /min')\n",
      "ylabel('Intensity /counts min-1')\n",
      "xlim([42,46])\n",
      "show()"
     ],
     "language": "python",
     "metadata": {},
     "outputs": []
    },
    {
     "cell_type": "markdown",
     "metadata": {},
     "source": [
      "* Plot and comment on the residuals of your fitted curve. Do you have any ideas for an improved fitting function you would like to try?"
     ]
    },
    {
     "cell_type": "code",
     "collapsed": false,
     "input": [
      "residuals = predicted_intensity - intensity\n",
      "\n",
      "figsize(15,10)\n",
      "plot(time, residuals)\n",
      "xlabel('Time /min')\n",
      "ylabel('Delta I/counts min-1')\n",
      "xlim([42,46])\n",
      "show()"
     ],
     "language": "python",
     "metadata": {},
     "outputs": []
    },
    {
     "cell_type": "markdown",
     "metadata": {},
     "source": [
      "* What is the concentration of glycine in the original sample knowing $1 \\mu l$ was injected in the chromatograph?"
     ]
    },
    {
     "cell_type": "heading",
     "level": 2,
     "metadata": {},
     "source": [
      "Exercise 2"
     ]
    },
    {
     "cell_type": "markdown",
     "metadata": {},
     "source": [
      "The following mathematical function $g1$ corresponds to a Gaussian curve:\n",
      "\n",
      "$$g1(x)=a e^{-\\frac{(x-x0)^2}{2 s^2}} .$$\n",
      "\n",
      "Function *g2* is a sum of two Gaussian curves:\n",
      "\n",
      "$$g2(x)=a \\left(e^{-\\frac{(x+d/2)^2}{2 s^2}}+e^{-\\frac{(x-d/2)^2}{2 s^2}}\\right) .$$\n",
      "\n",
      "* Define a python function corresponding to function $g2$.\n",
      "\n",
      "* Use this to produce several plots of $g2(x)$ against *x* using different values of the parameters to identify the effect of the parameters on the curve.\n",
      "\n",
      "* Use a 3d plot or a projected plot to visualise *g2* as a function of both *x* and *d* simultaneously."
     ]
    },
    {
     "cell_type": "code",
     "collapsed": false,
     "input": [
      "def dgauss(x,d,a,s):\n",
      "    \"2 gaussian curves separated by distance d\"\n",
      "    return a*(e**(-(x+d/2)**2/(2*s**2))+e**(-(x-d/2)**2/(2*s**2)))"
     ],
     "language": "python",
     "metadata": {},
     "outputs": []
    },
    {
     "cell_type": "code",
     "collapsed": false,
     "input": [
      "X = linspace(10,-10, 200)"
     ],
     "language": "python",
     "metadata": {},
     "outputs": []
    },
    {
     "cell_type": "code",
     "collapsed": false,
     "input": [
      "#inter peak distance\n",
      "d,a,s = 1,1,1\n",
      "for d in range(10):\n",
      "    plot(X, dgauss(X,d,a,s), label='d:{} a:{} s:{}'.format(d,a,s))\n",
      "legend()\n",
      "show()"
     ],
     "language": "python",
     "metadata": {},
     "outputs": []
    },
    {
     "cell_type": "code",
     "collapsed": false,
     "input": [
      "#peak(s) height\n",
      "d,a,s = 1,1,1\n",
      "for a in range(10):\n",
      "    plot(X, dgauss(X,d,a,s), label='d:{} a:{} s:{}'.format(d,a,s))\n",
      "legend()\n",
      "show()"
     ],
     "language": "python",
     "metadata": {},
     "outputs": []
    },
    {
     "cell_type": "code",
     "collapsed": false,
     "input": [
      "#peak(s) breadth\n",
      "d,a,s = 1,1,1\n",
      "for s in range(10):\n",
      "    plot(X, dgauss(X,d,a,s), label='d:{} a:{} s:{}'.format(d,a,s))\n",
      "legend()\n",
      "show()"
     ],
     "language": "python",
     "metadata": {},
     "outputs": []
    },
    {
     "cell_type": "code",
     "collapsed": false,
     "input": [
      "from mpl_toolkits.mplot3d import Axes3D\n",
      "\n",
      "mesh = meshgrid(linspace(-10,10,80),linspace(0,10,40))\n",
      "xm=mesh[0]\n",
      "dm=mesh[1]\n",
      "z=dgauss(xm, dm, 1, 1)\n",
      "\n",
      "imshow(z)\n",
      "xlabel('x')\n",
      "ylabel('d')\n",
      "show()"
     ],
     "language": "python",
     "metadata": {},
     "outputs": []
    },
    {
     "cell_type": "code",
     "collapsed": false,
     "input": [
      "mesh = meshgrid(linspace(-10,10,80),linspace(0,10,40))\n",
      "xm=mesh[0]\n",
      "dm=mesh[1]\n",
      "z=dgauss(xm,dm,1,1)\n",
      "\n",
      "fancy=gca(projection='3d')\n",
      "fancy.plot_surface(xm, dm, z, rstride=1, cstride=1, cmap=cm.RdBu)\n",
      "fancy.view_init(20,90)\n",
      "xlabel('x')\n",
      "ylabel('d')\n",
      "show()"
     ],
     "language": "python",
     "metadata": {},
     "outputs": []
    },
    {
     "cell_type": "heading",
     "level": 2,
     "metadata": {},
     "source": [
      "Exercise 3"
     ]
    },
    {
     "cell_type": "markdown",
     "metadata": {},
     "source": [
      "A molecule can be promoted to an excited state by absorbing light. Once in that excited state it can then fall back to it's original state by emitting light - a process called fluorescence. The wavelength of the emitted light depends on the properties of the molecule and a great deal of information about a molecule can be determine by examining the light it emits.\n",
      "\n",
      "The file [anthracene_fluo.dat](files/anthracene_fluo.dat) contains data for the emission spectrum of a solution of [anthracene](http://en.wikipedia.org/wiki/Anthracene) in cyclohexane. The first column corresponds to the wavelength of the emitted light (in units of nanometers) and the second column corresponds to the intensity of the emitted light (units are arbitrary).\n",
      "\n",
      "* Load the data and plot the full spectrum."
     ]
    },
    {
     "cell_type": "code",
     "collapsed": false,
     "input": [
      "spectrum = loadtxt('anthracene_fluo.dat')\n",
      "wavelength = spectrum[:,0]\n",
      "intensity = spectrum[:,1]\n",
      "plot(wavelength, intensity)\n",
      "xlabel(r'$\\lambda/mn$')\n",
      "ylabel(r'$I_r/au$') #arbitrary units is not very pedagogical!\n",
      "show()"
     ],
     "language": "python",
     "metadata": {},
     "outputs": []
    },
    {
     "cell_type": "markdown",
     "metadata": {},
     "source": [
      "* Construct a function that will suitably fit the full spectrum. (Note: In spectroscopy it is common practice to fit individual peaks of a spectrum using Gaussian functions.)\n",
      "\n",
      "* Fit the function to the spectrum data and plot both spectrum and fitted function together on a single figure.\n",
      "\n",
      "* Using the parameters you've extracted from your fitting procedure, add to the previous figure plots of the individual peaks that form the spectrum."
     ]
    },
    {
     "cell_type": "code",
     "collapsed": false,
     "input": [
      "def gauss(x, x0, a, s):\n",
      "    \"Gaussian curve\"\n",
      "    return a*e**(-(x-x0)**2/(2*s**2))"
     ],
     "language": "python",
     "metadata": {},
     "outputs": []
    },
    {
     "cell_type": "code",
     "collapsed": false,
     "input": [
      "def spectralfit(x, x1, a1, s1, x2, a2, s2, x3, a3, s3, x4, a4, s4, x5, a5, s5, x6, a6, s6):\n",
      "    \"Fitting function as a sum of gaussians\"\n",
      "    intensity = gauss(x,x1,a1,s1) + \\\n",
      "                gauss(x,x2,a2,s2) + \\\n",
      "                gauss(x,x3,a3,s3) + \\\n",
      "                gauss(x,x4,a4,s4) + \\\n",
      "                gauss(x,x5,a5,s5) + \\\n",
      "                gauss(x,x6,a6,s6)\n",
      "    \n",
      "    return intensity"
     ],
     "language": "python",
     "metadata": {},
     "outputs": []
    },
    {
     "cell_type": "code",
     "collapsed": false,
     "input": [
      "initial_guess = [340,5e5,1,\n",
      "                 380,5e5,1,\n",
      "                 400,5e5,1,\n",
      "                 425,5e5,1,\n",
      "                 450,2e5,1,\n",
      "                 475,1e5,1]\n",
      "\n",
      "spec_fit_out = scipy.optimize.curve_fit(spectralfit, wavelength, intensity, p0=initial_guess)\n",
      "spec_fit_params = spec_fit_out[0]"
     ],
     "language": "python",
     "metadata": {},
     "outputs": []
    },
    {
     "cell_type": "code",
     "collapsed": false,
     "input": [
      "##the most extensible way to do this\n",
      "#def spectralfit(x, *master_gauss_params):\n",
      "#    \"Fitting function as a sum of gaussians\"\n",
      "#    master_gauss_params = array(master_gauss_params).reshape(len(master_gauss_params)/3, 3)\n",
      "#    intensity = 0\n",
      "#    \n",
      "#    for gauss_params in master_gauss_params:\n",
      "#        intensity += gauss(x, *gauss_params)    \n",
      "#\n",
      "#    return intensity\n",
      "#\n",
      "#spec_fit_out = scipy.optimize.curve_fit(spectralfit, wavelength, intensity, p0=[340,5e5,1,\n",
      "#                                                                                380,5e5,1,\n",
      "#                                                                                400,5e5,1,\n",
      "#                                                                                425,5e5,1,\n",
      "#                                                                                450,2e5,1,\n",
      "#                                                                                475,1e5,1])"
     ],
     "language": "python",
     "metadata": {},
     "outputs": []
    },
    {
     "cell_type": "code",
     "collapsed": false,
     "input": [
      "spec_fit_params"
     ],
     "language": "python",
     "metadata": {},
     "outputs": []
    },
    {
     "cell_type": "code",
     "collapsed": false,
     "input": [
      "plot(wavelength, intensity)\n",
      "plot(wavelength, spectralfit(x, *spec_fit_params), linestyle='--') #special feature to avoid typing too much\n",
      "plot(wavelength, gauss(wavelength, *spec_fit_params[0:3]), linestyle=':')\n",
      "plot(wavelength, gauss(wavelength, *spec_fit_params[3:6]), linestyle=':')\n",
      "plot(wavelength, gauss(wavelength, *spec_fit_params[6:9]), linestyle=':')\n",
      "plot(wavelength, gauss(wavelength, *spec_fit_params[9:12]), linestyle=':')\n",
      "plot(wavelength, gauss(wavelength, *spec_fit_params[12:15]), linestyle=':')\n",
      "plot(wavelength, gauss(wavelength, *spec_fit_params[15:18]), linestyle=':')\n",
      "\n",
      "xlabel(r'$\\lambda/mn$')\n",
      "ylabel(r'$I_r/au$')\n",
      "show()"
     ],
     "language": "python",
     "metadata": {},
     "outputs": []
    },
    {
     "cell_type": "markdown",
     "metadata": {},
     "source": [
      "With the exception of the peak centered at around 340 nm and the broad less intense peak centred around 475 nm (which are due to different phenomena occuring during the experiment), all other peaks form what is called a vibronic progression of the anthracene molecule.\n",
      "\n",
      "* Plot the wavelength corresponding to the centre of each of the peaks of anthracene against peak number counting from lower wavelengths and comment on your result.\n",
      "\n",
      "The results you have obtained relate to the vibration of the molecule -you will learn much more about this phenomena later on during the degree."
     ]
    },
    {
     "cell_type": "code",
     "collapsed": false,
     "input": [
      "#looks linear\n",
      "vibronic_wavelengths = spec_fit_params[3:15:3]\n",
      "plot(vibronic_wavelengths, linestyle='None', marker='o')\n",
      "show()"
     ],
     "language": "python",
     "metadata": {},
     "outputs": []
    },
    {
     "cell_type": "heading",
     "level": 3,
     "metadata": {},
     "source": [
      "If you have time and are feeling adventurous"
     ]
    },
    {
     "cell_type": "markdown",
     "metadata": {},
     "source": [
      "Depending on the number of gaussians you used to fit the spectrum you should have obtained a rather good fit. However, you can do better! Even though it looks like the anthracene spectrum is formed by a single vibronic progression (excluding the 340nm and 475nm peaks), in fact, each apparent peak is formed by two underlying peaks corresponding to two closely overlapping vibronic progressions. Improve your fitting function such as to capture both vibronic progressions and you will obtain a noticiably better fit. \n",
      "\n",
      "Now that you are capturing both sets of vibronic progressions you can now produce two plots of the wavelengths vs. an integer index for the two progressions."
     ]
    },
    {
     "cell_type": "code",
     "collapsed": false,
     "input": [],
     "language": "python",
     "metadata": {},
     "outputs": []
    }
   ],
   "metadata": {}
  }
 ]
}