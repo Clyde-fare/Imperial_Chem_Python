{
 "metadata": {
  "name": ""
 },
 "nbformat": 3,
 "nbformat_minor": 0,
 "worksheets": [
  {
   "cells": [
    {
     "cell_type": "markdown",
     "metadata": {},
     "source": [
      "# A Crash Course in Python Workshop 2\n",
      "[Clyde Fare](c.fare12@imperial.ac.uk) and [William Vigor](w.vigor11@imperial.ac.uk), Imperial College London\n",
      "\n",
      "\n",
      "Notebook is adapted from material by Catherine Devlin, Rick Muller, Adrian Price-Whelan and licensed under a [Creative Commons Attribution-ShareAlike 3.0 Unported License](http://creativecommons.org/licenses/by-sa/3.0/deed.en_US)."
     ]
    },
    {
     "cell_type": "markdown",
     "metadata": {},
     "source": [
      "\n",
      "During this workshop we will continue on from last time refreshing some core programming concepts and moving to using python to model, analyse and plot data. There are exercises at the end to help review the material.\n",
      "\n",
      "Like last time this is an interactive tutorial. As you go through it any time you see something that looks like this:\n",
      "\n",
      "    a = np.array([1,2,3])\n",
      "   \n",
      "that's followed by an empty *code cell* (a light grey rectagle with a label like *\"In[ ]\"*), you should \n",
      "type the expression in the code cell, hit Shift+Return to *execute* it, and note the output.\n",
      "\n",
      "No copying and pasting! You'll learn the concepts better if you type them out yourself.\n",
      "\n",
      "Warning please periodically save your work."
     ]
    },
    {
     "cell_type": "markdown",
     "metadata": {},
     "source": [
      "To speed things up we will also include some filled code cells for you to execute **(You should still read what's in the code cells and make sure you understand them!!)**: "
     ]
    },
    {
     "cell_type": "code",
     "collapsed": false,
     "input": [
      "my_list = [1,2,3,4,5]\n",
      "my_other_list = ['a','b','c','d', 'e']\n",
      "my_combi_list = [1,2,3,4,5,'a','b','c','d','e']\n",
      "my_list_of_lists = [ [1,2,3], [4,5,6], [7,8,9] ]\n",
      "\n",
      "big_data = [27, 1, 58, 50, 63, 48, 42, 81, 77, 39, 46, 44, 36, 5, 63, 25, 56, 43, 8, \\\n",
      "            70, 0, 1, 0, 0 ,0, 0, 0, 1, 1, 0, 0, 0, 0, 0, 1, 0, 1, 0, 1, 1, 0, 1, 1, \\\n",
      "            1, 0 ,0 ,1, 0 ,0, 'H', 'H', 'N', 'H', 'C', 'C', 'H', 'H', 'H', 'N', 'N', \\\n",
      "            'C', 'H', 'H', 'H', 'C', 'C', 'C', 'C', 'H']"
     ],
     "language": "python",
     "metadata": {},
     "outputs": [],
     "prompt_number": 3
    },
    {
     "cell_type": "heading",
     "level": 1,
     "metadata": {},
     "source": [
      "Refreshers (with a little bit extra)"
     ]
    },
    {
     "cell_type": "heading",
     "level": 2,
     "metadata": {},
     "source": [
      "Strings"
     ]
    },
    {
     "cell_type": "markdown",
     "metadata": {},
     "source": [
      "Strings are variables that contain combinations of characters. We define with single or double quotes, or if we want a 'raw' string that captures multiple lines and characters python usually interprets we use triple quotes."
     ]
    },
    {
     "cell_type": "code",
     "collapsed": false,
     "input": [
      "my_str = 'here is a string'\n",
      "print(my_str)"
     ],
     "language": "python",
     "metadata": {},
     "outputs": [
      {
       "output_type": "stream",
       "stream": "stdout",
       "text": [
        "here is a string\n",
        "here is another string\n",
        "here is a raw string\n",
        "on two lines\n"
       ]
      }
     ],
     "prompt_number": 6
    },
    {
     "cell_type": "code",
     "collapsed": false,
     "input": [
      "my_str_2 = \"here is another string\"\n",
      "print(my_str_2)\n"
     ],
     "language": "python",
     "metadata": {},
     "outputs": []
    },
    {
     "cell_type": "code",
     "collapsed": false,
     "input": [
      "my_str_3 = '''here is a raw string\n",
      "spanning two lines'''\n",
      "print(my_str_3)"
     ],
     "language": "python",
     "metadata": {},
     "outputs": []
    },
    {
     "cell_type": "markdown",
     "metadata": {},
     "source": [
      "We also learned we can add strings together:\n",
      "    print(my_str + \" \" + my_str_2)"
     ]
    },
    {
     "cell_type": "code",
     "collapsed": false,
     "input": [],
     "language": "python",
     "metadata": {},
     "outputs": []
    },
    {
     "cell_type": "markdown",
     "metadata": {},
     "source": [
      "The raw string above includes a break of line implicitly, but we might want to build up a multi line string inside our program. To do that we use a special end of line character '\\n'. When you open a text file in an editor like notepad the editor knows where to put new lines based upon where it finds these new line characters. \n",
      "\n",
      "Compare:\n",
      "    \n",
      "    my_new_str = \"This string comes in two parts: part1 and part2\"\n",
      "    print(my_new_str)\n",
      "    "
     ]
    },
    {
     "cell_type": "code",
     "collapsed": false,
     "input": [],
     "language": "python",
     "metadata": {},
     "outputs": []
    },
    {
     "cell_type": "markdown",
     "metadata": {},
     "source": [
      "With:\n",
      "\n",
      "    my_new_str = \"This string comes in two parts:\\n\\npart1 and part2\"\n",
      "    print(my_new_str)"
     ]
    },
    {
     "cell_type": "code",
     "collapsed": false,
     "input": [],
     "language": "python",
     "metadata": {},
     "outputs": []
    },
    {
     "cell_type": "markdown",
     "metadata": {},
     "source": [
      "So we can create strings add them together and put in new lines! Great! We also learned we can include other variables in strings but that we need to convert them:"
     ]
    },
    {
     "cell_type": "code",
     "collapsed": false,
     "input": [
      "print (\"This one way to add other variables: \" + str(1) )"
     ],
     "language": "python",
     "metadata": {},
     "outputs": []
    },
    {
     "cell_type": "markdown",
     "metadata": {},
     "source": [
      "When we looked at lists we saw that we could use the .append() 'method' to add elements to the list. As mentioned before other variables also have methods that do useful things (remember you can type a variable followed by a dot and hit tab inside an IPython notebook to find out what methods a variable has access to).\n",
      "\n",
      "Two very useful string methods are .split() and .join()\n",
      "\n",
      "Have a look at what splitting a string does:\n",
      "    \n",
      "    \"This is a test string\".split()"
     ]
    },
    {
     "cell_type": "code",
     "collapsed": false,
     "input": [],
     "language": "python",
     "metadata": {},
     "outputs": []
    },
    {
     "cell_type": "markdown",
     "metadata": {},
     "source": [
      "Split breaks up a string into pieces and returns a list of those pieces. If you do not specify an argument it breaks up the string by spaces, but you can specify what you want the seperator to be."
     ]
    },
    {
     "cell_type": "markdown",
     "metadata": {},
     "source": [
      "    \"This is a test string aaaa bbbb aaaa bbbb cccc\".split('aaaa')"
     ]
    },
    {
     "cell_type": "code",
     "collapsed": false,
     "input": [],
     "language": "python",
     "metadata": {},
     "outputs": []
    },
    {
     "cell_type": "markdown",
     "metadata": {},
     "source": [
      "The opposite of .split is .join. This takes a list of pieces and assembles them into a single string.\n",
      "\n",
      "    \" \".join(['This', 'is', 'brilliant']"
     ]
    },
    {
     "cell_type": "code",
     "collapsed": false,
     "input": [],
     "language": "python",
     "metadata": {},
     "outputs": []
    },
    {
     "cell_type": "markdown",
     "metadata": {},
     "source": [
      "The initial string that we are calling .join from contains the linker string that will be added in between all the pieces. Above we have a space so the sentence gets constructed in a sensible way. But we can use any string we like: \n",
      "\n",
      "    \" badger \".join(['This', 'is', 'brilliant'])\n"
     ]
    },
    {
     "cell_type": "code",
     "collapsed": false,
     "input": [],
     "language": "python",
     "metadata": {},
     "outputs": []
    },
    {
     "cell_type": "markdown",
     "metadata": {},
     "source": [
      "What do you think the following will do?\n",
      "\n",
      "    \" \".join( \"This is a test string\".split() )"
     ]
    },
    {
     "cell_type": "code",
     "collapsed": false,
     "input": [],
     "language": "python",
     "metadata": {},
     "outputs": []
    },
    {
     "cell_type": "heading",
     "level": 2,
     "metadata": {},
     "source": [
      "Lists"
     ]
    },
    {
     "cell_type": "markdown",
     "metadata": {},
     "source": [
      "Last time we learned that lists were containers that could be filled with other kinds of variables:"
     ]
    },
    {
     "cell_type": "code",
     "collapsed": false,
     "input": [
      "my_list = [1,2,3,4,5]\n",
      "my_other_list = ['a',b','c','d', 'e']\n",
      "my_combi_list = [1,2,3,4,5,'a','b','c','d','e']\n",
      "my_list_of_lists = [ [1,2,3], [4,5,6], [7,8,9] ]"
     ],
     "language": "python",
     "metadata": {},
     "outputs": []
    },
    {
     "cell_type": "markdown",
     "metadata": {},
     "source": [
      "    \n",
      "That we could use .append to add elements to a list:\n",
      "\n",
      "    "
     ]
    },
    {
     "cell_type": "code",
     "collapsed": false,
     "input": [
      "another_list = []\n",
      "another_list.append(1)\n",
      "another_list.append(2)\n",
      "another_list == [1,2]"
     ],
     "language": "python",
     "metadata": {},
     "outputs": [
      {
       "metadata": {},
       "output_type": "pyout",
       "prompt_number": 1,
       "text": [
        "True"
       ]
      }
     ],
     "prompt_number": 1
    },
    {
     "cell_type": "markdown",
     "metadata": {},
     "source": [
      "That we could access elements of a list by it's *index*. For a list with N elements this starts at 0 for the first element of the list and runs through to N-1 for the last element of the list. We can also use negative integers in the index to count back from the end of the list starting at -1 for the last element and ending with -N for the first element."
     ]
    },
    {
     "cell_type": "code",
     "collapsed": false,
     "input": [
      "my_list[0] == my_list_of_lists[0][0] == my_list[-5]\n",
      "my_other_list[0] == my_combi_list[5]"
     ],
     "language": "python",
     "metadata": {},
     "outputs": [
      {
       "metadata": {},
       "output_type": "pyout",
       "prompt_number": 4,
       "text": [
        "True"
       ]
      }
     ],
     "prompt_number": 4
    },
    {
     "cell_type": "markdown",
     "metadata": {},
     "source": [
      "And there was a special python function range() that produced lists of integers:"
     ]
    },
    {
     "cell_type": "code",
     "collapsed": false,
     "input": [
      "r1=range(10)\n",
      "r2=range(1,11)\n",
      "r3=range(1,11,2)\n",
      "\n",
      "print(r1)\n",
      "print(r2)\n",
      "print(r3)"
     ],
     "language": "python",
     "metadata": {},
     "outputs": [
      {
       "output_type": "stream",
       "stream": "stdout",
       "text": [
        "[0, 1, 2, 3, 4, 5, 6, 7, 8, 9]\n",
        "[1, 2, 3, 4, 5, 6, 7, 8, 9, 10]\n",
        "[1, 3, 5, 7, 9]\n"
       ]
      }
     ],
     "prompt_number": 19
    },
    {
     "cell_type": "markdown",
     "metadata": {},
     "source": [
      "Ok enough of the refresher what about something new? Well an extra feature of lists is that we can use refer to slices of them. To refer to slice of the my_combi_list = [1,2,3,4,5,'a','b','c','d','e'] that we defined above corresponding to elements at index 1,2 and 3 i.e. just to the subset [2,3,4], we would write:\n",
      "    \n",
      "    my_combi_list[1:4]"
     ]
    },
    {
     "cell_type": "code",
     "collapsed": false,
     "input": [],
     "language": "python",
     "metadata": {},
     "outputs": []
    },
    {
     "cell_type": "markdown",
     "metadata": {},
     "source": [
      "To refer to the entire list with the exception of the first and last elements we would use:\n",
      "    \n",
      "    my_combi_list[1:-1]"
     ]
    },
    {
     "cell_type": "code",
     "collapsed": false,
     "input": [],
     "language": "python",
     "metadata": {},
     "outputs": []
    },
    {
     "cell_type": "markdown",
     "metadata": {},
     "source": [
      "The general format is to give the index of the element we want to start with followed by a colon followed by the first index we don't wish to include. I.e. It's the list from our first index up to but not including our second index.\n",
      "\n",
      "So using this syntax the full list could be given by:\n",
      "\n",
      "    my_combi_list[0:10]\n"
     ]
    },
    {
     "cell_type": "code",
     "collapsed": false,
     "input": [],
     "language": "python",
     "metadata": {},
     "outputs": []
    },
    {
     "cell_type": "markdown",
     "metadata": {},
     "source": [
      "There is a shortcut if we want to refer to the beginning or end in a slice - we just omit the index. Omitting the first index means we start at the beginning of the list (and is the same as using a first index of 0)\n",
      "\n",
      "    my_combi_list[0:3] == my_combi_list[:3]"
     ]
    },
    {
     "cell_type": "code",
     "collapsed": false,
     "input": [],
     "language": "python",
     "metadata": {},
     "outputs": []
    },
    {
     "cell_type": "markdown",
     "metadata": {},
     "source": [
      "Omitting the second index means we finish with the end of the list (and is the same as using a second index of N):\n",
      "\n",
      "    my_combi_list[5:10] == my_list[5:]"
     ]
    },
    {
     "cell_type": "code",
     "collapsed": false,
     "input": [],
     "language": "python",
     "metadata": {},
     "outputs": []
    },
    {
     "cell_type": "heading",
     "level": 2,
     "metadata": {},
     "source": [
      "Loops"
     ]
    },
    {
     "cell_type": "markdown",
     "metadata": {},
     "source": [
      "Last time we learned that we can loop over the elements in a list via a **for-loop**. This runs the code inside the loop once for each element in the list:"
     ]
    },
    {
     "cell_type": "code",
     "collapsed": false,
     "input": [
      "for i in [1,2,3,4,5]:\n",
      "    print(i)"
     ],
     "language": "python",
     "metadata": {},
     "outputs": []
    },
    {
     "cell_type": "markdown",
     "metadata": {},
     "source": [
      "The blocks of code inside a for-loop are not limited to a single line of code:"
     ]
    },
    {
     "cell_type": "code",
     "collapsed": false,
     "input": [
      "for i in range(10):\n",
      "    square_i = i*i\n",
      "    print( \"The square of \" + str(i) + \" is \" + str(square_i) )"
     ],
     "language": "python",
     "metadata": {},
     "outputs": []
    },
    {
     "cell_type": "markdown",
     "metadata": {},
     "source": [
      "and whilst you can use the elements of the list in the loop as we do above, you don't actually have to:"
     ]
    },
    {
     "cell_type": "code",
     "collapsed": false,
     "input": [
      "for i in [1,2,3,4,5]:\n",
      "    print(0)"
     ],
     "language": "python",
     "metadata": {},
     "outputs": []
    },
    {
     "cell_type": "markdown",
     "metadata": {},
     "source": [
      "There is another kind of loop called the **while-loop**. This also repeatedly runs a block of code, but in this case it doesn't go through the elements of a list repeatedly running the block of code each time. Instead, it keeps repeating the block of code until something some condition becomes False. Here's an example that does the same thing as the first for-loop:\n",
      "\n",
      "    i=1\n",
      "    while i < 6:\n",
      "        print(i)\n",
      "        i = i + 1"
     ]
    },
    {
     "cell_type": "code",
     "collapsed": false,
     "input": [],
     "language": "python",
     "metadata": {},
     "outputs": []
    },
    {
     "cell_type": "markdown",
     "metadata": {},
     "source": [
      "While loops can use any boolean as a condition:\n",
      "    \n",
      "    finished = False\n",
      "       while finished != True:\n",
      "            print(i)\n",
      "            i = i + 1\n",
      "            \n",
      "            if i == 10:\n",
      "                finished = True"
     ]
    },
    {
     "cell_type": "code",
     "collapsed": false,
     "input": [],
     "language": "python",
     "metadata": {},
     "outputs": []
    },
    {
     "cell_type": "markdown",
     "metadata": {},
     "source": [
      "The above two while loops are not really good examples because we can easily use a for-loop to achieve the same thing. In general if you know you want to loop a specific number of times then you use a for-loop, if you know you need to loop until some condition is fulfilled then you use a while loop. \n",
      "\n",
      "For instance if you had some data in a very big heterogenous list and you wanted the elements from the start of the list up until the first zero then a would be to use a while loop:\n",
      "\n",
      "    my_data = []\n",
      "    i=0\n",
      "    while big_data[i] !=0:\n",
      "        my_data.append(big_data[i])\n",
      "        i=i+1\n",
      "    \n",
      "    print(my_data)\n"
     ]
    },
    {
     "cell_type": "code",
     "collapsed": false,
     "input": [],
     "language": "python",
     "metadata": {},
     "outputs": []
    },
    {
     "cell_type": "markdown",
     "metadata": {},
     "source": [
      "Actually there is a problem with this code that may not initially be apparent. What happens if big_data has no negative numbers?"
     ]
    },
    {
     "cell_type": "markdown",
     "metadata": {},
     "source": [
      "    some_more_data = big_data[:20] + big_data[-20:]\n",
      "    print( len(some_more_data) )\n",
      "    \n",
      "    i=0\n",
      "    my_data = []\n",
      "    while some_more_data[i] !=0:\n",
      "        my_data.append(big_data[i])\n",
      "        i=i+1\n",
      "    \n",
      "    print(my_data)"
     ]
    },
    {
     "cell_type": "code",
     "collapsed": false,
     "input": [],
     "language": "python",
     "metadata": {},
     "outputs": []
    },
    {
     "cell_type": "markdown",
     "metadata": {},
     "source": [
      "The while loop keeps going appending each element of the some_more_data kist to the my_data list, but when it reaches the last element of some_more_data (i=39), it still hasn't seen a 0 so it keeps going adding the last element to my_data, setting i to 40 and then checking to see if the element at some_more_data[40] has a zero, but the last element as at some_more_data[39] so we get an IndexError when it tries to look at index 40. In general when we write while loops we have to be very careful that the loops don't keep going forever. In this case we just go beyond the list boundary and get an error but you can have a worse situation where the loop just keeps going forever, locking up the computer!"
     ]
    },
    {
     "cell_type": "markdown",
     "metadata": {},
     "source": [
      "We'll fix the above mentioned problem by specifically checking that we're not going beyond the bounds of the list\n",
      "    \n",
      "\n",
      "    size_data = len(some_more_data)\n",
      "    i=0\n",
      "    my_data = []\n",
      "\n",
      "    while i<= size_data and some_more_data[i] !=0:\n",
      "        my_data.append(big_data[i])\n",
      "        i=i+1\n",
      "    \n",
      "    print(my_data)"
     ]
    },
    {
     "cell_type": "code",
     "collapsed": false,
     "input": [],
     "language": "python",
     "metadata": {},
     "outputs": []
    },
    {
     "cell_type": "markdown",
     "metadata": {},
     "source": [
      "If possible we should try to write code that's more general so that we can reuse it later. I.e. even if it so happens that you know that the original data source does have a zero in, it's still a good idea to get in the habbit of writing code that would cope with a data source that does not.  "
     ]
    },
    {
     "cell_type": "heading",
     "level": 2,
     "metadata": {},
     "source": [
      "Functions"
     ]
    },
    {
     "cell_type": "markdown",
     "metadata": {},
     "source": [
      "We learned to write our own functions:\n",
      "\n",
      "    def add(x,y):\n",
      "        return x+y"
     ]
    },
    {
     "cell_type": "code",
     "collapsed": false,
     "input": [],
     "language": "python",
     "metadata": {},
     "outputs": []
    },
    {
     "cell_type": "markdown",
     "metadata": {},
     "source": [
      "And to use them the way we use Python's built in functions:\n",
      "\n",
      "    add(1,3)"
     ]
    },
    {
     "cell_type": "code",
     "collapsed": false,
     "input": [],
     "language": "python",
     "metadata": {},
     "outputs": []
    },
    {
     "cell_type": "heading",
     "level": 1,
     "metadata": {},
     "source": [
      "Files"
     ]
    },
    {
     "cell_type": "markdown",
     "metadata": {},
     "source": [
      "Sometimes we want to store or extract data from a source that will persist longer than our notebook or script. There are various ways of doing this but the most straightforward way is to read or write strings from/to a text file. \n",
      "\n",
      "First we have to create a variable representing the file we are interested in using, we do this using the open() function. \n",
      "\n",
      "    my_file1 = open('test_data.txt', 'r')\n"
     ]
    },
    {
     "cell_type": "code",
     "collapsed": false,
     "input": [],
     "language": "python",
     "metadata": {},
     "outputs": []
    },
    {
     "cell_type": "markdown",
     "metadata": {},
     "source": [
      "This takes a string containing the name of our file (including the full path if the file is not in the same directory as the notebook/script) and as a second argument a flag telling Python whether we are going to read or write to the file. ('r' for reading and 'w' for writing). "
     ]
    },
    {
     "cell_type": "markdown",
     "metadata": {},
     "source": [
      "To read the contents from the file for reading we can use the .read() method, after we've done so we must remember to close the file:\n",
      "\n",
      "    my_file1_contents = my_file.read()\n",
      "    my_file1.close()\n",
      "    \n",
      "    print(my_file_contents)"
     ]
    },
    {
     "cell_type": "code",
     "collapsed": false,
     "input": [],
     "language": "python",
     "metadata": {},
     "outputs": []
    },
    {
     "cell_type": "markdown",
     "metadata": {},
     "source": [
      "Alternatively we can can use the .readlines() method to extract the file as a list of strings where each element of the list corresponds to one of the lines in the file:\n",
      "  \n",
      "    my_file1 = open('test_data.txt', 'r')\n",
      "    my_file1_list_lines = my_file.readlines()\n",
      "    my_file1.close()\n",
      "\n",
      "    print(my_file_list_lines)"
     ]
    },
    {
     "cell_type": "markdown",
     "metadata": {},
     "source": [
      "If we want to write a string to a file we open the file for writing using the 'w' flag, and then use write() method. Note that if you open a file for writing you **will overwrite whatever was initially in the file**:\n",
      "   "
     ]
    },
    {
     "cell_type": "code",
     "collapsed": false,
     "input": [
      "my_data = \"\"\"4\n",
      "    \n",
      "    C 0 0 0\n",
      "    O 1 0 0\n",
      "    H 0 1 0\n",
      "    H 0 0 1\"\""
     ],
     "language": "python",
     "metadata": {},
     "outputs": []
    },
    {
     "cell_type": "markdown",
     "metadata": {},
     "source": [
      "       \n",
      "    my_file2 = open('test_structure.xyz', 'w')\n",
      "    my_file2.write(my_data)\n",
      "    my_file2.close()"
     ]
    },
    {
     "cell_type": "code",
     "collapsed": false,
     "input": [],
     "language": "python",
     "metadata": {},
     "outputs": []
    },
    {
     "cell_type": "markdown",
     "metadata": {},
     "source": [
      "Open up new_test_data.txt in an editor and check it matches the above text."
     ]
    },
    {
     "cell_type": "markdown",
     "metadata": {},
     "source": [
      "If we wish to modify a file we need to first read the contents (opening the file for reading then closing it), modify the contents in the way we wish, and then write the contents to the file (opening the file for writing then closing it) "
     ]
    },
    {
     "cell_type": "code",
     "collapsed": false,
     "input": [
      "my_file = open('test_structure.xyz', 'r')\n",
      "my_file_list_lines = my_file.readlines()\n",
      "my_file.close()\n",
      "\n",
      "my_file_list_lines[0] = '6'\n",
      "my_file_list_lines.append('H 1 1 0')\n",
      "my_file_list_lines.append('H 0 1 0')\n",
      "\n",
      "my_new_contents = \"\\n\".join(my_file1_list_lines)\n",
      "\n",
      "my_file = open('test_data.txt', 'w')\n",
      "my_file.write(my_new_contents)\n",
      "my_file.close()"
     ],
     "language": "python",
     "metadata": {},
     "outputs": []
    },
    {
     "cell_type": "markdown",
     "metadata": {},
     "source": [
      "Now have a look at test_structure.xyz again."
     ]
    },
    {
     "cell_type": "heading",
     "level": 1,
     "metadata": {},
     "source": [
      "External modules"
     ]
    },
    {
     "cell_type": "markdown",
     "metadata": {},
     "source": [
      "It quickly become cumbersome if every time we want to use a function that is not part of Python we have to explicitly write it out in our notebook or .py file. Luckily there is a way to import pre-existing code in the form as modules.\n",
      "\n",
      "Inside your notebook directory you have a file called \"some_functions.py\" which contains two functions 'func1' and 'func2' which we want to use in our current notebook. (Take a look at 'some_functions.py' in an editor to make sure you understand what it contains). There are several ways you can import and use them.\n",
      "\n",
      "You can import the whole module and call your functions from it via a dot and the name of the function you want:\n",
      "\n",
      "    import workshop_2_functions\n",
      "\n",
      "    workshop_2_functions.fibonacci(10)\n",
      "    workshop_2_functions.factorial(10)"
     ]
    },
    {
     "cell_type": "code",
     "collapsed": false,
     "input": [],
     "language": "python",
     "metadata": {},
     "outputs": []
    },
    {
     "cell_type": "markdown",
     "metadata": {},
     "source": [
      "You can do the same thing but choosing to refer to your module by a different (usually shorter) name:    \n",
      "    \n",
      "    import workshop_2_functions as wrk2_f\n",
      "\n",
      "    wrk2_f.fibonacci(10)\n",
      "    wrk2_f.factorial(10)"
     ]
    },
    {
     "cell_type": "code",
     "collapsed": false,
     "input": [],
     "language": "python",
     "metadata": {},
     "outputs": []
    },
    {
     "cell_type": "markdown",
     "metadata": {},
     "source": [
      "You can choose to extract one (or more) of the functions directly\n",
      "\n",
      "    from workshop_2_functions import fibonacci\n",
      "\n",
      "    fibonacci(10)\n"
     ]
    },
    {
     "cell_type": "code",
     "collapsed": false,
     "input": [],
     "language": "python",
     "metadata": {},
     "outputs": []
    },
    {
     "cell_type": "markdown",
     "metadata": {},
     "source": [
      "You can extract all functions contained in the module\n",
      "\n",
      "    from workshop_2_functions import *\n",
      "    \n",
      "    fibonacci(10)\n",
      "    factorial(1)"
     ]
    },
    {
     "cell_type": "code",
     "collapsed": false,
     "input": [],
     "language": "python",
     "metadata": {},
     "outputs": []
    },
    {
     "cell_type": "markdown",
     "metadata": {},
     "source": [
      "The downside of options 3 and particularly 4 is that you might accidentally import a function that has the same name as another variable or function being used. Option 2 is generally considered best practice."
     ]
    },
    {
     "cell_type": "markdown",
     "metadata": {},
     "source": [
      "The anaconda distribution has a lot of standard scientific modules [built in](http://docs.continuum.io/anaconda/pkgs.html) these can be imported (regardless of directory) in the same way:\n",
      "\n",
      "    import numpy as np\n",
      "    np.e"
     ]
    },
    {
     "cell_type": "code",
     "collapsed": false,
     "input": [],
     "language": "python",
     "metadata": {},
     "outputs": []
    },
    {
     "cell_type": "markdown",
     "metadata": {},
     "source": [
      "A final point to mention is that modules like numpy that are very large often further divide into sub-modules. An example is numpy's linear algebra module which is contained inside the main numpy module. We can often (but not always) use submodules from their parent module like this:\n",
      "\n",
      "    import numpy as np\n",
      "    np.linalg.norm([1,0,0])"
     ]
    },
    {
     "cell_type": "code",
     "collapsed": false,
     "input": [],
     "language": "python",
     "metadata": {},
     "outputs": []
    },
    {
     "cell_type": "markdown",
     "metadata": {},
     "source": [
      "We can always import and then use the submodule directly: \n",
      "\n",
      "    import numpy.linalg as la\n",
      "    la.norm([1,0,0])"
     ]
    },
    {
     "cell_type": "code",
     "collapsed": false,
     "input": [],
     "language": "python",
     "metadata": {},
     "outputs": []
    },
    {
     "cell_type": "markdown",
     "metadata": {},
     "source": [
      "or import functions from within the submodule via:\n",
      "    \n",
      "    from numpy.linalg import norm\n",
      "    norm([1,0,0])"
     ]
    },
    {
     "cell_type": "markdown",
     "metadata": {},
     "source": [
      "Once a function is imported once in a notebook it is accessible from all the cells.\n",
      "\n",
      "    norm([1,0,0])"
     ]
    },
    {
     "cell_type": "code",
     "collapsed": false,
     "input": [],
     "language": "python",
     "metadata": {},
     "outputs": []
    },
    {
     "cell_type": "markdown",
     "metadata": {},
     "source": [
      "When writing scripts we almost always put the import statements at the beginning of the file that way it's immediately clear what the code we are using depends upon."
     ]
    },
    {
     "cell_type": "markdown",
     "metadata": {},
     "source": [
      "## Plotting with Matplotlib\n",
      "We can generally understand trends in data by using a plotting program to chart it. Python has a wonderful plotting library called [Matplotlib](http://matplotlib.sf.net). The IPython notebook interface we are using for these notes has that functionality built in.\n",
      "\n",
      "As an example, we have looked at two different functions, the Fibonacci function, and the factorial function, both of which grow faster than polynomially. Which one grows the fastest? Let's plot them. First, let's generate the Fibonacci sequence of length 20:"
     ]
    },
    {
     "cell_type": "markdown",
     "metadata": {},
     "source": [
      "With that out the way, we can now introduce some of Python's most popular plotting scientific libraries: [Matplotlib](http://matplotlib.org/), [Numpy](http://www.numpy.org/) and [scipy](http://www.scipy.org/)\n",
      "\n",
      "    fibs = fibonacci(10)"
     ]
    },
    {
     "cell_type": "code",
     "collapsed": false,
     "input": [],
     "language": "python",
     "metadata": {},
     "outputs": []
    },
    {
     "cell_type": "markdown",
     "metadata": {},
     "source": [
      "Next lets generate the factorials.\n",
      "\n",
      "    facts = []\n",
      "    for i in range(10):\n",
      "        facts.append(factorial(i))"
     ]
    },
    {
     "cell_type": "code",
     "collapsed": false,
     "input": [],
     "language": "python",
     "metadata": {},
     "outputs": []
    },
    {
     "cell_type": "markdown",
     "metadata": {},
     "source": [
      "Now we use the Matplotlib function plot to compare the two.\n",
      "\n",
      "    figsize(8,6)\n",
      "    plot(facts,label=\"factorial\")\n",
      "    plot(fibs,label=\"Fibonacci\")\n",
      "    xlabel(\"n\")\n",
      "    legend()"
     ]
    },
    {
     "cell_type": "code",
     "collapsed": false,
     "input": [],
     "language": "python",
     "metadata": {},
     "outputs": []
    },
    {
     "cell_type": "markdown",
     "metadata": {},
     "source": [
      "The factorial function grows much faster. In fact, you can't even see the Fibonacci sequence. It's not entirely surprising: a function where we multiply by n each iteration is bound to grow faster than one where we add (roughly) n each iteration.\n",
      "\n",
      "Let's plot these on a semilog plot so we can see them both a little more clearly:\n",
      "    \n",
      "    semilogy(facts,label=\"factorial\")\n",
      "    semilogy(fibs,label=\"Fibonacci\")\n",
      "    xlabel(\"n\")\n",
      "    legend()"
     ]
    },
    {
     "cell_type": "code",
     "collapsed": false,
     "input": [],
     "language": "python",
     "metadata": {},
     "outputs": []
    },
    {
     "cell_type": "markdown",
     "metadata": {},
     "source": [
      "There are many more things you can do with Matplotlib. We'll be looking at some of them in the sections to come. In the meantime, if you want an idea of the different things you can do, look at the Matplotlib [Gallery](http://matplotlib.org/gallery.html). Rob Johansson's IPython notebook [Introduction to Matplotlib](http://nbviewer.ipython.org/urls/raw.github.com/jrjohansson/scientific-python-lectures/master/Lecture-4-Matplotlib.ipynb) is also particularly good."
     ]
    },
    {
     "cell_type": "markdown",
     "metadata": {},
     "source": [
      "#Numpy and Scipy\n",
      "\n",
      "[Numpy](http://numpy.org) contains core routines for doing fast vector, matrix, and linear algebra-type operations in Python. [Scipy](http://scipy) contains additional routines for optimization, special functions, statistics and so on. Both contain modules optimised for speed that are very fast in comparison to normal python code. Together, they give Python roughly the same capability that the [Matlab](http://www.mathworks.com/products/matlab/) program offers.\n",
      "\n",
      "## Making vectors and matrices\n",
      "Fundamental to both Numpy and Scipy is the ability to work with vectors and matrices. You can create vectors from lists using the **array** command:\n",
      "\n",
      "    np.array([1,2,3,4,5,6])"
     ]
    },
    {
     "cell_type": "code",
     "collapsed": false,
     "input": [],
     "language": "python",
     "metadata": {},
     "outputs": []
    },
    {
     "cell_type": "markdown",
     "metadata": {},
     "source": [
      "You can pass in a second argument to **array** that gives the numeric type. There are a number of types [listed here](http://docs.scipy.org/doc/numpy/user/basics.types.html) that your matrix can be. Some of these are referenced using a single character. The most common ones are 'd' (double precision floating point number), 'D' (double precision complex number), and 'i' (int32). Thus,\n",
      "\n",
      "    np.array([1,2,3,4,5,6],'d')"
     ]
    },
    {
     "cell_type": "code",
     "collapsed": false,
     "input": [],
     "language": "python",
     "metadata": {},
     "outputs": []
    },
    {
     "cell_type": "markdown",
     "metadata": {},
     "source": [
      "    np.array([1,2,3,4,5,6],'D')"
     ]
    },
    {
     "cell_type": "code",
     "collapsed": false,
     "input": [],
     "language": "python",
     "metadata": {},
     "outputs": []
    },
    {
     "cell_type": "markdown",
     "metadata": {},
     "source": [
      "    np.array([1,2,3,4,5,6],'i')"
     ]
    },
    {
     "cell_type": "code",
     "collapsed": false,
     "input": [],
     "language": "python",
     "metadata": {},
     "outputs": []
    },
    {
     "cell_type": "markdown",
     "metadata": {},
     "source": [
      "To build matrices, you can either use the array command with lists of lists:\n",
      "    \n",
      "        np.array([[0,1],[1,0]],'d')"
     ]
    },
    {
     "cell_type": "code",
     "collapsed": false,
     "input": [],
     "language": "python",
     "metadata": {},
     "outputs": []
    },
    {
     "cell_type": "markdown",
     "metadata": {},
     "source": [
      "You can also form empty (zero) matrices of arbitrary shape (including vectors, which Numpy treats as vectors with one row), using the **zeros** command:\n",
      "\n",
      "    np.zeros( [3,3], 'd')"
     ]
    },
    {
     "cell_type": "code",
     "collapsed": false,
     "input": [],
     "language": "python",
     "metadata": {},
     "outputs": []
    },
    {
     "cell_type": "markdown",
     "metadata": {},
     "source": [
      "The first argument is a list containing the shape of the matrix, and the second is the data type argument, which follows the same conventions as in the array command. Thus, you can make row vectors:"
     ]
    },
    {
     "cell_type": "markdown",
     "metadata": {},
     "source": [
      "    np.zeros(3,'d')"
     ]
    },
    {
     "cell_type": "code",
     "collapsed": false,
     "input": [],
     "language": "python",
     "metadata": {},
     "outputs": []
    },
    {
     "cell_type": "markdown",
     "metadata": {},
     "source": [
      "    np.zeros( [1,3], 'd')"
     ]
    },
    {
     "cell_type": "code",
     "collapsed": false,
     "input": [],
     "language": "python",
     "metadata": {},
     "outputs": []
    },
    {
     "cell_type": "markdown",
     "metadata": {},
     "source": [
      "or column vectors:\n",
      "\n",
      "    np.zeros( [3,1], 'd')"
     ]
    },
    {
     "cell_type": "code",
     "collapsed": false,
     "input": [],
     "language": "python",
     "metadata": {},
     "outputs": []
    },
    {
     "cell_type": "markdown",
     "metadata": {},
     "source": [
      "There's also an **identity** command that behaves as you'd expect:\n",
      "\n",
      "    np.identity(4,'d')"
     ]
    },
    {
     "cell_type": "code",
     "collapsed": false,
     "input": [],
     "language": "python",
     "metadata": {},
     "outputs": []
    },
    {
     "cell_type": "markdown",
     "metadata": {},
     "source": [
      "as well as a **ones** command.\n",
      "\n",
      "    np.ones([3,1])"
     ]
    },
    {
     "cell_type": "code",
     "collapsed": false,
     "input": [],
     "language": "python",
     "metadata": {},
     "outputs": []
    },
    {
     "cell_type": "markdown",
     "metadata": {},
     "source": [
      "## Linspace, matrix functions, and plotting\n",
      "The **linspace** command makes a linear array of points from a starting to an ending value.\n",
      "\n",
      "    np.linspace(0,1)"
     ]
    },
    {
     "cell_type": "code",
     "collapsed": false,
     "input": [],
     "language": "python",
     "metadata": {},
     "outputs": []
    },
    {
     "cell_type": "markdown",
     "metadata": {},
     "source": [
      "If you provide a third argument, it takes that as the number of points in the space. If you don't provide the argument, it gives a length 50 linear space.\n",
      "\n",
      "    np.linspace(0,1,11)"
     ]
    },
    {
     "cell_type": "code",
     "collapsed": false,
     "input": [],
     "language": "python",
     "metadata": {},
     "outputs": []
    },
    {
     "cell_type": "markdown",
     "metadata": {},
     "source": [
      "**linspace** is an easy way to make coordinates for plotting. Functions in the numpy library (all of which are imported into IPython notebook) can act on an entire vector (or even a matrix) of points at once. Thus,\n",
      "\n",
      "    x = np.linspace(0,2*pi)\n",
      "    sin(x)"
     ]
    },
    {
     "cell_type": "code",
     "collapsed": false,
     "input": [],
     "language": "python",
     "metadata": {},
     "outputs": []
    },
    {
     "cell_type": "markdown",
     "metadata": {},
     "source": [
      "In conjunction with **matplotlib**, this is a nice way to plot things:\n",
      "\n",
      "    plot(x,sin(x))"
     ]
    },
    {
     "cell_type": "code",
     "collapsed": false,
     "input": [],
     "language": "python",
     "metadata": {},
     "outputs": []
    },
    {
     "cell_type": "markdown",
     "metadata": {},
     "source": [
      "## Matrix operations\n",
      "Matrix objects act sensibly when multiplied by scalars:\n",
      "\n",
      "    0.125*np.identity(3,'d')"
     ]
    },
    {
     "cell_type": "code",
     "collapsed": false,
     "input": [],
     "language": "python",
     "metadata": {},
     "outputs": []
    },
    {
     "cell_type": "markdown",
     "metadata": {},
     "source": [
      "as well as when you add two matrices together. (However, the matrices have to be the same shape.)\n",
      "\n",
      "    np.identity(2,'d') + np.array([[1,1],[1,2]])"
     ]
    },
    {
     "cell_type": "code",
     "collapsed": false,
     "input": [],
     "language": "python",
     "metadata": {},
     "outputs": []
    },
    {
     "cell_type": "markdown",
     "metadata": {},
     "source": [
      "Something that can confuses people new to numpy is that the times (*) operator give element-wise multiplication rather than matrix multiplication:\n",
      "\n",
      "    np.identity(2)*np.ones((2,2))"
     ]
    },
    {
     "cell_type": "code",
     "collapsed": false,
     "input": [],
     "language": "python",
     "metadata": {},
     "outputs": []
    },
    {
     "cell_type": "markdown",
     "metadata": {},
     "source": [
      "To get matrix multiplication, you need the **dot** command:\n",
      "\n",
      "    np.dot(np.identity(2),np.ones((2,2)))"
     ]
    },
    {
     "cell_type": "code",
     "collapsed": false,
     "input": [],
     "language": "python",
     "metadata": {},
     "outputs": []
    },
    {
     "cell_type": "markdown",
     "metadata": {},
     "source": [
      "**dot** can also do dot products (duh!):\n",
      "\n",
      "    v = np.array([3,4],'d')\n",
      "    sqrt(np.dot(v,v))"
     ]
    },
    {
     "cell_type": "code",
     "collapsed": false,
     "input": [],
     "language": "python",
     "metadata": {},
     "outputs": []
    },
    {
     "cell_type": "markdown",
     "metadata": {},
     "source": [
      "as well as matrix-vector products."
     ]
    },
    {
     "cell_type": "markdown",
     "metadata": {},
     "source": [
      "There are **determinant**, **inverse**, and **transpose** functions that act as you would suppose. Transpose can be abbreviated with \".T\" at the end of a matrix object:\n",
      "\n",
      "    m = np.array([[1,2],[3,4]])\n",
      "    m.T"
     ]
    },
    {
     "cell_type": "code",
     "collapsed": false,
     "input": [],
     "language": "python",
     "metadata": {},
     "outputs": []
    },
    {
     "cell_type": "markdown",
     "metadata": {},
     "source": [
      "There's also a **diag()** function that takes a list or a vector and puts it along the diagonal of a square matrix. \n",
      "\n",
      "    np.diag([1,2,3,4,5])"
     ]
    },
    {
     "cell_type": "code",
     "collapsed": false,
     "input": [],
     "language": "python",
     "metadata": {},
     "outputs": []
    },
    {
     "cell_type": "markdown",
     "metadata": {},
     "source": [
      "We'll find this useful later on."
     ]
    },
    {
     "cell_type": "code",
     "collapsed": false,
     "input": [],
     "language": "python",
     "metadata": {},
     "outputs": []
    },
    {
     "cell_type": "markdown",
     "metadata": {},
     "source": [
      "## Matrix Solvers\n",
      "You can solve systems of linear equations using the **solve** command:\n",
      "    \n",
      "    A = np.array([[1,1,1],[0,2,5],[2,5,-1]])\n",
      "    b = np.array([6,-4,27])\n",
      "    np.linalg.solve(A,b)"
     ]
    },
    {
     "cell_type": "code",
     "collapsed": false,
     "input": [],
     "language": "python",
     "metadata": {},
     "outputs": []
    },
    {
     "cell_type": "markdown",
     "metadata": {},
     "source": [
      "There are a number of routines to compute eigenvalues and eigenvectors\n",
      "\n",
      "* **eigvals** returns the eigenvalues of a matrix\n",
      "* **eigvalsh** returns the eigenvalues of a Hermitian matrix\n",
      "* **eig** returns the eigenvalues and eigenvectors of a matrix\n",
      "* **eigh** returns the eigenvalues and eigenvectors of a Hermitian matrix.\n",
      "    \n",
      "Code:\n",
      "\n",
      "    A = np.array([[13,-4],[-4,7]],'d')\n",
      "    np.linalg.eigvalsh(A)"
     ]
    },
    {
     "cell_type": "code",
     "collapsed": false,
     "input": [],
     "language": "python",
     "metadata": {},
     "outputs": []
    },
    {
     "cell_type": "markdown",
     "metadata": {},
     "source": [
      "    np.linalg.eigh(A)"
     ]
    },
    {
     "cell_type": "code",
     "collapsed": false,
     "input": [],
     "language": "python",
     "metadata": {},
     "outputs": []
    },
    {
     "cell_type": "markdown",
     "metadata": {},
     "source": [
      "## Example: Finite Differences\n",
      "Now that we have these tools in our toolbox, we can start to do some cool stuff with it. Many of the equations we want to solve in Physics involve differential equations. We want to be able to compute the derivative of functions:\n",
      "\n",
      "$$ y' = \\frac{y(x+h)-y(x)}{h} $$\n",
      "\n",
      "by *discretizing* the function $y(x)$ on an evenly spaced set of points $x_0, x_1, \\dots, x_n$, yielding $y_0, y_1, \\dots, y_n$. Using the discretization, we can approximate the derivative by\n",
      "\n",
      "$$ y_i' \\approx \\frac{y_{i+1}-y_{i-1}}{x_{i+1}-x_{i-1}} $$\n",
      "\n",
      "We can write a derivative function in Python via"
     ]
    },
    {
     "cell_type": "code",
     "collapsed": false,
     "input": [
      "def nderiv(y,x):\n",
      "    \"Finite difference derivative of the function f\"\n",
      "    n = len(y)\n",
      "    d = np.zeros(n,'d') # assume double\n",
      "    # Use centered differences for the interior points, one-sided differences for the ends\n",
      "    for i in range(1,n-1):\n",
      "        d[i] = (y[i+1]-y[i])/(x[i+1]-x[i])\n",
      "    d[0] = (y[1]-y[0])/(x[1]-x[0])\n",
      "    d[n-1] = (y[n-1]-y[n-2])/(x[n-1]-x[n-2])\n",
      "    return d"
     ],
     "language": "python",
     "metadata": {},
     "outputs": [],
     "prompt_number": 1
    },
    {
     "cell_type": "markdown",
     "metadata": {},
     "source": [
      "Let's see whether this works for our sin example from above:"
     ]
    },
    {
     "cell_type": "markdown",
     "metadata": {},
     "source": [
      "    x = np.linspace(0,2*np.pi)\n",
      "    dsin = nderiv(np.sin(x),x)\n",
      "    plot(x,dsin,label='numerical')\n",
      "    plot(x,cos(x),label='analytical')\n",
      "    title(\"Comparison of numerical and analytical derivatives of sin(x)\")\n",
      "    legend()"
     ]
    },
    {
     "cell_type": "code",
     "collapsed": false,
     "input": [],
     "language": "python",
     "metadata": {},
     "outputs": []
    },
    {
     "cell_type": "markdown",
     "metadata": {},
     "source": [
      "Pretty close!"
     ]
    },
    {
     "cell_type": "markdown",
     "metadata": {},
     "source": [
      "## One-Dimensional Harmonic Oscillator using Finite Difference\n",
      "Now that we've convinced ourselves that finite differences aren't a terrible approximation, let's see if we can use this to solve the one-dimensional harmonic oscillator.\n",
      "\n",
      "We want to solve the time-independent Schrodinger equation\n",
      "\n",
      "$$ -\\frac{\\hbar^2}{2m}\\frac{\\partial^2\\psi(x)}{\\partial x^2} + V(x)\\psi(x) = E\\psi(x)$$\n",
      "\n",
      "for $\\psi(x)$ when $V(x)=\\frac{1}{2}m\\omega^2x^2$ is the harmonic oscillator potential. We're going to use the standard trick to transform the differential equation into a matrix equation by multiplying both sides by $\\psi^*(x)$ and integrating over $x$. This yields\n",
      "\n",
      "$$ -\\frac{\\hbar}{2m}\\int\\psi(x)\\frac{\\partial^2}{\\partial x^2}\\psi(x)dx + \\int\\psi(x)V(x)\\psi(x)dx = E$$\n",
      "\n",
      "We will again use the finite difference approximation. The finite difference formula for the second derivative is\n",
      "\n",
      "$$ y'' = \\frac{y_{i+1}-2y_i+y_{i-1}}{x_{i+1}-x_{i-1}} $$\n",
      "\n",
      "We can think of the first term in the Schrodinger equation as the overlap of the wave function $\\psi(x)$ with the second derivative of the wave function $\\frac{\\partial^2}{\\partial x^2}\\psi(x)$. Given the above expression for the second derivative, we can see if we take the overlap of the states $y_1,\\dots,y_n$ with the second derivative, we will only have three points where the overlap is nonzero, at $y_{i-1}$, $y_i$, and $y_{i+1}$. In matrix form, this leads to the tridiagonal Laplacian matrix, which has -2's along the diagonals, and 1's along the diagonals above and below the main diagonal.\n",
      "\n",
      "The second term turns leads to a diagonal matrix with $V(x_i)$ on the diagonal elements. Putting all of these pieces together, we get:"
     ]
    },
    {
     "cell_type": "code",
     "collapsed": false,
     "input": [
      "def Laplacian(x):\n",
      "    h = x[1]-x[0] # assume uniformly spaced points\n",
      "    n = len(x)\n",
      "    M = -2*np.identity(n,'d')\n",
      "    for i in range(1,n):\n",
      "        M[i,i-1] = M[i-1,i] = 1\n",
      "    return M/h**2"
     ],
     "language": "python",
     "metadata": {},
     "outputs": [],
     "prompt_number": 14
    },
    {
     "cell_type": "markdown",
     "metadata": {},
     "source": [
      "Set up the parameters:\n",
      "    \n",
      "    x = np.linspace(-3,3)\n",
      "    m = 1.0\n",
      "    ohm = 1.0\n",
      "    T = (-0.5/m)*Laplacian(x)\n",
      "    V = 0.5*(ohm**2)*(x**2)\n",
      "    H =  T + np.diag(V)\n",
      "    E,U = np.linalg.eigh(H)\n",
      "    h = x[1]-x[0]"
     ]
    },
    {
     "cell_type": "code",
     "collapsed": false,
     "input": [],
     "language": "python",
     "metadata": {},
     "outputs": []
    },
    {
     "cell_type": "code",
     "collapsed": false,
     "input": [
      "# Plot the Harmonic potential\n",
      "plot(x,V,color='k')\n",
      "\n",
      "for i in range(4):\n",
      "    # For each of the first few solutions, plot the energy level:\n",
      "    axhline(y=E[i],color='k',ls=\":\")\n",
      "    # as well as the eigenfunction, displaced by the energy level so they don't\n",
      "    # all pile up on each other:\n",
      "    plot(x,-U[:,i]/sqrt(h)+E[i])\n",
      "title(\"Eigenfunctions of the Quantum Harmonic Oscillator\")\n",
      "xlabel(\"Displacement (bohr)\")\n",
      "ylabel(\"Energy (hartree)\")"
     ],
     "language": "python",
     "metadata": {},
     "outputs": []
    },
    {
     "cell_type": "markdown",
     "metadata": {},
     "source": [
      "We've made a couple of hacks here to get the orbitals the way we want them. First, I inserted a -1 factor before the wave functions, to fix the phase of the lowest state. The phase (sign) of a quantum wave function doesn't hold any information, only the square of the wave function does, so this doesn't really change anything. \n",
      "\n",
      "But the eigenfunctions as we generate them aren't properly normalized. The reason is that finite difference isn't a real basis in the quantum mechanical sense. It's a basis of Dirac \u03b4 functions at each point; we interpret the space betwen the points as being \"filled\" by the wave function, but the finite difference basis only has the solution being at the points themselves. We can fix this by dividing the eigenfunctions of our finite difference Hamiltonian by the square root of the spacing, and this gives properly normalized functions."
     ]
    },
    {
     "cell_type": "markdown",
     "metadata": {},
     "source": [
      "## Special Functions\n",
      "The solutions to the Harmonic Oscillator are supposed to be Hermite polynomials. The Wikipedia page has the HO states given by\n",
      "\n",
      "$$\\psi_n(x) = \\frac{1}{\\sqrt{2^n n!}}\n",
      "\\left(\\frac{m\\omega}{\\pi\\hbar}\\right)^{1/4}\n",
      "\\exp\\left(-\\frac{m\\omega x^2}{2\\hbar}\\right)\n",
      "H_n\\left(\\sqrt{\\frac{m\\omega}{\\hbar}}x\\right)$$\n",
      "\n",
      "Let's see whether they look like those. There are some special functions in the Numpy library, and some more in Scipy. Hermite Polynomials are in Numpy:"
     ]
    },
    {
     "cell_type": "code",
     "collapsed": false,
     "input": [
      "from numpy.polynomial.hermite import Hermite\n",
      "def ho_evec(x,n,m,ohm):\n",
      "    vec = [0]*9\n",
      "    vec[n] = 1\n",
      "    Hn = Hermite(vec)\n",
      "    return (1/sqrt(2**n*factorial(n)))*pow(m*ohm/pi,0.25)*exp(-0.5*m*ohm*x**2)*Hn(x*sqrt(m*ohm))"
     ],
     "language": "python",
     "metadata": {},
     "outputs": []
    },
    {
     "cell_type": "markdown",
     "metadata": {},
     "source": [
      "Let's compare the first function to our solution."
     ]
    },
    {
     "cell_type": "code",
     "collapsed": false,
     "input": [
      "plot(x,ho_evec(x,0,1,1),label=\"Analytic\")\n",
      "plot(x,-U[:,0]/sqrt(h),label=\"Numeric\")\n",
      "xlabel('x (bohr)')\n",
      "ylabel(r'$\\psi(x)$')\n",
      "title(\"Comparison of numeric and analytic solutions to the Harmonic Oscillator\")\n",
      "legend()"
     ],
     "language": "python",
     "metadata": {},
     "outputs": []
    },
    {
     "cell_type": "markdown",
     "metadata": {},
     "source": [
      "The agreement is almost exact."
     ]
    },
    {
     "cell_type": "markdown",
     "metadata": {},
     "source": [
      "We can use the **subplot** command to put multiple comparisons in different panes on a single plot:"
     ]
    },
    {
     "cell_type": "code",
     "collapsed": false,
     "input": [
      "phase_correction = [-1,1,1,-1,-1,1]\n",
      "for i in range(6):\n",
      "    subplot(2,3,i+1)\n",
      "    plot(x,ho_evec(x,i,1,1),label=\"Analytic\")\n",
      "    plot(x,phase_correction[i]*U[:,i]/sqrt(h),label=\"Numeric\")"
     ],
     "language": "python",
     "metadata": {},
     "outputs": []
    },
    {
     "cell_type": "markdown",
     "metadata": {},
     "source": [
      "Other than phase errors (which I've corrected with a little hack: can you find it?), the agreement is pretty good, although it gets worse the higher in energy we get, in part because we used only 50 points.\n",
      "\n",
      "The Scipy module has many more special functions:"
     ]
    },
    {
     "cell_type": "code",
     "collapsed": false,
     "input": [
      "from scipy.special import airy,jn,eval_chebyt,eval_legendre\n",
      "subplot(2,2,1)\n",
      "x = linspace(-1,1)\n",
      "Ai,Aip,Bi,Bip = airy(x)\n",
      "plot(x,Ai)\n",
      "plot(x,Aip)\n",
      "plot(x,Bi)\n",
      "plot(x,Bip)\n",
      "title(\"Airy functions\")\n",
      "\n",
      "subplot(2,2,2)\n",
      "x = linspace(0,10)\n",
      "for i in range(4):\n",
      "    plot(x,jn(i,x))\n",
      "title(\"Bessel functions\")\n",
      "\n",
      "subplot(2,2,3)\n",
      "x = linspace(-1,1)\n",
      "for i in range(6):\n",
      "    plot(x,eval_chebyt(i,x))\n",
      "title(\"Chebyshev polynomials of the first kind\")\n",
      "\n",
      "subplot(2,2,4)\n",
      "x = linspace(-1,1)\n",
      "for i in range(6):\n",
      "    plot(x,eval_legendre(i,x))\n",
      "title(\"Legendre polynomials\")"
     ],
     "language": "python",
     "metadata": {},
     "outputs": []
    },
    {
     "cell_type": "markdown",
     "metadata": {},
     "source": [
      "As well as Jacobi, Laguerre, Hermite polynomials, Hypergeometric functions, and many others. There's a full listing at the [Scipy Special Functions Page](http://docs.scipy.org/doc/scipy/reference/special.html)."
     ]
    },
    {
     "cell_type": "markdown",
     "metadata": {},
     "source": [
      "## Least squares fitting\n",
      "Very often we deal with some data that we want to fit to some sort of expected behavior. Say we have the following:"
     ]
    },
    {
     "cell_type": "code",
     "collapsed": false,
     "input": [
      "raw_data = \"\"\"\\\n",
      "3.1905781584582433,0.028208609537968457\n",
      "4.346895074946466,0.007160804747670053\n",
      "5.374732334047101,0.0046962988461934805\n",
      "8.201284796573875,0.0004614473299618756\n",
      "10.899357601713055,0.00005038370219939726\n",
      "16.295503211991434,4.377451812785309e-7\n",
      "21.82012847965739,3.0799922117601088e-9\n",
      "32.48394004282656,1.524776208284536e-13\n",
      "43.53319057815846,5.5012073588707224e-18\"\"\""
     ],
     "language": "python",
     "metadata": {},
     "outputs": []
    },
    {
     "cell_type": "markdown",
     "metadata": {},
     "source": [
      "There's a section below on parsing CSV data. We'll steal the parser from that. For an explanation, skip ahead to that section. Otherwise, just assume that this is a way to parse that text into a numpy array that we can plot and do other analyses with.\n",
      "\n",
      "    data = []\n",
      "    for line in raw_data.splitlines():\n",
      "        words = line.split(',')\n",
      "        data.append(list(map(float,words)))\n",
      "    data = np.array(data)"
     ]
    },
    {
     "cell_type": "code",
     "collapsed": false,
     "input": [],
     "language": "python",
     "metadata": {},
     "outputs": []
    },
    {
     "cell_type": "markdown",
     "metadata": {},
     "source": [
      "    title(\"Raw Data\")\n",
      "    xlabel(\"Distance\")\n",
      "    plot(data[:,0],data[:,1],'bo')"
     ]
    },
    {
     "cell_type": "code",
     "collapsed": false,
     "input": [],
     "language": "python",
     "metadata": {},
     "outputs": []
    },
    {
     "cell_type": "markdown",
     "metadata": {},
     "source": [
      "Since we expect the data to have an exponential decay, we can plot it using a semi-log plot."
     ]
    },
    {
     "cell_type": "markdown",
     "metadata": {},
     "source": [
      "    title(\"Raw Data\")\n",
      "    xlabel(\"Distance\")\n",
      "    semilogy(data[:,0],data[:,1],'bo')"
     ]
    },
    {
     "cell_type": "code",
     "collapsed": false,
     "input": [],
     "language": "python",
     "metadata": {},
     "outputs": []
    },
    {
     "cell_type": "markdown",
     "metadata": {},
     "source": [
      "For a pure exponential decay like this, we can fit the log of the data to a straight line. The above plot suggests this is a good approximation. Given a function\n",
      "$$ y = Ae^{-ax} $$\n",
      "$$ \\log(y) = \\log(A) - ax$$\n",
      "Thus, if we fit the log of the data versus x, we should get a straight line with slope $a$, and an intercept that gives the constant $A$.\n",
      "\n",
      "There's a numpy function called **polyfit** that will fit data to a polynomial form. We'll use this to fit to a straight line (a polynomial of order 1)\n",
      "\n",
      "    params = polyfit(data[:,0],log(data[:,1]),1)\n",
      "    a = params[0]\n",
      "    A = exp(params[1])"
     ]
    },
    {
     "cell_type": "code",
     "collapsed": false,
     "input": [],
     "language": "python",
     "metadata": {},
     "outputs": []
    },
    {
     "cell_type": "markdown",
     "metadata": {},
     "source": [
      "Let's see whether this curve fits the data.\n",
      "\n",
      "    x = np.linspace(1,45)\n",
      "    title(\"Raw Data\")\n",
      "    xlabel(\"Distance\")\n",
      "    semilogy(data[:,0],data[:,1],'bo')\n",
      "    semilogy(x,A*exp(a*x),'b-')"
     ]
    },
    {
     "cell_type": "code",
     "collapsed": false,
     "input": [],
     "language": "python",
     "metadata": {},
     "outputs": []
    },
    {
     "cell_type": "markdown",
     "metadata": {},
     "source": [
      "If we have more complicated functions, we may not be able to get away with fitting to a simple polynomial. Consider the following data:"
     ]
    },
    {
     "cell_type": "code",
     "collapsed": false,
     "input": [
      "gauss_data = \"\"\"\\\n",
      "-0.9902286902286903,1.4065274110372852e-19\n",
      "-0.7566104566104566,2.2504438576596563e-18\n",
      "-0.5117810117810118,1.9459459459459454\n",
      "-0.31887271887271884,10.621621621621626\n",
      "-0.250997150997151,15.891891891891893\n",
      "-0.1463309463309464,23.756756756756754\n",
      "-0.07267267267267263,28.135135135135133\n",
      "-0.04426734426734419,29.02702702702703\n",
      "-0.0015939015939017698,29.675675675675677\n",
      "0.04689304689304685,29.10810810810811\n",
      "0.0840994840994842,27.324324324324326\n",
      "0.1700546700546699,22.216216216216214\n",
      "0.370878570878571,7.540540540540545\n",
      "0.5338338338338338,1.621621621621618\n",
      "0.722014322014322,0.08108108108108068\n",
      "0.9926849926849926,-0.08108108108108646\"\"\""
     ],
     "language": "python",
     "metadata": {},
     "outputs": []
    },
    {
     "cell_type": "markdown",
     "metadata": {},
     "source": [
      "    data = []\n",
      "    for line in gauss_data.splitlines():\n",
      "        words = line.split(',')\n",
      "        \n",
      "        data.append(list(map(float,words)))\n",
      "    data = np.array(data)\n",
      "    \n",
      "    plot(data[:,0],data[:,1],'bo')"
     ]
    },
    {
     "cell_type": "code",
     "collapsed": false,
     "input": [],
     "language": "python",
     "metadata": {},
     "outputs": []
    },
    {
     "cell_type": "markdown",
     "metadata": {},
     "source": [
      "This data looks more Gaussian than exponential. If we wanted to, we could use **polyfit** for this as well, but let's use the **curve_fit** function from Scipy, which can fit to arbitrary functions. You can learn more using help(curve_fit).\n",
      "\n",
      "First define a general Gaussian function to fit to.\n",
      "\n",
      "    def gauss(x,A,a): \n",
      "        return A*exp(a*x**2)"
     ]
    },
    {
     "cell_type": "code",
     "collapsed": false,
     "input": [],
     "language": "python",
     "metadata": {},
     "outputs": []
    },
    {
     "cell_type": "markdown",
     "metadata": {},
     "source": [
      "Now fit to it using **curve_fit**:"
     ]
    },
    {
     "cell_type": "markdown",
     "metadata": {},
     "source": [
      "    from scipy.optimize import curve_fit\n",
      "    \n",
      "    params,conv = curve_fit(gauss,data[:,0],data[:,1])\n",
      "    x = np.linspace(-1,1)\n",
      "    plot(data[:,0],data[:,1],'bo')\n",
      "    A,a = params\n",
      "    plot(x,gauss(x,A,a),'b-')"
     ]
    },
    {
     "cell_type": "code",
     "collapsed": false,
     "input": [],
     "language": "python",
     "metadata": {},
     "outputs": []
    },
    {
     "cell_type": "markdown",
     "metadata": {},
     "source": [
      "The **curve_fit** routine we just used is built on top of a very good general **minimization** capability in Scipy. You can learn more [at the scipy documentation pages](http://docs.scipy.org/doc/scipy/reference/generated/scipy.optimize.minimize.html)."
     ]
    },
    {
     "cell_type": "markdown",
     "metadata": {},
     "source": [
      "## Monte Carlo, random numbers, and computing $\\pi$\n",
      "Many methods in scientific computing rely on Monte Carlo integration, where a sequence of (pseudo) random numbers are used to approximate the integral of a function. Python has good random number generators in the standard library. The **random()** function gives pseudorandom numbers uniformly distributed between 0 and 1:"
     ]
    },
    {
     "cell_type": "markdown",
     "metadata": {},
     "source": [
      "    from random import random\n",
      "    rands = []\n",
      "    for i in range(100):\n",
      "        rands.append(random())\n",
      "    plot(rands)"
     ]
    },
    {
     "cell_type": "code",
     "collapsed": false,
     "input": [],
     "language": "python",
     "metadata": {},
     "outputs": []
    },
    {
     "cell_type": "markdown",
     "metadata": {},
     "source": [
      "**random()** uses the [Mersenne Twister](http://www.math.sci.hiroshima-u.ac.jp/~m-mat/MT/emt.html) algorithm, which is a highly regarded pseudorandom number generator. There are also functions to generate random integers, to randomly shuffle a list, and functions to pick random numbers from a particular distribution, like the normal distribution:"
     ]
    },
    {
     "cell_type": "markdown",
     "metadata": {},
     "source": [
      "    from random import gauss\n",
      "    grands = []\n",
      "    for i in range(100):\n",
      "        grands.append(gauss(0,1))\n",
      "    plot(grands)"
     ]
    },
    {
     "cell_type": "code",
     "collapsed": false,
     "input": [],
     "language": "python",
     "metadata": {},
     "outputs": []
    },
    {
     "cell_type": "markdown",
     "metadata": {},
     "source": [
      "It is generally more efficient to generate a list of random numbers all at once, particularly if you're drawing from a non-uniform distribution. Numpy has functions to generate vectors and matrices of particular types of random distributions."
     ]
    },
    {
     "cell_type": "markdown",
     "metadata": {},
     "source": [
      "    plot(rand(100))"
     ]
    },
    {
     "cell_type": "code",
     "collapsed": false,
     "input": [],
     "language": "python",
     "metadata": {},
     "outputs": []
    },
    {
     "cell_type": "markdown",
     "metadata": {},
     "source": [
      "Here is a program to compute $\\pi$ by taking random numbers as x and y coordinates, and counting how many of them were in the unit circle:"
     ]
    },
    {
     "cell_type": "markdown",
     "metadata": {},
     "source": [
      "    npts = 5000\n",
      "    xs = 2*rand(npts)-1\n",
      "    ys = 2*rand(npts)-1\n",
      "    r = xs**2+ys**2\n",
      "    ninside = (r<1).sum()\n",
      "    figsize(6,6) # make the figure square\n",
      "    title(\"Approximation to pi = %f\" % (4*ninside/float(npts)))\n",
      "    plot(xs[r<1],ys[r<1],'b.')\n",
      "    plot(xs[r>1],ys[r>1],'r.')\n",
      "    figsize(8,6) # change the figsize back to 4x3 for the rest of the notebook"
     ]
    },
    {
     "cell_type": "code",
     "collapsed": false,
     "input": [],
     "language": "python",
     "metadata": {},
     "outputs": []
    },
    {
     "cell_type": "markdown",
     "metadata": {},
     "source": [
      "The idea behind the program is that the ratio of the area of the unit circle to the square that inscribes it is $\\pi/4$, so by counting the fraction of the random points in the square that are inside the circle, we get increasingly good estimates to $\\pi$. \n",
      "\n",
      "The above code uses some higher level Numpy tricks to compute the radius of each point in a single line, to count how many radii are below one in a single line, and to filter the x,y points based on their radii. To be honest, I rarely write code like this: I find some of these Numpy tricks a little too cute to remember them, and I'm more likely to use a list comprehension (see below) to filter the points I want, since I can remember that.\n",
      "\n",
      "As methods of computing $\\pi$ go, this is among the worst. A much better method is to use Leibniz's expansion of arctan(1):\n",
      "\n",
      "$$\\frac{\\pi}{4} = \\sum_k \\frac{(-1)^k}{2*k+1}$$\n",
      "\n",
      "Code:\n",
      "\n",
      "    n = 100\n",
      "    total = 0\n",
      "    for k in range(n):\n",
      "        total += pow(-1,k)/(2*k+1.0)\n",
      "    print(4*total)"
     ]
    },
    {
     "cell_type": "code",
     "collapsed": false,
     "input": [],
     "language": "python",
     "metadata": {},
     "outputs": []
    },
    {
     "cell_type": "markdown",
     "metadata": {},
     "source": [
      "If you're interested a great method, check out [Ramanujan's method](http://en.wikipedia.org/wiki/Approximations_of_%CF%80). This converges so fast you really need arbitrary precision math to display enough decimal places. You can do this with the Python **decimal** module, if you're interested."
     ]
    },
    {
     "cell_type": "markdown",
     "metadata": {},
     "source": [
      "## Numerical Integration\n",
      "Integration can be hard, and sometimes it's easier to work out a definite integral using an approximation. For example, suppose we wanted to figure out the integral:\n",
      "\n",
      "$$\\int_0^\\infty\\exp(-x)dx=1$$"
     ]
    },
    {
     "cell_type": "markdown",
     "metadata": {},
     "source": [
      "    from numpy import sqrt\n",
      "    def f(x): return exp(-x)\n",
      "    x = np.linspace(0,10)\n",
      "    plot(x,exp(-x))"
     ]
    },
    {
     "cell_type": "code",
     "collapsed": false,
     "input": [],
     "language": "python",
     "metadata": {},
     "outputs": []
    },
    {
     "cell_type": "markdown",
     "metadata": {},
     "source": [
      "Scipy has a numerical integration routine **quad** (since sometimes numerical integration is called *quadrature*), that we can use for this:\n",
      "\n",
      "    from scipy.integrate import quad\n",
      "    quad(f,0,inf)"
     ]
    },
    {
     "cell_type": "code",
     "collapsed": false,
     "input": [],
     "language": "python",
     "metadata": {},
     "outputs": []
    },
    {
     "cell_type": "markdown",
     "metadata": {},
     "source": [
      "There are also 2d and 3d numerical integrators in Scipy. [See the docs](http://docs.scipy.org/doc/scipy/reference/integrate.html) for more information."
     ]
    },
    {
     "cell_type": "markdown",
     "metadata": {},
     "source": [
      "## Fast Fourier Transform and Signal Processing\n"
     ]
    },
    {
     "cell_type": "markdown",
     "metadata": {},
     "source": [
      "Very often we want to use FFT techniques to help obtain the signal from noisy data. Scipy has several different options for this."
     ]
    },
    {
     "cell_type": "code",
     "collapsed": false,
     "input": [
      "from scipy.fftpack import fft,fftfreq\n",
      "\n",
      "npts = 4000\n",
      "nplot = npts/10\n",
      "t = np.linspace(0,120,npts)\n",
      "def acc(t): return 10*sin(2*pi*2.0*t) + 5*sin(2*pi*8.0*t) + 2*rand(npts)\n",
      "\n",
      "signal = acc(t)\n",
      "\n",
      "FFT = abs(fft(signal))\n",
      "freqs = fftfreq(npts, t[1]-t[0])\n",
      "\n",
      "subplot(211)\n",
      "plot(t[:nplot], signal[:nplot])\n",
      "subplot(212)\n",
      "plot(freqs,20*log10(FFT),',')\n",
      "show()"
     ],
     "language": "python",
     "metadata": {},
     "outputs": [
      {
       "output_type": "display_data",
       "png": "[encoded data removed]"
      }
     ],
     "prompt_number": 137
    },
    {
     "cell_type": "markdown",
     "metadata": {},
     "source": [
      "There are additional signal processing routines in Scipy that you can [read about here](http://docs.scipy.org/doc/scipy/reference/tutorial/signal.html)."
     ]
    },
    {
     "cell_type": "markdown",
     "metadata": {},
     "source": [
      "## More Sophisticated String Formatting and Processing\n",
      "Strings are a big deal in most modern languages, and hopefully the previous sections helped underscore how versatile Python's string processing techniques are. We will continue this topic in this chapter.\n",
      "\n",
      "We can print out lines in Python using the print command. \n",
      "\n",
      "    print(\"I have 3 errands to run\")"
     ]
    },
    {
     "cell_type": "code",
     "collapsed": false,
     "input": [],
     "language": "python",
     "metadata": {},
     "outputs": []
    },
    {
     "cell_type": "markdown",
     "metadata": {},
     "source": [
      "In IPython we don't even need the print command, since it will display the last expression not assigned to a variable."
     ]
    },
    {
     "cell_type": "markdown",
     "metadata": {},
     "source": [
      "    \"I have 3 errands to run\""
     ]
    },
    {
     "cell_type": "code",
     "collapsed": false,
     "input": [],
     "language": "python",
     "metadata": {},
     "outputs": []
    },
    {
     "cell_type": "markdown",
     "metadata": {},
     "source": [
      "As versatile as this is, you typically need more freedom over the data you print out. For example, what if we want to print a bunch of data to exactly 4 decimal places? We can do this using formatted strings.\n",
      "\n",
      "Formatted strings share a syntax with the C **printf** statement. We make a string that has some funny *format characters* in it, and then pass a bunch of variables into the string that fill out those characters in different ways.\n",
      "\n",
      "For example,"
     ]
    },
    {
     "cell_type": "markdown",
     "metadata": {},
     "source": [
      "    print(\"Pi as a decimal = %d\" % pi)\n",
      "    print(\"Pi as a float = %f\" % pi)\n",
      "    print(\"Pi with 4 decimal places = %.4f\" % pi)\n",
      "    print(\"Pi with overall fixed length of 10 spaces, with 6 decimal places = %10.6f\" % pi)\n",
      "    print(\"Pi as in exponential format = %e\" % pi)"
     ]
    },
    {
     "cell_type": "code",
     "collapsed": false,
     "input": [],
     "language": "python",
     "metadata": {},
     "outputs": []
    },
    {
     "cell_type": "markdown",
     "metadata": {},
     "source": [
      "We use a percent sign in two different ways here. First, the format character itself starts with a percent sign. %d or %i are for integers, %f is for floats, %e is for numbers in exponential formats. All of the numbers can take number immediately after the percent that specifies the total spaces used to print the number. Formats with a decimal can take an additional number after a dot . to specify the number of decimal places to print.\n",
      "\n",
      "The other use of the percent sign is after the string, to pipe a set of variables in. You can pass in multiple variables (if your formatting string supports it) by putting a tuple after the percent. Thus,"
     ]
    },
    {
     "cell_type": "markdown",
     "metadata": {},
     "source": [
      "    print(\"The variables specified earlier are %d, %d, and %d\" % (a,b,c))"
     ]
    },
    {
     "cell_type": "code",
     "collapsed": false,
     "input": [],
     "language": "python",
     "metadata": {},
     "outputs": []
    },
    {
     "cell_type": "markdown",
     "metadata": {},
     "source": [
      "This is a simple formatting structure that will satisfy most of your string formatting needs. More information on different format symbols is available in the [string formatting part of the standard docs](http://docs.python.org/release/2.5.2/lib/typesseq-strings.html).\n",
      "\n",
      "It's worth noting that more complicated string formatting methods are in development, but I prefer this system due to its simplicity and its similarity to C formatting strings.\n",
      "\n",
      "Recall we discussed multiline strings. We can put format characters in these as well, and fill them with the percent sign as before."
     ]
    },
    {
     "cell_type": "code",
     "collapsed": false,
     "input": [
      "form_letter = \"\"\"\\\n",
      "\n",
      "          %s\n",
      "\n",
      "Dear %s,\n",
      "\n",
      "We regret to inform you that your product did not\n",
      "ship today due to %s.\n",
      "\n",
      "We hope to remedy this as soon as possible.\n",
      "\n",
      "          From,\n",
      "          Your Supplier\n",
      "\"\"\"\n"
     ],
     "language": "python",
     "metadata": {},
     "outputs": []
    },
    {
     "cell_type": "markdown",
     "metadata": {},
     "source": [
      "    print(form_letter % (\"July 1, 2013\",\"Valued Customer Bob\",\"alien attack\"))"
     ]
    },
    {
     "cell_type": "code",
     "collapsed": false,
     "input": [],
     "language": "python",
     "metadata": {},
     "outputs": []
    },
    {
     "cell_type": "markdown",
     "metadata": {},
     "source": [
      "The problem with a long block of text like this is that it's often hard to keep track of what all of the variables are supposed to stand for. There's an alternate format where you can pass a dictionary into the formatted string, and give a little bit more information to the formatted string itself. This method looks like:"
     ]
    },
    {
     "cell_type": "code",
     "collapsed": false,
     "input": [
      "form_letter = \"\"\"\\\n",
      "\n",
      "          %(date)s\n",
      "\n",
      "Dear %(customer)s,\n",
      "\n",
      "We regret to inform you that your product did not\n",
      "ship today due to %(lame_excuse)s.\n",
      "\n",
      "We hope to remedy this as soon as possible.\n",
      "\n",
      "          From,\n",
      "          Your Supplier\n",
      "\"\"\""
     ],
     "language": "python",
     "metadata": {},
     "outputs": []
    },
    {
     "cell_type": "markdown",
     "metadata": {},
     "source": [
      "    print(form_letter % {\"date\" : \"July 1, 2013\",\"customer\":\"Valued Customer Bob\",\"lame_excuse\":\"alien attack\"})"
     ]
    },
    {
     "cell_type": "code",
     "collapsed": false,
     "input": [],
     "language": "python",
     "metadata": {},
     "outputs": []
    },
    {
     "cell_type": "markdown",
     "metadata": {},
     "source": [
      "By providing a little bit more information, you're less likely to make mistakes, like referring to your customer as \"alien attack\".\n",
      "\n",
      "As a scientist, you're less likely to be sending bulk mailings to a bunch of customers. But these are great methods for generating and submitting lots of similar runs, say scanning a bunch of different structures to find the optimal configuration for something.\n",
      "\n",
      "For example, you can use the following template for NWChem input files:"
     ]
    },
    {
     "cell_type": "code",
     "collapsed": false,
     "input": [
      "nwchem_format = \"\"\"\n",
      "start %(jobname)s\n",
      "\n",
      "title \"%(thetitle)s\"\n",
      "charge %(charge)d\n",
      "\n",
      "geometry units angstroms print xyz autosym\n",
      "%(geometry)s\n",
      "end\n",
      "\n",
      "basis\n",
      "  * library 6-31G**\n",
      "end\n",
      "\n",
      "dft\n",
      "  xc %(dft_functional)s\n",
      "  mult %(multiplicity)d\n",
      "end\n",
      "\n",
      "task dft %(jobtype)s\n",
      "\"\"\""
     ],
     "language": "python",
     "metadata": {},
     "outputs": [],
     "prompt_number": 158
    },
    {
     "cell_type": "markdown",
     "metadata": {},
     "source": [
      "If you want to submit a sequence of runs to a computer somewhere, it's pretty easy to put together a little script, maybe even with some more string formatting in it:"
     ]
    },
    {
     "cell_type": "code",
     "collapsed": false,
     "input": [
      "oxygen_xy_coords = [(0,0),(0,0.1),(0.1,0),(0.1,0.1)]\n",
      "charge = 0\n",
      "multiplicity = 1\n",
      "dft_functional = \"b3lyp\"\n",
      "jobtype = \"optimize\"\n",
      "\n",
      "geometry_template = \"\"\"\\\n",
      "  O    %f     %f      0.0\n",
      "  H    0.0    1.0     0.0\n",
      "  H    1.0    0.0     0.0\"\"\"\n",
      "\n",
      "for i,xy in enumerate(oxygen_xy_coords):\n",
      "    thetitle = \"Water run #%d\" % i\n",
      "    jobname = \"h2o-%d\" % i\n",
      "    geometry = geometry_template % xy\n",
      "    print(\"---------\")\n",
      "    print(nwchem_format % dict(thetitle=thetitle,charge=charge,jobname=jobname,jobtype=jobtype,\n",
      "                               geometry=geometry,dft_functional=dft_functional,multiplicity=multiplicity))"
     ],
     "language": "python",
     "metadata": {},
     "outputs": [
      {
       "output_type": "stream",
       "stream": "stdout",
       "text": [
        "---------\n",
        "\n",
        "start h2o-0\n",
        "\n",
        "title \"Water run #0\"\n",
        "charge 0\n",
        "\n",
        "geometry units angstroms print xyz autosym\n",
        "  O    0.000000     0.000000      0.0\n",
        "  H    0.0    1.0     0.0\n",
        "  H    1.0    0.0     0.0\n",
        "end\n",
        "\n",
        "basis\n",
        "  * library 6-31G**\n",
        "end\n",
        "\n",
        "dft\n",
        "  xc b3lyp\n",
        "  mult 1\n",
        "end\n",
        "\n",
        "task dft optimize\n",
        "\n",
        "---------\n",
        "\n",
        "start h2o-1\n",
        "\n",
        "title \"Water run #1\"\n",
        "charge 0\n",
        "\n",
        "geometry units angstroms print xyz autosym\n",
        "  O    0.000000     0.100000      0.0\n",
        "  H    0.0    1.0     0.0\n",
        "  H    1.0    0.0     0.0\n",
        "end\n",
        "\n",
        "basis\n",
        "  * library 6-31G**\n",
        "end\n",
        "\n",
        "dft\n",
        "  xc b3lyp\n",
        "  mult 1\n",
        "end\n",
        "\n",
        "task dft optimize\n",
        "\n",
        "---------\n",
        "\n",
        "start h2o-2\n",
        "\n",
        "title \"Water run #2\"\n",
        "charge 0\n",
        "\n",
        "geometry units angstroms print xyz autosym\n",
        "  O    0.100000     0.000000      0.0\n",
        "  H    0.0    1.0     0.0\n",
        "  H    1.0    0.0     0.0\n",
        "end\n",
        "\n",
        "basis\n",
        "  * library 6-31G**\n",
        "end\n",
        "\n",
        "dft\n",
        "  xc b3lyp\n",
        "  mult 1\n",
        "end\n",
        "\n",
        "task dft optimize\n",
        "\n",
        "---------\n",
        "\n",
        "start h2o-3\n",
        "\n",
        "title \"Water run #3\"\n",
        "charge 0\n",
        "\n",
        "geometry units angstroms print xyz autosym\n",
        "  O    0.100000     0.100000      0.0\n",
        "  H    0.0    1.0     0.0\n",
        "  H    1.0    0.0     0.0\n",
        "end\n",
        "\n",
        "basis\n",
        "  * library 6-31G**\n",
        "end\n",
        "\n",
        "dft\n",
        "  xc b3lyp\n",
        "  mult 1\n",
        "end\n",
        "\n",
        "task dft optimize\n",
        "\n"
       ]
      }
     ],
     "prompt_number": 159
    },
    {
     "cell_type": "markdown",
     "metadata": {},
     "source": [
      "This is a very bad geometry for a water molecule, and it would be silly to run so many geometry optimizations of structures that are guaranteed to converge to the same single geometry, but you get the idea of how you can run vast numbers of simulations with a technique like this.\n",
      "\n",
      "We used the **enumerate** function to loop over both the indices and the items of a sequence, which is valuable when you want a clean way of getting both. **enumerate** is roughly equivalent to:"
     ]
    },
    {
     "cell_type": "markdown",
     "metadata": {},
     "source": [
      "def my_enumerate(seq):\n",
      "    l = []\n",
      "    for i in range(len(seq)):\n",
      "        l.append((i,seq[i]))\n",
      "    return l\n",
      "my_enumerate(oxygen_xy_coords)"
     ]
    },
    {
     "cell_type": "code",
     "collapsed": false,
     "input": [],
     "language": "python",
     "metadata": {},
     "outputs": []
    },
    {
     "cell_type": "markdown",
     "metadata": {},
     "source": [
      "Although enumerate uses **generators** (see below) so that it doesn't have to create a big list, which makes it faster for really long sequenes."
     ]
    },
    {
     "cell_type": "markdown",
     "metadata": {},
     "source": [
      "## Optional arguments\n",
      "You will recall that the **linspace** function can take either two arguments (for the starting and ending points):\n",
      "\n",
      "    np.linspace(0,1)"
     ]
    },
    {
     "cell_type": "code",
     "collapsed": false,
     "input": [],
     "language": "python",
     "metadata": {},
     "outputs": []
    },
    {
     "cell_type": "markdown",
     "metadata": {},
     "source": [
      "or it can take three arguments, for the starting point, the ending point, and the number of points:\n",
      "\n",
      "    np.linspace(0,1,5)"
     ]
    },
    {
     "cell_type": "code",
     "collapsed": false,
     "input": [],
     "language": "python",
     "metadata": {},
     "outputs": []
    },
    {
     "cell_type": "markdown",
     "metadata": {},
     "source": [
      "You can also pass in keywords to exclude the endpoint:"
     ]
    },
    {
     "cell_type": "markdown",
     "metadata": {},
     "source": [
      "    np.linspace(0,1,5,endpoint=False)"
     ]
    },
    {
     "cell_type": "code",
     "collapsed": false,
     "input": [],
     "language": "python",
     "metadata": {},
     "outputs": []
    },
    {
     "cell_type": "markdown",
     "metadata": {},
     "source": [
      "Right now, we only know how to specify functions that have a fixed number of arguments. We'll learn how to do the more general cases here.\n",
      "\n",
      "If we're defining a simple version of linspace, we would start with:"
     ]
    },
    {
     "cell_type": "code",
     "collapsed": false,
     "input": [
      "def my_linspace(start,end):\n",
      "    npoints = 50\n",
      "    v = []\n",
      "    d = (end-start)/float(npoints-1)\n",
      "    for i in range(npoints):\n",
      "        v.append(start + i*d)\n",
      "    return v"
     ],
     "language": "python",
     "metadata": {},
     "outputs": []
    },
    {
     "cell_type": "markdown",
     "metadata": {},
     "source": [
      "    my_linspace(0,1)"
     ]
    },
    {
     "cell_type": "code",
     "collapsed": false,
     "input": [],
     "language": "python",
     "metadata": {},
     "outputs": []
    },
    {
     "cell_type": "markdown",
     "metadata": {},
     "source": [
      "We can add an optional argument by specifying a default value in the argument list:"
     ]
    },
    {
     "cell_type": "code",
     "collapsed": false,
     "input": [
      "def my_linspace(start,end,npoints = 50):\n",
      "    v = []\n",
      "    d = (end-start)/float(npoints-1)\n",
      "    for i in range(npoints):\n",
      "        v.append(start + i*d)\n",
      "    return v"
     ],
     "language": "python",
     "metadata": {},
     "outputs": [],
     "prompt_number": 165
    },
    {
     "cell_type": "markdown",
     "metadata": {},
     "source": [
      "This gives exactly the same result if we don't specify anything:\n",
      "\n",
      "    my_linspace(0,1)"
     ]
    },
    {
     "cell_type": "code",
     "collapsed": false,
     "input": [],
     "language": "python",
     "metadata": {},
     "outputs": []
    },
    {
     "cell_type": "markdown",
     "metadata": {},
     "source": [
      "But also let's us override the default value with a third argument:\n",
      "\n",
      "    my_linspace(0,1,5)"
     ]
    },
    {
     "cell_type": "code",
     "collapsed": false,
     "input": [],
     "language": "python",
     "metadata": {},
     "outputs": []
    },
    {
     "cell_type": "markdown",
     "metadata": {},
     "source": [
      "We can add arbitrary keyword arguments to the function definition by putting a keyword argument \\*\\*kwargs handle in:"
     ]
    },
    {
     "cell_type": "code",
     "collapsed": false,
     "input": [
      "def my_linspace(start,end,npoints=50,**kwargs):\n",
      "    endpoint = kwargs.get('endpoint',True)\n",
      "    v = []\n",
      "    if endpoint:\n",
      "        d = (end-start)/float(npoints-1)\n",
      "    else:\n",
      "        d = (end-start)/float(npoints)\n",
      "    for i in range(npoints):\n",
      "        v.append(start + i*d)\n",
      "    return v"
     ],
     "language": "python",
     "metadata": {},
     "outputs": []
    },
    {
     "cell_type": "markdown",
     "metadata": {},
     "source": [
      "    my_linspace(0,1,5,endpoint=False)"
     ]
    },
    {
     "cell_type": "code",
     "collapsed": false,
     "input": [],
     "language": "python",
     "metadata": {},
     "outputs": []
    },
    {
     "cell_type": "markdown",
     "metadata": {},
     "source": [
      "What the keyword argument construction does is to take any additional keyword arguments (i.e. arguments specified by name, like \"endpoint=False\"), and stick them into a dictionary called \"kwargs\" (you can call it anything you like, but it has to be preceded by two stars). You can then grab items out of the dictionary using the **get** command, which also lets you specify a default value. I realize it takes a little getting used to, but it is a common construction in Python code, and you should be able to recognize it.\n",
      "\n",
      "There's an analogous \\*args that dumps any additional arguments into a list called \"args\". Think about the **range** function: it can take one (the endpoint), two (starting and ending points), or three (starting, ending, and step) arguments. How would we define this?"
     ]
    },
    {
     "cell_type": "code",
     "collapsed": false,
     "input": [
      "def my_range(*args):\n",
      "    start = 0\n",
      "    step = 1\n",
      "    if len(args) == 1:\n",
      "        end = args[0]\n",
      "    elif len(args) == 2:\n",
      "        start,end = args\n",
      "    elif len(args) == 3:\n",
      "        start,end,step = args\n",
      "    else:\n",
      "        raise Exception(\"Unable to parse arguments\")\n",
      "    v = []\n",
      "    value = start\n",
      "    while True:\n",
      "        v.append(value)\n",
      "        value += step\n",
      "        if value > end: break\n",
      "    return v"
     ],
     "language": "python",
     "metadata": {},
     "outputs": [],
     "prompt_number": 169
    },
    {
     "cell_type": "markdown",
     "metadata": {},
     "source": [
      "Note that we have defined a few new things you haven't seen before: a **break** statement, that allows us to exit a for loop if some conditions are met, and an exception statement, that causes the interpreter to exit with an error message. For example:\n",
      "\n",
      "    my_range()"
     ]
    },
    {
     "cell_type": "code",
     "collapsed": false,
     "input": [],
     "language": "python",
     "metadata": {},
     "outputs": []
    },
    {
     "cell_type": "markdown",
     "metadata": {},
     "source": [
      "## List Comprehensions and Generators\n",
      "List comprehensions are a streamlined way to make lists. They look something like a list definition, with some logic thrown in. For example:\n",
      "\n",
      "    evens1 = [2*i for i in range(10)]\n",
      "    print(evens1)"
     ]
    },
    {
     "cell_type": "code",
     "collapsed": false,
     "input": [],
     "language": "python",
     "metadata": {},
     "outputs": []
    },
    {
     "cell_type": "markdown",
     "metadata": {},
     "source": [
      "You can also put some boolean testing into the construct:\n",
      "\n",
      "    odds = [i for i in range(20) if i%2==1]\n",
      "    odds"
     ]
    },
    {
     "cell_type": "code",
     "collapsed": false,
     "input": [],
     "language": "python",
     "metadata": {},
     "outputs": []
    },
    {
     "cell_type": "markdown",
     "metadata": {},
     "source": [
      "Here i%2 is the remainder when i is divided by 2, so that i%2==1 is true if the number is odd. Even though this is a relative new addition to the language, it is now fairly common since it's so convenient."
     ]
    },
    {
     "cell_type": "markdown",
     "metadata": {},
     "source": [
      "**iterators** are a way of making virtual sequence objects. Consider if we had the nested loop structure:\n",
      "\n",
      "    for i in range(1000000):\n",
      "        for j in range(1000000):\n",
      "\n",
      "Inside the main loop, we make a list of 1,000,000 integers, just to loop over them one at a time. We don't need any of the additional things that a lists gives us, like slicing or random access, we just need to go through the numbers one at a time. And we're making 1,000,000 of them. \n",
      "\n",
      "**iterators** are a way around this. For example, the **xrange** function is the iterator version of range. This simply makes a counter that is looped through in sequence, so that the analogous loop structure would look like:\n",
      "\n",
      "    for i in xrange(1000000):\n",
      "        for j in xrange(1000000):\n",
      "\n",
      "Even though we've only added two characters, we've dramatically sped up the code, because we're not making 1,000,000 big lists.\n",
      "\n",
      "We can define our own iterators using the **yield** statement:"
     ]
    },
    {
     "cell_type": "code",
     "collapsed": false,
     "input": [
      "def evens_below(n):\n",
      "    for i in range(n):\n",
      "        if i%2 == 0:\n",
      "            yield i\n",
      "    return"
     ],
     "language": "python",
     "metadata": {},
     "outputs": []
    },
    {
     "cell_type": "markdown",
     "metadata": {},
     "source": [
      "    for i in evens_below(9):\n",
      "        print(i)"
     ]
    },
    {
     "cell_type": "code",
     "collapsed": false,
     "input": [],
     "language": "python",
     "metadata": {},
     "outputs": []
    },
    {
     "cell_type": "markdown",
     "metadata": {},
     "source": [
      "We can always turn an iterator into a list using the **list** command:\n",
      "\n",
      "    list(evens_below(9))"
     ]
    },
    {
     "cell_type": "code",
     "collapsed": false,
     "input": [],
     "language": "python",
     "metadata": {},
     "outputs": []
    },
    {
     "cell_type": "markdown",
     "metadata": {},
     "source": [
      "There's a special syntax called a **generator expression** that looks a lot like a list comprehension:\n",
      "\n",
      "    evens_gen = (i for i in range(9) if i%2==0)\n",
      "        for i in evens_gen:\n",
      "            print(i)"
     ]
    },
    {
     "cell_type": "code",
     "collapsed": false,
     "input": [],
     "language": "python",
     "metadata": {},
     "outputs": []
    },
    {
     "cell_type": "markdown",
     "metadata": {},
     "source": [
      "#References\n",
      "\n",
      "## Learning Resources\n",
      "* [Official Python Documentation](http://docs.python.org/2.7), including\n",
      "    - [Python Tutorial](http://docs.python.org/2.7/tutorial)\n",
      "    - [Python Language Reference](http://docs.python.org/2.7/reference)\n",
      "* If you're interested in Python 3, the [Official Python 3 Docs are here](http://docs.python.org/3/).\n",
      "* [IPython tutorial](http://ipython.org/ipython-doc/dev/interactive/tutorial.html).\n",
      "* [Learn Python The Hard Way](http://learnpythonthehardway.org/book/)\n",
      "* [Dive Into Python](http://www.diveintopython.net/), in particular if you're interested in Python 3.\n",
      "* [Invent With Python](http://inventwithpython.com/), probably best for kids.\n",
      "* [Python Functional Programming HOWTO](http://docs.python.org/2/howto/functional.html)\n",
      "* [The Structure and Interpretation of Computer Programs](http://mitpress.mit.edu/sicp/full-text/book/book.html), written in Scheme, a Lisp dialect, but one of the best books on computer programming ever written.\n",
      "* [Generator Tricks for Systems Programmers](http://www.dabeaz.com/generators/) Beazley's slides on just what generators can do for you.\n",
      "* [Python Module of the Week](http://pymotw.com/2/contents.html) is a series going through in-depth analysis of the Python standard library in a very easy to understand way.\n",
      "\n",
      "## Badass IPython Notebooks\n",
      "* Rob Johansson's [excellent notebooks](http://jrjohansson.github.io/), including [Scientific Computing with Python](https://github.com/jrjohansson/scientific-python-lectures) and [Computational Quantum Physics with QuTiP](https://github.com/jrjohansson/qutip-lectures) lectures;\n",
      "* [XKCD style graphs in matplotlib](http://nbviewer.ipython.org/url/jakevdp.github.com/downloads/notebooks/XKCD_plots.ipynb);\n",
      "* [A collection of Notebooks for using IPython effectively](https://github.com/ipython/ipython/tree/master/examples/notebooks#a-collection-of-notebooks-for-using-ipython-effectively)\n",
      "* [A gallery of interesting IPython Notebooks](https://github.com/ipython/ipython/wiki/A-gallery-of-interesting-IPython-Notebooks)\n",
      "* [Cross-disciplinary computational analysis IPython Notebooks From Hadoop World 2012](https://github.com/invisibleroads/crosscompute-tutorials)\n",
      "* [Quantites](http://nbviewer.ipython.org/urls/raw.github.com/tbekolay/pyconca2012/master/QuantitiesTutorial.ipynb) Units in Python.\n",
      "    - [Another units module is here](http://www.southampton.ac.uk/~fangohr/blog/)\n",
      "\n",
      "## Packages for Scientists\n",
      "Important libraries\n",
      "\n",
      "* [Python](http://www.python.org) version 3.2;\n",
      "* [Numpy](http://www.numpy.org), the core numerical extensions for linear algebra and multidimensional np.arrays;\n",
      "* [Scipy](http://www.scipy.org), additional libraries for scientific programming;\n",
      "* [Matplotlib](http://matplotlib.sf.net), excellent plotting and graphing libraries;\n",
      "* [IPython](http://ipython.org), with the additional libraries required for the notebook interface.\n",
      "* [Sympy](http://sympy.org), symbolic math in Python\n",
      "* [Pandas](http://pandas.pydata.org/) library for big data in Python\n",
      "\n",
      "Other packages of interest\n",
      "\n",
      "* [PyQuante](http://pyquante.sf.net) Python Quantum Chemistry\n",
      "* [QuTiP](https://code.google.com/p/qutip/) Quantum Toolbox in Python\n",
      "* Konrad Hinsen's [Scientific Python](http://dirac.cnrs-orleans.fr/plone/software/scientificpython/) and [MMTK](http://dirac.cnrs-orleans.fr/MMTK/)\n",
      "* [Atomic Simulation Environment](https://wiki.fysik.dtu.dk/ase/)\n",
      "\n",
      "\n",
      "## Cool Stuff\n",
      "* [Moin Moin](http://moinmo.in/), a wiki written in Python\n",
      "* [Project Euler](http://projecteuler.net/), programming problems that would (?) have interested Euler. Python is one of the most commonly used languages there."
     ]
    }
   ],
   "metadata": {}
  }
 ]
}