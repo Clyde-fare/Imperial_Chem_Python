{
 "metadata": {
  "name": ""
 },
 "nbformat": 3,
 "nbformat_minor": 0,
 "worksheets": [
  {
   "cells": [
    {
     "cell_type": "markdown",
     "metadata": {},
     "source": [
      "# A Crash Course in Python Workshop 2\n",
      "[Clyde Fare](c.fare12@imperial.ac.uk) and [William Vigor](w.vigor11@imperial.ac.uk), Imperial College London\n",
      "\n",
      "\n",
      "Notebook is adapted from material by Catherine Devlin, Rick Muller, Adrian Price-Whelan and licensed under a [Creative Commons Attribution-ShareAlike 3.0 Unported License](http://creativecommons.org/licenses/by-sa/3.0/deed.en_US)."
     ]
    },
    {
     "cell_type": "markdown",
     "metadata": {},
     "source": [
      "\n",
      "During this workshop we will continue on from last time refreshing some core programming concepts and moving to using python to model, analyse and plot data. There are exercises at the end to help review the material.\n",
      "\n",
      "Like last time this is an interactive tutorial. As you go through it any time you see something that looks like this:\n",
      "\n",
      "    a = np.array([1,2,3])\n",
      "   \n",
      "that's followed by an empty *code cell* (a light grey rectangle with a label like *\"In[ ]\"*), you should \n",
      "type the expression in the code cell, hit Shift+Return to *execute* it, and note the output.\n",
      "\n",
      "No copying and pasting! You'll learn the concepts better if you type them out yourself.\n",
      "\n",
      "**Warning please periodically save your work.**"
     ]
    },
    {
     "cell_type": "markdown",
     "metadata": {},
     "source": [
      "To speed things up we will also include some filled code cells for you to execute **(You should still read what's in the code cells and make sure you understand them!!)**. Here we are going to set some variables we will use later on and also turn on the notebooks plotting features."
     ]
    },
    {
     "cell_type": "code",
     "collapsed": false,
     "input": [
      "my_list = [1, 2, 3, 4, 5]\n",
      "my_other_list = ['a','b','c','d', 'e']\n",
      "my_combi_list = [1, 2, 3, 4, 5, 'a','b','c','d','e']\n",
      "my_list_of_lists = [ [1, 2, 3], [4, 5, 6], [7, 8, 9] ]\n",
      "\n",
      "big_data = [27, 1, 58, 50, 63, 48, 42, 81, 77, 39, 46, 44, 36, 5, 63, 25, 56, 43, 8, \\\n",
      "            70, 0, 1, 0, 0 ,0, 0, 0, 1, 1, 0, 0, 0, 0, 0, 1, 0, 1, 0, 1, 1, 0, 1, 1, \\\n",
      "            1, 0 ,0 ,1, 0 ,0, 'H', 'H', 'N', 'H', 'C', 'C', 'H', 'H', 'H', 'N', 'N', \\\n",
      "            'C', 'H', 'H', 'H', 'C', 'C', 'C', 'C', 'H']\n",
      "%pylab inline"
     ],
     "language": "python",
     "metadata": {},
     "outputs": [
      {
       "output_type": "stream",
       "stream": "stdout",
       "text": [
        "Populating the interactive namespace from numpy and matplotlib\n"
       ]
      }
     ],
     "prompt_number": 1
    },
    {
     "cell_type": "heading",
     "level": 1,
     "metadata": {},
     "source": [
      "Refreshers with a bit extra"
     ]
    },
    {
     "cell_type": "heading",
     "level": 2,
     "metadata": {},
     "source": [
      "Strings"
     ]
    },
    {
     "cell_type": "markdown",
     "metadata": {},
     "source": [
      "Strings are variables that contain combinations of characters. We define with single or double quotes, or if we want a 'raw' string that captures multiple lines and characters python usually interprets we use triple quotes."
     ]
    },
    {
     "cell_type": "code",
     "collapsed": false,
     "input": [
      "my_str_2 = \"here is another string\"\n",
      "print(my_str_2)"
     ],
     "language": "python",
     "metadata": {},
     "outputs": []
    },
    {
     "cell_type": "code",
     "collapsed": false,
     "input": [
      "my_str_3 = '''here is a raw string\n",
      "spanning two lines'''\n",
      "print(my_str_3)"
     ],
     "language": "python",
     "metadata": {},
     "outputs": []
    },
    {
     "cell_type": "markdown",
     "metadata": {},
     "source": [
      "We also learned we can add strings together:\n",
      "    print(my_str + \" \" + my_str_2)"
     ]
    },
    {
     "cell_type": "code",
     "collapsed": false,
     "input": [],
     "language": "python",
     "metadata": {},
     "outputs": []
    },
    {
     "cell_type": "markdown",
     "metadata": {},
     "source": [
      "The raw string above includes a break of line implicitly, but we might want to build up a multi line string inside our program. To do that we use a special end of line character '\\n'. When you open a text file in an editor like notepad the editor knows where to put new lines based upon where it finds these new line characters. \n",
      "\n",
      "Compare:\n",
      "    \n",
      "    my_new_str = \"This string comes in two parts: part1 and part2\"\n",
      "    print(my_new_str)\n",
      "    "
     ]
    },
    {
     "cell_type": "code",
     "collapsed": false,
     "input": [],
     "language": "python",
     "metadata": {},
     "outputs": []
    },
    {
     "cell_type": "markdown",
     "metadata": {},
     "source": [
      "With:\n",
      "\n",
      "    my_new_str = \"This string comes in two parts:\\n\\npart1 and part2\"\n",
      "    print(my_new_str)"
     ]
    },
    {
     "cell_type": "code",
     "collapsed": false,
     "input": [],
     "language": "python",
     "metadata": {},
     "outputs": []
    },
    {
     "cell_type": "markdown",
     "metadata": {},
     "source": [
      "So we can create strings add them together and put in new lines! Great! We also learned we can include other variables in strings but that we need to convert them:"
     ]
    },
    {
     "cell_type": "code",
     "collapsed": false,
     "input": [
      "print (\"This one way to add other variables: \" + str(1) )"
     ],
     "language": "python",
     "metadata": {},
     "outputs": []
    },
    {
     "cell_type": "markdown",
     "metadata": {},
     "source": [
      "When we looked at lists we saw that we could use the .append() 'method' to add elements to the list. As mentioned before other variables also have methods that do useful things (remember you can type a variable followed by a dot and hit tab inside an IPython notebook to find out what methods a variable has access to).\n",
      "\n",
      "Two very useful string methods are .split() and .join()\n",
      "\n",
      "Have a look at what splitting a string does:\n",
      "    \n",
      "    \"This is a test string\".split()"
     ]
    },
    {
     "cell_type": "code",
     "collapsed": false,
     "input": [],
     "language": "python",
     "metadata": {},
     "outputs": []
    },
    {
     "cell_type": "markdown",
     "metadata": {},
     "source": [
      "Split breaks up a string into pieces and returns a list of those pieces. If you do not specify an argument it breaks up the string by spaces, but you can specify what you want the seperator to be."
     ]
    },
    {
     "cell_type": "markdown",
     "metadata": {},
     "source": [
      "    \"This is a test string aaaa bbbb aaaa bbbb cccc\".split('aaaa')"
     ]
    },
    {
     "cell_type": "code",
     "collapsed": false,
     "input": [],
     "language": "python",
     "metadata": {},
     "outputs": []
    },
    {
     "cell_type": "markdown",
     "metadata": {},
     "source": [
      "The opposite of .split is .join. This takes a list of pieces and assembles them into a single string.\n",
      "\n",
      "    \" \".join(['This', 'is', 'brilliant'])"
     ]
    },
    {
     "cell_type": "code",
     "collapsed": false,
     "input": [],
     "language": "python",
     "metadata": {},
     "outputs": []
    },
    {
     "cell_type": "markdown",
     "metadata": {},
     "source": [
      "The initial string that we are calling .join from contains the linker string that will be added in between all the pieces. Above we have a space so the sentence gets constructed in a sensible way. But we can use any string we like: \n",
      "\n",
      "    \" badger \".join(['This', 'is', 'brilliant'])\n"
     ]
    },
    {
     "cell_type": "code",
     "collapsed": false,
     "input": [],
     "language": "python",
     "metadata": {},
     "outputs": []
    },
    {
     "cell_type": "markdown",
     "metadata": {},
     "source": [
      "What do you think the following will do?\n",
      "\n",
      "    \" \".join( \"This is a test string\".split() )"
     ]
    },
    {
     "cell_type": "code",
     "collapsed": false,
     "input": [],
     "language": "python",
     "metadata": {},
     "outputs": []
    },
    {
     "cell_type": "heading",
     "level": 2,
     "metadata": {},
     "source": [
      "Lists"
     ]
    },
    {
     "cell_type": "markdown",
     "metadata": {},
     "source": [
      "Last time we learned that lists were containers that could be filled with other kinds of variables:"
     ]
    },
    {
     "cell_type": "code",
     "collapsed": false,
     "input": [
      "my_list = [1, 2, 3, 4, 5]\n",
      "my_other_list = ['a', 'b', 'c', 'd', 'e']\n",
      "my_combi_list = [1, 2, 3, 4, 5, 'a','b','c','d','e']\n",
      "my_list_of_lists = [ [1, 2, 3], [4, 5, 6], [7, 8, 9] ]"
     ],
     "language": "python",
     "metadata": {},
     "outputs": []
    },
    {
     "cell_type": "markdown",
     "metadata": {},
     "source": [
      "    \n",
      "That we could use .append to add elements to a list:\n",
      "\n",
      "    "
     ]
    },
    {
     "cell_type": "code",
     "collapsed": false,
     "input": [
      "another_list = []\n",
      "another_list.append(1)\n",
      "another_list.append(2)\n",
      "another_list == [1,2]"
     ],
     "language": "python",
     "metadata": {},
     "outputs": []
    },
    {
     "cell_type": "markdown",
     "metadata": {},
     "source": [
      "That we could access elements of a list by it's *index*. For a list with N elements this starts at 0 for the first element of the list and runs through to N-1 for the last element of the list. We can also use negative integers in the index to count back from the end of the list starting at -1 for the last element and ending with -N for the first element."
     ]
    },
    {
     "cell_type": "code",
     "collapsed": false,
     "input": [
      "my_list[0] == my_list_of_lists[0][0] == my_list[-5]\n",
      "my_other_list[0] == my_combi_list[5]"
     ],
     "language": "python",
     "metadata": {},
     "outputs": []
    },
    {
     "cell_type": "markdown",
     "metadata": {},
     "source": [
      "And there was a special python function range() that produced lists of integers:"
     ]
    },
    {
     "cell_type": "code",
     "collapsed": false,
     "input": [
      "r1=range(10)\n",
      "r2=range(1, 11)\n",
      "r3=range(1, 11, 2)\n",
      "\n",
      "print(r1)\n",
      "print(r2)\n",
      "print(r3)"
     ],
     "language": "python",
     "metadata": {},
     "outputs": []
    },
    {
     "cell_type": "markdown",
     "metadata": {
      "slideshow": {
       "slide_type": "slide"
      }
     },
     "source": [
      "Ok enough of the refresher what about something new? Well an extra feature of lists is that we can use refer to slices of them. To refer to slice of the my_combi_list = [1,2,3,4,5,'a','b','c','d','e'] that we defined above corresponding to elements at index 1,2 and 3 i.e. just to the subset [2,3,4], we would write:\n",
      "    \n",
      "    my_combi_list[1:4]"
     ]
    },
    {
     "cell_type": "code",
     "collapsed": false,
     "input": [],
     "language": "python",
     "metadata": {
      "slideshow": {
       "slide_type": "-"
      }
     },
     "outputs": []
    },
    {
     "cell_type": "markdown",
     "metadata": {},
     "source": [
      "To refer to the entire list with the exception of the first and last elements we would use:\n",
      "    \n",
      "    my_combi_list[1:-1]"
     ]
    },
    {
     "cell_type": "code",
     "collapsed": false,
     "input": [],
     "language": "python",
     "metadata": {},
     "outputs": []
    },
    {
     "cell_type": "markdown",
     "metadata": {},
     "source": [
      "The general format is to give the index of the element we want to start with followed by a colon followed by the first index we don't wish to include. I.e. It's the list from our first index up to but not including our second index.\n",
      "\n",
      "So using this syntax the full list could be given by:\n",
      "\n",
      "    my_combi_list[0:10]\n"
     ]
    },
    {
     "cell_type": "code",
     "collapsed": false,
     "input": [],
     "language": "python",
     "metadata": {},
     "outputs": []
    },
    {
     "cell_type": "markdown",
     "metadata": {},
     "source": [
      "There is a shortcut if we want to refer to the beginning or end in a slice - we just omit the index. Omitting the first index means we start at the beginning of the list (and is the same as using a first index of 0)\n",
      "\n",
      "    my_combi_list[0:3] == my_combi_list[:3]"
     ]
    },
    {
     "cell_type": "code",
     "collapsed": false,
     "input": [],
     "language": "python",
     "metadata": {},
     "outputs": []
    },
    {
     "cell_type": "markdown",
     "metadata": {},
     "source": [
      "Omitting the second index means we finish with the end of the list (and is the same as using a second index of N):\n",
      "\n",
      "    my_combi_list[5:10] == my_combi_list[5:]"
     ]
    },
    {
     "cell_type": "code",
     "collapsed": false,
     "input": [],
     "language": "python",
     "metadata": {},
     "outputs": []
    },
    {
     "cell_type": "heading",
     "level": 2,
     "metadata": {},
     "source": [
      "Loops"
     ]
    },
    {
     "cell_type": "markdown",
     "metadata": {},
     "source": [
      "Last time we learned that we can loop over the elements in a list via a **for-loop**. This runs the code inside the loop once for each element in the list:"
     ]
    },
    {
     "cell_type": "code",
     "collapsed": false,
     "input": [
      "for i in [1, 2, 3, 4, 5]:\n",
      "    print(i)"
     ],
     "language": "python",
     "metadata": {},
     "outputs": []
    },
    {
     "cell_type": "markdown",
     "metadata": {},
     "source": [
      "The blocks of code inside a for-loop are not limited to a single line of code:"
     ]
    },
    {
     "cell_type": "code",
     "collapsed": false,
     "input": [
      "for i in range(10):\n",
      "    square_i = i*i\n",
      "    print( \"The square of \" + str(i) + \" is \" + str(square_i) )"
     ],
     "language": "python",
     "metadata": {},
     "outputs": []
    },
    {
     "cell_type": "markdown",
     "metadata": {},
     "source": [
      "and whilst you can use the elements of the list in the loop as we do above, you don't actually have to:"
     ]
    },
    {
     "cell_type": "code",
     "collapsed": false,
     "input": [
      "for i in [1, 2, 3, 4, 5]:\n",
      "    print(0)"
     ],
     "language": "python",
     "metadata": {},
     "outputs": []
    },
    {
     "cell_type": "markdown",
     "metadata": {},
     "source": [
      "There is another kind of loop called the **while-loop**. This also repeatedly runs a block of code, but in this case it doesn't go through the elements of a list repeatedly running the block of code each time. Instead, it keeps repeating the block of code until something some condition becomes False. Here's an example that does the same thing as the first for-loop:\n",
      "\n",
      "    i=1\n",
      "    while i < 6:\n",
      "        print(i)\n",
      "        i = i + 1"
     ]
    },
    {
     "cell_type": "code",
     "collapsed": false,
     "input": [],
     "language": "python",
     "metadata": {},
     "outputs": []
    },
    {
     "cell_type": "markdown",
     "metadata": {},
     "source": [
      "While loops can use any boolean as a condition:\n",
      "    \n",
      "    finished = False\n",
      "    while finished != True:\n",
      "        print(i)\n",
      "        i = i + 1\n",
      "        \n",
      "        if i == 10:\n",
      "            finished = True"
     ]
    },
    {
     "cell_type": "code",
     "collapsed": false,
     "input": [],
     "language": "python",
     "metadata": {},
     "outputs": []
    },
    {
     "cell_type": "markdown",
     "metadata": {},
     "source": [
      "The above two while loops are not really good examples because we can easily use a for-loop to achieve the same thing. In general if you know you want to loop a specific number of times then you use a for-loop, if you know you need to loop until some condition is fulfilled then you use a while loop. \n",
      "\n",
      "For instance if you had some data in a very big heterogenous list and you wanted the elements from the start of the list up until the first zero then one way would be to use a while loop:\n",
      "\n",
      "    my_data = []\n",
      "    i=0\n",
      "    while big_data[i] !=0:\n",
      "        my_data.append(big_data[i])\n",
      "        i=i+1\n",
      "    \n",
      "    print(my_data)\n"
     ]
    },
    {
     "cell_type": "code",
     "collapsed": false,
     "input": [],
     "language": "python",
     "metadata": {},
     "outputs": []
    },
    {
     "cell_type": "markdown",
     "metadata": {},
     "source": [
      "Actually there is a problem with this code that may not initially be apparent. What happens if big_data has zeros in it?"
     ]
    },
    {
     "cell_type": "markdown",
     "metadata": {},
     "source": [
      "    some_more_data = big_data[:20] + big_data[-20:]\n",
      "    print( len(some_more_data) )\n",
      "    \n",
      "    i=0\n",
      "    my_data = []\n",
      "    while some_more_data[i] !=0:\n",
      "        my_data.append(big_data[i])\n",
      "        i=i+1\n",
      "    \n",
      "    print(my_data)"
     ]
    },
    {
     "cell_type": "code",
     "collapsed": false,
     "input": [],
     "language": "python",
     "metadata": {},
     "outputs": []
    },
    {
     "cell_type": "markdown",
     "metadata": {},
     "source": [
      "The while loop keeps going appending each element of the some_more_data kist to the my_data list, but when it reaches the last element of some_more_data (i=39), it still hasn't seen a 0 so it keeps going adding the last element to my_data, setting i to 40 and then checking to see if the element at some_more_data[40] has a zero, but the last element as at some_more_data[39] so we get an IndexError when it tries to look at index 40. In general when we write while loops we have to be very careful that the loops don't keep going forever. In this case we just go beyond the list boundary and get an error but you can have a worse situation where the loop just keeps going forever, locking up the computer!"
     ]
    },
    {
     "cell_type": "markdown",
     "metadata": {},
     "source": [
      "We'll fix the above mentioned problem by specifically checking that we're not going beyond the bounds of the list\n",
      "    \n",
      "\n",
      "    size_data = len(some_more_data)\n",
      "    i=0\n",
      "    my_data = []\n",
      "\n",
      "    while i<size_data and some_more_data[i] !=0:\n",
      "        my_data.append(big_data[i])\n",
      "        i=i+1\n",
      "    \n",
      "    print(my_data)"
     ]
    },
    {
     "cell_type": "code",
     "collapsed": false,
     "input": [],
     "language": "python",
     "metadata": {},
     "outputs": []
    },
    {
     "cell_type": "markdown",
     "metadata": {},
     "source": [
      "If possible we should try to write code that's more general so that we can reuse it later. I.e. even if it so happens that you know that the original data source does have a zero in, it's still a good idea to get in the habbit of writing code that would cope with a data source that does not.  "
     ]
    },
    {
     "cell_type": "heading",
     "level": 2,
     "metadata": {},
     "source": [
      "Functions"
     ]
    },
    {
     "cell_type": "markdown",
     "metadata": {},
     "source": [
      "We learned to write our own functions:\n",
      "\n",
      "    def add(x, y):\n",
      "        return x+y"
     ]
    },
    {
     "cell_type": "code",
     "collapsed": false,
     "input": [],
     "language": "python",
     "metadata": {},
     "outputs": []
    },
    {
     "cell_type": "markdown",
     "metadata": {},
     "source": [
      "And to use them the same way we use Python's built in functions:\n",
      "\n",
      "    add(1, 3)"
     ]
    },
    {
     "cell_type": "code",
     "collapsed": false,
     "input": [],
     "language": "python",
     "metadata": {},
     "outputs": []
    },
    {
     "cell_type": "markdown",
     "metadata": {},
     "source": [
      "And that many variables special functions built into them called methods, e.g. strings have a .lower() method:\n",
      "\n",
      "    s=\"OMG TURN OFF CAPS-LOCK\"\n",
      "    s.lower()"
     ]
    },
    {
     "cell_type": "code",
     "collapsed": false,
     "input": [],
     "language": "python",
     "metadata": {},
     "outputs": []
    },
    {
     "cell_type": "heading",
     "level": 1,
     "metadata": {},
     "source": [
      "Files"
     ]
    },
    {
     "cell_type": "markdown",
     "metadata": {},
     "source": [
      "Sometimes we want to store or extract data from a source that will persist longer than our notebook or script. There are various ways of doing this but the most straightforward way is to read or write strings from/to a text file. \n",
      "\n",
      "First we have to create a variable representing the file we are interested in using, we do this using the open() function. \n",
      "\n",
      "    my_file1 = open('test_structure.xyz', 'r')\n"
     ]
    },
    {
     "cell_type": "code",
     "collapsed": false,
     "input": [],
     "language": "python",
     "metadata": {},
     "outputs": []
    },
    {
     "cell_type": "markdown",
     "metadata": {},
     "source": [
      "This takes a string containing the name of our file (including the full path if the file is not in the same directory as the notebook/script) and as a second argument a flag telling Python whether we are going to read or write to the file. ('r' for reading and 'w' for writing). "
     ]
    },
    {
     "cell_type": "markdown",
     "metadata": {},
     "source": [
      "To read the contents from the file for reading we can use the .read() method, after we've done so we must remember to close the file:\n",
      "\n",
      "    my_file1_contents = my_file1.read()\n",
      "    my_file1.close()\n",
      "    \n",
      "    print(my_file1_contents)"
     ]
    },
    {
     "cell_type": "code",
     "collapsed": false,
     "input": [],
     "language": "python",
     "metadata": {},
     "outputs": []
    },
    {
     "cell_type": "markdown",
     "metadata": {},
     "source": [
      "Alternatively we can can use the .readlines() method to extract the file as a list of strings where each element of the list corresponds to one of the lines in the file:\n",
      "  \n",
      "    my_file1 = open('test_structure.xyz', 'r')\n",
      "    my_file1_list_lines = my_file1.readlines()\n",
      "    my_file1.close()\n",
      "\n",
      "    print(my_file1_list_lines)"
     ]
    },
    {
     "cell_type": "code",
     "collapsed": false,
     "input": [],
     "language": "python",
     "metadata": {},
     "outputs": []
    },
    {
     "cell_type": "markdown",
     "metadata": {},
     "source": [
      "If we want to write a string to a file we open the file for writing using the 'w' flag, and then use write() method. Note that if you open a file for writing you **will overwrite whatever was initially in the file**. Let's create a simple data string:\n",
      "   "
     ]
    },
    {
     "cell_type": "code",
     "collapsed": false,
     "input": [
      "my_data = \"\"\"4\n",
      "    \n",
      "C 0 0 0\n",
      "O 1 0 0\n",
      "H 0 1 0\n",
      "H 0 0 1\n",
      "\"\"\""
     ],
     "language": "python",
     "metadata": {},
     "outputs": []
    },
    {
     "cell_type": "markdown",
     "metadata": {},
     "source": [
      " Now we will create and write to a file named test_structure2.xyz:\n",
      " \n",
      " \n",
      "    my_file2 = open('test_structure2.xyz', 'w')\n",
      "    my_file2.write(my_data)\n",
      "    my_file2.close()"
     ]
    },
    {
     "cell_type": "code",
     "collapsed": false,
     "input": [],
     "language": "python",
     "metadata": {},
     "outputs": []
    },
    {
     "cell_type": "markdown",
     "metadata": {},
     "source": [
      "Open up test_structure2.xyz in an editor (e.g. wordpad) and check it matches the above text."
     ]
    },
    {
     "cell_type": "markdown",
     "metadata": {},
     "source": [
      "If we wish to modify a file we need to first read the contents (opening the file for reading then closing it), modify the contents in the way we wish, and then write the contents to the file (opening the file for writing then closing it) "
     ]
    },
    {
     "cell_type": "code",
     "collapsed": false,
     "input": [
      "my_file = open('test_structure2.xyz', 'r')\n",
      "my_file_list_lines = my_file.readlines()\n",
      "my_file.close()\n",
      "\n",
      "my_file_list_lines[0] = '6\\n'\n",
      "my_file_list_lines.append('H 1 1 0\\n')\n",
      "my_file_list_lines.append('H 0 1 0\\n')\n",
      "\n",
      "my_new_contents = \"\".join(my_file_list_lines)\n",
      "\n",
      "my_file = open('test_structure2.xyz', 'w')\n",
      "my_file.write(my_new_contents)\n",
      "my_file.close()"
     ],
     "language": "python",
     "metadata": {},
     "outputs": []
    },
    {
     "cell_type": "markdown",
     "metadata": {},
     "source": [
      "Now have a look at test_structure2.xyz again."
     ]
    },
    {
     "cell_type": "heading",
     "level": 1,
     "metadata": {},
     "source": [
      "External modules"
     ]
    },
    {
     "cell_type": "markdown",
     "metadata": {},
     "source": [
      "It quickly becomes cumbersome if every time we want to use a function that is not part of Python we have to explicitly write it out in our notebook or .py file. Luckily there is a way to import pre-existing code in the form as modules.\n",
      "\n",
      "Inside your notebook directory you have a file called \"workshop_2_functions.py\" which contains two functions 'fibonacci' and 'factorial' which we want to use in our current notebook. (Take a look at 'workshop_2_functions.py' in an editor and see if you can understand it). There are several ways you can import and use them.\n",
      "\n",
      "You can import the whole module and call your functions from it via a dot and the name of the function you want:\n",
      "\n",
      "    import workshop_2_functions\n",
      "\n",
      "    workshop_2_functions.fibonacci(10)\n",
      "    workshop_2_functions.factorial(10)"
     ]
    },
    {
     "cell_type": "code",
     "collapsed": false,
     "input": [],
     "language": "python",
     "metadata": {},
     "outputs": []
    },
    {
     "cell_type": "markdown",
     "metadata": {},
     "source": [
      "You can do the same thing but choosing to refer to your module by a different (usually shorter) name:    \n",
      "    \n",
      "    import workshop_2_functions as wrk2_f\n",
      "\n",
      "    wrk2_f.fibonacci(10)\n",
      "    wrk2_f.factorial(10)"
     ]
    },
    {
     "cell_type": "code",
     "collapsed": false,
     "input": [],
     "language": "python",
     "metadata": {},
     "outputs": []
    },
    {
     "cell_type": "markdown",
     "metadata": {},
     "source": [
      "You can choose to extract one (or more) of the functions directly\n",
      "\n",
      "    from workshop_2_functions import fibonacci\n",
      "\n",
      "    fibonacci(10)\n"
     ]
    },
    {
     "cell_type": "code",
     "collapsed": false,
     "input": [],
     "language": "python",
     "metadata": {},
     "outputs": []
    },
    {
     "cell_type": "markdown",
     "metadata": {},
     "source": [
      "You can extract all functions contained in the module\n",
      "\n",
      "    from workshop_2_functions import *\n",
      "    \n",
      "    fibonacci(10)\n",
      "    factorial(1)"
     ]
    },
    {
     "cell_type": "code",
     "collapsed": false,
     "input": [],
     "language": "python",
     "metadata": {},
     "outputs": []
    },
    {
     "cell_type": "markdown",
     "metadata": {},
     "source": [
      "The downside of options 3 and particularly 4 is that you might accidentally import a function that has the same name as another variable or function being used. Option 2 is generally considered best practice."
     ]
    },
    {
     "cell_type": "markdown",
     "metadata": {},
     "source": [
      "The anaconda distribution has a lot of standard scientific modules [built in](http://docs.continuum.io/anaconda/pkgs.html) these can be imported (regardless of directory) in the same way:\n",
      "\n",
      "    import numpy as np\n",
      "    np.e"
     ]
    },
    {
     "cell_type": "code",
     "collapsed": false,
     "input": [],
     "language": "python",
     "metadata": {},
     "outputs": []
    },
    {
     "cell_type": "markdown",
     "metadata": {},
     "source": [
      "A final point to mention is that modules like numpy that are very large often further divide into sub-modules. An example is numpy's linear algebra module which is contained inside the main numpy module. We can often (but not always) use submodules from their parent module like this:\n",
      "\n",
      "    import numpy as np\n",
      "    np.linalg.norm([1, 0, 0])"
     ]
    },
    {
     "cell_type": "code",
     "collapsed": false,
     "input": [],
     "language": "python",
     "metadata": {},
     "outputs": []
    },
    {
     "cell_type": "markdown",
     "metadata": {},
     "source": [
      "We can always import and then use the submodule directly: \n",
      "\n",
      "    import numpy.linalg as la\n",
      "    la.norm([1, 0, 0])"
     ]
    },
    {
     "cell_type": "code",
     "collapsed": false,
     "input": [],
     "language": "python",
     "metadata": {},
     "outputs": []
    },
    {
     "cell_type": "markdown",
     "metadata": {},
     "source": [
      "or import functions from within the submodule via:\n",
      "    \n",
      "    from numpy.linalg import norm\n",
      "    norm([1, 0, 0])"
     ]
    },
    {
     "cell_type": "markdown",
     "metadata": {},
     "source": [
      "Once a function is imported once in a notebook it is accessible from all the cells.\n",
      "\n",
      "    norm([1, 0, 0])"
     ]
    },
    {
     "cell_type": "code",
     "collapsed": false,
     "input": [],
     "language": "python",
     "metadata": {},
     "outputs": []
    },
    {
     "cell_type": "markdown",
     "metadata": {},
     "source": [
      "When writing scripts we almost always put the import statements at the beginning of the file that way it's immediately clear what the code we are using depends upon."
     ]
    },
    {
     "cell_type": "markdown",
     "metadata": {},
     "source": [
      "With that out the way, we can now introduce some of Python's most popular scientific libraries: [Matplotlib](http://matplotlib.org/), [Numpy](http://www.numpy.org/) and [scipy](http://www.scipy.org/)\n",
      "\n",
      "## Plotting with Matplotlib\n",
      "Plotting is so common that the IPython notebook can be launched with plotting specifically enabled, that's what we were doing by including the extra '--pylab=inline' commands while launching the notebook. Those extra commands invisibly added\n",
      "\n",
      "    from pylab import *\n",
      "    \n",
      "to the start of the notebook which means we can use functions from matplotlib like **plot**. The '=inline' part means the plots we create will be put directly into the notebook. This has the upside that we can see our plots alongside our code and data but the downside that they are static. If we omit the 'inline' when launching ipython notebook calls to **plot** will open up a separate window with the plot inside. This allows us to interactively zoom in and out, move the axis etc. etc. \n",
      "\n",
      "As an example, we previous loaded up two different functions, the Fibonacci function, and the factorial function. Which one of these grows the fastest? Let's plot them. First, let's generate the Fibonacci sequence of length 10:"
     ]
    },
    {
     "cell_type": "markdown",
     "metadata": {},
     "source": [
      "    fibs = fibonacci(10)"
     ]
    },
    {
     "cell_type": "code",
     "collapsed": false,
     "input": [],
     "language": "python",
     "metadata": {},
     "outputs": []
    },
    {
     "cell_type": "markdown",
     "metadata": {},
     "source": [
      "Next lets generate the factorials.\n",
      "\n",
      "    facts = []\n",
      "    for i in range(10):\n",
      "        facts.append( factorial(i) )"
     ]
    },
    {
     "cell_type": "code",
     "collapsed": false,
     "input": [],
     "language": "python",
     "metadata": {},
     "outputs": []
    },
    {
     "cell_type": "markdown",
     "metadata": {},
     "source": [
      "Now we use the Matplotlib function plot to compare the two.\n",
      "\n",
      "    figsize(8, 6)\n",
      "    plot(facts, label=\"factorial\")\n",
      "    plot(fibs, label=\"Fibonacci\")\n",
      "    xlabel(\"n\")\n",
      "    legend()"
     ]
    },
    {
     "cell_type": "code",
     "collapsed": false,
     "input": [],
     "language": "python",
     "metadata": {},
     "outputs": []
    },
    {
     "cell_type": "markdown",
     "metadata": {},
     "source": [
      "The factorial function grows much faster. In fact, you can't even see the Fibonacci sequence. It's not entirely surprising: a function where we multiply by n each iteration is bound to grow faster than one where we add (roughly) n each iteration.\n",
      "\n",
      "Let's plot these on a semilog plot so we can see them both a little more clearly:\n",
      "    \n",
      "    semilogy(facts, label=\"factorial\")\n",
      "    semilogy(fibs, label=\"Fibonacci\")\n",
      "    xlabel(\"n\")\n",
      "    legend()"
     ]
    },
    {
     "cell_type": "code",
     "collapsed": false,
     "input": [],
     "language": "python",
     "metadata": {},
     "outputs": []
    },
    {
     "cell_type": "markdown",
     "metadata": {},
     "source": [
      "There are many more things you can do with Matplotlib. If you want an idea of the different things you can do, look at the Matplotlib [Gallery](http://matplotlib.org/gallery.html). Rob Johansson's IPython notebook [Introduction to Matplotlib](http://nbviewer.ipython.org/urls/raw.github.com/jrjohansson/scientific-python-lectures/master/Lecture-4-Matplotlib.ipynb) is also particularly good."
     ]
    },
    {
     "cell_type": "markdown",
     "metadata": {},
     "source": [
      "#Numpy and Scipy\n",
      "\n",
      "[Numpy](http://numpy.org) contains core routines for doing fast vector, matrix, and linear algebra-type operations in Python. [Scipy](http://scipy) contains additional routines for optimization, special functions, statistics and so on. Both contain modules optimised for speed that are very fast in comparison to normal python code. Together, they give Python roughly the same capability that the [Matlab](http://www.mathworks.com/products/matlab/) program offers.\n",
      "\n",
      "## Making vectors and matrices\n",
      "Fundamental to both Numpy and Scipy is the ability to work with vectors and matrices. You can create vectors from lists using the **array** command:\n",
      "\n",
      "    np.array([1, 2, 3, 4, 5, 6])"
     ]
    },
    {
     "cell_type": "code",
     "collapsed": false,
     "input": [],
     "language": "python",
     "metadata": {},
     "outputs": []
    },
    {
     "cell_type": "markdown",
     "metadata": {},
     "source": [
      "You can pass in a second argument to **array** that gives the numeric type. There are a number of types [listed here](http://docs.scipy.org/doc/numpy/user/basics.types.html) that your matrix can be. Some of these are referenced using a single character. The most common ones are 'd' (double precision floating point number), 'D' (double precision complex number), and 'i' (int32). Thus,\n",
      "\n",
      "    np.array([1, 2, 3, 4, 5, 6],'d')"
     ]
    },
    {
     "cell_type": "code",
     "collapsed": false,
     "input": [],
     "language": "python",
     "metadata": {},
     "outputs": []
    },
    {
     "cell_type": "markdown",
     "metadata": {},
     "source": [
      "    np.array([1, 2, 3, 4, 5, 6],'D')"
     ]
    },
    {
     "cell_type": "code",
     "collapsed": false,
     "input": [],
     "language": "python",
     "metadata": {},
     "outputs": []
    },
    {
     "cell_type": "markdown",
     "metadata": {},
     "source": [
      "    np.array([1, 2, 3, 4, 5, 6], 'i')"
     ]
    },
    {
     "cell_type": "code",
     "collapsed": false,
     "input": [],
     "language": "python",
     "metadata": {},
     "outputs": []
    },
    {
     "cell_type": "markdown",
     "metadata": {},
     "source": [
      "To build matrices, you can use the array command with lists of lists:\n",
      "    \n",
      "        np.array([[0, 1], [1, 0]], 'd')"
     ]
    },
    {
     "cell_type": "code",
     "collapsed": false,
     "input": [],
     "language": "python",
     "metadata": {},
     "outputs": []
    },
    {
     "cell_type": "markdown",
     "metadata": {},
     "source": [
      "You can also form empty (zero) matrices of arbitrary shape (including vectors, which Numpy treats as vectors with one row), using the **zeros** command:\n",
      "\n",
      "    np.zeros( [3,3])"
     ]
    },
    {
     "cell_type": "code",
     "collapsed": false,
     "input": [],
     "language": "python",
     "metadata": {},
     "outputs": []
    },
    {
     "cell_type": "markdown",
     "metadata": {},
     "source": [
      "The first argument is a list containing the shape of the matrix, and the second is the data type argument, which follows the same conventions as in the array command. Thus, you can make row vectors:"
     ]
    },
    {
     "cell_type": "markdown",
     "metadata": {},
     "source": [
      "    np.zeros(3)"
     ]
    },
    {
     "cell_type": "code",
     "collapsed": false,
     "input": [],
     "language": "python",
     "metadata": {},
     "outputs": []
    },
    {
     "cell_type": "markdown",
     "metadata": {},
     "source": [
      "    np.zeros( [1,3])"
     ]
    },
    {
     "cell_type": "code",
     "collapsed": false,
     "input": [],
     "language": "python",
     "metadata": {},
     "outputs": []
    },
    {
     "cell_type": "markdown",
     "metadata": {},
     "source": [
      "or column vectors:\n",
      "\n",
      "    np.zeros( [3,1])"
     ]
    },
    {
     "cell_type": "code",
     "collapsed": false,
     "input": [],
     "language": "python",
     "metadata": {},
     "outputs": []
    },
    {
     "cell_type": "markdown",
     "metadata": {},
     "source": [
      "There's also an **identity** command that behaves as you'd expect:\n",
      "\n",
      "    np.identity(4)"
     ]
    },
    {
     "cell_type": "code",
     "collapsed": false,
     "input": [],
     "language": "python",
     "metadata": {},
     "outputs": []
    },
    {
     "cell_type": "markdown",
     "metadata": {},
     "source": [
      "as well as a **ones** command.\n",
      "\n",
      "    np.ones([3, 1])"
     ]
    },
    {
     "cell_type": "code",
     "collapsed": false,
     "input": [],
     "language": "python",
     "metadata": {},
     "outputs": []
    },
    {
     "cell_type": "markdown",
     "metadata": {},
     "source": [
      "We can access elements of arrays the same way we do lists:\n",
      "    \n",
      "    v=array([0,1,2,3])\n",
      "    v[1]"
     ]
    },
    {
     "cell_type": "code",
     "collapsed": false,
     "input": [],
     "language": "python",
     "metadata": {},
     "outputs": []
    },
    {
     "cell_type": "markdown",
     "metadata": {},
     "source": [
      "## Linspace, matrix functions, and plotting\n",
      "The **linspace** function is a bit like **range** but rather than returning a list of integers it returns an array of 50 floating point numbers equally space between a starting and an ending value.\n",
      "\n",
      "    np.linspace(0, 1)"
     ]
    },
    {
     "cell_type": "code",
     "collapsed": false,
     "input": [],
     "language": "python",
     "metadata": {},
     "outputs": []
    },
    {
     "cell_type": "markdown",
     "metadata": {},
     "source": [
      "If you provide a third argument, it takes that as the number of points (instead of the default 50)\n",
      "\n",
      "    np.linspace(0, 1, 11)"
     ]
    },
    {
     "cell_type": "code",
     "collapsed": false,
     "input": [],
     "language": "python",
     "metadata": {},
     "outputs": []
    },
    {
     "cell_type": "markdown",
     "metadata": {},
     "source": [
      "**linspace** is an easy way to make coordinates for plotting. Functions in the numpy library can act on an entire vector (or even a matrix) of numbers at once. Thus,\n",
      "\n",
      "    x = np.linspace(0, 2*np.pi)\n",
      "    np.sin(x)"
     ]
    },
    {
     "cell_type": "code",
     "collapsed": false,
     "input": [],
     "language": "python",
     "metadata": {},
     "outputs": []
    },
    {
     "cell_type": "markdown",
     "metadata": {},
     "source": [
      "In conjunction with **matplotlib**, this is a nice way to plot things:\n",
      "\n",
      "    plot(x, np.sin(x))"
     ]
    },
    {
     "cell_type": "code",
     "collapsed": false,
     "input": [],
     "language": "python",
     "metadata": {},
     "outputs": []
    },
    {
     "cell_type": "markdown",
     "metadata": {},
     "source": [
      "## Matrix operations\n",
      "Matrix objects act sensibly when multiplied by scalars:\n",
      "\n",
      "    0.125*np.identity(3)"
     ]
    },
    {
     "cell_type": "code",
     "collapsed": false,
     "input": [],
     "language": "python",
     "metadata": {},
     "outputs": []
    },
    {
     "cell_type": "markdown",
     "metadata": {},
     "source": [
      "as well as when you add two matrices together. (However, the matrices have to be the same shape.)\n",
      "\n",
      "    np.identity(2) + np.array([[1, 1],[1, 2]], 'd')"
     ]
    },
    {
     "cell_type": "code",
     "collapsed": false,
     "input": [],
     "language": "python",
     "metadata": {},
     "outputs": []
    },
    {
     "cell_type": "markdown",
     "metadata": {},
     "source": [
      "Something that can confuses people new to numpy is that the times (*) operator give element-wise multiplication rather than matrix multiplication:\n",
      "\n",
      "    np.identity(2)*np.ones((2, 2))"
     ]
    },
    {
     "cell_type": "code",
     "collapsed": false,
     "input": [],
     "language": "python",
     "metadata": {},
     "outputs": []
    },
    {
     "cell_type": "markdown",
     "metadata": {},
     "source": [
      "To get matrix multiplication, you need the **dot** command:\n",
      "\n",
      "    np.dot(np.identity(2),np.ones((2, 2)))"
     ]
    },
    {
     "cell_type": "code",
     "collapsed": false,
     "input": [],
     "language": "python",
     "metadata": {},
     "outputs": []
    },
    {
     "cell_type": "markdown",
     "metadata": {},
     "source": [
      "**dot** can also do dot products (duh!):\n",
      "\n",
      "    v = np.array([3, 4], 'd')\n",
      "    sqrt(np.dot(v, v))"
     ]
    },
    {
     "cell_type": "code",
     "collapsed": false,
     "input": [],
     "language": "python",
     "metadata": {},
     "outputs": []
    },
    {
     "cell_type": "markdown",
     "metadata": {},
     "source": [
      "as well as matrix-vector products."
     ]
    },
    {
     "cell_type": "markdown",
     "metadata": {},
     "source": [
      "There are **determinant**, **inverse**, and **transpose** functions that act as you would suppose. Transpose can be abbreviated with \".T\" at the end of a matrix object:\n",
      "\n",
      "    m = np.array([[1, 2], [3, 4]], 'd')\n",
      "    m.T"
     ]
    },
    {
     "cell_type": "code",
     "collapsed": false,
     "input": [],
     "language": "python",
     "metadata": {},
     "outputs": []
    },
    {
     "cell_type": "markdown",
     "metadata": {},
     "source": [
      "There's also a **diag()** function that takes a list or a vector and puts it along the diagonal of a square matrix. \n",
      "\n",
      "    np.diag([1, 2, 3, 4, 5])"
     ]
    },
    {
     "cell_type": "code",
     "collapsed": false,
     "input": [],
     "language": "python",
     "metadata": {},
     "outputs": []
    },
    {
     "cell_type": "markdown",
     "metadata": {},
     "source": [
      "The elements of two dimensional arrays i.e. matrices are accessed liked lists of lists. The first index specifies the row:\n",
      "    \n",
      "    m = np.array([[1, 2], [3, 4]], 'd')\n",
      "    m[0]"
     ]
    },
    {
     "cell_type": "code",
     "collapsed": false,
     "input": [],
     "language": "python",
     "metadata": {},
     "outputs": []
    },
    {
     "cell_type": "markdown",
     "metadata": {},
     "source": [
      "And the second index specifies the element inside the row:\n",
      "    \n",
      "    m = np.array([[1, 2], [3, 4]], 'd')\n",
      "    m[0][1]"
     ]
    },
    {
     "cell_type": "code",
     "collapsed": false,
     "input": [],
     "language": "python",
     "metadata": {},
     "outputs": []
    },
    {
     "cell_type": "markdown",
     "metadata": {},
     "source": [
      "## Matrix Solvers\n",
      "You can solve systems of linear equations using the **solve** command:\n",
      "Solving \n",
      "\\begin{equation}\n",
      " x_1 + x_2 + x_3 =6\n",
      "\\end{equation}\n",
      "\\begin{equation}\n",
      "2x_2 + 5x_3 = -4\n",
      "\\end{equation}\n",
      "\\begin{equation}\n",
      "2x_1 + 5x_2 -x_3 = 27\n",
      "\\end{equation}\n",
      "Where $x = [x_1, x_2, x_3]$\n",
      "\n",
      "    A = np.array([[1, 1, 1], [0, 2, 5], [2, 5, -1]])\n",
      "    b = np.array([6, -4, 27])\n",
      "    x = np.linalg.solve(A, b)\n",
      "    print(x)"
     ]
    },
    {
     "cell_type": "code",
     "collapsed": false,
     "input": [],
     "language": "python",
     "metadata": {},
     "outputs": []
    },
    {
     "cell_type": "markdown",
     "metadata": {},
     "source": [
      "There are a number of routines to compute eigenvalues and eigenvectors\n",
      "\n",
      "* **eigvals** returns the eigenvalues of a matrix\n",
      "* **eigvalsh** returns the eigenvalues of a Hermitian matrix\n",
      "* **eig** returns the eigenvalues and eigenvectors of a matrix\n",
      "* **eigh** returns the eigenvalues and eigenvectors of a Hermitian matrix.\n",
      "    \n",
      "Code:\n",
      "\n",
      "    A = np.array([[13,-4], [-4,7]])\n",
      "    np.linalg.eigvalsh(A)"
     ]
    },
    {
     "cell_type": "code",
     "collapsed": false,
     "input": [],
     "language": "python",
     "metadata": {},
     "outputs": []
    },
    {
     "cell_type": "markdown",
     "metadata": {},
     "source": [
      "    np.linalg.eigh(A)"
     ]
    },
    {
     "cell_type": "code",
     "collapsed": false,
     "input": [],
     "language": "python",
     "metadata": {},
     "outputs": []
    },
    {
     "cell_type": "markdown",
     "metadata": {},
     "source": [
      "## Example: Finite Differences\n",
      "Now that we have some tools in our toolbox, we can start to do some cool stuff with it. Many of the equations we want to solve in physics and chemistry involve differential equations. We want to be able to compute the derivative of functions:\n",
      "\n",
      "$$ y' = \\frac{y(x+h)-y(x)}{h} $$\n",
      "\n",
      "by *discretizing* the function $y(x)$ on an evenly spaced set of points $x_0, x_1, \\dots, x_n$, yielding $y_0, y_1, \\dots, y_n$. Using the discretization, we can approximate the derivative by\n",
      "\n",
      "$$ y_i' \\approx \\frac{y_{i+1}-y_{i-1}}{x_{i+1}-x_{i-1}} $$\n",
      "\n",
      "We can write a derivative function in Python via"
     ]
    },
    {
     "cell_type": "code",
     "collapsed": false,
     "input": [
      "def nderiv(y, x):\n",
      "    \"Finite difference derivative of the function f\"\n",
      "    n = len(y)\n",
      "    d = np.zeros(n)\n",
      "    \n",
      "    # Use centered differences for the interior points, one-sided differences for the ends\n",
      "    for i in range(1,n-1):\n",
      "        d[i] = (y[i+1]-y[i-1])/(x[i+1]-x[i-1])\n",
      "        \n",
      "    d[0] = (y[1]-y[0])/(x[1]-x[0])\n",
      "    d[n-1] = (y[n-1]-y[n-2])/(x[n-1]-x[n-2])\n",
      "    return d"
     ],
     "language": "python",
     "metadata": {},
     "outputs": []
    },
    {
     "cell_type": "markdown",
     "metadata": {},
     "source": [
      "Let's see whether this works for our sin example from above:"
     ]
    },
    {
     "cell_type": "markdown",
     "metadata": {},
     "source": [
      "    x = np.linspace(0,2*np.pi)\n",
      "    dsin = nderiv(np.sin(x), x)\n",
      "    plot(x, dsin, label='numerical')\n",
      "    plot(x, cos(x), label='analytical')\n",
      "    title(\"Comparison of numerical and analytical derivatives of sin(x)\")\n",
      "    legend()"
     ]
    },
    {
     "cell_type": "code",
     "collapsed": false,
     "input": [],
     "language": "python",
     "metadata": {},
     "outputs": []
    },
    {
     "cell_type": "markdown",
     "metadata": {},
     "source": [
      "Pretty close! \n",
      "\n",
      "NB make sure you grasp what the above code is doing, if you don't grab a demonstrator and ask them!"
     ]
    },
    {
     "cell_type": "markdown",
     "metadata": {},
     "source": [
      "## Extras: Idiomatic Python - List Comprehensions and Generators\n",
      "List comprehensions are a streamlined way to make lists. They look something like a list definition, with some logic thrown in. For example:\n",
      "\n",
      "    evens1 = [2*i for i in range(10)]\n",
      "    print(evens1)"
     ]
    },
    {
     "cell_type": "code",
     "collapsed": false,
     "input": [],
     "language": "python",
     "metadata": {},
     "outputs": []
    },
    {
     "cell_type": "markdown",
     "metadata": {},
     "source": [
      "You can also put some boolean testing into the construct:\n",
      "\n",
      "    odds = [i for i in range(20) if i%2==1]\n",
      "    odds"
     ]
    },
    {
     "cell_type": "code",
     "collapsed": false,
     "input": [],
     "language": "python",
     "metadata": {},
     "outputs": []
    },
    {
     "cell_type": "markdown",
     "metadata": {},
     "source": [
      "Here i%2 is the remainder when i is divided by 2, so that i%2==1 is true if the number is odd. Even though this is a relative new addition to the language, it is now fairly common since it's so convenient."
     ]
    },
    {
     "cell_type": "markdown",
     "metadata": {},
     "source": [
      "**iterators** are a way of making virtual sequence objects. Consider if we had the nested loop structure:\n",
      "\n",
      "    for i in range(1000000):\n",
      "        for j in range(1000000):\n",
      "\n",
      "Inside the main loop, we make a list of 1,000,000 integers, just to loop over them one at a time. We don't need any of the additional things that a lists gives us, like slicing or random access, we just need to go through the numbers one at a time. And we're making 1,000,000 of them. \n",
      "\n",
      "**iterators** are a way around this. For example, the **xrange** function is the iterator version of range. This simply makes a counter that is looped through in sequence, so that the analogous loop structure would look like:\n",
      "\n",
      "    for i in xrange(1000000):\n",
      "        for j in xrange(1000000):\n",
      "\n",
      "Even though we've only added two characters, we've dramatically sped up the code, because we're not making 1,000,000 big lists.\n",
      "\n",
      "We can define our own iterators using the **yield** statement:"
     ]
    },
    {
     "cell_type": "code",
     "collapsed": false,
     "input": [
      "def evens_below(n):\n",
      "    for i in range(n):\n",
      "        if i%2 == 0:\n",
      "            yield i\n",
      "    return"
     ],
     "language": "python",
     "metadata": {},
     "outputs": []
    },
    {
     "cell_type": "markdown",
     "metadata": {},
     "source": [
      "    for i in evens_below(9):\n",
      "        print(i)"
     ]
    },
    {
     "cell_type": "code",
     "collapsed": false,
     "input": [],
     "language": "python",
     "metadata": {},
     "outputs": []
    },
    {
     "cell_type": "markdown",
     "metadata": {},
     "source": [
      "We can always turn an iterator into a list using the **list** command:\n",
      "\n",
      "    list(evens_below(9))"
     ]
    },
    {
     "cell_type": "code",
     "collapsed": false,
     "input": [],
     "language": "python",
     "metadata": {},
     "outputs": []
    },
    {
     "cell_type": "markdown",
     "metadata": {},
     "source": [
      "There's a special syntax called a **generator expression** that looks a lot like a list comprehension:\n",
      "\n",
      "    evens_gen = (i for i in range(9) if i%2==0)\n",
      "    for i in evens_gen:\n",
      "        print(i)"
     ]
    },
    {
     "cell_type": "code",
     "collapsed": false,
     "input": [],
     "language": "python",
     "metadata": {},
     "outputs": []
    },
    {
     "cell_type": "markdown",
     "metadata": {},
     "source": [
      "#References\n",
      "\n",
      "## Learning Resources\n",
      "* [Official Python Documentation](http://docs.python.org/2.7), including\n",
      "    - [Python Tutorial](http://docs.python.org/2.7/tutorial)\n",
      "    - [Python Language Reference](http://docs.python.org/2.7/reference)\n",
      "* If you're interested in Python 3, the [Official Python 3 Docs are here](http://docs.python.org/3/).\n",
      "* [IPython tutorial](http://ipython.org/ipython-doc/dev/interactive/tutorial.html).\n",
      "* [Learn Python The Hard Way](http://learnpythonthehardway.org/book/)\n",
      "* [Dive Into Python](http://www.diveintopython.net/), in particular if you're interested in Python 3.\n",
      "* [Python Functional Programming HOWTO](http://docs.python.org/2/howto/functional.html)\n",
      "* [The Structure and Interpretation of Computer Programs](http://mitpress.mit.edu/sicp/full-text/book/book.html), written in Scheme, a Lisp dialect, but one of the best books on computer programming ever written.\n",
      "* [Generator Tricks for Systems Programmers](http://www.dabeaz.com/generators/) Beazley's slides on just what generators can do for you.\n",
      "* [Python Module of the Week](http://pymotw.com/2/contents.html) is a series going through in-depth analysis of the Python standard library in a very easy to understand way.\n",
      "\n",
      "## Cool IPython Notebooks\n",
      "* Rob Johansson's [excellent notebooks](http://jrjohansson.github.io/), including [Scientific Computing with Python](https://github.com/jrjohansson/scientific-python-lectures) and [Computational Quantum Physics with QuTiP](https://github.com/jrjohansson/qutip-lectures) lectures;\n",
      "* [XKCD style graphs in matplotlib](http://nbviewer.ipython.org/url/jakevdp.github.com/downloads/notebooks/XKCD_plots.ipynb);\n",
      "* [A collection of Notebooks for using IPython effectively](https://github.com/ipython/ipython/tree/master/examples/notebooks#a-collection-of-notebooks-for-using-ipython-effectively)\n",
      "* [A gallery of interesting IPython Notebooks](https://github.com/ipython/ipython/wiki/A-gallery-of-interesting-IPython-Notebooks)\n",
      "* [Cross-disciplinary computational analysis IPython Notebooks From Hadoop World 2012](https://github.com/invisibleroads/crosscompute-tutorials)\n",
      "* [Quantites](http://nbviewer.ipython.org/urls/raw.github.com/tbekolay/pyconca2012/master/QuantitiesTutorial.ipynb) Units in Python.\n",
      "    - [Another units module is here](http://www.southampton.ac.uk/~fangohr/blog/)\n",
      "\n",
      "## Packages for Scientists\n",
      "Important libraries\n",
      "\n",
      "* [Python](http://www.python.org) version 3.2;\n",
      "* [Numpy](http://www.numpy.org), the core numerical extensions for linear algebra and multidimensional np.arrays;\n",
      "* [Scipy](http://www.scipy.org), additional libraries for scientific programming;\n",
      "* [Matplotlib](http://matplotlib.sf.net), excellent plotting and graphing libraries;\n",
      "* [IPython](http://ipython.org), with the additional libraries required for the notebook interface.\n",
      "* [Sympy](http://sympy.org), symbolic math in Python\n",
      "* [Pandas](http://pandas.pydata.org/) library for big data in Python\n",
      "\n",
      "Other packages of interest\n",
      "\n",
      "* [PyQuante](http://pyquante.sf.net) Python Quantum Chemistry\n",
      "* [QuTiP](https://code.google.com/p/qutip/) Quantum Toolbox in Python\n",
      "* Konrad Hinsen's [Scientific Python](http://dirac.cnrs-orleans.fr/plone/software/scientificpython/) and [MMTK](http://dirac.cnrs-orleans.fr/MMTK/)\n",
      "* [Atomic Simulation Environment](https://wiki.fysik.dtu.dk/ase/)\n",
      "\n",
      "\n",
      "## Cool Stuff\n",
      "* [Moin Moin](http://moinmo.in/), a wiki written in Python\n",
      "* [Python Challenge](http://www.pythonchallenge.com/), programming puzzles of increasing difficulty that are a great way to improve your Python skills\n",
      "* [Project Euler](http://projecteuler.net/), programming problems that would (?) have interested Euler. Python is one of the most commonly used languages there.\n"
     ]
    }
   ],
   "metadata": {}
  }
 ]
}