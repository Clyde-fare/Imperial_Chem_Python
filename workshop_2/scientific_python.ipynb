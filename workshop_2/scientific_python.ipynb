{
 "metadata": {
  "name": ""
 },
 "nbformat": 3,
 "nbformat_minor": 0,
 "worksheets": [
  {
   "cells": [
    {
     "cell_type": "markdown",
     "metadata": {},
     "source": [
      "# A Crash Course in Python Workshop 2\n",
      "[Clyde Fare](c.fare12@imperial.ac.uk) and [William Vigor](w.vigor11@imperial.ac.uk), Imperial College London\n",
      "\n",
      "\n",
      "Notebook is adapted from material by Catherine Devlin, Rick Muller, Adrian Price-Whelan and licensed under a [Creative Commons Attribution-ShareAlike 3.0 Unported License](http://creativecommons.org/licenses/by-sa/3.0/deed.en_US)."
     ]
    },
    {
     "cell_type": "markdown",
     "metadata": {},
     "source": [
      "\n",
      "During this workshop we will continue on from last time refreshing some core programming concepts and moving to using python to model, analyse and plot data. There are exercises at the end to help review the material.\n",
      "\n",
      "Like last time this is an interactive tutorial. As you go through it any time you see something that looks like this:\n",
      "\n",
      "    a = np.array([1,2,3])\n",
      "   \n",
      "that's followed by an empty *code cell* (a light grey rectagle with a label like *\"In[ ]\"*), you should \n",
      "type the expression in the code cell, hit Shift+Return to *execute* it, and note the output.\n",
      "\n",
      "No copying and pasting! You'll learn the concepts better if you type them out yourself.\n",
      "\n",
      "Warning please periodically save your work."
     ]
    },
    {
     "cell_type": "markdown",
     "metadata": {},
     "source": [
      "To speed things up please execute this first:"
     ]
    },
    {
     "cell_type": "code",
     "collapsed": false,
     "input": [
      "my_list = [1,2,3,4,5]\n",
      "my_other_list = ['a','b','c','d', 'e']\n",
      "my_combi_list = [1,2,3,4,5,'a','b','c','d','e']\n",
      "my_list_of_lists = [ [1,2,3], [4,5,6], [7,8,9] ]\n",
      "\n",
      "big_data = [27, 1, 58, 50, 63, 48, 42, 81, 77, 39, 46, 44, 36, 5, 63, 25, 56, 43, 8, \\\n",
      "            70, 0, 1, 0, 0 ,0, 0, 0, 1, 1, 0, 0, 0, 0, 0, 1, 0, 1, 0, 1, 1, 0, 1, 1, \\\n",
      "            1, 0 ,0 ,1, 0 ,0, 'H', 'H', 'N', 'H', 'C', 'C', 'H', 'H', 'H', 'N', 'N', \\\n",
      "            'C', 'H', 'H', 'H', 'C', 'C', 'C', 'C', 'H']"
     ],
     "language": "python",
     "metadata": {},
     "outputs": [],
     "prompt_number": 3
    },
    {
     "cell_type": "heading",
     "level": 1,
     "metadata": {},
     "source": [
      "Refreshers (with a little bit extra) for strings, lists, loops and functions."
     ]
    },
    {
     "cell_type": "code",
     "collapsed": false,
     "input": [
      "+ format, + slicing, + while, + args/kwargs"
     ],
     "language": "python",
     "metadata": {},
     "outputs": []
    },
    {
     "cell_type": "heading",
     "level": 2,
     "metadata": {},
     "source": [
      "Strings"
     ]
    },
    {
     "cell_type": "markdown",
     "metadata": {},
     "source": [
      "Strings are variables that contain combinations of characters. We define with single or double quotes, or if we want a 'raw' string that captures multiple lines and characters python usually interprets we use triple quotes."
     ]
    },
    {
     "cell_type": "code",
     "collapsed": false,
     "input": [
      "my_str = 'here is a string'\n",
      "my_str_2 = \"here is another string\"\n",
      "my_str_3 = '''here is a raw string\n",
      "spanning two lines'''\n",
      "\n",
      "print(my_str)\n",
      "print(my_str_2)\n",
      "print(my_str_3)"
     ],
     "language": "python",
     "metadata": {},
     "outputs": [
      {
       "output_type": "stream",
       "stream": "stdout",
       "text": [
        "here is a string\n",
        "here is another string\n",
        "here is a raw string\n",
        "on two lines\n"
       ]
      }
     ],
     "prompt_number": 6
    },
    {
     "cell_type": "markdown",
     "metadata": {},
     "source": [
      "We also learned we can add strings together:\n",
      "    print(my_str + \" \" + my_str_2)"
     ]
    },
    {
     "cell_type": "code",
     "collapsed": false,
     "input": [],
     "language": "python",
     "metadata": {},
     "outputs": []
    },
    {
     "cell_type": "markdown",
     "metadata": {},
     "source": [
      "The raw string above includes a break of line implicitly, but we might want to build up a multi line string inside our program. To do that we use a special end of line character '\\n'. When you open a text file in an editor like notepad the editor knows where to put new lines based upon where it finds these new line characters. \n",
      "\n",
      "Compare:\n",
      "    \n",
      "    my_new_str = \"This string comes in two parts: part1 and part2.\"\n",
      "    print(my_new_str)\n",
      "    "
     ]
    },
    {
     "cell_type": "code",
     "collapsed": false,
     "input": [],
     "language": "python",
     "metadata": {},
     "outputs": []
    },
    {
     "cell_type": "markdown",
     "metadata": {},
     "source": [
      "With:\n",
      "\n",
      "    my_new_str = This string comes in two parts:\\n\\npart1 and part2\n",
      "    print(my_new_str)"
     ]
    },
    {
     "cell_type": "markdown",
     "metadata": {},
     "source": [
      "So we can create strings add them together and put in new lines! Great! We also learned we couldn't add other variables to strings without converting them:"
     ]
    },
    {
     "cell_type": "code",
     "collapsed": false,
     "input": [
      "print (\"This one way to add other variables: \" + str(1) )"
     ],
     "language": "python",
     "metadata": {},
     "outputs": []
    },
    {
     "cell_type": "markdown",
     "metadata": {},
     "source": [
      "When we looked at lists we saw that we could use the .append() 'method' to add elements to the list. As mentioned before other variables also have methods that do useful things (remember you can type a variable followed by a dot and hit tab inside the notebook to find out what methods a variable has).\n",
      "\n",
      "Two very useful string methods are .split() and .join()\n",
      "\n",
      "Have a look at what splitting a string does:\n",
      "    \n",
      "    \"This is a test string\".split()"
     ]
    },
    {
     "cell_type": "code",
     "collapsed": false,
     "input": [],
     "language": "python",
     "metadata": {},
     "outputs": []
    },
    {
     "cell_type": "markdown",
     "metadata": {},
     "source": [
      "Split breaks up a string into pieces and returns a list of those pieces. If you do not specify an argument it breaks up the string by spaces, but you can specify what you want the separator to be."
     ]
    },
    {
     "cell_type": "markdown",
     "metadata": {},
     "source": [
      "    \"This is a test string aaaa bbbb aaaa bbbb cccc\".split('aaaa')"
     ]
    },
    {
     "cell_type": "markdown",
     "metadata": {},
     "source": [
      "The opposite of .split is .join. This takes a list of pieces and assembles them into a single string.\n",
      "\n",
      "    \" \".join(['This', 'is', 'brilliant']"
     ]
    },
    {
     "cell_type": "code",
     "collapsed": false,
     "input": [],
     "language": "python",
     "metadata": {},
     "outputs": []
    },
    {
     "cell_type": "markdown",
     "metadata": {},
     "source": [
      "The initial string that we are calling .join from contains the glue string that will be added in between all the pieces. Above we have a space so the sentence gets constructed in a sensible way. But we can use any string we like: \n",
      "\n",
      "    \" badger \".join(['This', 'is', 'brilliant'])\n"
     ]
    },
    {
     "cell_type": "code",
     "collapsed": false,
     "input": [],
     "language": "python",
     "metadata": {},
     "outputs": []
    },
    {
     "cell_type": "heading",
     "level": 2,
     "metadata": {},
     "source": [
      "Lists"
     ]
    },
    {
     "cell_type": "markdown",
     "metadata": {},
     "source": [
      "Last time we learned that lists were containers that could be filled with other kinds of variables:"
     ]
    },
    {
     "cell_type": "code",
     "collapsed": false,
     "input": [
      "my_list = [1,2,3,4,5]\n",
      "my_other_list = ['a',b','c','d', 'e']\n",
      "my_combi_list = [1,2,3,4,5,'a','b','c','d','e']\n",
      "my_list_of_lists = [ [1,2,3], [4,5,6], [7,8,9] ]"
     ],
     "language": "python",
     "metadata": {},
     "outputs": []
    },
    {
     "cell_type": "markdown",
     "metadata": {},
     "source": [
      "    \n",
      "That we could use .append to add elements to a list:\n",
      "\n",
      "    "
     ]
    },
    {
     "cell_type": "code",
     "collapsed": false,
     "input": [
      "another_list = []\n",
      "another_list.append(1)\n",
      "another_list.append(2)\n",
      "another_list == [1,2]"
     ],
     "language": "python",
     "metadata": {},
     "outputs": [
      {
       "metadata": {},
       "output_type": "pyout",
       "prompt_number": 1,
       "text": [
        "True"
       ]
      }
     ],
     "prompt_number": 1
    },
    {
     "cell_type": "markdown",
     "metadata": {},
     "source": [
      "And that we could access elements of a list by it's *index*. For a list with N elements this starts at 0 for the first element of the list and runs through to N-1 for the last element of the list. We can also use negative integers in the index to count back from the end of the list starting at -1 for the last element and ending with -N for the first element."
     ]
    },
    {
     "cell_type": "code",
     "collapsed": false,
     "input": [
      "my_list[0] == my_list_of_lists[0][0] == my_list[-5]\n",
      "my_other_list[0] == my_combi_list[5]"
     ],
     "language": "python",
     "metadata": {},
     "outputs": [
      {
       "metadata": {},
       "output_type": "pyout",
       "prompt_number": 4,
       "text": [
        "True"
       ]
      }
     ],
     "prompt_number": 4
    },
    {
     "cell_type": "markdown",
     "metadata": {},
     "source": [
      "One other thing to mention about indices is that we can use them to refer to a slice of the list rather than just individual elements. To refer to slice of a my_combi_list corresponding to elements at index 1,2 and 3 we would write:\n",
      "    \n",
      "    my_combi_list[1:4]"
     ]
    },
    {
     "cell_type": "code",
     "collapsed": false,
     "input": [],
     "language": "python",
     "metadata": {},
     "outputs": []
    },
    {
     "cell_type": "markdown",
     "metadata": {},
     "source": [
      "To refer to the entire list with the exception of the first and last elements we would use:\n",
      "    \n",
      "    my_combi_list[1:-1]"
     ]
    },
    {
     "cell_type": "code",
     "collapsed": false,
     "input": [],
     "language": "python",
     "metadata": {},
     "outputs": []
    },
    {
     "cell_type": "markdown",
     "metadata": {},
     "source": [
      "The general format is to give the index of the element we want to start with followed by a colon followed by the first index we don't wish to include. I.e. It's the list from our first index up to but not including our second index.\n",
      "\n",
      "So using this syntax the full list would be given by:\n",
      "\n",
      "    my_combi_list[0:10]\n"
     ]
    },
    {
     "cell_type": "code",
     "collapsed": false,
     "input": [],
     "language": "python",
     "metadata": {},
     "outputs": []
    },
    {
     "cell_type": "markdown",
     "metadata": {},
     "source": [
      "There is a shortcut if we want to refer to the beginning or end in a slice - we just omit the index. Omitting the first index means we start at the beginning of the list (and is the same as using a first index of 0)\n",
      "\n",
      "    my_combi_list[0:3] == my_combi_list[:3]"
     ]
    },
    {
     "cell_type": "code",
     "collapsed": false,
     "input": [],
     "language": "python",
     "metadata": {},
     "outputs": []
    },
    {
     "cell_type": "markdown",
     "metadata": {},
     "source": [
      "Omitting the second index means we finish with the end of the list (and is the same as using a second index of N):\n",
      "\n",
      "    my_combi_list[5:10] == my_list[5:]"
     ]
    },
    {
     "cell_type": "code",
     "collapsed": false,
     "input": [],
     "language": "python",
     "metadata": {},
     "outputs": []
    },
    {
     "cell_type": "heading",
     "level": 2,
     "metadata": {},
     "source": [
      "Loops"
     ]
    },
    {
     "cell_type": "markdown",
     "metadata": {},
     "source": [
      "Last time we learned that we can loop over the elements in a list via a **for-loop**. This runs the code inside the loop once for each element in the list:"
     ]
    },
    {
     "cell_type": "code",
     "collapsed": false,
     "input": [
      "for i in [1,2,3,4,5]:\n",
      "    print(i)"
     ],
     "language": "python",
     "metadata": {},
     "outputs": []
    },
    {
     "cell_type": "markdown",
     "metadata": {},
     "source": [
      "The blocks of code inside a for-loop are not limited to a single line of code:"
     ]
    },
    {
     "cell_type": "code",
     "collapsed": false,
     "input": [
      "for i in range(10):\n",
      "    square_i = i*i\n",
      "    print( \"The square of \" + str(i) + \" is \" + str(square_i) )"
     ],
     "language": "python",
     "metadata": {},
     "outputs": []
    },
    {
     "cell_type": "markdown",
     "metadata": {},
     "source": [
      "and whilst you can use the elements of the list in the loop as we do above, you don't actually have to:"
     ]
    },
    {
     "cell_type": "code",
     "collapsed": false,
     "input": [
      "for i in [1,2,3,4,5]:\n",
      "    print(0)"
     ],
     "language": "python",
     "metadata": {},
     "outputs": []
    },
    {
     "cell_type": "markdown",
     "metadata": {},
     "source": [
      "There is another kind of loop called the **while-loop**. This also repeatedly runs a block of code, but in this case it doesn't go through the elements of a list repeatedly running the block of code each time. Instead, it keeps repeating the block of code until something some condition becomes False. Here's an example that does the same thing as the first for-loop:\n",
      "\n",
      "    i=1\n",
      "    while i < 6:\n",
      "        print(i)\n",
      "        i = i + 1"
     ]
    },
    {
     "cell_type": "code",
     "collapsed": false,
     "input": [],
     "language": "python",
     "metadata": {},
     "outputs": []
    },
    {
     "cell_type": "markdown",
     "metadata": {},
     "source": [
      "While loops can use any boolean as a condition:\n",
      "    \n",
      "    finished = False\n",
      "       while finished != True:\n",
      "            print(i)\n",
      "            i = i + 1\n",
      "            \n",
      "            if i == 10:\n",
      "                finished = True"
     ]
    },
    {
     "cell_type": "code",
     "collapsed": false,
     "input": [],
     "language": "python",
     "metadata": {},
     "outputs": []
    },
    {
     "cell_type": "markdown",
     "metadata": {},
     "source": [
      "The above two while loops are not really good examples because we can easily use a for-loop to achieve the same thing. In general if you know you want to loop a specific number of times then you use a for-loop, if you know you need to loop until some condition is fulfilled then you use a while loop. \n",
      "\n",
      "For instance if you had some data in a very big heterogenous list and you wanted the elements from the start of the list up until the first zero then a would be to use a while loop:\n",
      "\n",
      "    my_data = []\n",
      "    i=0\n",
      "    while big_data[i] !=0:\n",
      "        my_data.append(big_data[i])\n",
      "        i=i+1\n",
      "    \n",
      "    print(my_data)\n"
     ]
    },
    {
     "cell_type": "code",
     "collapsed": false,
     "input": [],
     "language": "python",
     "metadata": {},
     "outputs": []
    },
    {
     "cell_type": "markdown",
     "metadata": {},
     "source": [
      "Actually there is a problem with this code that may not initially be apparent. What happens if big_data has no negative numbers?"
     ]
    },
    {
     "cell_type": "markdown",
     "metadata": {},
     "source": [
      "    some_more_data = big_data[:20] + big_data[-20:]\n",
      "    print( len(some_more_data) )\n",
      "    \n",
      "    i=0\n",
      "    my_data = []\n",
      "    while some_more_data[i] !=0:\n",
      "        my_data.append(big_data[i])\n",
      "        i=i+1\n",
      "    \n",
      "    print(my_data)"
     ]
    },
    {
     "cell_type": "code",
     "collapsed": false,
     "input": [],
     "language": "python",
     "metadata": {},
     "outputs": []
    },
    {
     "cell_type": "markdown",
     "metadata": {},
     "source": [
      "The while loop keeps going appending each element of the some_more_data kist to the my_data list, but when it reaches the last element of some_more_data (i=39), it still hasn't seen a 0 so it keeps going adding the last element to my_data, setting i to 40 and then checking to see if the element at some_more_data[40] has a zero, but the last element as at some_more_data[39] so we get an IndexError when it tries to look at index 40. In general when we write while loops we have to be very careful that the loops don't keep going forever. In this case we just go beyond the list boundary and get an error but you can have a worse situation where the loop just keeps going forever, locking up the computer!"
     ]
    },
    {
     "cell_type": "markdown",
     "metadata": {},
     "source": [
      "We'll fix the above mentioned problem by specifically checking that we're not going beyond the bounds of the list\n",
      "    \n",
      "\n",
      "    size_data = len(some_more_data)\n",
      "    i=0\n",
      "    my_data = []\n",
      "\n",
      "    while i<= size_data and some_more_data[i] !=0:\n",
      "        my_data.append(big_data[i])\n",
      "        i=i+1\n",
      "    \n",
      "    print(my_data)"
     ]
    },
    {
     "cell_type": "code",
     "collapsed": false,
     "input": [],
     "language": "python",
     "metadata": {},
     "outputs": []
    },
    {
     "cell_type": "markdown",
     "metadata": {},
     "source": [
      "If possible we should try to write code that's more general so that we can reuse it later. I.e. even if it so happens that you know that the original data source does have a zero in, it's still a good idea to get in the habbit of writing code that would cope with a data source that does not.  "
     ]
    },
    {
     "cell_type": "heading",
     "level": 2,
     "metadata": {},
     "source": [
      "Functions"
     ]
    },
    {
     "cell_type": "markdown",
     "metadata": {},
     "source": [
      "We learned to write our own functions:\n",
      "\n",
      "    def add(x,y):\n",
      "        return x+y\n",
      "        \n",
      "    add(1,3)"
     ]
    },
    {
     "cell_type": "heading",
     "level": 1,
     "metadata": {},
     "source": [
      "Files"
     ]
    },
    {
     "cell_type": "markdown",
     "metadata": {},
     "source": [
      "Sometimes we want to store or extract data from a source that will persist longer than our notebook or script. There are various ways of doing this but the most straightforward way is to read or write strings from/to a text file. \n",
      "\n",
      "First we have to create a variable representing the file we are interested in using, we do this using the open() function. \n",
      "\n",
      "    my_file1 = open('test_data.txt', 'r')\n"
     ]
    },
    {
     "cell_type": "code",
     "collapsed": false,
     "input": [],
     "language": "python",
     "metadata": {},
     "outputs": []
    },
    {
     "cell_type": "markdown",
     "metadata": {},
     "source": [
      "This takes a string containing the name of our file (including the full path if the file is not in the same directory as the notebook/script) and as a second argument a flag telling Python whether we are going to read or write to the file. ('r' for reading and 'w' for writing). "
     ]
    },
    {
     "cell_type": "markdown",
     "metadata": {},
     "source": [
      "To read the contents from the file for reading we can use the .read() method, after we've done so we must remember to close the file:\n",
      "\n",
      "    my_file1_contents = my_file.read()\n",
      "    my_file1.close()\n",
      "    \n",
      "    print(my_file_contents)"
     ]
    },
    {
     "cell_type": "code",
     "collapsed": false,
     "input": [],
     "language": "python",
     "metadata": {},
     "outputs": []
    },
    {
     "cell_type": "markdown",
     "metadata": {},
     "source": [
      "Alternatively we can can use the .readlines() method to extract the file as a list of strings where each element of the list corresponds to one of the lines in the file:\n",
      "  \n",
      "    my_file1 = open('test_data.txt', 'r')\n",
      "    my_file1_list_lines = my_file.readlines()\n",
      "    my_file1.close()\n",
      "\n",
      "    print(my_file_list_lines)"
     ]
    },
    {
     "cell_type": "markdown",
     "metadata": {},
     "source": [
      "If we want to write a string to a file we open the file for writing using the 'w' flag, and then use write() method. Note that if you open a file for writing you **will overwrite whatever was initially in the file**:\n",
      "    \n",
      "    my_data = \"\"\"4\n",
      "    \n",
      "    C 0 0 0\n",
      "    O 1 0 0\n",
      "    H 0 1 0\n",
      "    H 0 0 1\"\"\"\n",
      "    \n",
      "    my_file2 = open('test_structure.xyz', 'w')\n",
      "    my_file2.write(my_data)\n",
      "    my_file2.close()"
     ]
    },
    {
     "cell_type": "code",
     "collapsed": false,
     "input": [],
     "language": "python",
     "metadata": {},
     "outputs": []
    },
    {
     "cell_type": "markdown",
     "metadata": {},
     "source": [
      "Open up new_test_data.txt in an editor and check it matches the above text."
     ]
    },
    {
     "cell_type": "markdown",
     "metadata": {},
     "source": [
      "If we wish to modify a file we need to first read the contents (opening the file for reading then closing it), modify the contents in the way we wish, and then write the contents to the file (opening the file for writing then closing it) "
     ]
    },
    {
     "cell_type": "code",
     "collapsed": false,
     "input": [
      "my_file = open('test_structure.xyz', 'r')\n",
      "my_file_list_lines = my_file.readlines()\n",
      "my_file.close()\n",
      "\n",
      "my_file_list_lines[0] = '6'\n",
      "my_file_list_lines.append('H 1 1 0')\n",
      "my_file_list_lines.append('H 0 1 0')\n",
      "\n",
      "my_new_contents = \"\\n\".join(my_file1_list_lines)\n",
      "\n",
      "my_file = open('test_data.txt', 'w')\n",
      "my_file.write(my_new_contents)\n",
      "my_file.close()"
     ],
     "language": "python",
     "metadata": {},
     "outputs": []
    },
    {
     "cell_type": "markdown",
     "metadata": {},
     "source": [
      "Now have a look at test_structure.xyz again."
     ]
    },
    {
     "cell_type": "heading",
     "level": 1,
     "metadata": {},
     "source": [
      "External modules"
     ]
    },
    {
     "cell_type": "markdown",
     "metadata": {},
     "source": [
      "It quickly become cumbersome if every time we want to use a function that is not part of Python we have to explicitly write it out in our notebook or .py file. Luckily there is a way to import pre-existing code in the form as modules.\n",
      "\n",
      "Inside your notebook directory you have a file called \"some_functions.py\" which contains two functions 'func1' and 'func2' which we want to use in our current notebook. (Take a look at 'some_functions.py' in an editor to make sure you understand what it contains). There are several ways you can import and use them.\n",
      "\n",
      "You can import the whole module and call your functions from it via a dot and the name of the function you want:\n",
      "\n",
      "    import some_functions\n",
      "\n",
      "    some_functions.func1()\n",
      "    some_functions.func2()"
     ]
    },
    {
     "cell_type": "code",
     "collapsed": false,
     "input": [],
     "language": "python",
     "metadata": {},
     "outputs": []
    },
    {
     "cell_type": "markdown",
     "metadata": {},
     "source": [
      "You can do the same thing but choosing to refer to your module by a different (usually shorter) name:    \n",
      "    \n",
      "    import some_functions as sf\n",
      "\n",
      "    sf.func1()\n",
      "    sf.func2()"
     ]
    },
    {
     "cell_type": "code",
     "collapsed": false,
     "input": [],
     "language": "python",
     "metadata": {},
     "outputs": []
    },
    {
     "cell_type": "markdown",
     "metadata": {},
     "source": [
      "You can choose to extract one (or more) of the functions directly\n",
      "\n",
      "    from some_functions import func1\n",
      "\n",
      "    func1()\n"
     ]
    },
    {
     "cell_type": "code",
     "collapsed": false,
     "input": [],
     "language": "python",
     "metadata": {},
     "outputs": []
    },
    {
     "cell_type": "markdown",
     "metadata": {},
     "source": [
      "You can extract all functions contained in the module\n",
      "\n",
      "    from some_functions import *\n",
      "    \n",
      "    func1()\n",
      "    func2()"
     ]
    },
    {
     "cell_type": "code",
     "collapsed": false,
     "input": [],
     "language": "python",
     "metadata": {},
     "outputs": []
    },
    {
     "cell_type": "markdown",
     "metadata": {},
     "source": [
      "The downside of options 3 and particularly 4 is that you might accidentally import a function that has the same name as another variable or function being used. Option 2 is generally considered best practice."
     ]
    },
    {
     "cell_type": "markdown",
     "metadata": {},
     "source": [
      "The anaconda distribution has a lot of standard scientific modules [built in](http://docs.continuum.io/anaconda/pkgs.html) these can be imported (regardless of directory) in the same way:\n",
      "\n",
      "    import numpy as np\n",
      "    np.e"
     ]
    },
    {
     "cell_type": "code",
     "collapsed": false,
     "input": [],
     "language": "python",
     "metadata": {},
     "outputs": []
    },
    {
     "cell_type": "markdown",
     "metadata": {},
     "source": [
      "A final point to mention is that modules like numpy that are very large often further divide into sub-modules. An example is numpy's linear algebra module which is contained inside the main numpy module. We import a submodule like this:\n",
      "\n",
      "    import numpy.linalg as la\n",
      "    la.norm([1,0,0])"
     ]
    },
    {
     "cell_type": "code",
     "collapsed": false,
     "input": [],
     "language": "python",
     "metadata": {},
     "outputs": []
    },
    {
     "cell_type": "markdown",
     "metadata": {},
     "source": [
      "or import functions from within the submodule via:\n",
      "    \n",
      "    from numpy.linalg import norm\n",
      "    norm([1,0,0])"
     ]
    },
    {
     "cell_type": "markdown",
     "metadata": {},
     "source": [
      "When writing notebooks or scripts it's a good idea to put the import statements at the beginning of the notebook/file that way it's immediately clear what the code in question depends upon."
     ]
    },
    {
     "cell_type": "markdown",
     "metadata": {},
     "source": [
      "## Plotting with Matplotlib\n",
      "We can generally understand trends in data by using a plotting program to chart it. Python has a wonderful plotting library called [Matplotlib](http://matplotlib.sf.net). The IPython notebook interface we are using for these notes has that functionality built in.\n",
      "\n",
      "As an example, we have looked at two different functions, the Fibonacci function, and the factorial function, both of which grow faster than polynomially. Which one grows the fastest? Let's plot them. First, let's generate the Fibonacci sequence of length 20:"
     ]
    },
    {
     "cell_type": "markdown",
     "metadata": {},
     "source": [
      "With that out the way, we can now introduce some of Python's most popular plotting scientific libraries: [Matplotlib](http://matplotlib.org/), [Numpy](http://www.numpy.org/) and [scipy](http://www.scipy.org/)"
     ]
    },
    {
     "cell_type": "code",
     "collapsed": false,
     "input": [
      "fibs = fibonacci(10)"
     ],
     "language": "python",
     "metadata": {},
     "outputs": []
    },
    {
     "cell_type": "markdown",
     "metadata": {},
     "source": [
      "Next lets generate the factorials."
     ]
    },
    {
     "cell_type": "code",
     "collapsed": false,
     "input": [
      "facts = []\n",
      "for i in range(10):\n",
      "    facts.append(factorial(i))"
     ],
     "language": "python",
     "metadata": {},
     "outputs": []
    },
    {
     "cell_type": "markdown",
     "metadata": {},
     "source": [
      "Now we use the Matplotlib function plot to compare the two."
     ]
    },
    {
     "cell_type": "code",
     "collapsed": false,
     "input": [
      "figsize(8,6)\n",
      "plot(facts,label=\"factorial\")\n",
      "plot(fibs,label=\"Fibonacci\")\n",
      "xlabel(\"n\")\n",
      "legend()"
     ],
     "language": "python",
     "metadata": {},
     "outputs": []
    },
    {
     "cell_type": "markdown",
     "metadata": {},
     "source": [
      "The factorial function grows much faster. In fact, you can't even see the Fibonacci sequence. It's not entirely surprising: a function where we multiply by n each iteration is bound to grow faster than one where we add (roughly) n each iteration.\n",
      "\n",
      "Let's plot these on a semilog plot so we can see them both a little more clearly:"
     ]
    },
    {
     "cell_type": "code",
     "collapsed": false,
     "input": [
      "semilogy(facts,label=\"factorial\")\n",
      "semilogy(fibs,label=\"Fibonacci\")\n",
      "xlabel(\"n\")\n",
      "legend()"
     ],
     "language": "python",
     "metadata": {},
     "outputs": []
    },
    {
     "cell_type": "markdown",
     "metadata": {},
     "source": [
      "There are many more things you can do with Matplotlib. We'll be looking at some of them in the sections to come. In the meantime, if you want an idea of the different things you can do, look at the Matplotlib [Gallery](http://matplotlib.org/gallery.html). Rob Johansson's IPython notebook [Introduction to Matplotlib](http://nbviewer.ipython.org/urls/raw.github.com/jrjohansson/scientific-python-lectures/master/Lecture-4-Matplotlib.ipynb) is also particularly good."
     ]
    },
    {
     "cell_type": "markdown",
     "metadata": {},
     "source": [
      "#Numpy and Scipy\n",
      "\n",
      "[Numpy](http://numpy.org) contains core routines for doing fast vector, matrix, and linear algebra-type operations in Python. [Scipy](http://scipy) contains additional routines for optimization, special functions, statistics and so on. Both contain modules optimised for speed that are very fast in comparison to normal python code. Together, they give Python roughly the same capability that the [Matlab](http://www.mathworks.com/products/matlab/) program offers.\n",
      "\n",
      "## Making vectors and matrices\n",
      "Fundamental to both Numpy and Scipy is the ability to work with vectors and matrices. You can create vectors from lists using the **array** command:"
     ]
    },
    {
     "cell_type": "code",
     "collapsed": false,
     "input": [
      "import numpy as np"
     ],
     "language": "python",
     "metadata": {},
     "outputs": [],
     "prompt_number": 13
    },
    {
     "cell_type": "code",
     "collapsed": false,
     "input": [
      "array([1,2,3,4,5,6])"
     ],
     "language": "python",
     "metadata": {},
     "outputs": [
      {
       "metadata": {},
       "output_type": "pyout",
       "prompt_number": 14,
       "text": [
        "array([1, 2, 3, 4, 5, 6])"
       ]
      }
     ],
     "prompt_number": 14
    },
    {
     "cell_type": "markdown",
     "metadata": {},
     "source": [
      "You can pass in a second argument to **array** that gives the numeric type. There are a number of types [listed here](http://docs.scipy.org/doc/numpy/user/basics.types.html) that your matrix can be. Some of these are aliased to single character codes. The most common ones are 'd' (double precision floating point number), 'D' (double precision complex number), and 'i' (int32). Thus,"
     ]
    },
    {
     "cell_type": "code",
     "collapsed": false,
     "input": [
      "array([1,2,3,4,5,6],'d')"
     ],
     "language": "python",
     "metadata": {},
     "outputs": [
      {
       "output_type": "pyout",
       "prompt_number": 90,
       "text": [
        "array([ 1.,  2.,  3.,  4.,  5.,  6.])"
       ]
      }
     ],
     "prompt_number": 90
    },
    {
     "cell_type": "code",
     "collapsed": false,
     "input": [
      "array([1,2,3,4,5,6],'D')"
     ],
     "language": "python",
     "metadata": {},
     "outputs": [
      {
       "output_type": "pyout",
       "prompt_number": 91,
       "text": [
        "array([ 1.+0.j,  2.+0.j,  3.+0.j,  4.+0.j,  5.+0.j,  6.+0.j])"
       ]
      }
     ],
     "prompt_number": 91
    },
    {
     "cell_type": "code",
     "collapsed": false,
     "input": [
      "array([1,2,3,4,5,6],'i')"
     ],
     "language": "python",
     "metadata": {},
     "outputs": [
      {
       "output_type": "pyout",
       "prompt_number": 92,
       "text": [
        "array([1, 2, 3, 4, 5, 6], dtype=int32)"
       ]
      }
     ],
     "prompt_number": 92
    },
    {
     "cell_type": "markdown",
     "metadata": {},
     "source": [
      "To build matrices, you can either use the array command with lists of lists:"
     ]
    },
    {
     "cell_type": "code",
     "collapsed": false,
     "input": [
      "array([[0,1],[1,0]],'d')"
     ],
     "language": "python",
     "metadata": {},
     "outputs": [
      {
       "output_type": "pyout",
       "prompt_number": 93,
       "text": [
        "array([[ 0.,  1.],\n",
        "       [ 1.,  0.]])"
       ]
      }
     ],
     "prompt_number": 93
    },
    {
     "cell_type": "markdown",
     "metadata": {},
     "source": [
      "You can also form empty (zero) matrices of arbitrary shape (including vectors, which Numpy treats as vectors with one row), using the **zeros** command:"
     ]
    },
    {
     "cell_type": "code",
     "collapsed": false,
     "input": [
      "zeros((3,3),'d')"
     ],
     "language": "python",
     "metadata": {},
     "outputs": [
      {
       "output_type": "pyout",
       "prompt_number": 94,
       "text": [
        "array([[ 0.,  0.,  0.],\n",
        "       [ 0.,  0.,  0.],\n",
        "       [ 0.,  0.,  0.]])"
       ]
      }
     ],
     "prompt_number": 94
    },
    {
     "cell_type": "markdown",
     "metadata": {},
     "source": [
      "The first argument is a tuple containing the shape of the matrix, and the second is the data type argument, which follows the same conventions as in the array command. Thus, you can make row vectors:"
     ]
    },
    {
     "cell_type": "code",
     "collapsed": false,
     "input": [
      "zeros(3,'d')"
     ],
     "language": "python",
     "metadata": {},
     "outputs": [
      {
       "output_type": "pyout",
       "prompt_number": 95,
       "text": [
        "array([ 0.,  0.,  0.])"
       ]
      }
     ],
     "prompt_number": 95
    },
    {
     "cell_type": "code",
     "collapsed": false,
     "input": [
      "zeros((1,3),'d')"
     ],
     "language": "python",
     "metadata": {},
     "outputs": [
      {
       "output_type": "pyout",
       "prompt_number": 96,
       "text": [
        "array([[ 0.,  0.,  0.]])"
       ]
      }
     ],
     "prompt_number": 96
    },
    {
     "cell_type": "markdown",
     "metadata": {},
     "source": [
      "or column vectors:"
     ]
    },
    {
     "cell_type": "code",
     "collapsed": false,
     "input": [
      "zeros((3,1),'d')"
     ],
     "language": "python",
     "metadata": {},
     "outputs": [
      {
       "output_type": "pyout",
       "prompt_number": 97,
       "text": [
        "array([[ 0.],\n",
        "       [ 0.],\n",
        "       [ 0.]])"
       ]
      }
     ],
     "prompt_number": 97
    },
    {
     "cell_type": "markdown",
     "metadata": {},
     "source": [
      "There's also an **identity** command that behaves as you'd expect:"
     ]
    },
    {
     "cell_type": "code",
     "collapsed": false,
     "input": [
      "identity(4,'d')"
     ],
     "language": "python",
     "metadata": {},
     "outputs": [
      {
       "output_type": "pyout",
       "prompt_number": 98,
       "text": [
        "array([[ 1.,  0.,  0.,  0.],\n",
        "       [ 0.,  1.,  0.,  0.],\n",
        "       [ 0.,  0.,  1.,  0.],\n",
        "       [ 0.,  0.,  0.,  1.]])"
       ]
      }
     ],
     "prompt_number": 98
    },
    {
     "cell_type": "markdown",
     "metadata": {},
     "source": [
      "as well as a **ones** command."
     ]
    },
    {
     "cell_type": "markdown",
     "metadata": {},
     "source": [
      "## Linspace, matrix functions, and plotting\n",
      "The **linspace** command makes a linear array of points from a starting to an ending value."
     ]
    },
    {
     "cell_type": "code",
     "collapsed": false,
     "input": [
      "linspace(0,1)"
     ],
     "language": "python",
     "metadata": {},
     "outputs": [
      {
       "ename": "NameError",
       "evalue": "name 'linspace' is not defined",
       "output_type": "pyerr",
       "traceback": [
        "\u001b[1;31m---------------------------------------------------------------------------\u001b[0m\n\u001b[1;31mNameError\u001b[0m                                 Traceback (most recent call last)",
        "\u001b[1;32m<ipython-input-11-20782611bd90>\u001b[0m in \u001b[0;36m<module>\u001b[1;34m()\u001b[0m\n\u001b[1;32m----> 1\u001b[1;33m \u001b[0mlinspace\u001b[0m\u001b[1;33m(\u001b[0m\u001b[1;36m0\u001b[0m\u001b[1;33m,\u001b[0m\u001b[1;36m1\u001b[0m\u001b[1;33m)\u001b[0m\u001b[1;33m\u001b[0m\u001b[0m\n\u001b[0m",
        "\u001b[1;31mNameError\u001b[0m: name 'linspace' is not defined"
       ]
      }
     ],
     "prompt_number": 11
    },
    {
     "cell_type": "markdown",
     "metadata": {},
     "source": [
      "If you provide a third argument, it takes that as the number of points in the space. If you don't provide the argument, it gives a length 50 linear space."
     ]
    },
    {
     "cell_type": "code",
     "collapsed": false,
     "input": [
      "linspace(0,1,11)"
     ],
     "language": "python",
     "metadata": {},
     "outputs": [
      {
       "output_type": "pyout",
       "prompt_number": 100,
       "text": [
        "array([ 0. ,  0.1,  0.2,  0.3,  0.4,  0.5,  0.6,  0.7,  0.8,  0.9,  1. ])"
       ]
      }
     ],
     "prompt_number": 100
    },
    {
     "cell_type": "markdown",
     "metadata": {},
     "source": [
      "**linspace** is an easy way to make coordinates for plotting. Functions in the numpy library (all of which are imported into IPython notebook) can act on an entire vector (or even a matrix) of points at once. Thus,"
     ]
    },
    {
     "cell_type": "code",
     "collapsed": false,
     "input": [
      "x = linspace(0,2*pi)\n",
      "sin(x)"
     ],
     "language": "python",
     "metadata": {},
     "outputs": [
      {
       "output_type": "pyout",
       "prompt_number": 101,
       "text": [
        "array([  0.00000000e+00,   1.27877162e-01,   2.53654584e-01,\n",
        "         3.75267005e-01,   4.90717552e-01,   5.98110530e-01,\n",
        "         6.95682551e-01,   7.81831482e-01,   8.55142763e-01,\n",
        "         9.14412623e-01,   9.58667853e-01,   9.87181783e-01,\n",
        "         9.99486216e-01,   9.95379113e-01,   9.74927912e-01,\n",
        "         9.38468422e-01,   8.86599306e-01,   8.20172255e-01,\n",
        "         7.40277997e-01,   6.48228395e-01,   5.45534901e-01,\n",
        "         4.33883739e-01,   3.15108218e-01,   1.91158629e-01,\n",
        "         6.40702200e-02,  -6.40702200e-02,  -1.91158629e-01,\n",
        "        -3.15108218e-01,  -4.33883739e-01,  -5.45534901e-01,\n",
        "        -6.48228395e-01,  -7.40277997e-01,  -8.20172255e-01,\n",
        "        -8.86599306e-01,  -9.38468422e-01,  -9.74927912e-01,\n",
        "        -9.95379113e-01,  -9.99486216e-01,  -9.87181783e-01,\n",
        "        -9.58667853e-01,  -9.14412623e-01,  -8.55142763e-01,\n",
        "        -7.81831482e-01,  -6.95682551e-01,  -5.98110530e-01,\n",
        "        -4.90717552e-01,  -3.75267005e-01,  -2.53654584e-01,\n",
        "        -1.27877162e-01,  -2.44929360e-16])"
       ]
      }
     ],
     "prompt_number": 101
    },
    {
     "cell_type": "markdown",
     "metadata": {},
     "source": [
      "In conjunction with **matplotlib**, this is a nice way to plot things:"
     ]
    },
    {
     "cell_type": "code",
     "collapsed": false,
     "input": [
      "plot(x,sin(x))"
     ],
     "language": "python",
     "metadata": {},
     "outputs": [
      {
       "output_type": "pyout",
       "prompt_number": 102,
       "text": [
        "[<matplotlib.lines.Line2D at 0x53adad0>]"
       ]
      },
      {
       "output_type": "display_data",
       "png": "[encoded data removed]"
      }
     ],
     "prompt_number": 102
    },
    {
     "cell_type": "markdown",
     "metadata": {},
     "source": [
      "## Matrix operations\n",
      "Matrix objects act sensibly when multiplied by scalars:"
     ]
    },
    {
     "cell_type": "code",
     "collapsed": false,
     "input": [
      "0.125*identity(3,'d')"
     ],
     "language": "python",
     "metadata": {},
     "outputs": [
      {
       "output_type": "pyout",
       "prompt_number": 103,
       "text": [
        "array([[ 0.125,  0.   ,  0.   ],\n",
        "       [ 0.   ,  0.125,  0.   ],\n",
        "       [ 0.   ,  0.   ,  0.125]])"
       ]
      }
     ],
     "prompt_number": 103
    },
    {
     "cell_type": "markdown",
     "metadata": {},
     "source": [
      "as well as when you add two matrices together. (However, the matrices have to be the same shape.)"
     ]
    },
    {
     "cell_type": "code",
     "collapsed": false,
     "input": [
      "identity(2,'d') + array([[1,1],[1,2]])"
     ],
     "language": "python",
     "metadata": {},
     "outputs": [
      {
       "output_type": "pyout",
       "prompt_number": 104,
       "text": [
        "array([[ 2.,  1.],\n",
        "       [ 1.,  3.]])"
       ]
      }
     ],
     "prompt_number": 104
    },
    {
     "cell_type": "markdown",
     "metadata": {},
     "source": [
      "Something that can confuses people new to numpy is that the times (*) operator give element-wise multiplication rather than matrix multiplication:"
     ]
    },
    {
     "cell_type": "code",
     "collapsed": false,
     "input": [
      "identity(2)*ones((2,2))"
     ],
     "language": "python",
     "metadata": {},
     "outputs": [
      {
       "output_type": "pyout",
       "prompt_number": 105,
       "text": [
        "array([[ 1.,  0.],\n",
        "       [ 0.,  1.]])"
       ]
      }
     ],
     "prompt_number": 105
    },
    {
     "cell_type": "markdown",
     "metadata": {},
     "source": [
      "To get matrix multiplication, you need the **dot** command:"
     ]
    },
    {
     "cell_type": "code",
     "collapsed": false,
     "input": [
      "dot(identity(2),ones((2,2)))"
     ],
     "language": "python",
     "metadata": {},
     "outputs": [
      {
       "output_type": "pyout",
       "prompt_number": 106,
       "text": [
        "array([[ 1.,  1.],\n",
        "       [ 1.,  1.]])"
       ]
      }
     ],
     "prompt_number": 106
    },
    {
     "cell_type": "markdown",
     "metadata": {},
     "source": [
      "**dot** can also do dot products (duh!):"
     ]
    },
    {
     "cell_type": "code",
     "collapsed": false,
     "input": [
      "v = array([3,4],'d')\n",
      "sqrt(dot(v,v))"
     ],
     "language": "python",
     "metadata": {},
     "outputs": [
      {
       "output_type": "pyout",
       "prompt_number": 107,
       "text": [
        "5.0"
       ]
      }
     ],
     "prompt_number": 107
    },
    {
     "cell_type": "markdown",
     "metadata": {},
     "source": [
      "as well as matrix-vector products."
     ]
    },
    {
     "cell_type": "markdown",
     "metadata": {},
     "source": [
      "There are **determinant**, **inverse**, and **transpose** functions that act as you would suppose. Transpose can be abbreviated with \".T\" at the end of a matrix object:"
     ]
    },
    {
     "cell_type": "code",
     "collapsed": false,
     "input": [
      "m = array([[1,2],[3,4]])\n",
      "m.T"
     ],
     "language": "python",
     "metadata": {},
     "outputs": [
      {
       "output_type": "pyout",
       "prompt_number": 108,
       "text": [
        "array([[1, 3],\n",
        "       [2, 4]])"
       ]
      }
     ],
     "prompt_number": 108
    },
    {
     "cell_type": "markdown",
     "metadata": {},
     "source": [
      "There's also a **diag()** function that takes a list or a vector and puts it along the diagonal of a square matrix. "
     ]
    },
    {
     "cell_type": "code",
     "collapsed": false,
     "input": [
      "diag([1,2,3,4,5])"
     ],
     "language": "python",
     "metadata": {},
     "outputs": [
      {
       "output_type": "pyout",
       "prompt_number": 109,
       "text": [
        "array([[1, 0, 0, 0, 0],\n",
        "       [0, 2, 0, 0, 0],\n",
        "       [0, 0, 3, 0, 0],\n",
        "       [0, 0, 0, 4, 0],\n",
        "       [0, 0, 0, 0, 5]])"
       ]
      }
     ],
     "prompt_number": 109
    },
    {
     "cell_type": "markdown",
     "metadata": {},
     "source": [
      "We'll find this useful later on."
     ]
    },
    {
     "cell_type": "markdown",
     "metadata": {},
     "source": [
      "## Matrix Solvers\n",
      "You can solve systems of linear equations using the **solve** command:"
     ]
    },
    {
     "cell_type": "code",
     "collapsed": false,
     "input": [
      "A = array([[1,1,1],[0,2,5],[2,5,-1]])\n",
      "b = array([6,-4,27])\n",
      "solve(A,b)"
     ],
     "language": "python",
     "metadata": {},
     "outputs": [
      {
       "output_type": "pyout",
       "prompt_number": 110,
       "text": [
        "array([ 5.,  3., -2.])"
       ]
      }
     ],
     "prompt_number": 110
    },
    {
     "cell_type": "markdown",
     "metadata": {},
     "source": [
      "There are a number of routines to compute eigenvalues and eigenvectors\n",
      "\n",
      "* **eigvals** returns the eigenvalues of a matrix\n",
      "* **eigvalsh** returns the eigenvalues of a Hermitian matrix\n",
      "* **eig** returns the eigenvalues and eigenvectors of a matrix\n",
      "* **eigh** returns the eigenvalues and eigenvectors of a Hermitian matrix."
     ]
    },
    {
     "cell_type": "code",
     "collapsed": false,
     "input": [
      "A = array([[13,-4],[-4,7]],'d')\n",
      "eigvalsh(A)"
     ],
     "language": "python",
     "metadata": {},
     "outputs": [
      {
       "output_type": "pyout",
       "prompt_number": 111,
       "text": [
        "array([  5.,  15.])"
       ]
      }
     ],
     "prompt_number": 111
    },
    {
     "cell_type": "code",
     "collapsed": false,
     "input": [
      "eigh(A)"
     ],
     "language": "python",
     "metadata": {},
     "outputs": [
      {
       "output_type": "pyout",
       "prompt_number": 112,
       "text": [
        "(array([  5.,  15.]),\n",
        " array([[-0.4472136 , -0.89442719],\n",
        "       [-0.89442719,  0.4472136 ]]))"
       ]
      }
     ],
     "prompt_number": 112
    },
    {
     "cell_type": "markdown",
     "metadata": {},
     "source": [
      "## Example: Finite Differences\n",
      "Now that we have these tools in our toolbox, we can start to do some cool stuff with it. Many of the equations we want to solve in Physics involve differential equations. We want to be able to compute the derivative of functions:\n",
      "\n",
      "$$ y' = \\frac{y(x+h)-y(x)}{h} $$\n",
      "\n",
      "by *discretizing* the function $y(x)$ on an evenly spaced set of points $x_0, x_1, \\dots, x_n$, yielding $y_0, y_1, \\dots, y_n$. Using the discretization, we can approximate the derivative by\n",
      "\n",
      "$$ y_i' \\approx \\frac{y_{i+1}-y_{i-1}}{x_{i+1}-x_{i-1}} $$\n",
      "\n",
      "We can write a derivative function in Python via"
     ]
    },
    {
     "cell_type": "code",
     "collapsed": false,
     "input": [
      "def nderiv(y,x):\n",
      "    \"Finite difference derivative of the function f\"\n",
      "    n = len(y)\n",
      "    d = zeros(n,'d') # assume double\n",
      "    # Use centered differences for the interior points, one-sided differences for the ends\n",
      "    for i in range(1,n-1):\n",
      "        d[i] = (y[i+1]-y[i])/(x[i+1]-x[i])\n",
      "    d[0] = (y[1]-y[0])/(x[1]-x[0])\n",
      "    d[n-1] = (y[n-1]-y[n-2])/(x[n-1]-x[n-2])\n",
      "    return d"
     ],
     "language": "python",
     "metadata": {},
     "outputs": [],
     "prompt_number": 113
    },
    {
     "cell_type": "markdown",
     "metadata": {},
     "source": [
      "Let's see whether this works for our sin example from above:"
     ]
    },
    {
     "cell_type": "code",
     "collapsed": false,
     "input": [
      "x = linspace(0,2*pi)\n",
      "dsin = nderiv(sin(x),x)\n",
      "plot(x,dsin,label='numerical')\n",
      "plot(x,cos(x),label='analytical')\n",
      "title(\"Comparison of numerical and analytical derivatives of sin(x)\")\n",
      "legend()"
     ],
     "language": "python",
     "metadata": {},
     "outputs": [
      {
       "output_type": "pyout",
       "prompt_number": 114,
       "text": [
        "<matplotlib.legend.Legend at 0x53464d0>"
       ]
      },
      {
       "output_type": "display_data",
       "png": "[encoded data removed]"
      }
     ],
     "prompt_number": 114
    },
    {
     "cell_type": "markdown",
     "metadata": {},
     "source": [
      "Pretty close!"
     ]
    },
    {
     "cell_type": "markdown",
     "metadata": {},
     "source": [
      "## One-Dimensional Harmonic Oscillator using Finite Difference\n",
      "Now that we've convinced ourselves that finite differences aren't a terrible approximation, let's see if we can use this to solve the one-dimensional harmonic oscillator.\n",
      "\n",
      "We want to solve the time-independent Schrodinger equation\n",
      "\n",
      "$$ -\\frac{\\hbar^2}{2m}\\frac{\\partial^2\\psi(x)}{\\partial x^2} + V(x)\\psi(x) = E\\psi(x)$$\n",
      "\n",
      "for $\\psi(x)$ when $V(x)=\\frac{1}{2}m\\omega^2x^2$ is the harmonic oscillator potential. We're going to use the standard trick to transform the differential equation into a matrix equation by multiplying both sides by $\\psi^*(x)$ and integrating over $x$. This yields\n",
      "\n",
      "$$ -\\frac{\\hbar}{2m}\\int\\psi(x)\\frac{\\partial^2}{\\partial x^2}\\psi(x)dx + \\int\\psi(x)V(x)\\psi(x)dx = E$$\n",
      "\n",
      "We will again use the finite difference approximation. The finite difference formula for the second derivative is\n",
      "\n",
      "$$ y'' = \\frac{y_{i+1}-2y_i+y_{i-1}}{x_{i+1}-x_{i-1}} $$\n",
      "\n",
      "We can think of the first term in the Schrodinger equation as the overlap of the wave function $\\psi(x)$ with the second derivative of the wave function $\\frac{\\partial^2}{\\partial x^2}\\psi(x)$. Given the above expression for the second derivative, we can see if we take the overlap of the states $y_1,\\dots,y_n$ with the second derivative, we will only have three points where the overlap is nonzero, at $y_{i-1}$, $y_i$, and $y_{i+1}$. In matrix form, this leads to the tridiagonal Laplacian matrix, which has -2's along the diagonals, and 1's along the diagonals above and below the main diagonal.\n",
      "\n",
      "The second term turns leads to a diagonal matrix with $V(x_i)$ on the diagonal elements. Putting all of these pieces together, we get:"
     ]
    },
    {
     "cell_type": "code",
     "collapsed": false,
     "input": [
      "def Laplacian(x):\n",
      "    h = x[1]-x[0] # assume uniformly spaced points\n",
      "    n = len(x)\n",
      "    M = -2*identity(n,'d')\n",
      "    for i in range(1,n):\n",
      "        M[i,i-1] = M[i-1,i] = 1\n",
      "    return M/h**2"
     ],
     "language": "python",
     "metadata": {},
     "outputs": [],
     "prompt_number": 115
    },
    {
     "cell_type": "code",
     "collapsed": false,
     "input": [
      "x = linspace(-3,3)\n",
      "m = 1.0\n",
      "ohm = 1.0\n",
      "T = (-0.5/m)*Laplacian(x)\n",
      "V = 0.5*(ohm**2)*(x**2)\n",
      "H =  T + diag(V)\n",
      "E,U = eigh(H)\n",
      "h = x[1]-x[0]\n",
      "\n",
      "# Plot the Harmonic potential\n",
      "plot(x,V,color='k')\n",
      "\n",
      "for i in range(4):\n",
      "    # For each of the first few solutions, plot the energy level:\n",
      "    axhline(y=E[i],color='k',ls=\":\")\n",
      "    # as well as the eigenfunction, displaced by the energy level so they don't\n",
      "    # all pile up on each other:\n",
      "    plot(x,-U[:,i]/sqrt(h)+E[i])\n",
      "title(\"Eigenfunctions of the Quantum Harmonic Oscillator\")\n",
      "xlabel(\"Displacement (bohr)\")\n",
      "ylabel(\"Energy (hartree)\")"
     ],
     "language": "python",
     "metadata": {},
     "outputs": [
      {
       "output_type": "pyout",
       "prompt_number": 116,
       "text": [
        "<matplotlib.text.Text at 0x5695d90>"
       ]
      },
      {
       "output_type": "display_data",
       "png": "[encoded data removed]"
      }
     ],
     "prompt_number": 116
    },
    {
     "cell_type": "markdown",
     "metadata": {},
     "source": [
      "We've made a couple of hacks here to get the orbitals the way we want them. First, I inserted a -1 factor before the wave functions, to fix the phase of the lowest state. The phase (sign) of a quantum wave function doesn't hold any information, only the square of the wave function does, so this doesn't really change anything. \n",
      "\n",
      "But the eigenfunctions as we generate them aren't properly normalized. The reason is that finite difference isn't a real basis in the quantum mechanical sense. It's a basis of Dirac \u03b4 functions at each point; we interpret the space betwen the points as being \"filled\" by the wave function, but the finite difference basis only has the solution being at the points themselves. We can fix this by dividing the eigenfunctions of our finite difference Hamiltonian by the square root of the spacing, and this gives properly normalized functions."
     ]
    },
    {
     "cell_type": "markdown",
     "metadata": {},
     "source": [
      "## Special Functions\n",
      "The solutions to the Harmonic Oscillator are supposed to be Hermite polynomials. The Wikipedia page has the HO states given by\n",
      "\n",
      "$$\\psi_n(x) = \\frac{1}{\\sqrt{2^n n!}}\n",
      "\\left(\\frac{m\\omega}{\\pi\\hbar}\\right)^{1/4}\n",
      "\\exp\\left(-\\frac{m\\omega x^2}{2\\hbar}\\right)\n",
      "H_n\\left(\\sqrt{\\frac{m\\omega}{\\hbar}}x\\right)$$\n",
      "\n",
      "Let's see whether they look like those. There are some special functions in the Numpy library, and some more in Scipy. Hermite Polynomials are in Numpy:"
     ]
    },
    {
     "cell_type": "code",
     "collapsed": false,
     "input": [
      "from numpy.polynomial.hermite import Hermite\n",
      "def ho_evec(x,n,m,ohm):\n",
      "    vec = [0]*9\n",
      "    vec[n] = 1\n",
      "    Hn = Hermite(vec)\n",
      "    return (1/sqrt(2**n*factorial(n)))*pow(m*ohm/pi,0.25)*exp(-0.5*m*ohm*x**2)*Hn(x*sqrt(m*ohm))"
     ],
     "language": "python",
     "metadata": {},
     "outputs": [],
     "prompt_number": 117
    },
    {
     "cell_type": "markdown",
     "metadata": {},
     "source": [
      "Let's compare the first function to our solution."
     ]
    },
    {
     "cell_type": "code",
     "collapsed": false,
     "input": [
      "plot(x,ho_evec(x,0,1,1),label=\"Analytic\")\n",
      "plot(x,-U[:,0]/sqrt(h),label=\"Numeric\")\n",
      "xlabel('x (bohr)')\n",
      "ylabel(r'$\\psi(x)$')\n",
      "title(\"Comparison of numeric and analytic solutions to the Harmonic Oscillator\")\n",
      "legend()"
     ],
     "language": "python",
     "metadata": {},
     "outputs": [
      {
       "output_type": "pyout",
       "prompt_number": 118,
       "text": [
        "<matplotlib.legend.Legend at 0x59b4e90>"
       ]
      },
      {
       "output_type": "display_data",
       "png": "[encoded data removed]"
      }
     ],
     "prompt_number": 118
    },
    {
     "cell_type": "markdown",
     "metadata": {},
     "source": [
      "The agreement is almost exact."
     ]
    },
    {
     "cell_type": "markdown",
     "metadata": {},
     "source": [
      "We can use the **subplot** command to put multiple comparisons in different panes on a single plot:"
     ]
    },
    {
     "cell_type": "code",
     "collapsed": false,
     "input": [
      "phase_correction = [-1,1,1,-1,-1,1]\n",
      "for i in range(6):\n",
      "    subplot(2,3,i+1)\n",
      "    plot(x,ho_evec(x,i,1,1),label=\"Analytic\")\n",
      "    plot(x,phase_correction[i]*U[:,i]/sqrt(h),label=\"Numeric\")"
     ],
     "language": "python",
     "metadata": {},
     "outputs": [
      {
       "output_type": "display_data",
       "png": "[encoded data removed]"
      }
     ],
     "prompt_number": 119
    },
    {
     "cell_type": "markdown",
     "metadata": {},
     "source": [
      "Other than phase errors (which I've corrected with a little hack: can you find it?), the agreement is pretty good, although it gets worse the higher in energy we get, in part because we used only 50 points.\n",
      "\n",
      "The Scipy module has many more special functions:"
     ]
    },
    {
     "cell_type": "code",
     "collapsed": false,
     "input": [
      "from scipy.special import airy,jn,eval_chebyt,eval_legendre\n",
      "subplot(2,2,1)\n",
      "x = linspace(-1,1)\n",
      "Ai,Aip,Bi,Bip = airy(x)\n",
      "plot(x,Ai)\n",
      "plot(x,Aip)\n",
      "plot(x,Bi)\n",
      "plot(x,Bip)\n",
      "title(\"Airy functions\")\n",
      "\n",
      "subplot(2,2,2)\n",
      "x = linspace(0,10)\n",
      "for i in range(4):\n",
      "    plot(x,jn(i,x))\n",
      "title(\"Bessel functions\")\n",
      "\n",
      "subplot(2,2,3)\n",
      "x = linspace(-1,1)\n",
      "for i in range(6):\n",
      "    plot(x,eval_chebyt(i,x))\n",
      "title(\"Chebyshev polynomials of the first kind\")\n",
      "\n",
      "subplot(2,2,4)\n",
      "x = linspace(-1,1)\n",
      "for i in range(6):\n",
      "    plot(x,eval_legendre(i,x))\n",
      "title(\"Legendre polynomials\")"
     ],
     "language": "python",
     "metadata": {},
     "outputs": [
      {
       "output_type": "pyout",
       "prompt_number": 120,
       "text": [
        "<matplotlib.text.Text at 0x69dbe10>"
       ]
      },
      {
       "output_type": "display_data",
       "png": "[encoded data removed]"
      }
     ],
     "prompt_number": 120
    },
    {
     "cell_type": "markdown",
     "metadata": {},
     "source": [
      "As well as Jacobi, Laguerre, Hermite polynomials, Hypergeometric functions, and many others. There's a full listing at the [Scipy Special Functions Page](http://docs.scipy.org/doc/scipy/reference/special.html)."
     ]
    },
    {
     "cell_type": "markdown",
     "metadata": {},
     "source": [
      "## Least squares fitting\n",
      "Very often we deal with some data that we want to fit to some sort of expected behavior. Say we have the following:"
     ]
    },
    {
     "cell_type": "code",
     "collapsed": false,
     "input": [
      "raw_data = \"\"\"\\\n",
      "3.1905781584582433,0.028208609537968457\n",
      "4.346895074946466,0.007160804747670053\n",
      "5.374732334047101,0.0046962988461934805\n",
      "8.201284796573875,0.0004614473299618756\n",
      "10.899357601713055,0.00005038370219939726\n",
      "16.295503211991434,4.377451812785309e-7\n",
      "21.82012847965739,3.0799922117601088e-9\n",
      "32.48394004282656,1.524776208284536e-13\n",
      "43.53319057815846,5.5012073588707224e-18\"\"\""
     ],
     "language": "python",
     "metadata": {},
     "outputs": [],
     "prompt_number": 121
    },
    {
     "cell_type": "markdown",
     "metadata": {},
     "source": [
      "There's a section below on parsing CSV data. We'll steal the parser from that. For an explanation, skip ahead to that section. Otherwise, just assume that this is a way to parse that text into a numpy array that we can plot and do other analyses with."
     ]
    },
    {
     "cell_type": "code",
     "collapsed": false,
     "input": [
      "data = []\n",
      "for line in raw_data.splitlines():\n",
      "    words = line.split(',')\n",
      "    data.append(list(map(float,words)))\n",
      "data = array(data)\n"
     ],
     "language": "python",
     "metadata": {},
     "outputs": [],
     "prompt_number": 122
    },
    {
     "cell_type": "code",
     "collapsed": false,
     "input": [
      "title(\"Raw Data\")\n",
      "xlabel(\"Distance\")\n",
      "plot(data[:,0],data[:,1],'bo')"
     ],
     "language": "python",
     "metadata": {},
     "outputs": [
      {
       "output_type": "pyout",
       "prompt_number": 123,
       "text": [
        "[<matplotlib.lines.Line2D at 0x5a90d50>]"
       ]
      },
      {
       "output_type": "display_data",
       "png": "[encoded data removed]"
      }
     ],
     "prompt_number": 123
    },
    {
     "cell_type": "markdown",
     "metadata": {},
     "source": [
      "Since we expect the data to have an exponential decay, we can plot it using a semi-log plot."
     ]
    },
    {
     "cell_type": "code",
     "collapsed": false,
     "input": [
      "title(\"Raw Data\")\n",
      "xlabel(\"Distance\")\n",
      "semilogy(data[:,0],data[:,1],'bo')"
     ],
     "language": "python",
     "metadata": {},
     "outputs": [
      {
       "output_type": "pyout",
       "prompt_number": 124,
       "text": [
        "[<matplotlib.lines.Line2D at 0x6501f10>]"
       ]
      },
      {
       "output_type": "display_data",
       "png": "[encoded data removed]"
      }
     ],
     "prompt_number": 124
    },
    {
     "cell_type": "markdown",
     "metadata": {},
     "source": [
      "For a pure exponential decay like this, we can fit the log of the data to a straight line. The above plot suggests this is a good approximation. Given a function\n",
      "$$ y = Ae^{-ax} $$\n",
      "$$ \\log(y) = \\log(A) - ax$$\n",
      "Thus, if we fit the log of the data versus x, we should get a straight line with slope $a$, and an intercept that gives the constant $A$.\n",
      "\n",
      "There's a numpy function called **polyfit** that will fit data to a polynomial form. We'll use this to fit to a straight line (a polynomial of order 1)"
     ]
    },
    {
     "cell_type": "code",
     "collapsed": false,
     "input": [
      "params = polyfit(data[:,0],log(data[:,1]),1)\n",
      "a = params[0]\n",
      "A = exp(params[1])"
     ],
     "language": "python",
     "metadata": {},
     "outputs": [],
     "prompt_number": 125
    },
    {
     "cell_type": "markdown",
     "metadata": {},
     "source": [
      "Let's see whether this curve fits the data."
     ]
    },
    {
     "cell_type": "code",
     "collapsed": false,
     "input": [
      "x = linspace(1,45)\n",
      "title(\"Raw Data\")\n",
      "xlabel(\"Distance\")\n",
      "semilogy(data[:,0],data[:,1],'bo')\n",
      "semilogy(x,A*exp(a*x),'b-')"
     ],
     "language": "python",
     "metadata": {},
     "outputs": [
      {
       "output_type": "pyout",
       "prompt_number": 126,
       "text": [
        "[<matplotlib.lines.Line2D at 0x5860cd0>]"
       ]
      },
      {
       "output_type": "display_data",
       "png": "[encoded data removed]"
      }
     ],
     "prompt_number": 126
    },
    {
     "cell_type": "markdown",
     "metadata": {},
     "source": [
      "If we have more complicated functions, we may not be able to get away with fitting to a simple polynomial. Consider the following data:"
     ]
    },
    {
     "cell_type": "code",
     "collapsed": false,
     "input": [
      "gauss_data = \"\"\"\\\n",
      "-0.9902286902286903,1.4065274110372852e-19\n",
      "-0.7566104566104566,2.2504438576596563e-18\n",
      "-0.5117810117810118,1.9459459459459454\n",
      "-0.31887271887271884,10.621621621621626\n",
      "-0.250997150997151,15.891891891891893\n",
      "-0.1463309463309464,23.756756756756754\n",
      "-0.07267267267267263,28.135135135135133\n",
      "-0.04426734426734419,29.02702702702703\n",
      "-0.0015939015939017698,29.675675675675677\n",
      "0.04689304689304685,29.10810810810811\n",
      "0.0840994840994842,27.324324324324326\n",
      "0.1700546700546699,22.216216216216214\n",
      "0.370878570878571,7.540540540540545\n",
      "0.5338338338338338,1.621621621621618\n",
      "0.722014322014322,0.08108108108108068\n",
      "0.9926849926849926,-0.08108108108108646\"\"\"\n",
      "\n",
      "data = []\n",
      "for line in gauss_data.splitlines():\n",
      "    words = line.split(',')\n",
      "    data.append(list(map(float,words)))\n",
      "data = array(data)\n",
      "\n",
      "plot(data[:,0],data[:,1],'bo')"
     ],
     "language": "python",
     "metadata": {},
     "outputs": [
      {
       "output_type": "pyout",
       "prompt_number": 127,
       "text": [
        "[<matplotlib.lines.Line2D at 0x5aa7610>]"
       ]
      },
      {
       "output_type": "display_data",
       "png": "[encoded data removed]"
      }
     ],
     "prompt_number": 127
    },
    {
     "cell_type": "markdown",
     "metadata": {},
     "source": [
      "This data looks more Gaussian than exponential. If we wanted to, we could use **polyfit** for this as well, but let's use the **curve_fit** function from Scipy, which can fit to arbitrary functions. You can learn more using help(curve_fit).\n",
      "\n",
      "First define a general Gaussian function to fit to."
     ]
    },
    {
     "cell_type": "code",
     "collapsed": false,
     "input": [
      "def gauss(x,A,a): \n",
      "    return A*exp(a*x**2)"
     ],
     "language": "python",
     "metadata": {},
     "outputs": [],
     "prompt_number": 128
    },
    {
     "cell_type": "markdown",
     "metadata": {},
     "source": [
      "Now fit to it using **curve_fit**:"
     ]
    },
    {
     "cell_type": "code",
     "collapsed": false,
     "input": [
      "from scipy.optimize import curve_fit\n",
      "\n",
      "params,conv = curve_fit(gauss,data[:,0],data[:,1])\n",
      "x = linspace(-1,1)\n",
      "plot(data[:,0],data[:,1],'bo')\n",
      "A,a = params\n",
      "plot(x,gauss(x,A,a),'b-')"
     ],
     "language": "python",
     "metadata": {},
     "outputs": [
      {
       "output_type": "pyout",
       "prompt_number": 129,
       "text": [
        "[<matplotlib.lines.Line2D at 0x81a6690>]"
       ]
      },
      {
       "output_type": "display_data",
       "png": "[encoded data removed]"
      }
     ],
     "prompt_number": 129
    },
    {
     "cell_type": "markdown",
     "metadata": {},
     "source": [
      "The **curve_fit** routine we just used is built on top of a very good general **minimization** capability in Scipy. You can learn more [at the scipy documentation pages](http://docs.scipy.org/doc/scipy/reference/generated/scipy.optimize.minimize.html)."
     ]
    },
    {
     "cell_type": "markdown",
     "metadata": {},
     "source": [
      "## Monte Carlo, random numbers, and computing $\\pi$\n",
      "Many methods in scientific computing rely on Monte Carlo integration, where a sequence of (pseudo) random numbers are used to approximate the integral of a function. Python has good random number generators in the standard library. The **random()** function gives pseudorandom numbers uniformly distributed between 0 and 1:"
     ]
    },
    {
     "cell_type": "code",
     "collapsed": false,
     "input": [
      "from random import random\n",
      "rands = []\n",
      "for i in range(100):\n",
      "    rands.append(random())\n",
      "plot(rands)"
     ],
     "language": "python",
     "metadata": {},
     "outputs": [
      {
       "output_type": "pyout",
       "prompt_number": 130,
       "text": [
        "[<matplotlib.lines.Line2D at 0x855fdd0>]"
       ]
      },
      {
       "output_type": "display_data",
       "png": "[encoded data removed]"
      }
     ],
     "prompt_number": 130
    },
    {
     "cell_type": "markdown",
     "metadata": {},
     "source": [
      "**random()** uses the [Mersenne Twister](http://www.math.sci.hiroshima-u.ac.jp/~m-mat/MT/emt.html) algorithm, which is a highly regarded pseudorandom number generator. There are also functions to generate random integers, to randomly shuffle a list, and functions to pick random numbers from a particular distribution, like the normal distribution:"
     ]
    },
    {
     "cell_type": "code",
     "collapsed": false,
     "input": [
      "from random import gauss\n",
      "grands = []\n",
      "for i in range(100):\n",
      "    grands.append(gauss(0,1))\n",
      "plot(grands)"
     ],
     "language": "python",
     "metadata": {},
     "outputs": [
      {
       "output_type": "pyout",
       "prompt_number": 131,
       "text": [
        "[<matplotlib.lines.Line2D at 0x7dadbd0>]"
       ]
      },
      {
       "output_type": "display_data",
       "png": "[encoded data removed]"
      }
     ],
     "prompt_number": 131
    },
    {
     "cell_type": "markdown",
     "metadata": {},
     "source": [
      "It is generally more efficient to generate a list of random numbers all at once, particularly if you're drawing from a non-uniform distribution. Numpy has functions to generate vectors and matrices of particular types of random distributions."
     ]
    },
    {
     "cell_type": "code",
     "collapsed": false,
     "input": [
      "plot(rand(100))"
     ],
     "language": "python",
     "metadata": {},
     "outputs": [
      {
       "output_type": "pyout",
       "prompt_number": 132,
       "text": [
        "[<matplotlib.lines.Line2D at 0x794fe90>]"
       ]
      },
      {
       "output_type": "display_data",
       "png": "[encoded data removed]"
      }
     ],
     "prompt_number": 132
    },
    {
     "cell_type": "markdown",
     "metadata": {},
     "source": [
      "One of the first programs I ever wrote was a program to compute $\\pi$ by taking random numbers as x and y coordinates, and counting how many of them were in the unit circle. For example:"
     ]
    },
    {
     "cell_type": "code",
     "collapsed": false,
     "input": [
      "npts = 5000\n",
      "xs = 2*rand(npts)-1\n",
      "ys = 2*rand(npts)-1\n",
      "r = xs**2+ys**2\n",
      "ninside = (r<1).sum()\n",
      "figsize(6,6) # make the figure square\n",
      "title(\"Approximation to pi = %f\" % (4*ninside/float(npts)))\n",
      "plot(xs[r<1],ys[r<1],'b.')\n",
      "plot(xs[r>1],ys[r>1],'r.')\n",
      "figsize(8,6) # change the figsize back to 4x3 for the rest of the notebook"
     ],
     "language": "python",
     "metadata": {},
     "outputs": [
      {
       "output_type": "display_data",
       "png": "[encoded data removed]"
      }
     ],
     "prompt_number": 133
    },
    {
     "cell_type": "markdown",
     "metadata": {},
     "source": [
      "The idea behind the program is that the ratio of the area of the unit circle to the square that inscribes it is $\\pi/4$, so by counting the fraction of the random points in the square that are inside the circle, we get increasingly good estimates to $\\pi$. \n",
      "\n",
      "The above code uses some higher level Numpy tricks to compute the radius of each point in a single line, to count how many radii are below one in a single line, and to filter the x,y points based on their radii. To be honest, I rarely write code like this: I find some of these Numpy tricks a little too cute to remember them, and I'm more likely to use a list comprehension (see below) to filter the points I want, since I can remember that.\n",
      "\n",
      "As methods of computing $\\pi$ go, this is among the worst. A much better method is to use Leibniz's expansion of arctan(1):\n",
      "\n",
      "$$\\frac{\\pi}{4} = \\sum_k \\frac{(-1)^k}{2*k+1}$$"
     ]
    },
    {
     "cell_type": "code",
     "collapsed": false,
     "input": [
      "n = 100\n",
      "total = 0\n",
      "for k in range(n):\n",
      "    total += pow(-1,k)/(2*k+1.0)\n",
      "print(4*total)"
     ],
     "language": "python",
     "metadata": {},
     "outputs": [
      {
       "output_type": "stream",
       "stream": "stdout",
       "text": [
        "3.1315929035585537\n"
       ]
      }
     ],
     "prompt_number": 134
    },
    {
     "cell_type": "markdown",
     "metadata": {},
     "source": [
      "If you're interested a great method, check out [Ramanujan's method](http://en.wikipedia.org/wiki/Approximations_of_%CF%80). This converges so fast you really need arbitrary precision math to display enough decimal places. You can do this with the Python **decimal** module, if you're interested."
     ]
    },
    {
     "cell_type": "markdown",
     "metadata": {},
     "source": [
      "## Numerical Integration\n",
      "Integration can be hard, and sometimes it's easier to work out a definite integral using an approximation. For example, suppose we wanted to figure out the integral:\n",
      "\n",
      "$$\\int_0^\\infty\\exp(-x)dx=1$$"
     ]
    },
    {
     "cell_type": "code",
     "collapsed": false,
     "input": [
      "from numpy import sqrt\n",
      "def f(x): return exp(-x)\n",
      "x = linspace(0,10)\n",
      "plot(x,exp(-x))"
     ],
     "language": "python",
     "metadata": {},
     "outputs": [
      {
       "ename": "NameError",
       "evalue": "name 'linspace' is not defined",
       "output_type": "pyerr",
       "traceback": [
        "\u001b[1;31m---------------------------------------------------------------------------\u001b[0m\n\u001b[1;31mNameError\u001b[0m                                 Traceback (most recent call last)",
        "\u001b[1;32m<ipython-input-10-c0f823c339fd>\u001b[0m in \u001b[0;36m<module>\u001b[1;34m()\u001b[0m\n\u001b[0;32m      1\u001b[0m \u001b[1;32mfrom\u001b[0m \u001b[0mnumpy\u001b[0m \u001b[1;32mimport\u001b[0m \u001b[0msqrt\u001b[0m\u001b[1;33m\u001b[0m\u001b[0m\n\u001b[0;32m      2\u001b[0m \u001b[1;32mdef\u001b[0m \u001b[0mf\u001b[0m\u001b[1;33m(\u001b[0m\u001b[0mx\u001b[0m\u001b[1;33m)\u001b[0m\u001b[1;33m:\u001b[0m \u001b[1;32mreturn\u001b[0m \u001b[0mexp\u001b[0m\u001b[1;33m(\u001b[0m\u001b[1;33m-\u001b[0m\u001b[0mx\u001b[0m\u001b[1;33m)\u001b[0m\u001b[1;33m\u001b[0m\u001b[0m\n\u001b[1;32m----> 3\u001b[1;33m \u001b[0mx\u001b[0m \u001b[1;33m=\u001b[0m \u001b[0mlinspace\u001b[0m\u001b[1;33m(\u001b[0m\u001b[1;36m0\u001b[0m\u001b[1;33m,\u001b[0m\u001b[1;36m10\u001b[0m\u001b[1;33m)\u001b[0m\u001b[1;33m\u001b[0m\u001b[0m\n\u001b[0m\u001b[0;32m      4\u001b[0m \u001b[0mplot\u001b[0m\u001b[1;33m(\u001b[0m\u001b[0mx\u001b[0m\u001b[1;33m,\u001b[0m\u001b[0mexp\u001b[0m\u001b[1;33m(\u001b[0m\u001b[1;33m-\u001b[0m\u001b[0mx\u001b[0m\u001b[1;33m)\u001b[0m\u001b[1;33m)\u001b[0m\u001b[1;33m\u001b[0m\u001b[0m\n",
        "\u001b[1;31mNameError\u001b[0m: name 'linspace' is not defined"
       ]
      }
     ],
     "prompt_number": 10
    },
    {
     "cell_type": "markdown",
     "metadata": {},
     "source": [
      "Scipy has a numerical integration routine **quad** (since sometimes numerical integration is called *quadrature*), that we can use for this:"
     ]
    },
    {
     "cell_type": "code",
     "collapsed": false,
     "input": [
      "from scipy.integrate import quad\n",
      "quad(f,0,inf)"
     ],
     "language": "python",
     "metadata": {},
     "outputs": [
      {
       "output_type": "pyout",
       "prompt_number": 136,
       "text": [
        "(1.0000000000000002, 5.842606742906004e-11)"
       ]
      }
     ],
     "prompt_number": 136
    },
    {
     "cell_type": "markdown",
     "metadata": {},
     "source": [
      "There are also 2d and 3d numerical integrators in Scipy. [See the docs](http://docs.scipy.org/doc/scipy/reference/integrate.html) for more information."
     ]
    },
    {
     "cell_type": "markdown",
     "metadata": {},
     "source": [
      "## Fast Fourier Transform and Signal Processing\n"
     ]
    },
    {
     "cell_type": "markdown",
     "metadata": {},
     "source": [
      "Very often we want to use FFT techniques to help obtain the signal from noisy data. Scipy has several different options for this."
     ]
    },
    {
     "cell_type": "code",
     "collapsed": false,
     "input": [
      "from scipy.fftpack import fft,fftfreq\n",
      "\n",
      "npts = 4000\n",
      "nplot = npts/10\n",
      "t = linspace(0,120,npts)\n",
      "def acc(t): return 10*sin(2*pi*2.0*t) + 5*sin(2*pi*8.0*t) + 2*rand(npts)\n",
      "\n",
      "signal = acc(t)\n",
      "\n",
      "FFT = abs(fft(signal))\n",
      "freqs = fftfreq(npts, t[1]-t[0])\n",
      "\n",
      "subplot(211)\n",
      "plot(t[:nplot], signal[:nplot])\n",
      "subplot(212)\n",
      "plot(freqs,20*log10(FFT),',')\n",
      "show()"
     ],
     "language": "python",
     "metadata": {},
     "outputs": [
      {
       "output_type": "display_data",
       "png": "[encoded data removed]"
      }
     ],
     "prompt_number": 137
    },
    {
     "cell_type": "markdown",
     "metadata": {},
     "source": [
      "There are additional signal processing routines in Scipy that you can [read about here](http://docs.scipy.org/doc/scipy/reference/tutorial/signal.html)."
     ]
    },
    {
     "cell_type": "markdown",
     "metadata": {},
     "source": [
      "## More Sophisticated String Formatting and Processing\n",
      "Strings are a big deal in most modern languages, and hopefully the previous sections helped underscore how versatile Python's string processing techniques are. We will continue this topic in this chapter.\n",
      "\n",
      "We can print out lines in Python using the print command. "
     ]
    },
    {
     "cell_type": "code",
     "collapsed": false,
     "input": [
      "print(\"I have 3 errands to run\")"
     ],
     "language": "python",
     "metadata": {},
     "outputs": [
      {
       "output_type": "stream",
       "stream": "stdout",
       "text": [
        "I have 3 errands to run\n"
       ]
      }
     ],
     "prompt_number": 151
    },
    {
     "cell_type": "markdown",
     "metadata": {},
     "source": [
      "In IPython we don't even need the print command, since it will display the last expression not assigned to a variable."
     ]
    },
    {
     "cell_type": "code",
     "collapsed": false,
     "input": [
      "\"I have 3 errands to run\""
     ],
     "language": "python",
     "metadata": {},
     "outputs": [
      {
       "output_type": "pyout",
       "prompt_number": 152,
       "text": [
        "'I have 3 errands to run'"
       ]
      }
     ],
     "prompt_number": 152
    },
    {
     "cell_type": "markdown",
     "metadata": {},
     "source": [
      "**print** even converts some arguments to strings for us:"
     ]
    },
    {
     "cell_type": "code",
     "collapsed": false,
     "input": [
      "a,b,c = 1,2,3\n",
      "print(\"The variables are \",1,2,3)"
     ],
     "language": "python",
     "metadata": {},
     "outputs": [
      {
       "output_type": "stream",
       "stream": "stdout",
       "text": [
        "The variables are  1 2 3\n"
       ]
      }
     ],
     "prompt_number": 153
    },
    {
     "cell_type": "markdown",
     "metadata": {},
     "source": [
      "As versatile as this is, you typically need more freedom over the data you print out. For example, what if we want to print a bunch of data to exactly 4 decimal places? We can do this using formatted strings.\n",
      "\n",
      "Formatted strings share a syntax with the C **printf** statement. We make a string that has some funny *format characters* in it, and then pass a bunch of variables into the string that fill out those characters in different ways.\n",
      "\n",
      "For example,"
     ]
    },
    {
     "cell_type": "code",
     "collapsed": false,
     "input": [
      "print(\"Pi as a decimal = %d\" % pi)\n",
      "print(\"Pi as a float = %f\" % pi)\n",
      "print(\"Pi with 4 decimal places = %.4f\" % pi)\n",
      "print(\"Pi with overall fixed length of 10 spaces, with 6 decimal places = %10.6f\" % pi)\n",
      "print(\"Pi as in exponential format = %e\" % pi)"
     ],
     "language": "python",
     "metadata": {},
     "outputs": [
      {
       "output_type": "stream",
       "stream": "stdout",
       "text": [
        "Pi as a decimal = 3\n",
        "Pi as a float = 3.141593\n",
        "Pi with 4 decimal places = 3.1416\n",
        "Pi with overall fixed length of 10 spaces, with 6 decimal places =   3.141593\n",
        "Pi as in exponential format = 3.141593e+00\n"
       ]
      }
     ],
     "prompt_number": 154
    },
    {
     "cell_type": "markdown",
     "metadata": {},
     "source": [
      "We use a percent sign in two different ways here. First, the format character itself starts with a percent sign. %d or %i are for integers, %f is for floats, %e is for numbers in exponential formats. All of the numbers can take number immediately after the percent that specifies the total spaces used to print the number. Formats with a decimal can take an additional number after a dot . to specify the number of decimal places to print.\n",
      "\n",
      "The other use of the percent sign is after the string, to pipe a set of variables in. You can pass in multiple variables (if your formatting string supports it) by putting a tuple after the percent. Thus,"
     ]
    },
    {
     "cell_type": "code",
     "collapsed": false,
     "input": [
      "print(\"The variables specified earlier are %d, %d, and %d\" % (a,b,c))"
     ],
     "language": "python",
     "metadata": {},
     "outputs": [
      {
       "output_type": "stream",
       "stream": "stdout",
       "text": [
        "The variables specified earlier are 1, 2, and 3\n"
       ]
      }
     ],
     "prompt_number": 155
    },
    {
     "cell_type": "markdown",
     "metadata": {},
     "source": [
      "This is a simple formatting structure that will satisfy most of your string formatting needs. More information on different format symbols is available in the [string formatting part of the standard docs](http://docs.python.org/release/2.5.2/lib/typesseq-strings.html).\n",
      "\n",
      "It's worth noting that more complicated string formatting methods are in development, but I prefer this system due to its simplicity and its similarity to C formatting strings.\n",
      "\n",
      "Recall we discussed multiline strings. We can put format characters in these as well, and fill them with the percent sign as before."
     ]
    },
    {
     "cell_type": "code",
     "collapsed": false,
     "input": [
      "form_letter = \"\"\"\\\n",
      "\n",
      "          %s\n",
      "\n",
      "Dear %s,\n",
      "\n",
      "We regret to inform you that your product did not\n",
      "ship today due to %s.\n",
      "\n",
      "We hope to remedy this as soon as possible.\n",
      "\n",
      "          From,\n",
      "          Your Supplier\n",
      "\"\"\"\n",
      "\n",
      "print(form_letter % (\"July 1, 2013\",\"Valued Customer Bob\",\"alien attack\"))"
     ],
     "language": "python",
     "metadata": {},
     "outputs": [
      {
       "output_type": "stream",
       "stream": "stdout",
       "text": [
        "\n",
        "          July 1, 2013\n",
        "\n",
        "Dear Valued Customer Bob,\n",
        "\n",
        "We regret to inform you that your product did not\n",
        "ship today due to alien attack.\n",
        "\n",
        "We hope to remedy this as soon as possible.\n",
        "\n",
        "          From,\n",
        "          Your Supplier\n",
        "\n"
       ]
      }
     ],
     "prompt_number": 156
    },
    {
     "cell_type": "markdown",
     "metadata": {},
     "source": [
      "The problem with a long block of text like this is that it's often hard to keep track of what all of the variables are supposed to stand for. There's an alternate format where you can pass a dictionary into the formatted string, and give a little bit more information to the formatted string itself. This method looks like:"
     ]
    },
    {
     "cell_type": "code",
     "collapsed": false,
     "input": [
      "form_letter = \"\"\"\\\n",
      "\n",
      "          %(date)s\n",
      "\n",
      "Dear %(customer)s,\n",
      "\n",
      "We regret to inform you that your product did not\n",
      "ship today due to %(lame_excuse)s.\n",
      "\n",
      "We hope to remedy this as soon as possible.\n",
      "\n",
      "          From,\n",
      "          Your Supplier\n",
      "\"\"\"\n",
      "\n",
      "print(form_letter % {\"date\" : \"July 1, 2013\",\"customer\":\"Valued Customer Bob\",\"lame_excuse\":\"alien attack\"})"
     ],
     "language": "python",
     "metadata": {},
     "outputs": [
      {
       "output_type": "stream",
       "stream": "stdout",
       "text": [
        "\n",
        "          July 1, 2013\n",
        "\n",
        "Dear Valued Customer Bob,\n",
        "\n",
        "We regret to inform you that your product did not\n",
        "ship today due to alien attack.\n",
        "\n",
        "We hope to remedy this as soon as possible.\n",
        "\n",
        "          From,\n",
        "          Your Supplier\n",
        "\n"
       ]
      }
     ],
     "prompt_number": 157
    },
    {
     "cell_type": "markdown",
     "metadata": {},
     "source": [
      "By providing a little bit more information, you're less likely to make mistakes, like referring to your customer as \"alien attack\".\n",
      "\n",
      "As a scientist, you're less likely to be sending bulk mailings to a bunch of customers. But these are great methods for generating and submitting lots of similar runs, say scanning a bunch of different structures to find the optimal configuration for something.\n",
      "\n",
      "For example, you can use the following template for NWChem input files:"
     ]
    },
    {
     "cell_type": "code",
     "collapsed": false,
     "input": [
      "nwchem_format = \"\"\"\n",
      "start %(jobname)s\n",
      "\n",
      "title \"%(thetitle)s\"\n",
      "charge %(charge)d\n",
      "\n",
      "geometry units angstroms print xyz autosym\n",
      "%(geometry)s\n",
      "end\n",
      "\n",
      "basis\n",
      "  * library 6-31G**\n",
      "end\n",
      "\n",
      "dft\n",
      "  xc %(dft_functional)s\n",
      "  mult %(multiplicity)d\n",
      "end\n",
      "\n",
      "task dft %(jobtype)s\n",
      "\"\"\""
     ],
     "language": "python",
     "metadata": {},
     "outputs": [],
     "prompt_number": 158
    },
    {
     "cell_type": "markdown",
     "metadata": {},
     "source": [
      "If you want to submit a sequence of runs to a computer somewhere, it's pretty easy to put together a little script, maybe even with some more string formatting in it:"
     ]
    },
    {
     "cell_type": "code",
     "collapsed": false,
     "input": [
      "oxygen_xy_coords = [(0,0),(0,0.1),(0.1,0),(0.1,0.1)]\n",
      "charge = 0\n",
      "multiplicity = 1\n",
      "dft_functional = \"b3lyp\"\n",
      "jobtype = \"optimize\"\n",
      "\n",
      "geometry_template = \"\"\"\\\n",
      "  O    %f     %f      0.0\n",
      "  H    0.0    1.0     0.0\n",
      "  H    1.0    0.0     0.0\"\"\"\n",
      "\n",
      "for i,xy in enumerate(oxygen_xy_coords):\n",
      "    thetitle = \"Water run #%d\" % i\n",
      "    jobname = \"h2o-%d\" % i\n",
      "    geometry = geometry_template % xy\n",
      "    print(\"---------\")\n",
      "    print(nwchem_format % dict(thetitle=thetitle,charge=charge,jobname=jobname,jobtype=jobtype,\n",
      "                               geometry=geometry,dft_functional=dft_functional,multiplicity=multiplicity))"
     ],
     "language": "python",
     "metadata": {},
     "outputs": [
      {
       "output_type": "stream",
       "stream": "stdout",
       "text": [
        "---------\n",
        "\n",
        "start h2o-0\n",
        "\n",
        "title \"Water run #0\"\n",
        "charge 0\n",
        "\n",
        "geometry units angstroms print xyz autosym\n",
        "  O    0.000000     0.000000      0.0\n",
        "  H    0.0    1.0     0.0\n",
        "  H    1.0    0.0     0.0\n",
        "end\n",
        "\n",
        "basis\n",
        "  * library 6-31G**\n",
        "end\n",
        "\n",
        "dft\n",
        "  xc b3lyp\n",
        "  mult 1\n",
        "end\n",
        "\n",
        "task dft optimize\n",
        "\n",
        "---------\n",
        "\n",
        "start h2o-1\n",
        "\n",
        "title \"Water run #1\"\n",
        "charge 0\n",
        "\n",
        "geometry units angstroms print xyz autosym\n",
        "  O    0.000000     0.100000      0.0\n",
        "  H    0.0    1.0     0.0\n",
        "  H    1.0    0.0     0.0\n",
        "end\n",
        "\n",
        "basis\n",
        "  * library 6-31G**\n",
        "end\n",
        "\n",
        "dft\n",
        "  xc b3lyp\n",
        "  mult 1\n",
        "end\n",
        "\n",
        "task dft optimize\n",
        "\n",
        "---------\n",
        "\n",
        "start h2o-2\n",
        "\n",
        "title \"Water run #2\"\n",
        "charge 0\n",
        "\n",
        "geometry units angstroms print xyz autosym\n",
        "  O    0.100000     0.000000      0.0\n",
        "  H    0.0    1.0     0.0\n",
        "  H    1.0    0.0     0.0\n",
        "end\n",
        "\n",
        "basis\n",
        "  * library 6-31G**\n",
        "end\n",
        "\n",
        "dft\n",
        "  xc b3lyp\n",
        "  mult 1\n",
        "end\n",
        "\n",
        "task dft optimize\n",
        "\n",
        "---------\n",
        "\n",
        "start h2o-3\n",
        "\n",
        "title \"Water run #3\"\n",
        "charge 0\n",
        "\n",
        "geometry units angstroms print xyz autosym\n",
        "  O    0.100000     0.100000      0.0\n",
        "  H    0.0    1.0     0.0\n",
        "  H    1.0    0.0     0.0\n",
        "end\n",
        "\n",
        "basis\n",
        "  * library 6-31G**\n",
        "end\n",
        "\n",
        "dft\n",
        "  xc b3lyp\n",
        "  mult 1\n",
        "end\n",
        "\n",
        "task dft optimize\n",
        "\n"
       ]
      }
     ],
     "prompt_number": 159
    },
    {
     "cell_type": "markdown",
     "metadata": {},
     "source": [
      "This is a very bad geometry for a water molecule, and it would be silly to run so many geometry optimizations of structures that are guaranteed to converge to the same single geometry, but you get the idea of how you can run vast numbers of simulations with a technique like this.\n",
      "\n",
      "We used the **enumerate** function to loop over both the indices and the items of a sequence, which is valuable when you want a clean way of getting both. **enumerate** is roughly equivalent to:"
     ]
    },
    {
     "cell_type": "code",
     "collapsed": false,
     "input": [
      "def my_enumerate(seq):\n",
      "    l = []\n",
      "    for i in range(len(seq)):\n",
      "        l.append((i,seq[i]))\n",
      "    return l\n",
      "my_enumerate(oxygen_xy_coords)"
     ],
     "language": "python",
     "metadata": {},
     "outputs": [
      {
       "output_type": "pyout",
       "prompt_number": 160,
       "text": [
        "[(0, (0, 0)), (1, (0, 0.1)), (2, (0.1, 0)), (3, (0.1, 0.1))]"
       ]
      }
     ],
     "prompt_number": 160
    },
    {
     "cell_type": "markdown",
     "metadata": {},
     "source": [
      "Although enumerate uses **generators** (see below) so that it doesn't have to create a big list, which makes it faster for really long sequenes."
     ]
    },
    {
     "cell_type": "markdown",
     "metadata": {},
     "source": [
      "## Optional arguments\n",
      "You will recall that the **linspace** function can take either two arguments (for the starting and ending points):"
     ]
    },
    {
     "cell_type": "code",
     "collapsed": false,
     "input": [
      "linspace(0,1)"
     ],
     "language": "python",
     "metadata": {},
     "outputs": [
      {
       "output_type": "pyout",
       "prompt_number": 161,
       "text": [
        "array([ 0.        ,  0.02040816,  0.04081633,  0.06122449,  0.08163265,\n",
        "        0.10204082,  0.12244898,  0.14285714,  0.16326531,  0.18367347,\n",
        "        0.20408163,  0.2244898 ,  0.24489796,  0.26530612,  0.28571429,\n",
        "        0.30612245,  0.32653061,  0.34693878,  0.36734694,  0.3877551 ,\n",
        "        0.40816327,  0.42857143,  0.44897959,  0.46938776,  0.48979592,\n",
        "        0.51020408,  0.53061224,  0.55102041,  0.57142857,  0.59183673,\n",
        "        0.6122449 ,  0.63265306,  0.65306122,  0.67346939,  0.69387755,\n",
        "        0.71428571,  0.73469388,  0.75510204,  0.7755102 ,  0.79591837,\n",
        "        0.81632653,  0.83673469,  0.85714286,  0.87755102,  0.89795918,\n",
        "        0.91836735,  0.93877551,  0.95918367,  0.97959184,  1.        ])"
       ]
      }
     ],
     "prompt_number": 161
    },
    {
     "cell_type": "markdown",
     "metadata": {},
     "source": [
      "or it can take three arguments, for the starting point, the ending point, and the number of points:"
     ]
    },
    {
     "cell_type": "code",
     "collapsed": false,
     "input": [
      "linspace(0,1,5)"
     ],
     "language": "python",
     "metadata": {},
     "outputs": [
      {
       "output_type": "pyout",
       "prompt_number": 162,
       "text": [
        "array([ 0.  ,  0.25,  0.5 ,  0.75,  1.  ])"
       ]
      }
     ],
     "prompt_number": 162
    },
    {
     "cell_type": "markdown",
     "metadata": {},
     "source": [
      "You can also pass in keywords to exclude the endpoint:"
     ]
    },
    {
     "cell_type": "code",
     "collapsed": false,
     "input": [
      "linspace(0,1,5,endpoint=False)"
     ],
     "language": "python",
     "metadata": {},
     "outputs": [
      {
       "output_type": "pyout",
       "prompt_number": 163,
       "text": [
        "array([ 0. ,  0.2,  0.4,  0.6,  0.8])"
       ]
      }
     ],
     "prompt_number": 163
    },
    {
     "cell_type": "markdown",
     "metadata": {},
     "source": [
      "Right now, we only know how to specify functions that have a fixed number of arguments. We'll learn how to do the more general cases here.\n",
      "\n",
      "If we're defining a simple version of linspace, we would start with:"
     ]
    },
    {
     "cell_type": "code",
     "collapsed": false,
     "input": [
      "def my_linspace(start,end):\n",
      "    npoints = 50\n",
      "    v = []\n",
      "    d = (end-start)/float(npoints-1)\n",
      "    for i in range(npoints):\n",
      "        v.append(start + i*d)\n",
      "    return v\n",
      "my_linspace(0,1)"
     ],
     "language": "python",
     "metadata": {},
     "outputs": [
      {
       "output_type": "pyout",
       "prompt_number": 164,
       "text": [
        "[0.0,\n",
        " 0.02040816326530612,\n",
        " 0.04081632653061224,\n",
        " 0.061224489795918366,\n",
        " 0.08163265306122448,\n",
        " 0.1020408163265306,\n",
        " 0.12244897959183673,\n",
        " 0.14285714285714285,\n",
        " 0.16326530612244897,\n",
        " 0.18367346938775508,\n",
        " 0.2040816326530612,\n",
        " 0.22448979591836732,\n",
        " 0.24489795918367346,\n",
        " 0.26530612244897955,\n",
        " 0.2857142857142857,\n",
        " 0.3061224489795918,\n",
        " 0.32653061224489793,\n",
        " 0.3469387755102041,\n",
        " 0.36734693877551017,\n",
        " 0.3877551020408163,\n",
        " 0.4081632653061224,\n",
        " 0.42857142857142855,\n",
        " 0.44897959183673464,\n",
        " 0.4693877551020408,\n",
        " 0.4897959183673469,\n",
        " 0.5102040816326531,\n",
        " 0.5306122448979591,\n",
        " 0.5510204081632653,\n",
        " 0.5714285714285714,\n",
        " 0.5918367346938775,\n",
        " 0.6122448979591836,\n",
        " 0.6326530612244897,\n",
        " 0.6530612244897959,\n",
        " 0.673469387755102,\n",
        " 0.6938775510204082,\n",
        " 0.7142857142857142,\n",
        " 0.7346938775510203,\n",
        " 0.7551020408163265,\n",
        " 0.7755102040816326,\n",
        " 0.7959183673469387,\n",
        " 0.8163265306122448,\n",
        " 0.836734693877551,\n",
        " 0.8571428571428571,\n",
        " 0.8775510204081632,\n",
        " 0.8979591836734693,\n",
        " 0.9183673469387754,\n",
        " 0.9387755102040816,\n",
        " 0.9591836734693877,\n",
        " 0.9795918367346939,\n",
        " 0.9999999999999999]"
       ]
      }
     ],
     "prompt_number": 164
    },
    {
     "cell_type": "markdown",
     "metadata": {},
     "source": [
      "We can add an optional argument by specifying a default value in the argument list:"
     ]
    },
    {
     "cell_type": "code",
     "collapsed": false,
     "input": [
      "def my_linspace(start,end,npoints = 50):\n",
      "    v = []\n",
      "    d = (end-start)/float(npoints-1)\n",
      "    for i in range(npoints):\n",
      "        v.append(start + i*d)\n",
      "    return v"
     ],
     "language": "python",
     "metadata": {},
     "outputs": [],
     "prompt_number": 165
    },
    {
     "cell_type": "markdown",
     "metadata": {},
     "source": [
      "This gives exactly the same result if we don't specify anything:"
     ]
    },
    {
     "cell_type": "code",
     "collapsed": false,
     "input": [
      "my_linspace(0,1)"
     ],
     "language": "python",
     "metadata": {},
     "outputs": [
      {
       "output_type": "pyout",
       "prompt_number": 166,
       "text": [
        "[0.0,\n",
        " 0.02040816326530612,\n",
        " 0.04081632653061224,\n",
        " 0.061224489795918366,\n",
        " 0.08163265306122448,\n",
        " 0.1020408163265306,\n",
        " 0.12244897959183673,\n",
        " 0.14285714285714285,\n",
        " 0.16326530612244897,\n",
        " 0.18367346938775508,\n",
        " 0.2040816326530612,\n",
        " 0.22448979591836732,\n",
        " 0.24489795918367346,\n",
        " 0.26530612244897955,\n",
        " 0.2857142857142857,\n",
        " 0.3061224489795918,\n",
        " 0.32653061224489793,\n",
        " 0.3469387755102041,\n",
        " 0.36734693877551017,\n",
        " 0.3877551020408163,\n",
        " 0.4081632653061224,\n",
        " 0.42857142857142855,\n",
        " 0.44897959183673464,\n",
        " 0.4693877551020408,\n",
        " 0.4897959183673469,\n",
        " 0.5102040816326531,\n",
        " 0.5306122448979591,\n",
        " 0.5510204081632653,\n",
        " 0.5714285714285714,\n",
        " 0.5918367346938775,\n",
        " 0.6122448979591836,\n",
        " 0.6326530612244897,\n",
        " 0.6530612244897959,\n",
        " 0.673469387755102,\n",
        " 0.6938775510204082,\n",
        " 0.7142857142857142,\n",
        " 0.7346938775510203,\n",
        " 0.7551020408163265,\n",
        " 0.7755102040816326,\n",
        " 0.7959183673469387,\n",
        " 0.8163265306122448,\n",
        " 0.836734693877551,\n",
        " 0.8571428571428571,\n",
        " 0.8775510204081632,\n",
        " 0.8979591836734693,\n",
        " 0.9183673469387754,\n",
        " 0.9387755102040816,\n",
        " 0.9591836734693877,\n",
        " 0.9795918367346939,\n",
        " 0.9999999999999999]"
       ]
      }
     ],
     "prompt_number": 166
    },
    {
     "cell_type": "markdown",
     "metadata": {},
     "source": [
      "But also let's us override the default value with a third argument:"
     ]
    },
    {
     "cell_type": "code",
     "collapsed": false,
     "input": [
      "my_linspace(0,1,5)"
     ],
     "language": "python",
     "metadata": {},
     "outputs": [
      {
       "output_type": "pyout",
       "prompt_number": 167,
       "text": [
        "[0.0, 0.25, 0.5, 0.75, 1.0]"
       ]
      }
     ],
     "prompt_number": 167
    },
    {
     "cell_type": "markdown",
     "metadata": {},
     "source": [
      "We can add arbitrary keyword arguments to the function definition by putting a keyword argument \\*\\*kwargs handle in:"
     ]
    },
    {
     "cell_type": "code",
     "collapsed": false,
     "input": [
      "def my_linspace(start,end,npoints=50,**kwargs):\n",
      "    endpoint = kwargs.get('endpoint',True)\n",
      "    v = []\n",
      "    if endpoint:\n",
      "        d = (end-start)/float(npoints-1)\n",
      "    else:\n",
      "        d = (end-start)/float(npoints)\n",
      "    for i in range(npoints):\n",
      "        v.append(start + i*d)\n",
      "    return v\n",
      "my_linspace(0,1,5,endpoint=False)"
     ],
     "language": "python",
     "metadata": {},
     "outputs": [
      {
       "output_type": "pyout",
       "prompt_number": 168,
       "text": [
        "[0.0, 0.2, 0.4, 0.6000000000000001, 0.8]"
       ]
      }
     ],
     "prompt_number": 168
    },
    {
     "cell_type": "markdown",
     "metadata": {},
     "source": [
      "What the keyword argument construction does is to take any additional keyword arguments (i.e. arguments specified by name, like \"endpoint=False\"), and stick them into a dictionary called \"kwargs\" (you can call it anything you like, but it has to be preceded by two stars). You can then grab items out of the dictionary using the **get** command, which also lets you specify a default value. I realize it takes a little getting used to, but it is a common construction in Python code, and you should be able to recognize it.\n",
      "\n",
      "There's an analogous \\*args that dumps any additional arguments into a list called \"args\". Think about the **range** function: it can take one (the endpoint), two (starting and ending points), or three (starting, ending, and step) arguments. How would we define this?"
     ]
    },
    {
     "cell_type": "code",
     "collapsed": false,
     "input": [
      "def my_range(*args):\n",
      "    start = 0\n",
      "    step = 1\n",
      "    if len(args) == 1:\n",
      "        end = args[0]\n",
      "    elif len(args) == 2:\n",
      "        start,end = args\n",
      "    elif len(args) == 3:\n",
      "        start,end,step = args\n",
      "    else:\n",
      "        raise Exception(\"Unable to parse arguments\")\n",
      "    v = []\n",
      "    value = start\n",
      "    while True:\n",
      "        v.append(value)\n",
      "        value += step\n",
      "        if value > end: break\n",
      "    return v"
     ],
     "language": "python",
     "metadata": {},
     "outputs": [],
     "prompt_number": 169
    },
    {
     "cell_type": "markdown",
     "metadata": {},
     "source": [
      "Note that we have defined a few new things you haven't seen before: a **break** statement, that allows us to exit a for loop if some conditions are met, and an exception statement, that causes the interpreter to exit with an error message. For example:"
     ]
    },
    {
     "cell_type": "code",
     "collapsed": false,
     "input": [
      "my_range()"
     ],
     "language": "python",
     "metadata": {},
     "outputs": [
      {
       "ename": "Exception",
       "evalue": "Unable to parse arguments",
       "output_type": "pyerr",
       "traceback": [
        "\u001b[0;31m---------------------------------------------------------------------------\u001b[0m\n\u001b[0;31mException\u001b[0m                                 Traceback (most recent call last)",
        "\u001b[0;32m<ipython-input-170-0e8004dab150>\u001b[0m in \u001b[0;36m<module>\u001b[0;34m()\u001b[0m\n\u001b[0;32m----> 1\u001b[0;31m \u001b[0mmy_range\u001b[0m\u001b[0;34m(\u001b[0m\u001b[0;34m)\u001b[0m\u001b[0;34m\u001b[0m\u001b[0m\n\u001b[0m",
        "\u001b[0;32m<ipython-input-169-c34e09da2551>\u001b[0m in \u001b[0;36mmy_range\u001b[0;34m(*args)\u001b[0m\n\u001b[1;32m      9\u001b[0m         \u001b[0mstart\u001b[0m\u001b[0;34m,\u001b[0m\u001b[0mend\u001b[0m\u001b[0;34m,\u001b[0m\u001b[0mstep\u001b[0m \u001b[0;34m=\u001b[0m \u001b[0margs\u001b[0m\u001b[0;34m\u001b[0m\u001b[0m\n\u001b[1;32m     10\u001b[0m     \u001b[0;32melse\u001b[0m\u001b[0;34m:\u001b[0m\u001b[0;34m\u001b[0m\u001b[0m\n\u001b[0;32m---> 11\u001b[0;31m         \u001b[0;32mraise\u001b[0m \u001b[0mException\u001b[0m\u001b[0;34m(\u001b[0m\u001b[0;34m\"Unable to parse arguments\"\u001b[0m\u001b[0;34m)\u001b[0m\u001b[0;34m\u001b[0m\u001b[0m\n\u001b[0m\u001b[1;32m     12\u001b[0m     \u001b[0mv\u001b[0m \u001b[0;34m=\u001b[0m \u001b[0;34m[\u001b[0m\u001b[0;34m]\u001b[0m\u001b[0;34m\u001b[0m\u001b[0m\n\u001b[1;32m     13\u001b[0m     \u001b[0mvalue\u001b[0m \u001b[0;34m=\u001b[0m \u001b[0mstart\u001b[0m\u001b[0;34m\u001b[0m\u001b[0m\n",
        "\u001b[0;31mException\u001b[0m: Unable to parse arguments"
       ]
      }
     ],
     "prompt_number": 170
    },
    {
     "cell_type": "markdown",
     "metadata": {},
     "source": [
      "## List Comprehensions and Generators\n",
      "List comprehensions are a streamlined way to make lists. They look something like a list definition, with some logic thrown in. For example:"
     ]
    },
    {
     "cell_type": "code",
     "collapsed": false,
     "input": [
      "evens1 = [2*i for i in range(10)]\n",
      "print(evens1)"
     ],
     "language": "python",
     "metadata": {},
     "outputs": [
      {
       "output_type": "stream",
       "stream": "stdout",
       "text": [
        "[0, 2, 4, 6, 8, 10, 12, 14, 16, 18]\n"
       ]
      }
     ],
     "prompt_number": 171
    },
    {
     "cell_type": "markdown",
     "metadata": {},
     "source": [
      "You can also put some boolean testing into the construct:"
     ]
    },
    {
     "cell_type": "code",
     "collapsed": false,
     "input": [
      "odds = [i for i in range(20) if i%2==1]\n",
      "odds"
     ],
     "language": "python",
     "metadata": {},
     "outputs": [
      {
       "output_type": "pyout",
       "prompt_number": 172,
       "text": [
        "[1, 3, 5, 7, 9, 11, 13, 15, 17, 19]"
       ]
      }
     ],
     "prompt_number": 172
    },
    {
     "cell_type": "markdown",
     "metadata": {},
     "source": [
      "Here i%2 is the remainder when i is divided by 2, so that i%2==1 is true if the number is odd. Even though this is a relative new addition to the language, it is now fairly common since it's so convenient."
     ]
    },
    {
     "cell_type": "markdown",
     "metadata": {},
     "source": [
      "**iterators** are a way of making virtual sequence objects. Consider if we had the nested loop structure:\n",
      "\n",
      "    for i in range(1000000):\n",
      "        for j in range(1000000):\n",
      "\n",
      "Inside the main loop, we make a list of 1,000,000 integers, just to loop over them one at a time. We don't need any of the additional things that a lists gives us, like slicing or random access, we just need to go through the numbers one at a time. And we're making 1,000,000 of them. \n",
      "\n",
      "**iterators** are a way around this. For example, the **xrange** function is the iterator version of range. This simply makes a counter that is looped through in sequence, so that the analogous loop structure would look like:\n",
      "\n",
      "    for i in xrange(1000000):\n",
      "        for j in xrange(1000000):\n",
      "\n",
      "Even though we've only added two characters, we've dramatically sped up the code, because we're not making 1,000,000 big lists.\n",
      "\n",
      "We can define our own iterators using the **yield** statement:"
     ]
    },
    {
     "cell_type": "code",
     "collapsed": false,
     "input": [
      "def evens_below(n):\n",
      "    for i in range(n):\n",
      "        if i%2 == 0:\n",
      "            yield i\n",
      "    return\n",
      "\n",
      "for i in evens_below(9):\n",
      "    print(i)"
     ],
     "language": "python",
     "metadata": {},
     "outputs": [
      {
       "output_type": "stream",
       "stream": "stdout",
       "text": [
        "0\n",
        "2\n",
        "4\n",
        "6\n",
        "8\n"
       ]
      }
     ],
     "prompt_number": 173
    },
    {
     "cell_type": "markdown",
     "metadata": {},
     "source": [
      "We can always turn an iterator into a list using the **list** command:"
     ]
    },
    {
     "cell_type": "code",
     "collapsed": false,
     "input": [
      "list(evens_below(9))"
     ],
     "language": "python",
     "metadata": {},
     "outputs": [
      {
       "output_type": "pyout",
       "prompt_number": 174,
       "text": [
        "[0, 2, 4, 6, 8]"
       ]
      }
     ],
     "prompt_number": 174
    },
    {
     "cell_type": "markdown",
     "metadata": {},
     "source": [
      "There's a special syntax called a **generator expression** that looks a lot like a list comprehension:"
     ]
    },
    {
     "cell_type": "code",
     "collapsed": false,
     "input": [
      "evens_gen = (i for i in range(9) if i%2==0)\n",
      "for i in evens_gen:\n",
      "    print(i)"
     ],
     "language": "python",
     "metadata": {},
     "outputs": [
      {
       "output_type": "stream",
       "stream": "stdout",
       "text": [
        "0\n",
        "2\n",
        "4\n",
        "6\n",
        "8\n"
       ]
      }
     ],
     "prompt_number": 175
    },
    {
     "cell_type": "markdown",
     "metadata": {},
     "source": [
      "#References\n",
      "\n",
      "## Learning Resources\n",
      "* [Official Python Documentation](http://docs.python.org/2.7), including\n",
      "    - [Python Tutorial](http://docs.python.org/2.7/tutorial)\n",
      "    - [Python Language Reference](http://docs.python.org/2.7/reference)\n",
      "* If you're interested in Python 3, the [Official Python 3 Docs are here](http://docs.python.org/3/).\n",
      "* [IPython tutorial](http://ipython.org/ipython-doc/dev/interactive/tutorial.html).\n",
      "* [Learn Python The Hard Way](http://learnpythonthehardway.org/book/)\n",
      "* [Dive Into Python](http://www.diveintopython.net/), in particular if you're interested in Python 3.\n",
      "* [Invent With Python](http://inventwithpython.com/), probably best for kids.\n",
      "* [Python Functional Programming HOWTO](http://docs.python.org/2/howto/functional.html)\n",
      "* [The Structure and Interpretation of Computer Programs](http://mitpress.mit.edu/sicp/full-text/book/book.html), written in Scheme, a Lisp dialect, but one of the best books on computer programming ever written.\n",
      "* [Generator Tricks for Systems Programmers](http://www.dabeaz.com/generators/) Beazley's slides on just what generators can do for you.\n",
      "* [Python Module of the Week](http://pymotw.com/2/contents.html) is a series going through in-depth analysis of the Python standard library in a very easy to understand way.\n",
      "\n",
      "## Badass IPython Notebooks\n",
      "* Rob Johansson's [excellent notebooks](http://jrjohansson.github.io/), including [Scientific Computing with Python](https://github.com/jrjohansson/scientific-python-lectures) and [Computational Quantum Physics with QuTiP](https://github.com/jrjohansson/qutip-lectures) lectures;\n",
      "* [XKCD style graphs in matplotlib](http://nbviewer.ipython.org/url/jakevdp.github.com/downloads/notebooks/XKCD_plots.ipynb);\n",
      "* [A collection of Notebooks for using IPython effectively](https://github.com/ipython/ipython/tree/master/examples/notebooks#a-collection-of-notebooks-for-using-ipython-effectively)\n",
      "* [A gallery of interesting IPython Notebooks](https://github.com/ipython/ipython/wiki/A-gallery-of-interesting-IPython-Notebooks)\n",
      "* [Cross-disciplinary computational analysis IPython Notebooks From Hadoop World 2012](https://github.com/invisibleroads/crosscompute-tutorials)\n",
      "* [Quantites](http://nbviewer.ipython.org/urls/raw.github.com/tbekolay/pyconca2012/master/QuantitiesTutorial.ipynb) Units in Python.\n",
      "    - [Another units module is here](http://www.southampton.ac.uk/~fangohr/blog/)\n",
      "\n",
      "## Packages for Scientists\n",
      "Important libraries\n",
      "\n",
      "* [Python](http://www.python.org) version 3.2;\n",
      "* [Numpy](http://www.numpy.org), the core numerical extensions for linear algebra and multidimensional arrays;\n",
      "* [Scipy](http://www.scipy.org), additional libraries for scientific programming;\n",
      "* [Matplotlib](http://matplotlib.sf.net), excellent plotting and graphing libraries;\n",
      "* [IPython](http://ipython.org), with the additional libraries required for the notebook interface.\n",
      "* [Sympy](http://sympy.org), symbolic math in Python\n",
      "* [Pandas](http://pandas.pydata.org/) library for big data in Python\n",
      "\n",
      "Other packages of interest\n",
      "\n",
      "* [PyQuante](http://pyquante.sf.net) Python Quantum Chemistry\n",
      "* [QuTiP](https://code.google.com/p/qutip/) Quantum Toolbox in Python\n",
      "* Konrad Hinsen's [Scientific Python](http://dirac.cnrs-orleans.fr/plone/software/scientificpython/) and [MMTK](http://dirac.cnrs-orleans.fr/MMTK/)\n",
      "* [Atomic Simulation Environment](https://wiki.fysik.dtu.dk/ase/)\n",
      "\n",
      "\n",
      "## Cool Stuff\n",
      "* [Moin Moin](http://moinmo.in/), a wiki written in Python\n",
      "* [Project Euler](http://projecteuler.net/), programming problems that would (?) have interested Euler. Python is one of the most commonly used languages there."
     ]
    }
   ],
   "metadata": {}
  }
 ]
}