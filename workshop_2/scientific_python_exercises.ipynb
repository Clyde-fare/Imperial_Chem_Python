{
 "metadata": {
  "name": ""
 },
 "nbformat": 3,
 "nbformat_minor": 0,
 "worksheets": [
  {
   "cells": [
    {
     "cell_type": "heading",
     "level": 1,
     "metadata": {},
     "source": [
      "Workshop 2 exercises"
     ]
    },
    {
     "cell_type": "markdown",
     "metadata": {},
     "source": [
      "As in the previous workshops exercises you will write functions that perform a particular task. The docstring is used to specify how we want the function to behave."
     ]
    },
    {
     "cell_type": "code",
     "collapsed": false,
     "input": [
      "def to_str(string_var):\n",
      "    '''\n",
      "    >>> to_str(1)\n",
      "    '1'\n",
      "    >>>to_str([1,2])\n",
      "    '[1,2]'\n",
      "    >>>to_str('a')\n",
      "    'a'\n",
      "    '''"
     ],
     "language": "python",
     "metadata": {},
     "outputs": []
    },
    {
     "cell_type": "markdown",
     "metadata": {},
     "source": [
      "Your job would be to add content to the identity function (below the string) such that calling this function with 'a' as an argument would mean the function returns 'a', likewise calling the function with 123 as an argument would return 123. \n",
      "\n",
      "The solution is to return the variable we are passing in:"
     ]
    },
    {
     "cell_type": "code",
     "collapsed": false,
     "input": [
      "def to_str(string_var):\n",
      "    '''\n",
      "    >>> to_str(1)\n",
      "    '1'\n",
      "    >>>to_str([1,2])\n",
      "    '[1,2]'\n",
      "    >>>to_str('a')\n",
      "    'a'\n",
      "    '''\n",
      "    return str(string_var)"
     ],
     "language": "python",
     "metadata": {},
     "outputs": []
    },
    {
     "cell_type": "markdown",
     "metadata": {},
     "source": [
      "Lets check it works the way we expect it to:\n",
      "\n",
      "    to_str(1)"
     ]
    },
    {
     "cell_type": "code",
     "collapsed": false,
     "input": [],
     "language": "python",
     "metadata": {},
     "outputs": []
    },
    {
     "cell_type": "markdown",
     "metadata": {},
     "source": [
      "    to_str([1,2])"
     ]
    },
    {
     "cell_type": "code",
     "collapsed": false,
     "input": [],
     "language": "python",
     "metadata": {},
     "outputs": []
    },
    {
     "cell_type": "heading",
     "level": 1,
     "metadata": {},
     "source": [
      "Exercise 6"
     ]
    },
    {
     "cell_type": "markdown",
     "metadata": {},
     "source": [
      "6.1: split_lines(contents)\n",
      "----------------\n",
      "\n",
      "Given a string *contents* containing several lines separated by the newline character '\\n', return a list of the line strings.\n",
      "\n",
      "If you need them, we have <span style=\"text-decoration:underline\" title=\"\n",
      "- You can use a strings .split() method to to turn a string into a list of strings\n",
      "- If you can't remember what the a method does create a suitable variable, in our case it would be a string variable e.g.  s = 'abc', then in  type in 's.split?' and execute the cell.\n",
      "\">Hints</span> (hover over with your mouse to see them) "
     ]
    },
    {
     "cell_type": "code",
     "collapsed": false,
     "input": [
      "def split_lines(contents):\n",
      "    '''\n",
      "    >>> split_lines('First line\\nSecond line')\n",
      "    ['First line', 'Second line']\n",
      "    >>> split_lines('One line only')\n",
      "    ['One line only']\n",
      "    split_lines('First line\\n\\nThird line')\n",
      "    ['First line', '', 'Third line']\n",
      "    '''"
     ],
     "language": "python",
     "metadata": {},
     "outputs": [],
     "prompt_number": 32
    },
    {
     "cell_type": "markdown",
     "metadata": {},
     "source": [
      "6.2: join_lines(list_lines)\n",
      "-------\n",
      "\n",
      "Given a list of line strings, return the a string containing the lines separated by the newline character '\\n'\n",
      "\n",
      "<span style=\"text-decoration:underline\" title=\"\n",
      "- You can use the .join() string method\">Hints</span>"
     ]
    },
    {
     "cell_type": "code",
     "collapsed": false,
     "input": [
      "def join_lines(list_lines):\n",
      "    '''\n",
      "    >>> join_lines(['First line', 'Second line'])\n",
      "    'First line\\nSecond line'\n",
      "    >>> join_lines(['One line only'])\n",
      "    'One line only'\n",
      "    >>> join_lines(['First line', '', 'Third line'])\n",
      "    'First line\\n\\nThird line'\n",
      "    '''"
     ],
     "language": "python",
     "metadata": {},
     "outputs": []
    },
    {
     "cell_type": "markdown",
     "metadata": {},
     "source": [
      "6.3: clean_line(line_string)\n",
      "---------------------------\n",
      "\n",
      "Given a string *line_string* return a string with the first and last word (where word is just a set of symbols with no spaces) of the line ommited\n",
      "<span style=\"text-decoration:underline\" title=\"- If you had a list of the word strings how could you make a new list containing only the second through to the second to last word? \">Hints</span>"
     ]
    },
    {
     "cell_type": "code",
     "collapsed": false,
     "input": [
      "def clean_line(line_string):\n",
      "    '''\n",
      "    >>> clean_line(First Second Third)\n",
      "    'Second'\n",
      "    >>> clean_line(First Second)\n",
      "    ''\n",
      "    >>> clean_line('1. 1 2 3 \\n')\n",
      "    '1 2 3'\n",
      "    '''"
     ],
     "language": "python",
     "metadata": {},
     "outputs": []
    },
    {
     "cell_type": "markdown",
     "metadata": {},
     "source": [
      "6.4: word_extractor(line_string, indices)\n",
      "-----------------------------------------\n",
      "\n",
      "Given a string *line_string* and list of integers *indices*, return a string containing the words specified by indices \n",
      "\n",
      "\n",
      "<span style=\"text-decoration:underline\" title=\"Use the previous exercises as a guide\">Hints</span>"
     ]
    },
    {
     "cell_type": "code",
     "collapsed": false,
     "input": [
      "def word_extractor(line_string, indices):\n",
      "    '''\n",
      "    >>> word_extractor('Zero one two three four five six', [0,1,2])\n",
      "    'Zero one two'\n",
      "    >>> word_extractor('1. H 0.0 0.0 0.0 Flag1', [1,2,3,4])\n",
      "    'H 0.0 0.0 0.0'\n",
      "    >>> word_extractor('Python is a dynamic programming language', [0,1,2,-1])\n",
      "    'Python is a language'\n",
      "    '''"
     ],
     "language": "python",
     "metadata": {},
     "outputs": []
    },
    {
     "cell_type": "markdown",
     "metadata": {},
     "source": [
      "Exercise 7\n",
      "============================ "
     ]
    },
    {
     "cell_type": "markdown",
     "metadata": {},
     "source": [
      "7.1 print_file(file_name)\n",
      "-----------------------\n",
      "\n",
      "Given a string, file_name, that corresponds to a txt file in the notebooks directory print out the contents of that file. (As your function is printing rather than returning the file contents the docstring lists None as the return value)\n",
      "\n",
      "<span style=\"text-decoration:underline\" title=\"How do you open file and read its contents?\n",
      "Remember to close the file!\">Hints</span>"
     ]
    },
    {
     "cell_type": "code",
     "collapsed": false,
     "input": [
      "def print_file(file_name):\n",
      "    '''\n",
      "    >>> print_file('test_file1.txt')\n",
      "    None\n",
      "    >>> print_file('test_file2.txt')\n",
      "    None\n",
      "    '''"
     ],
     "language": "python",
     "metadata": {},
     "outputs": []
    },
    {
     "cell_type": "markdown",
     "metadata": {},
     "source": [
      "7.2: square_list(list_ints)\n",
      "------------------------------\n",
      "\n",
      "Given a list of integers return another list containing the squared elements of the original list\n",
      "\n",
      "<span style=\"text-decoration:underline\" title=\"- You'll need to create an empty list which will contain the squared elements and use the .append() method to add elements to it. \n",
      "- A 'for' loop should help you go through the original list\">Hints</span>"
     ]
    },
    {
     "cell_type": "code",
     "collapsed": false,
     "input": [
      "def square_list(list_ints):\n",
      "    '''\n",
      "    >>> square_list([0,1])\n",
      "    [0,1]\n",
      "    >>> square_list([1,3,5])\n",
      "    [1,9,25]\n",
      "    >>> square_list([-1,-2,-3])\n",
      "    [1,4,9]\n",
      "    '''\n"
     ],
     "language": "python",
     "metadata": {},
     "outputs": []
    },
    {
     "cell_type": "markdown",
     "metadata": {},
     "source": [
      "7.3: write_squares(list_ints, file_name)\n",
      "----------------------\n",
      "\n",
      "Given a list of integers write the squares of the integers in the list to a file given by file_name \n",
      "\n",
      "<span style=\"text-decoration:underline\" title=\"How do you access elements of a list.\">Hints</span>"
     ]
    },
    {
     "cell_type": "code",
     "collapsed": false,
     "input": [
      "def write_squares(list_ints, file_name):\n",
      "    '''\n",
      "    >>> write_squares([0,1,2,3], 'squares_1.txt')\n",
      "    None\n",
      "    >>> write_squares([-1,1,2], 'squares_2.txt')\n",
      "    None\n",
      "    >>> write_squares([0,0,2,3], 'squares_3.txt')\n",
      "    None\n",
      "    '''"
     ],
     "language": "python",
     "metadata": {},
     "outputs": []
    },
    {
     "cell_type": "markdown",
     "metadata": {},
     "source": [
      "7.4: read_squares(file_name)\n",
      "------------------------------\n",
      "\n",
      "Given a string, file_name, corresponding to a file containing integers return a list containing the square of those integers.\n",
      "\n",
      "<span style=\"text-decoration:underline\" title=\"- How d you read the contents of a file as a string?\n",
      "- How do you split a string into a list of strings give a separator string?\n",
      "- You can use the in built int() function to turn a string '123' into an integer\">Hints</span>"
     ]
    },
    {
     "cell_type": "code",
     "collapsed": false,
     "input": [
      "def read_squares(file_name):\n",
      "    '''\n",
      "    >>> read_squares('squares_4.txt')\n",
      "    [1,4,9]\n",
      "    >>> read_squares('squares_5.txt')\n",
      "    [1,1,4]\n",
      "    >>> read_squares('squares_6.txt')\n",
      "    [36,1,1,0]\n",
      "    '''"
     ],
     "language": "python",
     "metadata": {},
     "outputs": []
    },
    {
     "cell_type": "markdown",
     "metadata": {},
     "source": [
      "Exercises 8\n",
      "================"
     ]
    },
    {
     "cell_type": "markdown",
     "metadata": {},
     "source": [
      "8.1: chars_before_comma(line_string)\n",
      "---------------------------\n",
      "\n",
      "Given a string containing a line of text return the number of characters before the first comma in the string\n",
      "\n",
      "<span style=\"text-decoration:underline\" title=\"There are a couple of ways to tackle this one:\n",
      "- You could loop through the string and count all the characters then return the counter at the appropriate point\n",
      "- You could try and find some way of combining the .split() method and the len() function\">Hints</span>"
     ]
    },
    {
     "cell_type": "code",
     "collapsed": false,
     "input": [
      "def chars_before_comma(line_string):\n",
      "    '''\n",
      "    >>> chars_before_comma('This a particularly dull sentence, why did they put it in this notebook?')\n",
      "    33\n",
      "    >>> chars_before_comma('To be, or not to be, that is the question\u2014\\nWhether 'tis Nobler in the mind to suffer\\nThe Slings and Arrows of outrageous Fortune,\\nOr to take Arms against a Sea of troubles,\\nAnd by opposing end them?')\n",
      "    5\n",
      "   '''"
     ],
     "language": "python",
     "metadata": {},
     "outputs": []
    },
    {
     "cell_type": "markdown",
     "metadata": {},
     "source": [
      "8.2: null_vector(vec_length)\n",
      "============================\n",
      "\n",
      "Given an integer *vec_length* return a numpy array of zeros of length vec_length\n",
      "\n",
      "<span style=\"text-decoration:underline\" title=\"One of the functions inside numpy does what we want\">Hints</span>"
     ]
    },
    {
     "cell_type": "code",
     "collapsed": false,
     "input": [
      "def null_vector(vec_length):\n",
      "    '''\n",
      "    >>> null_vector(1)\n",
      "    array([ 0.])\n",
      "    >>> null_vector(2)\n",
      "    array([ 0.,  0.])\n",
      "    >>> null_vector(4)\n",
      "    array([ 0.,  0., 0., 0.])\n",
      "   '''"
     ],
     "language": "python",
     "metadata": {},
     "outputs": []
    },
    {
     "cell_type": "markdown",
     "metadata": {},
     "source": [
      "8.3: checkboard()\n",
      "==============\n",
      "\n",
      "Create a 4x4 numpy matrix with a checkboard pattern of alternating ones and zeros"
     ]
    },
    {
     "cell_type": "code",
     "collapsed": false,
     "input": [
      "def checkboard():\n",
      "    '''\n",
      "    >>> null_vector(1)\n",
      "    array([ 0.])\n",
      "    '''"
     ],
     "language": "python",
     "metadata": {},
     "outputs": []
    },
    {
     "cell_type": "code",
     "collapsed": false,
     "input": [
      "8.4: solve(a,b)\n",
      "==============\n",
      "\n",
      "Given two linear equations defined by parameters use numpy to solve the equations."
     ],
     "language": "python",
     "metadata": {},
     "outputs": []
    }
   ],
   "metadata": {}
  }
 ]
}