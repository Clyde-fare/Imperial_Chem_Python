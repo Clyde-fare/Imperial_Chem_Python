{
 "metadata": {
  "name": ""
 },
 "nbformat": 3,
 "nbformat_minor": 0,
 "worksheets": [
  {
   "cells": [
    {
     "cell_type": "heading",
     "level": 1,
     "metadata": {},
     "source": [
      "Workshop 2 exercises"
     ]
    },
    {
     "cell_type": "markdown",
     "metadata": {},
     "source": [
      "As in the previous workshops exercises you will write functions that perform a particular task. The docstring is used to specify how we want the function to behave."
     ]
    },
    {
     "cell_type": "code",
     "collapsed": false,
     "input": [
      "def to_str(string_var):\n",
      "    '''\n",
      "    >>> to_str(1)\n",
      "    '1'\n",
      "    >>>to_str([1,2])\n",
      "    '[1,2]'\n",
      "    >>>to_str('a')\n",
      "    'a'\n",
      "    '''"
     ],
     "language": "python",
     "metadata": {},
     "outputs": []
    },
    {
     "cell_type": "markdown",
     "metadata": {},
     "source": [
      "Your job would be to add content to the identity function (below the string) such that calling this function with 'a' as an argument would mean the function returns 'a', likewise calling the function with 123 as an argument would return 123. \n",
      "\n",
      "The solution is to return the variable we are passing in:"
     ]
    },
    {
     "cell_type": "code",
     "collapsed": false,
     "input": [
      "def to_str(string_var):\n",
      "    '''\n",
      "    >>> to_str(1)\n",
      "    '1'\n",
      "    >>>to_str([1,2])\n",
      "    '[1,2]'\n",
      "    >>>to_str('a')\n",
      "    'a'\n",
      "    '''\n",
      "    return str(string_var)"
     ],
     "language": "python",
     "metadata": {},
     "outputs": []
    },
    {
     "cell_type": "markdown",
     "metadata": {},
     "source": [
      "Lets check it works the way we expect it to:\n",
      "\n",
      "    to_str(1)"
     ]
    },
    {
     "cell_type": "code",
     "collapsed": false,
     "input": [],
     "language": "python",
     "metadata": {},
     "outputs": []
    },
    {
     "cell_type": "markdown",
     "metadata": {},
     "source": [
      "    to_str([1,2])"
     ]
    },
    {
     "cell_type": "code",
     "collapsed": false,
     "input": [],
     "language": "python",
     "metadata": {},
     "outputs": []
    },
    {
     "cell_type": "heading",
     "level": 1,
     "metadata": {},
     "source": [
      "Exercise 6"
     ]
    },
    {
     "cell_type": "markdown",
     "metadata": {},
     "source": [
      "6.1: split_lines(contents)\n",
      "----------------\n",
      "\n",
      "Given a string *contents* containing several lines separated by the newline character '\\n', return a list of the line strings.\n",
      "\n",
      "If you need them, we have <span style=\"text-decoration:underline\" title=\"\n",
      "- You can use a strings .split() method to to turn a string into a list of strings\n",
      "- If you can't remember what the a method does create a suitable variable, in our case it would be a string variable e.g.  s = 'abc', then in  type in 's.split?' and execute the cell.\n",
      "\">Hints</span> (hover over with your mouse to see them) "
     ]
    },
    {
     "cell_type": "code",
     "collapsed": false,
     "input": [
      "def split_lines(contents):\n",
      "    '''\n",
      "    >>> split_lines('First line\\nSecond line')\n",
      "    ['First line', 'Second line']\n",
      "    >>> split_lines('One line only')\n",
      "    ['One line only']\n",
      "    split_lines('First line\\n\\nThird line')\n",
      "    ['First line', '', 'Third line']\n",
      "    '''"
     ],
     "language": "python",
     "metadata": {},
     "outputs": [],
     "prompt_number": 32
    },
    {
     "cell_type": "markdown",
     "metadata": {},
     "source": [
      "6.2: join_lines(list_lines)\n",
      "-------\n",
      "\n",
      "Given a list of line strings, return the a string containing the lines separated by the newline character '\\n'\n",
      "\n",
      "<span style=\"text-decoration:underline\" title=\"\n",
      "- You can use the .join() string method\">Hints</span>"
     ]
    },
    {
     "cell_type": "code",
     "collapsed": false,
     "input": [
      "def join_lines(list_lines):\n",
      "    '''\n",
      "    >>> join_lines(['First line', 'Second line'])\n",
      "    'First line\\nSecond line'\n",
      "    >>> join_lines(['One line only'])\n",
      "    'One line only'\n",
      "    >>> join_lines(['First line', '', 'Third line'])\n",
      "    'First line\\n\\nThird line'\n",
      "    '''"
     ],
     "language": "python",
     "metadata": {},
     "outputs": []
    },
    {
     "cell_type": "markdown",
     "metadata": {},
     "source": [
      "6.3: clean_line(line_string)\n",
      "---------------------------\n",
      "\n",
      "Given a string *line_string* return a string with the first and last word of the line\n",
      "<span style=\"text-decoration:underline\" title=\"- If you had a list of the word strings how could you make a new list containing only the second through to the second to last word? \">Hints</span>"
     ]
    },
    {
     "cell_type": "code",
     "collapsed": false,
     "input": [
      "def clean_line(line_string):\n",
      "    '''\n",
      "    >>> clean_line(First Second Third)\n",
      "    'Second'\n",
      "    >>> clean_line(First Second)\n",
      "    ''\n",
      "    >>> clean_line('1. 1 2 3 \\n')\n",
      "    '1 2 3'\n",
      "    '''"
     ],
     "language": "python",
     "metadata": {},
     "outputs": []
    },
    {
     "cell_type": "markdown",
     "metadata": {},
     "source": [
      "6.4: word_extractor(line_string, indices)\n",
      "-----------------------------------------\n",
      "\n",
      "Given a string line_string and list of integers indices, return a string containing the words specified by indices \n",
      "\n",
      "\n",
      "<span style=\"text-decoration:underline\" title=\"Use the previous exercises as a guide\">Hints</span>"
     ]
    },
    {
     "cell_type": "code",
     "collapsed": false,
     "input": [
      "def word_extractor(line_string, indices):\n",
      "    '''\n",
      "    >>> word_extractor('Zero one two three four five six', [0,1,2])\n",
      "    'Zero one two'\n",
      "    >>> word_extractor('1. H 0.0 0.0 0.0 Flag1', [1,2,3,4])\n",
      "    'H 0.0 0.0 0.0'\n",
      "    >>> word_extractor('Python is a dynamic programming language', [0,1,2,-1])\n",
      "    'Python is a language'\n",
      "    '''"
     ],
     "language": "python",
     "metadata": {},
     "outputs": []
    },
    {
     "cell_type": "markdown",
     "metadata": {},
     "source": [
      "Exercise 7\n",
      "============================ "
     ]
    },
    {
     "cell_type": "markdown",
     "metadata": {},
     "source": [
      "7.1 print_file(file_name)\n",
      "-----------------------\n",
      "\n",
      "Given a string, file_name, that corresponds to a txt file in the notebooks directory print out the contents of that file. (As your function is printing rather than returning the file contents the docstring lists None as the return value)\n",
      "\n",
      "<span style=\"text-decoration:underline\" title=\"How do you open file and read its contents?\n",
      "Remember to close the file!\">Hints</span>"
     ]
    },
    {
     "cell_type": "code",
     "collapsed": false,
     "input": [
      "def print_file(file_name):\n",
      "    '''\n",
      "    >>> print_file('test_file1.txt')\n",
      "    None\n",
      "    >>> print_file('test_file2.txt')\n",
      "    None\n",
      "    '''"
     ],
     "language": "python",
     "metadata": {},
     "outputs": []
    },
    {
     "cell_type": "markdown",
     "metadata": {},
     "source": [
      "7.2: square_list(list_ints)\n",
      "------------------------------\n",
      "\n",
      "Given a list of integers return another list containing the squared elements of the original list\n",
      "\n",
      "<span style=\"text-decoration:underline\" title=\"- You'll need to create an empty list which will contain the squared elements and use the .append() method to add elements to it. \n",
      "- A 'for' loop should help you go through the original list\">Hints</span>"
     ]
    },
    {
     "cell_type": "code",
     "collapsed": false,
     "input": [
      "def square_list(list_ints):\n",
      "    '''\n",
      "    >>> square_list([0,1])\n",
      "    [0,1]\n",
      "    >>> square_list([1,3,5])\n",
      "    [1,9,25]\n",
      "    >>> square_list([-1,-2,-3])\n",
      "    [1,4,9]\n",
      "    '''\n"
     ],
     "language": "python",
     "metadata": {},
     "outputs": []
    },
    {
     "cell_type": "markdown",
     "metadata": {},
     "source": [
      "7.3: write_squares(list_ints, file_name)\n",
      "----------------------\n",
      "\n",
      "Given a list of integers write the squares of the integers in the list to a file given by file_name \n",
      "\n",
      "<span style=\"text-decoration:underline\" title=\"How do you access elements of a list.\">Hints</span>"
     ]
    },
    {
     "cell_type": "code",
     "collapsed": false,
     "input": [
      "def write_squares(list_ints, file_name):\n",
      "    '''\n",
      "    >>> write_squares([0,1,2,3], 'squares_1.txt')\n",
      "    None\n",
      "    >>> write_squares([-1,1,2], 'squares_2.txt')\n",
      "    None\n",
      "    >>> write_squares([0,0,2,3], 'squares_3.txt')\n",
      "    None\n",
      "    '''"
     ],
     "language": "python",
     "metadata": {},
     "outputs": []
    },
    {
     "cell_type": "markdown",
     "metadata": {},
     "source": [
      "7.4: read_squares(file_name)\n",
      "------------------------------\n",
      "\n",
      "Given a string, file_name, corresponding to a file containing integers return a list containing the square of those integers.\n",
      "\n",
      "<span style=\"text-decoration:underline\" title=\"- How d you read the contents of a file as a string?\n",
      "- How do you split a string into a list of strings give a separator string?\n",
      "- You can use the in built int() function to turn a string '123' into an integer\">Hints</span>"
     ]
    },
    {
     "cell_type": "code",
     "collapsed": false,
     "input": [
      "def read_squares(file_name):\n",
      "    '''\n",
      "    >>> read_squares('squares_4.txt')\n",
      "    [1,4,9]\n",
      "    >>> read_squares('squares_5.txt')\n",
      "    [1,1,4]\n",
      "    >>> read_squares('squares_6.txt')\n",
      "    [36,1,1,0]\n",
      "    '''"
     ],
     "language": "python",
     "metadata": {},
     "outputs": []
    },
    {
     "cell_type": "markdown",
     "metadata": {},
     "source": [
      "Exercises 8\n",
      "================"
     ]
    },
    {
     "cell_type": "markdown",
     "metadata": {},
     "source": [
      "8.1: square_arrays(list_ints)\n",
      "---------------\n",
      "\n",
      "Given a string phrase, return the total number of \"f\"s and \"F\"s in the phrase.\n",
      "\n",
      "<span style=\"text-decoration:underline\" title=\"- You can loop over the letters in a string with a for loop just like you can with lists.\n",
      "- Review your understanding of the 'or' and 'and' keywords used to test more than one condition in an 'if' statement.\n",
      "- Use a counter to keep track of how many 'f's you've found. Set it to 0 before you start your for loop.\">Hints</span>"
     ]
    },
    {
     "cell_type": "code",
     "collapsed": false,
     "input": [
      "def count_fs(phrase):\n",
      "    '''\n",
      "    >>> count_fs('Finished files are the result of years of scientific study combined with the experience of years.')\n",
      "    6\n",
      "    >>> count_fs('Four score and seven years ago')\n",
      "    1\n",
      "    >>> count_fs('A man, a plan, a canal - Panama!')\n",
      "    0\n",
      "    '''"
     ],
     "language": "python",
     "metadata": {},
     "outputs": []
    },
    {
     "cell_type": "markdown",
     "metadata": {},
     "source": [
      "starts_or_ends_with_z(my_string)\n",
      "---------------------------\n",
      "\n",
      "Given a string my_string, return the boolean True if my_string starts or ends with 'z' or 'Z', and False if it doesn't.\n",
      "\n",
      "<span style=\"text-decoration:underline\" title=\"- How do you get the first element of a string or list? How do you get the last element?\n",
      "- You can use keywords 'and' and 'or' in an 'if' statement to test multiple conditions.\n",
      "- Make sure you are returning a boolean (True or False) and not a string ('True' or 'False') \">Hints</span>"
     ]
    },
    {
     "cell_type": "code",
     "collapsed": false,
     "input": [
      "def starts_or_ends_with_z(my_string):\n",
      "    '''\n",
      "    >>> starts_or_ends_with_z('pizzazz')\n",
      "    True\n",
      "    >>> starts_or_ends_with_z('python')\n",
      "    False\n",
      "    >>> starts_or_ends_with_z('zap')\n",
      "    True\n",
      "    '''\n"
     ],
     "language": "python",
     "metadata": {},
     "outputs": []
    },
    {
     "cell_type": "markdown",
     "metadata": {},
     "source": [
      "sum_of_all_strings(string_list)\n",
      "---------------------------\n",
      "\n",
      "Given a list string_list that contains several strings, return the total of the lengths of all of the strings.\n",
      "\n",
      "<span style=\"text-decoration:underline\" title=\"- Use a variable to track the total length. Set it equal to 0 and add to it every time you loop through string_list.\n",
      "- Use the 'len()' function to get the length of a string.\">Hints</span>"
     ]
    },
    {
     "cell_type": "code",
     "collapsed": false,
     "input": [
      "def sum_of_all_strings(string_list):\n",
      "    '''\n",
      "    >>> sum_of_all_strings(['Eleanor', 'Rigby'])\n",
      "    12\n",
      "    >>> sum_of_all_strings(['Eight', 'Days', 'a', 'Week'])\n",
      "    14\n",
      "    >>> sum_of_all_strings(['Strawberry', 'Fields', 'Forever'])\n",
      "    23\n",
      "    '''"
     ],
     "language": "python",
     "metadata": {},
     "outputs": []
    },
    {
     "cell_type": "markdown",
     "metadata": {},
     "source": [
      "stretch_string(my_string, stretch_number)\n",
      "---------------------------------------\n",
      "\n",
      "Given a string my_string and an integer stretch_number, return a string in which each character of the original string is repeated stretch_number times.\n",
      " \n",
      "<span style=\"text-decoration:underline\" title=\"- You can loop over the letters in a string with a for loop just like you can with lists.\n",
      "- Start with an empty string. Add to the end of the string with '+' as you loop through the letters in my_string.\n",
      "- Try this at a Python prompt: print('p'*4)\">Hints</span>"
     ]
    },
    {
     "cell_type": "code",
     "collapsed": false,
     "input": [
      "def stretch_string(my_string, stretch_number):\n",
      "    '''\n",
      "    >>> stretch_string('banana', 2)\n",
      "    'bbaannaannaa'\n",
      "    >>> stretch_string('apple', 3)\n",
      "    'aaappppppllleee'\n",
      "    >>> stretch_string('fig', 4)\n",
      "    'ffffiiiigggg'\n",
      "    '''"
     ],
     "language": "python",
     "metadata": {},
     "outputs": []
    },
    {
     "cell_type": "markdown",
     "metadata": {},
     "source": [
      "squares_list(number_list)\n",
      "-----------------------\n",
      "\n",
      "Given a list of numbers number_list, return a list containing the squares of each of the numbers in number_list in the order in which they appeared in number_list.\n",
      " \n",
      "<span style=\"text-decoration:underline\" title=\"Start with an empty list. For every number in number_list, use the 'append()' function to add a new element to the end of the new list\">Hints</span>"
     ]
    },
    {
     "cell_type": "code",
     "collapsed": false,
     "input": [
      "def squares_list(number_list):\n",
      "    '''\n",
      "    >>> squares_list([1, 2, 3])\n",
      "    [1, 4, 9]\n",
      "    >>> squares_list([4, 0])\n",
      "    [16, 0]\n",
      "    >>> squares_list([12, 9, 6, 3])\n",
      "    [144, 81, 36, 9]\n",
      "    '''"
     ],
     "language": "python",
     "metadata": {},
     "outputs": []
    },
    {
     "cell_type": "markdown",
     "metadata": {},
     "source": [
      "remove_vowels(my_string)\n",
      "----------------------\n",
      "\n",
      "Given a lower-case string my_string, return that string with all of the vowels removed.\n",
      "\n",
      " \n",
      "<span style=\"text-decoration:underline\" title=\"- Start with an empty string. Add the letters from my_string to this new string only if they aren't vowels.\n",
      "- You can loop over a string just like you can loop over a list.\">Hints</span>"
     ]
    },
    {
     "cell_type": "code",
     "collapsed": false,
     "input": [
      "def remove_vowels(my_string):\n",
      "    '''\n",
      "    >>> remove_vowels('bookkeeper')\n",
      "    'bkkpr'\n",
      "    >>> remove_vowels('almanac')\n",
      "    'lmnc'\n",
      "    >>> remove_vowels('syzygy')\n",
      "    'syzygy'\n",
      "    '''"
     ],
     "language": "python",
     "metadata": {},
     "outputs": []
    },
    {
     "cell_type": "markdown",
     "metadata": {},
     "source": [
      "remove__words_with_vowels(string_list)\n",
      "---------------------------------\n",
      "\n",
      "Given a list of lower-case strings wordList, return that list with all the words that contain vowels removed.\n",
      "\n",
      "<span style=\"text-decoration:underline\" title=\"- Start with an empty list. Add the words from wordList to this new list only if they don't contain vowels\n",
      "- Try writing a second function called containsVowels whose job is to check if a word has any vowels. Use this function in a for loop in remove__words_with_vowels. Here's the start of containsVowels...\n",
      "    def containsVowels(word):\n",
      "        for letter in word:\n",
      "            &lt;add your code here&gt;           \n",
      "- Use the <code>append()</code> function to add elements to the end of a list.\">Hints</span>"
     ]
    },
    {
     "cell_type": "code",
     "collapsed": false,
     "input": [
      "def remove__words_with_vowels(string_list):\n",
      "    '''\n",
      "    >>> remove__words_with_vowels(['hymn', 'myth', 'myrrh', 'nymph'])\n",
      "    ['hymn', 'myth', 'myrrh', 'nymph']\n",
      "    >>> remove__words_with_vowels(['who', 'what', 'when', 'where', 'why'])\n",
      "    ['why']\n",
      "    >>> remove__words_with_vowels(['coy', 'sly', 'shy', 'bashful'])\n",
      "    ['sly', 'shy']\n",
      "    '''"
     ],
     "language": "python",
     "metadata": {},
     "outputs": []
    },
    {
     "cell_type": "markdown",
     "metadata": {},
     "source": [
      "spelling_bee(correct, guess)\n",
      "---------------------------\n",
      "\n",
      "Given the correct spelling of a word, correct, and the contestant's guessed spelling, guess, return the string \"correct\" if the guess is spelled exactly correctly, \"almost\" if there are at most two mistakes in the spelling, and \"wrong\" if three or more letters are different. You can assume that all guesses are the correct length.\n",
      "\n",
      "\n",
      "<span style=\"text-decoration:underline\" title=\"Use a counter to keep track of the number of spelling errors.\n",
      "- We need to compare correct and guess letter by letter. Use the '[0]' syntax to index into a string - for example:\n",
      "    if correct[0] != guess[0]\n",
      "- Review your notes on the len() function, which returns the length of a string.\n",
      "- Review your notes on the range() function, which returns a list of indices that you can loop over. Experiment with what happens when you try this at a Python prompt:\n",
      "    for letter in range(len('hello')):\n",
      "        print letter\">Hints</span>"
     ]
    },
    {
     "cell_type": "code",
     "collapsed": false,
     "input": [
      "def spelling_bee(correct, guess):\n",
      "    '''\n",
      "    >>> spelling_bee('hello', 'hello')\n",
      "    'correct'\n",
      "    >>> spelling_bee('python', 'pithon')\n",
      "    'almost'\n",
      "    >>> spelling_bee('echolocation', 'eckolocashun')\n",
      "    'wrong'\n",
      "    '''"
     ],
     "language": "python",
     "metadata": {},
     "outputs": []
    },
    {
     "cell_type": "markdown",
     "metadata": {},
     "source": [
      "*That's all!*  If you've made it this far, you're doing brilliantly!  (Even if you finished up after the workshop.)  "
     ]
    }
   ],
   "metadata": {}
  }
 ]
}