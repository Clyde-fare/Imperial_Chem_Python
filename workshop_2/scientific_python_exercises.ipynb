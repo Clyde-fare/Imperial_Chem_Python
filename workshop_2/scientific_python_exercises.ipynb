{
 "metadata": {
  "name": ""
 },
 "nbformat": 3,
 "nbformat_minor": 0,
 "worksheets": [
  {
   "cells": [
    {
     "cell_type": "heading",
     "level": 1,
     "metadata": {},
     "source": [
      "Workshop 2 exercises"
     ]
    },
    {
     "cell_type": "markdown",
     "metadata": {},
     "source": [
      "As in the previous workshops exercises you will write functions that perform a particular task. The docstring is used to specify how we want the function to behave."
     ]
    },
    {
     "cell_type": "code",
     "collapsed": false,
     "input": [
      "def to_str(string_var):\n",
      "    '''\n",
      "    >>> to_str(1)\n",
      "    '1'\n",
      "    >>>to_str([1,2])\n",
      "    '[1,2]'\n",
      "    >>>to_str('a')\n",
      "    'a'\n",
      "    '''"
     ],
     "language": "python",
     "metadata": {},
     "outputs": []
    },
    {
     "cell_type": "markdown",
     "metadata": {},
     "source": [
      "Your job would be to add content to the identity function (below the string) such that calling this function with 'a' as an argument would mean the function returns 'a', likewise calling the function with 123 as an argument would return 123. \n",
      "\n",
      "The solution is to return the variable we are passing in:"
     ]
    },
    {
     "cell_type": "code",
     "collapsed": false,
     "input": [
      "def to_str(string_var):\n",
      "    '''\n",
      "    >>> to_str(1)\n",
      "    '1'\n",
      "    >>>to_str([1,2])\n",
      "    '[1,2]'\n",
      "    >>>to_str('a')\n",
      "    'a'\n",
      "    '''\n",
      "    return str(string_var)"
     ],
     "language": "python",
     "metadata": {},
     "outputs": []
    },
    {
     "cell_type": "markdown",
     "metadata": {},
     "source": [
      "Lets check it works the way we expect it to:\n",
      "\n",
      "    to_str(1)"
     ]
    },
    {
     "cell_type": "code",
     "collapsed": false,
     "input": [],
     "language": "python",
     "metadata": {},
     "outputs": []
    },
    {
     "cell_type": "markdown",
     "metadata": {},
     "source": [
      "    to_str([1,2])"
     ]
    },
    {
     "cell_type": "code",
     "collapsed": false,
     "input": [],
     "language": "python",
     "metadata": {},
     "outputs": []
    },
    {
     "cell_type": "markdown",
     "metadata": {},
     "source": [
      "We're going to use numpy as some of the plotting facilities:\n",
      "\n",
      "    import numpy as np\n",
      "    %pylab inline"
     ]
    },
    {
     "cell_type": "code",
     "collapsed": false,
     "input": [],
     "language": "python",
     "metadata": {},
     "outputs": []
    },
    {
     "cell_type": "heading",
     "level": 1,
     "metadata": {},
     "source": [
      "Exercise 6"
     ]
    },
    {
     "cell_type": "markdown",
     "metadata": {},
     "source": [
      "6.1: split_lines(contents)\n",
      "----------------\n",
      "\n",
      "Given a string *contents* containing several lines separated by the newline character '\\n', return a list of the line strings.\n",
      "\n",
      "If you need them, we have <span style=\"text-decoration:underline\" title=\"\n",
      "- You can use a strings .split() method to to turn a string into a list of strings\n",
      "- If you can't remember what the a method does create a suitable variable, in our case it would be a string variable e.g.  s = 'abc', then in  type in 's.split?' and execute the cell.\n",
      "\">Hints</span> (hover over with your mouse to see them) "
     ]
    },
    {
     "cell_type": "code",
     "collapsed": false,
     "input": [
      "def split_lines(contents):\n",
      "    '''\n",
      "    >>> split_lines('First line\\nSecond line')\n",
      "    ['First line', 'Second line']\n",
      "    >>> split_lines('One line only')\n",
      "    ['One line only']\n",
      "    split_lines('First line\\n\\nThird line')\n",
      "    ['First line', '', 'Third line']\n",
      "    '''"
     ],
     "language": "python",
     "metadata": {},
     "outputs": [],
     "prompt_number": 32
    },
    {
     "cell_type": "markdown",
     "metadata": {},
     "source": [
      "6.2: join_lines(list_lines)\n",
      "-------\n",
      "\n",
      "Given a list of line strings, return the a string containing the lines separated by the newline character '\\n'\n",
      "\n",
      "<span style=\"text-decoration:underline\" title=\"\n",
      "- You can use the .join() string method\">Hints</span>"
     ]
    },
    {
     "cell_type": "code",
     "collapsed": false,
     "input": [
      "def join_lines(list_lines):\n",
      "    '''\n",
      "    >>> join_lines(['First line', 'Second line'])\n",
      "    'First line\\nSecond line'\n",
      "    >>> join_lines(['One line only'])\n",
      "    'One line only'\n",
      "    >>> join_lines(['First line', '', 'Third line'])\n",
      "    'First line\\n\\nThird line'\n",
      "    '''"
     ],
     "language": "python",
     "metadata": {},
     "outputs": []
    },
    {
     "cell_type": "markdown",
     "metadata": {},
     "source": [
      "6.3: clean_line(line_string)\n",
      "---------------------------\n",
      "\n",
      "Given a string *line_string* return a string with the first and last word (where word is just a set of symbols with no spaces) of the line ommited\n",
      "<span style=\"text-decoration:underline\" title=\"- If you had a list of the word strings how could you make a new list containing only the second through to the second to last word? \">Hints</span>"
     ]
    },
    {
     "cell_type": "code",
     "collapsed": false,
     "input": [
      "def clean_line(line_string):\n",
      "    '''\n",
      "    >>> clean_line(First Second Third)\n",
      "    'Second'\n",
      "    >>> clean_line(First Second)\n",
      "    ''\n",
      "    >>> clean_line('1. 1 2 3 \\n')\n",
      "    '1 2 3'\n",
      "    '''"
     ],
     "language": "python",
     "metadata": {},
     "outputs": []
    },
    {
     "cell_type": "markdown",
     "metadata": {},
     "source": [
      "6.4: word_extractor(line_string, indices)\n",
      "-----------------------------------------\n",
      "\n",
      "Given a string *line_string* and list of integers *indices*, return a string containing the words specified by indices \n",
      "\n",
      "\n",
      "<span style=\"text-decoration:underline\" title=\"Use the previous exercises as a guide\">Hints</span>"
     ]
    },
    {
     "cell_type": "code",
     "collapsed": false,
     "input": [
      "def word_extractor(line_string, indices):\n",
      "    '''\n",
      "    >>> word_extractor('Zero one two three four five six', [0,1,2])\n",
      "    'Zero one two'\n",
      "    >>> word_extractor('1. H 0.0 0.0 0.0 Flag1', [1,2,3,4])\n",
      "    'H 0.0 0.0 0.0'\n",
      "    >>> word_extractor('Python is a dynamic programming language', [0,1,2,-1])\n",
      "    'Python is a language'\n",
      "    '''"
     ],
     "language": "python",
     "metadata": {},
     "outputs": []
    },
    {
     "cell_type": "markdown",
     "metadata": {},
     "source": [
      "Exercise 7\n",
      "============================ "
     ]
    },
    {
     "cell_type": "markdown",
     "metadata": {},
     "source": [
      "7.1 print_file(file_name)\n",
      "-----------------------\n",
      "\n",
      "Given a string, file_name, that corresponds to a txt file in the notebooks directory print out the contents of that file. (As your function is printing rather than returning the file contents the docstring lists None as the return value)\n",
      "\n",
      "<span style=\"text-decoration:underline\" title=\"How do you open file and read its contents to a string?\n",
      "Remember to close the file!\">Hints</span>"
     ]
    },
    {
     "cell_type": "code",
     "collapsed": false,
     "input": [
      "def print_file(file_name):\n",
      "    '''\n",
      "    >>> print_file('test_file1.txt')\n",
      "    None\n",
      "    >>> print_file('test_file2.txt')\n",
      "    None\n",
      "    '''"
     ],
     "language": "python",
     "metadata": {},
     "outputs": []
    },
    {
     "cell_type": "markdown",
     "metadata": {},
     "source": [
      "7.2: square_list(list_ints)\n",
      "------------------------------\n",
      "\n",
      "Given a list of integers return another list containing the squared elements of the original list\n",
      "\n",
      "<span style=\"text-decoration:underline\" title=\"- Remember you can create an empty list and add to it with the .append() method. \n",
      "- A 'for' loop should help you go through the original list\">Hints</span>"
     ]
    },
    {
     "cell_type": "code",
     "collapsed": false,
     "input": [
      "def square_list(list_ints):\n",
      "    '''\n",
      "    >>> square_list([0,1])\n",
      "    [0,1]\n",
      "    >>> square_list([1,3,5])\n",
      "    [1,9,25]\n",
      "    >>> square_list([-1,-2,-3])\n",
      "    [1,4,9]\n",
      "    '''"
     ],
     "language": "python",
     "metadata": {},
     "outputs": []
    },
    {
     "cell_type": "markdown",
     "metadata": {},
     "source": [
      "7.3: write_squares(list_ints, file_name)\n",
      "----------------------\n",
      "\n",
      "Given a list of integers list_ints and a string file_name corresponding to a file in the local directory, write the squares of the integers follow by a space to the file.\n",
      "\n",
      "If list_ints was [1,2,3,4,5] opening the file produced should show you:\n",
      "\n",
      "1 4 9 16 25\n",
      "\n",
      "<span style=\"text-decoration:underline\" title=\" -You'll need to create a string containing the squared digits then write it to the file.\n",
      "- Remember to close the file!\">Hints</span>"
     ]
    },
    {
     "cell_type": "code",
     "collapsed": false,
     "input": [
      "def write_squares(list_ints, file_name):\n",
      "    '''\n",
      "    >>> write_squares([0,1,2,3], 'squares_1.txt')\n",
      "    None\n",
      "    >>> write_squares([-1,1,2], 'squares_2.txt')\n",
      "    None\n",
      "    >>> write_squares([0,0,2,3], 'squares_3.txt')\n",
      "    None\n",
      "    '''"
     ],
     "language": "python",
     "metadata": {},
     "outputs": []
    },
    {
     "cell_type": "markdown",
     "metadata": {},
     "source": [
      "7.4: read_squares(file_name)\n",
      "------------------------------\n",
      "\n",
      "Given a string, file_name, corresponding to a file containing integers return a list containing the square of those integers.\n",
      "\n",
      "<span style=\"text-decoration:underline\" title=\"- How d you read the contents of a file as a string?\n",
      "- How do you split a string into a list of strings give a separator string?\n",
      "- You can use the in built int() function to turn a string '123' into an integer\">Hints</span>"
     ]
    },
    {
     "cell_type": "code",
     "collapsed": false,
     "input": [
      "def read_squares(file_name):\n",
      "    '''\n",
      "    >>> read_squares('squares_4.txt')\n",
      "    [1,4,9]\n",
      "    >>> read_squares('squares_5.txt')\n",
      "    [1,1,4]\n",
      "    >>> read_squares('squares_6.txt')\n",
      "    [36,1,1,0]\n",
      "    '''"
     ],
     "language": "python",
     "metadata": {},
     "outputs": []
    },
    {
     "cell_type": "markdown",
     "metadata": {},
     "source": [
      "Exercises 8\n",
      "================"
     ]
    },
    {
     "cell_type": "markdown",
     "metadata": {},
     "source": [
      "8.1: chars_before_comma(line_string)\n",
      "---------------------------\n",
      "\n",
      "Given a string containing a line of text return the number of characters before the first comma in the string\n",
      "\n",
      "<span style=\"text-decoration:underline\" title=\"There are a couple of ways to tackle this one:\n",
      "- You could loop through the string and count all the characters then return the counter at the appropriate point\n",
      "- You could try and find some way of combining the .split() method and the len() function\">Hints</span>"
     ]
    },
    {
     "cell_type": "code",
     "collapsed": false,
     "input": [
      "def chars_before_comma(line_string):\n",
      "    '''\n",
      "    >>> chars_before_comma('This a particularly dull sentence, why did they put it in this notebook?')\n",
      "    33\n",
      "    >>> chars_before_comma('To be, or not to be, that is the question\u2014\\nWhether 'tis Nobler in the mind to suffer\\nThe Slings and Arrows of outrageous Fortune,\\nOr to take Arms against a Sea of troubles,\\nAnd by opposing end them?')\n",
      "    5\n",
      "   '''"
     ],
     "language": "python",
     "metadata": {},
     "outputs": []
    },
    {
     "cell_type": "markdown",
     "metadata": {},
     "source": [
      "8.2: null_vector(vec_length)\n",
      "============================\n",
      "\n",
      "Given an integer *vec_length* return a numpy array of zeros of length vec_length\n",
      "\n",
      "<span style=\"text-decoration:underline\" title=\"One of the functions inside numpy does what we want\">Hints</span>"
     ]
    },
    {
     "cell_type": "code",
     "collapsed": false,
     "input": [
      "def null_vector(vec_length):\n",
      "    '''\n",
      "    >>> null_vector(1)\n",
      "    array([ 0.])\n",
      "    >>> null_vector(2)\n",
      "    array([ 0.,  0.])\n",
      "    >>> null_vector(4)\n",
      "    array([ 0.,  0., 0., 0.])\n",
      "   '''"
     ],
     "language": "python",
     "metadata": {},
     "outputs": []
    },
    {
     "cell_type": "markdown",
     "metadata": {},
     "source": [
      "8.3: checkboard()\n",
      "=================\n",
      "\n",
      "Create a 4x4 numpy matrix with a checkboard pattern of alternating ones and zeros\n",
      "\n",
      "<span style=\"text-decoration:underline\" title=\"You can create a starting matrix full of zeros with the np.zeros() function, and then access it like a list of lists\">Hints</span>"
     ]
    },
    {
     "cell_type": "code",
     "collapsed": false,
     "input": [
      "def checkboard():\n",
      "    '''\n",
      "    >>> checkboard()\n",
      "    array([[ 0.,  1.,  0.,  1.],\n",
      "       [ 1.,  0.,  1.,  0.],\n",
      "       [ 0.,  1.,  0.,  1.],\n",
      "       [ 1.,  0.,  1.,  0.]])\n",
      "    '''"
     ],
     "language": "python",
     "metadata": {},
     "outputs": []
    },
    {
     "cell_type": "markdown",
     "metadata": {},
     "source": [
      "8.4: matrix_from_lists(list_1, list_2, list_3)\n",
      "=================\n",
      "\n",
      "From a 3 lists of numbers return a numpy matrix where list_1, list_2 and list_3 are row vectors of the matrix.\n",
      "\n",
      "<span style=\"text-decoration:underline\" title=\"- The np.array() functions turns a list into a vector and a list of lists into a matrix\">Hints</span>"
     ]
    },
    {
     "cell_type": "code",
     "collapsed": false,
     "input": [
      "def matrix_from_lists(a,b,c):\n",
      "    '''\n",
      "    >>>matrix_from_lists([0,1],[0,1],[0,1])\n",
      "    array([[0, 1],[0, 1],[0, 1]])\n",
      "    >>>matrix_from_lists([0,1],[0,1]])\n",
      "    array([[0, 1],[0, 1]])\n",
      "    >>>matrix_from_lists([0,0,0],[1,1,1],[2,2,2])\n",
      "    array([[0, 0, 0],[1, 1, 1],[2, 2, 2]])\n",
      "    '''"
     ],
     "language": "python",
     "metadata": {},
     "outputs": []
    },
    {
     "cell_type": "markdown",
     "metadata": {},
     "source": [
      "9.1: gen_poly(x, a ,b, c)\n",
      "===============\n",
      "\n",
      "Given an array of numbers x and parameters, a, b and c return a new array containing ax^2 + bx + c\n",
      "\n",
      "<span style=\"text-decoration:underline\" title=\"\n",
      "- You don't need to loop through the individual elements\n",
      "- Arrays can be multiplied, divided, added and subtracted to directly.\">Hints</span>"
     ]
    },
    {
     "cell_type": "code",
     "collapsed": false,
     "input": [
      "gen_poly(x, a, b, c):\n",
      "    '''\n",
      "    >>>gen_poly(np.linspace(1,10,10), 1, 1, 0)\n",
      "    array([   2.,    6.,   12.,   20.,   30.,   42.,   56.,   72.,   90.,  110.])\n",
      "    >>>gen_poly(np.linspace(1,10,10), 2, 1, 0)\n",
      "    array([   3.,   10.,   21.,   36.,   55.,   78.,  105.,  136.,  171.,  210.])\n",
      "    >>>gen_poly(np.linspace(0,1,5), 1, 5, 5)\n",
      "    array([  5.    ,   6.3125,   7.75  ,   9.3125,  11.    ])\n",
      "    '''"
     ],
     "language": "python",
     "metadata": {},
     "outputs": []
    },
    {
     "cell_type": "markdown",
     "metadata": {},
     "source": [
      "9.2: fit_poly(x,y)\n",
      "===========\n",
      "\n",
      "Given an array of initial data x, and transformed data y, return the parameters that fit a 2d polynomial to y(x).\n",
      "\n",
      "We haven't covered this in the workshop but there is a numpy function that does just what we want, take a look at [polyfit](http://docs.scipy.org/doc/numpy/reference/generated/numpy.polyfit.html). There are quite a lot of different arguments that polyfit function can take but you will only need to use the first three.\n",
      "\n",
      "<span style=\"text-decoration:underline\" title=\"\n",
      "- - Remember here we've imported numpy as 'np' not 'numpy'\">Hints</span>"
     ]
    },
    {
     "cell_type": "code",
     "collapsed": false,
     "input": [
      "def fit_poly(x,y):\n",
      "    '''\n",
      "    >>>fit_poly( np.linspace(1,10,10), gen_poly(np.linspace(1,10,10), 1, 1, 0) )\n",
      "    array([ 1.,  1.,  0.])\n",
      "    >>>fit_poly( np.linspace(1,10,10), gen_poly(np.linspace(1,10,10), 2, 1, 0) )\n",
      "    array([ 2.,  1.,  0.])\n",
      "    >>>fit_poly( np.linspace(1,10,10), gen_poly(np.linspace(1,10,10), 3, 1, 1) )\n",
      "    array([ 3.,  1.,  1.])\n",
      "    '''"
     ],
     "language": "python",
     "metadata": {},
     "outputs": []
    },
    {
     "cell_type": "markdown",
     "metadata": {},
     "source": [
      "9.3: plot_data(x, a, b, c)\n",
      "==================\n",
      "\n",
      "Given an array of numbers x, and parameters a,b and c plot the function f(x) against x where f(x) = ax^2 + bx + c\n",
      "\n",
      "An example image is: <img src=files/poly.png height=400 width=400></img>\n",
      "\n",
      "<span style=\"text-decoration:underline\" title=\"\n",
      "- Use your previous solution together with the plotting function we used in the workshop\">Hints</span>"
     ]
    },
    {
     "cell_type": "code",
     "collapsed": false,
     "input": [
      "def plot_data(x,a,b,c):\n",
      "    '''\n",
      "    >>> plot_data(np.linspace(1,10,100), 1, 1, 0)\n",
      "    None\n",
      "    '''"
     ],
     "language": "python",
     "metadata": {},
     "outputs": []
    },
    {
     "cell_type": "markdown",
     "metadata": {},
     "source": [
      "9.4: multi_plot_data(x, a, b, c) (optional)\n",
      "==============================\n",
      "\n",
      "Given an array of numbers x and parameters a,b,c. \n",
      "\n",
      "Generate data corresponding to f(x) = ax^2 + bx + c. \n",
      "\n",
      "Add some random noise to the resulting data using [np.random.normal](http://docs.scipy.org/doc/numpy/reference/generated/numpy.random.normal.html).\n",
      "\n",
      "Fit a polynomial to the noisy data.\n",
      "\n",
      "Generate new data for the fitted polynomial.\n",
      "\n",
      "Plot the data for the fitted polynomial.\n",
      "\n",
      "Add the noisy data to the plot\n",
      "\n",
      "If you get in trouble try looking at the information for functions involved by using the question mark operation. E.g. execute in a cell execute 'plot?'\n",
      "\n",
      "An example image is:  <img src=files/poly_2.png height=400 width=400></img>\n",
      "\n",
      "\n",
      "<span style=\"text-decoration:underline\" title=\"\n",
      "- If your noise is too large you will get a bad fit, if it's too small it won't be noticeable, a max noise value of about 1/30th of the largest value of f(x) seems to work pretty well.\n",
      "- If you add the argument 'ro' to the plot function you will plot units rather than lines\n",
      "- This is pretty advanced and requires you to look stuff you haven't covered already so don't worry if you quite manage it. If you're interested in how it works find a demonstrator.\">Hints</span>"
     ]
    },
    {
     "cell_type": "code",
     "collapsed": false,
     "input": [
      "def multi_plot_data(x,a,b,c):\n",
      "    '''\n",
      "    >>>multi_plot_data(np.linspace(1,10,100), 1, 1, 0)\n",
      "    None\n",
      "    '''"
     ],
     "language": "python",
     "metadata": {},
     "outputs": []
    }
   ],
   "metadata": {}
  }
 ]
}