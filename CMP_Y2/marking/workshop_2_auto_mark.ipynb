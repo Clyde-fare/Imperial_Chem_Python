{
 "metadata": {
  "name": ""
 },
 "nbformat": 3,
 "nbformat_minor": 0,
 "worksheets": [
  {
   "cells": [
    {
     "cell_type": "markdown",
     "metadata": {},
     "source": [
      "Marking cells bellow:\n",
      "Exercise 7.1 prints."
     ]
    },
    {
     "cell_type": "code",
     "collapsed": false,
     "input": [
      "from ipython_doctester import test\n",
      "import pickle\n",
      "function_names = ['split_lines', 'join_lines', 'clean_line', 'square_list',\n",
      "            'chars_before_comma', 'null_vector', 'checkboard',\n",
      "            'gen_poly']\n",
      "bonus_function_names = ['word_extractor', 'read_squares',\n",
      "                        'matrix_from_lists']\n",
      "\n",
      "\n",
      "\n",
      "#in case they've messed with the docstrings we read them in from a pickled list of the correct doc strings\n",
      "with open('ex_2_doc_strs.pkl') as doc_f:\n",
      "    fn_doc_strings = pickle.load(doc_f)\n",
      "\n",
      "with open('ex_2_bonus_doc_strs.pkl') as doc_f:\n",
      "    bonus_fn_doc_strings = pickle.load(doc_f)\n",
      "\n",
      "for fn,doc_str in zip(function_names,fn_doc_strings):\n",
      "    globals()[fn].__doc__ = doc_str\n",
      "\n",
      "for fn,doc_str in zip(bonus_function_names,bonus_fn_doc_strings):\n",
      "    globals()[fn].__doc__ = doc_str\n",
      "\n",
      "failed_functions, failed_bonus_functions = [], []\n",
      "passed, failed = 0,0\n",
      "\n",
      "for f_nm in function_names:\n",
      "    print(f_nm)\n",
      "    f = globals()[f_nm]\n",
      "    if not test(f).failed:\n",
      "        passed+=1\n",
      "    else:\n",
      "        failed_functions.append(f_nm)\n",
      "        failed+=1\n",
      "\n",
      "passed_bonus, failed_bonus = 0,0\n",
      "for f_nm in bonus_function_names:\n",
      "    print(f_nm)\n",
      "    f = globals()[f_nm]\n",
      "    if not test(f).failed:\n",
      "        passed_bonus+=1\n",
      "    else:\n",
      "        failed_bonus_functions.append(f_nm)\n",
      "        failed_bonus+=1\n",
      "\n",
      "print('Failed_functions: {}'.format(failed_functions))\n",
      "print('Failed_bonus_functions: {}'.format(failed_bonus_functions))\n",
      "print('Passed {}, Failed {}, Passed_bonus {}, Failed_bonus {}'.format(passed,failed,passed_bonus,failed_bonus))    "
     ],
     "language": "python",
     "metadata": {},
     "outputs": []
    },
    {
     "cell_type": "raw",
     "metadata": {},
     "source": [
      "Check print_file prints not returns a string."
     ]
    },
    {
     "cell_type": "code",
     "collapsed": false,
     "input": [
      "print_file('test_1')\n",
      "print_file('test_2')    "
     ],
     "language": "python",
     "metadata": {},
     "outputs": [],
     "prompt_number": 7
    },
    {
     "cell_type": "raw",
     "metadata": {},
     "source": [
      "Does write_squares work ?"
     ]
    },
    {
     "cell_type": "code",
     "collapsed": false,
     "input": [
      "write_squares([0,1,2,3], 'squares_1.txt')\n",
      "f = open('squares_1.txt', 'r')\n",
      "if f.readlines() == ['0 1 4 9'] : print 'yes'\n",
      "f.close"
     ],
     "language": "python",
     "metadata": {},
     "outputs": []
    },
    {
     "cell_type": "code",
     "collapsed": false,
     "input": [
      "fit_poly( np.linspace(1,10,10), gen_poly(np.linspace(1,10,10), 1, 1, 0)) #== array([ 1.,  1.,  0.])"
     ],
     "language": "python",
     "metadata": {},
     "outputs": [],
     "prompt_number": 7
    },
    {
     "cell_type": "code",
     "collapsed": false,
     "input": [
      "fit_poly( np.linspace(1,10,10), gen_poly(np.linspace(1,10,10), 2, 1, 0) ) #== array([ 2.,  1.,  0.])"
     ],
     "language": "python",
     "metadata": {},
     "outputs": [],
     "prompt_number": 7
    },
    {
     "cell_type": "code",
     "collapsed": false,
     "input": [
      "fit_poly( np.linspace(1,10,10), gen_poly(np.linspace(1,10,10), 3, 1, 1)) #== array([ 3.,  1.,  1.])"
     ],
     "language": "python",
     "metadata": {},
     "outputs": [],
     "prompt_number": 7
    },
    {
     "cell_type": "raw",
     "metadata": {},
     "source": [
      "Does plot data plot the right thing."
     ]
    },
    {
     "cell_type": "code",
     "collapsed": false,
     "input": [
      "plot_data(np.linspace(1,10,100), 1, 1, 0)"
     ],
     "language": "python",
     "metadata": {},
     "outputs": [],
     "prompt_number": 7
    },
    {
     "cell_type": "raw",
     "metadata": {},
     "source": [
      "Does multiplot plot data plot the right thing."
     ]
    },
    {
     "cell_type": "code",
     "collapsed": false,
     "input": [
      "multi_plot_data(np.linspace(1,10,100), 1, 1, 0)"
     ],
     "language": "python",
     "metadata": {},
     "outputs": [],
     "prompt_number": 7
    }
   ],
   "metadata": {}
  }
 ]
}